{
 "cells": [
  {
   "cell_type": "markdown",
   "source": [
    "# Flux sampling\n",
    "\n",
    "Flux sampling gives an interesting statistical insight into the behavior of\n",
    "the model in the optimal feasible space, and the general \"shape\" of the\n",
    "optimal- or near-optimal set of feasible states of a given model."
   ],
   "metadata": {}
  },
  {
   "cell_type": "markdown",
   "source": [
    "For demonstration, we need the usual packages and models:"
   ],
   "metadata": {}
  },
  {
   "outputs": [
    {
     "name": "stdout",
     "output_type": "stream",
     "text": [
      "[ Info: using cached `e_coli_core.json'\n"
     ]
    },
    {
     "output_type": "execute_result",
     "data": {
      "text/plain": "JSONFBCModels.JSONFBCModel(#= 95 reactions, 72 metabolites =#)"
     },
     "metadata": {},
     "execution_count": 1
    }
   ],
   "cell_type": "code",
   "source": [
    "using COBREXA\n",
    "\n",
    "download_model(\n",
    "    \"http://bigg.ucsd.edu/static/models/e_coli_core.json\",\n",
    "    \"e_coli_core.json\",\n",
    "    \"7bedec10576cfe935b19218dc881f3fb14f890a1871448fc19a9b4ee15b448d8\",\n",
    ")\n",
    "\n",
    "import JSONFBCModels, HiGHS\n",
    "\n",
    "model = load_model(\"e_coli_core.json\")"
   ],
   "metadata": {},
   "execution_count": 1
  },
  {
   "cell_type": "markdown",
   "source": [
    "Function `flux_sample` uses linear optimization to generate a set of\n",
    "warm-up points (by default, the method to generate the warm-up is basically\n",
    "FVA), and then runs the hit-and-run flux sampling algorithm on the\n",
    "near-optimal feasible space of the model:"
   ],
   "metadata": {}
  },
  {
   "outputs": [
    {
     "output_type": "execute_result",
     "data": {
      "text/plain": "ConstraintTrees.Tree{Vector{Float64}} with 95 elements:\n  :ACALD                    => [-0.0137556, -0.0133333, -0.0130116, -0.0153838,…\n  :ACALDt                   => [-0.00663392, -0.00566817, -0.00580783, -0.00798…\n  :ACKr                     => [-0.0163895, -0.0226486, -0.0212253, -0.016967, …\n  :ACONTa                   => [6.12211, 6.13592, 6.10407, 6.03252, 6.03703, 6.…\n  :ACONTb                   => [6.12211, 6.13592, 6.10407, 6.03252, 6.03703, 6.…\n  :ACt2r                    => [-0.0163895, -0.0226486, -0.0212253, -0.016967, …\n  :ADK1                     => [0.0183218, 0.0171066, 0.0244652, 0.015682, 0.01…\n  :AKGDH                    => [4.71038, 4.77656, 4.65338, 4.437, 4.74947, 4.69…\n  :AKGt2r                   => [-0.00309861, -0.00291322, -0.00228651, -0.00224…\n  :ALCD2x                   => [-0.00712164, -0.00766513, -0.00720373, -0.00739…\n  :ATPM                     => [8.43179, 8.42678, 8.43259, 8.43096, 8.42135, 8.…\n  :ATPS4r                   => [45.113, 45.0344, 45.1178, 45.2583, 45.0314, 45.…\n  :BIOMASS_Ecoli_core_w_GAM => [0.865628, 0.865615, 0.865576, 0.865655, 0.86552…\n  :CO2t                     => [-22.9207, -22.9118, -22.9295, -22.9404, -22.801…\n  :CS                       => [6.12211, 6.13592, 6.10407, 6.03252, 6.03703, 6.…\n  :CYTBD                    => [43.8861, 43.869, 43.9022, 43.9216, 43.6385, 43.…\n  :D_LACt2                  => [-0.014103, -0.0122145, -0.0124004, -0.0139404, …\n  :ENO                      => [14.808, 14.8252, 14.7902, 14.7176, 14.7971, 14.…\n  :ETOHt2r                  => [-0.00712164, -0.00766513, -0.00720373, -0.00739…\n  ⋮                         => ⋮"
     },
     "metadata": {},
     "execution_count": 2
    }
   ],
   "cell_type": "code",
   "source": [
    "s = flux_sample(\n",
    "    model,\n",
    "    optimizer = HiGHS.Optimizer,\n",
    "    objective_bound = relative_tolerance_bound(0.99),\n",
    "    n_chains = 2,\n",
    "    collect_iterations = [10],\n",
    ")"
   ],
   "metadata": {},
   "execution_count": 2
  },
  {
   "cell_type": "markdown",
   "source": [
    "The result is a tree of vectors of sampled states for each value; the order\n",
    "of the values in these vectors is fixed. You can thus e.g. create a good\n",
    "matrix for plotting the sample as 2D scatterplot:"
   ],
   "metadata": {}
  },
  {
   "outputs": [
    {
     "output_type": "execute_result",
     "data": {
      "text/plain": "380×2 Matrix{Float64}:\n 21.943   -22.9207\n 21.9345  -22.9118\n 21.9511  -22.9295\n 21.9608  -22.9404\n 21.8192  -22.8019\n 21.9516  -22.9302\n 21.9132  -22.8859\n 21.9173  -22.8945\n 21.9316  -22.9153\n 21.9957  -22.9714\n  ⋮       \n 21.9412  -22.8939\n 21.9646  -22.9237\n 21.9516  -22.9042\n 21.9377  -22.907\n 22.036   -23.0209\n 21.9428  -22.8957\n 21.9078  -22.8497\n 21.9454  -22.8984\n 21.9469  -22.8937"
     },
     "metadata": {},
     "execution_count": 3
    }
   ],
   "cell_type": "code",
   "source": [
    "[s.O2t s.CO2t]"
   ],
   "metadata": {},
   "execution_count": 3
  },
  {
   "cell_type": "markdown",
   "source": [
    "---\n",
    "\n",
    "*This notebook was generated using [Literate.jl](https://github.com/fredrikekre/Literate.jl).*"
   ],
   "metadata": {}
  }
 ],
 "nbformat_minor": 3,
 "metadata": {
  "language_info": {
   "file_extension": ".jl",
   "mimetype": "application/julia",
   "name": "julia",
   "version": "1.9.4"
  },
  "kernelspec": {
   "name": "julia-1.9",
   "display_name": "Julia 1.9.4",
   "language": "julia"
  }
 },
 "nbformat": 4
}
