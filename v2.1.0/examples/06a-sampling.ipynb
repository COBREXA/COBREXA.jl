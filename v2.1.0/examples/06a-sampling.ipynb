{
 "cells": [
  {
   "cell_type": "markdown",
   "source": [
    "# Flux sampling\n",
    "\n",
    "Flux sampling gives an interesting statistical insight into the behavior of\n",
    "the model in the optimal feasible space, and the general \"shape\" of the\n",
    "optimal- or near-optimal set of feasible states of a given model."
   ],
   "metadata": {}
  },
  {
   "cell_type": "markdown",
   "source": [
    "For demonstration, we need the usual packages and models:"
   ],
   "metadata": {}
  },
  {
   "outputs": [
    {
     "name": "stdout",
     "output_type": "stream",
     "text": [
      "[ Info: using cached `e_coli_core.json'\n"
     ]
    },
    {
     "output_type": "execute_result",
     "data": {
      "text/plain": "JSONFBCModels.JSONFBCModel(#= 95 reactions, 72 metabolites =#)"
     },
     "metadata": {},
     "execution_count": 1
    }
   ],
   "cell_type": "code",
   "source": [
    "using COBREXA\n",
    "\n",
    "download_model(\n",
    "    \"http://bigg.ucsd.edu/static/models/e_coli_core.json\",\n",
    "    \"e_coli_core.json\",\n",
    "    \"7bedec10576cfe935b19218dc881f3fb14f890a1871448fc19a9b4ee15b448d8\",\n",
    ")\n",
    "\n",
    "import JSONFBCModels, GLPK\n",
    "\n",
    "model = load_model(\"e_coli_core.json\")"
   ],
   "metadata": {},
   "execution_count": 1
  },
  {
   "cell_type": "markdown",
   "source": [
    "Function `flux_sample` uses linear optimization to generate a set of\n",
    "warm-up points (by default, the method to generate the warm-up is basically\n",
    "FVA), and then runs the hit-and-run flux sampling algorithm on the\n",
    "near-optimal feasible space of the model:"
   ],
   "metadata": {}
  },
  {
   "outputs": [
    {
     "output_type": "execute_result",
     "data": {
      "text/plain": "ConstraintTrees.Tree{Vector{Float64}} with 95 elements:\n  :ACALD                    => [-0.0125645, -0.0147659, -0.020258, -0.0112488, …\n  :ACALDt                   => [-0.00477937, -0.00450358, -0.0117453, -0.003968…\n  :ACKr                     => [-0.0203379, -0.0156416, -0.014732, -0.0144574, …\n  :ACONTa                   => [6.10909, 6.37156, 6.08726, 6.16479, 6.16223, 6.…\n  :ACONTb                   => [6.10909, 6.37156, 6.08726, 6.16479, 6.16223, 6.…\n  :ACt2r                    => [-0.0203379, -0.0156416, -0.014732, -0.0144574, …\n  :ADK1                     => [0.0677924, 0.0694969, 0.0437411, 0.0751251, 0.1…\n  :AKGDH                    => [4.75337, 5.39633, 4.72349, 4.8996, 4.94248, 5.2…\n  :AKGt2r                   => [-0.00193238, -0.00211685, -0.00227019, -0.00225…\n  :ALCD2x                   => [-0.00778513, -0.0102624, -0.00851271, -0.007279…\n  :ATPM                     => [8.4163, 8.41393, 8.40622, 8.42307, 8.43339, 8.4…\n  :ATPS4r                   => [45.1952, 44.7099, 45.1678, 45.1093, 45.1401, 44…\n  :BIOMASS_Ecoli_core_w_GAM => [0.865829, 0.866132, 0.865939, 0.865843, 0.86561…\n  :CO2t                     => [-22.925, -22.874, -22.9149, -22.9185, -22.8989,…\n  :CS                       => [6.10909, 6.37156, 6.08726, 6.16479, 6.16223, 6.…\n  :CYTBD                    => [43.901, 43.8306, 43.8806, 43.9116, 43.8725, 43.…\n  :D_LACt2                  => [-0.00737617, -0.00704161, -0.00666806, -0.00586…\n  :ENO                      => [14.7913, 15.0551, 14.7708, 14.8394, 14.8545, 15…\n  :ETOHt2r                  => [-0.00778513, -0.0102624, -0.00851271, -0.007279…\n  ⋮                         => ⋮"
     },
     "metadata": {},
     "execution_count": 2
    }
   ],
   "cell_type": "code",
   "source": [
    "s = flux_sample(\n",
    "    model,\n",
    "    optimizer = GLPK.Optimizer,\n",
    "    objective_bound = relative_tolerance_bound(0.99),\n",
    "    n_chains = 2,\n",
    "    collect_iterations = [10],\n",
    ")"
   ],
   "metadata": {},
   "execution_count": 2
  },
  {
   "cell_type": "markdown",
   "source": [
    "The result is a tree of vectors of sampled states for each value; the order\n",
    "of the values in these vectors is fixed. You can thus e.g. create a good\n",
    "matrix for plotting the sample as 2D scatterplot:"
   ],
   "metadata": {}
  },
  {
   "outputs": [
    {
     "output_type": "execute_result",
     "data": {
      "text/plain": "380×2 Matrix{Float64}:\n 21.9505  -22.925\n 21.9153  -22.874\n 21.9403  -22.9149\n 21.9558  -22.9185\n 21.9362  -22.8989\n 21.934   -22.8999\n 22.0728  -23.0508\n 21.9446  -22.9125\n 21.9291  -22.8993\n 21.935   -22.9076\n  ⋮       \n 21.9638  -22.9432\n 21.9611  -22.9303\n 21.9353  -22.9129\n 21.9648  -22.9286\n 21.9196  -22.8986\n 21.9402  -22.9176\n 21.8889  -22.8552\n 21.9212  -22.8913\n 21.965   -22.9369"
     },
     "metadata": {},
     "execution_count": 3
    }
   ],
   "cell_type": "code",
   "source": [
    "[s.O2t s.CO2t]"
   ],
   "metadata": {},
   "execution_count": 3
  },
  {
   "cell_type": "markdown",
   "source": [
    "---\n",
    "\n",
    "*This notebook was generated using [Literate.jl](https://github.com/fredrikekre/Literate.jl).*"
   ],
   "metadata": {}
  }
 ],
 "nbformat_minor": 3,
 "metadata": {
  "language_info": {
   "file_extension": ".jl",
   "mimetype": "application/julia",
   "name": "julia",
   "version": "1.9.4"
  },
  "kernelspec": {
   "name": "julia-1.9",
   "display_name": "Julia 1.9.4",
   "language": "julia"
  }
 },
 "nbformat": 4
}
