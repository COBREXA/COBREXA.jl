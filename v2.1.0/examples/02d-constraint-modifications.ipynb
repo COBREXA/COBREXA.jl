{
 "cells": [
  {
   "cell_type": "markdown",
   "source": [
    "# Making adjustments to the constraint system\n",
    "\n",
    "In the [previous example about model\n",
    "adjustments](02c-model-modifications.md), we noted that some constraint\n",
    "systems may be too complex to be changed within the limits of the usual FBC\n",
    "model view, and we may require a sharper tool to do the changes we need. This\n",
    "example shows how to do that by modifying the constraint systems that are\n",
    "generated within COBREXA to represent the metabolic model contents."
   ],
   "metadata": {}
  },
  {
   "outputs": [
    {
     "name": "stdout",
     "output_type": "stream",
     "text": [
      "[ Info: using cached `e_coli_core.json'\n"
     ]
    },
    {
     "output_type": "execute_result",
     "data": {
      "text/plain": "JSONFBCModels.JSONFBCModel(#= 95 reactions, 72 metabolites =#)"
     },
     "metadata": {},
     "execution_count": 1
    }
   ],
   "cell_type": "code",
   "source": [
    "using COBREXA\n",
    "\n",
    "download_model(\n",
    "    \"http://bigg.ucsd.edu/static/models/e_coli_core.json\",\n",
    "    \"e_coli_core.json\",\n",
    "    \"7bedec10576cfe935b19218dc881f3fb14f890a1871448fc19a9b4ee15b448d8\",\n",
    ")\n",
    "\n",
    "import JSONFBCModels\n",
    "import GLPK\n",
    "\n",
    "model = load_model(\"e_coli_core.json\") # flux balance type model"
   ],
   "metadata": {},
   "execution_count": 1
  },
  {
   "cell_type": "markdown",
   "source": [
    "## Background: Constraint trees"
   ],
   "metadata": {}
  },
  {
   "cell_type": "markdown",
   "source": [
    "COBREXA uses [ConstraintTrees](https://github.com/COBREXA/ConstraintTrees.jl)\n",
    "to represent model structures internally. This framework provides a powerful\n",
    "unified interface over all constraints and variables in the model, making its\n",
    "manipulation much more convenient."
   ],
   "metadata": {}
  },
  {
   "outputs": [],
   "cell_type": "code",
   "source": [
    "import ConstraintTrees as C"
   ],
   "metadata": {},
   "execution_count": 2
  },
  {
   "cell_type": "markdown",
   "source": [
    "In general, constraint-based models use fluxes as variables, and all the\n",
    "constraints are in terms of them (or derived quantities). We can get a\n",
    "constraint tree for the usual flux-balance-style models quite easily:"
   ],
   "metadata": {}
  },
  {
   "outputs": [
    {
     "output_type": "execute_result",
     "data": {
      "text/plain": "ConstraintTrees.Tree{ConstraintTrees.Constraint} with 4 elements:\n  :coupling           => ConstraintTrees.Tree{ConstraintTrees.Constraint}(#= 0 …\n  :flux_stoichiometry => ConstraintTrees.Tree{ConstraintTrees.Constraint}(#= 72…\n  :fluxes             => ConstraintTrees.Tree{ConstraintTrees.Constraint}(#= 95…\n  :objective          => ConstraintTrees.Constraint(ConstraintTrees.LinearValue…"
     },
     "metadata": {},
     "execution_count": 3
    }
   ],
   "cell_type": "code",
   "source": [
    "ct = flux_balance_constraints(model)"
   ],
   "metadata": {},
   "execution_count": 3
  },
  {
   "cell_type": "markdown",
   "source": [
    "The fluxes are represented by constraints for individual variables:"
   ],
   "metadata": {}
  },
  {
   "outputs": [
    {
     "output_type": "execute_result",
     "data": {
      "text/plain": "ConstraintTrees.Tree{ConstraintTrees.Constraint} with 95 elements:\n  :ACALD                    => ConstraintTrees.Constraint(ConstraintTrees.Linea…\n  :ACALDt                   => ConstraintTrees.Constraint(ConstraintTrees.Linea…\n  :ACKr                     => ConstraintTrees.Constraint(ConstraintTrees.Linea…\n  :ACONTa                   => ConstraintTrees.Constraint(ConstraintTrees.Linea…\n  :ACONTb                   => ConstraintTrees.Constraint(ConstraintTrees.Linea…\n  :ACt2r                    => ConstraintTrees.Constraint(ConstraintTrees.Linea…\n  :ADK1                     => ConstraintTrees.Constraint(ConstraintTrees.Linea…\n  :AKGDH                    => ConstraintTrees.Constraint(ConstraintTrees.Linea…\n  :AKGt2r                   => ConstraintTrees.Constraint(ConstraintTrees.Linea…\n  :ALCD2x                   => ConstraintTrees.Constraint(ConstraintTrees.Linea…\n  :ATPM                     => ConstraintTrees.Constraint(ConstraintTrees.Linea…\n  :ATPS4r                   => ConstraintTrees.Constraint(ConstraintTrees.Linea…\n  :BIOMASS_Ecoli_core_w_GAM => ConstraintTrees.Constraint(ConstraintTrees.Linea…\n  :CO2t                     => ConstraintTrees.Constraint(ConstraintTrees.Linea…\n  :CS                       => ConstraintTrees.Constraint(ConstraintTrees.Linea…\n  :CYTBD                    => ConstraintTrees.Constraint(ConstraintTrees.Linea…\n  :D_LACt2                  => ConstraintTrees.Constraint(ConstraintTrees.Linea…\n  :ENO                      => ConstraintTrees.Constraint(ConstraintTrees.Linea…\n  :ETOHt2r                  => ConstraintTrees.Constraint(ConstraintTrees.Linea…\n  ⋮                         => ⋮"
     },
     "metadata": {},
     "execution_count": 4
    }
   ],
   "cell_type": "code",
   "source": [
    "ct.fluxes"
   ],
   "metadata": {},
   "execution_count": 4
  },
  {
   "cell_type": "markdown",
   "source": [
    "The \"mass balance\" is represented as equality constraints:"
   ],
   "metadata": {}
  },
  {
   "outputs": [
    {
     "output_type": "execute_result",
     "data": {
      "text/plain": "ConstraintTrees.Tree{ConstraintTrees.Constraint} with 72 elements:\n  Symbol(\"13dpg_c\") => ConstraintTrees.Constraint(ConstraintTrees.LinearValue(#…\n  Symbol(\"2pg_c\")   => ConstraintTrees.Constraint(ConstraintTrees.LinearValue(#…\n  Symbol(\"3pg_c\")   => ConstraintTrees.Constraint(ConstraintTrees.LinearValue(#…\n  Symbol(\"6pgc_c\")  => ConstraintTrees.Constraint(ConstraintTrees.LinearValue(#…\n  Symbol(\"6pgl_c\")  => ConstraintTrees.Constraint(ConstraintTrees.LinearValue(#…\n  :ac_c             => ConstraintTrees.Constraint(ConstraintTrees.LinearValue(#…\n  :ac_e             => ConstraintTrees.Constraint(ConstraintTrees.LinearValue(#…\n  :acald_c          => ConstraintTrees.Constraint(ConstraintTrees.LinearValue(#…\n  :acald_e          => ConstraintTrees.Constraint(ConstraintTrees.LinearValue(#…\n  :accoa_c          => ConstraintTrees.Constraint(ConstraintTrees.LinearValue(#…\n  :acon_C_c         => ConstraintTrees.Constraint(ConstraintTrees.LinearValue(#…\n  :actp_c           => ConstraintTrees.Constraint(ConstraintTrees.LinearValue(#…\n  :adp_c            => ConstraintTrees.Constraint(ConstraintTrees.LinearValue(#…\n  :akg_c            => ConstraintTrees.Constraint(ConstraintTrees.LinearValue(#…\n  :akg_e            => ConstraintTrees.Constraint(ConstraintTrees.LinearValue(#…\n  :amp_c            => ConstraintTrees.Constraint(ConstraintTrees.LinearValue(#…\n  :atp_c            => ConstraintTrees.Constraint(ConstraintTrees.LinearValue(#…\n  :cit_c            => ConstraintTrees.Constraint(ConstraintTrees.LinearValue(#…\n  :co2_c            => ConstraintTrees.Constraint(ConstraintTrees.LinearValue(#…\n  ⋮                 => ⋮"
     },
     "metadata": {},
     "execution_count": 5
    }
   ],
   "cell_type": "code",
   "source": [
    "ct.flux_stoichiometry"
   ],
   "metadata": {},
   "execution_count": 5
  },
  {
   "cell_type": "markdown",
   "source": [
    "The objective is represented as a \"transparent reference\" to the variables\n",
    "that specify the biomass. Notice that it has no bound (thus it's technically\n",
    "not a constraint, just a \"label\" for something that has a sensible semantic\n",
    "and can be constrained or optimized)."
   ],
   "metadata": {}
  },
  {
   "outputs": [
    {
     "output_type": "execute_result",
     "data": {
      "text/plain": "ConstraintTrees.Constraint(ConstraintTrees.LinearValue([25], [1.0]), nothing)"
     },
     "metadata": {},
     "execution_count": 6
    }
   ],
   "cell_type": "code",
   "source": [
    "ct.objective"
   ],
   "metadata": {},
   "execution_count": 6
  },
  {
   "cell_type": "markdown",
   "source": [
    "## Customizing the model"
   ],
   "metadata": {}
  },
  {
   "cell_type": "markdown",
   "source": [
    "New values and constraints can be easily created from the existing ones. For\n",
    "example, this is a total flux through exchanges of typical fermentation\n",
    "products:"
   ],
   "metadata": {}
  },
  {
   "outputs": [
    {
     "output_type": "execute_result",
     "data": {
      "text/plain": "ConstraintTrees.LinearValue([44, 48], [1.0, 1.0])"
     },
     "metadata": {},
     "execution_count": 7
    }
   ],
   "cell_type": "code",
   "source": [
    "total_fermentation = ct.fluxes.EX_ac_e.value + ct.fluxes.EX_etoh_e.value"
   ],
   "metadata": {},
   "execution_count": 7
  },
  {
   "cell_type": "markdown",
   "source": [
    "With the value in hand, we can constraint it (enforcing that the model\n",
    "outputs at least some fermentation products):"
   ],
   "metadata": {}
  },
  {
   "outputs": [
    {
     "output_type": "execute_result",
     "data": {
      "text/plain": "ConstraintTrees.Constraint(ConstraintTrees.LinearValue([44, 48], [1.0, 1.0]), ConstraintTrees.Between(10.0, 1000.0))"
     },
     "metadata": {},
     "execution_count": 8
    }
   ],
   "cell_type": "code",
   "source": [
    "fermentation_constraint = C.Constraint(total_fermentation, (10.0, 1000.0))"
   ],
   "metadata": {},
   "execution_count": 8
  },
  {
   "cell_type": "markdown",
   "source": [
    "We can assign a name to the constraint, creating a small (singleton)\n",
    "constraint tree:"
   ],
   "metadata": {}
  },
  {
   "outputs": [
    {
     "output_type": "execute_result",
     "data": {
      "text/plain": "ConstraintTrees.Tree{ConstraintTrees.Constraint} with 1 element:\n  :fermentation => ConstraintTrees.Constraint(ConstraintTrees.LinearValue(#= ..…"
     },
     "metadata": {},
     "execution_count": 9
    }
   ],
   "cell_type": "code",
   "source": [
    ":fermentation^fermentation_constraint"
   ],
   "metadata": {},
   "execution_count": 9
  },
  {
   "cell_type": "markdown",
   "source": [
    "Named constraints can be freely combined, and we combine our new constraint\n",
    "with the whole original constraint tree, getting a differently constrained\n",
    "system:"
   ],
   "metadata": {}
  },
  {
   "outputs": [
    {
     "output_type": "execute_result",
     "data": {
      "text/plain": "ConstraintTrees.Tree{ConstraintTrees.Constraint} with 5 elements:\n  :coupling           => ConstraintTrees.Tree{ConstraintTrees.Constraint}(#= 0 …\n  :fermentation       => ConstraintTrees.Constraint(ConstraintTrees.LinearValue…\n  :flux_stoichiometry => ConstraintTrees.Tree{ConstraintTrees.Constraint}(#= 72…\n  :fluxes             => ConstraintTrees.Tree{ConstraintTrees.Constraint}(#= 95…\n  :objective          => ConstraintTrees.Constraint(ConstraintTrees.LinearValue…"
     },
     "metadata": {},
     "execution_count": 10
    }
   ],
   "cell_type": "code",
   "source": [
    "fermenting_ct = ct * :fermentation^fermentation_constraint"
   ],
   "metadata": {},
   "execution_count": 10
  },
  {
   "cell_type": "markdown",
   "source": [
    "Constraint trees can be \"solved\", simply by choosing the objective and sending\n",
    "them to the appropriate function. Here, `optimized_values` rewrites\n",
    "the constraints into a JuMP model, which is subsequently solved and the\n",
    "solved variables are transformed back into semantically labeled values, in\n",
    "the same structure as the original constraint tree."
   ],
   "metadata": {}
  },
  {
   "outputs": [
    {
     "output_type": "execute_result",
     "data": {
      "text/plain": "ConstraintTrees.Tree{Float64} with 5 elements:\n  :coupling           => ConstraintTrees.Tree{Float64}(#= 0 elements =#)\n  :fermentation       => 10.0\n  :flux_stoichiometry => ConstraintTrees.Tree{Float64}(#= 72 elements =#)\n  :fluxes             => ConstraintTrees.Tree{Float64}(#= 95 elements =#)\n  :objective          => 0.633738"
     },
     "metadata": {},
     "execution_count": 11
    }
   ],
   "cell_type": "code",
   "source": [
    "solution = optimized_values(\n",
    "    fermenting_ct,\n",
    "    objective = fermenting_ct.objective.value,\n",
    "    optimizer = GLPK.Optimizer,\n",
    ")"
   ],
   "metadata": {},
   "execution_count": 11
  },
  {
   "cell_type": "markdown",
   "source": [
    "Models that can not be solved (for any reason) would instead return\n",
    "`nothing`. We demonstrate that by breaking the bounds of the original\n",
    "constraint trees to an unsolvable state:"
   ],
   "metadata": {}
  },
  {
   "outputs": [
    {
     "name": "stdout",
     "output_type": "stream",
     "text": [
      "nothing"
     ]
    }
   ],
   "cell_type": "code",
   "source": [
    "ct.fluxes.ATPM.bound = C.Between(1000.0, 10000.0)\n",
    "\n",
    "solution = optimized_values(ct, objective = ct.objective.value, optimizer = GLPK.Optimizer)\n",
    "\n",
    "print(solution)"
   ],
   "metadata": {},
   "execution_count": 12
  },
  {
   "cell_type": "markdown",
   "source": [
    "Several functions exist to simplify the construction of more complicated\n",
    "constraints. See the reference documentation for [generic constraint\n",
    "builders](../reference/builders.md#Generic-constraints) for details."
   ],
   "metadata": {}
  },
  {
   "cell_type": "markdown",
   "source": [
    "---\n",
    "\n",
    "*This notebook was generated using [Literate.jl](https://github.com/fredrikekre/Literate.jl).*"
   ],
   "metadata": {}
  }
 ],
 "nbformat_minor": 3,
 "metadata": {
  "language_info": {
   "file_extension": ".jl",
   "mimetype": "application/julia",
   "name": "julia",
   "version": "1.9.4"
  },
  "kernelspec": {
   "name": "julia-1.9",
   "display_name": "Julia 1.9.4",
   "language": "julia"
  }
 },
 "nbformat": 4
}
