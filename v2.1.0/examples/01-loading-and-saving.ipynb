{
 "cells": [
  {
   "cell_type": "markdown",
   "source": [
    "# Loading and saving models"
   ],
   "metadata": {}
  },
  {
   "outputs": [],
   "cell_type": "code",
   "source": [
    "using COBREXA"
   ],
   "metadata": {},
   "execution_count": 1
  },
  {
   "cell_type": "markdown",
   "source": [
    "## Getting the models reliably from the repositories\n",
    "\n",
    "For convenience, COBREXA provides a specific function\n",
    "`download_model` to download models from repositories that also\n",
    "automatically uses the cached downloaded version of the model if it's already\n",
    "downloaded, and verifies the checksum to improve reproducibility. It will\n",
    "print out a warning in case the model checksum does not match the\n",
    "expectation:"
   ],
   "metadata": {}
  },
  {
   "outputs": [
    {
     "output_type": "execute_result",
     "data": {
      "text/plain": "\"e_coli_core.xml\""
     },
     "metadata": {},
     "execution_count": 2
    }
   ],
   "cell_type": "code",
   "source": [
    "download_model(\n",
    "    \"http://bigg.ucsd.edu/static/models/e_coli_core.json\",\n",
    "    \"e_coli_core.json\",\n",
    "    \"7bedec10576cfe935b19218dc881f3fb14f890a1871448fc19a9b4ee15b448d8\",\n",
    ")\n",
    "\n",
    "download_model(\n",
    "    \"http://bigg.ucsd.edu/static/models/e_coli_core.xml\",\n",
    "    \"e_coli_core.xml\",\n",
    "    \"b4db506aeed0e434c1f5f1fdd35feda0dfe5d82badcfda0e9d1342335ab31116\",\n",
    ")"
   ],
   "metadata": {},
   "execution_count": 2
  },
  {
   "cell_type": "markdown",
   "source": [
    "## Loading models"
   ],
   "metadata": {}
  },
  {
   "cell_type": "markdown",
   "source": [
    "To load genome-scale metabolic models, COBREXA uses the\n",
    "[AbstractFBCModels](https://github.com/COBREXA/AbstractFBCModels.jl) framework\n",
    "to import various kinds of models including SBML, JSON and the legacy\n",
    "Matlab-formatted \"COBRA toolbox\" models."
   ],
   "metadata": {}
  },
  {
   "cell_type": "markdown",
   "source": [
    "All models can be loaded automatically using `load_model`; but one\n",
    "must import the model-type specific packages to load the functionality. (This\n",
    "step is required to keep the \"base\" COBREXA as efficient and fast-loading as\n",
    "possible.)"
   ],
   "metadata": {}
  },
  {
   "outputs": [
    {
     "output_type": "execute_result",
     "data": {
      "text/plain": "SBMLFBCModels.SBMLFBCModel(#= 95 reactions, 72 metabolites =#)"
     },
     "metadata": {},
     "execution_count": 3
    }
   ],
   "cell_type": "code",
   "source": [
    "import JSONFBCModels, SBMLFBCModels\n",
    "\n",
    "model1 = load_model(\"e_coli_core.json\")\n",
    "\n",
    "model2 = load_model(\"e_coli_core.xml\")"
   ],
   "metadata": {},
   "execution_count": 3
  },
  {
   "cell_type": "markdown",
   "source": [
    "We can now explore the contents of the models using the AbstractFBCModels'\n",
    "interface:"
   ],
   "metadata": {}
  },
  {
   "outputs": [
    {
     "output_type": "execute_result",
     "data": {
      "text/plain": "95-element Vector{String}:\n \"R_ACALD\"\n \"R_ACALDt\"\n \"R_ACKr\"\n \"R_ACONTa\"\n \"R_ACONTb\"\n \"R_ACt2r\"\n \"R_ADK1\"\n \"R_AKGDH\"\n \"R_AKGt2r\"\n \"R_ALCD2x\"\n ⋮\n \"R_SUCCt2_2\"\n \"R_SUCCt3\"\n \"R_SUCDi\"\n \"R_SUCOAS\"\n \"R_TALA\"\n \"R_THD2\"\n \"R_TKT1\"\n \"R_TKT2\"\n \"R_TPI\""
     },
     "metadata": {},
     "execution_count": 4
    }
   ],
   "cell_type": "code",
   "source": [
    "import AbstractFBCModels as A\n",
    "\n",
    "A.reactions(model1)\n",
    "\n",
    "A.reactions(model2)"
   ],
   "metadata": {},
   "execution_count": 4
  },
  {
   "cell_type": "markdown",
   "source": [
    "Additional extractable information can be found in [the documentation of the\n",
    "abstract models\n",
    "package](https://cobrexa.github.io/AbstractFBCModels.jl/stable/reference/#Model-content-accessors)."
   ],
   "metadata": {}
  },
  {
   "cell_type": "markdown",
   "source": [
    "### Converting model types"
   ],
   "metadata": {}
  },
  {
   "cell_type": "markdown",
   "source": [
    "Normally, `load_model` is forced to guess the model type from the\n",
    "filename suffix. We can specify the model type ourselves (this also allows\n",
    "the users to work with non-standard file suffixes):"
   ],
   "metadata": {}
  },
  {
   "outputs": [
    {
     "output_type": "execute_result",
     "data": {
      "text/plain": "JSONFBCModels.JSONFBCModel(#= 95 reactions, 72 metabolites =#)"
     },
     "metadata": {},
     "execution_count": 5
    }
   ],
   "cell_type": "code",
   "source": [
    "model = load_model(JSONFBCModels.JSONFBCModel, \"e_coli_core.json\")"
   ],
   "metadata": {},
   "execution_count": 5
  },
  {
   "cell_type": "markdown",
   "source": [
    "Sometimes it is useful to convert the model data to another type, such as the\n",
    "SBML to a JSON model structure:"
   ],
   "metadata": {}
  },
  {
   "outputs": [
    {
     "output_type": "execute_result",
     "data": {
      "text/plain": "JSONFBCModels.JSONFBCModel(#= 95 reactions, 72 metabolites =#)"
     },
     "metadata": {},
     "execution_count": 6
    }
   ],
   "cell_type": "code",
   "source": [
    "model_converted_to_json = load_model(\"e_coli_core.xml\", JSONFBCModels.JSONFBCModel)"
   ],
   "metadata": {},
   "execution_count": 6
  },
  {
   "cell_type": "markdown",
   "source": [
    "Or to the \"Canonical Julia model\" from AbstractFBCModels:"
   ],
   "metadata": {}
  },
  {
   "outputs": [
    {
     "output_type": "execute_result",
     "data": {
      "text/plain": "AbstractFBCModels.CanonicalModel.Model(\n  reactions = Dict{String, AbstractFBCModels.CanonicalModel.Reaction}(\"ACALD\" =…\n  metabolites = Dict{String, AbstractFBCModels.CanonicalModel.Metabolite}(\"glu_…\n  genes = Dict{String, AbstractFBCModels.CanonicalModel.Gene}(\"b4301\" => Abstra…\n  couplings = Dict{String, AbstractFBCModels.CanonicalModel.Coupling}(),\n)\n"
     },
     "metadata": {},
     "execution_count": 7
    }
   ],
   "cell_type": "code",
   "source": [
    "model_in_julia_structures =\n",
    "    load_model(JSONFBCModels.JSONFBCModel, \"e_coli_core.json\", A.CanonicalModel.Model)"
   ],
   "metadata": {},
   "execution_count": 7
  },
  {
   "cell_type": "markdown",
   "source": [
    "The above command specifies all model types explicitly, leaving least room\n",
    "for guessing-based errors.\n",
    "\n",
    "If required, it is also possible to convert all model types to each other\n",
    "simply by using Julia's `convert`:"
   ],
   "metadata": {}
  },
  {
   "outputs": [
    {
     "output_type": "execute_result",
     "data": {
      "text/plain": "JSONFBCModels.JSONFBCModel(#= 95 reactions, 72 metabolites =#)"
     },
     "metadata": {},
     "execution_count": 8
    }
   ],
   "cell_type": "code",
   "source": [
    "model_in_json_structure = convert(JSONFBCModels.JSONFBCModel, model_in_julia_structures)"
   ],
   "metadata": {},
   "execution_count": 8
  },
  {
   "cell_type": "markdown",
   "source": [
    "## Saving models"
   ],
   "metadata": {}
  },
  {
   "cell_type": "markdown",
   "source": [
    "The models can be saved to file storage by using `save_model`:"
   ],
   "metadata": {}
  },
  {
   "outputs": [],
   "cell_type": "code",
   "source": [
    "save_model(model_converted_to_json, \"e_coli_core_from_sbml.json\")"
   ],
   "metadata": {},
   "execution_count": 9
  },
  {
   "cell_type": "markdown",
   "source": [
    "Expectably, the file will contain the JSON with the model description:"
   ],
   "metadata": {}
  },
  {
   "outputs": [
    {
     "name": "stdout",
     "output_type": "stream",
     "text": [
      "{\"metabolites\":[{\"compartment\":\"c\",\"name\":\"3-Phospho-D-glyceroyl phosphate\",\"formula\":\"C3H4O10P2\",\"i...\n"
     ]
    }
   ],
   "cell_type": "code",
   "source": [
    "println(open(\"e_coli_core_from_sbml.json\") do f\n",
    "    read(f, 100)\n",
    "end |> String, \"...\")"
   ],
   "metadata": {},
   "execution_count": 10
  },
  {
   "cell_type": "markdown",
   "source": [
    "---\n",
    "\n",
    "*This notebook was generated using [Literate.jl](https://github.com/fredrikekre/Literate.jl).*"
   ],
   "metadata": {}
  }
 ],
 "nbformat_minor": 3,
 "metadata": {
  "language_info": {
   "file_extension": ".jl",
   "mimetype": "application/julia",
   "name": "julia",
   "version": "1.9.4"
  },
  "kernelspec": {
   "name": "julia-1.9",
   "display_name": "Julia 1.9.4",
   "language": "julia"
  }
 },
 "nbformat": 4
}
