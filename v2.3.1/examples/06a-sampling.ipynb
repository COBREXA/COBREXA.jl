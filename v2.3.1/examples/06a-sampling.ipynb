{
 "cells": [
  {
   "cell_type": "markdown",
   "source": [
    "# Flux sampling\n",
    "\n",
    "Flux sampling gives an interesting statistical insight into the behavior of\n",
    "the model in the optimal feasible space, and the general \"shape\" of the\n",
    "optimal- or near-optimal set of feasible states of a given model."
   ],
   "metadata": {}
  },
  {
   "cell_type": "markdown",
   "source": [
    "For demonstration, we need the usual packages and models:"
   ],
   "metadata": {}
  },
  {
   "outputs": [
    {
     "name": "stdout",
     "output_type": "stream",
     "text": [
      "[ Info: using cached `e_coli_core.json'\n"
     ]
    },
    {
     "output_type": "execute_result",
     "data": {
      "text/plain": "JSONFBCModels.JSONFBCModel(#= 95 reactions, 72 metabolites =#)"
     },
     "metadata": {},
     "execution_count": 1
    }
   ],
   "cell_type": "code",
   "source": [
    "using COBREXA\n",
    "\n",
    "download_model(\n",
    "    \"http://bigg.ucsd.edu/static/models/e_coli_core.json\",\n",
    "    \"e_coli_core.json\",\n",
    "    \"7bedec10576cfe935b19218dc881f3fb14f890a1871448fc19a9b4ee15b448d8\",\n",
    ")\n",
    "\n",
    "import JSONFBCModels, HiGHS\n",
    "\n",
    "model = load_model(\"e_coli_core.json\")"
   ],
   "metadata": {},
   "execution_count": 1
  },
  {
   "cell_type": "markdown",
   "source": [
    "Function `flux_sample` uses linear optimization to generate a set of\n",
    "warm-up points (by default, the method to generate the warm-up is basically\n",
    "FVA), and then runs the hit-and-run flux sampling algorithm on the\n",
    "near-optimal feasible space of the model:"
   ],
   "metadata": {}
  },
  {
   "outputs": [
    {
     "output_type": "execute_result",
     "data": {
      "text/plain": "ConstraintTrees.Tree{Vector{Float64}} with 95 elements:\n  :ACALD                    => [-0.0329801, -0.0100669, -0.0151606, -0.0149943,…\n  :ACALDt                   => [-0.0241471, -0.00648203, -0.006318, -0.00485708…\n  :ACKr                     => [-0.0202281, -0.0170307, -0.0263991, -0.0205187,…\n  :ACONTa                   => [6.05214, 6.04254, 6.12179, 6.1516, 6.16142, 5.9…\n  :ACONTb                   => [6.05214, 6.04254, 6.12179, 6.1516, 6.16142, 5.9…\n  :ACt2r                    => [-0.0202281, -0.0170307, -0.0263991, -0.0205187,…\n  :ADK1                     => [0.0292245, 0.0467567, 0.00760278, 0.0347318, 0.…\n  :AKGDH                    => [4.55691, 4.44162, 4.97336, 4.65727, 4.61648, 4.…\n  :AKGt2r                   => [-0.0019523, -0.00222869, -0.0031256, -0.0015672…\n  :ALCD2x                   => [-0.00883301, -0.00358482, -0.00884261, -0.01013…\n  :ATPM                     => [8.42209, 8.40559, 8.45149, 8.44159, 8.40855, 8.…\n  :ATPS4r                   => [45.1431, 45.189, 45.0247, 45.0138, 44.8584, 45.…\n  :BIOMASS_Ecoli_core_w_GAM => [0.865397, 0.865355, 0.865509, 0.865486, 0.86534…\n  :CO2t                     => [-22.9147, -22.933, -22.8752, -22.9463, -22.9295…\n  :CS                       => [6.05214, 6.04254, 6.12179, 6.1516, 6.16142, 5.9…\n  :CYTBD                    => [43.8553, 43.9483, 43.7883, 43.9549, 43.8949, 43…\n  :D_LACt2                  => [-0.00921038, -0.00640979, -0.0173674, -0.005002…\n  :ENO                      => [14.751, 14.716, 14.8313, 14.83, 14.8568, 14.624…\n  :ETOHt2r                  => [-0.00883301, -0.00358482, -0.00884261, -0.01013…\n  ⋮                         => ⋮"
     },
     "metadata": {},
     "execution_count": 2
    }
   ],
   "cell_type": "code",
   "source": [
    "s = flux_sample(\n",
    "    model,\n",
    "    optimizer = HiGHS.Optimizer,\n",
    "    objective_bound = relative_tolerance_bound(0.99),\n",
    "    n_chains = 2,\n",
    "    collect_iterations = [10],\n",
    ")"
   ],
   "metadata": {},
   "execution_count": 2
  },
  {
   "cell_type": "markdown",
   "source": [
    "The result is a tree of vectors of sampled states for each value; the order\n",
    "of the values in these vectors is fixed. You can thus e.g. create a good\n",
    "matrix for plotting the sample as 2D scatterplot:"
   ],
   "metadata": {}
  },
  {
   "outputs": [
    {
     "output_type": "execute_result",
     "data": {
      "text/plain": "380×2 Matrix{Float64}:\n 21.9276  -22.9147\n 21.9742  -22.933\n 21.8941  -22.8752\n 21.9775  -22.9463\n 21.9475  -22.9295\n 21.9716  -22.9455\n 21.973   -22.9448\n 21.9328  -22.9084\n 22.0216  -22.9979\n 21.9342  -22.9076\n  ⋮       \n 21.9698  -22.9228\n 21.9708  -22.9688\n 21.966   -22.9466\n 21.9901  -22.9631\n 21.9474  -22.9303\n 21.9857  -22.9578\n 21.965   -22.9334\n 21.9536  -22.9316\n 21.9935  -22.9839"
     },
     "metadata": {},
     "execution_count": 3
    }
   ],
   "cell_type": "code",
   "source": [
    "[s.O2t s.CO2t]"
   ],
   "metadata": {},
   "execution_count": 3
  },
  {
   "cell_type": "markdown",
   "source": [
    "---\n",
    "\n",
    "*This notebook was generated using [Literate.jl](https://github.com/fredrikekre/Literate.jl).*"
   ],
   "metadata": {}
  }
 ],
 "nbformat_minor": 3,
 "metadata": {
  "language_info": {
   "file_extension": ".jl",
   "mimetype": "application/julia",
   "name": "julia",
   "version": "1.9.4"
  },
  "kernelspec": {
   "name": "julia-1.9",
   "display_name": "Julia 1.9.4",
   "language": "julia"
  }
 },
 "nbformat": 4
}
