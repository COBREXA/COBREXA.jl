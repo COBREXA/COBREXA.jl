{
 "cells": [
  {
   "cell_type": "markdown",
   "source": [
    "# Parsimonious flux balance analysis"
   ],
   "metadata": {}
  },
  {
   "cell_type": "markdown",
   "source": [
    "Here, we use `parsimonious_flux_balance_analysis` (pFBA) to find the\n",
    "optimal flux distribution in the *E. coli* \"core\" model. In essence, pFBA\n",
    "first uses FBA to find an optimal objective value for the model, and then\n",
    "minimizes the squared distance of the flux from the zero (i.e., minimizes its\n",
    "L2 norm). As the main benefit, this gives a unique (and possibly more\n",
    "realistic) solution to the model."
   ],
   "metadata": {}
  },
  {
   "outputs": [
    {
     "name": "stdout",
     "output_type": "stream",
     "text": [
      "[ Info: using cached `e_coli_core.json'\n"
     ]
    },
    {
     "output_type": "execute_result",
     "data": {
      "text/plain": "\"e_coli_core.json\""
     },
     "metadata": {},
     "execution_count": 1
    }
   ],
   "cell_type": "code",
   "source": [
    "using COBREXA\n",
    "\n",
    "download_model(\n",
    "    \"http://bigg.ucsd.edu/static/models/e_coli_core.json\",\n",
    "    \"e_coli_core.json\",\n",
    "    \"7bedec10576cfe935b19218dc881f3fb14f890a1871448fc19a9b4ee15b448d8\",\n",
    ")"
   ],
   "metadata": {},
   "execution_count": 1
  },
  {
   "cell_type": "markdown",
   "source": [
    "Notably, we need an optimizer that can solve quadratic (QP) models:"
   ],
   "metadata": {}
  },
  {
   "outputs": [
    {
     "output_type": "execute_result",
     "data": {
      "text/plain": "JSONFBCModels.JSONFBCModel(#= 95 reactions, 72 metabolites =#)"
     },
     "metadata": {},
     "execution_count": 2
    }
   ],
   "cell_type": "code",
   "source": [
    "import Clarabel\n",
    "\n",
    "import JSONFBCModels\n",
    "model = load_model(\"e_coli_core.json\")"
   ],
   "metadata": {},
   "execution_count": 2
  },
  {
   "cell_type": "markdown",
   "source": [
    "The pFBA is, in its most default form, implemented in function\n",
    "`parsimonious_flux_balance_analysis`:"
   ],
   "metadata": {}
  },
  {
   "outputs": [
    {
     "output_type": "execute_result",
     "data": {
      "text/plain": "ConstraintTrees.Tree{Float64} with 5 elements:\n  :coupling               => ConstraintTrees.Tree{Float64}(#= 0 elements =#)\n  :flux_stoichiometry     => ConstraintTrees.Tree{Float64}(#= 72 elements =#)\n  :fluxes                 => ConstraintTrees.Tree{Float64}(#= 95 elements =#)\n  :objective              => 0.873922\n  :parsimonious_objective => 11414.2"
     },
     "metadata": {},
     "execution_count": 3
    }
   ],
   "cell_type": "code",
   "source": [
    "solution = parsimonious_flux_balance_analysis(model; optimizer = Clarabel.Optimizer)"
   ],
   "metadata": {},
   "execution_count": 3
  },
  {
   "outputs": [
    {
     "output_type": "execute_result",
     "data": {
      "text/plain": "ConstraintTrees.Tree{Float64} with 95 elements:\n  :ACALD                    => -1.10007e-10\n  :ACALDt                   => -3.18315e-11\n  :ACKr                     => -4.99153e-11\n  :ACONTa                   => 6.00725\n  :ACONTb                   => 6.00725\n  :ACt2r                    => -3.36167e-11\n  :ADK1                     => -9.84745e-12\n  :AKGDH                    => 5.06438\n  :AKGt2r                   => -4.87392e-11\n  :ALCD2x                   => -6.24263e-11\n  :ATPM                     => 8.39\n  :ATPS4r                   => 45.514\n  :BIOMASS_Ecoli_core_w_GAM => 0.873922\n  :CO2t                     => -22.8098\n  :CS                       => 6.00725\n  :CYTBD                    => 43.599\n  :D_LACt2                  => -4.43927e-11\n  :ENO                      => 14.7161\n  :ETOHt2r                  => -4.18493e-11\n  ⋮                         => ⋮"
     },
     "metadata": {},
     "execution_count": 4
    }
   ],
   "cell_type": "code",
   "source": [
    "solution.fluxes"
   ],
   "metadata": {},
   "execution_count": 4
  },
  {
   "cell_type": "markdown",
   "source": [
    "## Using different solvers for the problem stages\n",
    "\n",
    "Sometimes it is useful to employ a dedicated LP solver to find the solution to\n",
    "the original FBA problem, and then a dedicated QP solver to minimize the\n",
    "fluxes. We can set the optimizer and parsimonious optimizer separately using\n",
    "keyword arguments:"
   ],
   "metadata": {}
  },
  {
   "outputs": [
    {
     "output_type": "execute_result",
     "data": {
      "text/plain": "ConstraintTrees.Tree{Float64} with 5 elements:\n  :coupling               => ConstraintTrees.Tree{Float64}(#= 0 elements =#)\n  :flux_stoichiometry     => ConstraintTrees.Tree{Float64}(#= 72 elements =#)\n  :fluxes                 => ConstraintTrees.Tree{Float64}(#= 95 elements =#)\n  :objective              => 0.873922\n  :parsimonious_objective => 11414.2"
     },
     "metadata": {},
     "execution_count": 5
    }
   ],
   "cell_type": "code",
   "source": [
    "import HiGHS\n",
    "\n",
    "solution = parsimonious_flux_balance_analysis(\n",
    "    model;\n",
    "    optimizer = HiGHS.Optimizer, # HiGHS is used only for LP here\n",
    "    parsimonious_optimizer = Clarabel.Optimizer, # Clarabel is great for solving QPs\n",
    ")"
   ],
   "metadata": {},
   "execution_count": 5
  },
  {
   "cell_type": "markdown",
   "source": [
    "## Using linear (L1) parsimonious constraints"
   ],
   "metadata": {}
  },
  {
   "cell_type": "markdown",
   "source": [
    "For efficiency reasons, it is also possible to use a pFBA version that\n",
    "optimizes the L1 norm instead of the L2 one (i.e., minimizing a sum of\n",
    "absolute values instead of the sum of squares). In turn, the uniqueness\n",
    "property of the solution is lost, but we do not need a QP-capable optimizer\n",
    "at all:"
   ],
   "metadata": {}
  },
  {
   "outputs": [
    {
     "output_type": "execute_result",
     "data": {
      "text/plain": "ConstraintTrees.Tree{Float64} with 7 elements:\n  :coupling               => ConstraintTrees.Tree{Float64}(#= 0 elements =#)\n  :flux_stoichiometry     => ConstraintTrees.Tree{Float64}(#= 72 elements =#)\n  :fluxes                 => ConstraintTrees.Tree{Float64}(#= 95 elements =#)\n  :fluxes_forward         => ConstraintTrees.Tree{Float64}(#= 95 elements =#)\n  :fluxes_reverse         => ConstraintTrees.Tree{Float64}(#= 95 elements =#)\n  :objective              => 0.873922\n  :parsimonious_objective => 518.422"
     },
     "metadata": {},
     "execution_count": 6
    }
   ],
   "cell_type": "code",
   "source": [
    "linear_solution =\n",
    "    linear_parsimonious_flux_balance_analysis(model; optimizer = HiGHS.Optimizer)"
   ],
   "metadata": {},
   "execution_count": 6
  },
  {
   "outputs": [
    {
     "output_type": "execute_result",
     "data": {
      "text/plain": "ConstraintTrees.Tree{Float64} with 95 elements:\n  :ACALD                    => 0.0\n  :ACALDt                   => 0.0\n  :ACKr                     => -4.65317e-14\n  :ACONTa                   => 6.00725\n  :ACONTb                   => 6.00725\n  :ACt2r                    => -4.65317e-14\n  :ADK1                     => 0.0\n  :AKGDH                    => 5.06438\n  :AKGt2r                   => 0.0\n  :ALCD2x                   => 0.0\n  :ATPM                     => 8.39\n  :ATPS4r                   => 45.514\n  :BIOMASS_Ecoli_core_w_GAM => 0.873922\n  :CO2t                     => -22.8098\n  :CS                       => 6.00725\n  :CYTBD                    => 43.599\n  :D_LACt2                  => 0.0\n  :ENO                      => 14.7161\n  :ETOHt2r                  => 0.0\n  ⋮                         => ⋮"
     },
     "metadata": {},
     "execution_count": 7
    }
   ],
   "cell_type": "code",
   "source": [
    "linear_solution.fluxes"
   ],
   "metadata": {},
   "execution_count": 7
  },
  {
   "cell_type": "markdown",
   "source": [
    "---\n",
    "\n",
    "*This notebook was generated using [Literate.jl](https://github.com/fredrikekre/Literate.jl).*"
   ],
   "metadata": {}
  }
 ],
 "nbformat_minor": 3,
 "metadata": {
  "language_info": {
   "file_extension": ".jl",
   "mimetype": "application/julia",
   "name": "julia",
   "version": "1.9.4"
  },
  "kernelspec": {
   "name": "julia-1.9",
   "display_name": "Julia 1.9.4",
   "language": "julia"
  }
 },
 "nbformat": 4
}
