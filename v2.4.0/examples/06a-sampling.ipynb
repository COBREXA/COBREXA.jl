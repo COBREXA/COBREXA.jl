{
 "cells": [
  {
   "cell_type": "markdown",
   "source": [
    "# Flux sampling\n",
    "\n",
    "Flux sampling gives an interesting statistical insight into the behavior of\n",
    "the model in the optimal feasible space, and the general \"shape\" of the\n",
    "optimal- or near-optimal set of feasible states of a given model."
   ],
   "metadata": {}
  },
  {
   "cell_type": "markdown",
   "source": [
    "For demonstration, we need the usual packages and models:"
   ],
   "metadata": {}
  },
  {
   "outputs": [
    {
     "name": "stdout",
     "output_type": "stream",
     "text": [
      "[ Info: using cached `e_coli_core.json'\n"
     ]
    },
    {
     "output_type": "execute_result",
     "data": {
      "text/plain": "JSONFBCModels.JSONFBCModel(#= 95 reactions, 72 metabolites =#)"
     },
     "metadata": {},
     "execution_count": 1
    }
   ],
   "cell_type": "code",
   "source": [
    "using COBREXA\n",
    "\n",
    "download_model(\n",
    "    \"http://bigg.ucsd.edu/static/models/e_coli_core.json\",\n",
    "    \"e_coli_core.json\",\n",
    "    \"7bedec10576cfe935b19218dc881f3fb14f890a1871448fc19a9b4ee15b448d8\",\n",
    ")\n",
    "\n",
    "import JSONFBCModels, HiGHS\n",
    "\n",
    "model = load_model(\"e_coli_core.json\")"
   ],
   "metadata": {},
   "execution_count": 1
  },
  {
   "cell_type": "markdown",
   "source": [
    "Function `flux_sample` uses linear optimization to generate a set of\n",
    "warm-up points (by default, the method to generate the warm-up is basically\n",
    "FVA), and then runs the hit-and-run flux sampling algorithm on the\n",
    "near-optimal feasible space of the model:"
   ],
   "metadata": {}
  },
  {
   "outputs": [
    {
     "output_type": "execute_result",
     "data": {
      "text/plain": "ConstraintTrees.Tree{Vector{Float64}} with 95 elements:\n  :ACALD                    => [-0.0139898, -0.0114192, -0.0313661, -0.0113411,…\n  :ACALDt                   => [-0.00986094, -0.00537695, -0.0253752, -0.005691…\n  :ACKr                     => [-0.010379, -0.0184809, -0.0186922, -0.0178756, …\n  :ACONTa                   => [6.21516, 6.08729, 6.05609, 6.0989, 6.06837, 6.2…\n  :ACONTb                   => [6.21516, 6.08729, 6.05609, 6.0989, 6.06837, 6.2…\n  :ACt2r                    => [-0.010379, -0.0184809, -0.0186922, -0.0178756, …\n  :ADK1                     => [0.0346233, 0.0372068, 0.0300642, 0.0363538, 0.0…\n  :AKGDH                    => [4.77958, 4.48295, 4.47254, 4.52991, 4.49042, 4.…\n  :AKGt2r                   => [-0.00849935, -0.00429735, -0.00208221, -0.00505…\n  :ALCD2x                   => [-0.00412882, -0.00604223, -0.00599091, -0.00564…\n  :ATPM                     => [8.43854, 8.4344, 8.42737, 8.44039, 8.42887, 8.4…\n  :ATPS4r                   => [44.9375, 45.2026, 45.184, 45.1866, 45.1895, 44.…\n  :BIOMASS_Ecoli_core_w_GAM => [0.865779, 0.865606, 0.865466, 0.86564, 0.865665…\n  :CO2t                     => [-22.9181, -22.9296, -22.9231, -22.9217, -22.898…\n  :CS                       => [6.21516, 6.08729, 6.05609, 6.0989, 6.06837, 6.2…\n  :CYTBD                    => [43.9044, 43.9269, 43.8829, 43.9141, 43.8614, 43…\n  :D_LACt2                  => [-0.00933535, -0.00907792, -0.00775728, -0.00963…\n  :ENO                      => [14.892, 14.766, 14.7498, 14.7787, 14.7637, 14.8…\n  :ETOHt2r                  => [-0.00412882, -0.00604223, -0.00599091, -0.00564…\n  ⋮                         => ⋮"
     },
     "metadata": {},
     "execution_count": 2
    }
   ],
   "cell_type": "code",
   "source": [
    "s = flux_sample(\n",
    "    model,\n",
    "    optimizer = HiGHS.Optimizer,\n",
    "    objective_bound = relative_tolerance_bound(0.99),\n",
    "    n_chains = 2,\n",
    "    collect_iterations = [10],\n",
    ")"
   ],
   "metadata": {},
   "execution_count": 2
  },
  {
   "cell_type": "markdown",
   "source": [
    "The result is a tree of vectors of sampled states for each value; the order\n",
    "of the values in these vectors is fixed. You can thus e.g. create a good\n",
    "matrix for plotting the sample as 2D scatterplot:"
   ],
   "metadata": {}
  },
  {
   "outputs": [
    {
     "output_type": "execute_result",
     "data": {
      "text/plain": "380×2 Matrix{Float64}:\n 21.9522  -22.9181\n 21.9634  -22.9296\n 21.9414  -22.9231\n 21.957   -22.9217\n 21.9307  -22.8985\n 21.9585  -22.9258\n 21.9596  -22.9251\n 21.9717  -22.9401\n 21.963   -22.9306\n 21.9657  -22.9322\n  ⋮       \n 21.9318  -22.8968\n 21.9605  -22.927\n 21.9934  -22.9685\n 21.9018  -22.8679\n 21.9388  -22.9045\n 21.9769  -22.9517\n 21.9366  -22.8973\n 21.9257  -22.8876\n 21.9916  -22.9733"
     },
     "metadata": {},
     "execution_count": 3
    }
   ],
   "cell_type": "code",
   "source": [
    "[s.O2t s.CO2t]"
   ],
   "metadata": {},
   "execution_count": 3
  },
  {
   "cell_type": "markdown",
   "source": [
    "---\n",
    "\n",
    "*This notebook was generated using [Literate.jl](https://github.com/fredrikekre/Literate.jl).*"
   ],
   "metadata": {}
  }
 ],
 "nbformat_minor": 3,
 "metadata": {
  "language_info": {
   "file_extension": ".jl",
   "mimetype": "application/julia",
   "name": "julia",
   "version": "1.9.4"
  },
  "kernelspec": {
   "name": "julia-1.9",
   "display_name": "Julia 1.9.4",
   "language": "julia"
  }
 },
 "nbformat": 4
}
