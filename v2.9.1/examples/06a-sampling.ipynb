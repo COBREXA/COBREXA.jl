{
 "cells": [
  {
   "cell_type": "markdown",
   "source": [
    "# Flux sampling\n",
    "\n",
    "Flux sampling gives an interesting statistical insight into the behavior of\n",
    "the model in the optimal feasible space, and the general \"shape\" of the\n",
    "optimal- or near-optimal set of feasible states of a given model."
   ],
   "metadata": {}
  },
  {
   "cell_type": "markdown",
   "source": [
    "For demonstration, we need the usual packages and models:"
   ],
   "metadata": {}
  },
  {
   "outputs": [
    {
     "name": "stdout",
     "output_type": "stream",
     "text": [
      "[ Info: using cached `e_coli_core.json'\n"
     ]
    },
    {
     "output_type": "execute_result",
     "data": {
      "text/plain": "JSONFBCModels.JSONFBCModel(#= 95 reactions, 72 metabolites =#)"
     },
     "metadata": {},
     "execution_count": 1
    }
   ],
   "cell_type": "code",
   "source": [
    "using COBREXA\n",
    "\n",
    "download_model(\n",
    "    \"http://bigg.ucsd.edu/static/models/e_coli_core.json\",\n",
    "    \"e_coli_core.json\",\n",
    "    \"7bedec10576cfe935b19218dc881f3fb14f890a1871448fc19a9b4ee15b448d8\",\n",
    ")\n",
    "\n",
    "import JSONFBCModels, HiGHS\n",
    "\n",
    "model = load_model(\"e_coli_core.json\")"
   ],
   "metadata": {},
   "execution_count": 1
  },
  {
   "cell_type": "markdown",
   "source": [
    "Function `flux_sample` uses linear optimization to generate a set of\n",
    "warm-up points (by default, the method to generate the warm-up is basically\n",
    "FVA), and then runs the hit-and-run flux sampling algorithm on the\n",
    "near-optimal feasible space of the model:"
   ],
   "metadata": {}
  },
  {
   "outputs": [
    {
     "output_type": "execute_result",
     "data": {
      "text/plain": "ConstraintTrees.Tree{Vector{Float64}} with 95 elements:\n  :ACALD                    => [-0.0156198, -0.0248688, -0.0148327, -0.0150613,…\n  :ACALDt                   => [-0.00558482, -0.00389489, -0.00466352, -0.00688…\n  :ACKr                     => [-0.0199301, -0.00917873, -0.0199479, -0.0188666…\n  :ACONTa                   => [6.08722, 6.05502, 6.08749, 6.01679, 6.01048, 6.…\n  :ACONTb                   => [6.08722, 6.05502, 6.08749, 6.01679, 6.01048, 6.…\n  :ACt2r                    => [-0.0199301, -0.00917873, -0.0199479, -0.0188666…\n  :ADK1                     => [0.0407836, 0.049333, 0.0410767, 0.0430816, 0.03…\n  :AKGDH                    => [4.56274, 4.52586, 4.56154, 4.53292, 4.56474, 4.…\n  :AKGt2r                   => [-0.00147782, -0.00161394, -0.00148948, -0.00222…\n  :ALCD2x                   => [-0.010035, -0.0209739, -0.0101692, -0.00817705,…\n  :ATPM                     => [8.42187, 8.41409, 8.42189, 8.45208, 8.40306, 8.…\n  :ATPS4r                   => [45.1479, 45.2101, 45.1496, 45.3552, 45.0855, 45…\n  :BIOMASS_Ecoli_core_w_GAM => [0.865507, 0.865257, 0.865507, 0.865646, 0.86547…\n  :CO2t                     => [-22.9277, -22.9335, -22.9284, -22.9324, -22.840…\n  :CS                       => [6.08722, 6.05502, 6.08749, 6.01679, 6.01048, 6.…\n  :CYTBD                    => [43.9091, 43.895, 43.9114, 43.9516, 43.7311, 43.…\n  :D_LACt2                  => [-0.00956337, -0.00666338, -0.00961199, -0.00117…\n  :ENO                      => [14.7702, 14.7373, 14.7698, 14.6914, 14.7512, 14…\n  :ETOHt2r                  => [-0.010035, -0.0209739, -0.0101692, -0.00817705,…\n  ⋮                         => ⋮"
     },
     "metadata": {},
     "execution_count": 2
    }
   ],
   "cell_type": "code",
   "source": [
    "s = flux_sample(\n",
    "    model,\n",
    "    optimizer = HiGHS.Optimizer,\n",
    "    objective_bound = relative_tolerance_bound(0.99),\n",
    "    n_chains = 2,\n",
    "    collect_iterations = [10],\n",
    ")"
   ],
   "metadata": {},
   "execution_count": 2
  },
  {
   "cell_type": "markdown",
   "source": [
    "The result is a tree of vectors of sampled states for each value; the order\n",
    "of the values in these vectors is fixed. You can thus e.g. create a good\n",
    "matrix for plotting the sample as 2D scatter plot:"
   ],
   "metadata": {}
  },
  {
   "outputs": [
    {
     "output_type": "execute_result",
     "data": {
      "text/plain": "380×2 Matrix{Float64}:\n 21.9545  -22.9277\n 21.9475  -22.9335\n 21.9557  -22.9284\n 21.9758  -22.9324\n 21.8656  -22.8405\n 21.9563  -22.9289\n 21.9588  -22.932\n 21.9145  -22.8782\n 21.9727  -22.9568\n 21.9607  -22.9436\n  ⋮       \n 21.9872  -22.955\n 21.9219  -22.8947\n 21.9407  -22.9027\n 21.9113  -22.8792\n 21.9514  -22.9173\n 21.9566  -22.9228\n 21.8941  -22.894\n 21.9427  -22.9058\n 21.9255  -22.885"
     },
     "metadata": {},
     "execution_count": 3
    }
   ],
   "cell_type": "code",
   "source": [
    "[s.O2t s.CO2t]"
   ],
   "metadata": {},
   "execution_count": 3
  },
  {
   "cell_type": "markdown",
   "source": [
    "---\n",
    "\n",
    "*This notebook was generated using [Literate.jl](https://github.com/fredrikekre/Literate.jl).*"
   ],
   "metadata": {}
  }
 ],
 "nbformat_minor": 3,
 "metadata": {
  "language_info": {
   "file_extension": ".jl",
   "mimetype": "application/julia",
   "name": "julia",
   "version": "1.11.6"
  },
  "kernelspec": {
   "name": "julia-1.11",
   "display_name": "Julia 1.11.6",
   "language": "julia"
  }
 },
 "nbformat": 4
}
