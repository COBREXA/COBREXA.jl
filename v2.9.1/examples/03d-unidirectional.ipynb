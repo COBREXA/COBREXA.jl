{
 "cells": [
  {
   "cell_type": "markdown",
   "source": [
    "# Split unidirectional reactions in models\n",
    "\n",
    "By default, the constraint system produced by e.g.\n",
    "`flux_balance_constraints` assumes a single variable for each\n",
    "reaction flux that may be both positive and negative (depending on the\n",
    "reaction). This example explains several ways to \"split\" such bidirectional\n",
    "fluxes into unidirectional \"forward\" and \"reverse\" parts. This is useful in\n",
    "modeling of capacity constraints (such system can be found e.g. in\n",
    "`enzyme_constrained_flux_balance_analysis` and\n",
    "`linear_parsimonious_flux_balance_analysis`) and many other\n",
    "purposes.\n",
    "\n",
    "Here we show how to create such system for the toy E. coli model:"
   ],
   "metadata": {}
  },
  {
   "outputs": [
    {
     "name": "stdout",
     "output_type": "stream",
     "text": [
      "[ Info: using cached `e_coli_core.json'\n"
     ]
    },
    {
     "output_type": "execute_result",
     "data": {
      "text/plain": "JSONFBCModels.JSONFBCModel(#= 95 reactions, 72 metabolites =#)"
     },
     "metadata": {},
     "execution_count": 1
    }
   ],
   "cell_type": "code",
   "source": [
    "using COBREXA\n",
    "\n",
    "download_model(\n",
    "    \"http://bigg.ucsd.edu/static/models/e_coli_core.json\",\n",
    "    \"e_coli_core.json\",\n",
    "    \"7bedec10576cfe935b19218dc881f3fb14f890a1871448fc19a9b4ee15b448d8\",\n",
    ")\n",
    "\n",
    "import JSONFBCModels\n",
    "import HiGHS\n",
    "import ConstraintTrees as C\n",
    "\n",
    "model = load_model(\"e_coli_core.json\")"
   ],
   "metadata": {},
   "execution_count": 1
  },
  {
   "cell_type": "markdown",
   "source": [
    "We will only work with the constraint representation of the model. The fluxes\n",
    "there are bidirectional:"
   ],
   "metadata": {}
  },
  {
   "outputs": [
    {
     "output_type": "execute_result",
     "data": {
      "text/plain": "ConstraintTrees.ConstraintTree with 95 elements:\n  :ACALD                    => ConstraintTrees.Constraint(ConstraintTrees.Linea…\n  :ACALDt                   => ConstraintTrees.Constraint(ConstraintTrees.Linea…\n  :ACKr                     => ConstraintTrees.Constraint(ConstraintTrees.Linea…\n  :ACONTa                   => ConstraintTrees.Constraint(ConstraintTrees.Linea…\n  :ACONTb                   => ConstraintTrees.Constraint(ConstraintTrees.Linea…\n  :ACt2r                    => ConstraintTrees.Constraint(ConstraintTrees.Linea…\n  :ADK1                     => ConstraintTrees.Constraint(ConstraintTrees.Linea…\n  :AKGDH                    => ConstraintTrees.Constraint(ConstraintTrees.Linea…\n  :AKGt2r                   => ConstraintTrees.Constraint(ConstraintTrees.Linea…\n  :ALCD2x                   => ConstraintTrees.Constraint(ConstraintTrees.Linea…\n  :ATPM                     => ConstraintTrees.Constraint(ConstraintTrees.Linea…\n  :ATPS4r                   => ConstraintTrees.Constraint(ConstraintTrees.Linea…\n  :BIOMASS_Ecoli_core_w_GAM => ConstraintTrees.Constraint(ConstraintTrees.Linea…\n  :CO2t                     => ConstraintTrees.Constraint(ConstraintTrees.Linea…\n  :CS                       => ConstraintTrees.Constraint(ConstraintTrees.Linea…\n  :CYTBD                    => ConstraintTrees.Constraint(ConstraintTrees.Linea…\n  :D_LACt2                  => ConstraintTrees.Constraint(ConstraintTrees.Linea…\n  :ENO                      => ConstraintTrees.Constraint(ConstraintTrees.Linea…\n  :ETOHt2r                  => ConstraintTrees.Constraint(ConstraintTrees.Linea…\n  ⋮                         => ⋮"
     },
     "metadata": {},
     "execution_count": 2
    }
   ],
   "cell_type": "code",
   "source": [
    "c = flux_balance_constraints(model);\n",
    "c.fluxes"
   ],
   "metadata": {},
   "execution_count": 2
  },
  {
   "cell_type": "markdown",
   "source": [
    "As the simplest approach, we can allocate 2 sets of variables for the forward\n",
    "and reverse fluxes via `sign_split_variables` and connect them to the\n",
    "fluxes with `sign_split_constraints`. These functions ensure that the\n",
    "bounds of the unidirectional fluxes are within the expectable limit, and,\n",
    "respectively, that the original fluxes are constrained to match the sum of\n",
    "the split directions:"
   ],
   "metadata": {}
  },
  {
   "outputs": [
    {
     "output_type": "execute_result",
     "data": {
      "text/plain": "ConstraintTrees.ConstraintTree with 7 elements:\n  :coupling                 => ConstraintTrees.ConstraintTree(#= 0 elements =#)\n  :directional_flux_balance => ConstraintTrees.ConstraintTree(#= 95 elements =#)\n  :flux_stoichiometry       => ConstraintTrees.ConstraintTree(#= 72 elements =#)\n  :fluxes                   => ConstraintTrees.ConstraintTree(#= 95 elements =#)\n  :fluxes_forward           => ConstraintTrees.ConstraintTree(#= 95 elements =#)\n  :fluxes_reverse           => ConstraintTrees.ConstraintTree(#= 95 elements =#)\n  :objective                => ConstraintTrees.Constraint(ConstraintTrees.Linea…"
     },
     "metadata": {},
     "execution_count": 3
    }
   ],
   "cell_type": "code",
   "source": [
    "c += sign_split_variables(c.fluxes, positive = :fluxes_forward, negative = :fluxes_reverse);\n",
    "c *=\n",
    "    :directional_flux_balance^sign_split_constraints(\n",
    "        positive = c.fluxes_forward,\n",
    "        negative = c.fluxes_reverse,\n",
    "        signed = c.fluxes,\n",
    "    )"
   ],
   "metadata": {},
   "execution_count": 3
  },
  {
   "cell_type": "markdown",
   "source": [
    "We can solve this system as usual and observe the results as usual"
   ],
   "metadata": {}
  },
  {
   "outputs": [
    {
     "output_type": "execute_result",
     "data": {
      "text/plain": "ConstraintTrees.Tree{Tuple} with 95 elements:\n  :ACALD                    => (0.0, 0.0, 0.0)\n  :ACALDt                   => (0.0, 1000.0, 1000.0)\n  :ACKr                     => (0.0, 1000.0, 1000.0)\n  :ACONTa                   => (6.00725, 6.00725, 0.0)\n  :ACONTb                   => (6.00725, 6.00725, 0.0)\n  :ACt2r                    => (0.0, 1000.0, 1000.0)\n  :ADK1                     => (0.0, 0.0, 0.0)\n  :AKGDH                    => (5.06438, 5.06438, 0.0)\n  :AKGt2r                   => (0.0, 1000.0, 1000.0)\n  :ALCD2x                   => (0.0, 1000.0, 1000.0)\n  :ATPM                     => (8.39, 8.39, 0.0)\n  :ATPS4r                   => (45.514, 45.514, 0.0)\n  :BIOMASS_Ecoli_core_w_GAM => (0.873922, 0.873922, 0.0)\n  :CO2t                     => (-22.8098, 0.0, 22.8098)\n  :CS                       => (6.00725, 6.00725, 0.0)\n  :CYTBD                    => (43.599, 43.599, 0.0)\n  :D_LACt2                  => (0.0, 1000.0, 1000.0)\n  :ENO                      => (14.7161, 14.7161, 0.0)\n  :ETOHt2r                  => (0.0, 1000.0, 1000.0)\n  ⋮                         => ⋮"
     },
     "metadata": {},
     "execution_count": 4
    }
   ],
   "cell_type": "code",
   "source": [
    "x = optimized_values(c, objective = c.objective.value, optimizer = HiGHS.Optimizer)\n",
    "\n",
    "C.zip(tuple, x.fluxes, x.fluxes_forward, x.fluxes_reverse, Tuple)"
   ],
   "metadata": {},
   "execution_count": 4
  },
  {
   "cell_type": "markdown",
   "source": [
    "## Simplifying the system using asymmetric construction\n",
    "\n",
    "If used naively, the above construction uses 3 variables and many constraints\n",
    "for each flux, which is not quite efficient. To ameliorate the usage of\n",
    "solver resources, one may construct a slightly simpler (but asymmetric)\n",
    "system that only uses 2 variables:"
   ],
   "metadata": {}
  },
  {
   "outputs": [],
   "cell_type": "code",
   "source": [
    "c2 = flux_balance_constraints(model);\n",
    "c2 += :fluxes_forward^unsigned_positive_contribution_variables(c2.fluxes);\n",
    "c2 *=\n",
    "    :fluxes_reverse^unsigned_negative_contribution_constraints(c2.fluxes, c2.fluxes_forward);"
   ],
   "metadata": {},
   "execution_count": 5
  },
  {
   "cell_type": "markdown",
   "source": [
    "This way, only forward fluxes are allocated as variables, and reverse fluxes\n",
    "are \"computed\" as linearly dependent values. Additionally, since the bounds\n",
    "on the forward and reverse fluxes completely subsume the original bounds on\n",
    "fluxes, one can further simplify the system by removing the original bounds:"
   ],
   "metadata": {}
  },
  {
   "outputs": [
    {
     "output_type": "execute_result",
     "data": {
      "text/plain": "ConstraintTrees.ConstraintTree with 95 elements:\n  :ACALD                    => ConstraintTrees.Constraint(ConstraintTrees.Linea…\n  :ACALDt                   => ConstraintTrees.Constraint(ConstraintTrees.Linea…\n  :ACKr                     => ConstraintTrees.Constraint(ConstraintTrees.Linea…\n  :ACONTa                   => ConstraintTrees.Constraint(ConstraintTrees.Linea…\n  :ACONTb                   => ConstraintTrees.Constraint(ConstraintTrees.Linea…\n  :ACt2r                    => ConstraintTrees.Constraint(ConstraintTrees.Linea…\n  :ADK1                     => ConstraintTrees.Constraint(ConstraintTrees.Linea…\n  :AKGDH                    => ConstraintTrees.Constraint(ConstraintTrees.Linea…\n  :AKGt2r                   => ConstraintTrees.Constraint(ConstraintTrees.Linea…\n  :ALCD2x                   => ConstraintTrees.Constraint(ConstraintTrees.Linea…\n  :ATPM                     => ConstraintTrees.Constraint(ConstraintTrees.Linea…\n  :ATPS4r                   => ConstraintTrees.Constraint(ConstraintTrees.Linea…\n  :BIOMASS_Ecoli_core_w_GAM => ConstraintTrees.Constraint(ConstraintTrees.Linea…\n  :CO2t                     => ConstraintTrees.Constraint(ConstraintTrees.Linea…\n  :CS                       => ConstraintTrees.Constraint(ConstraintTrees.Linea…\n  :CYTBD                    => ConstraintTrees.Constraint(ConstraintTrees.Linea…\n  :D_LACt2                  => ConstraintTrees.Constraint(ConstraintTrees.Linea…\n  :ENO                      => ConstraintTrees.Constraint(ConstraintTrees.Linea…\n  :ETOHt2r                  => ConstraintTrees.Constraint(ConstraintTrees.Linea…\n  ⋮                         => ⋮"
     },
     "metadata": {},
     "execution_count": 6
    }
   ],
   "cell_type": "code",
   "source": [
    "c2.fluxes = remove_bounds(c2.fluxes)"
   ],
   "metadata": {},
   "execution_count": 6
  },
  {
   "cell_type": "markdown",
   "source": [
    "The system solves just like the \"symmetric\" one:"
   ],
   "metadata": {}
  },
  {
   "outputs": [
    {
     "output_type": "execute_result",
     "data": {
      "text/plain": "ConstraintTrees.Tree{Float64} with 6 elements:\n  :coupling           => ConstraintTrees.Tree{Float64}(#= 0 elements =#)\n  :flux_stoichiometry => ConstraintTrees.Tree{Float64}(#= 72 elements =#)\n  :fluxes             => ConstraintTrees.Tree{Float64}(#= 95 elements =#)\n  :fluxes_forward     => ConstraintTrees.Tree{Float64}(#= 95 elements =#)\n  :fluxes_reverse     => ConstraintTrees.Tree{Float64}(#= 95 elements =#)\n  :objective          => 0.873922"
     },
     "metadata": {},
     "execution_count": 7
    }
   ],
   "cell_type": "code",
   "source": [
    "x2 = optimized_values(c2, objective = c2.objective.value, optimizer = HiGHS.Optimizer)"
   ],
   "metadata": {},
   "execution_count": 7
  },
  {
   "cell_type": "markdown",
   "source": [
    "We can also compare the raw variable counts:"
   ],
   "metadata": {}
  },
  {
   "outputs": [
    {
     "output_type": "execute_result",
     "data": {
      "text/plain": "(285, 190)"
     },
     "metadata": {},
     "execution_count": 8
    }
   ],
   "cell_type": "code",
   "source": [
    "(C.var_count(c), C.var_count(c2))"
   ],
   "metadata": {},
   "execution_count": 8
  },
  {
   "cell_type": "markdown",
   "source": [
    "## Simplifying the system by removing original variables\n",
    "\n",
    "If one can assume that the original system is just allocated variables with\n",
    "no other semantics attached, one can reduce the variable and constraint count\n",
    "even in the \"nicer\" symmetric case from above.\n",
    "\n",
    "In particular, it is possible to substitute a combination of forward and\n",
    "reverse flux for the bidirectional variables, which allows them to be pruned\n",
    "out of the system together with their original associated bounds:"
   ],
   "metadata": {}
  },
  {
   "outputs": [
    {
     "output_type": "execute_result",
     "data": {
      "text/plain": "ConstraintTrees.ConstraintTree with 7 elements:\n  :coupling                 => ConstraintTrees.ConstraintTree(#= 0 elements =#)\n  :directional_flux_balance => ConstraintTrees.ConstraintTree(#= 95 elements =#)\n  :flux_stoichiometry       => ConstraintTrees.ConstraintTree(#= 72 elements =#)\n  :fluxes                   => ConstraintTrees.ConstraintTree(#= 95 elements =#)\n  :fluxes_forward           => ConstraintTrees.ConstraintTree(#= 95 elements =#)\n  :fluxes_reverse           => ConstraintTrees.ConstraintTree(#= 95 elements =#)\n  :objective                => ConstraintTrees.Constraint(ConstraintTrees.Linea…"
     },
     "metadata": {},
     "execution_count": 9
    }
   ],
   "cell_type": "code",
   "source": [
    "subst_vals = [C.variable(; idx).value for idx = 1:C.var_count(c)]\n",
    "\n",
    "c.fluxes = C.zip(c.fluxes, c.fluxes_forward, c.fluxes_reverse) do f, p, n\n",
    "    (var_idx,) = f.value.idxs\n",
    "    subst_value = p.value - n.value\n",
    "    subst_vals[var_idx] = subst_value\n",
    "    C.Constraint(subst_value) # the bidirectional bound is dropped here\n",
    "end\n",
    "\n",
    "c = C.prune_variables(C.substitute(c, subst_vals))"
   ],
   "metadata": {},
   "execution_count": 9
  },
  {
   "cell_type": "markdown",
   "source": [
    "The variable count is now reduced, and the system again solves just as the\n",
    "original:"
   ],
   "metadata": {}
  },
  {
   "outputs": [
    {
     "output_type": "execute_result",
     "data": {
      "text/plain": "190"
     },
     "metadata": {},
     "execution_count": 10
    }
   ],
   "cell_type": "code",
   "source": [
    "C.var_count(c)"
   ],
   "metadata": {},
   "execution_count": 10
  },
  {
   "outputs": [
    {
     "output_type": "execute_result",
     "data": {
      "text/plain": "0.8739215069684304"
     },
     "metadata": {},
     "execution_count": 11
    }
   ],
   "cell_type": "code",
   "source": [
    "x = optimized_values(c, objective = c.objective.value, optimizer = HiGHS.Optimizer);\n",
    "x.objective"
   ],
   "metadata": {},
   "execution_count": 11
  },
  {
   "cell_type": "markdown",
   "source": [
    "The bidirectional flux values are computed transparently in the result:"
   ],
   "metadata": {}
  },
  {
   "outputs": [
    {
     "output_type": "execute_result",
     "data": {
      "text/plain": "ConstraintTrees.Tree{Float64} with 95 elements:\n  :ACALD                    => 0.0\n  :ACALDt                   => 0.0\n  :ACKr                     => 0.0\n  :ACONTa                   => 6.00725\n  :ACONTb                   => 6.00725\n  :ACt2r                    => 0.0\n  :ADK1                     => 0.0\n  :AKGDH                    => 5.06438\n  :AKGt2r                   => 0.0\n  :ALCD2x                   => 0.0\n  :ATPM                     => 8.39\n  :ATPS4r                   => 45.514\n  :BIOMASS_Ecoli_core_w_GAM => 0.873922\n  :CO2t                     => -22.8098\n  :CS                       => 6.00725\n  :CYTBD                    => 43.599\n  :D_LACt2                  => 0.0\n  :ENO                      => 14.7161\n  :ETOHt2r                  => 0.0\n  ⋮                         => ⋮"
     },
     "metadata": {},
     "execution_count": 12
    }
   ],
   "cell_type": "code",
   "source": [
    "x.fluxes"
   ],
   "metadata": {},
   "execution_count": 12
  },
  {
   "cell_type": "markdown",
   "source": [
    "---\n",
    "\n",
    "*This notebook was generated using [Literate.jl](https://github.com/fredrikekre/Literate.jl).*"
   ],
   "metadata": {}
  }
 ],
 "nbformat_minor": 3,
 "metadata": {
  "language_info": {
   "file_extension": ".jl",
   "mimetype": "application/julia",
   "name": "julia",
   "version": "1.11.6"
  },
  "kernelspec": {
   "name": "julia-1.11",
   "display_name": "Julia 1.11.6",
   "language": "julia"
  }
 },
 "nbformat": 4
}
