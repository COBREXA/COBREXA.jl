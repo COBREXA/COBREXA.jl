{
 "cells": [
  {
   "cell_type": "markdown",
   "source": [
    "# Flux sampling\n",
    "\n",
    "Flux sampling gives an interesting statistical insight into the behavior of\n",
    "the model in the optimal feasible space, and the general \"shape\" of the\n",
    "optimal- or near-optimal set of feasible states of a given model."
   ],
   "metadata": {}
  },
  {
   "cell_type": "markdown",
   "source": [
    "For demonstration, we need the usual packages and models:"
   ],
   "metadata": {}
  },
  {
   "outputs": [
    {
     "name": "stdout",
     "output_type": "stream",
     "text": [
      "[ Info: using cached `e_coli_core.json'\n"
     ]
    },
    {
     "output_type": "execute_result",
     "data": {
      "text/plain": "JSONFBCModels.JSONFBCModel(#= 95 reactions, 72 metabolites =#)"
     },
     "metadata": {},
     "execution_count": 1
    }
   ],
   "cell_type": "code",
   "source": [
    "using COBREXA\n",
    "\n",
    "download_model(\n",
    "    \"http://bigg.ucsd.edu/static/models/e_coli_core.json\",\n",
    "    \"e_coli_core.json\",\n",
    "    \"7bedec10576cfe935b19218dc881f3fb14f890a1871448fc19a9b4ee15b448d8\",\n",
    ")\n",
    "\n",
    "import JSONFBCModels, HiGHS\n",
    "\n",
    "model = load_model(\"e_coli_core.json\")"
   ],
   "metadata": {},
   "execution_count": 1
  },
  {
   "cell_type": "markdown",
   "source": [
    "Function `flux_sample` uses linear optimization to generate a set of\n",
    "warm-up points (by default, the method to generate the warm-up is basically\n",
    "FVA), and then runs the hit-and-run flux sampling algorithm on the\n",
    "near-optimal feasible space of the model:"
   ],
   "metadata": {}
  },
  {
   "outputs": [
    {
     "output_type": "execute_result",
     "data": {
      "text/plain": "ConstraintTrees.Tree{Vector{Float64}} with 95 elements:\n  :ACALD                    => [-0.0477834, -0.00666094, -0.015811, -0.0145081,…\n  :ACALDt                   => [-0.0399295, -0.00324086, -0.00720358, -0.005449…\n  :ACKr                     => [-0.0170325, -0.0102737, -0.0249386, -0.0197035,…\n  :ACONTa                   => [6.02969, 5.87576, 6.05997, 6.03164, 6.03991, 6.…\n  :ACONTb                   => [6.02969, 5.87576, 6.05997, 6.03164, 6.03991, 6.…\n  :ACt2r                    => [-0.0170325, -0.0102737, -0.0249386, -0.0197035,…\n  :ADK1                     => [0.0338447, 0.0321294, 0.0393844, 0.0393886, 0.0…\n  :AKGDH                    => [4.59331, 4.10669, 4.44379, 4.50364, 4.53922, 4.…\n  :AKGt2r                   => [-0.00114341, -0.00146445, -0.00131951, -0.00131…\n  :ALCD2x                   => [-0.00785384, -0.00342008, -0.0086074, -0.009059…\n  :ATPM                     => [8.42255, 8.42547, 8.42453, 8.42668, 8.42894, 8.…\n  :ATPS4r                   => [45.1968, 45.4708, 45.1998, 45.2652, 45.2499, 45…\n  :BIOMASS_Ecoli_core_w_GAM => [0.865448, 0.86562, 0.865394, 0.86551, 0.865498,…\n  :CO2t                     => [-22.9, -22.9757, -22.9542, -22.9373, -22.9272, …\n  :CS                       => [6.02969, 5.87576, 6.05997, 6.03164, 6.03991, 6.…\n  :CYTBD                    => [43.806, 43.9827, 43.9473, 43.9221, 43.9061, 43.…\n  :D_LACt2                  => [-0.00900584, -0.0116647, -0.0102783, -0.0103384…\n  :ENO                      => [14.7393, 14.5445, 14.7463, 14.7142, 14.725, 14.…\n  :ETOHt2r                  => [-0.00785384, -0.00342008, -0.0086074, -0.009059…\n  ⋮                         => ⋮"
     },
     "metadata": {},
     "execution_count": 2
    }
   ],
   "cell_type": "code",
   "source": [
    "s = flux_sample(\n",
    "    model,\n",
    "    optimizer = HiGHS.Optimizer,\n",
    "    objective_bound = relative_tolerance_bound(0.99),\n",
    "    n_chains = 2,\n",
    "    collect_iterations = [10],\n",
    ")"
   ],
   "metadata": {},
   "execution_count": 2
  },
  {
   "cell_type": "markdown",
   "source": [
    "The result is a tree of vectors of sampled states for each value; the order\n",
    "of the values in these vectors is fixed. You can thus e.g. create a good\n",
    "matrix for plotting the sample as 2D scatterplot:"
   ],
   "metadata": {}
  },
  {
   "outputs": [
    {
     "output_type": "execute_result",
     "data": {
      "text/plain": "380×2 Matrix{Float64}:\n 21.903   -22.9\n 21.9914  -22.9757\n 21.9736  -22.9542\n 21.961   -22.9373\n 21.953   -22.9272\n 21.9571  -22.9329\n 21.9445  -22.9185\n 21.9562  -22.9327\n 21.9691  -22.9413\n 21.931   -22.9058\n  ⋮       \n 21.9546  -22.9264\n 21.9029  -22.875\n 22.0592  -23.0384\n 21.9621  -22.9295\n 21.9595  -22.931\n 21.9908  -22.9644\n 22.0214  -22.9874\n 21.9847  -22.9673\n 21.9415  -22.915"
     },
     "metadata": {},
     "execution_count": 3
    }
   ],
   "cell_type": "code",
   "source": [
    "[s.O2t s.CO2t]"
   ],
   "metadata": {},
   "execution_count": 3
  },
  {
   "cell_type": "markdown",
   "source": [
    "---\n",
    "\n",
    "*This notebook was generated using [Literate.jl](https://github.com/fredrikekre/Literate.jl).*"
   ],
   "metadata": {}
  }
 ],
 "nbformat_minor": 3,
 "metadata": {
  "language_info": {
   "file_extension": ".jl",
   "mimetype": "application/julia",
   "name": "julia",
   "version": "1.9.4"
  },
  "kernelspec": {
   "name": "julia-1.9",
   "display_name": "Julia 1.9.4",
   "language": "julia"
  }
 },
 "nbformat": 4
}
