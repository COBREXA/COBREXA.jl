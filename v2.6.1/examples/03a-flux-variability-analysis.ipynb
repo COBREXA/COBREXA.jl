{
 "cells": [
  {
   "cell_type": "markdown",
   "source": [
    "# Flux variability analysis (FVA)"
   ],
   "metadata": {}
  },
  {
   "cell_type": "markdown",
   "source": [
    "FVA finds a range of fluxes through each reaction where the model can behave\n",
    "optimally. In brief, it first runs a FBA to get the optimal objective value,\n",
    "constraints the model to the optimal (or near-optimal) space, and runs a\n",
    "separate minimization and maximization task for each reaction to find their\n",
    "individual ranges."
   ],
   "metadata": {}
  },
  {
   "outputs": [
    {
     "name": "stdout",
     "output_type": "stream",
     "text": [
      "[ Info: using cached `e_coli_core.json'\n"
     ]
    },
    {
     "output_type": "execute_result",
     "data": {
      "text/plain": "JSONFBCModels.JSONFBCModel(#= 95 reactions, 72 metabolites =#)"
     },
     "metadata": {},
     "execution_count": 1
    }
   ],
   "cell_type": "code",
   "source": [
    "using COBREXA\n",
    "\n",
    "download_model(\n",
    "    \"http://bigg.ucsd.edu/static/models/e_coli_core.json\",\n",
    "    \"e_coli_core.json\",\n",
    "    \"7bedec10576cfe935b19218dc881f3fb14f890a1871448fc19a9b4ee15b448d8\",\n",
    ")\n",
    "\n",
    "import JSONFBCModels, HiGHS\n",
    "\n",
    "model = load_model(\"e_coli_core.json\")"
   ],
   "metadata": {},
   "execution_count": 1
  },
  {
   "cell_type": "markdown",
   "source": [
    "The \"usual\" form of FBA is available via the eponymous function:"
   ],
   "metadata": {}
  },
  {
   "outputs": [
    {
     "output_type": "execute_result",
     "data": {
      "text/plain": "ConstraintTrees.Tree{Tuple{Union{Nothing, Float64}, Union{Nothing, Float64}}} with 95 elements:\n  :ACALD                    => (-2.54237, 0.0)\n  :ACALDt                   => (-2.54237, 0.0)\n  :ACKr                     => (-3.81356, 0.0)\n  :ACONTa                   => (0.848587, 8.89452)\n  :ACONTb                   => (0.848587, 8.89452)\n  :ACt2r                    => (-3.81356, 0.0)\n  :ADK1                     => (-0.0, 17.161)\n  :AKGDH                    => (-0.0, 8.04593)\n  :AKGt2r                   => (-1.43008, 0.0)\n  :ALCD2x                   => (-2.21432, 0.0)\n  :ATPM                     => (8.39, 25.551)\n  :ATPS4r                   => (34.8256, 59.3811)\n  :BIOMASS_Ecoli_core_w_GAM => (0.786529, 0.873922)\n  :CO2t                     => (-26.5288, -15.2065)\n  :CS                       => (0.848587, 8.89452)\n  :CYTBD                    => (35.9849, 51.2391)\n  :D_LACt2                  => (-2.14512, 0.0)\n  :ENO                      => (8.68659, 16.7325)\n  :ETOHt2r                  => (-2.21432, 0.0)\n  ⋮                         => ⋮"
     },
     "metadata": {},
     "execution_count": 2
    }
   ],
   "cell_type": "code",
   "source": [
    "solution = flux_variability_analysis(model, optimizer = HiGHS.Optimizer)"
   ],
   "metadata": {},
   "execution_count": 2
  },
  {
   "cell_type": "markdown",
   "source": [
    "## Specifying objective bounds"
   ],
   "metadata": {}
  },
  {
   "cell_type": "markdown",
   "source": [
    "By default, FVA computes variability from the feasible region that is bounded\n",
    "to be within 10% of the optimal objective value. That is not very strict, and\n",
    "we can force much lower tolerance."
   ],
   "metadata": {}
  },
  {
   "cell_type": "markdown",
   "source": [
    "Here, we force the optimal region to be within 0.00001 units of the optimal\n",
    "objective value:"
   ],
   "metadata": {}
  },
  {
   "outputs": [
    {
     "output_type": "execute_result",
     "data": {
      "text/plain": "ConstraintTrees.Tree{Tuple{Union{Nothing, Float64}, Union{Nothing, Float64}}} with 95 elements:\n  :ACALD                    => (-0.000290915, 0.0)\n  :ACALDt                   => (-0.000290915, 0.0)\n  :ACKr                     => (-0.000436373, 0.0)\n  :ACONTa                   => (6.00588, 6.00903)\n  :ACONTb                   => (6.00588, 6.00903)\n  :ACt2r                    => (-0.000436373, 0.0)\n  :ADK1                     => (-0.0, 0.00196368)\n  :AKGDH                    => (5.05517, 5.06616)\n  :AKGt2r                   => (-0.00016364, 0.0)\n  :ALCD2x                   => (-0.000253378, 0.0)\n  :ATPM                     => (8.39, 8.39196)\n  :ATPS4r                   => (45.5099, 45.5162)\n  :BIOMASS_Ecoli_core_w_GAM => (0.873912, 0.873922)\n  :CO2t                     => (-22.8103, -22.8089)\n  :CS                       => (6.00588, 6.00903)\n  :CYTBD                    => (43.5981, 43.5999)\n  :D_LACt2                  => (-0.00024546, 0.0)\n  :ENO                      => (14.7147, 14.7178)\n  :ETOHt2r                  => (-0.000253378, 0.0)\n  ⋮                         => ⋮"
     },
     "metadata": {},
     "execution_count": 3
    }
   ],
   "cell_type": "code",
   "source": [
    "very_close = flux_variability_analysis(\n",
    "    model,\n",
    "    optimizer = HiGHS.Optimizer,\n",
    "    objective_bound = absolute_tolerance_bound(1e-5),\n",
    ")"
   ],
   "metadata": {},
   "execution_count": 3
  },
  {
   "cell_type": "markdown",
   "source": [
    "Here, we relax that to 1% of the optimal objective value:"
   ],
   "metadata": {}
  },
  {
   "outputs": [
    {
     "output_type": "execute_result",
     "data": {
      "text/plain": "ConstraintTrees.Tree{Tuple{Union{Nothing, Float64}, Union{Nothing, Float64}}} with 95 elements:\n  :ACALD                    => (-0.254237, 0.0)\n  :ACALDt                   => (-0.254237, 0.0)\n  :ACKr                     => (-0.381356, 0.0)\n  :ACONTa                   => (4.8143, 7.56006)\n  :ACONTb                   => (4.8143, 7.56006)\n  :ACt2r                    => (-0.381356, 0.0)\n  :ADK1                     => (-0.0, 1.7161)\n  :AKGDH                    => (1.18233, 6.62661)\n  :AKGt2r                   => (-0.143008, 0.0)\n  :ALCD2x                   => (-0.221432, 0.0)\n  :ATPM                     => (8.39, 10.1061)\n  :ATPS4r                   => (41.917, 47.4085)\n  :BIOMASS_Ecoli_core_w_GAM => (0.865182, 0.873922)\n  :CO2t                     => (-23.1817, -22.0377)\n  :CS                       => (4.8143, 7.56006)\n  :CYTBD                    => (42.8376, 44.363)\n  :D_LACt2                  => (-0.214512, 0.0)\n  :ENO                      => (13.4361, 16.1819)\n  :ETOHt2r                  => (-0.221432, 0.0)\n  ⋮                         => ⋮"
     },
     "metadata": {},
     "execution_count": 4
    }
   ],
   "cell_type": "code",
   "source": [
    "one_percent_close = flux_variability_analysis(\n",
    "    model,\n",
    "    optimizer = HiGHS.Optimizer,\n",
    "    objective_bound = relative_tolerance_bound(0.99),\n",
    ")"
   ],
   "metadata": {},
   "execution_count": 4
  },
  {
   "cell_type": "markdown",
   "source": [
    "---\n",
    "\n",
    "*This notebook was generated using [Literate.jl](https://github.com/fredrikekre/Literate.jl).*"
   ],
   "metadata": {}
  }
 ],
 "nbformat_minor": 3,
 "metadata": {
  "language_info": {
   "file_extension": ".jl",
   "mimetype": "application/julia",
   "name": "julia",
   "version": "1.11.2"
  },
  "kernelspec": {
   "name": "julia-1.11",
   "display_name": "Julia 1.11.2",
   "language": "julia"
  }
 },
 "nbformat": 4
}
