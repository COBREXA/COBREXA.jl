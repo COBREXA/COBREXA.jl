{
 "cells": [
  {
   "cell_type": "markdown",
   "source": [
    "# Flux sampling\n",
    "\n",
    "Flux sampling gives an interesting statistical insight into the behavior of\n",
    "the model in the optimal feasible space, and the general \"shape\" of the\n",
    "optimal- or near-optimal set of feasible states of a given model."
   ],
   "metadata": {}
  },
  {
   "cell_type": "markdown",
   "source": [
    "For demonstration, we need the usual packages and models:"
   ],
   "metadata": {}
  },
  {
   "outputs": [
    {
     "name": "stdout",
     "output_type": "stream",
     "text": [
      "[ Info: using cached `e_coli_core.json'\n"
     ]
    },
    {
     "output_type": "execute_result",
     "data": {
      "text/plain": "JSONFBCModels.JSONFBCModel(#= 95 reactions, 72 metabolites =#)"
     },
     "metadata": {},
     "execution_count": 1
    }
   ],
   "cell_type": "code",
   "source": [
    "using COBREXA\n",
    "\n",
    "download_model(\n",
    "    \"http://bigg.ucsd.edu/static/models/e_coli_core.json\",\n",
    "    \"e_coli_core.json\",\n",
    "    \"7bedec10576cfe935b19218dc881f3fb14f890a1871448fc19a9b4ee15b448d8\",\n",
    ")\n",
    "\n",
    "import JSONFBCModels, HiGHS\n",
    "\n",
    "model = load_model(\"e_coli_core.json\")"
   ],
   "metadata": {},
   "execution_count": 1
  },
  {
   "cell_type": "markdown",
   "source": [
    "Function `flux_sample` uses linear optimization to generate a set of\n",
    "warm-up points (by default, the method to generate the warm-up is basically\n",
    "FVA), and then runs the hit-and-run flux sampling algorithm on the\n",
    "near-optimal feasible space of the model:"
   ],
   "metadata": {}
  },
  {
   "outputs": [
    {
     "output_type": "execute_result",
     "data": {
      "text/plain": "ConstraintTrees.Tree{Vector{Float64}} with 95 elements:\n  :ACALD                    => [-0.00944061, -0.0133989, -0.0140206, -0.0122159…\n  :ACALDt                   => [-0.00927351, -0.00457768, -0.00552247, -0.00448…\n  :ACKr                     => [-0.0247329, -0.0178471, -0.0179659, -0.0174179,…\n  :ACONTa                   => [5.73465, 6.0374, 6.02523, 6.00501, 6.0318, 5.96…\n  :ACONTb                   => [5.73465, 6.0374, 6.02523, 6.00501, 6.0318, 5.96…\n  :ACt2r                    => [-0.0247329, -0.0178471, -0.0179659, -0.0174179,…\n  :ADK1                     => [0.0923023, 0.0451738, 0.0431039, 0.04202, 0.044…\n  :AKGDH                    => [3.9467, 4.4722, 4.46876, 4.38616, 4.49057, 4.24…\n  :AKGt2r                   => [-0.00334694, -0.00243314, -0.00253392, -0.00225…\n  :ALCD2x                   => [-0.000167107, -0.00882121, -0.00849811, -0.0077…\n  :ATPM                     => [8.46879, 8.43756, 8.44095, 8.43957, 8.44356, 8.…\n  :ATPS4r                   => [46.006, 45.2876, 45.3222, 45.3625, 45.2925, 45.…\n  :BIOMASS_Ecoli_core_w_GAM => [0.865243, 0.865544, 0.865529, 0.865545, 0.86552…\n  :CO2t                     => [-22.9531, -22.9358, -22.9351, -22.9337, -22.931…\n  :CS                       => [5.73465, 6.0374, 6.02523, 6.00501, 6.0318, 5.96…\n  :CYTBD                    => [43.9474, 43.9262, 43.9234, 43.9271, 43.9163, 43…\n  :D_LACt2                  => [-0.0151609, -0.00968154, -0.00979704, -0.011058…\n  :ENO                      => [14.4217, 14.7169, 14.7058, 14.6837, 14.7169, 14…\n  :ETOHt2r                  => [-0.000167107, -0.00882121, -0.00849811, -0.0077…\n  ⋮                         => ⋮"
     },
     "metadata": {},
     "execution_count": 2
    }
   ],
   "cell_type": "code",
   "source": [
    "s = flux_sample(\n",
    "    model,\n",
    "    optimizer = HiGHS.Optimizer,\n",
    "    objective_bound = relative_tolerance_bound(0.99),\n",
    "    n_chains = 2,\n",
    "    collect_iterations = [10],\n",
    ")"
   ],
   "metadata": {},
   "execution_count": 2
  },
  {
   "cell_type": "markdown",
   "source": [
    "The result is a tree of vectors of sampled states for each value; the order\n",
    "of the values in these vectors is fixed. You can thus e.g. create a good\n",
    "matrix for plotting the sample as 2D scatterplot:"
   ],
   "metadata": {}
  },
  {
   "outputs": [
    {
     "output_type": "execute_result",
     "data": {
      "text/plain": "380×2 Matrix{Float64}:\n 21.9737  -22.9531\n 21.9631  -22.9358\n 21.9617  -22.9351\n 21.9636  -22.9337\n 21.9581  -22.9318\n 21.9847  -22.9589\n 21.923   -22.8974\n 21.9658  -22.9388\n 21.9669  -22.9423\n 21.9508  -22.9258\n  ⋮       \n 21.9264  -22.8958\n 21.9584  -22.9279\n 21.9543  -22.9218\n 21.9535  -22.9196\n 22.0164  -22.9742\n 21.9552  -22.9273\n 21.9368  -22.9075\n 21.9442  -22.9119\n 21.9577  -22.923"
     },
     "metadata": {},
     "execution_count": 3
    }
   ],
   "cell_type": "code",
   "source": [
    "[s.O2t s.CO2t]"
   ],
   "metadata": {},
   "execution_count": 3
  },
  {
   "cell_type": "markdown",
   "source": [
    "---\n",
    "\n",
    "*This notebook was generated using [Literate.jl](https://github.com/fredrikekre/Literate.jl).*"
   ],
   "metadata": {}
  }
 ],
 "nbformat_minor": 3,
 "metadata": {
  "language_info": {
   "file_extension": ".jl",
   "mimetype": "application/julia",
   "name": "julia",
   "version": "1.11.2"
  },
  "kernelspec": {
   "name": "julia-1.11",
   "display_name": "Julia 1.11.2",
   "language": "julia"
  }
 },
 "nbformat": 4
}
