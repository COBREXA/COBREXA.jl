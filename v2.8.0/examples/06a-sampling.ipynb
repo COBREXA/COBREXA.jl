{
 "cells": [
  {
   "cell_type": "markdown",
   "source": [
    "# Flux sampling\n",
    "\n",
    "Flux sampling gives an interesting statistical insight into the behavior of\n",
    "the model in the optimal feasible space, and the general \"shape\" of the\n",
    "optimal- or near-optimal set of feasible states of a given model."
   ],
   "metadata": {}
  },
  {
   "cell_type": "markdown",
   "source": [
    "For demonstration, we need the usual packages and models:"
   ],
   "metadata": {}
  },
  {
   "outputs": [
    {
     "name": "stdout",
     "output_type": "stream",
     "text": [
      "[ Info: using cached `e_coli_core.json'\n"
     ]
    },
    {
     "output_type": "execute_result",
     "data": {
      "text/plain": "JSONFBCModels.JSONFBCModel(#= 95 reactions, 72 metabolites =#)"
     },
     "metadata": {},
     "execution_count": 1
    }
   ],
   "cell_type": "code",
   "source": [
    "using COBREXA\n",
    "\n",
    "download_model(\n",
    "    \"http://bigg.ucsd.edu/static/models/e_coli_core.json\",\n",
    "    \"e_coli_core.json\",\n",
    "    \"7bedec10576cfe935b19218dc881f3fb14f890a1871448fc19a9b4ee15b448d8\",\n",
    ")\n",
    "\n",
    "import JSONFBCModels, HiGHS\n",
    "\n",
    "model = load_model(\"e_coli_core.json\")"
   ],
   "metadata": {},
   "execution_count": 1
  },
  {
   "cell_type": "markdown",
   "source": [
    "Function `flux_sample` uses linear optimization to generate a set of\n",
    "warm-up points (by default, the method to generate the warm-up is basically\n",
    "FVA), and then runs the hit-and-run flux sampling algorithm on the\n",
    "near-optimal feasible space of the model:"
   ],
   "metadata": {}
  },
  {
   "outputs": [
    {
     "output_type": "execute_result",
     "data": {
      "text/plain": "ConstraintTrees.Tree{Vector{Float64}} with 95 elements:\n  :ACALD                    => [-0.0280247, -0.0106464, -0.0123057, -0.0154094,…\n  :ACALDt                   => [-0.0198863, -0.00290658, -0.00391052, -0.003126…\n  :ACKr                     => [-0.018652, -0.014709, -0.0248869, -0.0395057, -…\n  :ACONTa                   => [6.06848, 5.87536, 6.03576, 6.18866, 6.04355, 6.…\n  :ACONTb                   => [6.06848, 5.87536, 6.03576, 6.18866, 6.04355, 6.…\n  :ACt2r                    => [-0.018652, -0.014709, -0.0248869, -0.0395057, -…\n  :ADK1                     => [0.0304001, 0.0119862, 0.029391, 0.032235, 0.028…\n  :AKGDH                    => [4.56053, 3.84685, 4.52749, 4.99671, 4.52381, 4.…\n  :AKGt2r                   => [-0.00163192, -0.00176938, -0.00248667, -0.00246…\n  :ALCD2x                   => [-0.00813844, -0.00773979, -0.00839518, -0.01228…\n  :ATPM                     => [8.42072, 8.41775, 8.41712, 8.4455, 8.42278, 8.4…\n  :ATPS4r                   => [45.138, 45.4558, 45.2219, 44.9436, 45.1435, 45.…\n  :BIOMASS_Ecoli_core_w_GAM => [0.865393, 0.865211, 0.86541, 0.865567, 0.865407…\n  :CO2t                     => [-22.9213, -23.0308, -22.9096, -22.8269, -22.899…\n  :CS                       => [6.06848, 5.87536, 6.03576, 6.18866, 6.04355, 6.…\n  :CYTBD                    => [43.8852, 44.0831, 43.8918, 43.7485, 43.8592, 43…\n  :D_LACt2                  => [-0.00695207, -0.00593861, -0.00711361, -0.00995…\n  :ENO                      => [14.76, 14.5368, 14.7231, 14.9007, 14.7452, 14.7…\n  :ETOHt2r                  => [-0.00813844, -0.00773979, -0.00839518, -0.01228…\n  ⋮                         => ⋮"
     },
     "metadata": {},
     "execution_count": 2
    }
   ],
   "cell_type": "code",
   "source": [
    "s = flux_sample(\n",
    "    model,\n",
    "    optimizer = HiGHS.Optimizer,\n",
    "    objective_bound = relative_tolerance_bound(0.99),\n",
    "    n_chains = 2,\n",
    "    collect_iterations = [10],\n",
    ")"
   ],
   "metadata": {},
   "execution_count": 2
  },
  {
   "cell_type": "markdown",
   "source": [
    "The result is a tree of vectors of sampled states for each value; the order\n",
    "of the values in these vectors is fixed. You can thus e.g. create a good\n",
    "matrix for plotting the sample as 2D scatterplot:"
   ],
   "metadata": {}
  },
  {
   "outputs": [
    {
     "output_type": "execute_result",
     "data": {
      "text/plain": "380×2 Matrix{Float64}:\n 21.9426  -22.9213\n 22.0415  -23.0308\n 21.9459  -22.9096\n 21.8743  -22.8269\n 21.9296  -22.8998\n 21.9418  -22.9038\n 21.9378  -22.9022\n 21.935   -22.8959\n 21.9466  -22.9079\n 21.9604  -22.9279\n  ⋮       \n 21.9317  -22.9036\n 21.9117  -22.8822\n 21.9793  -22.9575\n 21.9028  -22.8628\n 21.9219  -22.8904\n 21.9159  -22.8798\n 21.9237  -22.8925\n 21.9607  -22.9397\n 22.0371  -23.0216"
     },
     "metadata": {},
     "execution_count": 3
    }
   ],
   "cell_type": "code",
   "source": [
    "[s.O2t s.CO2t]"
   ],
   "metadata": {},
   "execution_count": 3
  },
  {
   "cell_type": "markdown",
   "source": [
    "---\n",
    "\n",
    "*This notebook was generated using [Literate.jl](https://github.com/fredrikekre/Literate.jl).*"
   ],
   "metadata": {}
  }
 ],
 "nbformat_minor": 3,
 "metadata": {
  "language_info": {
   "file_extension": ".jl",
   "mimetype": "application/julia",
   "name": "julia",
   "version": "1.11.3"
  },
  "kernelspec": {
   "name": "julia-1.11",
   "display_name": "Julia 1.11.3",
   "language": "julia"
  }
 },
 "nbformat": 4
}
