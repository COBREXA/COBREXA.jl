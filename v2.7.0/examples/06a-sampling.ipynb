{
 "cells": [
  {
   "cell_type": "markdown",
   "source": [
    "# Flux sampling\n",
    "\n",
    "Flux sampling gives an interesting statistical insight into the behavior of\n",
    "the model in the optimal feasible space, and the general \"shape\" of the\n",
    "optimal- or near-optimal set of feasible states of a given model."
   ],
   "metadata": {}
  },
  {
   "cell_type": "markdown",
   "source": [
    "For demonstration, we need the usual packages and models:"
   ],
   "metadata": {}
  },
  {
   "outputs": [
    {
     "name": "stdout",
     "output_type": "stream",
     "text": [
      "[ Info: using cached `e_coli_core.json'\n"
     ]
    },
    {
     "output_type": "execute_result",
     "data": {
      "text/plain": "JSONFBCModels.JSONFBCModel(#= 95 reactions, 72 metabolites =#)"
     },
     "metadata": {},
     "execution_count": 1
    }
   ],
   "cell_type": "code",
   "source": [
    "using COBREXA\n",
    "\n",
    "download_model(\n",
    "    \"http://bigg.ucsd.edu/static/models/e_coli_core.json\",\n",
    "    \"e_coli_core.json\",\n",
    "    \"7bedec10576cfe935b19218dc881f3fb14f890a1871448fc19a9b4ee15b448d8\",\n",
    ")\n",
    "\n",
    "import JSONFBCModels, HiGHS\n",
    "\n",
    "model = load_model(\"e_coli_core.json\")"
   ],
   "metadata": {},
   "execution_count": 1
  },
  {
   "cell_type": "markdown",
   "source": [
    "Function `flux_sample` uses linear optimization to generate a set of\n",
    "warm-up points (by default, the method to generate the warm-up is basically\n",
    "FVA), and then runs the hit-and-run flux sampling algorithm on the\n",
    "near-optimal feasible space of the model:"
   ],
   "metadata": {}
  },
  {
   "outputs": [
    {
     "output_type": "execute_result",
     "data": {
      "text/plain": "ConstraintTrees.Tree{Vector{Float64}} with 95 elements:\n  :ACALD                    => [-0.0452364, -0.0148577, -0.011817, -0.0118628, …\n  :ACALDt                   => [-0.0406105, -0.0051886, -0.00330248, -0.0028468…\n  :ACKr                     => [-0.0235086, -0.0108114, -0.0192902, -0.0307348,…\n  :ACONTa                   => [6.06483, 6.0616, 5.9976, 6.14005, 5.99842, 5.74…\n  :ACONTb                   => [6.06483, 6.0616, 5.9976, 6.14005, 5.99842, 5.74…\n  :ACt2r                    => [-0.0235086, -0.0108114, -0.0192902, -0.0307348,…\n  :ADK1                     => [0.0275545, 0.0286298, 0.0414328, 0.0523679, 0.0…\n  :AKGDH                    => [4.62692, 4.41866, 4.48496, 4.80892, 4.59038, 3.…\n  :AKGt2r                   => [-0.00129036, -0.00248877, -0.0020774, -6.31639e…\n  :ALCD2x                   => [-0.00462591, -0.00966915, -0.00851452, -0.00901…\n  :ATPM                     => [8.42811, 8.4149, 8.42514, 8.45017, 8.43445, 8.4…\n  :ATPS4r                   => [45.0461, 45.2788, 45.3752, 45.1592, 45.3589, 45…\n  :BIOMASS_Ecoli_core_w_GAM => [0.865386, 0.865472, 0.865391, 0.865382, 0.86537…\n  :CO2t                     => [-22.8826, -22.9749, -22.9148, -22.862, -22.9079…\n  :CS                       => [6.06483, 6.0616, 5.9976, 6.14005, 5.99842, 5.74…\n  :CYTBD                    => [43.8073, 43.9897, 43.916, 43.8561, 43.9023, 44.…\n  :D_LACt2                  => [-0.00656962, -0.00642637, -0.00705053, -0.00587…\n  :ENO                      => [14.776, 14.7314, 14.6759, 14.8243, 14.6758, 14.…\n  :ETOHt2r                  => [-0.00462591, -0.00966915, -0.00851452, -0.00901…\n  ⋮                         => ⋮"
     },
     "metadata": {},
     "execution_count": 2
    }
   ],
   "cell_type": "code",
   "source": [
    "s = flux_sample(\n",
    "    model,\n",
    "    optimizer = HiGHS.Optimizer,\n",
    "    objective_bound = relative_tolerance_bound(0.99),\n",
    "    n_chains = 2,\n",
    "    collect_iterations = [10],\n",
    ")"
   ],
   "metadata": {},
   "execution_count": 2
  },
  {
   "cell_type": "markdown",
   "source": [
    "The result is a tree of vectors of sampled states for each value; the order\n",
    "of the values in these vectors is fixed. You can thus e.g. create a good\n",
    "matrix for plotting the sample as 2D scatterplot:"
   ],
   "metadata": {}
  },
  {
   "outputs": [
    {
     "output_type": "execute_result",
     "data": {
      "text/plain": "380×2 Matrix{Float64}:\n 21.9036  -22.8826\n 21.9948  -22.9749\n 21.958   -22.9148\n 21.9281  -22.862\n 21.9512  -22.9079\n 22.0329  -22.9978\n 21.9929  -22.9537\n 22.0161  -22.9979\n 21.9928  -22.9749\n 21.9594  -22.9242\n  ⋮       \n 21.9884  -22.963\n 21.9377  -22.8981\n 21.9317  -22.8988\n 21.9327  -22.8923\n 21.9359  -22.893\n 21.9103  -22.8646\n 22.0583  -23.0336\n 21.957   -22.9236\n 21.9428  -22.914"
     },
     "metadata": {},
     "execution_count": 3
    }
   ],
   "cell_type": "code",
   "source": [
    "[s.O2t s.CO2t]"
   ],
   "metadata": {},
   "execution_count": 3
  },
  {
   "cell_type": "markdown",
   "source": [
    "---\n",
    "\n",
    "*This notebook was generated using [Literate.jl](https://github.com/fredrikekre/Literate.jl).*"
   ],
   "metadata": {}
  }
 ],
 "nbformat_minor": 3,
 "metadata": {
  "language_info": {
   "file_extension": ".jl",
   "mimetype": "application/julia",
   "name": "julia",
   "version": "1.11.3"
  },
  "kernelspec": {
   "name": "julia-1.11",
   "display_name": "Julia 1.11.3",
   "language": "julia"
  }
 },
 "nbformat": 4
}
