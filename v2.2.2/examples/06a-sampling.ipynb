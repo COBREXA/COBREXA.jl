{
 "cells": [
  {
   "cell_type": "markdown",
   "source": [
    "# Flux sampling\n",
    "\n",
    "Flux sampling gives an interesting statistical insight into the behavior of\n",
    "the model in the optimal feasible space, and the general \"shape\" of the\n",
    "optimal- or near-optimal set of feasible states of a given model."
   ],
   "metadata": {}
  },
  {
   "cell_type": "markdown",
   "source": [
    "For demonstration, we need the usual packages and models:"
   ],
   "metadata": {}
  },
  {
   "outputs": [
    {
     "name": "stdout",
     "output_type": "stream",
     "text": [
      "[ Info: using cached `e_coli_core.json'\n"
     ]
    },
    {
     "output_type": "execute_result",
     "data": {
      "text/plain": "JSONFBCModels.JSONFBCModel(#= 95 reactions, 72 metabolites =#)"
     },
     "metadata": {},
     "execution_count": 1
    }
   ],
   "cell_type": "code",
   "source": [
    "using COBREXA\n",
    "\n",
    "download_model(\n",
    "    \"http://bigg.ucsd.edu/static/models/e_coli_core.json\",\n",
    "    \"e_coli_core.json\",\n",
    "    \"7bedec10576cfe935b19218dc881f3fb14f890a1871448fc19a9b4ee15b448d8\",\n",
    ")\n",
    "\n",
    "import JSONFBCModels, HiGHS\n",
    "\n",
    "model = load_model(\"e_coli_core.json\")"
   ],
   "metadata": {},
   "execution_count": 1
  },
  {
   "cell_type": "markdown",
   "source": [
    "Function `flux_sample` uses linear optimization to generate a set of\n",
    "warm-up points (by default, the method to generate the warm-up is basically\n",
    "FVA), and then runs the hit-and-run flux sampling algorithm on the\n",
    "near-optimal feasible space of the model:"
   ],
   "metadata": {}
  },
  {
   "outputs": [
    {
     "output_type": "execute_result",
     "data": {
      "text/plain": "ConstraintTrees.Tree{Vector{Float64}} with 95 elements:\n  :ACALD                    => [-0.0154155, -0.00833758, -0.0123567, -0.0106566…\n  :ACALDt                   => [-0.0092506, -0.00364743, -0.00481144, -0.004504…\n  :ACKr                     => [-0.0198376, -0.00921509, -0.0140369, -0.0071332…\n  :ACONTa                   => [5.98573, 5.63283, 6.04762, 5.7816, 6.09511, 6.0…\n  :ACONTb                   => [5.98573, 5.63283, 6.04762, 5.7816, 6.09511, 6.0…\n  :ACt2r                    => [-0.0198376, -0.00921509, -0.0140369, -0.0071332…\n  :ADK1                     => [0.0167362, 0.0216394, 0.029405, 0.0292768, 0.03…\n  :AKGDH                    => [4.49932, 3.67867, 4.45694, 4.01282, 4.49434, 4.…\n  :AKGt2r                   => [-5.60446e-5, -0.000748349, -0.0027981, -0.00126…\n  :ALCD2x                   => [-0.00616493, -0.00469016, -0.00754528, -0.00615…\n  :ATPM                     => [8.40776, 8.4221, 8.44594, 8.44243, 8.44654, 8.4…\n  :ATPS4r                   => [45.2712, 45.9964, 45.2551, 45.7618, 45.1484, 45…\n  :BIOMASS_Ecoli_core_w_GAM => [0.865415, 0.865565, 0.86547, 0.865669, 0.86551,…\n  :CO2t                     => [-22.9308, -22.9593, -22.9367, -22.9526, -22.949…\n  :CS                       => [5.98573, 5.63283, 6.04762, 5.7816, 6.09511, 6.0…\n  :CYTBD                    => [43.9249, 43.9999, 43.9441, 43.979, 43.9672, 43.…\n  :D_LACt2                  => [-0.00922559, -0.00819569, -0.00795702, -0.00813…\n  :ENO                      => [14.6667, 14.2963, 14.723, 14.4477, 14.7661, 14.…\n  :ETOHt2r                  => [-0.00616493, -0.00469016, -0.00754528, -0.00615…\n  ⋮                         => ⋮"
     },
     "metadata": {},
     "execution_count": 2
    }
   ],
   "cell_type": "code",
   "source": [
    "s = flux_sample(\n",
    "    model,\n",
    "    optimizer = HiGHS.Optimizer,\n",
    "    objective_bound = relative_tolerance_bound(0.99),\n",
    "    n_chains = 2,\n",
    "    collect_iterations = [10],\n",
    ")"
   ],
   "metadata": {},
   "execution_count": 2
  },
  {
   "cell_type": "markdown",
   "source": [
    "The result is a tree of vectors of sampled states for each value; the order\n",
    "of the values in these vectors is fixed. You can thus e.g. create a good\n",
    "matrix for plotting the sample as 2D scatterplot:"
   ],
   "metadata": {}
  },
  {
   "outputs": [
    {
     "output_type": "execute_result",
     "data": {
      "text/plain": "380×2 Matrix{Float64}:\n 21.9624  -22.9308\n 21.9999  -22.9593\n 21.9721  -22.9367\n 21.9895  -22.9526\n 21.9836  -22.9499\n 21.9482  -22.9033\n 21.9802  -22.9444\n 21.9566  -22.9234\n 21.9669  -22.9288\n 21.9558  -22.9158\n  ⋮       \n 21.9641  -22.9372\n 21.9619  -22.9452\n 21.9809  -22.9589\n 21.9557  -22.9328\n 21.9711  -22.9467\n 21.9874  -22.9689\n 22.0267  -23.0169\n 21.9244  -22.8774\n 21.9718  -22.9469"
     },
     "metadata": {},
     "execution_count": 3
    }
   ],
   "cell_type": "code",
   "source": [
    "[s.O2t s.CO2t]"
   ],
   "metadata": {},
   "execution_count": 3
  },
  {
   "cell_type": "markdown",
   "source": [
    "---\n",
    "\n",
    "*This notebook was generated using [Literate.jl](https://github.com/fredrikekre/Literate.jl).*"
   ],
   "metadata": {}
  }
 ],
 "nbformat_minor": 3,
 "metadata": {
  "language_info": {
   "file_extension": ".jl",
   "mimetype": "application/julia",
   "name": "julia",
   "version": "1.9.4"
  },
  "kernelspec": {
   "name": "julia-1.9",
   "display_name": "Julia 1.9.4",
   "language": "julia"
  }
 },
 "nbformat": 4
}
