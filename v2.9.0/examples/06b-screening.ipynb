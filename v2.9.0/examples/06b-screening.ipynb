{
 "cells": [
  {
   "cell_type": "markdown",
   "source": [
    "# Screening through many model variants\n",
    "\n",
    "`screen` is a function that you can use to run many different\n",
    "simulations on many different variants of the model efficiently in parallel."
   ],
   "metadata": {}
  },
  {
   "outputs": [
    {
     "name": "stdout",
     "output_type": "stream",
     "text": [
      "[ Info: using cached `e_coli_core.json'\n"
     ]
    },
    {
     "output_type": "execute_result",
     "data": {
      "text/plain": "JSONFBCModels.JSONFBCModel(#= 95 reactions, 72 metabolites =#)"
     },
     "metadata": {},
     "execution_count": 1
    }
   ],
   "cell_type": "code",
   "source": [
    "using COBREXA\n",
    "\n",
    "download_model(\n",
    "    \"http://bigg.ucsd.edu/static/models/e_coli_core.json\",\n",
    "    \"e_coli_core.json\",\n",
    "    \"7bedec10576cfe935b19218dc881f3fb14f890a1871448fc19a9b4ee15b448d8\",\n",
    ")\n",
    "\n",
    "import JSONFBCModels, HiGHS\n",
    "import ConstraintTrees as C\n",
    "\n",
    "model = load_model(\"e_coli_core.json\")"
   ],
   "metadata": {},
   "execution_count": 1
  },
  {
   "cell_type": "markdown",
   "source": [
    "Screening is done as follows: We specify a range of values to examine (in\n",
    "the example below to an actual range of `-10` to `0`), but any vector-like\n",
    "list of things can be used), and write a short \"analysis\" function that takes\n",
    "one of the values from the range as an argument and runs an analysis for that\n",
    "given value.\n",
    "\n",
    "Here, we solve 11 different optimization problems for different bounds of the\n",
    "oxygen exchange:"
   ],
   "metadata": {}
  },
  {
   "outputs": [
    {
     "output_type": "execute_result",
     "data": {
      "text/plain": "11-element Vector{Float64}:\n 0.5590505997120256\n 0.5265539556675367\n 0.4940573116230476\n 0.4615606675785586\n 0.4276455515060357\n 0.3916484512109149\n 0.35565135091579403\n 0.31965425062067315\n 0.28365715032555233\n 0.24766005003043148\n 0.2116629497353106"
     },
     "metadata": {},
     "execution_count": 2
    }
   ],
   "cell_type": "code",
   "source": [
    "screen(-10:0) do o2_bound\n",
    "    c = flux_balance_constraints(model)\n",
    "    c.fluxes.EX_o2_e.bound = C.EqualTo(o2_bound)\n",
    "    optimized_values(\n",
    "        c,\n",
    "        objective = c.objective.value,\n",
    "        optimizer = HiGHS.Optimizer,\n",
    "        output = c.objective,\n",
    "    )\n",
    "end"
   ],
   "metadata": {},
   "execution_count": 2
  },
  {
   "cell_type": "markdown",
   "source": [
    "## Screening in multiple dimensions"
   ],
   "metadata": {}
  },
  {
   "cell_type": "markdown",
   "source": [
    "The simplest way to screen through multi-dimensional arrays is to use an\n",
    "iterator product. In the result, we receive a whole matrix of results instead\n",
    "of a vector."
   ],
   "metadata": {}
  },
  {
   "outputs": [
    {
     "output_type": "execute_result",
     "data": {
      "text/plain": "6×6 Matrix{Float64}:\n 0.411525  0.505191  0.549994  0.559051  0.559051  0.556413\n 0.451394  0.494057  0.492882  0.49012   0.487358  0.484596\n 0.42659   0.423828  0.421066  0.418304  0.415542  0.412779\n 0.354774  0.352012  0.349249  0.346487  0.343725  0.340963\n 0.282957  0.280195  0.277433  0.274671  0.271909  0.269146\n 0.211141  0.208378  0.205616  0.202854  0.200092  0.19733"
     },
     "metadata": {},
     "execution_count": 3
    }
   ],
   "cell_type": "code",
   "source": [
    "screen(Iterators.product(-10:2:0, 0:2:10)) do (o2_bound, co2_bound)\n",
    "    c = flux_balance_constraints(model)\n",
    "    c.fluxes.EX_o2_e.bound = C.EqualTo(o2_bound)\n",
    "    c.fluxes.EX_co2_e.bound = C.EqualTo(co2_bound)\n",
    "    optimized_values(\n",
    "        c,\n",
    "        objective = c.objective.value,\n",
    "        optimizer = HiGHS.Optimizer,\n",
    "        output = c.objective,\n",
    "    )\n",
    "end"
   ],
   "metadata": {},
   "execution_count": 3
  },
  {
   "cell_type": "markdown",
   "source": [
    "## Screening through non-numeric properties"
   ],
   "metadata": {}
  },
  {
   "cell_type": "markdown",
   "source": [
    "If the problem at hand can not be expressed with mere ranges, we can specify\n",
    "vectors with any values. The following code examines the inter-dependency of\n",
    "blocking selected transport reactions together with selected exchanges, with\n",
    "2 different bounds that implement the block. Because of 3-dimensional input,\n",
    "the result is expectably a 3-dimensional array:"
   ],
   "metadata": {}
  },
  {
   "outputs": [
    {
     "output_type": "execute_result",
     "data": {
      "text/plain": "4×4×2 Array{Float64, 3}:\n[:, :, 1] =\n 0.390761  0.394089  0.204711  0.0550176\n 0.390029  0.46905   0.222462  0.0550176\n 0.212193  0.229509  0.222462  0.0550176\n 0.091696  0.091696  0.091696  0.0550176\n\n[:, :, 2] =\n 0.454097  0.494176  0.319654  0.494176\n 0.454097  0.530039  0.319654  0.550176\n 0.391648  0.391648  0.319654  0.391648\n 0.454097  0.530039  0.319654  0.550176"
     },
     "metadata": {},
     "execution_count": 4
    }
   ],
   "cell_type": "code",
   "source": [
    "screen(\n",
    "    Iterators.product(\n",
    "        [:H2Ot, :CO2t, :O2t, :NH4t], # a set of transport reactions\n",
    "        [:EX_h2o_e, :EX_co2_e, :EX_o2_e, :EX_nh4_e], # a set of exchanges\n",
    "        [C.Between(-0.1, 0.1), C.Between(-1, 1)], # bounds\n",
    "    ),\n",
    ") do (transport, exchange, bound)\n",
    "    c = flux_balance_constraints(model)\n",
    "    c.fluxes[transport].bound = 5 * bound\n",
    "    c.fluxes[exchange].bound = 3 * bound\n",
    "    optimized_values(\n",
    "        c,\n",
    "        objective = c.objective.value,\n",
    "        optimizer = HiGHS.Optimizer,\n",
    "        output = c.objective,\n",
    "    )\n",
    "end"
   ],
   "metadata": {},
   "execution_count": 4
  },
  {
   "cell_type": "markdown",
   "source": [
    "## Annotating the results"
   ],
   "metadata": {}
  },
  {
   "cell_type": "markdown",
   "source": [
    "For reasons of tidyness, it is adviseable to annotate all values with their\n",
    "actual meaning directly in the arrays.\n",
    "\n",
    "With `screen`, the simplest (and usually sufficiently effective) way to do\n",
    "that is to return `Pair`s with annotation keys instead of plain values:"
   ],
   "metadata": {}
  },
  {
   "outputs": [
    {
     "output_type": "execute_result",
     "data": {
      "text/plain": "4×4×2 Array{Pair{Tuple{Symbol, Symbol, Float64}, Float64}, 3}:\n[:, :, 1] =\n (:H2Ot, :EX_h2o_e, 0.1)=>0.390761  …  (:H2Ot, :EX_nh4_e, 0.1)=>0.0550176\n (:CO2t, :EX_h2o_e, 0.1)=>0.390029     (:CO2t, :EX_nh4_e, 0.1)=>0.0550176\n  (:O2t, :EX_h2o_e, 0.1)=>0.212193      (:O2t, :EX_nh4_e, 0.1)=>0.0550176\n (:NH4t, :EX_h2o_e, 0.1)=>0.091696     (:NH4t, :EX_nh4_e, 0.1)=>0.0550176\n\n[:, :, 2] =\n (:H2Ot, :EX_h2o_e, 1.0)=>0.454097  …  (:H2Ot, :EX_nh4_e, 1.0)=>0.494176\n (:CO2t, :EX_h2o_e, 1.0)=>0.454097     (:CO2t, :EX_nh4_e, 1.0)=>0.550176\n  (:O2t, :EX_h2o_e, 1.0)=>0.391648      (:O2t, :EX_nh4_e, 1.0)=>0.391648\n (:NH4t, :EX_h2o_e, 1.0)=>0.454097     (:NH4t, :EX_nh4_e, 1.0)=>0.550176"
     },
     "metadata": {},
     "execution_count": 5
    }
   ],
   "cell_type": "code",
   "source": [
    "screen(\n",
    "    Iterators.product(\n",
    "        [:H2Ot, :CO2t, :O2t, :NH4t],\n",
    "        [:EX_h2o_e, :EX_co2_e, :EX_o2_e, :EX_nh4_e],\n",
    "        [C.Between(-0.1, 0.1), C.Between(-1, 1)],\n",
    "    ),\n",
    ") do (transport, exchange, bound)\n",
    "    c = flux_balance_constraints(model)\n",
    "    c.fluxes[transport].bound = 5 * bound\n",
    "    c.fluxes[exchange].bound = 3 * bound\n",
    "    (transport, exchange, bound.upper) => optimized_values(\n",
    "        c,\n",
    "        objective = c.objective.value,\n",
    "        optimizer = HiGHS.Optimizer,\n",
    "        output = c.objective,\n",
    "    )\n",
    "end"
   ],
   "metadata": {},
   "execution_count": 5
  },
  {
   "cell_type": "markdown",
   "source": [
    "Notably, this approach makes various indexing and ordering errors quite improbable."
   ],
   "metadata": {}
  },
  {
   "cell_type": "markdown",
   "source": [
    "---\n",
    "\n",
    "*This notebook was generated using [Literate.jl](https://github.com/fredrikekre/Literate.jl).*"
   ],
   "metadata": {}
  }
 ],
 "nbformat_minor": 3,
 "metadata": {
  "language_info": {
   "file_extension": ".jl",
   "mimetype": "application/julia",
   "name": "julia",
   "version": "1.11.5"
  },
  "kernelspec": {
   "name": "julia-1.11",
   "display_name": "Julia 1.11.5",
   "language": "julia"
  }
 },
 "nbformat": 4
}
