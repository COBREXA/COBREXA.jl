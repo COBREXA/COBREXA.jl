{
 "cells": [
  {
   "cell_type": "markdown",
   "source": [
    "# Parsimonious growth medium\n",
    "\n",
    "[Parsimonious flux balance analysis](03b-parsimonious-flux-balance.md) may be\n",
    "easily combined with the [unidirectional reaction splitting\n",
    "tools](03d-unidirectional.md) to create an analysis that minimizes the total\n",
    "nutrient uptake flux. This is beneficial as a complementary, less \"refined\"\n",
    "but much more computationally efficient alternative to the [growth medium\n",
    "optimization](05h-medium.md) (which requires a demanding mixed-integer\n",
    "programming).\n",
    "\n",
    "For the demonstration, we use the toy E. coli model:"
   ],
   "metadata": {}
  },
  {
   "outputs": [
    {
     "name": "stdout",
     "output_type": "stream",
     "text": [
      "[ Info: using cached `e_coli_core.json'\n"
     ]
    },
    {
     "output_type": "execute_result",
     "data": {
      "text/plain": "JSONFBCModels.JSONFBCModel(#= 95 reactions, 72 metabolites =#)"
     },
     "metadata": {},
     "execution_count": 1
    }
   ],
   "cell_type": "code",
   "source": [
    "using COBREXA\n",
    "\n",
    "download_model(\n",
    "    \"http://bigg.ucsd.edu/static/models/e_coli_core.json\",\n",
    "    \"e_coli_core.json\",\n",
    "    \"7bedec10576cfe935b19218dc881f3fb14f890a1871448fc19a9b4ee15b448d8\",\n",
    ")\n",
    "\n",
    "import JSONFBCModels, HiGHS\n",
    "model = load_model(\"e_coli_core.json\")"
   ],
   "metadata": {},
   "execution_count": 1
  },
  {
   "cell_type": "markdown",
   "source": [
    "First, we create a model with extra direction-splitted variables and\n",
    "constraints for the negative exchange reactions:"
   ],
   "metadata": {}
  },
  {
   "outputs": [
    {
     "output_type": "execute_result",
     "data": {
      "text/plain": "ConstraintTrees.ConstraintTree with 7 elements:\n  :coupling           => ConstraintTrees.ConstraintTree(#= 0 elements =#)\n  :flux_stoichiometry => ConstraintTrees.ConstraintTree(#= 72 elements =#)\n  :fluxes             => ConstraintTrees.ConstraintTree(#= 95 elements =#)\n  :in_exchanges       => ConstraintTrees.ConstraintTree(#= 20 elements =#)\n  :interface          => ConstraintTrees.ConstraintTree(#= 3 elements =#)\n  :objective          => ConstraintTrees.Constraint(ConstraintTrees.LinearValue…\n  :out_exchanges      => ConstraintTrees.ConstraintTree(#= 20 elements =#)"
     },
     "metadata": {},
     "execution_count": 2
    }
   ],
   "cell_type": "code",
   "source": [
    "c = flux_balance_constraints(model, interface = :identifier_prefixes)\n",
    "c += :in_exchanges^unsigned_negative_contribution_variables(c.interface.exchanges)\n",
    "c *=\n",
    "    :out_exchanges^unsigned_positive_contribution_constraints(\n",
    "        c.interface.exchanges,\n",
    "        c.in_exchanges,\n",
    "    )"
   ],
   "metadata": {},
   "execution_count": 2
  },
  {
   "cell_type": "markdown",
   "source": [
    "For the parsimonious optimization, we need a good guess on the objective\n",
    "value that we will require; which we obtain from an optimal solution of the\n",
    "original model:"
   ],
   "metadata": {}
  },
  {
   "outputs": [
    {
     "output_type": "execute_result",
     "data": {
      "text/plain": "0.8739215069684305"
     },
     "metadata": {},
     "execution_count": 3
    }
   ],
   "cell_type": "code",
   "source": [
    "objective_value = flux_balance_analysis(model, optimizer = HiGHS.Optimizer).objective"
   ],
   "metadata": {},
   "execution_count": 3
  },
  {
   "cell_type": "markdown",
   "source": [
    "Parsimonious analyses need a clear specification of a solution tolerance; we\n",
    "use a simple absolute difference bound:"
   ],
   "metadata": {}
  },
  {
   "outputs": [
    {
     "output_type": "execute_result",
     "data": {
      "text/plain": "1-element Vector{COBREXA.var\"#474#475\"{Float64}}:\n #474 (generic function with 1 method)"
     },
     "metadata": {},
     "execution_count": 4
    }
   ],
   "cell_type": "code",
   "source": [
    "tolerances = [absolute_tolerance_bound(0.001)]"
   ],
   "metadata": {},
   "execution_count": 4
  },
  {
   "cell_type": "markdown",
   "source": [
    "We can now run a linear \"parsimonious intake\" analysis as follows:"
   ],
   "metadata": {}
  },
  {
   "outputs": [
    {
     "output_type": "execute_result",
     "data": {
      "text/plain": "ConstraintTrees.Tree{Float64} with 20 elements:\n  :EX_ac_e     => 0.0\n  :EX_acald_e  => 0.0\n  :EX_akg_e    => 0.0\n  :EX_co2_e    => 0.0\n  :EX_etoh_e   => 0.0\n  :EX_for_e    => 0.0\n  :EX_fru_e    => 0.0\n  :EX_fum_e    => 0.0\n  :EX_glc__D_e => 10.0\n  :EX_gln__L_e => 0.0\n  :EX_glu__L_e => 0.0\n  :EX_h2o_e    => 0.0\n  :EX_h_e      => 0.0\n  :EX_lac__D_e => 0.0\n  :EX_mal__L_e => 0.0\n  :EX_nh4_e    => 4.75987\n  :EX_o2_e     => 21.7559\n  :EX_pi_e     => 3.21122\n  :EX_pyr_e    => 0.0\n  :EX_succ_e   => 0.0"
     },
     "metadata": {},
     "execution_count": 5
    }
   ],
   "cell_type": "code",
   "source": [
    "result = parsimonious_optimized_values(\n",
    "    c;\n",
    "    objective = c.objective.value,\n",
    "    parsimonious_objective = sum_value(c.in_exchanges),\n",
    "    objective_value,\n",
    "    tolerances,\n",
    "    optimizer = HiGHS.Optimizer,\n",
    "    output = c.in_exchanges,\n",
    ")"
   ],
   "metadata": {},
   "execution_count": 5
  },
  {
   "cell_type": "markdown",
   "source": [
    "If suitable, one may also choose to run a quadratic (L2) parsimonious\n",
    "analysis, simply by swapping the objective:"
   ],
   "metadata": {}
  },
  {
   "outputs": [
    {
     "output_type": "execute_result",
     "data": {
      "text/plain": "ConstraintTrees.Tree{Float64} with 20 elements:\n  :EX_ac_e     => 0.0\n  :EX_acald_e  => 0.0\n  :EX_akg_e    => 0.0\n  :EX_co2_e    => 0.0\n  :EX_etoh_e   => 0.0\n  :EX_for_e    => 0.0\n  :EX_fru_e    => 0.0\n  :EX_fum_e    => 0.0\n  :EX_glc__D_e => 10.0\n  :EX_gln__L_e => 0.0\n  :EX_glu__L_e => 0.0\n  :EX_h2o_e    => 0.0\n  :EX_h_e      => 0.0\n  :EX_lac__D_e => 0.0\n  :EX_mal__L_e => 0.0\n  :EX_nh4_e    => 4.75987\n  :EX_o2_e     => 21.7559\n  :EX_pi_e     => 3.21122\n  :EX_pyr_e    => 0.0\n  :EX_succ_e   => 0.0"
     },
     "metadata": {},
     "execution_count": 6
    }
   ],
   "cell_type": "code",
   "source": [
    "l2_result = parsimonious_optimized_values(\n",
    "    c;\n",
    "    objective = c.objective.value,\n",
    "    parsimonious_objective = sum_value(c.in_exchanges),\n",
    "    objective_value,\n",
    "    tolerances,\n",
    "    optimizer = HiGHS.Optimizer,\n",
    "    output = c.in_exchanges,\n",
    ")"
   ],
   "metadata": {},
   "execution_count": 6
  },
  {
   "cell_type": "markdown",
   "source": [
    "Because of the model simplicity, the solution coincides with the linear one.\n",
    "\n",
    "To better demonstrate the difference between L1 and L2 solutions that more\n",
    "complex models would exhibit, we arbitrarily choose to relax the tolerance\n",
    "(indirectly allowing non-unique solution):"
   ],
   "metadata": {}
  },
  {
   "outputs": [
    {
     "output_type": "execute_result",
     "data": {
      "text/plain": "1-element Vector{COBREXA.var\"#476#477\"{Float64}}:\n #476 (generic function with 1 method)"
     },
     "metadata": {},
     "execution_count": 7
    }
   ],
   "cell_type": "code",
   "source": [
    "tolerances = [relative_tolerance_bound(0.5)]"
   ],
   "metadata": {},
   "execution_count": 7
  },
  {
   "cell_type": "markdown",
   "source": [
    "The linear solution is appropriately reduced:"
   ],
   "metadata": {}
  },
  {
   "outputs": [
    {
     "output_type": "execute_result",
     "data": {
      "text/plain": "ConstraintTrees.Tree{Float64} with 20 elements:\n  :EX_ac_e     => 0.0\n  :EX_acald_e  => 0.0\n  :EX_akg_e    => 0.0\n  :EX_co2_e    => 0.0\n  :EX_etoh_e   => 0.0\n  :EX_for_e    => 0.0\n  :EX_fru_e    => 0.0\n  :EX_fum_e    => 0.0\n  :EX_glc__D_e => 6.52119\n  :EX_gln__L_e => 0.0\n  :EX_glu__L_e => 0.0\n  :EX_h2o_e    => 0.0\n  :EX_h_e      => 0.0\n  :EX_lac__D_e => 0.0\n  :EX_mal__L_e => 0.0\n  :EX_nh4_e    => 2.38266\n  :EX_o2_e     => 9.72181\n  :EX_pi_e     => 1.60745\n  :EX_pyr_e    => 0.0\n  :EX_succ_e   => 0.0"
     },
     "metadata": {},
     "execution_count": 8
    }
   ],
   "cell_type": "code",
   "source": [
    "parsimonious_optimized_values(\n",
    "    c;\n",
    "    objective = c.objective.value,\n",
    "    parsimonious_objective = sum_value(c.in_exchanges),\n",
    "    objective_value,\n",
    "    tolerances,\n",
    "    optimizer = HiGHS.Optimizer,\n",
    "    output = c.in_exchanges,\n",
    ")"
   ],
   "metadata": {},
   "execution_count": 8
  },
  {
   "cell_type": "markdown",
   "source": [
    "The quadratic solution additionally reduces the \"extremes\" in the flux\n",
    "profile, since the quadratic cost makes them unfavorable:"
   ],
   "metadata": {}
  },
  {
   "outputs": [
    {
     "output_type": "execute_result",
     "data": {
      "text/plain": "ConstraintTrees.Tree{Float64} with 20 elements:\n  :EX_ac_e     => 0.0\n  :EX_acald_e  => 0.0\n  :EX_akg_e    => 0.0\n  :EX_co2_e    => 0.0\n  :EX_etoh_e   => 0.0\n  :EX_for_e    => 0.0\n  :EX_fru_e    => 0.0\n  :EX_fum_e    => 0.0\n  :EX_glc__D_e => 8.12149\n  :EX_gln__L_e => 0.0\n  :EX_glu__L_e => 0.0\n  :EX_h2o_e    => 0.0\n  :EX_h_e      => 0.0\n  :EX_lac__D_e => 0.0\n  :EX_mal__L_e => 0.0\n  :EX_nh4_e    => 2.38266\n  :EX_o2_e     => 8.12151\n  :EX_pi_e     => 1.60745\n  :EX_pyr_e    => 0.0\n  :EX_succ_e   => 0.0"
     },
     "metadata": {},
     "execution_count": 9
    }
   ],
   "cell_type": "code",
   "source": [
    "parsimonious_optimized_values(\n",
    "    c;\n",
    "    objective = c.objective.value,\n",
    "    parsimonious_objective = squared_sum_value(c.in_exchanges),\n",
    "    objective_value,\n",
    "    tolerances,\n",
    "    optimizer = HiGHS.Optimizer,\n",
    "    output = c.in_exchanges,\n",
    ")"
   ],
   "metadata": {},
   "execution_count": 9
  },
  {
   "cell_type": "markdown",
   "source": [
    "---\n",
    "\n",
    "*This notebook was generated using [Literate.jl](https://github.com/fredrikekre/Literate.jl).*"
   ],
   "metadata": {}
  }
 ],
 "nbformat_minor": 3,
 "metadata": {
  "language_info": {
   "file_extension": ".jl",
   "mimetype": "application/julia",
   "name": "julia",
   "version": "1.11.5"
  },
  "kernelspec": {
   "name": "julia-1.11",
   "display_name": "Julia 1.11.5",
   "language": "julia"
  }
 },
 "nbformat": 4
}
