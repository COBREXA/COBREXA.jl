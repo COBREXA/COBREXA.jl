{
 "cells": [
  {
   "cell_type": "markdown",
   "source": [
    "# Flux sampling\n",
    "\n",
    "Flux sampling gives an interesting statistical insight into the behavior of\n",
    "the model in the optimal feasible space, and the general \"shape\" of the\n",
    "optimal- or near-optimal set of feasible states of a given model."
   ],
   "metadata": {}
  },
  {
   "cell_type": "markdown",
   "source": [
    "For demonstration, we need the usual packages and models:"
   ],
   "metadata": {}
  },
  {
   "outputs": [
    {
     "name": "stdout",
     "output_type": "stream",
     "text": [
      "[ Info: using cached `e_coli_core.json'\n"
     ]
    },
    {
     "output_type": "execute_result",
     "data": {
      "text/plain": "JSONFBCModels.JSONFBCModel(#= 95 reactions, 72 metabolites =#)"
     },
     "metadata": {},
     "execution_count": 1
    }
   ],
   "cell_type": "code",
   "source": [
    "using COBREXA\n",
    "\n",
    "download_model(\n",
    "    \"http://bigg.ucsd.edu/static/models/e_coli_core.json\",\n",
    "    \"e_coli_core.json\",\n",
    "    \"7bedec10576cfe935b19218dc881f3fb14f890a1871448fc19a9b4ee15b448d8\",\n",
    ")\n",
    "\n",
    "import JSONFBCModels, HiGHS\n",
    "\n",
    "model = load_model(\"e_coli_core.json\")"
   ],
   "metadata": {},
   "execution_count": 1
  },
  {
   "cell_type": "markdown",
   "source": [
    "Function `flux_sample` uses linear optimization to generate a set of\n",
    "warm-up points (by default, the method to generate the warm-up is basically\n",
    "FVA), and then runs the hit-and-run flux sampling algorithm on the\n",
    "near-optimal feasible space of the model:"
   ],
   "metadata": {}
  },
  {
   "outputs": [
    {
     "output_type": "execute_result",
     "data": {
      "text/plain": "ConstraintTrees.Tree{Vector{Float64}} with 95 elements:\n  :ACALD                    => [-0.0467204, -0.0138836, -0.0194351, -0.0145497,…\n  :ACALDt                   => [-0.0390377, -0.00474711, -0.0110104, -0.0068859…\n  :ACKr                     => [-0.0121395, -0.0160989, -0.017105, -0.0130743, …\n  :ACONTa                   => [6.07666, 6.11241, 5.98256, 6.20741, 6.1492, 6.2…\n  :ACONTb                   => [6.07666, 6.11241, 5.98256, 6.20741, 6.1492, 6.2…\n  :ACt2r                    => [-0.0121395, -0.0160989, -0.017105, -0.0130743, …\n  :ADK1                     => [0.0288331, 0.0390281, 0.0396454, 0.0325668, 0.0…\n  :AKGDH                    => [4.63216, 4.66679, 4.45361, 4.75013, 4.60503, 4.…\n  :AKGt2r                   => [-0.000985163, -0.00109547, -0.00118366, -0.0012…\n  :ALCD2x                   => [-0.00768271, -0.0091365, -0.00842476, -0.007663…\n  :ATPM                     => [8.42635, 8.44236, 8.44663, 8.43936, 8.41548, 8.…\n  :ATPS4r                   => [45.1188, 45.1803, 45.3856, 44.9771, 44.9952, 45…\n  :BIOMASS_Ecoli_core_w_GAM => [0.865394, 0.865457, 0.865499, 0.865476, 0.86531…\n  :CO2t                     => [-22.9116, -22.937, -22.9463, -22.932, -22.9645,…\n  :CS                       => [6.07666, 6.11241, 5.98256, 6.20741, 6.1492, 6.2…\n  :CYTBD                    => [43.8401, 43.9308, 43.9311, 43.9284, 43.9839, 43…\n  :D_LACt2                  => [-0.0091085, -0.0107259, -0.00782315, -0.0141136…\n  :ENO                      => [14.7783, 14.7921, 14.666, 14.8873, 14.8173, 14.…\n  :ETOHt2r                  => [-0.00768271, -0.0091365, -0.00842476, -0.007663…\n  ⋮                         => ⋮"
     },
     "metadata": {},
     "execution_count": 2
    }
   ],
   "cell_type": "code",
   "source": [
    "s = flux_sample(\n",
    "    model,\n",
    "    optimizer = HiGHS.Optimizer,\n",
    "    objective_bound = relative_tolerance_bound(0.99),\n",
    "    n_chains = 2,\n",
    "    collect_iterations = [10],\n",
    ")"
   ],
   "metadata": {},
   "execution_count": 2
  },
  {
   "cell_type": "markdown",
   "source": [
    "The result is a tree of vectors of sampled states for each value; the order\n",
    "of the values in these vectors is fixed. You can thus e.g. create a good\n",
    "matrix for plotting the sample as 2D scatterplot:"
   ],
   "metadata": {}
  },
  {
   "outputs": [
    {
     "output_type": "execute_result",
     "data": {
      "text/plain": "380×2 Matrix{Float64}:\n 21.9201  -22.9116\n 21.9654  -22.937\n 21.9656  -22.9463\n 21.9642  -22.932\n 21.9919  -22.9645\n 21.9209  -22.8822\n 21.9508  -22.9141\n 21.9599  -22.9298\n 21.9592  -22.9279\n 21.9778  -22.9509\n  ⋮       \n 21.9255  -22.8987\n 21.9615  -22.9386\n 21.9209  -22.9015\n 21.949   -22.9259\n 21.9361  -22.9198\n 21.9602  -22.9416\n 21.9772  -22.9544\n 21.9753  -22.9578\n 22.022   -23.0103"
     },
     "metadata": {},
     "execution_count": 3
    }
   ],
   "cell_type": "code",
   "source": [
    "[s.O2t s.CO2t]"
   ],
   "metadata": {},
   "execution_count": 3
  },
  {
   "cell_type": "markdown",
   "source": [
    "---\n",
    "\n",
    "*This notebook was generated using [Literate.jl](https://github.com/fredrikekre/Literate.jl).*"
   ],
   "metadata": {}
  }
 ],
 "nbformat_minor": 3,
 "metadata": {
  "language_info": {
   "file_extension": ".jl",
   "mimetype": "application/julia",
   "name": "julia",
   "version": "1.11.5"
  },
  "kernelspec": {
   "name": "julia-1.11",
   "display_name": "Julia 1.11.5",
   "language": "julia"
  }
 },
 "nbformat": 4
}
