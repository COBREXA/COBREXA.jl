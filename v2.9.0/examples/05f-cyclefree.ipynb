{
 "cells": [
  {
   "cell_type": "markdown",
   "source": [
    "# CycleFreeFlux\n",
    "\n",
    "CycleFreeFlux essentially defines a L1-parsimonious model which can be used\n",
    "to run a cycle-free FBA and FVA. In COBREXA, this is best done by reusing\n",
    "`linear_parsimonious_flux_balance_analysis`.\n",
    "\n",
    "First, let's get a model, create a constraint tree with the model, and ask\n",
    "for explicitly materializing constraints for the exchanges:"
   ],
   "metadata": {}
  },
  {
   "outputs": [
    {
     "name": "stdout",
     "output_type": "stream",
     "text": [
      "[ Info: using cached `e_coli_core.json'\n"
     ]
    },
    {
     "output_type": "execute_result",
     "data": {
      "text/plain": "ConstraintTrees.ConstraintTree with 5 elements:\n  :coupling           => ConstraintTrees.ConstraintTree(#= 0 elements =#)\n  :flux_stoichiometry => ConstraintTrees.ConstraintTree(#= 72 elements =#)\n  :fluxes             => ConstraintTrees.ConstraintTree(#= 95 elements =#)\n  :interface          => ConstraintTrees.ConstraintTree(#= 3 elements =#)\n  :objective          => ConstraintTrees.Constraint(ConstraintTrees.LinearValue…"
     },
     "metadata": {},
     "execution_count": 1
    }
   ],
   "cell_type": "code",
   "source": [
    "using COBREXA\n",
    "\n",
    "download_model(\n",
    "    \"http://bigg.ucsd.edu/static/models/e_coli_core.json\",\n",
    "    \"e_coli_core.json\",\n",
    "    \"7bedec10576cfe935b19218dc881f3fb14f890a1871448fc19a9b4ee15b448d8\",\n",
    ")\n",
    "\n",
    "import JSONFBCModels, HiGHS\n",
    "model = load_model(\"e_coli_core.json\")\n",
    "\n",
    "cs = flux_balance_constraints(model, interface = :identifier_prefixes)"
   ],
   "metadata": {},
   "execution_count": 1
  },
  {
   "cell_type": "markdown",
   "source": [
    "We will also need some existing solution of the model -- CycleFreeFlux\n",
    "algorithm uses this one as a reference for fixing the exchange reaction flux."
   ],
   "metadata": {}
  },
  {
   "outputs": [
    {
     "output_type": "execute_result",
     "data": {
      "text/plain": "ConstraintTrees.Tree{Float64} with 5 elements:\n  :coupling           => ConstraintTrees.Tree{Float64}(#= 0 elements =#)\n  :flux_stoichiometry => ConstraintTrees.Tree{Float64}(#= 72 elements =#)\n  :fluxes             => ConstraintTrees.Tree{Float64}(#= 95 elements =#)\n  :interface          => ConstraintTrees.Tree{Float64}(#= 3 elements =#)\n  :objective          => 0.873922"
     },
     "metadata": {},
     "execution_count": 2
    }
   ],
   "cell_type": "code",
   "source": [
    "some_flux =\n",
    "    optimized_values(cs, objective = cs.objective.value, optimizer = HiGHS.Optimizer)"
   ],
   "metadata": {},
   "execution_count": 2
  },
  {
   "cell_type": "markdown",
   "source": [
    "(Ideally, we should use a solving method that gives a more unique flux, but for this example a simple FBA optimum will do.)\n",
    "\n",
    "With this in hand, we can start the CycleFreeFlux workflow by placing\n",
    "constraints on exchange reactions in a linear-parsimonious model:"
   ],
   "metadata": {}
  },
  {
   "outputs": [
    {
     "output_type": "execute_result",
     "data": {
      "text/plain": "ConstraintTrees.ConstraintTree with 8 elements:\n  :coupling               => ConstraintTrees.ConstraintTree(#= 0 elements =#)\n  :fixed_exchanges        => ConstraintTrees.ConstraintTree(#= 20 elements =#)\n  :flux_stoichiometry     => ConstraintTrees.ConstraintTree(#= 72 elements =#)\n  :fluxes                 => ConstraintTrees.ConstraintTree(#= 95 elements =#)\n  :fluxes_forward         => ConstraintTrees.ConstraintTree(#= 95 elements =#)\n  :fluxes_reverse         => ConstraintTrees.ConstraintTree(#= 95 elements =#)\n  :objective              => ConstraintTrees.Constraint(ConstraintTrees.LinearV…\n  :parsimonious_objective => ConstraintTrees.Constraint(ConstraintTrees.LinearV…"
     },
     "metadata": {},
     "execution_count": 3
    }
   ],
   "cell_type": "code",
   "source": [
    "import ConstraintTrees as C\n",
    "\n",
    "cs = linear_parsimonious_flux_balance_constraints(model)\n",
    "\n",
    "cs *=\n",
    "    :fixed_exchanges^C.ConstraintTree(\n",
    "        k => C.Constraint(cs.fluxes[k].value, relative_tolerance_bound(0.999)(v)) for\n",
    "        (k, v) in some_flux.interface.exchanges\n",
    "    )"
   ],
   "metadata": {},
   "execution_count": 3
  },
  {
   "cell_type": "markdown",
   "source": [
    "(We purposefully made the constraints a little less strict by using\n",
    "`relative_tolerance_bound` -- the toy E. coli model would otherwise\n",
    "display no variability at all.)\n",
    "\n",
    "Now we can get a L1-parsimonious (thus cycle-free) solution of the model with\n",
    "the predefined exchanges:"
   ],
   "metadata": {}
  },
  {
   "outputs": [
    {
     "output_type": "execute_result",
     "data": {
      "text/plain": "ConstraintTrees.Tree{Float64} with 95 elements:\n  :ACALD                    => 0.0\n  :ACALDt                   => 0.0\n  :ACKr                     => 0.0\n  :ACONTa                   => 6.00725\n  :ACONTb                   => 6.00725\n  :ACt2r                    => 0.0\n  :ADK1                     => 0.0\n  :AKGDH                    => 5.06438\n  :AKGt2r                   => 0.0\n  :ALCD2x                   => 0.0\n  :ATPM                     => 8.39\n  :ATPS4r                   => 45.514\n  :BIOMASS_Ecoli_core_w_GAM => 0.873922\n  :CO2t                     => -22.8098\n  :CS                       => 6.00725\n  :CYTBD                    => 43.599\n  :D_LACt2                  => 0.0\n  :ENO                      => 14.7161\n  :ETOHt2r                  => 0.0\n  ⋮                         => ⋮"
     },
     "metadata": {},
     "execution_count": 4
    }
   ],
   "cell_type": "code",
   "source": [
    "cycle_free_flux = parsimonious_optimized_values(\n",
    "    cs,\n",
    "    objective = cs.objective.value,\n",
    "    objective_value = some_flux.objective,\n",
    "    parsimonious_objective = cs.parsimonious_objective.value,\n",
    "    optimizer = HiGHS.Optimizer,\n",
    ")\n",
    "\n",
    "cycle_free_flux.fluxes"
   ],
   "metadata": {},
   "execution_count": 4
  },
  {
   "cell_type": "markdown",
   "source": [
    "## CycleFreeFVA\n",
    "\n",
    "With this in hand, we can also run the cycle-free flux variability analysis\n",
    "(again with an added bit of tolerances in both the objective and parsimonious\n",
    "bounds):"
   ],
   "metadata": {}
  },
  {
   "outputs": [
    {
     "output_type": "execute_result",
     "data": {
      "text/plain": "ConstraintTrees.Tree{Tuple{Union{Nothing, Float64}, Union{Nothing, Float64}}} with 95 elements:\n  :ACALD                    => (-0.0, 0.0)\n  :ACALDt                   => (-0.0, 0.0)\n  :ACKr                     => (-0.0, 0.0)\n  :ACONTa                   => (5.92071, 6.08235)\n  :ACONTb                   => (5.92071, 6.08235)\n  :ACt2r                    => (-0.0, 0.0)\n  :ADK1                     => (-0.0, 0.108535)\n  :AKGDH                    => (4.48889, 5.14042)\n  :AKGt2r                   => (-0.0, 0.0)\n  :ALCD2x                   => (-0.0, 0.0)\n  :ATPM                     => (8.39, 8.51247)\n  :ATPS4r                   => (45.3147, 45.6379)\n  :BIOMASS_Ecoli_core_w_GAM => (0.873048, 0.873922)\n  :CO2t                     => (-22.8311, -22.7898)\n  :CS                       => (5.92071, 6.08235)\n  :CYTBD                    => (43.561, 43.6426)\n  :D_LACt2                  => (-0.0, 6.0633e-14)\n  :ENO                      => (14.6209, 14.7825)\n  :ETOHt2r                  => (-0.0, 0.0)\n  ⋮                         => ⋮"
     },
     "metadata": {},
     "execution_count": 5
    }
   ],
   "cell_type": "code",
   "source": [
    "cs.objective.bound = C.Between(cycle_free_flux.objective * 0.999, Inf)\n",
    "cs.parsimonious_objective.bound =\n",
    "    C.Between(0, cycle_free_flux.parsimonious_objective * 1.001)\n",
    "\n",
    "var = constraints_variability(cs, cs.fluxes, optimizer = HiGHS.Optimizer)"
   ],
   "metadata": {},
   "execution_count": 5
  },
  {
   "cell_type": "markdown",
   "source": [
    "## CycleFree sampling\n",
    "\n",
    "Naturally, we can also run flux sampling from the above model. To implement\n",
    "this, we follow the implementation of `flux_sample` --- first we\n",
    "generate the warmup:"
   ],
   "metadata": {}
  },
  {
   "outputs": [
    {
     "output_type": "execute_result",
     "data": {
      "text/plain": "190×190 Matrix{Float64}:\n 7.3821   -0.0          4.57806  -15.927   …  -0.0  -0.0  -0.0          -0.0\n 7.3821   -0.0          4.57806  -15.927      -0.0  -0.0  -0.0          -0.0\n 7.3821   -0.0          4.57806  -15.927      -0.0  -0.0  -0.0          -0.0\n 7.3821   -0.0          4.57806  -15.927      -0.0  -0.0  -0.0          -0.0\n 7.3821   -0.0          4.57806  -15.927      -0.0  -0.0  -0.0          -0.0\n 7.3821   -0.0          4.57806  -15.927   …  -0.0  -0.0  -0.0          -0.0\n 7.3821   -0.0          4.57806  -15.927      -0.0  -0.0  -0.0          -0.0\n 7.54579  -0.0          5.0732   -16.0886     -0.0  -0.0   6.21725e-15  -0.0\n 7.3821   -0.0          4.57806  -15.927      -0.0  -0.0  -0.0          -0.0\n 7.54579  -0.0          5.0732   -16.0886     -0.0  -0.0   6.21725e-15  -0.0\n ⋮                                         ⋱                            \n 7.3821   -0.0          4.57806  -15.927      -0.0  -0.0  -0.0          -0.0\n 7.40268  -0.0          4.63538  -15.9497     -0.0  -0.0  -0.0          -0.0\n 7.54579  -0.0          5.0732   -16.0886     -0.0  -0.0  -0.0          -0.0\n 7.54579  -0.0          5.0732   -16.0886     -0.0  -0.0  -0.0          -0.0\n 7.3821   -5.86198e-14  4.57806  -15.927   …  -0.0  -0.0  -0.0          -0.0\n 7.54579  -0.0          5.0732   -16.0886     -0.0  -0.0  -0.0          -0.0\n 7.3821   -5.86198e-14  4.57806  -15.927      -0.0  -0.0  -0.0          -0.0\n 7.3821   -0.0          4.57806  -15.927      -0.0  -0.0  -0.0          -0.0\n 7.54579  -0.0          5.0732   -16.0886     -0.0  -0.0  -0.0          -0.0"
     },
     "metadata": {},
     "execution_count": 6
    }
   ],
   "cell_type": "code",
   "source": [
    "warmup = vcat(\n",
    "    (\n",
    "        transpose(v) for (_, vs) in constraints_variability(\n",
    "            cs,\n",
    "            cs.fluxes,\n",
    "            optimizer = HiGHS.Optimizer,\n",
    "            output = (_, om) -> variable_vector(om),\n",
    "            output_type = Vector{Float64},\n",
    "        ) for v in vs\n",
    "    )...,\n",
    ")"
   ],
   "metadata": {},
   "execution_count": 6
  },
  {
   "cell_type": "markdown",
   "source": [
    "Next, we can run the sampling:"
   ],
   "metadata": {}
  },
  {
   "outputs": [
    {
     "output_type": "execute_result",
     "data": {
      "text/plain": "ConstraintTrees.Tree{Vector{Float64}} with 95 elements:\n  :ACALD                    => [-2.86477e-15, -5.80857e-15, -6.303e-15, -4.2159…\n  :ACALDt                   => [-1.69876e-15, -2.82671e-15, -3.48804e-15, 8.023…\n  :ACKr                     => [-5.1976e-15, -4.94937e-15, -4.77809e-15, -4.416…\n  :ACONTa                   => [6.0017, 5.99204, 5.99008, 5.98695, 6.00876, 5.9…\n  :ACONTb                   => [6.0017, 5.99204, 5.99008, 5.98695, 6.00876, 5.9…\n  :ACt2r                    => [-5.26414e-15, -4.94501e-15, -4.80578e-15, -4.51…\n  :ADK1                     => [0.0041622, 0.00376928, 0.00249937, 0.00247738, …\n  :AKGDH                    => [4.99378, 4.91115, 4.90038, 4.89263, 5.06269, 4.…\n  :AKGt2r                   => [2.03481e-15, 3.56293e-15, 4.05086e-15, 2.00581e…\n  :ALCD2x                   => [-1.39845e-15, -3.11776e-15, -2.98776e-15, -5.18…\n  :ATPM                     => [8.39128, 8.39161, 8.39152, 8.3916, 8.39043, 8.3…\n  :ATPS4r                   => [45.5167, 45.529, 45.5312, 45.5407, 45.5107, 45.…\n  :BIOMASS_Ecoli_core_w_GAM => [0.873185, 0.873134, 0.873139, 0.873156, 0.87326…\n  :CO2t                     => [-22.8194, -22.821, -22.8213, -22.8214, -22.8177…\n  :CS                       => [6.0017, 5.99204, 5.99008, 5.98695, 6.00876, 5.9…\n  :CYTBD                    => [43.6198, 43.6232, 43.6237, 43.624, 43.6162, 43.…\n  :D_LACt2                  => [-2.25102e-14, -2.26823e-14, -1.8228e-14, -2.554…\n  :ENO                      => [14.7032, 14.6931, 14.6912, 14.6882, 14.7111, 14…\n  :ETOHt2r                  => [-1.55563e-15, -3.30731e-15, -3.15731e-15, -5.35…\n  ⋮                         => ⋮"
     },
     "metadata": {},
     "execution_count": 7
    }
   ],
   "cell_type": "code",
   "source": [
    "sample = sample_constraints(\n",
    "    sample_chain_achr,\n",
    "    cs,\n",
    "    start_variables = warmup,\n",
    "    seed = UInt(1234),\n",
    "    output = cs.fluxes,\n",
    "    n_chains = 10,\n",
    "    collect_iterations = collect(10:15),\n",
    ")"
   ],
   "metadata": {},
   "execution_count": 7
  },
  {
   "cell_type": "markdown",
   "source": [
    "The results can be observed (and usually plotted) from the sample vectors,\n",
    "such as the one for oxygen exchange:"
   ],
   "metadata": {}
  },
  {
   "outputs": [
    {
     "output_type": "execute_result",
     "data": {
      "text/plain": "11400-element Vector{Float64}:\n -21.809910675462316\n -21.811593820339848\n -21.81186604603884\n -21.81199036604807\n -21.808086247677952\n -21.8117797245191\n -21.811417309355413\n -21.811108656969214\n -21.81115053554036\n -21.811432268848144\n   ⋮\n -21.811507003496565\n -21.812028633557663\n -21.81105149470561\n -21.81086295219901\n -21.810914110886465\n -21.811205956007473\n -21.813364572555663\n -21.80963333194993\n -21.81300524702459"
     },
     "metadata": {},
     "execution_count": 8
    }
   ],
   "cell_type": "code",
   "source": [
    "sample.EX_o2_e"
   ],
   "metadata": {},
   "execution_count": 8
  },
  {
   "cell_type": "markdown",
   "source": [
    "---\n",
    "\n",
    "*This notebook was generated using [Literate.jl](https://github.com/fredrikekre/Literate.jl).*"
   ],
   "metadata": {}
  }
 ],
 "nbformat_minor": 3,
 "metadata": {
  "language_info": {
   "file_extension": ".jl",
   "mimetype": "application/julia",
   "name": "julia",
   "version": "1.11.5"
  },
  "kernelspec": {
   "name": "julia-1.11",
   "display_name": "Julia 1.11.5",
   "language": "julia"
  }
 },
 "nbformat": 4
}
