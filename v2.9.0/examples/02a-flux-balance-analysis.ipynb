{
 "cells": [
  {
   "cell_type": "markdown",
   "source": [
    "# Flux balance analysis (FBA)"
   ],
   "metadata": {}
  },
  {
   "cell_type": "markdown",
   "source": [
    "Here we use `flux_balance_analysis` and several related functions to\n",
    "find an optimal flux in the *E. coli* \"core\" model. We will need the model,\n",
    "which we can download using `download_model`:"
   ],
   "metadata": {}
  },
  {
   "outputs": [
    {
     "name": "stdout",
     "output_type": "stream",
     "text": [
      "[ Info: using cached `e_coli_core.json'\n"
     ]
    },
    {
     "output_type": "execute_result",
     "data": {
      "text/plain": "\"e_coli_core.json\""
     },
     "metadata": {},
     "execution_count": 1
    }
   ],
   "cell_type": "code",
   "source": [
    "using COBREXA\n",
    "\n",
    "download_model(\n",
    "    \"http://bigg.ucsd.edu/static/models/e_coli_core.json\",\n",
    "    \"e_coli_core.json\",\n",
    "    \"7bedec10576cfe935b19218dc881f3fb14f890a1871448fc19a9b4ee15b448d8\",\n",
    ")"
   ],
   "metadata": {},
   "execution_count": 1
  },
  {
   "cell_type": "markdown",
   "source": [
    "Additionally to COBREXA and the model format package, we will need a solver\n",
    "-- let's use HiGHS here:"
   ],
   "metadata": {}
  },
  {
   "outputs": [
    {
     "output_type": "execute_result",
     "data": {
      "text/plain": "JSONFBCModels.JSONFBCModel(#= 95 reactions, 72 metabolites =#)"
     },
     "metadata": {},
     "execution_count": 2
    }
   ],
   "cell_type": "code",
   "source": [
    "import JSONFBCModels\n",
    "import HiGHS\n",
    "\n",
    "model = load_model(\"e_coli_core.json\")"
   ],
   "metadata": {},
   "execution_count": 2
  },
  {
   "cell_type": "markdown",
   "source": [
    "## Running a FBA\n",
    "\n",
    "There are many possibilities on how to arrange the metabolic model into the\n",
    "optimization framework and how to actually solve it. The \"usual\" assumed one\n",
    "is captured in the default behavior of function\n",
    "`flux_balance_analysis`:"
   ],
   "metadata": {}
  },
  {
   "outputs": [
    {
     "output_type": "execute_result",
     "data": {
      "text/plain": "ConstraintTrees.Tree{Float64} with 4 elements:\n  :coupling           => ConstraintTrees.Tree{Float64}(#= 0 elements =#)\n  :flux_stoichiometry => ConstraintTrees.Tree{Float64}(#= 72 elements =#)\n  :fluxes             => ConstraintTrees.Tree{Float64}(#= 95 elements =#)\n  :objective          => 0.873922"
     },
     "metadata": {},
     "execution_count": 3
    }
   ],
   "cell_type": "code",
   "source": [
    "solution = flux_balance_analysis(model, optimizer = HiGHS.Optimizer)"
   ],
   "metadata": {},
   "execution_count": 3
  },
  {
   "cell_type": "markdown",
   "source": [
    "The result contains a tree of all optimized values in the model, including\n",
    "fluxes, the objective value, and possibly others (given by what the model\n",
    "contains).\n",
    "\n",
    "We can use the dot notation to explore the solution, extracting e.g. the\n",
    "value of the objective:"
   ],
   "metadata": {}
  },
  {
   "outputs": [
    {
     "output_type": "execute_result",
     "data": {
      "text/plain": "0.8739215069684305"
     },
     "metadata": {},
     "execution_count": 4
    }
   ],
   "cell_type": "code",
   "source": [
    "solution.objective"
   ],
   "metadata": {},
   "execution_count": 4
  },
  {
   "cell_type": "markdown",
   "source": [
    "...or the value of the flux through the given reaction (note the solution is\n",
    "not unique in FBA):"
   ],
   "metadata": {}
  },
  {
   "outputs": [
    {
     "output_type": "execute_result",
     "data": {
      "text/plain": "7.477381962160285"
     },
     "metadata": {},
     "execution_count": 5
    }
   ],
   "cell_type": "code",
   "source": [
    "solution.fluxes.PFK"
   ],
   "metadata": {},
   "execution_count": 5
  },
  {
   "cell_type": "markdown",
   "source": [
    "...or make a \"table\" of all fluxes through all reactions:"
   ],
   "metadata": {}
  },
  {
   "outputs": [
    {
     "output_type": "execute_result",
     "data": {
      "text/plain": "95-element Vector{Pair{Symbol, Union{Float64, ConstraintTrees.Tree{Float64}}}}:\n    :ACALD => 0.0\n   :ACALDt => 0.0\n     :ACKr => 0.0\n   :ACONTa => 6.007249575350331\n   :ACONTb => 6.007249575350331\n    :ACt2r => 0.0\n     :ADK1 => 0.0\n    :AKGDH => 5.064375661482091\n   :AKGt2r => 0.0\n   :ALCD2x => 0.0\n           ⋮\n :SUCCt2_2 => 0.0\n   :SUCCt3 => 0.0\n    :SUCDi => 5.064375661482091\n   :SUCOAS => -5.064375661482091\n     :TALA => 1.496983757261565\n     :THD2 => 0.0\n     :TKT1 => 1.496983757261565\n     :TKT2 => 1.1814980932459616\n      :TPI => 7.477381962160285"
     },
     "metadata": {},
     "execution_count": 6
    }
   ],
   "cell_type": "code",
   "source": [
    "collect(solution.fluxes)"
   ],
   "metadata": {},
   "execution_count": 6
  },
  {
   "cell_type": "markdown",
   "source": [
    "---\n",
    "\n",
    "*This notebook was generated using [Literate.jl](https://github.com/fredrikekre/Literate.jl).*"
   ],
   "metadata": {}
  }
 ],
 "nbformat_minor": 3,
 "metadata": {
  "language_info": {
   "file_extension": ".jl",
   "mimetype": "application/julia",
   "name": "julia",
   "version": "1.11.5"
  },
  "kernelspec": {
   "name": "julia-1.11",
   "display_name": "Julia 1.11.5",
   "language": "julia"
  }
 },
 "nbformat": 4
}
