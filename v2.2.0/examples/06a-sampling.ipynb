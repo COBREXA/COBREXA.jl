{
 "cells": [
  {
   "cell_type": "markdown",
   "source": [
    "# Flux sampling\n",
    "\n",
    "Flux sampling gives an interesting statistical insight into the behavior of\n",
    "the model in the optimal feasible space, and the general \"shape\" of the\n",
    "optimal- or near-optimal set of feasible states of a given model."
   ],
   "metadata": {}
  },
  {
   "cell_type": "markdown",
   "source": [
    "For demonstration, we need the usual packages and models:"
   ],
   "metadata": {}
  },
  {
   "outputs": [
    {
     "name": "stdout",
     "output_type": "stream",
     "text": [
      "[ Info: using cached `e_coli_core.json'\n"
     ]
    },
    {
     "output_type": "execute_result",
     "data": {
      "text/plain": "JSONFBCModels.JSONFBCModel(#= 95 reactions, 72 metabolites =#)"
     },
     "metadata": {},
     "execution_count": 1
    }
   ],
   "cell_type": "code",
   "source": [
    "using COBREXA\n",
    "\n",
    "download_model(\n",
    "    \"http://bigg.ucsd.edu/static/models/e_coli_core.json\",\n",
    "    \"e_coli_core.json\",\n",
    "    \"7bedec10576cfe935b19218dc881f3fb14f890a1871448fc19a9b4ee15b448d8\",\n",
    ")\n",
    "\n",
    "import JSONFBCModels, HiGHS\n",
    "\n",
    "model = load_model(\"e_coli_core.json\")"
   ],
   "metadata": {},
   "execution_count": 1
  },
  {
   "cell_type": "markdown",
   "source": [
    "Function `flux_sample` uses linear optimization to generate a set of\n",
    "warm-up points (by default, the method to generate the warm-up is basically\n",
    "FVA), and then runs the hit-and-run flux sampling algorithm on the\n",
    "near-optimal feasible space of the model:"
   ],
   "metadata": {}
  },
  {
   "outputs": [
    {
     "output_type": "execute_result",
     "data": {
      "text/plain": "ConstraintTrees.Tree{Vector{Float64}} with 95 elements:\n  :ACALD                    => [-0.00867512, -0.0218231, -0.00899363, -0.012184…\n  :ACALDt                   => [-0.00193261, -0.00650119, -0.00137194, -0.00342…\n  :ACKr                     => [-0.0209192, -0.00344931, -0.021954, -0.0189462,…\n  :ACONTa                   => [6.11677, 6.39567, 6.14245, 6.06247, 5.96282, 6.…\n  :ACONTb                   => [6.11677, 6.39567, 6.14245, 6.06247, 5.96282, 6.…\n  :ACt2r                    => [-0.0209192, -0.00344931, -0.021954, -0.0189462,…\n  :ADK1                     => [0.0305177, 0.0246224, 0.0311424, 0.0297888, 0.0…\n  :AKGDH                    => [4.5571, 5.24487, 4.57632, 4.53504, 4.51989, 4.6…\n  :AKGt2r                   => [-0.00156061, -0.000568323, -0.00222189, -0.0014…\n  :ALCD2x                   => [-0.0067425, -0.0153219, -0.00762169, -0.0087579…\n  :ATPM                     => [8.43625, 8.39921, 8.43046, 8.43756, 8.45207, 8.…\n  :ATPS4r                   => [45.1273, 44.5713, 45.0594, 45.247, 45.5012, 45.…\n  :BIOMASS_Ecoli_core_w_GAM => [0.865414, 0.865541, 0.865423, 0.865451, 0.86554…\n  :CO2t                     => [-22.9543, -22.9351, -22.9534, -22.9499, -22.946…\n  :CS                       => [6.11677, 6.39567, 6.14245, 6.06247, 5.96282, 6.…\n  :CYTBD                    => [43.9713, 43.8625, 43.9632, 43.9546, 43.939, 43.…\n  :D_LACt2                  => [-0.00827133, -0.0214131, -0.00780849, -0.008695…\n  :ENO                      => [14.79, 15.0857, 14.8179, 14.7385, 14.641, 14.79…\n  :ETOHt2r                  => [-0.0067425, -0.0153219, -0.00762169, -0.0087579…\n  ⋮                         => ⋮"
     },
     "metadata": {},
     "execution_count": 2
    }
   ],
   "cell_type": "code",
   "source": [
    "s = flux_sample(\n",
    "    model,\n",
    "    optimizer = HiGHS.Optimizer,\n",
    "    objective_bound = relative_tolerance_bound(0.99),\n",
    "    n_chains = 2,\n",
    "    collect_iterations = [10],\n",
    ")"
   ],
   "metadata": {},
   "execution_count": 2
  },
  {
   "cell_type": "markdown",
   "source": [
    "The result is a tree of vectors of sampled states for each value; the order\n",
    "of the values in these vectors is fixed. You can thus e.g. create a good\n",
    "matrix for plotting the sample as 2D scatterplot:"
   ],
   "metadata": {}
  },
  {
   "outputs": [
    {
     "output_type": "execute_result",
     "data": {
      "text/plain": "380×2 Matrix{Float64}:\n 21.9856  -22.9543\n 21.9312  -22.9351\n 21.9816  -22.9534\n 21.9773  -22.9499\n 21.9695  -22.9462\n 21.9831  -22.9599\n 21.9624  -22.9348\n 22.0019  -22.9897\n 22.0045  -22.9841\n 22.0437  -23.0222\n  ⋮       \n 21.9523  -22.9163\n 21.9692  -22.942\n 21.9641  -22.9285\n 21.9629  -22.9258\n 22.0145  -22.9876\n 21.9689  -22.9385\n 21.9432  -22.899\n 21.9359  -22.8889\n 21.9764  -22.935"
     },
     "metadata": {},
     "execution_count": 3
    }
   ],
   "cell_type": "code",
   "source": [
    "[s.O2t s.CO2t]"
   ],
   "metadata": {},
   "execution_count": 3
  },
  {
   "cell_type": "markdown",
   "source": [
    "---\n",
    "\n",
    "*This notebook was generated using [Literate.jl](https://github.com/fredrikekre/Literate.jl).*"
   ],
   "metadata": {}
  }
 ],
 "nbformat_minor": 3,
 "metadata": {
  "language_info": {
   "file_extension": ".jl",
   "mimetype": "application/julia",
   "name": "julia",
   "version": "1.9.4"
  },
  "kernelspec": {
   "name": "julia-1.9",
   "display_name": "Julia 1.9.4",
   "language": "julia"
  }
 },
 "nbformat": 4
}
