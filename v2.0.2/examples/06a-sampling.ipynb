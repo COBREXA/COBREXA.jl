{
 "cells": [
  {
   "cell_type": "markdown",
   "source": [
    "# Flux sampling\n",
    "\n",
    "Flux sampling gives an interesting statistical insight into the behavior of\n",
    "the model in the optimal feasible space, and the general \"shape\" of the\n",
    "optimal- or near-optimal set of feasible states of a given model."
   ],
   "metadata": {}
  },
  {
   "cell_type": "markdown",
   "source": [
    "For demonstration, we need the usual packages and models:"
   ],
   "metadata": {}
  },
  {
   "outputs": [
    {
     "name": "stdout",
     "output_type": "stream",
     "text": [
      "[ Info: using cached `e_coli_core.json'\n"
     ]
    },
    {
     "output_type": "execute_result",
     "data": {
      "text/plain": "JSONFBCModels.JSONFBCModel(#= 95 reactions, 72 metabolites =#)"
     },
     "metadata": {},
     "execution_count": 1
    }
   ],
   "cell_type": "code",
   "source": [
    "using COBREXA\n",
    "\n",
    "download_model(\n",
    "    \"http://bigg.ucsd.edu/static/models/e_coli_core.json\",\n",
    "    \"e_coli_core.json\",\n",
    "    \"7bedec10576cfe935b19218dc881f3fb14f890a1871448fc19a9b4ee15b448d8\",\n",
    ")\n",
    "\n",
    "import JSONFBCModels, GLPK\n",
    "\n",
    "model = load_model(\"e_coli_core.json\")"
   ],
   "metadata": {},
   "execution_count": 1
  },
  {
   "cell_type": "markdown",
   "source": [
    "Function `flux_sample` uses linear optimization to generate a set of\n",
    "warm-up points (by default, the method to generate the warm-up is basically\n",
    "FVA), and then runs the hit-and-run flux sampling algorithm on the\n",
    "near-optimal feasible space of the model:"
   ],
   "metadata": {}
  },
  {
   "outputs": [
    {
     "output_type": "execute_result",
     "data": {
      "text/plain": "ConstraintTrees.Tree{Vector{Float64}} with 95 elements:\n  :ACALD                    => [-0.0119093, -0.0112914, -0.00920414, -0.0129983…\n  :ACALDt                   => [-0.00410012, -0.0035558, -0.000826268, -0.00440…\n  :ACKr                     => [-0.0161952, -0.0161232, -0.0194184, -0.0227615,…\n  :ACONTa                   => [6.07198, 6.03824, 6.0354, 5.97103, 6.08151, 6.3…\n  :ACONTb                   => [6.07198, 6.03824, 6.0354, 5.97103, 6.08151, 6.3…\n  :ACt2r                    => [-0.0161952, -0.0161232, -0.0194184, -0.0227615,…\n  :ADK1                     => [0.0243441, 0.0226886, 0.0232432, 0.0292833, 0.0…\n  :AKGDH                    => [4.64328, 4.56951, 4.57649, 4.34473, 4.6593, 5.2…\n  :AKGt2r                   => [-0.00200008, -0.002166, -0.00221152, -0.0018012…\n  :ALCD2x                   => [-0.00780917, -0.0077356, -0.00837787, -0.008595…\n  :ATPM                     => [8.39669, 8.397, 8.39712, 8.39645, 8.39639, 8.39…\n  :ATPS4r                   => [45.1879, 45.2735, 45.2777, 45.3551, 45.1736, 44…\n  :BIOMASS_Ecoli_core_w_GAM => [0.86593, 0.865916, 0.865983, 0.865981, 0.865957…\n  :CO2t                     => [-22.9076, -22.9065, -22.8961, -22.9243, -22.909…\n  :CS                       => [6.07198, 6.03824, 6.0354, 5.97103, 6.08151, 6.3…\n  :CYTBD                    => [43.8771, 43.8783, 43.8631, 43.8998, 43.8784, 43…\n  :D_LACt2                  => [-0.00773672, -0.00848575, -0.00800448, -0.00630…\n  :ENO                      => [14.7513, 14.7181, 14.7159, 14.6528, 14.7609, 14…\n  :ETOHt2r                  => [-0.00780917, -0.0077356, -0.00837787, -0.008595…\n  ⋮                         => ⋮"
     },
     "metadata": {},
     "execution_count": 2
    }
   ],
   "cell_type": "code",
   "source": [
    "s = flux_sample(\n",
    "    model,\n",
    "    optimizer = GLPK.Optimizer,\n",
    "    objective_bound = relative_tolerance_bound(0.99),\n",
    "    n_chains = 2,\n",
    "    collect_iterations = [10],\n",
    ")"
   ],
   "metadata": {},
   "execution_count": 2
  },
  {
   "cell_type": "markdown",
   "source": [
    "The result is a tree of vectors of sampled states for each value; the order\n",
    "of the values in these vectors is fixed. You can thus e.g. create a good\n",
    "matrix for plotting the sample as 2D scatterplot:"
   ],
   "metadata": {}
  },
  {
   "outputs": [
    {
     "output_type": "execute_result",
     "data": {
      "text/plain": "380×2 Matrix{Float64}:\n 21.9386  -22.9076\n 21.9392  -22.9065\n 21.9316  -22.8961\n 21.9499  -22.9243\n 21.9392  -22.9096\n 21.9837  -22.9756\n 21.9636  -22.9317\n 21.9046  -22.8681\n 21.9072  -22.8747\n 21.8742  -22.8567\n  ⋮       \n 21.918   -22.8865\n 21.919   -22.8957\n 21.9309  -22.9003\n 21.8969  -22.8605\n 21.9333  -22.902\n 21.9445  -22.9215\n 21.9098  -22.8745\n 21.8664  -22.8288\n 21.9582  -22.9264"
     },
     "metadata": {},
     "execution_count": 3
    }
   ],
   "cell_type": "code",
   "source": [
    "[s.O2t s.CO2t]"
   ],
   "metadata": {},
   "execution_count": 3
  },
  {
   "cell_type": "markdown",
   "source": [
    "---\n",
    "\n",
    "*This notebook was generated using [Literate.jl](https://github.com/fredrikekre/Literate.jl).*"
   ],
   "metadata": {}
  }
 ],
 "nbformat_minor": 3,
 "metadata": {
  "language_info": {
   "file_extension": ".jl",
   "mimetype": "application/julia",
   "name": "julia",
   "version": "1.9.4"
  },
  "kernelspec": {
   "name": "julia-1.9",
   "display_name": "Julia 1.9.4",
   "language": "julia"
  }
 },
 "nbformat": 4
}
