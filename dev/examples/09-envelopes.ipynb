{
 "cells": [
  {
   "cell_type": "markdown",
   "source": [
    "# Production envelopes\n",
    "Production envelopes determine the flux of the model objective at different\n",
    "values of specific reactions, spanning their variability. We can use the\n",
    "builtin function `objective_production_envelope` to quickly simulate\n",
    "this."
   ],
   "metadata": {}
  },
  {
   "outputs": [
    {
     "name": "stdout",
     "output_type": "stream",
     "text": [
      "[ Info: using cached `e_coli_core.json'\n"
     ]
    },
    {
     "output_type": "execute_result",
     "data": {
      "text/plain": "(breaks = Pair{String, StepRangeLen{Float64, Base.TwicePrecision{Float64}, Base.TwicePrecision{Float64}, Int64}}[\"EX_o2_e\" => -59.99999999999967:14.999999999999917:-7.105427357601002e-15, \"EX_co2_e\" => -11.104242424242459:17.776060606057566:59.99999999998781], objective_values = Union{Nothing, Float64}[nothing nothing … nothing 2.5239490251860257e-15; nothing nothing … 0.2724440832476354 nothing; … ; nothing 0.6046187247412884 … nothing nothing; 3.956403281434126e-15 0.20192628807217974 … nothing nothing])"
     },
     "metadata": {},
     "execution_count": 1
    }
   ],
   "cell_type": "code",
   "source": [
    "using COBREXA\n",
    "\n",
    "download_model(\n",
    "    \"http://bigg.ucsd.edu/static/models/e_coli_core.json\",\n",
    "    \"e_coli_core.json\",\n",
    "    \"7bedec10576cfe935b19218dc881f3fb14f890a1871448fc19a9b4ee15b448d8\",\n",
    ")\n",
    "\n",
    "import JSONFBCModels\n",
    "import GLPK\n",
    "\n",
    "model = load_model(\"e_coli_core.json\")\n",
    "\n",
    "envelope = objective_production_envelope(\n",
    "    model,\n",
    "    [\"EX_o2_e\", \"EX_co2_e\"];\n",
    "    breaks = 5,\n",
    "    optimizer = GLPK.Optimizer,\n",
    ")"
   ],
   "metadata": {},
   "execution_count": 1
  },
  {
   "cell_type": "markdown",
   "source": [
    "---\n",
    "\n",
    "*This notebook was generated using [Literate.jl](https://github.com/fredrikekre/Literate.jl).*"
   ],
   "metadata": {}
  }
 ],
 "nbformat_minor": 3,
 "metadata": {
  "language_info": {
   "file_extension": ".jl",
   "mimetype": "application/julia",
   "name": "julia",
   "version": "1.9.4"
  },
  "kernelspec": {
   "name": "julia-1.9",
   "display_name": "Julia 1.9.4",
   "language": "julia"
  }
 },
 "nbformat": 4
}
