{
 "cells": [
  {
   "cell_type": "markdown",
   "source": [
    "# Community FBA models"
   ],
   "metadata": {}
  },
  {
   "outputs": [],
   "cell_type": "code",
   "source": [
    "using COBREXA"
   ],
   "metadata": {},
   "execution_count": 1
  },
  {
   "cell_type": "markdown",
   "source": [
    "Here we construct a community FBA model of two  *E. coli* \"core\" models that\n",
    "can interact by exchanging selected metabolites. To do this, we will need the\n",
    "model, which we can download if it is not already present."
   ],
   "metadata": {}
  },
  {
   "outputs": [
    {
     "name": "stdout",
     "output_type": "stream",
     "text": [
      "[ Info: using cached `e_coli_core.json'\n"
     ]
    },
    {
     "output_type": "execute_result",
     "data": {
      "text/plain": "\"e_coli_core.json\""
     },
     "metadata": {},
     "execution_count": 2
    }
   ],
   "cell_type": "code",
   "source": [
    "download_model(\n",
    "    \"http://bigg.ucsd.edu/static/models/e_coli_core.json\",\n",
    "    \"e_coli_core.json\",\n",
    "    \"7bedec10576cfe935b19218dc881f3fb14f890a1871448fc19a9b4ee15b448d8\",\n",
    ")"
   ],
   "metadata": {},
   "execution_count": 2
  },
  {
   "cell_type": "markdown",
   "source": [
    "Additionally to COBREXA and the model format package, we will need a solver\n",
    "and a few supporting packages."
   ],
   "metadata": {}
  },
  {
   "outputs": [],
   "cell_type": "code",
   "source": [
    "import JSONFBCModels\n",
    "import GLPK\n",
    "import AbstractFBCModels.CanonicalModel as CM\n",
    "import ConstraintTrees as C"
   ],
   "metadata": {},
   "execution_count": 3
  },
  {
   "cell_type": "markdown",
   "source": [
    "The core model has an artificial bound on input glucose; here we unblock that\n",
    "one, and we are going to add a community-global glucose intake bound later."
   ],
   "metadata": {}
  },
  {
   "outputs": [
    {
     "output_type": "execute_result",
     "data": {
      "text/plain": "1000.0"
     },
     "metadata": {},
     "execution_count": 4
    }
   ],
   "cell_type": "code",
   "source": [
    "ecoli = load_model(\"e_coli_core.json\", CM.Model)\n",
    "ecoli.reactions[\"EX_glc__D_e\"].lower_bound = -1000.0\n",
    "ecoli.reactions[\"EX_glc__D_e\"].upper_bound = 1000.0"
   ],
   "metadata": {},
   "execution_count": 4
  },
  {
   "cell_type": "markdown",
   "source": [
    "To create a community that is actually interesting, we need some diversity.\n",
    "Here we simply block a different reaction in each of the community members:"
   ],
   "metadata": {}
  },
  {
   "outputs": [
    {
     "output_type": "execute_result",
     "data": {
      "text/plain": "0.0"
     },
     "metadata": {},
     "execution_count": 5
    }
   ],
   "cell_type": "code",
   "source": [
    "ecoli1 = deepcopy(ecoli)\n",
    "ecoli1.reactions[\"CYTBD\"].lower_bound = ecoli1.reactions[\"CYTBD\"].upper_bound = 0.0\n",
    "ecoli2 = deepcopy(ecoli)\n",
    "ecoli2.reactions[\"FBA\"].lower_bound = ecoli2.reactions[\"FBA\"].upper_bound = 0.0"
   ],
   "metadata": {},
   "execution_count": 5
  },
  {
   "cell_type": "markdown",
   "source": [
    "## Analysing the community"
   ],
   "metadata": {}
  },
  {
   "cell_type": "markdown",
   "source": [
    "To construct the community, we have to provide identifiers for the models\n",
    "(these will be used in the constraint tree), and corresponding models with\n",
    "the abundances."
   ],
   "metadata": {}
  },
  {
   "outputs": [
    {
     "output_type": "execute_result",
     "data": {
      "text/plain": "Dict{String, Tuple{AbstractFBCModels.CanonicalModel.Model, Float64}} with 2 entries:\n  \"bug2\" => (Model(Dict{String, Reaction}(\"ACALD\"=>Reaction(\"Acetaldehyde dehyd…\n  \"bug1\" => (Model(Dict{String, Reaction}(\"ACALD\"=>Reaction(\"Acetaldehyde dehyd…"
     },
     "metadata": {},
     "execution_count": 6
    }
   ],
   "cell_type": "code",
   "source": [
    "my_community = Dict(\"bug1\" => (ecoli1, 0.2), \"bug2\" => (ecoli2, 0.8))"
   ],
   "metadata": {},
   "execution_count": 6
  },
  {
   "cell_type": "markdown",
   "source": [
    "The community is constructed and analysed using\n",
    "`community_flux_balance_analysis`:"
   ],
   "metadata": {}
  },
  {
   "outputs": [
    {
     "output_type": "execute_result",
     "data": {
      "text/plain": "ConstraintTrees.Tree{Float64} with 6 elements:\n  :bug1                => ConstraintTrees.Tree{Float64}(#= 5 elements =#)\n  :bug2                => ConstraintTrees.Tree{Float64}(#= 5 elements =#)\n  :community_balance   => ConstraintTrees.Tree{Float64}(#= 20 elements =#)\n  :community_biomass   => 0.523716\n  :community_exchanges => ConstraintTrees.Tree{Float64}(#= 20 elements =#)\n  :equal_growth        => ConstraintTrees.Tree{Float64}(#= 1 element =#)"
     },
     "metadata": {},
     "execution_count": 7
    }
   ],
   "cell_type": "code",
   "source": [
    "solution = community_flux_balance_analysis(\n",
    "    my_community,\n",
    "    [\"EX_glc__D_e\" => (-10.0, 0.0)],\n",
    "    optimizer = GLPK.Optimizer,\n",
    ")"
   ],
   "metadata": {},
   "execution_count": 7
  },
  {
   "cell_type": "markdown",
   "source": [
    "## Investigating the solution"
   ],
   "metadata": {}
  },
  {
   "cell_type": "markdown",
   "source": [
    "We can now e.g. observe the differences in individual pairs of exchanges:"
   ],
   "metadata": {}
  },
  {
   "outputs": [
    {
     "output_type": "execute_result",
     "data": {
      "text/plain": "ConstraintTrees.Tree{Tuple{Float64, Float64}} with 20 elements:\n  :EX_ac_e     => (16.5424, 1.06581e-14)\n  :EX_acald_e  => (0.0, 0.0)\n  :EX_akg_e    => (0.0, 0.0)\n  :EX_co2_e    => (-0.935723, 19.8177)\n  :EX_etoh_e   => (15.9879, 0.0)\n  :EX_for_e    => (35.0581, 2.52782)\n  :EX_fru_e    => (0.0, 0.0)\n  :EX_fum_e    => (0.0, 0.0)\n  :EX_glc__D_e => (-20.245, -7.43875)\n  :EX_gln__L_e => (0.0, 0.0)\n  :EX_glu__L_e => (4.88498e-15, 0.0)\n  :EX_h2o_e    => (-13.1086, 23.6327)\n  :EX_h_e      => (62.1062, 13.0336)\n  :EX_lac__D_e => (7.10543e-15, 0.0)\n  :EX_mal__L_e => (0.0, 0.0)\n  :EX_nh4_e    => (-2.85572, -2.85572)\n  :EX_o2_e     => (0.0, -20.4762)\n  :EX_pi_e     => (-1.92659, -1.92659)\n  :EX_pyr_e    => (0.0, 0.0)\n  :EX_succ_e   => (3.55271e-15, 0.0)"
     },
     "metadata": {},
     "execution_count": 8
    }
   ],
   "cell_type": "code",
   "source": [
    "C.zip(\n",
    "    tuple,\n",
    "    solution.bug1.interface.exchanges,\n",
    "    solution.bug2.interface.exchanges,\n",
    "    Tuple{Float64,Float64},\n",
    ")"
   ],
   "metadata": {},
   "execution_count": 8
  },
  {
   "cell_type": "markdown",
   "source": [
    "...or use `screen` to efficiently find out which composition is best:"
   ],
   "metadata": {}
  },
  {
   "outputs": [
    {
     "output_type": "execute_result",
     "data": {
      "text/plain": "11-element Vector{Pair{Tuple{Float64, Float64}, Float64}}:\n                 (1.0, 0.0) => 0.21166294973531166\n                 (0.9, 0.1) => 0.23424604629802845\n                 (0.8, 0.2) => 0.25971971809640987\n                 (0.7, 0.3) => 0.2886768902449847\n                 (0.6, 0.4) => 0.32188455339556993\n                 (0.5, 0.5) => 0.36035269877962506\n                 (0.4, 0.6) => 0.4054388316161014\n (0.30000000000000004, 0.7) => 0.4590115020201965\n (0.19999999999999996, 0.8) => 0.5237157737585179\n (0.09999999999999998, 0.9) => 0.6034233598466001\n                 (0.0, 1.0) => 0.7040369478590228"
     },
     "metadata": {},
     "execution_count": 9
    }
   ],
   "cell_type": "code",
   "source": [
    "screen(0.0:0.1:1.0) do ratio2\n",
    "    ratio1 = 1 - ratio2\n",
    "    res = community_flux_balance_analysis(\n",
    "        [(\"bug1\" => (ecoli1, ratio1)), (\"bug2\" => (ecoli2, ratio2))],\n",
    "        [\"EX_glc__D_e\" => (-10.0, 0.0)],\n",
    "        interface = :sbo, # usually more reproducible\n",
    "        optimizer = GLPK.Optimizer,\n",
    "    )\n",
    "    (ratio1, ratio2) => (isnothing(res) ? nothing : res.community_biomass)\n",
    "end"
   ],
   "metadata": {},
   "execution_count": 9
  },
  {
   "cell_type": "markdown",
   "source": [
    "(The result seem like the `bug1` is eventually going to be completely\n",
    "out-grown by the other one.)"
   ],
   "metadata": {}
  },
  {
   "cell_type": "markdown",
   "source": [
    "## Note: interfaces of constraint systems\n",
    "\n",
    "Internally, the community is connected via *interfaces*, which are small\n",
    "constraint trees (typically with no bounds attached) that describe parts of\n",
    "the constraint system that can be easily attached to other parts.\n",
    "\n",
    "The best kind of interface to choose generally differs from model to model.\n",
    "COBREXA gives a few \"default\" choices that cover a good part of sensible\n",
    "metabolic modeling. For example, if the model contains SBO annotations, we\n",
    "can ask for the interface created using the annotated reactions:"
   ],
   "metadata": {}
  },
  {
   "outputs": [
    {
     "output_type": "execute_result",
     "data": {
      "text/plain": "ConstraintTrees.Tree{ConstraintTrees.Constraint} with 2 elements:\n  :biomass   => ConstraintTrees.Tree{ConstraintTrees.Constraint}(#= 1 element =…\n  :exchanges => ConstraintTrees.Tree{ConstraintTrees.Constraint}(#= 20 elements…"
     },
     "metadata": {},
     "execution_count": 10
    }
   ],
   "cell_type": "code",
   "source": [
    "flux_balance_constraints(ecoli, interface = :sbo).interface"
   ],
   "metadata": {},
   "execution_count": 10
  },
  {
   "cell_type": "markdown",
   "source": [
    "If there are no annotations, we can still at least detect the boundary\n",
    "reactions and make an interface out of them:"
   ],
   "metadata": {}
  },
  {
   "outputs": [
    {
     "output_type": "execute_result",
     "data": {
      "text/plain": "ConstraintTrees.Tree{ConstraintTrees.Constraint} with 1 element:\n  :boundary => ConstraintTrees.Tree{ConstraintTrees.Constraint}(#= 20 elements …"
     },
     "metadata": {},
     "execution_count": 11
    }
   ],
   "cell_type": "code",
   "source": [
    "flux_balance_constraints(ecoli, interface = :boundary).interface"
   ],
   "metadata": {},
   "execution_count": 11
  },
  {
   "cell_type": "markdown",
   "source": [
    "The default kind of interface in `community_flux_balance_analysis` is\n",
    "`:identifier_prefixes`, which relies on usual prefixes of reaction names\n",
    "(such as `EX_` for exchanges)."
   ],
   "metadata": {}
  },
  {
   "cell_type": "markdown",
   "source": [
    "Even if all of these methods fail, a suitable interface yourself can be\n",
    "produced manually. (Additionally, we can do useful stuff, such as removing\n",
    "the unnecessary bounds from the exchange descriptions.)"
   ],
   "metadata": {}
  },
  {
   "outputs": [
    {
     "output_type": "execute_result",
     "data": {
      "text/plain": "ConstraintTrees.Tree{ConstraintTrees.Constraint} with 20 elements:\n  :EX_ac_e     => ConstraintTrees.Constraint(ConstraintTrees.LinearValue(#= ...…\n  :EX_acald_e  => ConstraintTrees.Constraint(ConstraintTrees.LinearValue(#= ...…\n  :EX_akg_e    => ConstraintTrees.Constraint(ConstraintTrees.LinearValue(#= ...…\n  :EX_co2_e    => ConstraintTrees.Constraint(ConstraintTrees.LinearValue(#= ...…\n  :EX_etoh_e   => ConstraintTrees.Constraint(ConstraintTrees.LinearValue(#= ...…\n  :EX_for_e    => ConstraintTrees.Constraint(ConstraintTrees.LinearValue(#= ...…\n  :EX_fru_e    => ConstraintTrees.Constraint(ConstraintTrees.LinearValue(#= ...…\n  :EX_fum_e    => ConstraintTrees.Constraint(ConstraintTrees.LinearValue(#= ...…\n  :EX_glc__D_e => ConstraintTrees.Constraint(ConstraintTrees.LinearValue(#= ...…\n  :EX_gln__L_e => ConstraintTrees.Constraint(ConstraintTrees.LinearValue(#= ...…\n  :EX_glu__L_e => ConstraintTrees.Constraint(ConstraintTrees.LinearValue(#= ...…\n  :EX_h2o_e    => ConstraintTrees.Constraint(ConstraintTrees.LinearValue(#= ...…\n  :EX_h_e      => ConstraintTrees.Constraint(ConstraintTrees.LinearValue(#= ...…\n  :EX_lac__D_e => ConstraintTrees.Constraint(ConstraintTrees.LinearValue(#= ...…\n  :EX_mal__L_e => ConstraintTrees.Constraint(ConstraintTrees.LinearValue(#= ...…\n  :EX_nh4_e    => ConstraintTrees.Constraint(ConstraintTrees.LinearValue(#= ...…\n  :EX_o2_e     => ConstraintTrees.Constraint(ConstraintTrees.LinearValue(#= ...…\n  :EX_pi_e     => ConstraintTrees.Constraint(ConstraintTrees.LinearValue(#= ...…\n  :EX_pyr_e    => ConstraintTrees.Constraint(ConstraintTrees.LinearValue(#= ...…\n  :EX_succ_e   => ConstraintTrees.Constraint(ConstraintTrees.LinearValue(#= ...…"
     },
     "metadata": {},
     "execution_count": 12
    }
   ],
   "cell_type": "code",
   "source": [
    "custom_model = flux_balance_constraints(ecoli)\n",
    "custom_model *= remove_bounds(\n",
    "    :interface^C.ConstraintTree(\n",
    "        :biomass => custom_model.fluxes.BIOMASS_Ecoli_core_w_GAM,\n",
    "        :exchanges => C.ConstraintTree(\n",
    "            k => v for (k, v) in custom_model.fluxes if startswith(string(k), \"EX_\")\n",
    "        ),\n",
    "    ),\n",
    ")\n",
    "custom_model.interface.exchanges"
   ],
   "metadata": {},
   "execution_count": 12
  },
  {
   "cell_type": "markdown",
   "source": [
    "## Connecting the community constraints manually\n",
    "\n",
    "To connect such interfaces into a community model, simply use function\n",
    "`interface_constraints` (which is how\n",
    "`community_flux_balance_analysis` constructs the community model\n",
    "internally via `community_flux_balance_constraints`). The assembly\n",
    "might look roughly as follows:"
   ],
   "metadata": {}
  },
  {
   "outputs": [
    {
     "output_type": "execute_result",
     "data": {
      "text/plain": "ConstraintTrees.Tree{ConstraintTrees.Constraint} with 20 elements:\n  :EX_ac_e     => ConstraintTrees.Constraint(ConstraintTrees.LinearValue(#= ...…\n  :EX_acald_e  => ConstraintTrees.Constraint(ConstraintTrees.LinearValue(#= ...…\n  :EX_akg_e    => ConstraintTrees.Constraint(ConstraintTrees.LinearValue(#= ...…\n  :EX_co2_e    => ConstraintTrees.Constraint(ConstraintTrees.LinearValue(#= ...…\n  :EX_etoh_e   => ConstraintTrees.Constraint(ConstraintTrees.LinearValue(#= ...…\n  :EX_for_e    => ConstraintTrees.Constraint(ConstraintTrees.LinearValue(#= ...…\n  :EX_fru_e    => ConstraintTrees.Constraint(ConstraintTrees.LinearValue(#= ...…\n  :EX_fum_e    => ConstraintTrees.Constraint(ConstraintTrees.LinearValue(#= ...…\n  :EX_glc__D_e => ConstraintTrees.Constraint(ConstraintTrees.LinearValue(#= ...…\n  :EX_gln__L_e => ConstraintTrees.Constraint(ConstraintTrees.LinearValue(#= ...…\n  :EX_glu__L_e => ConstraintTrees.Constraint(ConstraintTrees.LinearValue(#= ...…\n  :EX_h2o_e    => ConstraintTrees.Constraint(ConstraintTrees.LinearValue(#= ...…\n  :EX_h_e      => ConstraintTrees.Constraint(ConstraintTrees.LinearValue(#= ...…\n  :EX_lac__D_e => ConstraintTrees.Constraint(ConstraintTrees.LinearValue(#= ...…\n  :EX_mal__L_e => ConstraintTrees.Constraint(ConstraintTrees.LinearValue(#= ...…\n  :EX_nh4_e    => ConstraintTrees.Constraint(ConstraintTrees.LinearValue(#= ...…\n  :EX_o2_e     => ConstraintTrees.Constraint(ConstraintTrees.LinearValue(#= ...…\n  :EX_pi_e     => ConstraintTrees.Constraint(ConstraintTrees.LinearValue(#= ...…\n  :EX_pyr_e    => ConstraintTrees.Constraint(ConstraintTrees.LinearValue(#= ...…\n  :EX_succ_e   => ConstraintTrees.Constraint(ConstraintTrees.LinearValue(#= ...…"
     },
     "metadata": {},
     "execution_count": 13
    }
   ],
   "cell_type": "code",
   "source": [
    "custom_community = interface_constraints(\n",
    "    \"bug1\" => (\n",
    "        custom_model * :handicap^C.Constraint(custom_model.fluxes.CYTBD.value, 0),\n",
    "        0.2,\n",
    "    ),\n",
    "    \"bug2\" =>\n",
    "        (custom_model * :handicap^C.Constraint(custom_model.fluxes.FBA.value, 0), 0.8),\n",
    "    bound = r -> r == (:exchanges, :EX_glc__D_e) ? C.Between(-10, 0) : nothing,\n",
    ")\n",
    "\n",
    "custom_community.interface.exchanges"
   ],
   "metadata": {},
   "execution_count": 13
  },
  {
   "cell_type": "markdown",
   "source": [
    "For the model to work properly, we would need to add several other things,\n",
    "mainly the equal growth constraints (possibly via\n",
    "`all_equal_constraints`).\n",
    "`community_flux_balance_constraints` add these automatically, so we\n",
    "can equivalently just supply the constraint trees, and re-use the rest of the\n",
    "implementation:"
   ],
   "metadata": {}
  },
  {
   "outputs": [
    {
     "output_type": "execute_result",
     "data": {
      "text/plain": "ConstraintTrees.Tree{ConstraintTrees.Constraint} with 6 elements:\n  :bug1                => ConstraintTrees.Tree{ConstraintTrees.Constraint}(#= 6…\n  :bug2                => ConstraintTrees.Tree{ConstraintTrees.Constraint}(#= 6…\n  :community_balance   => ConstraintTrees.Tree{ConstraintTrees.Constraint}(#= 2…\n  :community_biomass   => ConstraintTrees.Constraint(ConstraintTrees.LinearValu…\n  :community_exchanges => ConstraintTrees.Tree{ConstraintTrees.Constraint}(#= 2…\n  :equal_growth        => ConstraintTrees.Tree{ConstraintTrees.Constraint}(#= 1…"
     },
     "metadata": {},
     "execution_count": 14
    }
   ],
   "cell_type": "code",
   "source": [
    "custom_community = community_flux_balance_constraints(\n",
    "    [\n",
    "        \"bug1\" => (\n",
    "            custom_model * :handicap^C.Constraint(custom_model.fluxes.CYTBD.value, 0),\n",
    "            0.2,\n",
    "        ),\n",
    "        \"bug2\" => (\n",
    "            custom_model * :handicap^C.Constraint(custom_model.fluxes.FBA.value, 0),\n",
    "            0.8,\n",
    "        ),\n",
    "    ],\n",
    "    [\"EX_glc__D_e\" => (-10.0, 0.0)],\n",
    ")"
   ],
   "metadata": {},
   "execution_count": 14
  },
  {
   "cell_type": "markdown",
   "source": [
    "This can be solved with the usual means, reaching the same result as above:"
   ],
   "metadata": {}
  },
  {
   "outputs": [
    {
     "output_type": "execute_result",
     "data": {
      "text/plain": "0.5237157737585179"
     },
     "metadata": {},
     "execution_count": 15
    }
   ],
   "cell_type": "code",
   "source": [
    "custom_solution = optimized_values(\n",
    "    custom_community,\n",
    "    objective = custom_community.community_biomass.value,\n",
    "    output = custom_community.community_biomass,\n",
    "    optimizer = GLPK.Optimizer,\n",
    ")"
   ],
   "metadata": {},
   "execution_count": 15
  },
  {
   "cell_type": "markdown",
   "source": [
    "---\n",
    "\n",
    "*This notebook was generated using [Literate.jl](https://github.com/fredrikekre/Literate.jl).*"
   ],
   "metadata": {}
  }
 ],
 "nbformat_minor": 3,
 "metadata": {
  "language_info": {
   "file_extension": ".jl",
   "mimetype": "application/julia",
   "name": "julia",
   "version": "1.9.4"
  },
  "kernelspec": {
   "name": "julia-1.9",
   "display_name": "Julia 1.9.4",
   "language": "julia"
  }
 },
 "nbformat": 4
}
