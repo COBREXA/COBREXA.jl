{
 "cells": [
  {
   "cell_type": "markdown",
   "source": [
    "# Steady community composition models"
   ],
   "metadata": {}
  },
  {
   "outputs": [],
   "cell_type": "code",
   "source": [
    "using COBREXA"
   ],
   "metadata": {},
   "execution_count": 1
  },
  {
   "cell_type": "markdown",
   "source": [
    "In the [community construction example](04-community-models.md), we have\n",
    "constructed a 2-member community of interacting *E. coli* with fixed\n",
    "abundances. Here we show how to explore the community abundances in a more\n",
    "dynamic way using `community_composition_balance_constraints`, which\n",
    "follows the methodology established by the SteadyCom method.\n",
    "\n",
    "In short, we start with a similar community of knockouts, and determine what\n",
    "are the feasible ranges for the community abundances.\n",
    "\n",
    "As usual, we start with the toy *E. coli* model and a few packages:"
   ],
   "metadata": {}
  },
  {
   "outputs": [
    {
     "name": "stdout",
     "output_type": "stream",
     "text": [
      "[ Info: using cached `e_coli_core.json'\n"
     ]
    }
   ],
   "cell_type": "code",
   "source": [
    "download_model(\n",
    "    \"http://bigg.ucsd.edu/static/models/e_coli_core.json\",\n",
    "    \"e_coli_core.json\",\n",
    "    \"7bedec10576cfe935b19218dc881f3fb14f890a1871448fc19a9b4ee15b448d8\",\n",
    ")\n",
    "\n",
    "import JSONFBCModels\n",
    "import HiGHS\n",
    "import AbstractFBCModels.CanonicalModel as CM\n",
    "import ConstraintTrees as C"
   ],
   "metadata": {},
   "execution_count": 2
  },
  {
   "cell_type": "markdown",
   "source": [
    "We remove the artificial limit of glucose intake (so that we can move it to\n",
    "the community level later):"
   ],
   "metadata": {}
  },
  {
   "outputs": [
    {
     "output_type": "execute_result",
     "data": {
      "text/plain": "1000.0"
     },
     "metadata": {},
     "execution_count": 3
    }
   ],
   "cell_type": "code",
   "source": [
    "ecoli = load_model(\"e_coli_core.json\", CM.Model)\n",
    "ecoli.reactions[\"EX_glc__D_e\"].lower_bound = -1000.0\n",
    "ecoli.reactions[\"EX_glc__D_e\"].upper_bound = 1000.0"
   ],
   "metadata": {},
   "execution_count": 3
  },
  {
   "cell_type": "markdown",
   "source": [
    "We create a few reaction knockouts:"
   ],
   "metadata": {}
  },
  {
   "outputs": [
    {
     "output_type": "execute_result",
     "data": {
      "text/plain": "Dict{Symbol, AbstractFBCModels.CanonicalModel.Model} with 2 entries:\n  :CYTBD => Model(Dict{String, Reaction}(\"ACALD\"=>Reaction(\"Acetaldehyde dehydr…\n  :FBA   => Model(Dict{String, Reaction}(\"ACALD\"=>Reaction(\"Acetaldehyde dehydr…"
     },
     "metadata": {},
     "execution_count": 4
    }
   ],
   "cell_type": "code",
   "source": [
    "knockouts = [\"CYTBD\", \"FBA\"];\n",
    "ko_ecolis = Dict(begin\n",
    "    m = deepcopy(ecoli)\n",
    "    m.reactions[r].lower_bound = m.reactions[r].upper_bound = 0\n",
    "    Symbol(r) => m\n",
    "end for r in knockouts)"
   ],
   "metadata": {},
   "execution_count": 4
  },
  {
   "cell_type": "markdown",
   "source": [
    "## Finding feasible community compositions\n",
    "\n",
    "Now, let's use `community_composition_variability_analysis` to\n",
    "determine the feasible range of abundances if the community if these 2\n",
    "reaction knockouts is forced to grow 0.5 g/gDW/h:"
   ],
   "metadata": {}
  },
  {
   "outputs": [
    {
     "output_type": "execute_result",
     "data": {
      "text/plain": "ConstraintTrees.Tree{Tuple{Union{Nothing, Float64}, Union{Nothing, Float64}}} with 2 elements:\n  :CYTBD => (-0.0, 0.234389)\n  :FBA   => (0.765611, 1.0)"
     },
     "metadata": {},
     "execution_count": 5
    }
   ],
   "cell_type": "code",
   "source": [
    "res = community_composition_variability_analysis(\n",
    "    ko_ecolis,\n",
    "    0.5,\n",
    "    [\"EX_glc__D_e\" => (-10.0, 0.0)],\n",
    "    optimizer = HiGHS.Optimizer,\n",
    ")"
   ],
   "metadata": {},
   "execution_count": 5
  },
  {
   "cell_type": "markdown",
   "source": [
    "It seems like the FBA-knockout has to be present for the community to be\n",
    "feasible at this rate."
   ],
   "metadata": {}
  },
  {
   "cell_type": "markdown",
   "source": [
    "## Finding the community composition at optimum growth\n",
    "\n",
    "The variable community composition allows us to also scan for optimal growth\n",
    "(via simple interval splitting), determining the community composition near\n",
    "this optimum:"
   ],
   "metadata": {}
  },
  {
   "outputs": [
    {
     "output_type": "execute_result",
     "data": {
      "text/plain": "ConstraintTrees.Tree{Float64} with 8 elements:\n  :abundances                 => ConstraintTrees.Tree{Float64}(#= 2 elements =#)\n  :biomass_constraints        => ConstraintTrees.Tree{Float64}(#= 2 elements =#)\n  :community                  => ConstraintTrees.Tree{Float64}(#= 2 elements =#)\n  :community_balance          => ConstraintTrees.Tree{Float64}(#= 20 elements =…\n  :community_exchanges        => ConstraintTrees.Tree{Float64}(#= 20 elements =…\n  :diluted_constraints        => ConstraintTrees.Tree{Float64}(#= 2 elements =#)\n  :growth                     => 0.703979\n  :total_abundance_constraint => 1.0"
     },
     "metadata": {},
     "execution_count": 6
    }
   ],
   "cell_type": "code",
   "source": [
    "res = community_composition_balance_analysis(\n",
    "    ko_ecolis,\n",
    "    1.0,\n",
    "    [\"EX_glc__D_e\" => (-10.0, 0.0)],\n",
    "    optimizer = HiGHS.Optimizer,\n",
    "    tolerance = 1e-4,\n",
    ")"
   ],
   "metadata": {},
   "execution_count": 6
  },
  {
   "cell_type": "markdown",
   "source": [
    "The achieved growth is reported in the result tree:"
   ],
   "metadata": {}
  },
  {
   "outputs": [
    {
     "output_type": "execute_result",
     "data": {
      "text/plain": "0.7039794921875"
     },
     "metadata": {},
     "execution_count": 7
    }
   ],
   "cell_type": "code",
   "source": [
    "res.growth"
   ],
   "metadata": {},
   "execution_count": 7
  },
  {
   "cell_type": "markdown",
   "source": [
    "We can also have a look at the abundances at optimum. In this case, it looks\n",
    "like CYTBD knockout will be practically missing (within the tolerance\n",
    "requested above, it is technically zero):"
   ],
   "metadata": {}
  },
  {
   "outputs": [
    {
     "output_type": "execute_result",
     "data": {
      "text/plain": "ConstraintTrees.Tree{Float64} with 2 elements:\n  :CYTBD => 4.90992e-5\n  :FBA   => 0.999951"
     },
     "metadata": {},
     "execution_count": 8
    }
   ],
   "cell_type": "code",
   "source": [
    "res.abundances"
   ],
   "metadata": {},
   "execution_count": 8
  },
  {
   "cell_type": "markdown",
   "source": [
    "---\n",
    "\n",
    "*This notebook was generated using [Literate.jl](https://github.com/fredrikekre/Literate.jl).*"
   ],
   "metadata": {}
  }
 ],
 "nbformat_minor": 3,
 "metadata": {
  "language_info": {
   "file_extension": ".jl",
   "mimetype": "application/julia",
   "name": "julia",
   "version": "1.11.5"
  },
  "kernelspec": {
   "name": "julia-1.11",
   "display_name": "Julia 1.11.5",
   "language": "julia"
  }
 },
 "nbformat": 4
}
