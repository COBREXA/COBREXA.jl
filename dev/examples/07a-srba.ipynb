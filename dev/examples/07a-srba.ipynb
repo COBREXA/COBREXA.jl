{
 "cells": [
  {
   "cell_type": "markdown",
   "source": [
    "# Simplified resource balance analysis\n",
    "\n",
    "Resource balance analysis (RBA) models are extensions of enzyme constrained\n",
    "models that additionally incorporate other cellular mechanisms, such as\n",
    "translation, transcription and replication. This requires much more\n",
    "mechanistic knowledge about the processes, but also dramatically improves the\n",
    "predictive capability of the model.\n",
    "\n",
    "Here we demonstrate the approach for building such extensions with COBREXA,\n",
    "over a demonstrational simplified RBA model that accounts for the major\n",
    "translation costs (synthesis of proteins and ribosomes).\n",
    "\n",
    "For comprehensiveness, we use the full genome-scale model of E. coli\n",
    "(iML1515):"
   ],
   "metadata": {}
  },
  {
   "outputs": [
    {
     "output_type": "execute_result",
     "data": {
      "text/plain": "\"iML1515.json\""
     },
     "metadata": {},
     "execution_count": 1
    }
   ],
   "cell_type": "code",
   "source": [
    "using COBREXA\n",
    "\n",
    "download_model(\n",
    "    \"http://bigg.ucsd.edu/static/models/iML1515.json\",\n",
    "    \"iML1515.json\",\n",
    "    \"b0f9199f048779bb08a14dfa6c09ec56d35b8750d2f99681980d0f098355fbf5\",\n",
    ")"
   ],
   "metadata": {},
   "execution_count": 1
  },
  {
   "cell_type": "markdown",
   "source": [
    "We use several packages as usual; additionally we import `ConstraintTrees`\n",
    "for later modifications."
   ],
   "metadata": {}
  },
  {
   "outputs": [],
   "cell_type": "code",
   "source": [
    "import AbstractFBCModels as A\n",
    "import JSONFBCModels\n",
    "import HiGHS\n",
    "import ConstraintTrees as C"
   ],
   "metadata": {},
   "execution_count": 2
  },
  {
   "cell_type": "markdown",
   "source": [
    "## Data and parameters for the RBA model\n",
    "\n",
    "For the purposes of this example, COBREXA comes with example data for the\n",
    "whole iML1515 model, aggregated from several publications and databases. In\n",
    "this section we simply load the data into suitable Julia structures. Other\n",
    "data formats may work just as well.\n",
    "\n",
    "The loading is hidden by default for brevity:"
   ],
   "metadata": {}
  },
  {
   "outputs": [],
   "cell_type": "code",
   "source": [
    "import CSV\n",
    "\n",
    "data_dir = joinpath(dirname(pathof(COBREXA)), \"..\", \"docs\", \"src\", \"examples\", \"data\");\n",
    "\n",
    "e_coli_gp_mass = Dict{String,Float64}(\n",
    "    x.gene_product => x.mass for\n",
    "    x in CSV.File(joinpath(data_dir, \"e_coli_gp_mass.tsv\"), delim = '\\t')\n",
    ");\n",
    "\n",
    "kcat_scale = 3600 / 1e3;\n",
    "e_coli_rxn_kcat_isozyme = Dict{String,Isozyme}(\n",
    "    x.reaction => Isozyme(\n",
    "        kcat_forward = x.kcat * kcat_scale,\n",
    "        kcat_reverse = x.kcat * kcat_scale,\n",
    "        gene_product_stoichiometry = Dict(),\n",
    "    ) for x in CSV.File(joinpath(data_dir, \"e_coli_reaction_kcat.tsv\"), delim = '\\t')\n",
    ");\n",
    "\n",
    "e_coli_rxn_isozymes = Dict{String,Dict{String,Isozyme}}();\n",
    "for x in CSV.File(joinpath(data_dir, \"e_coli_isozyme_gp.tsv\"), delim = '\\t')\n",
    "    haskey(e_coli_rxn_kcat_isozyme, x.reaction) || continue\n",
    "    rxn = get!(e_coli_rxn_isozymes, x.reaction, Dict{String,Isozyme}())\n",
    "    iso = get!(rxn, x.isozyme, deepcopy(e_coli_rxn_kcat_isozyme[x.reaction]))\n",
    "    iso.gene_product_stoichiometry[x.gene_product] = x.stoichiometry\n",
    "end;\n",
    "\n",
    "e_coli_gp_aas = Dict{String,Dict{Symbol,Int}}(\n",
    "    begin\n",
    "        d = Dict(keys(x) .=> values(x))\n",
    "        gp = d[:gene_product]\n",
    "        delete!(d, :gene_product)\n",
    "        gp => d\n",
    "    end for x in CSV.File(joinpath(data_dir, \"e_coli_gp_aa.tsv\"), delim = '\\t')\n",
    ");\n",
    "\n",
    "amino_acids = Set(Symbol(aa) for (k, v) in e_coli_gp_aas for (aa, _) in v);"
   ],
   "metadata": {},
   "execution_count": 3
  },
  {
   "cell_type": "markdown",
   "source": [
    "In the end, we have gene product weight data (just like in the [enzyme-constrained model example](05b-enzyme-constrained-models.md)):"
   ],
   "metadata": {}
  },
  {
   "outputs": [
    {
     "output_type": "execute_result",
     "data": {
      "text/plain": "Dict{String, Float64} with 1517 entries:\n  \"b1329\" => 59.9\n  \"b3236\" => 32.337\n  \"b0688\" => 58.361\n  \"b2052\" => 36.141\n  \"b0832\" => 33.238\n  \"b0586\" => 141.991\n  \"b2245\" => 28.916\n  \"b1759\" => 15.046\n  \"b3772\" => 56.195\n  \"b1692\" => 54.58\n  \"b3850\" => 21.226\n  \"b1006\" => 45.557\n  \"b3428\" => 93.173\n  \"b0635\" => 70.857\n  \"b1387\" => 73.003\n  \"b1588\" => 89.987\n  \"b2541\" => 28.5\n  \"b4478\" => 42.523\n  \"b2143\" => 31.54\n  ⋮       => ⋮"
     },
     "metadata": {},
     "execution_count": 4
    }
   ],
   "cell_type": "code",
   "source": [
    "e_coli_gp_mass"
   ],
   "metadata": {},
   "execution_count": 4
  },
  {
   "cell_type": "markdown",
   "source": [
    "... as well as isozyme data with kcats:"
   ],
   "metadata": {}
  },
  {
   "outputs": [
    {
     "output_type": "execute_result",
     "data": {
      "text/plain": "Dict{String, Dict{String, Isozyme}} with 2266 entries:\n  \"PACOAT\"        => Dict(\"iso1\"=>Isozyme(Dict(\"b1396\"=>4.0), 33.9551, 33.9551))\n  \"Zn2tex\"        => Dict(\"iso3\"=>Isozyme(Dict(\"b1377\"=>3.0), 648.0, 648.0), \"i…\n  \"GUI1\"          => Dict(\"iso1\"=>Isozyme(Dict(\"b3092\"=>1.0), 21.4406, 21.4406))\n  \"DXYLK\"         => Dict(\"iso1\"=>Isozyme(Dict(\"b3564\"=>2.0), 28.7528, 28.7528))\n  \"CBL1tonex\"     => Dict(\"iso1\"=>Isozyme(Dict(\"b3005\"=>1.0, \"b3006\"=>4.0, \"b39…\n  \"FE3DCITtonex\"  => Dict(\"iso1\"=>Isozyme(Dict(\"b3005\"=>3.0, \"b3006\"=>6.0, \"b42…\n  \"FACOAL180t2pp\" => Dict(\"iso1\"=>Isozyme(Dict(\"b1701\"=>2.0), 28.4896, 28.4896)…\n  \"METSOXR1\"      => Dict(\"iso3\"=>Isozyme(Dict(\"b3781\"=>1.0, \"b3551\"=>1.0), 115…\n  \"LIPOtex\"       => Dict(\"iso3\"=>Isozyme(Dict(\"b1377\"=>3.0), 648.0, 648.0), \"i…\n  \"NTD11\"         => Dict(\"iso1\"=>Isozyme(Dict(\"b2744\"=>1.0), 24.6906, 24.6906)…\n  \"GLUNpp\"        => Dict(\"iso1\"=>Isozyme(Dict(\"b2957\"=>4.0), 18.2572, 18.2572))\n  \"ORNDC\"         => Dict(\"iso1\"=>Isozyme(Dict(\"b0693\"=>1.0), 130.25, 130.25), …\n  \"ALAGLUE\"       => Dict(\"iso1\"=>Isozyme(Dict(\"b1325\"=>1.0), 24.1219, 24.1219))\n  \"UAGCVT\"        => Dict(\"iso1\"=>Isozyme(Dict(\"b3189\"=>1.0), 11.88, 11.88))\n  \"I2FE2ST\"       => Dict(\"iso1\"=>Isozyme(Dict(\"b2529\"=>1.0, \"b2528\"=>1.0), 11.…\n  \"6D6SPA\"        => Dict(\"iso1\"=>Isozyme(Dict(\"b3881\"=>1.0), 149.289, 149.289))\n  \"BMOCOS\"        => Dict(\"iso1\"=>Isozyme(Dict(\"b0827\"=>2.0), 0.072, 0.072))\n  \"GLCURt2rpp\"    => Dict(\"iso1\"=>Isozyme(Dict(\"b3093\"=>1.0), 648.0, 648.0), \"i…\n  \"PGSA141\"       => Dict(\"iso1\"=>Isozyme(Dict(\"b1912\"=>1.0), 40.7639, 40.7639))\n  ⋮               => ⋮"
     },
     "metadata": {},
     "execution_count": 5
    }
   ],
   "cell_type": "code",
   "source": [
    "e_coli_rxn_isozymes"
   ],
   "metadata": {},
   "execution_count": 5
  },
  {
   "cell_type": "markdown",
   "source": [
    "We additionally need a list of amino acids in the model:"
   ],
   "metadata": {}
  },
  {
   "outputs": [
    {
     "output_type": "execute_result",
     "data": {
      "text/plain": "Set{Symbol} with 20 elements:\n  :pro__L_c\n  :gln__L_c\n  :asn__L_c\n  :glu__L_c\n  :cys__L_c\n  :tyr__L_c\n  :asp__L_c\n  :phe__L_c\n  :arg__L_c\n  :gly_c\n  :met__L_c\n  :ser__L_c\n  :thr__L_c\n  :his__L_c\n  :val__L_c\n  :ile__L_c\n  :trp__L_c\n  :leu__L_c\n  :ala__L_c\n  :lys__L_c"
     },
     "metadata": {},
     "execution_count": 6
    }
   ],
   "cell_type": "code",
   "source": [
    "amino_acids"
   ],
   "metadata": {},
   "execution_count": 6
  },
  {
   "cell_type": "markdown",
   "source": [
    "...together with a list of how much amino acids there are in which gene product:"
   ],
   "metadata": {}
  },
  {
   "outputs": [
    {
     "output_type": "execute_result",
     "data": {
      "text/plain": "Dict{String, Dict{Symbol, Int64}} with 4259 entries:\n  \"b1329\" => Dict(:ala__L_c=>51, :lys__L_c=>39, :pro__L_c=>34, :gln__L_c=>27, :…\n  \"b2531\" => Dict(:ala__L_c=>13, :lys__L_c=>6, :pro__L_c=>4, :gln__L_c=>7, :asn…\n  \"b3236\" => Dict(:ala__L_c=>35, :lys__L_c=>21, :pro__L_c=>13, :gln__L_c=>14, :…\n  \"b0688\" => Dict(:ala__L_c=>67, :lys__L_c=>29, :pro__L_c=>28, :gln__L_c=>18, :…\n  \"b3834\" => Dict(:ala__L_c=>27, :lys__L_c=>11, :pro__L_c=>8, :gln__L_c=>8, :as…\n  \"b1604\" => Dict(:ala__L_c=>46, :lys__L_c=>26, :pro__L_c=>11, :gln__L_c=>12, :…\n  \"b0832\" => Dict(:ala__L_c=>39, :lys__L_c=>4, :pro__L_c=>14, :gln__L_c=>8, :as…\n  \"b1339\" => Dict(:ala__L_c=>23, :lys__L_c=>11, :pro__L_c=>14, :gln__L_c=>29, :…\n  \"b3609\" => Dict(:ala__L_c=>14, :lys__L_c=>3, :pro__L_c=>7, :gln__L_c=>14, :as…\n  \"b1282\" => Dict(:ala__L_c=>8, :lys__L_c=>14, :pro__L_c=>3, :gln__L_c=>3, :asn…\n  \"b4754\" => Dict(:ala__L_c=>1, :lys__L_c=>7, :pro__L_c=>0, :gln__L_c=>0, :asn_…\n  \"b0586\" => Dict(:ala__L_c=>160, :lys__L_c=>25, :pro__L_c=>92, :gln__L_c=>83, …\n  \"b3772\" => Dict(:ala__L_c=>60, :lys__L_c=>21, :pro__L_c=>21, :gln__L_c=>19, :…\n  \"b1759\" => Dict(:ala__L_c=>20, :lys__L_c=>3, :pro__L_c=>8, :gln__L_c=>9, :asn…\n  \"b1884\" => Dict(:ala__L_c=>23, :lys__L_c=>7, :pro__L_c=>11, :gln__L_c=>15, :a…\n  \"b3505\" => Dict(:ala__L_c=>28, :lys__L_c=>19, :pro__L_c=>12, :gln__L_c=>22, :…\n  \"b3850\" => Dict(:ala__L_c=>16, :lys__L_c=>12, :pro__L_c=>7, :gln__L_c=>7, :as…\n  \"b1006\" => Dict(:ala__L_c=>53, :lys__L_c=>8, :pro__L_c=>20, :gln__L_c=>9, :as…\n  \"b4283\" => Dict(:ala__L_c=>7, :lys__L_c=>12, :pro__L_c=>3, :gln__L_c=>6, :asn…\n  ⋮       => ⋮"
     },
     "metadata": {},
     "execution_count": 7
    }
   ],
   "cell_type": "code",
   "source": [
    "e_coli_gp_aas"
   ],
   "metadata": {},
   "execution_count": 7
  },
  {
   "cell_type": "markdown",
   "source": [
    "To make the RBA problem working, we also need to assume some constant parameters (many of such can be found via https://bionumbers.hms.harvard.edu):"
   ],
   "metadata": {}
  },
  {
   "outputs": [],
   "cell_type": "code",
   "source": [
    "atp_polymerization_cost = 0.042;\n",
    "protein_polymerization_atp_per_gDW = 12.0;\n",
    "ribosome_speed_aa_per_hour = 12.0 * 3600;\n",
    "ribosome_molar_mass = 2700.0;"
   ],
   "metadata": {},
   "execution_count": 8
  },
  {
   "cell_type": "markdown",
   "source": [
    "We also need a stoichiometry for \"energy consumption\" reaction, which we will\n",
    "use to simulate the energy cost of translation:"
   ],
   "metadata": {}
  },
  {
   "outputs": [
    {
     "output_type": "execute_result",
     "data": {
      "text/plain": "Dict{Symbol, Int64} with 5 entries:\n  :atp_c => -1\n  :h_c   => 1\n  :pi_c  => 1\n  :h2o_c => -1\n  :adp_c => 1"
     },
     "metadata": {},
     "execution_count": 9
    }
   ],
   "cell_type": "code",
   "source": [
    "energy_stoichiometry = Dict(:atp_c => -1, :h2o_c => -1, :adp_c => 1, :h_c => 1, :pi_c => 1)"
   ],
   "metadata": {},
   "execution_count": 9
  },
  {
   "cell_type": "markdown",
   "source": [
    "## Model assembly\n",
    "### Enzyme-constrained base model\n",
    "\n",
    "First, we load the model in a format that is suitable for doing small\n",
    "changes:"
   ],
   "metadata": {}
  },
  {
   "outputs": [
    {
     "output_type": "execute_result",
     "data": {
      "text/plain": "JSONFBCModels.JSONFBCModel(#= 2712 reactions, 1877 metabolites =#)"
     },
     "metadata": {},
     "execution_count": 10
    }
   ],
   "cell_type": "code",
   "source": [
    "model = load_model(\"iML1515.json\")"
   ],
   "metadata": {},
   "execution_count": 10
  },
  {
   "cell_type": "markdown",
   "source": [
    "We will require some access to the stoichiometry of the biomass reaction (in\n",
    "essence, we copy a part of it, but replace the part that uses amino acids as\n",
    "a building material, and slightly enhance the energy consumption part). So we\n",
    "save it here:"
   ],
   "metadata": {}
  },
  {
   "outputs": [
    {
     "output_type": "execute_result",
     "data": {
      "text/plain": "Dict{Symbol, Float64} with 70 entries:\n  :sheme_c          => -0.000223\n  :gtp_c            => -0.215096\n  :ppi_c            => 0.773903\n  :mg2_c            => -0.008675\n  :pydx5p_c         => -0.000223\n  :fe3_c            => -0.007808\n  :zn2_c            => -0.000341\n  :nh4_c            => -0.013013\n  :phe__L_c         => -0.185265\n  :ni2_c            => -0.000323\n  :nadp_c           => -0.000447\n  :met__L_c         => -0.153686\n  :thr__L_c         => -0.253687\n  :atp_c            => -75.5522\n  :cl_c             => -0.005205\n  Symbol(\"2ohph_c\") => -0.000223\n  :dctp_c           => -0.027017\n  :k_c              => -0.195193\n  :mlthf_c          => -0.000223\n  ⋮                 => ⋮"
     },
     "metadata": {},
     "execution_count": 11
    }
   ],
   "cell_type": "code",
   "source": [
    "biomass = Dict(\n",
    "    Symbol(k) => v for\n",
    "    (k, v) in A.reaction_stoichiometry(model, \"BIOMASS_Ec_iML1515_core_75p37M\")\n",
    ")"
   ],
   "metadata": {},
   "execution_count": 11
  },
  {
   "cell_type": "markdown",
   "source": [
    "We can create the enzyme-constrained model for iML1515. This will be extended\n",
    "later."
   ],
   "metadata": {}
  },
  {
   "outputs": [
    {
     "output_type": "execute_result",
     "data": {
      "text/plain": "ConstraintTrees.ConstraintTree with 12 elements:\n  :coupling                     => ConstraintTrees.ConstraintTree(#= 0 elements…\n  :flux_stoichiometry           => ConstraintTrees.ConstraintTree(#= 1877 eleme…\n  :fluxes                       => ConstraintTrees.ConstraintTree(#= 2712 eleme…\n  :fluxes_forward               => ConstraintTrees.ConstraintTree(#= 2712 eleme…\n  :fluxes_reverse               => ConstraintTrees.ConstraintTree(#= 2712 eleme…\n  :gene_product_amounts         => ConstraintTrees.ConstraintTree(#= 1496 eleme…\n  :gene_product_capacity        => ConstraintTrees.ConstraintTree(#= 1 element …\n  :isozyme_flux_forward_balance => ConstraintTrees.ConstraintTree(#= 2266 eleme…\n  :isozyme_flux_reverse_balance => ConstraintTrees.ConstraintTree(#= 2266 eleme…\n  :isozyme_forward_amounts      => ConstraintTrees.ConstraintTree(#= 2266 eleme…\n  :isozyme_reverse_amounts      => ConstraintTrees.ConstraintTree(#= 2266 eleme…\n  :objective                    => ConstraintTrees.Constraint(ConstraintTrees.L…"
     },
     "metadata": {},
     "execution_count": 12
    }
   ],
   "cell_type": "code",
   "source": [
    "ec_constraints = enzyme_constrained_flux_balance_constraints(\n",
    "    model;\n",
    "    reaction_isozymes = e_coli_rxn_isozymes,\n",
    "    gene_product_molar_masses = e_coli_gp_mass,\n",
    "    capacity = 550.0,\n",
    ")"
   ],
   "metadata": {},
   "execution_count": 12
  },
  {
   "cell_type": "markdown",
   "source": [
    "Before we continue, we apply a small quirk to remove an artificial limit on\n",
    "the glucose intake. (The limit is required to prevent \"infinite\" growth in\n",
    "simplistic FBA-style analysis; in our case the enzyme capacity serves as a\n",
    "sufficient and more realistic limiter. We have to unblock both the\n",
    "bidirectional reaction and the \"reversed\" view, since both carry the bound.)"
   ],
   "metadata": {}
  },
  {
   "outputs": [],
   "cell_type": "code",
   "source": [
    "ec_constraints.fluxes.EX_glc__D_e.bound.lower = -1000;\n",
    "ec_constraints.fluxes_reverse.EX_glc__D_e.bound.upper = 1000;"
   ],
   "metadata": {},
   "execution_count": 13
  },
  {
   "cell_type": "markdown",
   "source": [
    "To avoid the model from growing in unexpected modes, we will constraint the\n",
    "original biomass reaction to zero:"
   ],
   "metadata": {}
  },
  {
   "outputs": [],
   "cell_type": "code",
   "source": [
    "ec_constraints.fluxes.BIOMASS_Ec_iML1515_core_75p37M.bound = C.EqualTo(0);\n",
    "ec_constraints.fluxes.BIOMASS_Ec_iML1515_WT_75p37M.bound = C.EqualTo(0);"
   ],
   "metadata": {},
   "execution_count": 14
  },
  {
   "cell_type": "markdown",
   "source": [
    "### RBA translation machinery"
   ],
   "metadata": {}
  },
  {
   "cell_type": "markdown",
   "source": [
    "A common issue with RBA formulations is that the biomass-based growth formula\n",
    "depends on a determined optimal composition of the enzyme pool and actual\n",
    "production of metabolites; which makes the underlying constrained problem\n",
    "quadratic.\n",
    "\n",
    "A common way to dodge the need for quadratic solvers is to solve the problem\n",
    "for a fixed growth rate, which we is the approach that we choose here.\n",
    "Alternatively, one might state the full quadratic problem and solve it, with\n",
    "some performance cost stemming from use of QP solvers.\n",
    "\n",
    "Let's first make a utility function that prepares the connection to the\n",
    "metabolite pool, and adds several useful variables atop a given\n",
    "enzyme-constrained model:"
   ],
   "metadata": {}
  },
  {
   "outputs": [
    {
     "output_type": "execute_result",
     "data": {
      "text/plain": "with_translation_variables (generic function with 1 method)"
     },
     "metadata": {},
     "execution_count": 15
    }
   ],
   "cell_type": "code",
   "source": [
    "function with_translation_variables(ec_constraints::C.ConstraintTree)\n",
    "    # Create a \"resource pool\" and connect it to the stoichiometry of the\n",
    "    # intracellular (and other) metabolites. (This effectively creates new\n",
    "    # exchange reactions in `ec_constraints`.)\n",
    "    resources = C.variables(\n",
    "        keys = Symbol.(\n",
    "            collect(union(amino_acids, keys(energy_stoichiometry), keys(biomass))),\n",
    "        ),\n",
    "    )\n",
    "    (cs, rs) =\n",
    "        inject_interface(ec_constraints, :flux_stoichiometry^resources, multiplier = -1)\n",
    "    # Also add a single new variable for the production of ribosomes by\n",
    "    # ribosomes.\n",
    "    return cs * :resources^rs.flux_stoichiometry +\n",
    "           :ribosome_production^C.variable(; bound = (0, Inf))\n",
    "end"
   ],
   "metadata": {},
   "execution_count": 15
  },
  {
   "cell_type": "markdown",
   "source": [
    "To make the construction nicer, we'll make a helper for summing up\n",
    "constraint-tree values:"
   ],
   "metadata": {}
  },
  {
   "outputs": [],
   "cell_type": "code",
   "source": [
    "sum_values(x...) = C.sum(x..., init = zero(C.LinearValue));"
   ],
   "metadata": {},
   "execution_count": 16
  },
  {
   "cell_type": "markdown",
   "source": [
    "...and another helper for adding values in constraint trees together:"
   ],
   "metadata": {}
  },
  {
   "outputs": [],
   "cell_type": "code",
   "source": [
    "add_trees(ts...) =\n",
    "    C.preduce(ts, init = C.ConstraintTree()) do t1, t2\n",
    "        z(::Missing) = zero(C.LinearValue)\n",
    "        z(x) = C.value(x)\n",
    "        return C.merge(t1, t2) do c1, c2\n",
    "            C.Constraint(z(c1) + z(c2))\n",
    "        end\n",
    "    end;"
   ],
   "metadata": {},
   "execution_count": 17
  },
  {
   "cell_type": "markdown",
   "source": [
    "Since we have to solve the problem for multiple growth rates to be able to\n",
    "scan for optimum, we will wrap the growth-dependent part in a reusable\n",
    "function:"
   ],
   "metadata": {}
  },
  {
   "outputs": [
    {
     "output_type": "execute_result",
     "data": {
      "text/plain": "translation_constraints (generic function with 1 method)"
     },
     "metadata": {},
     "execution_count": 18
    }
   ],
   "cell_type": "code",
   "source": [
    "function translation_constraints(\n",
    "    resources::C.ConstraintTree,\n",
    "    ribos_required_for_ribos::C.Constraint,\n",
    "    gene_product_amounts::C.ConstraintTree,\n",
    "    growth::Float64,\n",
    ")\n",
    "    # First we can calculate how much amino acids we need to build the expected\n",
    "    # amount of gene products:\n",
    "    aas_required_for_gps = C.imap(gene_product_amounts) do (i,), gp\n",
    "        C.ConstraintTree(\n",
    "            aa => C.Constraint(gp.value * v * growth * 0.001) for\n",
    "            (aa, v) in e_coli_gp_aas[String(i)]\n",
    "        )\n",
    "    end\n",
    "    # This allows us to calculate how much ribosome we have to produce to make\n",
    "    # the production of all of the above enzymes possible:\n",
    "    ribo_required_for_gps = C.ConstraintTree(\n",
    "        i => C.Constraint(\n",
    "            sum_values(aa.value for (_, aa) in aas) / ribosome_speed_aa_per_hour,\n",
    "        ) for (i, aas) in aas_required_for_gps\n",
    "    )\n",
    "    # Now we know the total amount of ribosome to produce (both for the above\n",
    "    # protein production and for production of ribosomes itself) so we can see\n",
    "    # how much amino acids in total are required for production of ribosomes:\n",
    "    total_ribos_required =\n",
    "        ribos_required_for_ribos.value +\n",
    "        sum_values(c.value for (_, c) in ribo_required_for_gps)\n",
    "    aas_required_for_ribos = C.ConstraintTree(\n",
    "        aa => C.Constraint(total_ribos_required * v) for\n",
    "        (aa, v) in e_coli_gp_aas[\"ribosome\"]\n",
    "    )\n",
    "    # Now we solve a \"rocket equation\" -- the ribosomes need to produce both\n",
    "    # the protein-producing ribosomes and themselves, so we add a constraint\n",
    "    # that ensures there's enough ribosomes for both.\n",
    "    ribosome_balance_constraint = equal_value_constraint(\n",
    "        sum_values(aa.value for (_, aa) in aas_required_for_ribos),\n",
    "        ribos_required_for_ribos.value * ribosome_speed_aa_per_hour,\n",
    "    )\n",
    "    # With the AA requirements solved, we can estimate how much energy we need\n",
    "    # for polymerization of the proteins and ribosomes:\n",
    "    energy_required =\n",
    "        atp_polymerization_cost *\n",
    "        sum_values(aa.value for (_, aas) in aas_required_for_gps for (_, aa) in aas) +\n",
    "        sum_values(v.value for (_, v) in aas_required_for_ribos)\n",
    "    # With all that in hand, we can put together the final resource consumption:\n",
    "    resource_consumption = add_trees(\n",
    "        C.values(aas_required_for_gps)...,\n",
    "        aas_required_for_ribos,\n",
    "        C.map(stoi -> -stoi * energy_required, C.Tree{Int}(energy_stoichiometry), C.Value),\n",
    "    )\n",
    "    # ...and make a stoichiometry out of that, with exact cases for amino acids\n",
    "    # (these are completely replaced in the original biomass), energy\n",
    "    # metabolites (these are partially re-used from the original biomass, but\n",
    "    # with an adjustment that tries to remove the polymerization cost portion\n",
    "    # in the original model), and everything other scaled for growth:\n",
    "    resource_stoichiometry = C.imap(resources) do (resource,), input\n",
    "        if resource in amino_acids # AA case\n",
    "            equal_value_constraint(resource_consumption[resource], input)\n",
    "        elseif resource in keys(energy_stoichiometry) # energy case\n",
    "            equal_value_constraint(\n",
    "                -growth * (\n",
    "                    biomass[resource] -\n",
    "                    energy_stoichiometry[resource] * protein_polymerization_atp_per_gDW\n",
    "                ) -\n",
    "                resource_consumption[resource].value * energy_stoichiometry[resource],\n",
    "                input,\n",
    "            )\n",
    "        else # everything else\n",
    "            C.Constraint(input.value, -growth * biomass[resource])\n",
    "        end\n",
    "    end\n",
    "    # Finally, let's wrap all the constraints and some useful derived helper\n",
    "    # values in one big tree:\n",
    "    return C.ConstraintTree(\n",
    "        :resource_stoichiometry => resource_stoichiometry,\n",
    "        :ribosome_balance => ribosome_balance_constraint,\n",
    "        :gene_product_production => ribo_required_for_gps,\n",
    "        :total_ribosome_mass => C.Constraint(\n",
    "            ribosome_molar_mass * (\n",
    "                sum_values(v.value for (_, v) in ribo_required_for_gps) +\n",
    "                ribos_required_for_ribos.value\n",
    "            ),\n",
    "        ),\n",
    "        :amino_acid_use => (aas_required_for_gps * :ribosome^aas_required_for_ribos),\n",
    "        :polymerization_energy => C.Constraint(energy_required),\n",
    "        :translation_resource_consumption => resource_consumption,\n",
    "    )\n",
    "end"
   ],
   "metadata": {},
   "execution_count": 18
  },
  {
   "cell_type": "markdown",
   "source": [
    "## Running the resource-balanced simulation"
   ],
   "metadata": {}
  },
  {
   "cell_type": "markdown",
   "source": [
    "With the above functions, assembling a resource-balanced model amounts to\n",
    "adding new variables and connecting them with the rest of the\n",
    "enzyme-constrained model. We assemble a model for growth value of 0.6\n",
    "gDW/gDWh:"
   ],
   "metadata": {}
  },
  {
   "outputs": [
    {
     "output_type": "execute_result",
     "data": {
      "text/plain": "ConstraintTrees.ConstraintTree with 21 elements:\n  :amino_acid_use               => ConstraintTrees.ConstraintTree(#= 1497 eleme…\n  :coupling                     => ConstraintTrees.ConstraintTree(#= 0 elements…\n  :flux_stoichiometry           => ConstraintTrees.ConstraintTree(#= 1877 eleme…\n  :fluxes                       => ConstraintTrees.ConstraintTree(#= 2712 eleme…\n  :fluxes_forward               => ConstraintTrees.ConstraintTree(#= 2712 eleme…\n  :fluxes_reverse               => ConstraintTrees.ConstraintTree(#= 2712 eleme…\n  :gene_product_amounts         => ConstraintTrees.ConstraintTree(#= 1496 eleme…\n  :gene_product_capacity        => ConstraintTrees.ConstraintTree(#= 1 element …\n  :gene_product_production      => ConstraintTrees.ConstraintTree(#= 1496 eleme…\n  :isozyme_flux_forward_balance => ConstraintTrees.ConstraintTree(#= 2266 eleme…\n  :isozyme_flux_reverse_balance => ConstraintTrees.ConstraintTree(#= 2266 eleme…\n  :isozyme_forward_amounts      => ConstraintTrees.ConstraintTree(#= 2266 eleme…\n  :isozyme_reverse_amounts      => ConstraintTrees.ConstraintTree(#= 2266 eleme…\n  :objective                    => ConstraintTrees.Constraint(ConstraintTrees.L…\n  :polymerization_energy        => ConstraintTrees.Constraint(ConstraintTrees.L…\n  :resource_stoichiometry       => ConstraintTrees.ConstraintTree(#= 70 element…\n  :resources                    => ConstraintTrees.ConstraintTree(#= 70 element…\n  :ribosome_balance             => ConstraintTrees.Constraint(ConstraintTrees.L…\n  :ribosome_production          => ConstraintTrees.Constraint(ConstraintTrees.L…\n  ⋮                             => ⋮"
     },
     "metadata": {},
     "execution_count": 19
    }
   ],
   "cell_type": "code",
   "source": [
    "rb_constraints = with_translation_variables(ec_constraints)\n",
    "rb_constraints *= translation_constraints(\n",
    "    rb_constraints.resources,\n",
    "    rb_constraints.ribosome_production,\n",
    "    rb_constraints.gene_product_amounts,\n",
    "    0.9,\n",
    ")"
   ],
   "metadata": {},
   "execution_count": 19
  },
  {
   "cell_type": "markdown",
   "source": [
    "The model may be slightly under-constrained for less-than-extreme values of\n",
    "growth; to obtain a realistic solution for we can ask the solver to minimize\n",
    "the mass of used resources. Accordingly, we re-constraint the total mass of\n",
    "the model:"
   ],
   "metadata": {}
  },
  {
   "outputs": [],
   "cell_type": "code",
   "source": [
    "rb_constraints.gene_product_capacity.total_capacity.bound = nothing;\n",
    "rb_constraints.total_capacity = C.Constraint(\n",
    "    rb_constraints.gene_product_capacity.total_capacity.value +\n",
    "    rb_constraints.total_ribosome_mass.value,\n",
    "    (0.0, 550.0),\n",
    ");"
   ],
   "metadata": {},
   "execution_count": 20
  },
  {
   "cell_type": "markdown",
   "source": [
    "We can optimize the model now, minimizing the mass:"
   ],
   "metadata": {}
  },
  {
   "outputs": [
    {
     "output_type": "execute_result",
     "data": {
      "text/plain": "ConstraintTrees.Tree{Float64} with 22 elements:\n  :amino_acid_use               => ConstraintTrees.Tree{Float64}(#= 1497 elemen…\n  :coupling                     => ConstraintTrees.Tree{Float64}(#= 0 elements …\n  :flux_stoichiometry           => ConstraintTrees.Tree{Float64}(#= 1877 elemen…\n  :fluxes                       => ConstraintTrees.Tree{Float64}(#= 2712 elemen…\n  :fluxes_forward               => ConstraintTrees.Tree{Float64}(#= 2712 elemen…\n  :fluxes_reverse               => ConstraintTrees.Tree{Float64}(#= 2712 elemen…\n  :gene_product_amounts         => ConstraintTrees.Tree{Float64}(#= 1496 elemen…\n  :gene_product_capacity        => ConstraintTrees.Tree{Float64}(#= 1 element =…\n  :gene_product_production      => ConstraintTrees.Tree{Float64}(#= 1496 elemen…\n  :isozyme_flux_forward_balance => ConstraintTrees.Tree{Float64}(#= 2266 elemen…\n  :isozyme_flux_reverse_balance => ConstraintTrees.Tree{Float64}(#= 2266 elemen…\n  :isozyme_forward_amounts      => ConstraintTrees.Tree{Float64}(#= 2266 elemen…\n  :isozyme_reverse_amounts      => ConstraintTrees.Tree{Float64}(#= 2266 elemen…\n  :objective                    => 0.0\n  :polymerization_energy        => 1.09189\n  :resource_stoichiometry       => ConstraintTrees.Tree{Float64}(#= 70 elements…\n  :resources                    => ConstraintTrees.Tree{Float64}(#= 70 elements…\n  :ribosome_balance             => 5.55112e-16\n  :ribosome_production          => 2.10408e-5\n  ⋮                             => ⋮"
     },
     "metadata": {},
     "execution_count": 21
    }
   ],
   "cell_type": "code",
   "source": [
    "res = optimized_values(\n",
    "    rb_constraints,\n",
    "    objective = rb_constraints.total_capacity.value,\n",
    "    sense = Minimal,\n",
    "    optimizer = HiGHS.Optimizer,\n",
    ")"
   ],
   "metadata": {},
   "execution_count": 21
  },
  {
   "cell_type": "markdown",
   "source": [
    "The model can be used to observe various interesting effects. For example,\n",
    "how much building material is required to reach such growth?"
   ],
   "metadata": {}
  },
  {
   "outputs": [
    {
     "output_type": "execute_result",
     "data": {
      "text/plain": "538.7784951509789"
     },
     "metadata": {},
     "execution_count": 22
    }
   ],
   "cell_type": "code",
   "source": [
    "res.total_capacity"
   ],
   "metadata": {},
   "execution_count": 22
  },
  {
   "cell_type": "markdown",
   "source": [
    "What is the resource composition used for building up biomass?"
   ],
   "metadata": {}
  },
  {
   "outputs": [
    {
     "output_type": "execute_result",
     "data": {
      "text/plain": "70-element Vector{Pair{Symbol, Union{Float64, ConstraintTrees.Tree{Float64}}}}:\n            :adp_c => -55.94761600595841\n              :h_c => -55.9476160059584\n             :pi_c => -55.94401600595841\n            :ppi_c => -0.6965127\n            :btn_c => 1.8e-6\n           :mobd_c => 6.3e-6\n        :cobalt2_c => 2.25e-5\n Symbol(\"2fe2s_c\") => 2.34e-5\n         :udcpdp_c => 4.9500000000000004e-5\n         :succoa_c => 8.82e-5\n                   ⋮\n         :asp__L_c => 0.2868797917530818\n         :glu__L_c => 0.3135021356844087\n         :ile__L_c => 0.3227579451557756\n         :val__L_c => 0.3972703187339174\n            :gly_c => 0.45084868440163595\n         :leu__L_c => 0.5038252398350997\n         :ala__L_c => 0.5237625785614647\n            :h2o_c => 53.3177713940416\n            :atp_c => 58.288897994041626"
     },
     "metadata": {},
     "execution_count": 23
    }
   ],
   "cell_type": "code",
   "source": [
    "sort(collect(res.resources), by = last)"
   ],
   "metadata": {},
   "execution_count": 23
  },
  {
   "cell_type": "markdown",
   "source": [
    "How much of that comes into (and out of) translation?"
   ],
   "metadata": {}
  },
  {
   "outputs": [
    {
     "output_type": "execute_result",
     "data": {
      "text/plain": "ConstraintTrees.Tree{Float64} with 25 elements:\n  :adp_c    => -1.09189\n  :ala__L_c => 0.523763\n  :arg__L_c => 0.254827\n  :asn__L_c => 0.217669\n  :asp__L_c => 0.28688\n  :atp_c    => 1.09189\n  :cys__L_c => 0.0490187\n  :gln__L_c => 0.188324\n  :glu__L_c => 0.313502\n  :gly_c    => 0.450849\n  :h2o_c    => 1.09189\n  :h_c      => -1.09189\n  :his__L_c => 0.117845\n  :ile__L_c => 0.322758\n  :leu__L_c => 0.503825\n  :lys__L_c => 0.25248\n  :met__L_c => 0.159176\n  :phe__L_c => 0.221654\n  :pi_c     => -1.09189\n  ⋮         => ⋮"
     },
     "metadata": {},
     "execution_count": 24
    }
   ],
   "cell_type": "code",
   "source": [
    "res.translation_resource_consumption"
   ],
   "metadata": {},
   "execution_count": 24
  },
  {
   "cell_type": "markdown",
   "source": [
    "How much arginine is used to build the ribosomes?"
   ],
   "metadata": {}
  },
  {
   "outputs": [
    {
     "output_type": "execute_result",
     "data": {
      "text/plain": "0.04971935935347453"
     },
     "metadata": {},
     "execution_count": 25
    }
   ],
   "cell_type": "code",
   "source": [
    "res.amino_acid_use.ribosome.arg__L_c"
   ],
   "metadata": {},
   "execution_count": 25
  },
  {
   "cell_type": "markdown",
   "source": [
    "This solution is not necessarily optimal though. To find an optimal growth,\n",
    "one may use e.g. `screen` to run the same simulation over many growth\n",
    "values, and pick the largest feasible growth."
   ],
   "metadata": {}
  },
  {
   "cell_type": "markdown",
   "source": [
    "---\n",
    "\n",
    "*This notebook was generated using [Literate.jl](https://github.com/fredrikekre/Literate.jl).*"
   ],
   "metadata": {}
  }
 ],
 "nbformat_minor": 3,
 "metadata": {
  "language_info": {
   "file_extension": ".jl",
   "mimetype": "application/julia",
   "name": "julia",
   "version": "1.11.6"
  },
  "kernelspec": {
   "name": "julia-1.11",
   "display_name": "Julia 1.11.6",
   "language": "julia"
  }
 },
 "nbformat": 4
}
