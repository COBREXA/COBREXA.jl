{
 "cells": [
  {
   "cell_type": "markdown",
   "source": [
    "# Enzyme constrained models"
   ],
   "metadata": {}
  },
  {
   "outputs": [],
   "cell_type": "code",
   "source": [
    "using COBREXA"
   ],
   "metadata": {},
   "execution_count": 1
  },
  {
   "cell_type": "markdown",
   "source": [
    "Here we will construct an enzyme constrained variant of the *E. coli* \"core\"\n",
    "model. We will need the model, which we can download if it is not already present."
   ],
   "metadata": {}
  },
  {
   "outputs": [
    {
     "output_type": "execute_result",
     "data": {
      "text/plain": "false"
     },
     "metadata": {},
     "execution_count": 2
    }
   ],
   "cell_type": "code",
   "source": [
    "import Downloads: download\n",
    "\n",
    "!isfile(\"e_coli_core.json\") &&\n",
    "    download(\"http://bigg.ucsd.edu/static/models/e_coli_core.json\", \"e_coli_core.json\")"
   ],
   "metadata": {},
   "execution_count": 2
  },
  {
   "cell_type": "markdown",
   "source": [
    "Additionally to COBREXA and the model format package, we will need a solver\n",
    "-- let's use GLPK here:"
   ],
   "metadata": {}
  },
  {
   "outputs": [
    {
     "output_type": "execute_result",
     "data": {
      "text/plain": "JSONFBCModels.JSONFBCModel(#= 95 reactions, 72 metabolites =#)"
     },
     "metadata": {},
     "execution_count": 3
    }
   ],
   "cell_type": "code",
   "source": [
    "import AbstractFBCModels as A\n",
    "import JSONFBCModels\n",
    "import GLPK\n",
    "\n",
    "model = load_model(\"e_coli_core.json\")"
   ],
   "metadata": {},
   "execution_count": 3
  },
  {
   "cell_type": "markdown",
   "source": [
    "Enzyme constrained models require parameters that are usually not used by\n",
    "conventional constraint based models. These include reaction specific turnover\n",
    "numbers, molar masses of enzymes, and capacity bounds."
   ],
   "metadata": {}
  },
  {
   "cell_type": "markdown",
   "source": [
    "## Reaction turnover numbers"
   ],
   "metadata": {}
  },
  {
   "cell_type": "markdown",
   "source": [
    "Enzyme constrained models require reaction turnover numbers, which are often\n",
    "isozyme specfic. Many machine learning tools, or experimental data sets, can\n",
    "be used to estimate these parameters."
   ],
   "metadata": {}
  },
  {
   "cell_type": "markdown",
   "source": [
    "This data is taken from: *Heckmann, David, et al. \"Machine learning applied\n",
    "to enzyme turnover numbers reveals protein structural correlates and improves\n",
    "metabolic models.\" Nature communications 9.1 (2018): 1-10.*"
   ],
   "metadata": {}
  },
  {
   "outputs": [
    {
     "output_type": "execute_result",
     "data": {
      "text/plain": "Dict{String, Float64} with 62 entries:\n  \"ACALD\"   => 568.11\n  \"PTAr\"    => 1171.97\n  \"PGL\"     => 2120.42\n  \"NADTRHD\" => 186.99\n  \"ALCD2x\"  => 75.95\n  \"PGK\"     => 57.64\n  \"PDH\"     => 529.76\n  \"LDH_D\"   => 31.11\n  \"ME1\"     => 487.01\n  \"PIt2r\"   => 233.86\n  \"MALt2_2\" => 234.03\n  \"CS\"      => 113.29\n  \"PGM\"     => 681.4\n  \"TKT1\"    => 311.16\n  \"ATPS4r\"  => 71.42\n  \"ACONTa\"  => 191.02\n  \"GLNS\"    => 89.83\n  \"GLCpts\"  => 233.9\n  \"GLUDy\"   => 105.32\n  ⋮         => ⋮"
     },
     "metadata": {},
     "execution_count": 4
    }
   ],
   "cell_type": "code",
   "source": [
    "const ecoli_core_reaction_kcats = Dict(\n",
    "    \"ACALD\" => 568.11,\n",
    "    \"PTAr\" => 1171.97,\n",
    "    \"ALCD2x\" => 75.95,\n",
    "    \"PDH\" => 529.76,\n",
    "    \"MALt2_2\" => 234.03,\n",
    "    \"CS\" => 113.29,\n",
    "    \"PGM\" => 681.4,\n",
    "    \"TKT1\" => 311.16,\n",
    "    \"ACONTa\" => 191.02,\n",
    "    \"GLNS\" => 89.83,\n",
    "    \"ICL\" => 17.45,\n",
    "    \"FBA\" => 373.42,\n",
    "    \"FORt2\" => 233.93,\n",
    "    \"G6PDH2r\" => 589.37,\n",
    "    \"AKGDH\" => 264.48,\n",
    "    \"TKT2\" => 467.42,\n",
    "    \"FRD7\" => 90.20,\n",
    "    \"SUCOAS\" => 18.49,\n",
    "    \"ICDHyr\" => 39.62,\n",
    "    \"AKGt2r\" => 234.99,\n",
    "    \"GLUSy\" => 33.26,\n",
    "    \"TPI\" => 698.30,\n",
    "    \"FORt\" => 234.38,\n",
    "    \"ACONTb\" => 159.74,\n",
    "    \"GLNabc\" => 233.80,\n",
    "    \"RPE\" => 1772.485,\n",
    "    \"ACKr\" => 554.61,\n",
    "    \"THD2\" => 24.73,\n",
    "    \"PFL\" => 96.56,\n",
    "    \"RPI\" => 51.77,\n",
    "    \"D_LACt2\" => 233.51,\n",
    "    \"TALA\" => 109.05,\n",
    "    \"PPCK\" => 218.42,\n",
    "    \"PGL\" => 2120.42,\n",
    "    \"NADTRHD\" => 186.99,\n",
    "    \"PGK\" => 57.64,\n",
    "    \"LDH_D\" => 31.11,\n",
    "    \"ME1\" => 487.01,\n",
    "    \"PIt2r\" => 233.86,\n",
    "    \"ATPS4r\" => 71.42,\n",
    "    \"GLCpts\" => 233.90,\n",
    "    \"GLUDy\" => 105.32,\n",
    "    \"CYTBD\" => 153.18,\n",
    "    \"FUMt2_2\" => 234.37,\n",
    "    \"FRUpts2\" => 234.19,\n",
    "    \"GAPD\" => 128.76,\n",
    "    \"PPC\" => 165.52,\n",
    "    \"NADH16\" => 971.74,\n",
    "    \"PFK\" => 1000.46,\n",
    "    \"MDH\" => 25.93,\n",
    "    \"PGI\" => 468.11,\n",
    "    \"ME2\" => 443.09,\n",
    "    \"GND\" => 240.12,\n",
    "    \"SUCCt2_2\" => 234.18,\n",
    "    \"GLUN\" => 44.76,\n",
    "    \"ADK1\" => 111.64,\n",
    "    \"SUCDi\" => 680.31,\n",
    "    \"ENO\" => 209.35,\n",
    "    \"MALS\" => 252.75,\n",
    "    \"GLUt2r\" => 234.22,\n",
    "    \"PPS\" => 706.14,\n",
    "    \"FUM\" => 1576.83,\n",
    ")"
   ],
   "metadata": {},
   "execution_count": 4
  },
  {
   "cell_type": "markdown",
   "source": [
    "We have these here:"
   ],
   "metadata": {}
  },
  {
   "outputs": [
    {
     "output_type": "execute_result",
     "data": {
      "text/plain": "Dict{String, Float64} with 62 entries:\n  \"ACALD\"   => 568.11\n  \"PTAr\"    => 1171.97\n  \"PGL\"     => 2120.42\n  \"NADTRHD\" => 186.99\n  \"ALCD2x\"  => 75.95\n  \"PGK\"     => 57.64\n  \"PDH\"     => 529.76\n  \"LDH_D\"   => 31.11\n  \"ME1\"     => 487.01\n  \"PIt2r\"   => 233.86\n  \"MALt2_2\" => 234.03\n  \"CS\"      => 113.29\n  \"PGM\"     => 681.4\n  \"TKT1\"    => 311.16\n  \"ATPS4r\"  => 71.42\n  \"ACONTa\"  => 191.02\n  \"GLNS\"    => 89.83\n  \"GLCpts\"  => 233.9\n  \"GLUDy\"   => 105.32\n  ⋮         => ⋮"
     },
     "metadata": {},
     "execution_count": 5
    }
   ],
   "cell_type": "code",
   "source": [
    "ecoli_core_reaction_kcats"
   ],
   "metadata": {},
   "execution_count": 5
  },
  {
   "cell_type": "markdown",
   "source": [
    "Each reaction in a constraint-based model usually has gene reaction rules\n",
    "associated with it. These typically take the form of, possibly multiple,\n",
    "isozymes that can catalyze a reaction. A turnover number needs to be assigned\n",
    "to each isozyme, as shown below."
   ],
   "metadata": {}
  },
  {
   "outputs": [],
   "cell_type": "code",
   "source": [
    "reaction_isozymes = Dict{String,Dict{String,Isozyme}}() # a mapping from reaction IDs to isozyme IDs to isozyme structs.\n",
    "for rid in A.reactions(model)\n",
    "    grrs = A.reaction_gene_association_dnf(model, rid)\n",
    "    isnothing(grrs) && continue # skip if no grr available\n",
    "    haskey(ecoli_core_reaction_kcats, rid) || continue # skip if no kcat data available\n",
    "    for (i, grr) in enumerate(grrs)\n",
    "        d = get!(reaction_isozymes, rid, Dict{String,Isozyme}())\n",
    "        d[\"isozyme_\"*string(i)] = Isozyme( # each isozyme gets a unique name\n",
    "            gene_product_stoichiometry = Dict(grr .=> fill(1.0, size(grr))), # assume subunit stoichiometry of 1 for all isozymes\n",
    "            kcat_forward = ecoli_core_reaction_kcats[rid] * 3.6, # forward reaction turnover number units = 1/h\n",
    "            kcat_reverse = ecoli_core_reaction_kcats[rid] * 3.6, # reverse reaction turnover number units = 1/h\n",
    "        )\n",
    "    end\n",
    "end"
   ],
   "metadata": {},
   "execution_count": 6
  },
  {
   "cell_type": "markdown",
   "source": [
    "## Enzyme molar masses"
   ],
   "metadata": {}
  },
  {
   "cell_type": "markdown",
   "source": [
    "We also require the mass of each enzyme, to properly weight the contribution\n",
    "of each flux/isozyme in the capacity bound(s). These data can typically be\n",
    "found in uniprot."
   ],
   "metadata": {}
  },
  {
   "cell_type": "markdown",
   "source": [
    "This data is downloaded from Uniprot for E. coli K12, gene mass in kDa. To\n",
    "obtain these data yourself, go to [Uniprot](https://www.uniprot.org/) and\n",
    "search using these terms: `reviewed:yes AND organism:\"Escherichia coli\n",
    "(strain K12) [83333]\"`."
   ],
   "metadata": {}
  },
  {
   "outputs": [
    {
     "output_type": "execute_result",
     "data": {
      "text/plain": "Dict{String, Float64} with 137 entries:\n  \"b4301\" => 23.214\n  \"b1602\" => 48.723\n  \"b4154\" => 65.972\n  \"b3236\" => 32.337\n  \"b1621\" => 56.627\n  \"b1779\" => 35.532\n  \"b3951\" => 85.96\n  \"b1676\" => 50.729\n  \"b3114\" => 85.936\n  \"b1241\" => 96.127\n  \"b2276\" => 52.044\n  \"b1761\" => 48.581\n  \"b3925\" => 35.852\n  \"b3493\" => 53.389\n  \"b3733\" => 31.577\n  \"b2926\" => 41.118\n  \"b0979\" => 42.424\n  \"b4015\" => 47.522\n  \"b2296\" => 43.29\n  ⋮       => ⋮"
     },
     "metadata": {},
     "execution_count": 7
    }
   ],
   "cell_type": "code",
   "source": [
    "const ecoli_core_gene_product_masses = Dict(\n",
    "    \"b4301\" => 23.214,\n",
    "    \"b1602\" => 48.723,\n",
    "    \"b4154\" => 65.972,\n",
    "    \"b3236\" => 32.337,\n",
    "    \"b1621\" => 56.627,\n",
    "    \"b1779\" => 35.532,\n",
    "    \"b3951\" => 85.96,\n",
    "    \"b1676\" => 50.729,\n",
    "    \"b3114\" => 85.936,\n",
    "    \"b1241\" => 96.127,\n",
    "    \"b2276\" => 52.044,\n",
    "    \"b1761\" => 48.581,\n",
    "    \"b3925\" => 35.852,\n",
    "    \"b3493\" => 53.389,\n",
    "    \"b3733\" => 31.577,\n",
    "    \"b2926\" => 41.118,\n",
    "    \"b0979\" => 42.424,\n",
    "    \"b4015\" => 47.522,\n",
    "    \"b2296\" => 43.29,\n",
    "    \"b4232\" => 36.834,\n",
    "    \"b3732\" => 50.325,\n",
    "    \"b2282\" => 36.219,\n",
    "    \"b2283\" => 100.299,\n",
    "    \"b0451\" => 44.515,\n",
    "    \"b2463\" => 82.417,\n",
    "    \"b0734\" => 42.453,\n",
    "    \"b3738\" => 30.303,\n",
    "    \"b3386\" => 24.554,\n",
    "    \"b3603\" => 59.168,\n",
    "    \"b2416\" => 63.562,\n",
    "    \"b0729\" => 29.777,\n",
    "    \"b0767\" => 36.308,\n",
    "    \"b3734\" => 55.222,\n",
    "    \"b4122\" => 60.105,\n",
    "    \"b2987\" => 53.809,\n",
    "    \"b2579\" => 14.284,\n",
    "    \"b0809\" => 26.731,\n",
    "    \"b1524\" => 33.516,\n",
    "    \"b3612\" => 56.194,\n",
    "    \"b3735\" => 19.332,\n",
    "    \"b3731\" => 15.068,\n",
    "    \"b1817\" => 35.048,\n",
    "    \"b1603\" => 54.623,\n",
    "    \"b1773\" => 30.81,\n",
    "    \"b4090\" => 16.073,\n",
    "    \"b0114\" => 99.668,\n",
    "    \"b3962\" => 51.56,\n",
    "    \"b2464\" => 35.659,\n",
    "    \"b2976\" => 80.489,\n",
    "    \"b1818\" => 27.636,\n",
    "    \"b2285\" => 18.59,\n",
    "    \"b1702\" => 87.435,\n",
    "    \"b1849\" => 42.434,\n",
    "    \"b1812\" => 50.97,\n",
    "    \"b0902\" => 28.204,\n",
    "    \"b3403\" => 59.643,\n",
    "    \"b1612\" => 60.299,\n",
    "    \"b1854\" => 51.357,\n",
    "    \"b0811\" => 27.19,\n",
    "    \"b0721\" => 14.299,\n",
    "    \"b2914\" => 22.86,\n",
    "    \"b1297\" => 53.177,\n",
    "    \"b0723\" => 64.422,\n",
    "    \"b3919\" => 26.972,\n",
    "    \"b3115\" => 43.384,\n",
    "    \"b4077\" => 47.159,\n",
    "    \"b3528\" => 45.436,\n",
    "    \"b0351\" => 33.442,\n",
    "    \"b2029\" => 51.481,\n",
    "    \"b1819\" => 30.955,\n",
    "    \"b0728\" => 41.393,\n",
    "    \"b2935\" => 72.212,\n",
    "    \"b2415\" => 9.119,\n",
    "    \"b0727\" => 44.011,\n",
    "    \"b0116\" => 50.688,\n",
    "    \"b0485\" => 32.903,\n",
    "    \"b3736\" => 17.264,\n",
    "    \"b0008\" => 35.219,\n",
    "    \"b3212\" => 163.297,\n",
    "    \"b3870\" => 51.904,\n",
    "    \"b4014\" => 60.274,\n",
    "    \"b2280\" => 19.875,\n",
    "    \"b2133\" => 64.612,\n",
    "    \"b2278\" => 66.438,\n",
    "    \"b0118\" => 93.498,\n",
    "    \"b2288\" => 16.457,\n",
    "    \"b3739\" => 13.632,\n",
    "    \"b3916\" => 34.842,\n",
    "    \"b3952\" => 32.43,\n",
    "    \"b2925\" => 39.147,\n",
    "    \"b2465\" => 73.043,\n",
    "    \"b2297\" => 77.172,\n",
    "    \"b2417\" => 18.251,\n",
    "    \"b4395\" => 24.065,\n",
    "    \"b3956\" => 99.063,\n",
    "    \"b0722\" => 12.868,\n",
    "    \"b2779\" => 45.655,\n",
    "    \"b0115\" => 66.096,\n",
    "    \"b0733\" => 58.205,\n",
    "    \"b1478\" => 35.38,\n",
    "    \"b2492\" => 30.565,\n",
    "    \"b0724\" => 26.77,\n",
    "    \"b0755\" => 28.556,\n",
    "    \"b1136\" => 45.757,\n",
    "    \"b2286\" => 68.236,\n",
    "    \"b0978\" => 57.92,\n",
    "    \"b1852\" => 55.704,\n",
    "    \"b2281\" => 20.538,\n",
    "    \"b2587\" => 47.052,\n",
    "    \"b2458\" => 36.067,\n",
    "    \"b0904\" => 30.991,\n",
    "    \"b1101\" => 50.677,\n",
    "    \"b0875\" => 23.703,\n",
    "    \"b3213\" => 52.015,\n",
    "    \"b2975\" => 58.92,\n",
    "    \"b0720\" => 48.015,\n",
    "    \"b0903\" => 85.357,\n",
    "    \"b1723\" => 32.456,\n",
    "    \"b2097\" => 38.109,\n",
    "    \"b3737\" => 8.256,\n",
    "    \"b0810\" => 24.364,\n",
    "    \"b4025\" => 61.53,\n",
    "    \"b1380\" => 36.535,\n",
    "    \"b0356\" => 39.359,\n",
    "    \"b2277\" => 56.525,\n",
    "    \"b1276\" => 97.677,\n",
    "    \"b4152\" => 15.015,\n",
    "    \"b1479\" => 63.197,\n",
    "    \"b4153\" => 27.123,\n",
    "    \"b4151\" => 13.107,\n",
    "    \"b2287\" => 25.056,\n",
    "    \"b0474\" => 23.586,\n",
    "    \"b2284\" => 49.292,\n",
    "    \"b1611\" => 50.489,\n",
    "    \"b0726\" => 105.062,\n",
    "    \"b2279\" => 10.845,\n",
    "    \"s0001\" => 0.0,\n",
    ")"
   ],
   "metadata": {},
   "execution_count": 7
  },
  {
   "cell_type": "markdown",
   "source": [
    "We have the molar masses here:"
   ],
   "metadata": {}
  },
  {
   "outputs": [
    {
     "output_type": "execute_result",
     "data": {
      "text/plain": "Dict{String, Float64} with 137 entries:\n  \"b4301\" => 23.214\n  \"b1602\" => 48.723\n  \"b4154\" => 65.972\n  \"b3236\" => 32.337\n  \"b1621\" => 56.627\n  \"b1779\" => 35.532\n  \"b3951\" => 85.96\n  \"b1676\" => 50.729\n  \"b3114\" => 85.936\n  \"b1241\" => 96.127\n  \"b2276\" => 52.044\n  \"b1761\" => 48.581\n  \"b3925\" => 35.852\n  \"b3493\" => 53.389\n  \"b3733\" => 31.577\n  \"b2926\" => 41.118\n  \"b0979\" => 42.424\n  \"b4015\" => 47.522\n  \"b2296\" => 43.29\n  ⋮       => ⋮"
     },
     "metadata": {},
     "execution_count": 8
    }
   ],
   "cell_type": "code",
   "source": [
    "ecoli_core_gene_product_masses"
   ],
   "metadata": {},
   "execution_count": 8
  },
  {
   "cell_type": "markdown",
   "source": [
    "## Capacity limitation"
   ],
   "metadata": {}
  },
  {
   "cell_type": "markdown",
   "source": [
    "The capacity limitation usually denotes an upper bound of protein available to\n",
    "the cell."
   ],
   "metadata": {}
  },
  {
   "outputs": [
    {
     "output_type": "execute_result",
     "data": {
      "text/plain": "50.0"
     },
     "metadata": {},
     "execution_count": 9
    }
   ],
   "cell_type": "code",
   "source": [
    "total_enzyme_capacity = 50.0 # mg of enzyme/gDW"
   ],
   "metadata": {},
   "execution_count": 9
  },
  {
   "cell_type": "markdown",
   "source": [
    "## Running a basic enzyme constrained model"
   ],
   "metadata": {}
  },
  {
   "cell_type": "markdown",
   "source": [
    "With all the parameters specified, we can directly use the enzyme constrained\n",
    "convenience function to run enzyme constrained FBA in one shot:"
   ],
   "metadata": {}
  },
  {
   "outputs": [
    {
     "output_type": "execute_result",
     "data": {
      "text/plain": "ConstraintTrees.Tree{Float64} with 12 elements:\n  :directional_flux_balance     => ConstraintTrees.Tree{Float64}(#= 95 elements…\n  :flux_stoichiometry           => ConstraintTrees.Tree{Float64}(#= 72 elements…\n  :fluxes                       => ConstraintTrees.Tree{Float64}(#= 95 elements…\n  :fluxes_forward               => ConstraintTrees.Tree{Float64}(#= 95 elements…\n  :fluxes_reverse               => ConstraintTrees.Tree{Float64}(#= 95 elements…\n  :gene_product_amounts         => ConstraintTrees.Tree{Float64}(#= 130 element…\n  :gene_product_capacity        => ConstraintTrees.Tree{Float64}(#= 1 element =…\n  :isozyme_flux_forward_balance => ConstraintTrees.Tree{Float64}(#= 62 elements…\n  :isozyme_flux_reverse_balance => ConstraintTrees.Tree{Float64}(#= 62 elements…\n  :isozyme_forward_amounts      => ConstraintTrees.Tree{Float64}(#= 62 elements…\n  :isozyme_reverse_amounts      => ConstraintTrees.Tree{Float64}(#= 62 elements…\n  :objective                    => 0.706993"
     },
     "metadata": {},
     "execution_count": 10
    }
   ],
   "cell_type": "code",
   "source": [
    "ec_solution = enzyme_constrained_flux_balance_analysis(\n",
    "    model;\n",
    "    reaction_isozymes,\n",
    "    gene_product_molar_masses = ecoli_core_gene_product_masses,\n",
    "    capacity = total_enzyme_capacity,\n",
    "    optimizer = GLPK.Optimizer,\n",
    ")"
   ],
   "metadata": {},
   "execution_count": 10
  },
  {
   "cell_type": "markdown",
   "source": [
    "We can notice that the objective function is a little lower than with\n",
    "unconstrained E. coli core:"
   ],
   "metadata": {}
  },
  {
   "outputs": [
    {
     "output_type": "execute_result",
     "data": {
      "text/plain": "0.7069933828572322"
     },
     "metadata": {},
     "execution_count": 11
    }
   ],
   "cell_type": "code",
   "source": [
    "ec_solution.objective"
   ],
   "metadata": {},
   "execution_count": 11
  },
  {
   "cell_type": "markdown",
   "source": [
    "One can also observe many interesting thing, e.g. the amount of gene product\n",
    "material required for the system to run:"
   ],
   "metadata": {}
  },
  {
   "outputs": [
    {
     "output_type": "execute_result",
     "data": {
      "text/plain": "ConstraintTrees.Tree{Float64} with 130 elements:\n  :b0008 => 0.00482419\n  :b0114 => 0.00550415\n  :b0115 => 0.00550415\n  :b0116 => 0.00550415\n  :b0118 => 0.00243563\n  :b0351 => 0.0\n  :b0356 => 0.0\n  :b0474 => -4.41985e-18\n  :b0485 => 0.0\n  :b0720 => 0.00187026\n  :b0721 => 0.0\n  :b0722 => 0.0\n  :b0723 => 0.0\n  :b0724 => 0.0\n  :b0726 => 0.0\n  :b0727 => 0.0\n  :b0728 => 0.0\n  :b0729 => 0.0\n  :b0733 => 0.0\n  ⋮      => ⋮"
     },
     "metadata": {},
     "execution_count": 12
    }
   ],
   "cell_type": "code",
   "source": [
    "ec_solution.gene_product_amounts"
   ],
   "metadata": {},
   "execution_count": 12
  },
  {
   "cell_type": "markdown",
   "source": [
    "The total amount of required gene product mass is, by default, present as\n",
    "`total_capacity`:"
   ],
   "metadata": {}
  },
  {
   "outputs": [
    {
     "output_type": "execute_result",
     "data": {
      "text/plain": "ConstraintTrees.Tree{Float64} with 1 element:\n  :total_capacity => 50.0"
     },
     "metadata": {},
     "execution_count": 13
    }
   ],
   "cell_type": "code",
   "source": [
    "ec_solution.gene_product_capacity"
   ],
   "metadata": {},
   "execution_count": 13
  },
  {
   "cell_type": "markdown",
   "source": [
    "## Simplified models\n",
    "\n",
    "Because most reactions typically only use a single isozyme, we may also use a\n",
    "simplified representation of the problem where this fact is reflected, saving\n",
    "the variable allocation for the isozymes.\n",
    "\n",
    "`simplified_enzyme_constrained_flux_balance_analysis` takes similar\n",
    "arguments as the `enzyme_constrained_flux_balance_analysis`, but\n",
    "automatically chooses the \"fastest\" reaction isozyme for each reaction\n",
    "direction and builds the model with that."
   ],
   "metadata": {}
  },
  {
   "outputs": [
    {
     "output_type": "execute_result",
     "data": {
      "text/plain": "ConstraintTrees.Tree{Float64} with 8 elements:\n  :capacity_limits          => ConstraintTrees.Tree{Float64}(#= 1 element =#)\n  :directional_flux_balance => ConstraintTrees.Tree{Float64}(#= 95 elements =#)\n  :flux_stoichiometry       => ConstraintTrees.Tree{Float64}(#= 72 elements =#)\n  :fluxes                   => ConstraintTrees.Tree{Float64}(#= 95 elements =#)\n  :fluxes_forward           => ConstraintTrees.Tree{Float64}(#= 95 elements =#)\n  :fluxes_reverse           => ConstraintTrees.Tree{Float64}(#= 95 elements =#)\n  :gene_product_amounts     => ConstraintTrees.Tree{Float64}(#= 97 elements =#)\n  :objective                => 0.706993"
     },
     "metadata": {},
     "execution_count": 14
    }
   ],
   "cell_type": "code",
   "source": [
    "simplified_ec_solution = simplified_enzyme_constrained_flux_balance_analysis(\n",
    "    model;\n",
    "    reaction_isozymes,\n",
    "    gene_product_molar_masses = ecoli_core_gene_product_masses,\n",
    "    capacity = total_enzyme_capacity,\n",
    "    optimizer = GLPK.Optimizer,\n",
    ")"
   ],
   "metadata": {},
   "execution_count": 14
  },
  {
   "cell_type": "markdown",
   "source": [
    "In this case, the result is the same as with the full analysis:"
   ],
   "metadata": {}
  },
  {
   "outputs": [
    {
     "output_type": "execute_result",
     "data": {
      "text/plain": "49.99999999999997"
     },
     "metadata": {},
     "execution_count": 15
    }
   ],
   "cell_type": "code",
   "source": [
    "simplified_ec_solution.capacity_limits.total_capacity"
   ],
   "metadata": {},
   "execution_count": 15
  },
  {
   "cell_type": "markdown",
   "source": [
    "Gene product amounts are not present in the model but are reconstructed\n",
    "nevertheless (they are uniquely determined by the flux:"
   ],
   "metadata": {}
  },
  {
   "outputs": [
    {
     "output_type": "execute_result",
     "data": {
      "text/plain": "ConstraintTrees.Tree{Float64} with 97 elements:\n  :b0008 => 0.00482419\n  :b0114 => 0.00550415\n  :b0115 => 0.00550415\n  :b0116 => 0.00550415\n  :b0118 => 0.00243563\n  :b0351 => -3.84062e-18\n  :b0474 => 2.62429e-18\n  :b0485 => 1.72249e-19\n  :b0720 => 0.00187026\n  :b0721 => 3.96651e-19\n  :b0722 => 3.96651e-19\n  :b0723 => 3.96651e-19\n  :b0724 => 3.96651e-19\n  :b0726 => -2.04058e-18\n  :b0727 => -2.04058e-18\n  :b0728 => -2.91883e-17\n  :b0729 => -2.91883e-17\n  :b0767 => 0.000794011\n  :b0809 => 0.0\n  ⋮      => ⋮"
     },
     "metadata": {},
     "execution_count": 16
    }
   ],
   "cell_type": "code",
   "source": [
    "simplified_ec_solution.gene_product_amounts"
   ],
   "metadata": {},
   "execution_count": 16
  },
  {
   "cell_type": "markdown",
   "source": [
    "---\n",
    "\n",
    "*This notebook was generated using [Literate.jl](https://github.com/fredrikekre/Literate.jl).*"
   ],
   "metadata": {}
  }
 ],
 "nbformat_minor": 3,
 "metadata": {
  "language_info": {
   "file_extension": ".jl",
   "mimetype": "application/julia",
   "name": "julia",
   "version": "1.9.4"
  },
  "kernelspec": {
   "name": "julia-1.9",
   "display_name": "Julia 1.9.4",
   "language": "julia"
  }
 },
 "nbformat": 4
}
