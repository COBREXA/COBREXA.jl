{
 "cells": [
  {
   "cell_type": "markdown",
   "source": [
    "# Flux sampling"
   ],
   "metadata": {}
  },
  {
   "outputs": [
    {
     "name": "stdout",
     "output_type": "stream",
     "text": [
      "[ Info: using cached `e_coli_core.json'\n"
     ]
    },
    {
     "output_type": "execute_result",
     "data": {
      "text/plain": "JSONFBCModels.JSONFBCModel(#= 95 reactions, 72 metabolites =#)"
     },
     "metadata": {},
     "execution_count": 1
    }
   ],
   "cell_type": "code",
   "source": [
    "using COBREXA\n",
    "\n",
    "download_model(\n",
    "    \"http://bigg.ucsd.edu/static/models/e_coli_core.json\",\n",
    "    \"e_coli_core.json\",\n",
    "    \"7bedec10576cfe935b19218dc881f3fb14f890a1871448fc19a9b4ee15b448d8\",\n",
    ")\n",
    "\n",
    "import JSONFBCModels, GLPK\n",
    "\n",
    "model = load_model(\"e_coli_core.json\")"
   ],
   "metadata": {},
   "execution_count": 1
  },
  {
   "cell_type": "markdown",
   "source": [
    "note here: this needs the optimizer to generate warmup. If you have warmup,\n",
    "you can do without one."
   ],
   "metadata": {}
  },
  {
   "outputs": [
    {
     "output_type": "execute_result",
     "data": {
      "text/plain": "ConstraintTrees.Tree{Vector{Float64}} with 95 elements:\n  :ACALD                    => [-0.0641419, -0.0133369, -0.0314594, -0.013158, …\n  :ACALDt                   => [-0.058338, -0.00562706, -0.0245632, -0.00465497…\n  :ACKr                     => [-0.0133779, -0.0173019, -0.0144577, -0.00775152…\n  :ACONTa                   => [6.01904, 6.12265, 6.09943, 5.84406, 6.12334, 6.…\n  :ACONTb                   => [6.01904, 6.12265, 6.09943, 5.84406, 6.12334, 6.…\n  :ACt2r                    => [-0.0133779, -0.0173019, -0.0144577, -0.00775152…\n  :ADK1                     => [0.012478, 0.0354431, 0.0277089, 0.0180364, 0.03…\n  :AKGDH                    => [4.58381, 4.73136, 4.74344, 4.06351, 4.76621, 4.…\n  :AKGt2r                   => [-0.000100773, -0.0014538, -0.00136444, -0.00147…\n  :ALCD2x                   => [-0.00580388, -0.0077098, -0.0068962, -0.0085030…\n  :ATPM                     => [8.39619, 8.39642, 8.39428, 8.39534, 8.39589, 8.…\n  :ATPS4r                   => [45.0609, 45.1168, 45.1154, 45.625, 45.1303, 45.…\n  :BIOMASS_Ecoli_core_w_GAM => [0.865996, 0.865989, 0.865855, 0.865601, 0.86595…\n  :CO2t                     => [-22.8652, -22.9294, -22.909, -22.9956, -22.9285…\n  :CS                       => [6.01904, 6.12265, 6.09943, 5.84406, 6.12334, 6.…\n  :CYTBD                    => [43.7143, 43.9094, 43.852, 44.0238, 43.9086, 43.…\n  :D_LACt2                  => [-0.00989934, -0.00883153, -0.00776748, -0.00441…\n  :ENO                      => [14.7421, 14.8006, 14.7911, 14.506, 14.8012, 14.…\n  :ETOHt2r                  => [-0.00580388, -0.0077098, -0.0068962, -0.0085030…\n  ⋮                         => ⋮"
     },
     "metadata": {},
     "execution_count": 2
    }
   ],
   "cell_type": "code",
   "source": [
    "s = flux_sample(\n",
    "    model,\n",
    "    optimizer = GLPK.Optimizer,\n",
    "    objective_bound = relative_tolerance_bound(0.99),\n",
    "    n_chains = 2,\n",
    "    collect_iterations = [10],\n",
    ")"
   ],
   "metadata": {},
   "execution_count": 2
  },
  {
   "cell_type": "markdown",
   "source": [
    "---\n",
    "\n",
    "*This notebook was generated using [Literate.jl](https://github.com/fredrikekre/Literate.jl).*"
   ],
   "metadata": {}
  }
 ],
 "nbformat_minor": 3,
 "metadata": {
  "language_info": {
   "file_extension": ".jl",
   "mimetype": "application/julia",
   "name": "julia",
   "version": "1.9.4"
  },
  "kernelspec": {
   "name": "julia-1.9",
   "display_name": "Julia 1.9.4",
   "language": "julia"
  }
 },
 "nbformat": 4
}
