{
 "cells": [
  {
   "cell_type": "markdown",
   "source": [
    "# Minimization of metabolic adjustment analysis"
   ],
   "metadata": {}
  },
  {
   "cell_type": "markdown",
   "source": [
    "Minimization of metabolic adjustment analysis (MOMA) finds a flux solution\n",
    "that is closest to some reference solution. This may correspond to realistic\n",
    "adjustment of living organisms to various perturbations, such as gene\n",
    "knockout or environmental stress.\n",
    "\n",
    "To demonstrate, let's use the E. coli model."
   ],
   "metadata": {}
  },
  {
   "outputs": [
    {
     "name": "stdout",
     "output_type": "stream",
     "text": [
      "[ Info: using cached `e_coli_core.json'\n"
     ]
    },
    {
     "output_type": "execute_result",
     "data": {
      "text/plain": "\"e_coli_core.json\""
     },
     "metadata": {},
     "execution_count": 1
    }
   ],
   "cell_type": "code",
   "source": [
    "using COBREXA\n",
    "\n",
    "download_model(\n",
    "    \"http://bigg.ucsd.edu/static/models/e_coli_core.json\",\n",
    "    \"e_coli_core.json\",\n",
    "    \"7bedec10576cfe935b19218dc881f3fb14f890a1871448fc19a9b4ee15b448d8\",\n",
    ")"
   ],
   "metadata": {},
   "execution_count": 1
  },
  {
   "cell_type": "markdown",
   "source": [
    "We shall use both quadratic and linear solvers -- the \"closest to some\n",
    "reference solution\" typically refers to Euclidean (\"L2\") distance which\n",
    "requires a QP solver, but Manhattan (\"L1\") distance is also demonstrated\n",
    "below."
   ],
   "metadata": {}
  },
  {
   "outputs": [],
   "cell_type": "code",
   "source": [
    "import Clarabel, HiGHS"
   ],
   "metadata": {},
   "execution_count": 2
  },
  {
   "cell_type": "markdown",
   "source": [
    "Because we will have to perform some perturbation, we import the model in\n",
    "canonical Julia structures:"
   ],
   "metadata": {}
  },
  {
   "outputs": [
    {
     "output_type": "execute_result",
     "data": {
      "text/plain": "AbstractFBCModels.CanonicalModel.Model(\n  reactions = Dict{String, AbstractFBCModels.CanonicalModel.Reaction}(\"ACALD\" =…\n  metabolites = Dict{String, AbstractFBCModels.CanonicalModel.Metabolite}(\"glu_…\n  genes = Dict{String, AbstractFBCModels.CanonicalModel.Gene}(\"b4301\" => Abstra…\n  couplings = Dict{String, AbstractFBCModels.CanonicalModel.Coupling}(),\n)\n"
     },
     "metadata": {},
     "execution_count": 3
    }
   ],
   "cell_type": "code",
   "source": [
    "import JSONFBCModels\n",
    "import AbstractFBCModels.CanonicalModel as CM\n",
    "ecoli = load_model(\"e_coli_core.json\", CM.Model)"
   ],
   "metadata": {},
   "execution_count": 3
  },
  {
   "cell_type": "markdown",
   "source": [
    "This will be a good reaction for perturbing:"
   ],
   "metadata": {}
  },
  {
   "outputs": [
    {
     "output_type": "execute_result",
     "data": {
      "text/plain": "AbstractFBCModels.CanonicalModel.Reaction(\n  name = \"Cytochrome oxidase bd (ubiquinol-8: 2 protons)\",\n  lower_bound = 0.0,\n  upper_bound = 1000.0,\n  stoichiometry = Dict(\"h2o_c\" => 1.0, \"o2_c\" => -0.5, \"h_e\" => 2.0, \"q8_c\" => …\n  objective_coefficient = 0.0,\n  gene_association_dnf = [[\"b0733\", \"b0734\"], [\"b0978\", \"b0979\"]],\n  annotations = Dict(\"metanetx.reaction\" => [\"MNXR97031\"], \"sbo\" => [\"SBO:00001…\n  notes = Dict(\"original_bigg_ids\" => [\"CYTBD\"]),\n)\n"
     },
     "metadata": {},
     "execution_count": 4
    }
   ],
   "cell_type": "code",
   "source": [
    "ecoli.reactions[\"CYTBD\"]"
   ],
   "metadata": {},
   "execution_count": 4
  },
  {
   "cell_type": "markdown",
   "source": [
    "To do the perturbation, we create a model of a strain which has mild issues\n",
    "with running the CYTBD reaction. We use `deepcopy` to completely avoid any\n",
    "reference sharing issues."
   ],
   "metadata": {}
  },
  {
   "outputs": [
    {
     "output_type": "execute_result",
     "data": {
      "text/plain": "10.0"
     },
     "metadata": {},
     "execution_count": 5
    }
   ],
   "cell_type": "code",
   "source": [
    "limited_ecoli = deepcopy(ecoli)\n",
    "limited_ecoli.reactions[\"CYTBD\"].upper_bound = 10.0"
   ],
   "metadata": {},
   "execution_count": 5
  },
  {
   "cell_type": "markdown",
   "source": [
    "## Finding parsimonious solutions"
   ],
   "metadata": {}
  },
  {
   "cell_type": "markdown",
   "source": [
    "Because we are interested in realistic flux distributions, we have to use an\n",
    "analysis method which gives one -- in this case, the parsimonious FBA will do\n",
    "just right. For later comparison, we first get the optimal parsimonious flux\n",
    "distribution in the perturbed model:"
   ],
   "metadata": {}
  },
  {
   "outputs": [
    {
     "output_type": "execute_result",
     "data": {
      "text/plain": "ConstraintTrees.Tree{Float64} with 5 elements:\n  :coupling               => ConstraintTrees.Tree{Float64}(#= 0 elements =#)\n  :flux_stoichiometry     => ConstraintTrees.Tree{Float64}(#= 72 elements =#)\n  :fluxes                 => ConstraintTrees.Tree{Float64}(#= 95 elements =#)\n  :objective              => 0.391648\n  :parsimonious_objective => 5087.91"
     },
     "metadata": {},
     "execution_count": 6
    }
   ],
   "cell_type": "code",
   "source": [
    "solution = parsimonious_flux_balance_analysis(limited_ecoli, optimizer = Clarabel.Optimizer)"
   ],
   "metadata": {},
   "execution_count": 6
  },
  {
   "cell_type": "markdown",
   "source": [
    "Now, how much is the flux going to differ if we assume the bacterium did only\n",
    "minimal adjustment from the previous state with unlimited CYTBD?"
   ],
   "metadata": {}
  },
  {
   "outputs": [
    {
     "output_type": "execute_result",
     "data": {
      "text/plain": "ConstraintTrees.Tree{Float64} with 5 elements:\n  :coupling                     => ConstraintTrees.Tree{Float64}(#= 0 elements …\n  :flux_stoichiometry           => ConstraintTrees.Tree{Float64}(#= 72 elements…\n  :fluxes                       => ConstraintTrees.Tree{Float64}(#= 95 elements…\n  :minimal_adjustment_objective => 4937.56\n  :objective                    => 0.241497"
     },
     "metadata": {},
     "execution_count": 7
    }
   ],
   "cell_type": "code",
   "source": [
    "moma_solution = metabolic_adjustment_minimization_analysis(\n",
    "    limited_ecoli, # the model to be examined\n",
    "    ecoli; # the model that gives the reference flux\n",
    "    optimizer = Clarabel.Optimizer,\n",
    ")"
   ],
   "metadata": {},
   "execution_count": 7
  },
  {
   "cell_type": "markdown",
   "source": [
    "## Comparing the results\n",
    "\n",
    "The difference between the naive and minimally-adjusting solutions can be\n",
    "extracted using the constraint tree functionality:"
   ],
   "metadata": {}
  },
  {
   "outputs": [
    {
     "output_type": "execute_result",
     "data": {
      "text/plain": "ConstraintTrees.Tree{Float64} with 4 elements:\n  :coupling           => ConstraintTrees.Tree{Float64}(#= 0 elements =#)\n  :flux_stoichiometry => ConstraintTrees.Tree{Float64}(#= 72 elements =#)\n  :fluxes             => ConstraintTrees.Tree{Float64}(#= 95 elements =#)\n  :objective          => 0.150152"
     },
     "metadata": {},
     "execution_count": 8
    }
   ],
   "cell_type": "code",
   "source": [
    "import ConstraintTrees as C\n",
    "difference = C.zip(-, solution, moma_solution, Float64)"
   ],
   "metadata": {},
   "execution_count": 8
  },
  {
   "outputs": [
    {
     "output_type": "execute_result",
     "data": {
      "text/plain": "95-element Vector{Pair{Symbol, Union{Float64, ConstraintTrees.Tree{Float64}}}}:\n      :FORt => -15.937900590627708\n  :EX_h2o_e => -12.25973750482275\n      :ACKr => -12.23112377824434\n     :ACt2r => -12.231123778242587\n       :PDH => -10.669672606178668\n  :EX_co2_e => -9.924850036343367\n    :ATPS4r => -8.655939529984154\n       :PPC => -4.689341153719435\n      :FRD7 => -4.073826730909896\n :EX_etoh_e => -3.727116982395617\n            ⋮\n     :ACALD => 5.6514793889087\n      :THD2 => 6.71524350812716\n      :CO2t => 9.924850036343452\n   :EX_ac_e => 12.231123778242294\n      :PTAr => 12.231123778252899\n      :H2Ot => 12.259737504822999\n  :EX_for_e => 15.937900592298138\n       :PFL => 15.937900592299496\n    :EX_h_e => 20.94183649468959"
     },
     "metadata": {},
     "execution_count": 9
    }
   ],
   "cell_type": "code",
   "source": [
    "sort(collect(difference.fluxes), by = last)"
   ],
   "metadata": {},
   "execution_count": 9
  },
  {
   "cell_type": "markdown",
   "source": [
    "## Using a custom reference flux\n",
    "\n",
    "In certain situations, one might want to examine how the model would adjust\n",
    "from a known reaction flux. We can supply it manually as the second argument\n",
    "(instead of the reference model)."
   ],
   "metadata": {}
  },
  {
   "outputs": [
    {
     "output_type": "execute_result",
     "data": {
      "text/plain": "ConstraintTrees.Tree{Float64} with 5 elements:\n  :coupling                     => ConstraintTrees.Tree{Float64}(#= 0 elements …\n  :flux_stoichiometry           => ConstraintTrees.Tree{Float64}(#= 72 elements…\n  :fluxes                       => ConstraintTrees.Tree{Float64}(#= 95 elements…\n  :minimal_adjustment_objective => 4937.56\n  :objective                    => 0.241497"
     },
     "metadata": {},
     "execution_count": 10
    }
   ],
   "cell_type": "code",
   "source": [
    "ref = parsimonious_flux_balance_analysis(ecoli, optimizer = Clarabel.Optimizer)\n",
    "\n",
    "ref_closest_solution = metabolic_adjustment_minimization_analysis(\n",
    "    limited_ecoli,\n",
    "    ref.fluxes;\n",
    "    optimizer = Clarabel.Optimizer,\n",
    ")"
   ],
   "metadata": {},
   "execution_count": 10
  },
  {
   "cell_type": "markdown",
   "source": [
    "The flux may even be partial (which is common with measured fluxes):"
   ],
   "metadata": {}
  },
  {
   "outputs": [
    {
     "output_type": "execute_result",
     "data": {
      "text/plain": "ConstraintTrees.Tree{Float64} with 5 elements:\n  :coupling                     => ConstraintTrees.Tree{Float64}(#= 0 elements …\n  :flux_stoichiometry           => ConstraintTrees.Tree{Float64}(#= 72 elements…\n  :fluxes                       => ConstraintTrees.Tree{Float64}(#= 95 elements…\n  :minimal_adjustment_objective => 0.183188\n  :objective                    => 0.272247"
     },
     "metadata": {},
     "execution_count": 11
    }
   ],
   "cell_type": "code",
   "source": [
    "measured_fluxes =\n",
    "    C.Tree{Float64}(:EX_ac_e => 5.0, :EX_o2_e => -2.0, :BIOMASS_Ecoli_core_w_GAM => 0.7)\n",
    "\n",
    "solution_close_to_measurement = metabolic_adjustment_minimization_analysis(\n",
    "    limited_ecoli,\n",
    "    measured_fluxes;\n",
    "    optimizer = Clarabel.Optimizer,\n",
    ")"
   ],
   "metadata": {},
   "execution_count": 11
  },
  {
   "cell_type": "markdown",
   "source": [
    "## Efficient linear-metric MOMA\n",
    "\n",
    "The linear version of MOMA avoids having to use the quadratic optimizer in\n",
    "the process, giving more optimizer choices and (typically) much better\n",
    "performance. Linear MOMA has the same interface as the quadratic one:"
   ],
   "metadata": {}
  },
  {
   "outputs": [
    {
     "output_type": "execute_result",
     "data": {
      "text/plain": "95-element Vector{Pair{Symbol, Union{Float64, ConstraintTrees.Tree{Float64}}}}:\n         :PGK => -15.434651933306435\n         :PGM => -15.106655803899905\n        :H2Ot => -11.54994054300062\n        :CO2t => -8.778386666898754\n :EX_glc__D_e => -8.322012190986193\n       :ACALD => -5.755385239519781\n      :ALCD2x => -5.755385239519781\n     :ETOHt2r => -5.755385239519781\n     :EX_o2_e => -5.0\n    :EX_nh4_e => -3.664419001773459\n              ⋮\n    :EX_co2_e => 8.778386666898754\n         :PDH => 9.282532599166617\n       :CYTBD => 10.0\n    :EX_h2o_e => 11.54994054300062\n      :NADH16 => 11.99204468413819\n      :ATPS4r => 12.020451381843891\n      :EX_h_e => 13.32001812519156\n         :ENO => 15.106655803899905\n        :GAPD => 15.434651933306435"
     },
     "metadata": {},
     "execution_count": 12
    }
   ],
   "cell_type": "code",
   "source": [
    "linear_moma_solution = linear_metabolic_adjustment_minimization_analysis(\n",
    "    limited_ecoli,\n",
    "    ecoli;\n",
    "    optimizer = HiGHS.Optimizer,\n",
    ")\n",
    "\n",
    "sort(collect(linear_moma_solution.fluxes), by = last)"
   ],
   "metadata": {},
   "execution_count": 12
  },
  {
   "cell_type": "markdown",
   "source": [
    "How much does the flux distribution differ from the L2 solution?"
   ],
   "metadata": {}
  },
  {
   "outputs": [
    {
     "output_type": "execute_result",
     "data": {
      "text/plain": "95-element Vector{Pair{Symbol, Union{Float64, ConstraintTrees.Tree{Float64}}}}:\n        :GAPD => -2.217421474277627\n         :ENO => -2.1841385417330486\n  :EX_acald_e => -1.9243624065292773\n      :EX_h_e => -1.7636376825707192\n         :PDH => -1.3871400070221949\n      :GLCpts => -1.1700704237440558\n      :SUCCt3 => -1.0914174611276102\n   :EX_succ_e => -1.0914174609219507\n      :NADH16 => -1.0914174606140925\n         :PFK => -1.0843627573828956\n              ⋮\n         :FUM => 1.0914174606586302\n         :MDH => 1.0914174620392267\n :EX_glc__D_e => 1.1700704237440576\n       :ACALD => 1.7125013840399266\n      :ACALDt => 1.9243624065292788\n         :PGM => 2.184138541733045\n         :PGK => 2.2174214742776375\n        :FRD7 => 2.982501375979094\n       :SUCDi => 4.073918836637732"
     },
     "metadata": {},
     "execution_count": 13
    }
   ],
   "cell_type": "code",
   "source": [
    "sort(\n",
    "    collect(C.zip(-, linear_moma_solution.fluxes, moma_solution.fluxes, Float64)),\n",
    "    by = last,\n",
    ")"
   ],
   "metadata": {},
   "execution_count": 13
  },
  {
   "cell_type": "markdown",
   "source": [
    "---\n",
    "\n",
    "*This notebook was generated using [Literate.jl](https://github.com/fredrikekre/Literate.jl).*"
   ],
   "metadata": {}
  }
 ],
 "nbformat_minor": 3,
 "metadata": {
  "language_info": {
   "file_extension": ".jl",
   "mimetype": "application/julia",
   "name": "julia",
   "version": "1.11.6"
  },
  "kernelspec": {
   "name": "julia-1.11",
   "display_name": "Julia 1.11.6",
   "language": "julia"
  }
 },
 "nbformat": 4
}
