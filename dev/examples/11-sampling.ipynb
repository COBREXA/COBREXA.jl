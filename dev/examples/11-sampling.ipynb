{
 "cells": [
  {
   "cell_type": "markdown",
   "source": [
    "# Flux sampling"
   ],
   "metadata": {}
  },
  {
   "outputs": [
    {
     "name": "stdout",
     "output_type": "stream",
     "text": [
      "[ Info: using cached `e_coli_core.json'\n"
     ]
    },
    {
     "output_type": "execute_result",
     "data": {
      "text/plain": "JSONFBCModels.JSONFBCModel(#= 95 reactions, 72 metabolites =#)"
     },
     "metadata": {},
     "execution_count": 1
    }
   ],
   "cell_type": "code",
   "source": [
    "using COBREXA\n",
    "\n",
    "download_model(\n",
    "    \"http://bigg.ucsd.edu/static/models/e_coli_core.json\",\n",
    "    \"e_coli_core.json\",\n",
    "    \"7bedec10576cfe935b19218dc881f3fb14f890a1871448fc19a9b4ee15b448d8\",\n",
    ")\n",
    "\n",
    "import JSONFBCModels, GLPK\n",
    "\n",
    "model = load_model(\"e_coli_core.json\")"
   ],
   "metadata": {},
   "execution_count": 1
  },
  {
   "cell_type": "markdown",
   "source": [
    "note here: this needs the optimizer to generate warmup. If you have warmup,\n",
    "you can do without one."
   ],
   "metadata": {}
  },
  {
   "outputs": [
    {
     "output_type": "execute_result",
     "data": {
      "text/plain": "ConstraintTrees.Tree{Vector{Float64}} with 95 elements:\n  :ACALD                    => [-0.0211258, -0.0156411, -0.0171776, -0.0100984,…\n  :ACALDt                   => [-0.0115926, -0.00802835, -0.00714944, -0.000423…\n  :ACKr                     => [-0.0212152, -0.0101709, -0.0208574, -0.030882, …\n  :ACONTa                   => [6.09427, 5.70655, 6.08137, 5.89252, 5.94172, 6.…\n  :ACONTb                   => [6.09427, 5.70655, 6.08137, 5.89252, 5.94172, 6.…\n  :ACt2r                    => [-0.0212152, -0.0101709, -0.0208574, -0.030882, …\n  :ADK1                     => [0.0206508, 0.0104322, 0.0196937, 0.0128059, 0.0…\n  :AKGDH                    => [4.68794, 3.93904, 4.67734, 4.07369, 4.62924, 4.…\n  :AKGt2r                   => [-0.00164686, -0.00223351, -0.00187283, -0.00090…\n  :ALCD2x                   => [-0.00953322, -0.00761273, -0.0100282, -0.009675…\n  :ATPM                     => [8.40058, 8.40963, 8.40244, 8.39639, 8.40736, 8.…\n  :ATPS4r                   => [45.1721, 46.177, 45.2528, 45.4304, 45.63, 44.91…\n  :BIOMASS_Ecoli_core_w_GAM => [0.865976, 0.86598, 0.866028, 0.86561, 0.86577, …\n  :CO2t                     => [-22.9125, -22.9686, -22.9166, -22.9746, -22.877…\n  :CS                       => [6.09427, 5.70655, 6.08137, 5.89252, 5.94172, 6.…\n  :CYTBD                    => [43.8622, 43.9714, 43.8745, 43.9769, 43.7791, 43…\n  :D_LACt2                  => [-0.00835221, -0.00602932, -0.00840602, -0.00329…\n  :ENO                      => [14.7849, 14.3773, 14.7684, 14.5712, 14.6616, 14…\n  :ETOHt2r                  => [-0.00953322, -0.00761273, -0.0100282, -0.009675…\n  ⋮                         => ⋮"
     },
     "metadata": {},
     "execution_count": 2
    }
   ],
   "cell_type": "code",
   "source": [
    "s = flux_sample(\n",
    "    model,\n",
    "    optimizer = GLPK.Optimizer,\n",
    "    objective_bound = relative_tolerance_bound(0.99),\n",
    "    n_chains = 2,\n",
    "    collect_iterations = [10],\n",
    ")"
   ],
   "metadata": {},
   "execution_count": 2
  },
  {
   "cell_type": "markdown",
   "source": [
    "---\n",
    "\n",
    "*This notebook was generated using [Literate.jl](https://github.com/fredrikekre/Literate.jl).*"
   ],
   "metadata": {}
  }
 ],
 "nbformat_minor": 3,
 "metadata": {
  "language_info": {
   "file_extension": ".jl",
   "mimetype": "application/julia",
   "name": "julia",
   "version": "1.9.4"
  },
  "kernelspec": {
   "name": "julia-1.9",
   "display_name": "Julia 1.9.4",
   "language": "julia"
  }
 },
 "nbformat": 4
}
