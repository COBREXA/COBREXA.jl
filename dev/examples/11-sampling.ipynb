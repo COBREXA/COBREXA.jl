{
 "cells": [
  {
   "cell_type": "markdown",
   "source": [
    "# Flux sampling"
   ],
   "metadata": {}
  },
  {
   "outputs": [
    {
     "name": "stdout",
     "output_type": "stream",
     "text": [
      "[ Info: using cached `e_coli_core.json'\n"
     ]
    },
    {
     "output_type": "execute_result",
     "data": {
      "text/plain": "JSONFBCModels.JSONFBCModel(#= 95 reactions, 72 metabolites =#)"
     },
     "metadata": {},
     "execution_count": 1
    }
   ],
   "cell_type": "code",
   "source": [
    "using COBREXA\n",
    "\n",
    "download_model(\n",
    "    \"http://bigg.ucsd.edu/static/models/e_coli_core.json\",\n",
    "    \"e_coli_core.json\",\n",
    "    \"7bedec10576cfe935b19218dc881f3fb14f890a1871448fc19a9b4ee15b448d8\",\n",
    ")\n",
    "\n",
    "import JSONFBCModels, GLPK\n",
    "\n",
    "model = load_model(\"e_coli_core.json\")"
   ],
   "metadata": {},
   "execution_count": 1
  },
  {
   "cell_type": "markdown",
   "source": [
    "note here: this needs the optimizer to generate warmup. If you have warmup,\n",
    "you can do without one."
   ],
   "metadata": {}
  },
  {
   "outputs": [
    {
     "output_type": "execute_result",
     "data": {
      "text/plain": "ConstraintTrees.Tree{Vector{Float64}} with 95 elements:\n  :ACALD                    => [-0.0180731, -0.0142794, -0.0173126, -0.0176325,…\n  :ACALDt                   => [-0.00508931, -0.00318181, -0.00522915, -0.00520…\n  :ACKr                     => [-0.0232554, -0.0231431, -0.0232701, -0.0241578,…\n  :ACONTa                   => [6.06224, 6.07268, 6.10128, 6.163, 6.1021, 5.920…\n  :ACONTb                   => [6.06224, 6.07268, 6.10128, 6.163, 6.1021, 5.920…\n  :ACt2r                    => [-0.0232554, -0.0231431, -0.0232701, -0.0241578,…\n  :ADK1                     => [0.0425078, 0.0426986, 0.0418451, 0.0450547, 0.0…\n  :AKGDH                    => [4.74056, 4.52199, 4.75115, 4.90088, 4.70039, 4.…\n  :AKGt2r                   => [-0.00277731, -0.0017371, -0.00249611, -0.002579…\n  :ALCD2x                   => [-0.0129838, -0.0110976, -0.0120835, -0.0124271,…\n  :ATPM                     => [8.42085, 8.40122, 8.41505, 8.41269, 8.40382, 8.…\n  :ATPS4r                   => [45.2755, 45.1478, 45.1861, 45.0729, 45.1293, 45…\n  :BIOMASS_Ecoli_core_w_GAM => [0.865888, 0.865984, 0.865898, 0.866003, 0.86596…\n  :CO2t                     => [-22.8905, -22.9217, -22.8981, -22.8834, -22.894…\n  :CS                       => [6.06224, 6.07268, 6.10128, 6.163, 6.1021, 5.920…\n  :CYTBD                    => [43.8286, 43.8996, 43.8466, 43.8248, 43.8485, 43…\n  :D_LACt2                  => [-0.00956178, -0.00767783, -0.00813112, -0.00850…\n  :ENO                      => [14.7581, 14.7555, 14.7939, 14.8573, 14.7942, 14…\n  :ETOHt2r                  => [-0.0129838, -0.0110976, -0.0120835, -0.0124271,…\n  ⋮                         => ⋮"
     },
     "metadata": {},
     "execution_count": 2
    }
   ],
   "cell_type": "code",
   "source": [
    "s = flux_sample(\n",
    "    model,\n",
    "    optimizer = GLPK.Optimizer,\n",
    "    objective_bound = relative_tolerance_bound(0.99),\n",
    "    n_chains = 2,\n",
    "    collect_iterations = [10],\n",
    ")"
   ],
   "metadata": {},
   "execution_count": 2
  },
  {
   "cell_type": "markdown",
   "source": [
    "---\n",
    "\n",
    "*This notebook was generated using [Literate.jl](https://github.com/fredrikekre/Literate.jl).*"
   ],
   "metadata": {}
  }
 ],
 "nbformat_minor": 3,
 "metadata": {
  "language_info": {
   "file_extension": ".jl",
   "mimetype": "application/julia",
   "name": "julia",
   "version": "1.9.4"
  },
  "kernelspec": {
   "name": "julia-1.9",
   "display_name": "Julia 1.9.4",
   "language": "julia"
  }
 },
 "nbformat": 4
}
