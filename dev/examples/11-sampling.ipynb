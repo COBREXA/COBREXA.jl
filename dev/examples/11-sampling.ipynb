{
 "cells": [
  {
   "cell_type": "markdown",
   "source": [
    "# Flux sampling"
   ],
   "metadata": {}
  },
  {
   "outputs": [
    {
     "name": "stdout",
     "output_type": "stream",
     "text": [
      "[ Info: using cached `e_coli_core.json'\n"
     ]
    },
    {
     "output_type": "execute_result",
     "data": {
      "text/plain": "JSONFBCModels.JSONFBCModel(#= 95 reactions, 72 metabolites =#)"
     },
     "metadata": {},
     "execution_count": 1
    }
   ],
   "cell_type": "code",
   "source": [
    "using COBREXA\n",
    "\n",
    "download_model(\n",
    "    \"http://bigg.ucsd.edu/static/models/e_coli_core.json\",\n",
    "    \"e_coli_core.json\",\n",
    "    \"7bedec10576cfe935b19218dc881f3fb14f890a1871448fc19a9b4ee15b448d8\",\n",
    ")\n",
    "\n",
    "import JSONFBCModels, GLPK\n",
    "\n",
    "model = load_model(\"e_coli_core.json\")"
   ],
   "metadata": {},
   "execution_count": 1
  },
  {
   "cell_type": "markdown",
   "source": [
    "note here: this needs the optimizer to generate warmup. If you have warmup,\n",
    "you can do without one."
   ],
   "metadata": {}
  },
  {
   "outputs": [
    {
     "output_type": "execute_result",
     "data": {
      "text/plain": "ConstraintTrees.Tree{Vector{Float64}} with 95 elements:\n  :ACALD                    => [-0.018768, -0.0228834, -0.0337671, -0.0129794, …\n  :ACALDt                   => [-0.00648946, -0.00432408, -0.0108305, -0.002733…\n  :ACKr                     => [-0.0186553, -0.014729, -0.0158394, -0.0225155, …\n  :ACONTa                   => [6.12094, 6.14584, 6.15446, 6.07815, 6.11009, 6.…\n  :ACONTb                   => [6.12094, 6.14584, 6.15446, 6.07815, 6.11009, 6.…\n  :ACt2r                    => [-0.0186553, -0.014729, -0.0158394, -0.0225155, …\n  :ADK1                     => [0.0533651, 0.206338, 0.0305086, 0.0628369, 0.07…\n  :AKGDH                    => [4.7102, 5.07909, 4.8325, 4.67347, 4.75585, 4.70…\n  :AKGt2r                   => [-0.00362072, -0.0118053, -0.00574596, -0.003362…\n  :ALCD2x                   => [-0.0122785, -0.0185593, -0.0229365, -0.0102458,…\n  :ATPM                     => [8.3961, 8.3947, 8.39295, 8.39461, 8.39542, 8.39…\n  :ATPS4r                   => [45.0957, 45.2746, 45.0288, 45.2016, 45.1512, 45…\n  :BIOMASS_Ecoli_core_w_GAM => [0.865894, 0.865395, 0.865741, 0.865869, 0.86586…\n  :CO2t                     => [-22.917, -22.9107, -22.9148, -22.9043, -22.9005…\n  :CS                       => [6.12094, 6.14584, 6.15446, 6.07815, 6.11009, 6.…\n  :CYTBD                    => [43.8769, 43.8284, 43.8454, 43.8597, 43.8506, 43…\n  :D_LACt2                  => [-0.00823124, -0.00939516, -0.00849472, -0.00912…\n  :ENO                      => [14.8075, 14.8442, 14.8517, 14.7673, 14.7998, 14…\n  :ETOHt2r                  => [-0.0122785, -0.0185593, -0.0229365, -0.0102458,…\n  ⋮                         => ⋮"
     },
     "metadata": {},
     "execution_count": 2
    }
   ],
   "cell_type": "code",
   "source": [
    "s = flux_sample(\n",
    "    model,\n",
    "    optimizer = GLPK.Optimizer,\n",
    "    objective_bound = relative_tolerance_bound(0.99),\n",
    "    n_chains = 2,\n",
    "    collect_iterations = [10],\n",
    ")"
   ],
   "metadata": {},
   "execution_count": 2
  },
  {
   "cell_type": "markdown",
   "source": [
    "---\n",
    "\n",
    "*This notebook was generated using [Literate.jl](https://github.com/fredrikekre/Literate.jl).*"
   ],
   "metadata": {}
  }
 ],
 "nbformat_minor": 3,
 "metadata": {
  "language_info": {
   "file_extension": ".jl",
   "mimetype": "application/julia",
   "name": "julia",
   "version": "1.9.4"
  },
  "kernelspec": {
   "name": "julia-1.9",
   "display_name": "Julia 1.9.4",
   "language": "julia"
  }
 },
 "nbformat": 4
}
