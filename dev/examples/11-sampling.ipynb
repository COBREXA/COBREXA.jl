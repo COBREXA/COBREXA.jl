{
 "cells": [
  {
   "cell_type": "markdown",
   "source": [
    "# Flux sampling"
   ],
   "metadata": {}
  },
  {
   "outputs": [
    {
     "name": "stdout",
     "output_type": "stream",
     "text": [
      "[ Info: using cached `e_coli_core.json'\n"
     ]
    },
    {
     "output_type": "execute_result",
     "data": {
      "text/plain": "JSONFBCModels.JSONFBCModel(#= 95 reactions, 72 metabolites =#)"
     },
     "metadata": {},
     "execution_count": 1
    }
   ],
   "cell_type": "code",
   "source": [
    "using COBREXA\n",
    "\n",
    "download_model(\n",
    "    \"http://bigg.ucsd.edu/static/models/e_coli_core.json\",\n",
    "    \"e_coli_core.json\",\n",
    "    \"7bedec10576cfe935b19218dc881f3fb14f890a1871448fc19a9b4ee15b448d8\",\n",
    ")\n",
    "\n",
    "import JSONFBCModels, GLPK\n",
    "\n",
    "model = load_model(\"e_coli_core.json\")"
   ],
   "metadata": {},
   "execution_count": 1
  },
  {
   "cell_type": "markdown",
   "source": [
    "note here: this needs the optimizer to generate warmup. If you have warmup,\n",
    "you can do without one."
   ],
   "metadata": {}
  },
  {
   "outputs": [
    {
     "output_type": "execute_result",
     "data": {
      "text/plain": "ConstraintTrees.Tree{Vector{Float64}} with 95 elements:\n  :ACALD                    => [-0.014279, -0.0104195, -0.0470905, -0.0121532, …\n  :ACALDt                   => [-0.00719529, -0.00616145, -0.0397614, -0.007049…\n  :ACKr                     => [-0.020412, -0.0205795, -0.0149316, -0.0198132, …\n  :ACONTa                   => [6.06031, 6.01372, 6.05829, 6.03158, 6.0025, 6.1…\n  :ACONTb                   => [6.06031, 6.01372, 6.05829, 6.03158, 6.0025, 6.1…\n  :ACt2r                    => [-0.020412, -0.0205795, -0.0149316, -0.0198132, …\n  :ADK1                     => [0.0343757, 0.0354227, 0.0240563, 0.0426408, 0.0…\n  :AKGDH                    => [4.62468, 4.49943, 4.70101, 4.54808, 4.56748, 4.…\n  :AKGt2r                   => [-0.00111805, -0.00112376, -0.00120741, -0.00100…\n  :ALCD2x                   => [-0.0070837, -0.00425802, -0.00732909, -0.005103…\n  :ATPM                     => [8.42983, 8.44742, 8.39751, 8.44325, 8.48867, 8.…\n  :ATPS4r                   => [45.2707, 45.404, 45.1532, 45.368, 45.5175, 45.1…\n  :BIOMASS_Ecoli_core_w_GAM => [0.866006, 0.865974, 0.865866, 0.865911, 0.8658,…\n  :CO2t                     => [-22.9016, -22.9132, -22.8722, -22.8909, -22.898…\n  :CS                       => [6.06031, 6.01372, 6.05829, 6.03158, 6.0025, 6.1…\n  :CYTBD                    => [43.8618, 43.8888, 43.7639, 43.8549, 43.8713, 43…\n  :D_LACt2                  => [-0.0103757, -0.0100215, -0.00719133, -0.0097694…\n  :ENO                      => [14.7463, 14.6956, 14.7671, 14.7177, 14.6882, 14…\n  :ETOHt2r                  => [-0.0070837, -0.00425802, -0.00732909, -0.005103…\n  ⋮                         => ⋮"
     },
     "metadata": {},
     "execution_count": 2
    }
   ],
   "cell_type": "code",
   "source": [
    "s = flux_sample(\n",
    "    model,\n",
    "    optimizer = GLPK.Optimizer,\n",
    "    objective_bound = relative_tolerance_bound(0.99),\n",
    "    n_chains = 2,\n",
    "    collect_iterations = [10],\n",
    ")"
   ],
   "metadata": {},
   "execution_count": 2
  },
  {
   "cell_type": "markdown",
   "source": [
    "---\n",
    "\n",
    "*This notebook was generated using [Literate.jl](https://github.com/fredrikekre/Literate.jl).*"
   ],
   "metadata": {}
  }
 ],
 "nbformat_minor": 3,
 "metadata": {
  "language_info": {
   "file_extension": ".jl",
   "mimetype": "application/julia",
   "name": "julia",
   "version": "1.9.4"
  },
  "kernelspec": {
   "name": "julia-1.9",
   "display_name": "Julia 1.9.4",
   "language": "julia"
  }
 },
 "nbformat": 4
}
