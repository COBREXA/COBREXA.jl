{
 "cells": [
  {
   "cell_type": "markdown",
   "source": [
    "# Flux sampling (TODO)"
   ],
   "metadata": {}
  },
  {
   "outputs": [
    {
     "name": "stdout",
     "output_type": "stream",
     "text": [
      "[ Info: using cached `e_coli_core.json'\n"
     ]
    },
    {
     "output_type": "execute_result",
     "data": {
      "text/plain": "JSONFBCModels.JSONFBCModel(#= 95 reactions, 72 metabolites =#)"
     },
     "metadata": {},
     "execution_count": 1
    }
   ],
   "cell_type": "code",
   "source": [
    "using COBREXA\n",
    "\n",
    "download_model(\n",
    "    \"http://bigg.ucsd.edu/static/models/e_coli_core.json\",\n",
    "    \"e_coli_core.json\",\n",
    "    \"7bedec10576cfe935b19218dc881f3fb14f890a1871448fc19a9b4ee15b448d8\",\n",
    ")\n",
    "\n",
    "import JSONFBCModels, GLPK\n",
    "\n",
    "model = load_model(\"e_coli_core.json\")"
   ],
   "metadata": {},
   "execution_count": 1
  },
  {
   "cell_type": "markdown",
   "source": [
    "note here: this needs the optimizer to generate warmup. If we have warmup,\n",
    "we can do without the optimizer"
   ],
   "metadata": {}
  },
  {
   "outputs": [
    {
     "output_type": "execute_result",
     "data": {
      "text/plain": "ConstraintTrees.Tree{Vector{Float64}} with 95 elements:\n  :ACALD                    => [-0.0985295, -0.0109417, -0.170292, -0.0160127, …\n  :ACALDt                   => [-0.0928627, -0.00278319, -0.166375, -0.00613312…\n  :ACKr                     => [-0.00903141, -0.0112417, -0.00672335, -0.014963…\n  :ACONTa                   => [6.06512, 5.91402, 5.91357, 6.11059, 6.14604, 5.…\n  :ACONTb                   => [6.06512, 5.91402, 5.91357, 6.11059, 6.14604, 5.…\n  :ACt2r                    => [-0.00903141, -0.0112417, -0.00672335, -0.014963…\n  :ADK1                     => [0.00619613, 0.0568085, 0.00553959, 0.045511, 0.…\n  :AKGDH                    => [4.77998, 4.12387, 4.70866, 4.68649, 4.70703, 4.…\n  :AKGt2r                   => [-0.000656758, -0.00227215, -0.000459795, -0.002…\n  :ALCD2x                   => [-0.0056668, -0.00815849, -0.0039169, -0.0098796…\n  :ATPM                     => [8.39162, 8.4006, 8.39308, 8.40503, 8.41704, 8.3…\n  :ATPS4r                   => [44.9869, 45.4904, 45.1328, 45.1492, 45.0805, 45…\n  :BIOMASS_Ecoli_core_w_GAM => [0.865764, 0.86566, 0.865464, 0.865902, 0.86584,…\n  :CO2t                     => [-22.8515, -22.9912, -22.7534, -22.9254, -22.949…\n  :CS                       => [6.06512, 5.91402, 5.91357, 6.11059, 6.14604, 5.…\n  :CYTBD                    => [43.6444, 44.0105, 43.3629, 43.8968, 43.9518, 43…\n  :D_LACt2                  => [-0.00461307, -0.00847704, -0.00471132, -0.00898…\n  :ENO                      => [14.8101, 14.5807, 14.7228, 14.7907, 14.8155, 14…\n  :ETOHt2r                  => [-0.0056668, -0.00815849, -0.0039169, -0.0098796…\n  ⋮                         => ⋮"
     },
     "metadata": {},
     "execution_count": 2
    }
   ],
   "cell_type": "code",
   "source": [
    "s = flux_sample(\n",
    "    model,\n",
    "    optimizer = GLPK.Optimizer,\n",
    "    objective_bound = relative_tolerance_bound(0.99),\n",
    "    n_chains = 2,\n",
    "    collect_iterations = [10],\n",
    ")"
   ],
   "metadata": {},
   "execution_count": 2
  },
  {
   "cell_type": "markdown",
   "source": [
    "---\n",
    "\n",
    "*This notebook was generated using [Literate.jl](https://github.com/fredrikekre/Literate.jl).*"
   ],
   "metadata": {}
  }
 ],
 "nbformat_minor": 3,
 "metadata": {
  "language_info": {
   "file_extension": ".jl",
   "mimetype": "application/julia",
   "name": "julia",
   "version": "1.9.4"
  },
  "kernelspec": {
   "name": "julia-1.9",
   "display_name": "Julia 1.9.4",
   "language": "julia"
  }
 },
 "nbformat": 4
}
