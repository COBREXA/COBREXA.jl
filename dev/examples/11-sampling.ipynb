{
 "cells": [
  {
   "cell_type": "markdown",
   "source": [
    "# Flux sampling"
   ],
   "metadata": {}
  },
  {
   "outputs": [
    {
     "name": "stdout",
     "output_type": "stream",
     "text": [
      "[ Info: using cached `e_coli_core.json'\n"
     ]
    },
    {
     "output_type": "execute_result",
     "data": {
      "text/plain": "JSONFBCModels.JSONFBCModel(#= 95 reactions, 72 metabolites =#)"
     },
     "metadata": {},
     "execution_count": 1
    }
   ],
   "cell_type": "code",
   "source": [
    "using COBREXA\n",
    "\n",
    "download_model(\n",
    "    \"http://bigg.ucsd.edu/static/models/e_coli_core.json\",\n",
    "    \"e_coli_core.json\",\n",
    "    \"7bedec10576cfe935b19218dc881f3fb14f890a1871448fc19a9b4ee15b448d8\",\n",
    ")\n",
    "\n",
    "import JSONFBCModels, GLPK\n",
    "\n",
    "model = load_model(\"e_coli_core.json\")"
   ],
   "metadata": {},
   "execution_count": 1
  },
  {
   "cell_type": "markdown",
   "source": [
    "note here: this needs the optimizer to generate warmup. If you have warmup,\n",
    "you can do without one."
   ],
   "metadata": {}
  },
  {
   "outputs": [
    {
     "output_type": "execute_result",
     "data": {
      "text/plain": "ConstraintTrees.Tree{Vector{Float64}} with 95 elements:\n  :ACALD                    => [-0.0192581, -0.0150693, -0.0150208, -0.0148887,…\n  :ACALDt                   => [-0.00871242, -0.00599656, -0.00464829, -0.00373…\n  :ACKr                     => [-0.0238614, -0.0188052, -0.023328, -0.0236657, …\n  :ACONTa                   => [5.97875, 6.13399, 6.07834, 6.12575, 6.08218, 5.…\n  :ACONTb                   => [5.97875, 6.13399, 6.07834, 6.12575, 6.08218, 5.…\n  :ACt2r                    => [-0.0238614, -0.0188052, -0.023328, -0.0236657, …\n  :ADK1                     => [0.0313457, 0.0382232, 0.0403864, 0.0349313, 0.0…\n  :AKGDH                    => [4.5903, 4.65971, 4.65264, 4.76413, 4.6607, 4.47…\n  :AKGt2r                   => [-0.00614461, -0.000811005, -0.00283281, -0.0025…\n  :ALCD2x                   => [-0.0105457, -0.00907279, -0.0103725, -0.0111564…\n  :ATPM                     => [8.40454, 8.39667, 8.4004, 8.39997, 8.3996, 8.40…\n  :ATPS4r                   => [45.3073, 45.1006, 45.1593, 45.1078, 45.159, 45.…\n  :BIOMASS_Ecoli_core_w_GAM => [0.865746, 0.865982, 0.86588, 0.865966, 0.865888…\n  :CO2t                     => [-22.8452, -22.9354, -22.8874, -22.8845, -22.883…\n  :CS                       => [5.97875, 6.13399, 6.07834, 6.12575, 6.08218, 5.…\n  :CYTBD                    => [43.7815, 43.9118, 43.8424, 43.8351, 43.8384, 43…\n  :D_LACt2                  => [-0.00617649, -0.00862974, -0.00757319, -0.00807…\n  :ENO                      => [14.6722, 14.8164, 14.7674, 14.8159, 14.7707, 14…\n  :ETOHt2r                  => [-0.0105457, -0.00907279, -0.0103725, -0.0111564…\n  ⋮                         => ⋮"
     },
     "metadata": {},
     "execution_count": 2
    }
   ],
   "cell_type": "code",
   "source": [
    "s = flux_sample(\n",
    "    model,\n",
    "    optimizer = GLPK.Optimizer,\n",
    "    objective_bound = relative_tolerance_bound(0.99),\n",
    "    n_chains = 2,\n",
    "    collect_iterations = [10],\n",
    ")"
   ],
   "metadata": {},
   "execution_count": 2
  },
  {
   "cell_type": "markdown",
   "source": [
    "---\n",
    "\n",
    "*This notebook was generated using [Literate.jl](https://github.com/fredrikekre/Literate.jl).*"
   ],
   "metadata": {}
  }
 ],
 "nbformat_minor": 3,
 "metadata": {
  "language_info": {
   "file_extension": ".jl",
   "mimetype": "application/julia",
   "name": "julia",
   "version": "1.9.4"
  },
  "kernelspec": {
   "name": "julia-1.9",
   "display_name": "Julia 1.9.4",
   "language": "julia"
  }
 },
 "nbformat": 4
}
