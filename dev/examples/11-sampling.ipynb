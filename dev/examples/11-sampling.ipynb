{
 "cells": [
  {
   "cell_type": "markdown",
   "source": [
    "# Flux sampling"
   ],
   "metadata": {}
  },
  {
   "outputs": [
    {
     "name": "stdout",
     "output_type": "stream",
     "text": [
      "[ Info: using cached `e_coli_core.json'\n"
     ]
    },
    {
     "output_type": "execute_result",
     "data": {
      "text/plain": "JSONFBCModels.JSONFBCModel(#= 95 reactions, 72 metabolites =#)"
     },
     "metadata": {},
     "execution_count": 1
    }
   ],
   "cell_type": "code",
   "source": [
    "using COBREXA\n",
    "\n",
    "download_model(\n",
    "    \"http://bigg.ucsd.edu/static/models/e_coli_core.json\",\n",
    "    \"e_coli_core.json\",\n",
    "    \"7bedec10576cfe935b19218dc881f3fb14f890a1871448fc19a9b4ee15b448d8\",\n",
    ")\n",
    "\n",
    "import JSONFBCModels, GLPK\n",
    "\n",
    "model = load_model(\"e_coli_core.json\")"
   ],
   "metadata": {},
   "execution_count": 1
  },
  {
   "cell_type": "markdown",
   "source": [
    "note here: this needs the optimizer to generate warmup. If you have warmup,\n",
    "you can do without one."
   ],
   "metadata": {}
  },
  {
   "outputs": [
    {
     "output_type": "execute_result",
     "data": {
      "text/plain": "ConstraintTrees.Tree{Vector{Float64}} with 95 elements:\n  :ACALD                    => [-0.0165173, -0.0139123, -0.0148539, -0.0131271,…\n  :ACALDt                   => [-0.0101401, -0.00644944, -0.00703735, -0.004648…\n  :ACKr                     => [-0.0222723, -0.0240976, -0.0219713, -0.0183799,…\n  :ACONTa                   => [6.21455, 5.9188, 6.09564, 6.14439, 6.12885, 6.1…\n  :ACONTb                   => [6.21455, 5.9188, 6.09564, 6.14439, 6.12885, 6.1…\n  :ACt2r                    => [-0.0222723, -0.0240976, -0.0219713, -0.0183799,…\n  :ADK1                     => [0.0396014, 0.0423549, 0.0462186, 0.0397015, 0.0…\n  :AKGDH                    => [4.97104, 4.38833, 4.75577, 4.69281, 4.84169, 4.…\n  :AKGt2r                   => [-0.00139976, -0.00211709, -0.0025675, -0.001406…\n  :ALCD2x                   => [-0.00637723, -0.00746286, -0.00781655, -0.00847…\n  :ATPM                     => [8.42915, 8.41176, 8.41647, 8.40608, 8.41463, 8.…\n  :ATPS4r                   => [44.8926, 45.5067, 45.1703, 45.0465, 44.9201, 45…\n  :BIOMASS_Ecoli_core_w_GAM => [0.86582, 0.865772, 0.86577, 0.86589, 0.865642, …\n  :CO2t                     => [-22.9051, -22.9148, -22.9116, -22.9482, -22.871…\n  :CS                       => [6.21455, 5.9188, 6.09564, 6.14439, 6.12885, 6.1…\n  :CYTBD                    => [43.8412, 43.8645, 43.8671, 43.9323, 43.791, 43.…\n  :D_LACt2                  => [-0.00897354, -0.0105096, -0.0093693, -0.0093467…\n  :ENO                      => [14.9073, 14.6079, 14.7833, 14.823, 14.8494, 14.…\n  :ETOHt2r                  => [-0.00637723, -0.00746286, -0.00781655, -0.00847…\n  ⋮                         => ⋮"
     },
     "metadata": {},
     "execution_count": 2
    }
   ],
   "cell_type": "code",
   "source": [
    "s = flux_sample(\n",
    "    model,\n",
    "    optimizer = GLPK.Optimizer,\n",
    "    objective_bound = relative_tolerance_bound(0.99),\n",
    "    n_chains = 2,\n",
    "    collect_iterations = [10],\n",
    ")"
   ],
   "metadata": {},
   "execution_count": 2
  },
  {
   "cell_type": "markdown",
   "source": [
    "---\n",
    "\n",
    "*This notebook was generated using [Literate.jl](https://github.com/fredrikekre/Literate.jl).*"
   ],
   "metadata": {}
  }
 ],
 "nbformat_minor": 3,
 "metadata": {
  "language_info": {
   "file_extension": ".jl",
   "mimetype": "application/julia",
   "name": "julia",
   "version": "1.9.4"
  },
  "kernelspec": {
   "name": "julia-1.9",
   "display_name": "Julia 1.9.4",
   "language": "julia"
  }
 },
 "nbformat": 4
}
