{
 "cells": [
  {
   "cell_type": "markdown",
   "source": [
    "# Flux sampling\n",
    "\n",
    "Flux sampling gives an interesting statistical insight into the behavior of\n",
    "the model in the optimal feasible space, and the general \"shape\" of the\n",
    "optimal- or near-optimal set of feasible states of a given model."
   ],
   "metadata": {}
  },
  {
   "cell_type": "markdown",
   "source": [
    "For demonstration, we need the usual packages and models:"
   ],
   "metadata": {}
  },
  {
   "outputs": [
    {
     "name": "stdout",
     "output_type": "stream",
     "text": [
      "[ Info: using cached `e_coli_core.json'\n"
     ]
    },
    {
     "output_type": "execute_result",
     "data": {
      "text/plain": "JSONFBCModels.JSONFBCModel(#= 95 reactions, 72 metabolites =#)"
     },
     "metadata": {},
     "execution_count": 1
    }
   ],
   "cell_type": "code",
   "source": [
    "using COBREXA\n",
    "\n",
    "download_model(\n",
    "    \"http://bigg.ucsd.edu/static/models/e_coli_core.json\",\n",
    "    \"e_coli_core.json\",\n",
    "    \"7bedec10576cfe935b19218dc881f3fb14f890a1871448fc19a9b4ee15b448d8\",\n",
    ")\n",
    "\n",
    "import JSONFBCModels, GLPK\n",
    "\n",
    "model = load_model(\"e_coli_core.json\")"
   ],
   "metadata": {},
   "execution_count": 1
  },
  {
   "cell_type": "markdown",
   "source": [
    "Function `flux_sample` uses linear optimization to generate a set of\n",
    "warm-up points (by default, the method to generate the warm-up is basically\n",
    "FVA), and then runs the hit-and-run flux sampling algorithm on the\n",
    "near-optimal feasible space of the model:"
   ],
   "metadata": {}
  },
  {
   "outputs": [
    {
     "output_type": "execute_result",
     "data": {
      "text/plain": "ConstraintTrees.Tree{Vector{Float64}} with 95 elements:\n  :ACALD                    => [-0.0562657, -0.016279, -0.0159375, -0.0160332, …\n  :ACALDt                   => [-0.0500337, -0.00919078, -0.00821, -0.00675599,…\n  :ACKr                     => [-0.0131222, -0.00514434, -0.0157941, -0.0166307…\n  :ACONTa                   => [6.04347, 5.97678, 6.05713, 6.19188, 5.93571, 6.…\n  :ACONTb                   => [6.04347, 5.97678, 6.05713, 6.19188, 5.93571, 6.…\n  :ACt2r                    => [-0.0131222, -0.00514434, -0.0157941, -0.0166307…\n  :ADK1                     => [0.0267904, 0.0713381, 0.0485818, 0.0512138, 0.0…\n  :AKGDH                    => [4.62143, 4.47512, 4.59367, 4.97922, 4.41909, 4.…\n  :AKGt2r                   => [-0.00127707, -0.0025666, -0.00141026, -0.001737…\n  :ALCD2x                   => [-0.00623199, -0.00708822, -0.00772748, -0.00927…\n  :ATPM                     => [8.4028, 8.40205, 8.40263, 8.40477, 8.41272, 8.3…\n  :ATPS4r                   => [45.1512, 45.5482, 45.2606, 45.0401, 45.4888, 45…\n  :BIOMASS_Ecoli_core_w_GAM => [0.86586, 0.865373, 0.865893, 0.86588, 0.865361,…\n  :CO2t                     => [-22.8797, -22.8863, -22.9134, -22.8745, -22.831…\n  :CS                       => [6.04347, 5.97678, 6.05713, 6.19188, 5.93571, 6.…\n  :CYTBD                    => [43.7606, 43.8554, 43.8761, 43.8133, 43.7307, 43…\n  :D_LACt2                  => [-0.00737212, -0.017197, -0.0125989, -0.0155, -0…\n  :ENO                      => [14.7574, 14.656, 14.7424, 14.8824, 14.6626, 14.…\n  :ETOHt2r                  => [-0.00623199, -0.00708822, -0.00772748, -0.00927…\n  ⋮                         => ⋮"
     },
     "metadata": {},
     "execution_count": 2
    }
   ],
   "cell_type": "code",
   "source": [
    "s = flux_sample(\n",
    "    model,\n",
    "    optimizer = GLPK.Optimizer,\n",
    "    objective_bound = relative_tolerance_bound(0.99),\n",
    "    n_chains = 2,\n",
    "    collect_iterations = [10],\n",
    ")"
   ],
   "metadata": {},
   "execution_count": 2
  },
  {
   "cell_type": "markdown",
   "source": [
    "The result is a tree of vectors of sampled states for each value; the order\n",
    "of the values in these vectors is fixed. You can thus e.g. create a good\n",
    "matrix for plotting the sample as 2D scatterplot:"
   ],
   "metadata": {}
  },
  {
   "outputs": [
    {
     "output_type": "execute_result",
     "data": {
      "text/plain": "380×2 Matrix{Float64}:\n 21.8803  -22.8797\n 21.9277  -22.8863\n 21.9381  -22.9134\n 21.9066  -22.8745\n 21.8654  -22.8311\n 21.9226  -22.9021\n 22.0036  -22.9852\n 21.9806  -22.9467\n 21.9236  -22.8919\n 21.9219  -22.8931\n  ⋮       \n 21.948   -22.9258\n 21.9363  -22.9154\n 21.9751  -22.9489\n 21.9331  -22.9113\n 21.9595  -22.9411\n 21.9644  -22.9457\n 21.9664  -22.9281\n 21.9324  -22.906\n 21.958   -22.9386"
     },
     "metadata": {},
     "execution_count": 3
    }
   ],
   "cell_type": "code",
   "source": [
    "[s.O2t s.CO2t]"
   ],
   "metadata": {},
   "execution_count": 3
  },
  {
   "cell_type": "markdown",
   "source": [
    "---\n",
    "\n",
    "*This notebook was generated using [Literate.jl](https://github.com/fredrikekre/Literate.jl).*"
   ],
   "metadata": {}
  }
 ],
 "nbformat_minor": 3,
 "metadata": {
  "language_info": {
   "file_extension": ".jl",
   "mimetype": "application/julia",
   "name": "julia",
   "version": "1.9.4"
  },
  "kernelspec": {
   "name": "julia-1.9",
   "display_name": "Julia 1.9.4",
   "language": "julia"
  }
 },
 "nbformat": 4
}
