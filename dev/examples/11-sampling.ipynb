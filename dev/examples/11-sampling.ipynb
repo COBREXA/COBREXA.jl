{
 "cells": [
  {
   "cell_type": "markdown",
   "source": [
    "# Flux sampling"
   ],
   "metadata": {}
  },
  {
   "outputs": [
    {
     "name": "stdout",
     "output_type": "stream",
     "text": [
      "[ Info: using cached `e_coli_core.json'\n"
     ]
    },
    {
     "output_type": "execute_result",
     "data": {
      "text/plain": "JSONFBCModels.JSONFBCModel(#= 95 reactions, 72 metabolites =#)"
     },
     "metadata": {},
     "execution_count": 1
    }
   ],
   "cell_type": "code",
   "source": [
    "using COBREXA\n",
    "\n",
    "download_model(\n",
    "    \"http://bigg.ucsd.edu/static/models/e_coli_core.json\",\n",
    "    \"e_coli_core.json\",\n",
    "    \"7bedec10576cfe935b19218dc881f3fb14f890a1871448fc19a9b4ee15b448d8\",\n",
    ")\n",
    "\n",
    "import JSONFBCModels, GLPK\n",
    "\n",
    "model = load_model(\"e_coli_core.json\")"
   ],
   "metadata": {},
   "execution_count": 1
  },
  {
   "cell_type": "markdown",
   "source": [
    "note here: this needs the optimizer to generate warmup. If you have warmup,\n",
    "you can do without one."
   ],
   "metadata": {}
  },
  {
   "outputs": [
    {
     "output_type": "execute_result",
     "data": {
      "text/plain": "ConstraintTrees.Tree{Vector{Float64}} with 95 elements:\n  :ACALD                    => [-0.014783, -0.0131768, -0.0142985, -0.0143346, …\n  :ACALDt                   => [-0.00475658, -0.00238195, -0.000984217, -0.0054…\n  :ACKr                     => [-0.0233453, -0.0214391, -0.0224015, -0.0215164,…\n  :ACONTa                   => [6.11953, 6.26672, 6.26141, 6.015, 6.11345, 6.09…\n  :ACONTb                   => [6.11953, 6.26672, 6.26141, 6.015, 6.11345, 6.09…\n  :ACt2r                    => [-0.0233453, -0.0214391, -0.0224015, -0.0215164,…\n  :ADK1                     => [0.0433812, 0.0457301, 0.0660523, 0.0389658, 0.0…\n  :AKGDH                    => [4.69719, 5.02622, 5.09782, 4.50013, 4.65023, 4.…\n  :AKGt2r                   => [-0.00169121, -0.00203126, -0.00338675, -0.00194…\n  :ALCD2x                   => [-0.0100264, -0.0107948, -0.0133142, -0.00892969…\n  :ATPM                     => [8.39795, 8.4013, 8.39202, 8.39429, 8.39865, 8.3…\n  :ATPS4r                   => [45.0849, 44.8328, 44.7561, 45.2648, 45.1371, 45…\n  :BIOMASS_Ecoli_core_w_GAM => [0.865762, 0.865949, 0.865608, 0.865965, 0.86589…\n  :CO2t                     => [-22.889, -22.8745, -22.7685, -22.8919, -22.9008…\n  :CS                       => [6.11953, 6.26672, 6.26141, 6.015, 6.11345, 6.09…\n  :CYTBD                    => [43.8466, 43.831, 43.6495, 43.8368, 43.8816, 43.…\n  :D_LACt2                  => [-0.0113495, -0.0113668, -0.0252749, -0.00969994…\n  :ENO                      => [14.8107, 14.956, 14.9763, 14.706, 14.792, 14.78…\n  :ETOHt2r                  => [-0.0100264, -0.0107948, -0.0133142, -0.00892969…\n  ⋮                         => ⋮"
     },
     "metadata": {},
     "execution_count": 2
    }
   ],
   "cell_type": "code",
   "source": [
    "s = flux_sample(\n",
    "    model,\n",
    "    optimizer = GLPK.Optimizer,\n",
    "    objective_bound = relative_tolerance_bound(0.99),\n",
    "    n_chains = 2,\n",
    "    collect_iterations = [10],\n",
    ")"
   ],
   "metadata": {},
   "execution_count": 2
  },
  {
   "cell_type": "markdown",
   "source": [
    "---\n",
    "\n",
    "*This notebook was generated using [Literate.jl](https://github.com/fredrikekre/Literate.jl).*"
   ],
   "metadata": {}
  }
 ],
 "nbformat_minor": 3,
 "metadata": {
  "language_info": {
   "file_extension": ".jl",
   "mimetype": "application/julia",
   "name": "julia",
   "version": "1.9.4"
  },
  "kernelspec": {
   "name": "julia-1.9",
   "display_name": "Julia 1.9.4",
   "language": "julia"
  }
 },
 "nbformat": 4
}
