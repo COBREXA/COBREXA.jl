{
 "cells": [
  {
   "cell_type": "markdown",
   "source": [
    "# Flux sampling"
   ],
   "metadata": {}
  },
  {
   "outputs": [
    {
     "name": "stdout",
     "output_type": "stream",
     "text": [
      "[ Info: using cached `e_coli_core.json'\n"
     ]
    },
    {
     "output_type": "execute_result",
     "data": {
      "text/plain": "JSONFBCModels.JSONFBCModel(#= 95 reactions, 72 metabolites =#)"
     },
     "metadata": {},
     "execution_count": 1
    }
   ],
   "cell_type": "code",
   "source": [
    "using COBREXA\n",
    "\n",
    "download_model(\n",
    "    \"http://bigg.ucsd.edu/static/models/e_coli_core.json\",\n",
    "    \"e_coli_core.json\",\n",
    "    \"7bedec10576cfe935b19218dc881f3fb14f890a1871448fc19a9b4ee15b448d8\",\n",
    ")\n",
    "\n",
    "import JSONFBCModels, GLPK\n",
    "\n",
    "model = load_model(\"e_coli_core.json\")"
   ],
   "metadata": {},
   "execution_count": 1
  },
  {
   "cell_type": "markdown",
   "source": [
    "note here: this needs the optimizer to generate warmup. If you have warmup,\n",
    "you can do without one."
   ],
   "metadata": {}
  },
  {
   "outputs": [
    {
     "output_type": "execute_result",
     "data": {
      "text/plain": "ConstraintTrees.Tree{Vector{Float64}} with 95 elements:\n  :ACALD                    => [-0.0158017, -0.0237621, -0.0446091, -0.0191915,…\n  :ACALDt                   => [-0.00716779, -0.0124447, -0.0351852, -0.0098218…\n  :ACKr                     => [-0.0243796, -0.0288569, -0.0167874, -0.0221776,…\n  :ACONTa                   => [6.13834, 6.24116, 6.06763, 6.14267, 6.11324, 6.…\n  :ACONTb                   => [6.13834, 6.24116, 6.06763, 6.14267, 6.11324, 6.…\n  :ACt2r                    => [-0.0243796, -0.0288569, -0.0167874, -0.0221776,…\n  :ADK1                     => [0.0346572, 0.0321461, 0.0328403, 0.0302825, 0.0…\n  :AKGDH                    => [4.82385, 5.13149, 4.70096, 4.86937, 4.7674, 4.7…\n  :AKGt2r                   => [-0.00275728, -0.00350418, -0.00156237, -0.00263…\n  :ALCD2x                   => [-0.00863393, -0.0113174, -0.0094239, -0.0093696…\n  :ATPM                     => [8.40311, 8.40517, 8.39932, 8.39935, 8.40486, 8.…\n  :ATPS4r                   => [45.1092, 44.9647, 45.1231, 45.1323, 45.1461, 45…\n  :BIOMASS_Ecoli_core_w_GAM => [0.865933, 0.866138, 0.865956, 0.866264, 0.86601…\n  :CO2t                     => [-22.8992, -22.8829, -22.883, -22.9078, -22.9018…\n  :CS                       => [6.13834, 6.24116, 6.06763, 6.14267, 6.11324, 6.…\n  :CYTBD                    => [43.8498, 43.7819, 43.7791, 43.8442, 43.8523, 43…\n  :D_LACt2                  => [-0.00681044, -0.00446246, -0.00764987, -0.00342…\n  :ENO                      => [14.8254, 14.9435, 14.7746, 14.8316, 14.7989, 14…\n  :ETOHt2r                  => [-0.00863393, -0.0113174, -0.0094239, -0.0093696…\n  ⋮                         => ⋮"
     },
     "metadata": {},
     "execution_count": 2
    }
   ],
   "cell_type": "code",
   "source": [
    "s = flux_sample(\n",
    "    model,\n",
    "    optimizer = GLPK.Optimizer,\n",
    "    objective_bound = relative_tolerance_bound(0.99),\n",
    "    n_chains = 2,\n",
    "    collect_iterations = [10],\n",
    ")"
   ],
   "metadata": {},
   "execution_count": 2
  },
  {
   "cell_type": "markdown",
   "source": [
    "---\n",
    "\n",
    "*This notebook was generated using [Literate.jl](https://github.com/fredrikekre/Literate.jl).*"
   ],
   "metadata": {}
  }
 ],
 "nbformat_minor": 3,
 "metadata": {
  "language_info": {
   "file_extension": ".jl",
   "mimetype": "application/julia",
   "name": "julia",
   "version": "1.9.4"
  },
  "kernelspec": {
   "name": "julia-1.9",
   "display_name": "Julia 1.9.4",
   "language": "julia"
  }
 },
 "nbformat": 4
}
