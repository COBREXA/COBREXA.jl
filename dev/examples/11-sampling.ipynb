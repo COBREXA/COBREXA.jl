{
 "cells": [
  {
   "cell_type": "markdown",
   "source": [
    "# Flux sampling"
   ],
   "metadata": {}
  },
  {
   "outputs": [
    {
     "name": "stdout",
     "output_type": "stream",
     "text": [
      "[ Info: using cached `e_coli_core.json'\n"
     ]
    },
    {
     "output_type": "execute_result",
     "data": {
      "text/plain": "JSONFBCModels.JSONFBCModel(#= 95 reactions, 72 metabolites =#)"
     },
     "metadata": {},
     "execution_count": 1
    }
   ],
   "cell_type": "code",
   "source": [
    "using COBREXA\n",
    "\n",
    "download_model(\n",
    "    \"http://bigg.ucsd.edu/static/models/e_coli_core.json\",\n",
    "    \"e_coli_core.json\",\n",
    "    \"7bedec10576cfe935b19218dc881f3fb14f890a1871448fc19a9b4ee15b448d8\",\n",
    ")\n",
    "\n",
    "import JSONFBCModels, GLPK\n",
    "\n",
    "model = load_model(\"e_coli_core.json\")"
   ],
   "metadata": {},
   "execution_count": 1
  },
  {
   "cell_type": "markdown",
   "source": [
    "note here: this needs the optimizer to generate warmup. If you have warmup,\n",
    "you can do without one."
   ],
   "metadata": {}
  },
  {
   "outputs": [
    {
     "output_type": "execute_result",
     "data": {
      "text/plain": "ConstraintTrees.Tree{Vector{Float64}} with 95 elements:\n  :ACALD                    => [-0.0230426, -0.00899652, -0.0509752, -0.0133826…\n  :ACALDt                   => [-0.0153992, -0.00363701, -0.0440233, -0.0048475…\n  :ACKr                     => [-0.00510508, -0.0220885, -0.0163973, -0.0185109…\n  :ACONTa                   => [6.05135, 5.80597, 6.1077, 6.01542, 6.11635, 6.0…\n  :ACONTb                   => [6.05135, 5.80597, 6.1077, 6.01542, 6.11635, 6.0…\n  :ACt2r                    => [-0.00510508, -0.0220885, -0.0163973, -0.0185109…\n  :ADK1                     => [0.0160737, 0.0503687, 0.0297864, 0.0359649, 0.0…\n  :AKGDH                    => [4.59798, 4.02145, 4.75712, 4.47684, 4.71635, 4.…\n  :AKGt2r                   => [-0.00240778, -0.00250228, -0.00145871, -0.00213…\n  :ALCD2x                   => [-0.0076434, -0.00535951, -0.00695192, -0.008535…\n  :ATPM                     => [8.4055, 8.42205, 8.39937, 8.40343, 8.40314, 8.4…\n  :ATPS4r                   => [45.3258, 45.7649, 45.0263, 45.3093, 45.0637, 45…\n  :BIOMASS_Ecoli_core_w_GAM => [0.865688, 0.866189, 0.865913, 0.865926, 0.86598…\n  :CO2t                     => [-22.9427, -22.9495, -22.8823, -22.928, -22.888,…\n  :CS                       => [6.05135, 5.80597, 6.1077, 6.01542, 6.11635, 6.0…\n  :CYTBD                    => [43.9082, 43.9243, 43.767, 43.9027, 43.8025, 43.…\n  :D_LACt2                  => [-0.00837785, -0.00634622, -0.00635783, -0.00765…\n  :ENO                      => [14.731, 14.4879, 14.8197, 14.6964, 14.8285, 14.…\n  :ETOHt2r                  => [-0.0076434, -0.00535951, -0.00695192, -0.008535…\n  ⋮                         => ⋮"
     },
     "metadata": {},
     "execution_count": 2
    }
   ],
   "cell_type": "code",
   "source": [
    "s = flux_sample(\n",
    "    model,\n",
    "    optimizer = GLPK.Optimizer,\n",
    "    objective_bound = relative_tolerance_bound(0.99),\n",
    "    n_chains = 2,\n",
    "    collect_iterations = [10],\n",
    ")"
   ],
   "metadata": {},
   "execution_count": 2
  },
  {
   "cell_type": "markdown",
   "source": [
    "---\n",
    "\n",
    "*This notebook was generated using [Literate.jl](https://github.com/fredrikekre/Literate.jl).*"
   ],
   "metadata": {}
  }
 ],
 "nbformat_minor": 3,
 "metadata": {
  "language_info": {
   "file_extension": ".jl",
   "mimetype": "application/julia",
   "name": "julia",
   "version": "1.9.4"
  },
  "kernelspec": {
   "name": "julia-1.9",
   "display_name": "Julia 1.9.4",
   "language": "julia"
  }
 },
 "nbformat": 4
}
