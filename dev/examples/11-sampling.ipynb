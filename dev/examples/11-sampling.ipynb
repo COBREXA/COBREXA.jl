{
 "cells": [
  {
   "cell_type": "markdown",
   "source": [
    "# Flux sampling"
   ],
   "metadata": {}
  },
  {
   "outputs": [
    {
     "name": "stdout",
     "output_type": "stream",
     "text": [
      "[ Info: using cached `e_coli_core.json'\n"
     ]
    },
    {
     "output_type": "execute_result",
     "data": {
      "text/plain": "JSONFBCModels.JSONFBCModel(#= 95 reactions, 72 metabolites =#)"
     },
     "metadata": {},
     "execution_count": 1
    }
   ],
   "cell_type": "code",
   "source": [
    "using COBREXA\n",
    "\n",
    "download_model(\n",
    "    \"http://bigg.ucsd.edu/static/models/e_coli_core.json\",\n",
    "    \"e_coli_core.json\",\n",
    "    \"7bedec10576cfe935b19218dc881f3fb14f890a1871448fc19a9b4ee15b448d8\",\n",
    ")\n",
    "\n",
    "import JSONFBCModels, GLPK\n",
    "\n",
    "model = load_model(\"e_coli_core.json\")"
   ],
   "metadata": {},
   "execution_count": 1
  },
  {
   "cell_type": "markdown",
   "source": [
    "note here: this needs the optimizer to generate warmup. If you have warmup,\n",
    "you can do without one."
   ],
   "metadata": {}
  },
  {
   "outputs": [
    {
     "output_type": "execute_result",
     "data": {
      "text/plain": "ConstraintTrees.Tree{Vector{Float64}} with 95 elements:\n  :ACALD                    => [-0.0413914, -0.0171297, -0.0204023, -0.0198964,…\n  :ACALDt                   => [-0.0331504, -0.00675395, -0.0155296, -0.0076256…\n  :ACKr                     => [-0.0206221, -0.0183042, -0.0170421, -0.00486868…\n  :ACONTa                   => [6.08906, 6.00403, 6.12085, 6.11064, 6.08131, 6.…\n  :ACONTb                   => [6.08906, 6.00403, 6.12085, 6.11064, 6.08131, 6.…\n  :ACt2r                    => [-0.0206221, -0.0183042, -0.0170421, -0.00486868…\n  :ADK1                     => [0.0249075, 0.0332826, 0.0162249, 0.0525034, 0.0…\n  :AKGDH                    => [4.69854, 4.48635, 4.61888, 4.79422, 4.65095, 4.…\n  :AKGt2r                   => [-0.00163938, -0.00295414, -0.000848436, -0.0026…\n  :ALCD2x                   => [-0.00824099, -0.0103757, -0.00487268, -0.012270…\n  :ATPM                     => [8.39636, 8.40293, 8.39357, 8.41421, 8.40379, 8.…\n  :ATPS4r                   => [45.0714, 45.306, 45.0502, 45.1948, 45.2289, 45.…\n  :BIOMASS_Ecoli_core_w_GAM => [0.865879, 0.866067, 0.866312, 0.866705, 0.86604…\n  :CO2t                     => [-22.8783, -22.9012, -22.9075, -22.8779, -22.891…\n  :CS                       => [6.08906, 6.00403, 6.12085, 6.11064, 6.08131, 6.…\n  :CYTBD                    => [43.7805, 43.8511, 43.8689, 43.8157, 43.8483, 43…\n  :D_LACt2                  => [-0.00550518, -0.00729332, -0.00271082, -0.00956…\n  :ENO                      => [14.7947, 14.691, 14.8043, 14.7994, 14.7569, 14.…\n  :ETOHt2r                  => [-0.00824099, -0.0103757, -0.00487268, -0.012270…\n  ⋮                         => ⋮"
     },
     "metadata": {},
     "execution_count": 2
    }
   ],
   "cell_type": "code",
   "source": [
    "s = flux_sample(\n",
    "    model,\n",
    "    optimizer = GLPK.Optimizer,\n",
    "    objective_bound = relative_tolerance_bound(0.99),\n",
    "    n_chains = 2,\n",
    "    collect_iterations = [10],\n",
    ")"
   ],
   "metadata": {},
   "execution_count": 2
  },
  {
   "cell_type": "markdown",
   "source": [
    "---\n",
    "\n",
    "*This notebook was generated using [Literate.jl](https://github.com/fredrikekre/Literate.jl).*"
   ],
   "metadata": {}
  }
 ],
 "nbformat_minor": 3,
 "metadata": {
  "language_info": {
   "file_extension": ".jl",
   "mimetype": "application/julia",
   "name": "julia",
   "version": "1.9.4"
  },
  "kernelspec": {
   "name": "julia-1.9",
   "display_name": "Julia 1.9.4",
   "language": "julia"
  }
 },
 "nbformat": 4
}
