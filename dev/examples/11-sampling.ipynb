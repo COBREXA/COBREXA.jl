{
 "cells": [
  {
   "cell_type": "markdown",
   "source": [
    "# Flux sampling"
   ],
   "metadata": {}
  },
  {
   "outputs": [
    {
     "name": "stdout",
     "output_type": "stream",
     "text": [
      "[ Info: using cached `e_coli_core.json'\n"
     ]
    },
    {
     "output_type": "execute_result",
     "data": {
      "text/plain": "JSONFBCModels.JSONFBCModel(#= 95 reactions, 72 metabolites =#)"
     },
     "metadata": {},
     "execution_count": 1
    }
   ],
   "cell_type": "code",
   "source": [
    "using COBREXA\n",
    "\n",
    "download_model(\n",
    "    \"http://bigg.ucsd.edu/static/models/e_coli_core.json\",\n",
    "    \"e_coli_core.json\",\n",
    "    \"7bedec10576cfe935b19218dc881f3fb14f890a1871448fc19a9b4ee15b448d8\",\n",
    ")\n",
    "\n",
    "import JSONFBCModels, GLPK\n",
    "\n",
    "model = load_model(\"e_coli_core.json\")"
   ],
   "metadata": {},
   "execution_count": 1
  },
  {
   "cell_type": "markdown",
   "source": [
    "note here: this needs the optimizer to generate warmup. If you have warmup,\n",
    "you can do without one."
   ],
   "metadata": {}
  },
  {
   "outputs": [
    {
     "output_type": "execute_result",
     "data": {
      "text/plain": "ConstraintTrees.Tree{Vector{Float64}} with 95 elements:\n  :ACALD                    => [-0.012847, -0.0116255, -0.0169553, -0.0133305, …\n  :ACALDt                   => [-0.00408023, -0.0027454, -0.00653445, -0.002782…\n  :ACKr                     => [-0.0214605, -0.0197084, -0.0182235, -0.0234899,…\n  :ACONTa                   => [6.07961, 6.07096, 6.24471, 6.3542, 6.08179, 6.3…\n  :ACONTb                   => [6.07961, 6.07096, 6.24471, 6.3542, 6.08179, 6.3…\n  :ACt2r                    => [-0.0214605, -0.0197084, -0.0182235, -0.0234899,…\n  :ADK1                     => [0.0245344, 0.0241856, 0.030459, 0.0277138, 0.02…\n  :AKGDH                    => [4.65826, 4.73267, 5.05724, 5.15113, 4.69091, 5.…\n  :AKGt2r                   => [-0.00136795, -0.00237673, -0.00282521, -0.00168…\n  :ALCD2x                   => [-0.00876681, -0.00888009, -0.0104208, -0.010547…\n  :ATPM                     => [8.40252, 8.39439, 8.40211, 8.39888, 8.40037, 8.…\n  :ATPS4r                   => [45.1949, 45.1945, 44.8756, 44.5896, 45.1845, 44…\n  :BIOMASS_Ecoli_core_w_GAM => [0.866048, 0.866023, 0.866131, 0.866044, 0.86595…\n  :CO2t                     => [-22.9199, -22.9135, -22.9192, -22.8984, -22.913…\n  :CS                       => [6.07961, 6.07096, 6.24471, 6.3542, 6.08179, 6.3…\n  :CYTBD                    => [43.8847, 43.8841, 43.8815, 43.8488, 43.8659, 43…\n  :D_LACt2                  => [-0.0083358, -0.00466419, -0.00456472, -0.010664…\n  :ENO                      => [14.764, 14.7479, 14.927, 15.0427, 14.7738, 15.0…\n  :ETOHt2r                  => [-0.00876681, -0.00888009, -0.0104208, -0.010547…\n  ⋮                         => ⋮"
     },
     "metadata": {},
     "execution_count": 2
    }
   ],
   "cell_type": "code",
   "source": [
    "s = flux_sample(\n",
    "    model,\n",
    "    optimizer = GLPK.Optimizer,\n",
    "    objective_bound = relative_tolerance_bound(0.99),\n",
    "    n_chains = 2,\n",
    "    collect_iterations = [10],\n",
    ")"
   ],
   "metadata": {},
   "execution_count": 2
  },
  {
   "cell_type": "markdown",
   "source": [
    "---\n",
    "\n",
    "*This notebook was generated using [Literate.jl](https://github.com/fredrikekre/Literate.jl).*"
   ],
   "metadata": {}
  }
 ],
 "nbformat_minor": 3,
 "metadata": {
  "language_info": {
   "file_extension": ".jl",
   "mimetype": "application/julia",
   "name": "julia",
   "version": "1.9.4"
  },
  "kernelspec": {
   "name": "julia-1.9",
   "display_name": "Julia 1.9.4",
   "language": "julia"
  }
 },
 "nbformat": 4
}
