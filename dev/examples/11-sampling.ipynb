{
 "cells": [
  {
   "cell_type": "markdown",
   "source": [
    "# Flux sampling"
   ],
   "metadata": {}
  },
  {
   "outputs": [
    {
     "name": "stdout",
     "output_type": "stream",
     "text": [
      "[ Info: using cached `e_coli_core.json'\n"
     ]
    },
    {
     "output_type": "execute_result",
     "data": {
      "text/plain": "JSONFBCModels.JSONFBCModel(#= 95 reactions, 72 metabolites =#)"
     },
     "metadata": {},
     "execution_count": 1
    }
   ],
   "cell_type": "code",
   "source": [
    "using COBREXA\n",
    "\n",
    "download_model(\n",
    "    \"http://bigg.ucsd.edu/static/models/e_coli_core.json\",\n",
    "    \"e_coli_core.json\",\n",
    "    \"7bedec10576cfe935b19218dc881f3fb14f890a1871448fc19a9b4ee15b448d8\",\n",
    ")\n",
    "\n",
    "import JSONFBCModels, GLPK\n",
    "\n",
    "model = load_model(\"e_coli_core.json\")"
   ],
   "metadata": {},
   "execution_count": 1
  },
  {
   "cell_type": "markdown",
   "source": [
    "note here: this needs the optimizer to generate warmup. If you have warmup,\n",
    "you can do without one."
   ],
   "metadata": {}
  },
  {
   "outputs": [
    {
     "output_type": "execute_result",
     "data": {
      "text/plain": "ConstraintTrees.Tree{Vector{Float64}} with 95 elements:\n  :ACALD                    => [-0.0119681, -0.0123628, -0.013794, -0.0129956, …\n  :ACALDt                   => [-0.00393385, -0.00396245, -0.00446315, -0.00386…\n  :ACKr                     => [-0.0193481, -0.0262447, -0.017208, -0.0213559, …\n  :ACONTa                   => [6.0691, 5.92673, 5.98553, 6.06094, 6.04877, 6.0…\n  :ACONTb                   => [6.0691, 5.92673, 5.98553, 6.06094, 6.04877, 6.0…\n  :ACt2r                    => [-0.0193481, -0.0262447, -0.017208, -0.0213559, …\n  :ADK1                     => [0.0516842, 0.0777547, 0.0408704, 0.0452532, 0.0…\n  :AKGDH                    => [4.6375, 4.37879, 4.49325, 4.63349, 4.60787, 4.5…\n  :AKGt2r                   => [-0.00277149, -0.00353477, -0.00447416, -0.00185…\n  :ALCD2x                   => [-0.00803423, -0.00840036, -0.00933082, -0.00913…\n  :ATPM                     => [8.39591, 8.39606, 8.39516, 8.39571, 8.39554, 8.…\n  :ATPS4r                   => [45.2275, 45.4899, 45.4157, 45.2164, 45.3295, 45…\n  :BIOMASS_Ecoli_core_w_GAM => [0.865981, 0.86597, 0.86583, 0.866087, 0.865939,…\n  :CO2t                     => [-22.9017, -22.8879, -22.9098, -22.9212, -22.886…\n  :CS                       => [6.0691, 5.92673, 5.98553, 6.06094, 6.04877, 6.0…\n  :CYTBD                    => [43.8817, 43.8533, 43.9005, 43.8957, 43.8802, 43…\n  :D_LACt2                  => [-0.00666293, -0.0060451, -0.00468863, -0.006429…\n  :ENO                      => [14.7483, 14.6158, 14.6614, 14.7422, 14.7202, 14…\n  :ETOHt2r                  => [-0.00803423, -0.00840036, -0.00933082, -0.00913…\n  ⋮                         => ⋮"
     },
     "metadata": {},
     "execution_count": 2
    }
   ],
   "cell_type": "code",
   "source": [
    "s = flux_sample(\n",
    "    model,\n",
    "    optimizer = GLPK.Optimizer,\n",
    "    objective_bound = relative_tolerance_bound(0.99),\n",
    "    n_chains = 2,\n",
    "    collect_iterations = [10],\n",
    ")"
   ],
   "metadata": {},
   "execution_count": 2
  },
  {
   "cell_type": "markdown",
   "source": [
    "---\n",
    "\n",
    "*This notebook was generated using [Literate.jl](https://github.com/fredrikekre/Literate.jl).*"
   ],
   "metadata": {}
  }
 ],
 "nbformat_minor": 3,
 "metadata": {
  "language_info": {
   "file_extension": ".jl",
   "mimetype": "application/julia",
   "name": "julia",
   "version": "1.9.4"
  },
  "kernelspec": {
   "name": "julia-1.9",
   "display_name": "Julia 1.9.4",
   "language": "julia"
  }
 },
 "nbformat": 4
}
