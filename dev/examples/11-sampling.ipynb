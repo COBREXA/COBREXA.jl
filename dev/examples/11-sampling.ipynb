{
 "cells": [
  {
   "cell_type": "markdown",
   "source": [
    "# Flux sampling"
   ],
   "metadata": {}
  },
  {
   "outputs": [
    {
     "name": "stdout",
     "output_type": "stream",
     "text": [
      "[ Info: using cached `e_coli_core.json'\n"
     ]
    },
    {
     "output_type": "execute_result",
     "data": {
      "text/plain": "JSONFBCModels.JSONFBCModel(#= 95 reactions, 72 metabolites =#)"
     },
     "metadata": {},
     "execution_count": 1
    }
   ],
   "cell_type": "code",
   "source": [
    "using COBREXA\n",
    "\n",
    "download_model(\n",
    "    \"http://bigg.ucsd.edu/static/models/e_coli_core.json\",\n",
    "    \"e_coli_core.json\",\n",
    "    \"7bedec10576cfe935b19218dc881f3fb14f890a1871448fc19a9b4ee15b448d8\",\n",
    ")\n",
    "\n",
    "import JSONFBCModels, GLPK\n",
    "\n",
    "model = load_model(\"e_coli_core.json\")"
   ],
   "metadata": {},
   "execution_count": 1
  },
  {
   "cell_type": "markdown",
   "source": [
    "note here: this needs the optimizer to generate warmup. If you have warmup,\n",
    "you can do without one."
   ],
   "metadata": {}
  },
  {
   "outputs": [
    {
     "output_type": "execute_result",
     "data": {
      "text/plain": "ConstraintTrees.Tree{Vector{Float64}} with 95 elements:\n  :ACALD                    => [-0.0239711, -0.0135113, -0.0151784, -0.012038, …\n  :ACALDt                   => [-0.0174227, -0.0057583, -0.00808619, -0.0039337…\n  :ACKr                     => [-0.0185993, -0.0248297, -0.0210338, -0.0220134,…\n  :ACONTa                   => [6.08165, 6.11, 6.06016, 6.27568, 6.06896, 6.023…\n  :ACONTb                   => [6.08165, 6.11, 6.06016, 6.27568, 6.06896, 6.023…\n  :ACt2r                    => [-0.0185993, -0.0248297, -0.0210338, -0.0220134,…\n  :ADK1                     => [0.0310278, 0.0402484, 0.0347647, 0.0284598, 0.0…\n  :AKGDH                    => [4.66867, 4.9363, 4.67682, 5.12837, 4.73791, 4.8…\n  :AKGt2r                   => [-0.00128164, -0.00165021, -0.00143215, -0.00203…\n  :ALCD2x                   => [-0.00654842, -0.007753, -0.00709217, -0.0081042…\n  :ATPM                     => [8.39704, 8.39962, 8.39928, 8.40428, 8.39943, 8.…\n  :ATPS4r                   => [45.1471, 45.217, 45.2435, 44.8382, 45.2446, 45.…\n  :BIOMASS_Ecoli_core_w_GAM => [0.865947, 0.86602, 0.865954, 0.86609, 0.865963,…\n  :CO2t                     => [-22.9036, -22.9081, -22.909, -22.9251, -22.9176…\n  :CS                       => [6.08165, 6.11, 6.06016, 6.27568, 6.06896, 6.023…\n  :CYTBD                    => [43.8504, 43.8624, 43.8686, 43.8889, 43.8831, 43…\n  :D_LACt2                  => [-0.00800338, -0.00790819, -0.00967159, -0.00759…\n  :ENO                      => [14.772, 14.7988, 14.7465, 14.961, 14.7549, 14.7…\n  :ETOHt2r                  => [-0.00654842, -0.007753, -0.00709217, -0.0081042…\n  ⋮                         => ⋮"
     },
     "metadata": {},
     "execution_count": 2
    }
   ],
   "cell_type": "code",
   "source": [
    "s = flux_sample(\n",
    "    model,\n",
    "    optimizer = GLPK.Optimizer,\n",
    "    objective_bound = relative_tolerance_bound(0.99),\n",
    "    n_chains = 2,\n",
    "    collect_iterations = [10],\n",
    ")"
   ],
   "metadata": {},
   "execution_count": 2
  },
  {
   "cell_type": "markdown",
   "source": [
    "---\n",
    "\n",
    "*This notebook was generated using [Literate.jl](https://github.com/fredrikekre/Literate.jl).*"
   ],
   "metadata": {}
  }
 ],
 "nbformat_minor": 3,
 "metadata": {
  "language_info": {
   "file_extension": ".jl",
   "mimetype": "application/julia",
   "name": "julia",
   "version": "1.9.4"
  },
  "kernelspec": {
   "name": "julia-1.9",
   "display_name": "Julia 1.9.4",
   "language": "julia"
  }
 },
 "nbformat": 4
}
