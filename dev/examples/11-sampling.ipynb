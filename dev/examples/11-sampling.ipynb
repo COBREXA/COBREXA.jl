{
 "cells": [
  {
   "cell_type": "markdown",
   "source": [
    "# Flux sampling"
   ],
   "metadata": {}
  },
  {
   "outputs": [
    {
     "name": "stdout",
     "output_type": "stream",
     "text": [
      "[ Info: using cached `e_coli_core.json'\n"
     ]
    },
    {
     "output_type": "execute_result",
     "data": {
      "text/plain": "JSONFBCModels.JSONFBCModel(#= 95 reactions, 72 metabolites =#)"
     },
     "metadata": {},
     "execution_count": 1
    }
   ],
   "cell_type": "code",
   "source": [
    "using COBREXA\n",
    "\n",
    "download_model(\n",
    "    \"http://bigg.ucsd.edu/static/models/e_coli_core.json\",\n",
    "    \"e_coli_core.json\",\n",
    "    \"7bedec10576cfe935b19218dc881f3fb14f890a1871448fc19a9b4ee15b448d8\",\n",
    ")\n",
    "\n",
    "import JSONFBCModels, GLPK\n",
    "\n",
    "model = load_model(\"e_coli_core.json\")"
   ],
   "metadata": {},
   "execution_count": 1
  },
  {
   "cell_type": "markdown",
   "source": [
    "note here: this needs the optimizer to generate warmup. If you have warmup,\n",
    "you can do without one."
   ],
   "metadata": {}
  },
  {
   "outputs": [
    {
     "output_type": "execute_result",
     "data": {
      "text/plain": "ConstraintTrees.Tree{Vector{Float64}} with 95 elements:\n  :ACALD                    => [-0.0355322, -0.01751, -0.019382, -0.0157808, -0…\n  :ACALDt                   => [-0.0234144, -0.00433158, -0.00258574, -0.004842…\n  :ACKr                     => [-0.017129, -0.0158372, -0.0111135, -0.0187342, …\n  :ACONTa                   => [6.11515, 6.16319, 6.03908, 6.08731, 6.15565, 6.…\n  :ACONTb                   => [6.11515, 6.16319, 6.03908, 6.08731, 6.15565, 6.…\n  :ACt2r                    => [-0.017129, -0.0158372, -0.0111135, -0.0187342, …\n  :ADK1                     => [0.0386043, 0.0386825, 0.0440969, 0.038472, 0.03…\n  :AKGDH                    => [4.73874, 4.83522, 4.72174, 4.67065, 4.7807, 4.7…\n  :AKGt2r                   => [-0.00246113, -0.00194419, -0.00111676, -0.00223…\n  :ALCD2x                   => [-0.0121179, -0.0131785, -0.0167962, -0.0109383,…\n  :ATPM                     => [8.40207, 8.40856, 8.42794, 8.40051, 8.40718, 8.…\n  :ATPS4r                   => [45.0505, 45.0466, 45.3695, 45.1419, 45.0711, 45…\n  :BIOMASS_Ecoli_core_w_GAM => [0.865934, 0.865924, 0.865879, 0.865895, 0.86603…\n  :CO2t                     => [-22.8917, -22.9068, -22.8859, -22.9109, -22.919…\n  :CS                       => [6.11515, 6.16319, 6.03908, 6.08731, 6.15565, 6.…\n  :CYTBD                    => [43.8032, 43.8603, 43.8203, 43.8638, 43.8771, 43…\n  :D_LACt2                  => [-0.00719196, -0.00722706, -0.00550658, -0.00844…\n  :ENO                      => [14.8152, 14.8471, 14.7214, 14.7734, 14.8351, 14…\n  :ETOHt2r                  => [-0.0121179, -0.0131785, -0.0167962, -0.0109383,…\n  ⋮                         => ⋮"
     },
     "metadata": {},
     "execution_count": 2
    }
   ],
   "cell_type": "code",
   "source": [
    "s = flux_sample(\n",
    "    model,\n",
    "    optimizer = GLPK.Optimizer,\n",
    "    objective_bound = relative_tolerance_bound(0.99),\n",
    "    n_chains = 2,\n",
    "    collect_iterations = [10],\n",
    ")"
   ],
   "metadata": {},
   "execution_count": 2
  },
  {
   "cell_type": "markdown",
   "source": [
    "---\n",
    "\n",
    "*This notebook was generated using [Literate.jl](https://github.com/fredrikekre/Literate.jl).*"
   ],
   "metadata": {}
  }
 ],
 "nbformat_minor": 3,
 "metadata": {
  "language_info": {
   "file_extension": ".jl",
   "mimetype": "application/julia",
   "name": "julia",
   "version": "1.9.4"
  },
  "kernelspec": {
   "name": "julia-1.9",
   "display_name": "Julia 1.9.4",
   "language": "julia"
  }
 },
 "nbformat": 4
}
