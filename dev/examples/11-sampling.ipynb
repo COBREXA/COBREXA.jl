{
 "cells": [
  {
   "cell_type": "markdown",
   "source": [
    "# Flux sampling\n",
    "\n",
    "Flux sampling gives an interesting statistical insight into the behavior of\n",
    "the model in the optimal feasible space, and the general \"shape\" of the\n",
    "optimal- or near-optimal set of feasible states of a given model."
   ],
   "metadata": {}
  },
  {
   "cell_type": "markdown",
   "source": [
    "For demonstration, we need the usual packages and models:"
   ],
   "metadata": {}
  },
  {
   "outputs": [
    {
     "name": "stdout",
     "output_type": "stream",
     "text": [
      "[ Info: using cached `e_coli_core.json'\n"
     ]
    },
    {
     "output_type": "execute_result",
     "data": {
      "text/plain": "JSONFBCModels.JSONFBCModel(#= 95 reactions, 72 metabolites =#)"
     },
     "metadata": {},
     "execution_count": 1
    }
   ],
   "cell_type": "code",
   "source": [
    "using COBREXA\n",
    "\n",
    "download_model(\n",
    "    \"http://bigg.ucsd.edu/static/models/e_coli_core.json\",\n",
    "    \"e_coli_core.json\",\n",
    "    \"7bedec10576cfe935b19218dc881f3fb14f890a1871448fc19a9b4ee15b448d8\",\n",
    ")\n",
    "\n",
    "import JSONFBCModels, GLPK\n",
    "\n",
    "model = load_model(\"e_coli_core.json\")"
   ],
   "metadata": {},
   "execution_count": 1
  },
  {
   "cell_type": "markdown",
   "source": [
    "Function `flux_sample` uses linear optimization to generate a set of\n",
    "warm-up points (by default, the method to generate the warm-up is basically\n",
    "FVA), and then runs the hit-and-run flux sampling algorithm on the\n",
    "near-optimal feasible space of the model:"
   ],
   "metadata": {}
  },
  {
   "outputs": [
    {
     "output_type": "execute_result",
     "data": {
      "text/plain": "ConstraintTrees.Tree{Vector{Float64}} with 95 elements:\n  :ACALD                    => [-0.0153394, -0.00639622, -0.0121613, -0.0079011…\n  :ACALDt                   => [-0.00449681, -0.000866714, -0.00279932, -0.0007…\n  :ACKr                     => [-0.00911673, -0.0176426, -0.0122063, -0.0045441…\n  :ACONTa                   => [6.0024, 6.01822, 6.09797, 5.87553, 6.05035, 6.1…\n  :ACONTb                   => [6.0024, 6.01822, 6.09797, 5.87553, 6.05035, 6.1…\n  :ACt2r                    => [-0.00911673, -0.0176426, -0.0122063, -0.0045441…\n  :ADK1                     => [0.0201396, 0.0287456, 0.0246454, 0.0293642, 0.0…\n  :AKGDH                    => [4.54749, 4.28723, 4.67317, 4.14435, 4.56185, 4.…\n  :AKGt2r                   => [-0.00114827, -0.00106975, -0.00132684, -0.00153…\n  :ALCD2x                   => [-0.0108426, -0.0055295, -0.00936195, -0.0071619…\n  :ATPM                     => [8.46134, 8.39895, 8.43154, 8.43379, 8.43125, 8.…\n  :ATPS4r                   => [45.4638, 45.2427, 45.2327, 45.6494, 45.1839, 45…\n  :BIOMASS_Ecoli_core_w_GAM => [0.866239, 0.86559, 0.865869, 0.86572, 0.86604, …\n  :CO2t                     => [-22.9319, -22.9757, -22.9353, -22.9586, -22.916…\n  :CS                       => [6.0024, 6.01822, 6.09797, 5.87553, 6.05035, 6.1…\n  :CYTBD                    => [43.8902, 44.0098, 43.9109, 43.9763, 43.8557, 43…\n  :D_LACt2                  => [-0.0153827, -0.00719714, -0.0139984, -0.0120873…\n  :ENO                      => [14.6834, 14.6826, 14.7747, 14.5369, 14.7478, 14…\n  :ETOHt2r                  => [-0.0108426, -0.0055295, -0.00936195, -0.0071619…\n  ⋮                         => ⋮"
     },
     "metadata": {},
     "execution_count": 2
    }
   ],
   "cell_type": "code",
   "source": [
    "s = flux_sample(\n",
    "    model,\n",
    "    optimizer = GLPK.Optimizer,\n",
    "    objective_bound = relative_tolerance_bound(0.99),\n",
    "    n_chains = 2,\n",
    "    collect_iterations = [10],\n",
    ")"
   ],
   "metadata": {},
   "execution_count": 2
  },
  {
   "cell_type": "markdown",
   "source": [
    "The result is a tree of vectors of sampled states for each value; the order\n",
    "of the values in these vectors is fixed. You can thus e.g. create a good\n",
    "matrix for plotting the sample as 2D scatterplot:"
   ],
   "metadata": {}
  },
  {
   "outputs": [
    {
     "output_type": "execute_result",
     "data": {
      "text/plain": "380×2 Matrix{Float64}:\n 21.9451  -22.9319\n 22.0049  -22.9757\n 21.9554  -22.9353\n 21.9881  -22.9586\n 21.9278  -22.9164\n 21.9494  -22.9303\n 21.9643  -22.9428\n 21.9282  -22.9278\n 21.9445  -22.9312\n 21.9362  -22.9106\n  ⋮       \n 21.9369  -22.9025\n 21.8989  -22.8595\n 21.9491  -22.9197\n 21.9194  -22.87\n 22.0101  -22.9866\n 21.9432  -22.9273\n 21.9374  -22.9038\n 21.9281  -22.8941\n 21.9668  -22.9367"
     },
     "metadata": {},
     "execution_count": 3
    }
   ],
   "cell_type": "code",
   "source": [
    "[s.O2t s.CO2t]"
   ],
   "metadata": {},
   "execution_count": 3
  },
  {
   "cell_type": "markdown",
   "source": [
    "---\n",
    "\n",
    "*This notebook was generated using [Literate.jl](https://github.com/fredrikekre/Literate.jl).*"
   ],
   "metadata": {}
  }
 ],
 "nbformat_minor": 3,
 "metadata": {
  "language_info": {
   "file_extension": ".jl",
   "mimetype": "application/julia",
   "name": "julia",
   "version": "1.9.4"
  },
  "kernelspec": {
   "name": "julia-1.9",
   "display_name": "Julia 1.9.4",
   "language": "julia"
  }
 },
 "nbformat": 4
}
