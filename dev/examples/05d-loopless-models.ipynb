{
 "cells": [
  {
   "cell_type": "markdown",
   "source": [
    "# Loopless flux balance analysis (ll-FBA)"
   ],
   "metadata": {}
  },
  {
   "cell_type": "markdown",
   "source": [
    "Here, we show how to add loopless constraints to a flux balance model to\n",
    "ensure that the resultant solution is thermodynamically consistent. As\n",
    "before, we use the core *E. coli* model, which we can download using\n",
    "`download_model`:"
   ],
   "metadata": {}
  },
  {
   "outputs": [
    {
     "name": "stdout",
     "output_type": "stream",
     "text": [
      "[ Info: using cached `e_coli_core.json'\n"
     ]
    },
    {
     "output_type": "execute_result",
     "data": {
      "text/plain": "\"e_coli_core.json\""
     },
     "metadata": {},
     "execution_count": 1
    }
   ],
   "cell_type": "code",
   "source": [
    "using COBREXA\n",
    "\n",
    "download_model(\n",
    "    \"http://bigg.ucsd.edu/static/models/e_coli_core.json\",\n",
    "    \"e_coli_core.json\",\n",
    "    \"7bedec10576cfe935b19218dc881f3fb14f890a1871448fc19a9b4ee15b448d8\",\n",
    ")"
   ],
   "metadata": {},
   "execution_count": 1
  },
  {
   "cell_type": "markdown",
   "source": [
    "Additionally to COBREXA and the JSON model format package. We will also need a\n",
    "solver which can solve mixed-integer linear programs, such as HiGHS."
   ],
   "metadata": {}
  },
  {
   "outputs": [
    {
     "output_type": "execute_result",
     "data": {
      "text/plain": "JSONFBCModels.JSONFBCModel(#= 95 reactions, 72 metabolites =#)"
     },
     "metadata": {},
     "execution_count": 2
    }
   ],
   "cell_type": "code",
   "source": [
    "import JSONFBCModels\n",
    "import HiGHS\n",
    "\n",
    "model = load_model(\"e_coli_core.json\")"
   ],
   "metadata": {},
   "execution_count": 2
  },
  {
   "cell_type": "markdown",
   "source": [
    "## Running a loopless FBA (ll-FBA)"
   ],
   "metadata": {}
  },
  {
   "cell_type": "markdown",
   "source": [
    "One can directly use `loopless_flux_balance_analysis` to solve an FBA problem\n",
    "based on `model` where loopless constraints are added to all fluxes. This is\n",
    "the direct approach."
   ],
   "metadata": {}
  },
  {
   "outputs": [
    {
     "output_type": "execute_result",
     "data": {
      "text/plain": "ConstraintTrees.Tree{Float64} with 7 elements:\n  :coupling                => ConstraintTrees.Tree{Float64}(#= 0 elements =#)\n  :flux_stoichiometry      => ConstraintTrees.Tree{Float64}(#= 72 elements =#)\n  :fluxes                  => ConstraintTrees.Tree{Float64}(#= 95 elements =#)\n  :loopless_constraints    => ConstraintTrees.Tree{Float64}(#= 5 elements =#)\n  :loopless_directions     => ConstraintTrees.Tree{Float64}(#= 75 elements =#)\n  :loopless_driving_forces => ConstraintTrees.Tree{Float64}(#= 75 elements =#)\n  :objective               => 0.873922"
     },
     "metadata": {},
     "execution_count": 3
    }
   ],
   "cell_type": "code",
   "source": [
    "solution = loopless_flux_balance_analysis(model; optimizer = HiGHS.Optimizer)"
   ],
   "metadata": {},
   "execution_count": 3
  },
  {
   "cell_type": "markdown",
   "source": [
    "Loopless constraints can also be added to any model (e.g. enzyme constrained\n",
    "models). Refer to the source code of\n",
    "`loopless_flux_balance_constraints` for guidance."
   ],
   "metadata": {}
  },
  {
   "cell_type": "markdown",
   "source": [
    "---\n",
    "\n",
    "*This notebook was generated using [Literate.jl](https://github.com/fredrikekre/Literate.jl).*"
   ],
   "metadata": {}
  }
 ],
 "nbformat_minor": 3,
 "metadata": {
  "language_info": {
   "file_extension": ".jl",
   "mimetype": "application/julia",
   "name": "julia",
   "version": "1.11.6"
  },
  "kernelspec": {
   "name": "julia-1.11",
   "display_name": "Julia 1.11.6",
   "language": "julia"
  }
 },
 "nbformat": 4
}
