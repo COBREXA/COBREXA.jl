{
 "cells": [
  {
   "cell_type": "markdown",
   "source": [
    "# CycleFreeFlux\n",
    "\n",
    "CycleFreeFlux essentially defines a L1-parsimonious model which can be used\n",
    "to run a cycle-free FBA and FVA. In COBREXA, this is best done by reusing\n",
    "`linear_parsimonious_flux_balance_analysis`.\n",
    "\n",
    "First, let's get a model, create a constraint tree with the model, and ask\n",
    "for explicitly materializing constraints for the exchanges:"
   ],
   "metadata": {}
  },
  {
   "outputs": [
    {
     "name": "stdout",
     "output_type": "stream",
     "text": [
      "[ Info: using cached `e_coli_core.json'\n"
     ]
    },
    {
     "output_type": "execute_result",
     "data": {
      "text/plain": "ConstraintTrees.Tree{ConstraintTrees.Constraint} with 5 elements:\n  :coupling           => ConstraintTrees.Tree{ConstraintTrees.Constraint}(#= 0 …\n  :flux_stoichiometry => ConstraintTrees.Tree{ConstraintTrees.Constraint}(#= 72…\n  :fluxes             => ConstraintTrees.Tree{ConstraintTrees.Constraint}(#= 95…\n  :interface          => ConstraintTrees.Tree{ConstraintTrees.Constraint}(#= 3 …\n  :objective          => ConstraintTrees.Constraint(ConstraintTrees.LinearValue…"
     },
     "metadata": {},
     "execution_count": 1
    }
   ],
   "cell_type": "code",
   "source": [
    "using COBREXA\n",
    "\n",
    "download_model(\n",
    "    \"http://bigg.ucsd.edu/static/models/e_coli_core.json\",\n",
    "    \"e_coli_core.json\",\n",
    "    \"7bedec10576cfe935b19218dc881f3fb14f890a1871448fc19a9b4ee15b448d8\",\n",
    ")\n",
    "\n",
    "import JSONFBCModels, HiGHS\n",
    "model = load_model(\"e_coli_core.json\")\n",
    "\n",
    "cs = flux_balance_constraints(model, interface = :identifier_prefixes)"
   ],
   "metadata": {},
   "execution_count": 1
  },
  {
   "cell_type": "markdown",
   "source": [
    "We will also need some existing solution of the model -- CycleFreeFlux\n",
    "algorithm uses this one as a reference for fixing the exchange reaction flux."
   ],
   "metadata": {}
  },
  {
   "outputs": [
    {
     "output_type": "execute_result",
     "data": {
      "text/plain": "ConstraintTrees.Tree{Float64} with 5 elements:\n  :coupling           => ConstraintTrees.Tree{Float64}(#= 0 elements =#)\n  :flux_stoichiometry => ConstraintTrees.Tree{Float64}(#= 72 elements =#)\n  :fluxes             => ConstraintTrees.Tree{Float64}(#= 95 elements =#)\n  :interface          => ConstraintTrees.Tree{Float64}(#= 3 elements =#)\n  :objective          => 0.873922"
     },
     "metadata": {},
     "execution_count": 2
    }
   ],
   "cell_type": "code",
   "source": [
    "some_flux =\n",
    "    optimized_values(cs, objective = cs.objective.value, optimizer = HiGHS.Optimizer)"
   ],
   "metadata": {},
   "execution_count": 2
  },
  {
   "cell_type": "markdown",
   "source": [
    "(Ideally, we should use a solving method that gives a more unique flux, but for this example a simple FBA optimum will do.)\n",
    "\n",
    "With this in hand, we can start the CycleFreeFlux workflow by placing\n",
    "constraints on exchange reactions in a linear-parsimonious model:"
   ],
   "metadata": {}
  },
  {
   "outputs": [
    {
     "output_type": "execute_result",
     "data": {
      "text/plain": "ConstraintTrees.Tree{ConstraintTrees.Constraint} with 9 elements:\n  :coupling                 => ConstraintTrees.Tree{ConstraintTrees.Constraint}…\n  :directional_flux_balance => ConstraintTrees.Tree{ConstraintTrees.Constraint}…\n  :fixed_exchanges          => ConstraintTrees.Tree{ConstraintTrees.Constraint}…\n  :flux_stoichiometry       => ConstraintTrees.Tree{ConstraintTrees.Constraint}…\n  :fluxes                   => ConstraintTrees.Tree{ConstraintTrees.Constraint}…\n  :fluxes_forward           => ConstraintTrees.Tree{ConstraintTrees.Constraint}…\n  :fluxes_reverse           => ConstraintTrees.Tree{ConstraintTrees.Constraint}…\n  :objective                => ConstraintTrees.Constraint(ConstraintTrees.Linea…\n  :parsimonious_objective   => ConstraintTrees.Constraint(ConstraintTrees.Linea…"
     },
     "metadata": {},
     "execution_count": 3
    }
   ],
   "cell_type": "code",
   "source": [
    "import ConstraintTrees as C\n",
    "\n",
    "cs = linear_parsimonious_flux_balance_constraints(model)\n",
    "\n",
    "cs *=\n",
    "    :fixed_exchanges^C.ConstraintTree(\n",
    "        k => C.Constraint(cs.fluxes[k].value, relative_tolerance_bound(0.999)(v)) for\n",
    "        (k, v) in some_flux.interface.exchanges\n",
    "    )"
   ],
   "metadata": {},
   "execution_count": 3
  },
  {
   "cell_type": "markdown",
   "source": [
    "(We purposefully made the constraints a little less strict by using\n",
    "`relative_tolerance_bound` -- the toy E. coli model would otherwise\n",
    "display no variability at all.)\n",
    "\n",
    "Now we can get a L1-parsimonious (thus cycle-free) solution of the model with\n",
    "the predefined exchanges:"
   ],
   "metadata": {}
  },
  {
   "outputs": [
    {
     "output_type": "execute_result",
     "data": {
      "text/plain": "ConstraintTrees.Tree{Float64} with 95 elements:\n  :ACALD                    => 0.0\n  :ACALDt                   => 0.0\n  :ACKr                     => 0.0\n  :ACONTa                   => 6.00725\n  :ACONTb                   => 6.00725\n  :ACt2r                    => 0.0\n  :ADK1                     => 0.0\n  :AKGDH                    => 5.06438\n  :AKGt2r                   => 0.0\n  :ALCD2x                   => 0.0\n  :ATPM                     => 8.39\n  :ATPS4r                   => 45.514\n  :BIOMASS_Ecoli_core_w_GAM => 0.873922\n  :CO2t                     => -22.8098\n  :CS                       => 6.00725\n  :CYTBD                    => 43.599\n  :D_LACt2                  => 0.0\n  :ENO                      => 14.7161\n  :ETOHt2r                  => 0.0\n  ⋮                         => ⋮"
     },
     "metadata": {},
     "execution_count": 4
    }
   ],
   "cell_type": "code",
   "source": [
    "cycle_free_flux = parsimonious_optimized_values(\n",
    "    cs,\n",
    "    objective = cs.objective.value,\n",
    "    objective_value = some_flux.objective,\n",
    "    parsimonious_objective = cs.parsimonious_objective.value,\n",
    "    optimizer = HiGHS.Optimizer,\n",
    ")\n",
    "\n",
    "cycle_free_flux.fluxes"
   ],
   "metadata": {},
   "execution_count": 4
  },
  {
   "cell_type": "markdown",
   "source": [
    "## CycleFreeFVA\n",
    "\n",
    "With this in hand, we can also run the cycle-free flux variability analysis\n",
    "(again with an added bit of tolerances in both the objective and parsimonious\n",
    "bounds):"
   ],
   "metadata": {}
  },
  {
   "outputs": [
    {
     "output_type": "execute_result",
     "data": {
      "text/plain": "ConstraintTrees.Tree{Tuple{Union{Nothing, Float64}, Union{Nothing, Float64}}} with 95 elements:\n  :ACALD                    => (-0.0, 0.0)\n  :ACALDt                   => (-0.0, 0.0)\n  :ACKr                     => (-0.0, 0.0)\n  :ACONTa                   => (5.92071, 6.08235)\n  :ACONTb                   => (5.92071, 6.08235)\n  :ACt2r                    => (-0.0, 0.0)\n  :ADK1                     => (-0.0, 0.108535)\n  :AKGDH                    => (4.48889, 5.14042)\n  :AKGt2r                   => (-0.0, 9.63674e-13)\n  :ALCD2x                   => (-0.0, 0.0)\n  :ATPM                     => (8.39, 8.51247)\n  :ATPS4r                   => (45.3147, 45.6379)\n  :BIOMASS_Ecoli_core_w_GAM => (0.873048, 0.873922)\n  :CO2t                     => (-22.8311, -22.7898)\n  :CS                       => (5.92071, 6.08235)\n  :CYTBD                    => (43.561, 43.6426)\n  :D_LACt2                  => (1.39223e-13, 0.0)\n  :ENO                      => (14.6209, 14.7825)\n  :ETOHt2r                  => (-0.0, -5.77316e-14)\n  ⋮                         => ⋮"
     },
     "metadata": {},
     "execution_count": 5
    }
   ],
   "cell_type": "code",
   "source": [
    "cs.objective.bound = C.Between(cycle_free_flux.objective * 0.999, Inf)\n",
    "cs.parsimonious_objective.bound =\n",
    "    C.Between(0, cycle_free_flux.parsimonious_objective * 1.001)\n",
    "\n",
    "var = constraints_variability(cs, cs.fluxes, optimizer = HiGHS.Optimizer)"
   ],
   "metadata": {},
   "execution_count": 5
  },
  {
   "cell_type": "markdown",
   "source": [
    "## CycleFree sampling\n",
    "\n",
    "Naturally, we can also run flux sampling from the above model. To implement\n",
    "this, we follow the implementation of `flux_sample` --- first we\n",
    "generate the warmup:"
   ],
   "metadata": {}
  },
  {
   "outputs": [
    {
     "output_type": "execute_result",
     "data": {
      "text/plain": "190×285 Matrix{Float64}:\n 7.40268  -0.0          4.63538  -15.9497  5.18557  …  -0.0  -0.0  -0.0  -0.0\n 7.3821   -0.0          4.57806  -15.927   5.24023     -0.0  -0.0  -0.0  -0.0\n 7.40268  -0.0          4.63538  -15.9497  5.18557     -0.0  -0.0  -0.0  -0.0\n 7.3821   -0.0          4.57806  -15.927   5.24023     -0.0  -0.0  -0.0  -0.0\n 7.40268  -0.0          4.63538  -15.9497  5.18557     -0.0  -0.0  -0.0  -0.0\n 7.3821   -0.0          4.57806  -15.927   5.24023  …  -0.0  -0.0  -0.0  -0.0\n 7.3821   -0.0          4.57806  -15.927   5.24023     -0.0  -0.0  -0.0  -0.0\n 7.54579  -0.0          5.0732   -16.0886  4.74305     -0.0  -0.0  -0.0  -0.0\n 7.3821   -0.0          4.57806  -15.927   5.24023     -0.0  -0.0  -0.0  -0.0\n 7.54579  -0.0          5.0732   -16.0886  4.74305     -0.0  -0.0  -0.0  -0.0\n ⋮                                                  ⋱                    \n 7.3821   -0.0          4.57806  -15.927   5.24023     -0.0  -0.0  -0.0  -0.0\n 7.40268  -0.0          4.63538  -15.9497  5.18557     -0.0  -0.0  -0.0  -0.0\n 7.54579  -0.0          5.0732   -16.0886  4.74305     -0.0  -0.0  -0.0  -0.0\n 7.54579  -0.0          5.0732   -16.0886  4.74305     -0.0  -0.0  -0.0  -0.0\n 7.3821   -2.27792e-13  4.57806  -15.927   5.24023  …  -0.0  -0.0  -0.0  -0.0\n 7.54579  -0.0          5.0732   -16.0886  4.74305     -0.0  -0.0  -0.0  -0.0\n 7.3821   -2.27792e-13  4.57806  -15.927   5.24023     -0.0  -0.0  -0.0  -0.0\n 7.3821   -0.0          4.57806  -15.927   5.24023     -0.0  -0.0  -0.0  -0.0\n 7.54579  -0.0          5.0732   -16.0886  4.74305     -0.0  -0.0  -0.0  -0.0"
     },
     "metadata": {},
     "execution_count": 6
    }
   ],
   "cell_type": "code",
   "source": [
    "warmup = vcat(\n",
    "    (\n",
    "        transpose(v) for (_, vs) in constraints_variability(\n",
    "            cs,\n",
    "            cs.fluxes,\n",
    "            optimizer = HiGHS.Optimizer,\n",
    "            output = (_, om) -> variable_vector(om),\n",
    "            output_type = Vector{Float64},\n",
    "        ) for v in vs\n",
    "    )...,\n",
    ")"
   ],
   "metadata": {},
   "execution_count": 6
  },
  {
   "cell_type": "markdown",
   "source": [
    "Next, we can run the sampling:"
   ],
   "metadata": {}
  },
  {
   "outputs": [
    {
     "output_type": "execute_result",
     "data": {
      "text/plain": "ConstraintTrees.Tree{Vector{Float64}} with 95 elements:\n  :ACALD                    => [-7.85929e-15, 3.12233e-15, -6.32648e-15, -9.255…\n  :ACALDt                   => [-3.35535e-15, 7.30498e-15, -6.93217e-16, -4.301…\n  :ACKr                     => [-2.25938e-14, -1.25307e-14, -1.87866e-14, -2.04…\n  :ACONTa                   => [5.99813, 6.00102, 5.99386, 5.9927, 5.99009, 5.9…\n  :ACONTb                   => [5.99813, 6.00102, 5.99386, 5.9927, 5.99009, 5.9…\n  :ACt2r                    => [-2.26604e-14, -1.26102e-14, -1.88598e-14, -2.05…\n  :ADK1                     => [0.00366918, 0.00229605, 0.00255894, 0.00289447,…\n  :AKGDH                    => [4.97009, 4.92654, 4.93649, 4.92894, 4.95038, 4.…\n  :AKGt2r                   => [3.21028e-14, 4.66312e-14, 2.72193e-14, 1.34945e…\n  :ALCD2x                   => [-3.86995e-15, -3.7229e-15, -5.06453e-15, -4.348…\n  :ATPM                     => [8.391, 8.39171, 8.39097, 8.3908, 8.39019, 8.390…\n  :ATPS4r                   => [45.5143, 45.509, 45.5227, 45.5218, 45.5294, 45.…\n  :BIOMASS_Ecoli_core_w_GAM => [0.873127, 0.87315, 0.87316, 0.87315, 0.873184, …\n  :CO2t                     => [-22.8174, -22.8185, -22.8188, -22.8189, -22.819…\n  :CS                       => [5.99813, 6.00102, 5.99386, 5.9927, 5.99009, 5.9…\n  :CYTBD                    => [43.616, 43.6182, 43.6186, 43.619, 43.619, 43.62…\n  :D_LACt2                  => [-2.08644e-14, -2.16803e-14, -2.07692e-14, -2.34…\n  :ENO                      => [14.6991, 14.7022, 14.6952, 14.6939, 14.6916, 14…\n  :ETOHt2r                  => [-4.90694e-15, -3.98458e-15, -5.63877e-15, -5.09…\n  ⋮                         => ⋮"
     },
     "metadata": {},
     "execution_count": 7
    }
   ],
   "cell_type": "code",
   "source": [
    "sample = sample_constraints(\n",
    "    sample_chain_achr,\n",
    "    cs,\n",
    "    start_variables = warmup,\n",
    "    seed = UInt(1234),\n",
    "    output = cs.fluxes,\n",
    "    n_chains = 10,\n",
    "    collect_iterations = collect(10:15),\n",
    ")"
   ],
   "metadata": {},
   "execution_count": 7
  },
  {
   "cell_type": "markdown",
   "source": [
    "The results can be observed (and usually plotted) from the sample vectors,\n",
    "such as the one for oxygen exchange:"
   ],
   "metadata": {}
  },
  {
   "outputs": [
    {
     "output_type": "execute_result",
     "data": {
      "text/plain": "11400-element Vector{Float64}:\n -21.80801279761615\n -21.80909965602572\n -21.80930963740098\n -21.80947899277754\n -21.809475488922107\n -21.810421483414107\n -21.80854524250612\n -21.80880422807698\n -21.809512140853517\n -21.80952709530663\n   ⋮\n -21.810011276079326\n -21.810020653415503\n -21.808622072753835\n -21.808747348916107\n -21.809865327092407\n -21.809303155329953\n -21.81135072741717\n -21.810153001483112\n -21.81051289673462"
     },
     "metadata": {},
     "execution_count": 8
    }
   ],
   "cell_type": "code",
   "source": [
    "sample.EX_o2_e"
   ],
   "metadata": {},
   "execution_count": 8
  },
  {
   "cell_type": "markdown",
   "source": [
    "---\n",
    "\n",
    "*This notebook was generated using [Literate.jl](https://github.com/fredrikekre/Literate.jl).*"
   ],
   "metadata": {}
  }
 ],
 "nbformat_minor": 3,
 "metadata": {
  "language_info": {
   "file_extension": ".jl",
   "mimetype": "application/julia",
   "name": "julia",
   "version": "1.9.4"
  },
  "kernelspec": {
   "name": "julia-1.9",
   "display_name": "Julia 1.9.4",
   "language": "julia"
  }
 },
 "nbformat": 4
}
