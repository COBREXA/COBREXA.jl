{
 "cells": [
  {
   "cell_type": "markdown",
   "source": [
    "# Parsimonious flux balance analysis"
   ],
   "metadata": {}
  },
  {
   "cell_type": "markdown",
   "source": [
    "We will use `parsimonious_flux_balance_analysis` to find the optimal\n",
    "flux distribution in the *E. coli* \"core\" model.\n",
    "\n",
    "TODO pFBA citation"
   ],
   "metadata": {}
  },
  {
   "outputs": [
    {
     "name": "stdout",
     "output_type": "stream",
     "text": [
      "[ Info: using cached `e_coli_core.json'\n"
     ]
    },
    {
     "output_type": "execute_result",
     "data": {
      "text/plain": "\"e_coli_core.json\""
     },
     "metadata": {},
     "execution_count": 1
    }
   ],
   "cell_type": "code",
   "source": [
    "using COBREXA\n",
    "\n",
    "download_model(\n",
    "    \"http://bigg.ucsd.edu/static/models/e_coli_core.json\",\n",
    "    \"e_coli_core.json\",\n",
    "    \"7bedec10576cfe935b19218dc881f3fb14f890a1871448fc19a9b4ee15b448d8\",\n",
    ")"
   ],
   "metadata": {},
   "execution_count": 1
  },
  {
   "cell_type": "markdown",
   "source": [
    "next, load the necessary packages"
   ],
   "metadata": {}
  },
  {
   "outputs": [
    {
     "output_type": "execute_result",
     "data": {
      "text/plain": "JSONFBCModels.JSONFBCModel(#= 95 reactions, 72 metabolites =#)"
     },
     "metadata": {},
     "execution_count": 2
    }
   ],
   "cell_type": "code",
   "source": [
    "import JSONFBCModels\n",
    "import Clarabel # can solve QPs\n",
    "\n",
    "model = load_model(\"e_coli_core.json\") # load the model"
   ],
   "metadata": {},
   "execution_count": 2
  },
  {
   "cell_type": "markdown",
   "source": [
    "Use the convenience function to run standard pFBA on"
   ],
   "metadata": {}
  },
  {
   "outputs": [
    {
     "output_type": "execute_result",
     "data": {
      "text/plain": "ConstraintTrees.Tree{Float64} with 4 elements:\n  :flux_stoichiometry     => ConstraintTrees.Tree{Float64}(#= 72 elements =#)\n  :fluxes                 => ConstraintTrees.Tree{Float64}(#= 95 elements =#)\n  :objective              => 0.873922\n  :parsimonious_objective => 11414.2"
     },
     "metadata": {},
     "execution_count": 3
    }
   ],
   "cell_type": "code",
   "source": [
    "solution = parsimonious_flux_balance_analysis(\n",
    "    model;\n",
    "    optimizer = Clarabel.Optimizer,\n",
    "    settings = [silence],\n",
    ")"
   ],
   "metadata": {},
   "execution_count": 3
  },
  {
   "cell_type": "markdown",
   "source": [
    "## Linear version\n",
    "\n",
    "TODO"
   ],
   "metadata": {}
  },
  {
   "outputs": [
    {
     "output_type": "execute_result",
     "data": {
      "text/plain": "ConstraintTrees.Tree{Float64} with 7 elements:\n  :directional_flux_balance => ConstraintTrees.Tree{Float64}(#= 95 elements =#)\n  :flux_stoichiometry       => ConstraintTrees.Tree{Float64}(#= 72 elements =#)\n  :fluxes                   => ConstraintTrees.Tree{Float64}(#= 95 elements =#)\n  :fluxes_forward           => ConstraintTrees.Tree{Float64}(#= 95 elements =#)\n  :fluxes_reverse           => ConstraintTrees.Tree{Float64}(#= 95 elements =#)\n  :objective                => 0.873922\n  :parsimonious_objective   => 518.422"
     },
     "metadata": {},
     "execution_count": 4
    }
   ],
   "cell_type": "code",
   "source": [
    "import GLPK\n",
    "\n",
    "linear_solution =\n",
    "    linear_parsimonious_flux_balance_analysis(model; optimizer = GLPK.Optimizer)"
   ],
   "metadata": {},
   "execution_count": 4
  },
  {
   "cell_type": "markdown",
   "source": [
    "---\n",
    "\n",
    "*This notebook was generated using [Literate.jl](https://github.com/fredrikekre/Literate.jl).*"
   ],
   "metadata": {}
  }
 ],
 "nbformat_minor": 3,
 "metadata": {
  "language_info": {
   "file_extension": ".jl",
   "mimetype": "application/julia",
   "name": "julia",
   "version": "1.9.4"
  },
  "kernelspec": {
   "name": "julia-1.9",
   "display_name": "Julia 1.9.4",
   "language": "julia"
  }
 },
 "nbformat": 4
}
