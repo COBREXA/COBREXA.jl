{
 "cells": [
  {
   "cell_type": "markdown",
   "source": [
    "# Parsimonious flux balance analysis"
   ],
   "metadata": {}
  },
  {
   "cell_type": "markdown",
   "source": [
    "We will use `parsimonious_flux_balance_analysis` and\n",
    "`minimization_of_metabolic_adjustment` to find the optimal flux\n",
    "distribution in the *E. coli* \"core\" model.\n",
    "\n",
    "TODO pFBA citation"
   ],
   "metadata": {}
  },
  {
   "cell_type": "markdown",
   "source": [
    "If it is not already present, download the model and load the package:"
   ],
   "metadata": {}
  },
  {
   "outputs": [
    {
     "output_type": "execute_result",
     "data": {
      "text/plain": "false"
     },
     "metadata": {},
     "execution_count": 1
    }
   ],
   "cell_type": "code",
   "source": [
    "import Downloads: download\n",
    "\n",
    "!isfile(\"e_coli_core.json\") &&\n",
    "    download(\"http://bigg.ucsd.edu/static/models/e_coli_core.json\", \"e_coli_core.json\")"
   ],
   "metadata": {},
   "execution_count": 1
  },
  {
   "cell_type": "markdown",
   "source": [
    "next, load the necessary packages"
   ],
   "metadata": {}
  },
  {
   "outputs": [
    {
     "output_type": "execute_result",
     "data": {
      "text/plain": "JSONFBCModels.JSONFBCModel(#= 95 reactions, 72 metabolites =#)"
     },
     "metadata": {},
     "execution_count": 2
    }
   ],
   "cell_type": "code",
   "source": [
    "using COBREXA\n",
    "\n",
    "import JSONFBCModels\n",
    "import Clarabel # can solve QPs\n",
    "\n",
    "model = load_model(\"e_coli_core.json\") # load the model"
   ],
   "metadata": {},
   "execution_count": 2
  },
  {
   "cell_type": "markdown",
   "source": [
    "Use the convenience function to run standard pFBA on"
   ],
   "metadata": {}
  },
  {
   "outputs": [
    {
     "output_type": "execute_result",
     "data": {
      "text/plain": "ConstraintTrees.Tree{Float64} with 4 elements:\n  :flux_stoichiometry     => ConstraintTrees.Tree{Float64}(#= 72 elements =#)\n  :fluxes                 => ConstraintTrees.Tree{Float64}(#= 95 elements =#)\n  :objective              => 0.873922\n  :parsimonious_objective => 11414.2"
     },
     "metadata": {},
     "execution_count": 3
    }
   ],
   "cell_type": "code",
   "source": [
    "vt = parsimonious_flux_balance_analysis(model, Clarabel.Optimizer; settings = [silence])"
   ],
   "metadata": {},
   "execution_count": 3
  },
  {
   "cell_type": "markdown",
   "source": [
    "# Alternatively, you can construct your own constraint tree model with\n",
    "# the quadratic objective (this approach is much more flexible).\n",
    "\n",
    "ctmodel = flux_balance_constraints(model)\n",
    "ctmodel *= :l2objective^squared_sum_value(ctmodel.fluxes)\n",
    "ctmodel.objective.bound = 0.3 # set growth rate # TODO currently breaks\n",
    "\n",
    "opt_model = optimization_model(\n",
    "    ctmodel;\n",
    "    objective = ctmodel.:l2objective.value,\n",
    "    optimizer = Clarabel.Optimizer,\n",
    "    sense = Minimal,\n",
    ")\n",
    "\n",
    "J.optimize!(opt_model) # JuMP is called J in COBREXA\n",
    "\n",
    "is_solved(opt_model) # check if solved\n",
    "\n",
    "vt = C.substitute_values(ctmodel, J.value.(opt_model[:x])) # ConstraintTrees.jl is called C in COBREXA\n",
    "\n",
    "@test isapprox(vt.l2objective, ?; atol = QP_TEST_TOLERANCE) #src  # TODO will break until mutable bounds\n",
    "\n",
    "# It is likewise as simple to run MOMA using the convenience functions.\n",
    "\n",
    "ref_sol = Dict(\"ATPS4r\" => 33.0, \"CYTBD\" => 22.0)\n",
    "\n",
    "vt = minimize_metabolic_adjustment(model, ref_sol, Gurobi.Optimizer)\n",
    "\n",
    "# Or use the piping functionality\n",
    "\n",
    "model |>\n",
    "minimize_metabolic_adjustment(ref_sol, Clarabel.Optimizer; settings = [silence])\n",
    "\n",
    "\n",
    "# Alternatively, you can construct your own constraint tree model with\n",
    "# the quadratic objective (this approach is much more flexible).\n",
    "\n",
    "ctmodel = flux_balance_constraints(model)\n",
    "ctmodel *=\n",
    "    :minoxphospho^squared_sum_error_value(\n",
    "        ctmodel.fluxes,\n",
    "        Dict(:ATPS4r => 33.0, :CYTBD => 22.0),\n",
    "    )\n",
    "ctmodel.objective.bound = 0.3 # set growth rate # TODO currently breaks\n",
    "\n",
    "opt_model = optimization_model(\n",
    "    ctmodel;\n",
    "    objective = ctmodel.minoxphospho.value,\n",
    "    optimizer = Clarabel.Optimizer,\n",
    "    sense = Minimal,\n",
    ")\n",
    "\n",
    "J.optimize!(opt_model) # JuMP is called J in COBREXA\n",
    "\n",
    "is_solved(opt_model) # check if solved\n",
    "\n",
    "vt = C.substitute_values(ctmodel, J.value.(opt_model[:x])) # ConstraintTrees.jl is called C in COBREXA\n",
    "\n",
    "@test isapprox(vt.l2objective, ?; atol = QP_TEST_TOLERANCE) #src  # TODO will break until mutable bounds"
   ],
   "metadata": {}
  },
  {
   "cell_type": "markdown",
   "source": [
    "---\n",
    "\n",
    "*This notebook was generated using [Literate.jl](https://github.com/fredrikekre/Literate.jl).*"
   ],
   "metadata": {}
  }
 ],
 "nbformat_minor": 3,
 "metadata": {
  "language_info": {
   "file_extension": ".jl",
   "mimetype": "application/julia",
   "name": "julia",
   "version": "1.9.4"
  },
  "kernelspec": {
   "name": "julia-1.9",
   "display_name": "Julia 1.9.4",
   "language": "julia"
  }
 },
 "nbformat": 4
}
