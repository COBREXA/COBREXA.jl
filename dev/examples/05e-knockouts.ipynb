{
 "cells": [
  {
   "cell_type": "markdown",
   "source": [
    "# Gene knockouts\n",
    "\n",
    "FBA is classically very good at predicting the effect of knocking out genes\n",
    "in an organism. Here we demonstrate the ways of using the FBA to examine\n",
    "knockouts in COBREXA.\n",
    "\n",
    "As usual, we need packages and models:"
   ],
   "metadata": {}
  },
  {
   "outputs": [
    {
     "name": "stdout",
     "output_type": "stream",
     "text": [
      "[ Info: using cached `e_coli_core.json'\n"
     ]
    },
    {
     "output_type": "execute_result",
     "data": {
      "text/plain": "JSONFBCModels.JSONFBCModel(#= 95 reactions, 72 metabolites =#)"
     },
     "metadata": {},
     "execution_count": 1
    }
   ],
   "cell_type": "code",
   "source": [
    "using COBREXA\n",
    "\n",
    "download_model(\n",
    "    \"http://bigg.ucsd.edu/static/models/e_coli_core.json\",\n",
    "    \"e_coli_core.json\",\n",
    "    \"7bedec10576cfe935b19218dc881f3fb14f890a1871448fc19a9b4ee15b448d8\",\n",
    ")\n",
    "\n",
    "import JSONFBCModels\n",
    "import GLPK\n",
    "\n",
    "model = load_model(\"e_coli_core.json\")"
   ],
   "metadata": {},
   "execution_count": 1
  },
  {
   "cell_type": "markdown",
   "source": [
    "## Single gene knockouts"
   ],
   "metadata": {}
  },
  {
   "cell_type": "markdown",
   "source": [
    "Function `gene_knockouts` is a convenience wrapper for FBA that\n",
    "computes and optimizes the knockout biomass productions for all genes:"
   ],
   "metadata": {}
  },
  {
   "outputs": [
    {
     "output_type": "execute_result",
     "data": {
      "text/plain": "0.37422987493310866"
     },
     "metadata": {},
     "execution_count": 2
    }
   ],
   "cell_type": "code",
   "source": [
    "ko_objective_values = gene_knockouts(model, optimizer = GLPK.Optimizer)\n",
    "\n",
    "ko_dict = Dict(ko_objective_values)\n",
    "\n",
    "\n",
    "ko_dict[\"b3919\"]\n",
    "\n",
    "ko_dict[\"b3738\"]"
   ],
   "metadata": {},
   "execution_count": 2
  },
  {
   "cell_type": "markdown",
   "source": [
    "From the result, we can see e.g. how many genes are critical:"
   ],
   "metadata": {}
  },
  {
   "outputs": [
    {
     "output_type": "execute_result",
     "data": {
      "text/plain": "2"
     },
     "metadata": {},
     "execution_count": 3
    }
   ],
   "cell_type": "code",
   "source": [
    "critical = count(isnothing, values(ko_dict))"
   ],
   "metadata": {},
   "execution_count": 3
  },
  {
   "cell_type": "markdown",
   "source": [
    "## Multiple gene knockouts"
   ],
   "metadata": {}
  },
  {
   "cell_type": "markdown",
   "source": [
    "By default, `gene_knockouts` simply computes all gene knockouts. To\n",
    "examine multi-gene knockouts, we specify them manually as an array of tuples:"
   ],
   "metadata": {}
  },
  {
   "outputs": [
    {
     "output_type": "execute_result",
     "data": {
      "text/plain": "2-element Vector{Pair{Tuple{String, String}, Float64}}:\n (\"b3919\", \"b3738\") => 0.13475540327383498\n (\"b0118\", \"b0720\") => -1.0222950287826093e-15"
     },
     "metadata": {},
     "execution_count": 4
    }
   ],
   "cell_type": "code",
   "source": [
    "some_double_knockouts = gene_knockouts(\n",
    "    model,\n",
    "    [(\"b3919\", \"b3738\"), (\"b0118\", \"b0720\")],\n",
    "    optimizer = GLPK.Optimizer,\n",
    ")"
   ],
   "metadata": {},
   "execution_count": 4
  },
  {
   "cell_type": "markdown",
   "source": [
    "With the array processing functionality of Julia it is quite straightforward\n",
    "to generate the tuples for various specifications of knockout sets; for\n",
    "example here we specify all double knockout where the second knocked-out gene\n",
    "is `b3919`:"
   ],
   "metadata": {}
  },
  {
   "outputs": [
    {
     "output_type": "execute_result",
     "data": {
      "text/plain": "137-element Vector{Pair{Tuple{String, String}}}:\n (\"b3236\", \"b3919\") => 0.7040369478590305\n (\"b1621\", \"b3919\") => 0.70403694785902\n (\"b1241\", \"b3919\") => 0.70403694785902\n (\"b2276\", \"b3919\") => nothing\n (\"b3925\", \"b3919\") => 0.70403694785902\n (\"b0979\", \"b3919\") => 0.70403694785902\n (\"b2296\", \"b3919\") => 0.70403694785902\n (\"b4232\", \"b3919\") => 0.70403694785902\n (\"b2282\", \"b3919\") => nothing\n (\"b2283\", \"b3919\") => nothing\n                    ⋮\n (\"b0903\", \"b3919\") => 0.70403694785902\n (\"b1723\", \"b3919\") => 0.70403694785902\n (\"b0810\", \"b3919\") => 0.70403694785902\n (\"b0356\", \"b3919\") => 0.70403694785902\n (\"b2277\", \"b3919\") => nothing\n (\"b1276\", \"b3919\") => 0.70403694785902\n (\"b4153\", \"b3919\") => 0.70403694785902\n (\"b2279\", \"b3919\") => nothing\n (\"b0726\", \"b3919\") => 0.7040369478590158"
     },
     "metadata": {},
     "execution_count": 5
    }
   ],
   "cell_type": "code",
   "source": [
    "knockouts_with_b3919 = gene_knockouts(\n",
    "    model,\n",
    "    tuple.(keys(ko_dict), \"b3919\"),\n",
    "    optimizer = GLPK.Optimizer,\n",
    "    settings = [silence],\n",
    ")"
   ],
   "metadata": {},
   "execution_count": 5
  },
  {
   "cell_type": "markdown",
   "source": [
    "Now, how many genes are critical given `b3919` is already missing?"
   ],
   "metadata": {}
  },
  {
   "outputs": [
    {
     "output_type": "execute_result",
     "data": {
      "text/plain": "23"
     },
     "metadata": {},
     "execution_count": 6
    }
   ],
   "cell_type": "code",
   "source": [
    "critical_without_b3919 = count(isnothing, last.(knockouts_with_b3919))"
   ],
   "metadata": {},
   "execution_count": 6
  },
  {
   "cell_type": "markdown",
   "source": [
    "---\n",
    "\n",
    "*This notebook was generated using [Literate.jl](https://github.com/fredrikekre/Literate.jl).*"
   ],
   "metadata": {}
  }
 ],
 "nbformat_minor": 3,
 "metadata": {
  "language_info": {
   "file_extension": ".jl",
   "mimetype": "application/julia",
   "name": "julia",
   "version": "1.9.4"
  },
  "kernelspec": {
   "name": "julia-1.9",
   "display_name": "Julia 1.9.4",
   "language": "julia"
  }
 },
 "nbformat": 4
}
