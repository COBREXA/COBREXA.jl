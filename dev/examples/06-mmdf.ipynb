{
 "cells": [
  {
   "cell_type": "markdown",
   "source": [
    "# Thermodynamic models"
   ],
   "metadata": {}
  },
  {
   "outputs": [],
   "cell_type": "code",
   "source": [
    "using COBREXA"
   ],
   "metadata": {},
   "execution_count": 1
  },
  {
   "cell_type": "markdown",
   "source": [
    "Here we will solve the max min driving force analysis problem using the\n",
    "glycolysis pathway of *E. coli*. In essence, the method attempts to find\n",
    "metabolite concentrations (NB: not fluxes) that maximize the smallest\n",
    "thermodynamic driving force through each reaction. See Noor, et al., \"Pathway"
   ],
   "metadata": {}
  },
  {
   "outputs": [],
   "cell_type": "code",
   "source": [
    "#thermodynamics highlights kinetic obstacles in central metabolism.\", PLoS\n",
    "#computational biology, 2014, for more details."
   ],
   "metadata": {},
   "execution_count": 2
  },
  {
   "cell_type": "markdown",
   "source": [
    "To do this, we will first need a model that includes glycolysis, which we can\n",
    "download if it is not already present."
   ],
   "metadata": {}
  },
  {
   "outputs": [
    {
     "name": "stdout",
     "output_type": "stream",
     "text": [
      "[ Info: using cached `e_coli_core.json'\n"
     ]
    },
    {
     "output_type": "execute_result",
     "data": {
      "text/plain": "\"e_coli_core.json\""
     },
     "metadata": {},
     "execution_count": 3
    }
   ],
   "cell_type": "code",
   "source": [
    "using COBREXA\n",
    "\n",
    "download_model(\n",
    "    \"http://bigg.ucsd.edu/static/models/e_coli_core.json\",\n",
    "    \"e_coli_core.json\",\n",
    "    \"7bedec10576cfe935b19218dc881f3fb14f890a1871448fc19a9b4ee15b448d8\",\n",
    ")"
   ],
   "metadata": {},
   "execution_count": 3
  },
  {
   "cell_type": "markdown",
   "source": [
    "Additionally to COBREXA, and the model format package, we will need a solver\n",
    "-- let's use GLPK here:"
   ],
   "metadata": {}
  },
  {
   "outputs": [
    {
     "output_type": "execute_result",
     "data": {
      "text/plain": "JSONFBCModels.JSONFBCModel(#= 95 reactions, 72 metabolites =#)"
     },
     "metadata": {},
     "execution_count": 4
    }
   ],
   "cell_type": "code",
   "source": [
    "import JSONFBCModels\n",
    "import GLPK\n",
    "\n",
    "model = load_model(\"e_coli_core.json\")"
   ],
   "metadata": {},
   "execution_count": 4
  },
  {
   "cell_type": "markdown",
   "source": [
    "## Thermodynamic data"
   ],
   "metadata": {}
  },
  {
   "cell_type": "markdown",
   "source": [
    "We will need ΔᵣG⁰ data for each reaction we want to include in the\n",
    "thermodynamic model. To generate this data manually, use\n",
    "[eQuilibrator](https://equilibrator.weizmann.ac.il/). To generate\n",
    "automatically, you may use the\n",
    "[eQuilibrator.jl](https://github.com/stelmo/Equilibrator.jl) package."
   ],
   "metadata": {}
  },
  {
   "outputs": [
    {
     "output_type": "execute_result",
     "data": {
      "text/plain": "Dict{String, Float64} with 11 entries:\n  \"PFK\"    => -18.5463\n  \"PGI\"    => 2.63071\n  \"GLCpts\" => -45.4243\n  \"PGK\"    => 19.5719\n  \"TPI\"    => 5.62193\n  \"LDH_D\"  => 20.0406\n  \"ENO\"    => -3.81084\n  \"PYK\"    => -24.4873\n  \"FBA\"    => 23.3769\n  \"GAPD\"   => 0.530781\n  \"PGM\"    => -4.47055"
     },
     "metadata": {},
     "execution_count": 5
    }
   ],
   "cell_type": "code",
   "source": [
    "reaction_standard_gibbs_free_energies = Dict{String,Float64}(\n",
    "    \"ENO\" => -3.8108376097261782,\n",
    "    \"FBA\" => 23.376920310319235,\n",
    "    \"GAPD\" => 0.5307809794271634,\n",
    "    \"GLCpts\" => -45.42430981510088,\n",
    "    \"LDH_D\" => 20.04059765689044,\n",
    "    \"PFK\" => -18.546314942995934,\n",
    "    \"PGI\" => 2.6307087407442395,\n",
    "    \"PGK\" => 19.57192102020454,\n",
    "    \"PGM\" => -4.470553692565886,\n",
    "    \"PYK\" => -24.48733600711958,\n",
    "    \"TPI\" => 5.621932460512994,\n",
    ")"
   ],
   "metadata": {},
   "execution_count": 5
  },
  {
   "cell_type": "markdown",
   "source": [
    "(The units of the energies are kJ/mol.)"
   ],
   "metadata": {}
  },
  {
   "cell_type": "markdown",
   "source": [
    "## Running basic max min driving force analysis"
   ],
   "metadata": {}
  },
  {
   "cell_type": "markdown",
   "source": [
    "If a reference flux is not specified, it is assumed that every reaction in the\n",
    "model should be included in the thermodynamic model, and that each reaction\n",
    "proceeds in the forward direction. This is usually not intended, and can be\n",
    "prevented by inputting a reference flux dictionary as shown below. This\n",
    "dictionary can be a flux solution, the sign of each flux is used to determine\n",
    "if the reaction runs forward or backward."
   ],
   "metadata": {}
  },
  {
   "cell_type": "markdown",
   "source": [
    "## Using a reference solution"
   ],
   "metadata": {}
  },
  {
   "cell_type": "markdown",
   "source": [
    "Frequently it is useful to check the max-min driving force of a specific FBA\n",
    "solution. In this case, one is usually only interested in a subset of all the\n",
    "reactions in a model. These reactions can be specified as a the\n",
    "`reference_flux`, to only compute the MMDF of these reactions, and ignore all\n",
    "other reactions."
   ],
   "metadata": {}
  },
  {
   "outputs": [
    {
     "output_type": "execute_result",
     "data": {
      "text/plain": "Dict{String, Float64} with 11 entries:\n  \"PFK\"    => 1.0\n  \"PGI\"    => 1.0\n  \"GLCpts\" => 1.0\n  \"PGK\"    => -1.0\n  \"TPI\"    => 1.0\n  \"LDH_D\"  => -1.0\n  \"ENO\"    => 1.0\n  \"PYK\"    => 1.0\n  \"FBA\"    => 1.0\n  \"GAPD\"   => 1.0\n  \"PGM\"    => -1.0"
     },
     "metadata": {},
     "execution_count": 6
    }
   ],
   "cell_type": "code",
   "source": [
    "reference_flux = Dict(\n",
    "    \"ENO\" => 1.0,\n",
    "    \"FBA\" => 1.0,\n",
    "    \"GAPD\" => 1.0,\n",
    "    \"GLCpts\" => 1.0,\n",
    "    \"LDH_D\" => -1.0,\n",
    "    \"PFK\" => 1.0,\n",
    "    \"PGI\" => 1.0,\n",
    "    \"PGK\" => -1.0,\n",
    "    \"PGM\" => -1.0,\n",
    "    \"PYK\" => 1.0,\n",
    "    \"TPI\" => 1.0,\n",
    ")\n",
    "\n",
    "#!!! warning \"Only the signs are extracted from the reference solution\""
   ],
   "metadata": {},
   "execution_count": 6
  },
  {
   "cell_type": "markdown",
   "source": [
    "It is most convenient to pass a flux solution into `reference_flux`, but\n",
    "take care to round fluxes near 0 to their correct sign if they should be\n",
    "included in the resultant thermodynamic model. Otherwise, remove them from\n",
    "reference flux input."
   ],
   "metadata": {}
  },
  {
   "cell_type": "markdown",
   "source": [
    "## Solving the MMDF problem"
   ],
   "metadata": {}
  },
  {
   "outputs": [
    {
     "output_type": "execute_result",
     "data": {
      "text/plain": "ConstraintTrees.Tree{Float64} with 6 elements:\n  :concentration_ratio_constraints => ConstraintTrees.Tree{Float64}(#= 2 elemen…\n  :driving_forces                  => ConstraintTrees.Tree{Float64}(#= 11 eleme…\n  :log_concentration_stoichiometry => ConstraintTrees.Tree{Float64}(#= 11 eleme…\n  :log_concentrations              => ConstraintTrees.Tree{Float64}(#= 17 eleme…\n  :min_driving_force               => 2.79911\n  :min_driving_force_thresholds    => ConstraintTrees.Tree{Float64}(#= 11 eleme…"
     },
     "metadata": {},
     "execution_count": 7
    }
   ],
   "cell_type": "code",
   "source": [
    "mmdf_solution = max_min_driving_force_analysis(\n",
    "    model;\n",
    "    reaction_standard_gibbs_free_energies,\n",
    "    reference_flux,\n",
    "    concentration_ratios = Dict(\n",
    "        \"atp\" => (\"atp_c\", \"adp_c\", 10.0),\n",
    "        \"nadh\" => (\"nadh_c\", \"nad_c\", 0.13),\n",
    "    ),\n",
    "    proton_metabolites = [\"h_c\"],\n",
    "    water_metabolites = [\"h2o_c\"],\n",
    "    concentration_lower_bound = 1e-6, # mol/L\n",
    "    concentration_upper_bound = 1e-1, # mol/L\n",
    "    T = 298.15, # Kelvin\n",
    "    R = 8.31446261815324e-3, # kJ/K/mol\n",
    "    optimizer = GLPK.Optimizer,\n",
    ")"
   ],
   "metadata": {},
   "execution_count": 7
  },
  {
   "cell_type": "markdown",
   "source": [
    "TODO verify correctness"
   ],
   "metadata": {}
  },
  {
   "cell_type": "markdown",
   "source": [
    "---\n",
    "\n",
    "*This notebook was generated using [Literate.jl](https://github.com/fredrikekre/Literate.jl).*"
   ],
   "metadata": {}
  }
 ],
 "nbformat_minor": 3,
 "metadata": {
  "language_info": {
   "file_extension": ".jl",
   "mimetype": "application/julia",
   "name": "julia",
   "version": "1.9.4"
  },
  "kernelspec": {
   "name": "julia-1.9",
   "display_name": "Julia 1.9.4",
   "language": "julia"
  }
 },
 "nbformat": 4
}
