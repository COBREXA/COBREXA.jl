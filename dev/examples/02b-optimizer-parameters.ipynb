{
 "cells": [
  {
   "cell_type": "markdown",
   "source": [
    "# Changing optimizer parameters\n",
    "\n",
    "Many optimizers require fine-tuning to produce best results. We can pass in\n",
    "additional optimizer settings via the `settings` parameter of\n",
    "`flux_balance_analysis`. These include e.g.\n",
    "\n",
    "- `set_optimizer_attribute`, allowing us to tune e.g. iteration\n",
    "  limits, tolerances, or floating-point precision (see JuMP documentation for\n",
    "  more solver-specific settings)\n",
    "- `set_objective_sense`, allowing the user to change and reverse the\n",
    "  optimization direction, if required\n",
    "- `silence` for disabling the debug output of the optimizers\n",
    "- `set_optimizer` for replacing the optimizer implementation used\n",
    "  (this is not quite useful in this case, but becomes beneficial with more\n",
    "  complex, multi-stage optimization problems)\n",
    "- `set_time_limit` for putting a time limit on the solver\n",
    "  computation (this is quite useful for MILP solvers)\n",
    "\n",
    "To demonstrate this, let's use the usual toy model:"
   ],
   "metadata": {}
  },
  {
   "outputs": [
    {
     "name": "stdout",
     "output_type": "stream",
     "text": [
      "[ Info: using cached `e_coli_core.json'\n"
     ]
    },
    {
     "output_type": "execute_result",
     "data": {
      "text/plain": "JSONFBCModels.JSONFBCModel(#= 95 reactions, 72 metabolites =#)"
     },
     "metadata": {},
     "execution_count": 1
    }
   ],
   "cell_type": "code",
   "source": [
    "using COBREXA\n",
    "import JSONFBCModels, Tulip\n",
    "\n",
    "download_model(\n",
    "    \"http://bigg.ucsd.edu/static/models/e_coli_core.json\",\n",
    "    \"e_coli_core.json\",\n",
    "    \"7bedec10576cfe935b19218dc881f3fb14f890a1871448fc19a9b4ee15b448d8\",\n",
    ")\n",
    "\n",
    "model = load_model(\"e_coli_core.json\")"
   ],
   "metadata": {},
   "execution_count": 1
  },
  {
   "cell_type": "markdown",
   "source": [
    "Running a FBA with a silent optimizer that has slightly increased iteration\n",
    "limit for IPM algorithm may now look as follows:"
   ],
   "metadata": {}
  },
  {
   "outputs": [
    {
     "output_type": "execute_result",
     "data": {
      "text/plain": "ConstraintTrees.Tree{Float64} with 4 elements:\n  :coupling           => ConstraintTrees.Tree{Float64}(#= 0 elements =#)\n  :flux_stoichiometry => ConstraintTrees.Tree{Float64}(#= 72 elements =#)\n  :fluxes             => ConstraintTrees.Tree{Float64}(#= 95 elements =#)\n  :objective          => 0.873922"
     },
     "metadata": {},
     "execution_count": 2
    }
   ],
   "cell_type": "code",
   "source": [
    "solution = flux_balance_analysis(\n",
    "    model,\n",
    "    optimizer = Tulip.Optimizer,\n",
    "    settings = [set_optimizer_attribute(\"IPM_IterationsLimit\", 1000)],\n",
    ")"
   ],
   "metadata": {},
   "execution_count": 2
  },
  {
   "cell_type": "markdown",
   "source": [
    "To see some of the effects of the configuration changes, we may e.g.\n",
    "deliberately cripple the optimizer's possibilities to a few iterations and\n",
    "only a little time, which will cause it to fail and return no solution:"
   ],
   "metadata": {}
  },
  {
   "outputs": [
    {
     "name": "stdout",
     "output_type": "stream",
     "text": [
      "nothing\n"
     ]
    }
   ],
   "cell_type": "code",
   "source": [
    "solution = flux_balance_analysis(\n",
    "    model,\n",
    "    optimizer = Tulip.Optimizer,\n",
    "    settings = [set_optimizer_attribute(\"IPM_IterationsLimit\", 2), set_time_limit(0.1)],\n",
    ")\n",
    "\n",
    "println(solution)"
   ],
   "metadata": {},
   "execution_count": 3
  },
  {
   "cell_type": "markdown",
   "source": [
    "To see what failed, users may examine the solver output. Because all solver\n",
    "output is silenced by default for efficiency reasons, we need to explicitly\n",
    "pass in the `unsilence` setting:"
   ],
   "metadata": {}
  },
  {
   "outputs": [
    {
     "name": "stdout",
     "output_type": "stream",
     "text": [
      "\n",
      "Problem info\n",
      "  Name        : \n",
      "  Constraints : 262\n",
      "  Variables   : 95\n",
      "  Non-zeros   : 550\n",
      "\n",
      "Reduced problem info\n",
      "  Constraints : 62  (removed 200)\n",
      "  Variables   : 81  (removed 14)\n",
      "  Non-zeros   : 325  (removed 225)\n",
      "Presolve time : 0.000s\n",
      "\n",
      "Optimizer info (HSD)\n",
      "Constraints  : 62\n",
      "Variables    : 81\n",
      "RHS          : [+0.00e+00, +0.00e+00]\n",
      "Lower bounds : [-2.32e+03, +1.25e+01]\n",
      "Upper bounds : [+0.00e+00, +1.16e+04]\n",
      "\n",
      "Linear solver options\n",
      "  Arithmetic   : Float64\n",
      "  Backend      : CHOLMOD\n",
      "  System       : Augmented system (K2)\n",
      "\n",
      " Itn            PObj            DObj     PFeas    DFeas    GFeas       Mu  Time\n",
      "   0  -0.0000000e+00  +1.7686535e+05  1.16e+04 8.59e-02 1.77e+05  1.0e+00  1.28\n",
      "Solver exited with status Trm_TimeLimit\n"
     ]
    }
   ],
   "cell_type": "code",
   "source": [
    "solution = flux_balance_analysis(\n",
    "    model,\n",
    "    optimizer = Tulip.Optimizer,\n",
    "    settings = [\n",
    "        set_optimizer_attribute(\"IPM_IterationsLimit\", 2),\n",
    "        set_time_limit(0.1),\n",
    "        unsilence,\n",
    "    ],\n",
    ")"
   ],
   "metadata": {},
   "execution_count": 4
  },
  {
   "cell_type": "markdown",
   "source": [
    "Applicable optimizer attributes are documented in the documentations of the\n",
    "respective optimizers. To browse the possibilities, one might want to see the\n",
    "[JuMP documentation page that summarizes the references to the available\n",
    "optimizers](https://jump.dev/JuMP.jl/stable/installation/#Supported-solvers).\n",
    "\n",
    "Default solver settings can be examined and changed via\n",
    "`Configuration`."
   ],
   "metadata": {}
  },
  {
   "cell_type": "markdown",
   "source": [
    "---\n",
    "\n",
    "*This notebook was generated using [Literate.jl](https://github.com/fredrikekre/Literate.jl).*"
   ],
   "metadata": {}
  }
 ],
 "nbformat_minor": 3,
 "metadata": {
  "language_info": {
   "file_extension": ".jl",
   "mimetype": "application/julia",
   "name": "julia",
   "version": "1.11.5"
  },
  "kernelspec": {
   "name": "julia-1.11",
   "display_name": "Julia 1.11.5",
   "language": "julia"
  }
 },
 "nbformat": 4
}
