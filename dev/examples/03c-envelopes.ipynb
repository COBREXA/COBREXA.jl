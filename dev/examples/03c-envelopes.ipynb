{
 "cells": [
  {
   "cell_type": "markdown",
   "source": [
    "# Production envelopes\n",
    "\n",
    "Production envelopes determine the flux of the model objective at different\n",
    "values of specific reactions, spanning their variability. We can use the\n",
    "builtin function `objective_production_envelope` to quickly find such\n",
    "envelopes."
   ],
   "metadata": {}
  },
  {
   "cell_type": "markdown",
   "source": [
    "We proceed as usual by loading the necessary models and packages:"
   ],
   "metadata": {}
  },
  {
   "outputs": [
    {
     "name": "stdout",
     "output_type": "stream",
     "text": [
      "[ Info: using cached `e_coli_core.json'\n"
     ]
    },
    {
     "output_type": "execute_result",
     "data": {
      "text/plain": "JSONFBCModels.JSONFBCModel(#= 95 reactions, 72 metabolites =#)"
     },
     "metadata": {},
     "execution_count": 1
    }
   ],
   "cell_type": "code",
   "source": [
    "using COBREXA\n",
    "\n",
    "download_model(\n",
    "    \"http://bigg.ucsd.edu/static/models/e_coli_core.json\",\n",
    "    \"e_coli_core.json\",\n",
    "    \"7bedec10576cfe935b19218dc881f3fb14f890a1871448fc19a9b4ee15b448d8\",\n",
    ")\n",
    "\n",
    "import JSONFBCModels\n",
    "import HiGHS\n",
    "\n",
    "model = load_model(\"e_coli_core.json\")"
   ],
   "metadata": {},
   "execution_count": 1
  },
  {
   "cell_type": "markdown",
   "source": [
    "The `objective_production_envelope` function finds the variability of\n",
    "the given reactons and returns a multidimensional matrix with exact number of\n",
    "`breaks` in each dimension (positioned in a linear lattice). Here we examine\n",
    "the inter-dependency of oxygen and carbon dioxide exchanges on a matrix of\n",
    "5×5 individual \"conditions\" that form the envelope:"
   ],
   "metadata": {}
  },
  {
   "outputs": [
    {
     "output_type": "execute_result",
     "data": {
      "text/plain": "(breaks = Pair{String, StepRangeLen{Float64, Base.TwicePrecision{Float64}, Base.TwicePrecision{Float64}, Int64}}[\"EX_o2_e\" => -60.0:15.0:0.0, \"EX_co2_e\" => -11.104242424242429:17.776060606060632:60.0000000000001], objective_values = Union{Nothing, Float64}[nothing nothing … nothing -9.942110255780213e-15; nothing nothing … 0.27244408324784797 nothing; … ; nothing 0.6046187247413645 … nothing nothing; 0.0 0.20192628807217147 … nothing nothing])"
     },
     "metadata": {},
     "execution_count": 2
    }
   ],
   "cell_type": "code",
   "source": [
    "envelope = objective_production_envelope(\n",
    "    model,\n",
    "    [\"EX_o2_e\", \"EX_co2_e\"];\n",
    "    breaks = 5,\n",
    "    optimizer = HiGHS.Optimizer,\n",
    ")"
   ],
   "metadata": {},
   "execution_count": 2
  },
  {
   "cell_type": "markdown",
   "source": [
    "Documentation of the function describes ways to set custom bounds for the\n",
    "examined reaction flux ranges and several other customizations."
   ],
   "metadata": {}
  },
  {
   "cell_type": "markdown",
   "source": [
    "---\n",
    "\n",
    "*This notebook was generated using [Literate.jl](https://github.com/fredrikekre/Literate.jl).*"
   ],
   "metadata": {}
  }
 ],
 "nbformat_minor": 3,
 "metadata": {
  "language_info": {
   "file_extension": ".jl",
   "mimetype": "application/julia",
   "name": "julia",
   "version": "1.11.5"
  },
  "kernelspec": {
   "name": "julia-1.11",
   "display_name": "Julia 1.11.5",
   "language": "julia"
  }
 },
 "nbformat": 4
}
