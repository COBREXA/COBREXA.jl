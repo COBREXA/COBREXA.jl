{
 "cells": [
  {
   "cell_type": "markdown",
   "source": [
    "# Making adjustments to the constraint system\n",
    "\n",
    "In the [previous example about model\n",
    "adjustments](02b-model-modifications.md), we noted that some constraint\n",
    "systems may be to complex to be changed within the limits of the usual FBC\n",
    "model view, and we may require a sharper tool to do the changes we need. This\n",
    "example shows how to do that by modifying the constraint systems that are\n",
    "generated within COBREXA to represent the metabolic model contents.\n",
    "\n",
    "## Background: Model-to-optimizer pipeline\n",
    "\n",
    "## Background: Constraint trees\n",
    "\n",
    "## Changing the model-to-optimizer pipeline\n",
    "\n",
    "TODO clean up the stuff below:"
   ],
   "metadata": {}
  },
  {
   "outputs": [
    {
     "name": "stdout",
     "output_type": "stream",
     "text": [
      "[ Info: using cached `e_coli_core.json'\n"
     ]
    },
    {
     "output_type": "execute_result",
     "data": {
      "text/plain": "JSONFBCModels.JSONFBCModel(#= 95 reactions, 72 metabolites =#)"
     },
     "metadata": {},
     "execution_count": 1
    }
   ],
   "cell_type": "code",
   "source": [
    "using COBREXA\n",
    "\n",
    "download_model(\n",
    "    \"http://bigg.ucsd.edu/static/models/e_coli_core.json\",\n",
    "    \"e_coli_core.json\",\n",
    "    \"7bedec10576cfe935b19218dc881f3fb14f890a1871448fc19a9b4ee15b448d8\",\n",
    ")\n",
    "\n",
    "import JSONFBCModels\n",
    "import GLPK\n",
    "\n",
    "model = load_model(\"e_coli_core.json\")"
   ],
   "metadata": {},
   "execution_count": 1
  },
  {
   "cell_type": "markdown",
   "source": [
    "## Customizing the model"
   ],
   "metadata": {}
  },
  {
   "cell_type": "markdown",
   "source": [
    "We can also modify the model. The most explicit way to do this is\n",
    "to make a new constraint tree representation of the model."
   ],
   "metadata": {}
  },
  {
   "outputs": [
    {
     "output_type": "execute_result",
     "data": {
      "text/plain": "ConstraintTrees.Tree{Float64} with 4 elements:\n  :fermentation       => 10.0\n  :flux_stoichiometry => ConstraintTrees.Tree{Float64}(#= 72 elements =#)\n  :fluxes             => ConstraintTrees.Tree{Float64}(#= 95 elements =#)\n  :objective          => 0.633738"
     },
     "metadata": {},
     "execution_count": 2
    }
   ],
   "cell_type": "code",
   "source": [
    "import ConstraintTrees as C\n",
    "\n",
    "ctmodel = flux_balance_constraints(model)\n",
    "\n",
    "fermentation = ctmodel.fluxes.EX_ac_e.value + ctmodel.fluxes.EX_etoh_e.value\n",
    "\n",
    "forced_mixed_fermentation =\n",
    "    ctmodel * :fermentation^C.Constraint(fermentation, (10.0, 1000.0)) # new modified model is created\n",
    "\n",
    "vt = optimized_values(\n",
    "    forced_mixed_fermentation,\n",
    "    objective = forced_mixed_fermentation.objective.value,\n",
    "    optimizer = GLPK.Optimizer,\n",
    ")"
   ],
   "metadata": {},
   "execution_count": 2
  },
  {
   "cell_type": "markdown",
   "source": [
    "Models that cannot be solved return `nothing`. In the example below, the\n",
    "underlying model is modified."
   ],
   "metadata": {}
  },
  {
   "outputs": [],
   "cell_type": "code",
   "source": [
    "ctmodel.fluxes.ATPM.bound = C.Between(1000.0, 10000.0)\n",
    "\n",
    "#TODO explicitly show here how false sharing looks like\n",
    "\n",
    "vt = optimized_values(\n",
    "    ctmodel,\n",
    "    objective = ctmodel.objective.value,\n",
    "    optimizer = GLPK.Optimizer,\n",
    ")"
   ],
   "metadata": {},
   "execution_count": 3
  },
  {
   "cell_type": "markdown",
   "source": [
    "Models can also be piped into the analysis functions"
   ],
   "metadata": {}
  },
  {
   "outputs": [
    {
     "output_type": "execute_result",
     "data": {
      "text/plain": "ConstraintTrees.Tree{Float64} with 3 elements:\n  :flux_stoichiometry => ConstraintTrees.Tree{Float64}(#= 72 elements =#)\n  :fluxes             => ConstraintTrees.Tree{Float64}(#= 95 elements =#)\n  :objective          => 0.873922"
     },
     "metadata": {},
     "execution_count": 4
    }
   ],
   "cell_type": "code",
   "source": [
    "ctmodel.fluxes.ATPM.bound = C.Between(8.39, 10000.0) # revert\n",
    "vt = optimized_values(\n",
    "    ctmodel,\n",
    "    objective = ctmodel.objective.value,\n",
    "    optimizer = GLPK.Optimizer,\n",
    ")"
   ],
   "metadata": {},
   "execution_count": 4
  },
  {
   "cell_type": "markdown",
   "source": [
    "---\n",
    "\n",
    "*This notebook was generated using [Literate.jl](https://github.com/fredrikekre/Literate.jl).*"
   ],
   "metadata": {}
  }
 ],
 "nbformat_minor": 3,
 "metadata": {
  "language_info": {
   "file_extension": ".jl",
   "mimetype": "application/julia",
   "name": "julia",
   "version": "1.9.4"
  },
  "kernelspec": {
   "name": "julia-1.9",
   "display_name": "Julia 1.9.4",
   "language": "julia"
  }
 },
 "nbformat": 4
}
