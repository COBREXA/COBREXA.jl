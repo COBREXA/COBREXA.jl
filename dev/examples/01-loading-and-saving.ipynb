{
 "cells": [
  {
   "cell_type": "markdown",
   "source": [
    "# Loading and saving models!"
   ],
   "metadata": {}
  },
  {
   "outputs": [],
   "cell_type": "code",
   "source": [
    "using COBREXA"
   ],
   "metadata": {},
   "execution_count": 1
  },
  {
   "cell_type": "markdown",
   "source": [
    "## Getting the models reliably from the repositories"
   ],
   "metadata": {}
  },
  {
   "outputs": [
    {
     "output_type": "execute_result",
     "data": {
      "text/plain": "\"e_coli_core.xml\""
     },
     "metadata": {},
     "execution_count": 2
    }
   ],
   "cell_type": "code",
   "source": [
    "download_model(\n",
    "    \"http://bigg.ucsd.edu/static/models/e_coli_core.json\",\n",
    "    \"e_coli_core.json\",\n",
    "    \"7bedec10576cfe935b19218dc881f3fb14f890a1871448fc19a9b4ee15b448d8\",\n",
    ")\n",
    "\n",
    "download_model(\n",
    "    \"http://bigg.ucsd.edu/static/models/e_coli_core.xml\",\n",
    "    \"e_coli_core.xml\",\n",
    "    \"b4db506aeed0e434c1f5f1fdd35feda0dfe5d82badcfda0e9d1342335ab31116\",\n",
    ")"
   ],
   "metadata": {},
   "execution_count": 2
  },
  {
   "cell_type": "markdown",
   "source": [
    "TODO: how to get the hashes: specify a dummy value at once and convert them from a warning\n",
    "\n",
    "TODO: test this :)"
   ],
   "metadata": {}
  },
  {
   "cell_type": "markdown",
   "source": [
    "## Loading models"
   ],
   "metadata": {}
  },
  {
   "outputs": [
    {
     "output_type": "execute_result",
     "data": {
      "text/plain": "95-element Vector{String}:\n \"R_ACALD\"\n \"R_ACALDt\"\n \"R_ACKr\"\n \"R_ACONTa\"\n \"R_ACONTb\"\n \"R_ACt2r\"\n \"R_ADK1\"\n \"R_AKGDH\"\n \"R_AKGt2r\"\n \"R_ALCD2x\"\n ⋮\n \"R_SUCCt2_2\"\n \"R_SUCCt3\"\n \"R_SUCDi\"\n \"R_SUCOAS\"\n \"R_TALA\"\n \"R_THD2\"\n \"R_TKT1\"\n \"R_TKT2\"\n \"R_TPI\""
     },
     "metadata": {},
     "execution_count": 3
    }
   ],
   "cell_type": "code",
   "source": [
    "import JSONFBCModels, SBMLFBCModels\n",
    "\n",
    "model1 = load_model(\"e_coli_core.json\")\n",
    "\n",
    "model2 = load_model(\"e_coli_core.xml\")\n",
    "\n",
    "import AbstractFBCModels as A\n",
    "\n",
    "A.reactions(model1)\n",
    "\n",
    "A.reactions(model2)"
   ],
   "metadata": {},
   "execution_count": 3
  },
  {
   "cell_type": "markdown",
   "source": [
    "### Converting model types"
   ],
   "metadata": {}
  },
  {
   "cell_type": "markdown",
   "source": [
    "Avoid guessing the model type (works also without the suffix in file name):"
   ],
   "metadata": {}
  },
  {
   "outputs": [
    {
     "output_type": "execute_result",
     "data": {
      "text/plain": "JSONFBCModels.JSONFBCModel(#= 95 reactions, 72 metabolites =#)"
     },
     "metadata": {},
     "execution_count": 4
    }
   ],
   "cell_type": "code",
   "source": [
    "model = load_model(JSONFBCModels.JSONFBCModel, \"e_coli_core.json\")"
   ],
   "metadata": {},
   "execution_count": 4
  },
  {
   "cell_type": "markdown",
   "source": [
    "Directly convert to a different model type"
   ],
   "metadata": {}
  },
  {
   "outputs": [
    {
     "output_type": "execute_result",
     "data": {
      "text/plain": "JSONFBCModels.JSONFBCModel(#= 95 reactions, 72 metabolites =#)"
     },
     "metadata": {},
     "execution_count": 5
    }
   ],
   "cell_type": "code",
   "source": [
    "model_converted_to_json = load_model(\"e_coli_core.xml\", JSONFBCModels.JSONFBCModel)"
   ],
   "metadata": {},
   "execution_count": 5
  },
  {
   "cell_type": "markdown",
   "source": [
    "Or do all at once, load a precisely typed model and convert it to an easily modifiable representation"
   ],
   "metadata": {}
  },
  {
   "outputs": [
    {
     "output_type": "execute_result",
     "data": {
      "text/plain": "AbstractFBCModels.CanonicalModel.Model(\n  reactions = Dict{String, AbstractFBCModels.CanonicalModel.Reaction}(\"ACALD\" =…\n  metabolites = Dict{String, AbstractFBCModels.CanonicalModel.Metabolite}(\"glu_…\n  genes = Dict{String, AbstractFBCModels.CanonicalModel.Gene}(\"b4301\" => Abstra…\n)\n"
     },
     "metadata": {},
     "execution_count": 6
    }
   ],
   "cell_type": "code",
   "source": [
    "model_in_julia_structures =\n",
    "    load_model(JSONFBCModels.JSONFBCModel, \"e_coli_core.json\", A.CanonicalModel.Model)"
   ],
   "metadata": {},
   "execution_count": 6
  },
  {
   "cell_type": "markdown",
   "source": [
    "Also possible to convert everything using Julia's `convert`."
   ],
   "metadata": {}
  },
  {
   "cell_type": "markdown",
   "source": [
    "## Saving models"
   ],
   "metadata": {}
  },
  {
   "outputs": [
    {
     "name": "stdout",
     "output_type": "stream",
     "text": [
      "{\"metabolites\":[{\"compartment\":\"c\",\"name\":\"3-Phospho-D-glyceroyl phosphate\",\"formula\":\"C3H4O10P2\",\"i...\n"
     ]
    }
   ],
   "cell_type": "code",
   "source": [
    "save_model(model_converted_to_json, \"e_coli_core_from_sbml.json\")\n",
    "\n",
    "println(open(\"e_coli_core_from_sbml.json\") do f\n",
    "    read(f, 100)\n",
    "end |> String, \"...\")"
   ],
   "metadata": {},
   "execution_count": 7
  },
  {
   "cell_type": "markdown",
   "source": [
    "TODO refer to ABCMT docs for more docs\n",
    "TODO carefully refer to matlab models"
   ],
   "metadata": {}
  },
  {
   "cell_type": "markdown",
   "source": [
    "---\n",
    "\n",
    "*This notebook was generated using [Literate.jl](https://github.com/fredrikekre/Literate.jl).*"
   ],
   "metadata": {}
  }
 ],
 "nbformat_minor": 3,
 "metadata": {
  "language_info": {
   "file_extension": ".jl",
   "mimetype": "application/julia",
   "name": "julia",
   "version": "1.9.4"
  },
  "kernelspec": {
   "name": "julia-1.9",
   "display_name": "Julia 1.9.4",
   "language": "julia"
  }
 },
 "nbformat": 4
}
