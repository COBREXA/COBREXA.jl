{
 "cells": [
  {
   "cell_type": "markdown",
   "source": [
    "# Minimization of metabolic adjustment analysis"
   ],
   "metadata": {}
  },
  {
   "cell_type": "markdown",
   "source": [
    "TODO MOMA citation"
   ],
   "metadata": {}
  },
  {
   "outputs": [],
   "cell_type": "code",
   "source": [
    "using COBREXA"
   ],
   "metadata": {},
   "execution_count": 1
  },
  {
   "cell_type": "markdown",
   "source": [
    "TODO why not download+load combo?"
   ],
   "metadata": {}
  },
  {
   "outputs": [
    {
     "name": "stdout",
     "output_type": "stream",
     "text": [
      "[ Info: using cached `e_coli_core.json'\n"
     ]
    },
    {
     "output_type": "execute_result",
     "data": {
      "text/plain": "9.999999999955458"
     },
     "metadata": {},
     "execution_count": 2
    }
   ],
   "cell_type": "code",
   "source": [
    "download_model(\n",
    "    \"http://bigg.ucsd.edu/static/models/e_coli_core.json\",\n",
    "    \"e_coli_core.json\",\n",
    "    \"7bedec10576cfe935b19218dc881f3fb14f890a1871448fc19a9b4ee15b448d8\",\n",
    ")\n",
    "\n",
    "import AbstractFBCModels.CanonicalModel as CM\n",
    "import JSONFBCModels\n",
    "import Clarabel\n",
    "\n",
    "model = load_model(\"e_coli_core.json\", CM.Model)\n",
    "\n",
    "reference_fluxes =\n",
    "    parsimonious_flux_balance_analysis(\n",
    "        model,\n",
    "        optimizer = Clarabel.Optimizer,\n",
    "        settings = [silence],\n",
    "    ).fluxes\n",
    "\n",
    "modified_model = deepcopy(model) # avoid reference sharing\n",
    "\n",
    "modified_model.reactions[\"CYTBD\"]\n",
    "\n",
    "modified_model.reactions[\"CYTBD\"].upper_bound = 10.0\n",
    "\n",
    "solution = metabolic_adjustment_minimization_analysis(\n",
    "    modified_model,\n",
    "    model;\n",
    "    optimizer = Clarabel.Optimizer,\n",
    "    settings = [silence],\n",
    ")\n",
    "\n",
    "solution_with_fluxes = metabolic_adjustment_minimization_analysis(\n",
    "    modified_model,\n",
    "    reference_fluxes;\n",
    "    optimizer = Clarabel.Optimizer,\n",
    "    settings = [silence],\n",
    ")\n",
    "\n",
    "solution.objective\n",
    "\n",
    "sqrt(solution.minimal_adjustment_objective)\n",
    "\n",
    "solution.fluxes.CYTBD"
   ],
   "metadata": {},
   "execution_count": 2
  },
  {
   "cell_type": "markdown",
   "source": [
    "TODO compare"
   ],
   "metadata": {}
  },
  {
   "outputs": [
    {
     "output_type": "execute_result",
     "data": {
      "text/plain": "95-element Vector{Pair{Symbol, Union{Float64, ConstraintTrees.Tree{Float64}}}}:\n   :EX_o2_e => -16.799492654235696\n      :H2Ot => -16.579331171270734\n      :CO2t => -13.584741559367512\n :EX_etoh_e => -5.5435242170094154\n    :SUCOAS => -5.064375660719828\n      :FRD7 => -4.073918962120799\n       :PPC => -3.307339485166412\n    :SUCCt3 => -3.083462145246263\n :EX_succ_e => -3.0834621450484487\n       :ENO => -2.5746547772765567\n            ⋮\n     :ACALD => 7.46788662344968\n       :FUM => 8.147837805562828\n       :MDH => 8.147837806919691\n  :EX_co2_e => 13.584741559366993\n  :EX_h2o_e => 16.579331171269033\n       :O2t => 16.79949265423621\n    :NADH16 => 25.45114750288382\n    :ATPS4r => 33.57037160688897\n     :CYTBD => 33.59898530847451"
     },
     "metadata": {},
     "execution_count": 3
    }
   ],
   "cell_type": "code",
   "source": [
    "optimal_solution = parsimonious_flux_balance_analysis(\n",
    "    model,\n",
    "    optimizer = Clarabel.Optimizer,\n",
    "    settings = [silence],\n",
    ")\n",
    "\n",
    "import ConstraintTrees as C\n",
    "sort(collect(C.zip(-, optimal_solution.fluxes, solution.fluxes, Float64)), by = last)"
   ],
   "metadata": {},
   "execution_count": 3
  },
  {
   "cell_type": "markdown",
   "source": [
    "## Faster L1-minimal adjustments"
   ],
   "metadata": {}
  },
  {
   "outputs": [
    {
     "output_type": "execute_result",
     "data": {
      "text/plain": "304.4092092993514"
     },
     "metadata": {},
     "execution_count": 4
    }
   ],
   "cell_type": "code",
   "source": [
    "import GLPK\n",
    "\n",
    "linear_solution = linear_metabolic_adjustment_minimization_analysis(\n",
    "    modified_model,\n",
    "    model;\n",
    "    optimizer = GLPK.Optimizer,\n",
    ")\n",
    "\n",
    "linear_solution.objective\n",
    "\n",
    "linear_solution.fluxes.CYTBD\n",
    "\n",
    "linear_solution.linear_minimal_adjustment_objective"
   ],
   "metadata": {},
   "execution_count": 4
  },
  {
   "cell_type": "markdown",
   "source": [
    "TODO compare again"
   ],
   "metadata": {}
  },
  {
   "outputs": [
    {
     "output_type": "execute_result",
     "data": {
      "text/plain": "95-element Vector{Pair{Symbol, Union{Float64, ConstraintTrees.Tree{Float64}}}}:\n        :GAPD => -2.217421474277602\n         :ENO => -2.1841385417330255\n        :FRD7 => -2.0818742855030417\n  :EX_acald_e => -1.9243624065292229\n      :EX_h_e => -1.7636376825706002\n         :PDH => -1.3871400070221487\n      :GLCpts => -1.1700704237440451\n      :SUCCt3 => -1.091417461127648\n   :EX_succ_e => -1.091417460921988\n      :NADH16 => -1.091417460614137\n              ⋮\n        :CO2t => 0.4467050816543736\n        :H2Ot => 1.046555418943484\n         :FUM => 1.091417460658668\n         :MDH => 1.0914174620392645\n :EX_glc__D_e => 1.170070423744047\n       :ACALD => 1.712501384039891\n      :ACALDt => 1.9243624065292242\n         :PGM => 2.184138541733022\n         :PGK => 2.2174214742776126"
     },
     "metadata": {},
     "execution_count": 5
    }
   ],
   "cell_type": "code",
   "source": [
    "sort(collect(C.zip(-, linear_solution.fluxes, solution.fluxes, Float64)), by = last)"
   ],
   "metadata": {},
   "execution_count": 5
  },
  {
   "cell_type": "markdown",
   "source": [
    "---\n",
    "\n",
    "*This notebook was generated using [Literate.jl](https://github.com/fredrikekre/Literate.jl).*"
   ],
   "metadata": {}
  }
 ],
 "nbformat_minor": 3,
 "metadata": {
  "language_info": {
   "file_extension": ".jl",
   "mimetype": "application/julia",
   "name": "julia",
   "version": "1.9.4"
  },
  "kernelspec": {
   "name": "julia-1.9",
   "display_name": "Julia 1.9.4",
   "language": "julia"
  }
 },
 "nbformat": 4
}
