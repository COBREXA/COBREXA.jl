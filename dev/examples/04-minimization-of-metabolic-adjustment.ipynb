{
 "cells": [
  {
   "cell_type": "markdown",
   "source": [
    "# Minimization of metabolic adjustment analysis"
   ],
   "metadata": {}
  },
  {
   "cell_type": "markdown",
   "source": [
    "TODO MOMA citation"
   ],
   "metadata": {}
  },
  {
   "outputs": [],
   "cell_type": "code",
   "source": [
    "import Downloads: download\n",
    "\n",
    "!isfile(\"e_coli_core.json\") &&\n",
    "    download(\"http://bigg.ucsd.edu/static/models/e_coli_core.json\", \"e_coli_core.json\")\n",
    "\n",
    "using COBREXA\n",
    "import AbstractFBCModels.CanonicalModel as CM\n",
    "import JSONFBCModels\n",
    "import Clarabel"
   ],
   "metadata": {},
   "execution_count": 1
  },
  {
   "cell_type": "markdown",
   "source": [
    "TODO this might do the convert immediately as with the old cobrexa...\n",
    "probably better have an actual output-type argument tho rather than force the\n",
    "guessing."
   ],
   "metadata": {}
  },
  {
   "outputs": [
    {
     "output_type": "execute_result",
     "data": {
      "text/plain": "ConstraintTrees.Tree{Float64} with 95 elements:\n  :ACALD                    => -1.10005e-10\n  :ACALDt                   => -3.18304e-11\n  :ACKr                     => -4.99126e-11\n  :ACONTa                   => 6.00725\n  :ACONTb                   => 6.00725\n  :ACt2r                    => -3.36149e-11\n  :ADK1                     => -9.84708e-12\n  :AKGDH                    => 5.06438\n  :AKGt2r                   => -4.87389e-11\n  :ALCD2x                   => -6.24252e-11\n  :ATPM                     => 8.39\n  :ATPS4r                   => 45.514\n  :BIOMASS_Ecoli_core_w_GAM => 0.873922\n  :CO2t                     => -22.8098\n  :CS                       => 6.00725\n  :CYTBD                    => 43.599\n  :D_LACt2                  => -4.4392e-11\n  :ENO                      => 14.7161\n  :ETOHt2r                  => -4.18485e-11\n  ⋮                         => ⋮"
     },
     "metadata": {},
     "execution_count": 2
    }
   ],
   "cell_type": "code",
   "source": [
    "model = convert(CM.Model, load_model(\"e_coli_core.json\"))\n",
    "\n",
    "reference_fluxes =\n",
    "    parsimonious_flux_balance_analysis(\n",
    "        model,\n",
    "        Clarabel.Optimizer,\n",
    "        settings = [silence],\n",
    "    ).fluxes"
   ],
   "metadata": {},
   "execution_count": 2
  },
  {
   "cell_type": "markdown",
   "source": [
    "TODO MOMA from here"
   ],
   "metadata": {}
  },
  {
   "cell_type": "markdown",
   "source": [
    "---\n",
    "\n",
    "*This notebook was generated using [Literate.jl](https://github.com/fredrikekre/Literate.jl).*"
   ],
   "metadata": {}
  }
 ],
 "nbformat_minor": 3,
 "metadata": {
  "language_info": {
   "file_extension": ".jl",
   "mimetype": "application/julia",
   "name": "julia",
   "version": "1.9.4"
  },
  "kernelspec": {
   "name": "julia-1.9",
   "display_name": "Julia 1.9.4",
   "language": "julia"
  }
 },
 "nbformat": 4
}
