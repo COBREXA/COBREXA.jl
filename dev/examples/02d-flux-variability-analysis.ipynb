{
 "cells": [
  {
   "cell_type": "markdown",
   "source": [
    "# Flux variability analysis (FVA)"
   ],
   "metadata": {}
  },
  {
   "cell_type": "markdown",
   "source": [
    "TODO commentary"
   ],
   "metadata": {}
  },
  {
   "outputs": [
    {
     "name": "stdout",
     "output_type": "stream",
     "text": [
      "[ Info: using cached `e_coli_core.json'\n"
     ]
    },
    {
     "output_type": "execute_result",
     "data": {
      "text/plain": "ConstraintTrees.Tree{Tuple{Union{Nothing, Float64}, Union{Nothing, Float64}}} with 95 elements:\n  :ACALD                    => (-2.54237, 0.0)\n  :ACALDt                   => (-2.54237, 0.0)\n  :ACKr                     => (-3.81356, 0.0)\n  :ACONTa                   => (0.848587, 8.89452)\n  :ACONTb                   => (0.848587, 8.89452)\n  :ACt2r                    => (-3.81356, 0.0)\n  :ADK1                     => (-3.10862e-15, 17.161)\n  :AKGDH                    => (-6.17005e-16, 8.04593)\n  :AKGt2r                   => (-1.43008, 0.0)\n  :ALCD2x                   => (-2.21432, 0.0)\n  :ATPM                     => (8.39, 25.551)\n  :ATPS4r                   => (34.8256, 59.3811)\n  :BIOMASS_Ecoli_core_w_GAM => (0.786529, 0.873922)\n  :CO2t                     => (-26.5288, -15.2065)\n  :CS                       => (0.848587, 8.89452)\n  :CYTBD                    => (35.9849, 51.2391)\n  :D_LACt2                  => (-2.14512, 0.0)\n  :ENO                      => (8.68659, 16.7325)\n  :ETOHt2r                  => (-2.21432, 0.0)\n  ⋮                         => ⋮"
     },
     "metadata": {},
     "execution_count": 1
    }
   ],
   "cell_type": "code",
   "source": [
    "using COBREXA\n",
    "\n",
    "download_model(\n",
    "    \"http://bigg.ucsd.edu/static/models/e_coli_core.json\",\n",
    "    \"e_coli_core.json\",\n",
    "    \"7bedec10576cfe935b19218dc881f3fb14f890a1871448fc19a9b4ee15b448d8\",\n",
    ")\n",
    "\n",
    "import JSONFBCModels, GLPK\n",
    "\n",
    "model = load_model(\"e_coli_core.json\")\n",
    "\n",
    "solution = flux_variability_analysis(model, optimizer = GLPK.Optimizer)"
   ],
   "metadata": {},
   "execution_count": 1
  },
  {
   "cell_type": "markdown",
   "source": [
    "## Specifying bounds"
   ],
   "metadata": {}
  },
  {
   "outputs": [
    {
     "output_type": "execute_result",
     "data": {
      "text/plain": "ConstraintTrees.Tree{Tuple{Union{Nothing, Float64}, Union{Nothing, Float64}}} with 95 elements:\n  :ACALD                    => (-0.254237, 0.0)\n  :ACALDt                   => (-0.254237, 0.0)\n  :ACKr                     => (-0.381356, 0.0)\n  :ACONTa                   => (4.8143, 7.56006)\n  :ACONTb                   => (4.8143, 7.56006)\n  :ACt2r                    => (-0.381356, 0.0)\n  :ADK1                     => (-3.10862e-15, 1.7161)\n  :AKGDH                    => (1.18233, 6.62661)\n  :AKGt2r                   => (-0.143008, 0.0)\n  :ALCD2x                   => (-0.221432, 0.0)\n  :ATPM                     => (8.39, 10.1061)\n  :ATPS4r                   => (41.917, 47.4085)\n  :BIOMASS_Ecoli_core_w_GAM => (0.865182, 0.873922)\n  :CO2t                     => (-23.1817, -22.0377)\n  :CS                       => (4.8143, 7.56006)\n  :CYTBD                    => (42.8376, 44.363)\n  :D_LACt2                  => (-0.214512, 0.0)\n  :ENO                      => (13.4361, 16.1819)\n  :ETOHt2r                  => (-0.221432, 0.0)\n  ⋮                         => ⋮"
     },
     "metadata": {},
     "execution_count": 2
    }
   ],
   "cell_type": "code",
   "source": [
    "very_close = flux_variability_analysis(\n",
    "    model,\n",
    "    optimizer = GLPK.Optimizer,\n",
    "    objective_bound = absolute_tolerance_bound(1e-5),\n",
    ")\n",
    "\n",
    "one_percent_close = flux_variability_analysis(\n",
    "    model,\n",
    "    optimizer = GLPK.Optimizer,\n",
    "    objective_bound = relative_tolerance_bound(0.99),\n",
    ")"
   ],
   "metadata": {},
   "execution_count": 2
  },
  {
   "cell_type": "markdown",
   "source": [
    "---\n",
    "\n",
    "*This notebook was generated using [Literate.jl](https://github.com/fredrikekre/Literate.jl).*"
   ],
   "metadata": {}
  }
 ],
 "nbformat_minor": 3,
 "metadata": {
  "language_info": {
   "file_extension": ".jl",
   "mimetype": "application/julia",
   "name": "julia",
   "version": "1.9.4"
  },
  "kernelspec": {
   "name": "julia-1.9",
   "display_name": "Julia 1.9.4",
   "language": "julia"
  }
 },
 "nbformat": 4
}
