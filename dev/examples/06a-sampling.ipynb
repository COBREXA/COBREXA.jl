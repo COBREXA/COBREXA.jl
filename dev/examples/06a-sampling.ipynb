{
 "cells": [
  {
   "cell_type": "markdown",
   "source": [
    "# Flux sampling\n",
    "\n",
    "Flux sampling gives an interesting statistical insight into the behavior of\n",
    "the model in the optimal feasible space, and the general \"shape\" of the\n",
    "optimal- or near-optimal set of feasible states of a given model."
   ],
   "metadata": {}
  },
  {
   "cell_type": "markdown",
   "source": [
    "For demonstration, we need the usual packages and models:"
   ],
   "metadata": {}
  },
  {
   "outputs": [
    {
     "name": "stdout",
     "output_type": "stream",
     "text": [
      "[ Info: using cached `e_coli_core.json'\n"
     ]
    },
    {
     "output_type": "execute_result",
     "data": {
      "text/plain": "JSONFBCModels.JSONFBCModel(#= 95 reactions, 72 metabolites =#)"
     },
     "metadata": {},
     "execution_count": 1
    }
   ],
   "cell_type": "code",
   "source": [
    "using COBREXA\n",
    "\n",
    "download_model(\n",
    "    \"http://bigg.ucsd.edu/static/models/e_coli_core.json\",\n",
    "    \"e_coli_core.json\",\n",
    "    \"7bedec10576cfe935b19218dc881f3fb14f890a1871448fc19a9b4ee15b448d8\",\n",
    ")\n",
    "\n",
    "import JSONFBCModels, HiGHS\n",
    "\n",
    "model = load_model(\"e_coli_core.json\")"
   ],
   "metadata": {},
   "execution_count": 1
  },
  {
   "cell_type": "markdown",
   "source": [
    "Function `flux_sample` uses linear optimization to generate a set of\n",
    "warm-up points (by default, the method to generate the warm-up is basically\n",
    "FVA), and then runs the hit-and-run flux sampling algorithm on the\n",
    "near-optimal feasible space of the model:"
   ],
   "metadata": {}
  },
  {
   "outputs": [
    {
     "output_type": "execute_result",
     "data": {
      "text/plain": "ConstraintTrees.Tree{Vector{Float64}} with 95 elements:\n  :ACALD                    => [-0.0151235, -0.016959, -0.029273, -0.0132804, -…\n  :ACALDt                   => [-0.00380377, -0.00328341, -0.00836245, -0.00306…\n  :ACKr                     => [-0.0226167, -0.0246119, -0.0296686, -0.0220629,…\n  :ACONTa                   => [6.09871, 6.12508, 6.21874, 5.89783, 6.14237, 5.…\n  :ACONTb                   => [6.09871, 6.12508, 6.21874, 5.89783, 6.14237, 5.…\n  :ACt2r                    => [-0.0226167, -0.0246119, -0.0296686, -0.0220629,…\n  :ADK1                     => [0.0387393, 0.0346144, 0.0094285, 0.0401418, 0.0…\n  :AKGDH                    => [4.53272, 4.70363, 4.94867, 4.15118, 4.61469, 4.…\n  :AKGt2r                   => [-0.00161543, -0.00253266, -0.00378415, -0.00238…\n  :ALCD2x                   => [-0.0113197, -0.0136756, -0.0209106, -0.0102125,…\n  :ATPM                     => [8.42732, 8.42983, 8.44163, 8.42365, 8.43029, 8.…\n  :ATPS4r                   => [45.1228, 45.0502, 44.8095, 45.4555, 45.0738, 45…\n  :BIOMASS_Ecoli_core_w_GAM => [0.865472, 0.865572, 0.865721, 0.865487, 0.86554…\n  :CO2t                     => [-22.9322, -22.9129, -22.858, -22.9559, -22.9455…\n  :CS                       => [6.09871, 6.12508, 6.21874, 5.89783, 6.14237, 5.…\n  :CYTBD                    => [43.914, 43.8665, 43.7661, 43.9448, 43.9399, 43.…\n  :D_LACt2                  => [-0.0094216, -0.00990907, -0.0114174, -0.0076256…\n  :ENO                      => [14.7834, 14.8156, 14.9268, 14.5789, 14.8152, 14…\n  :ETOHt2r                  => [-0.0113197, -0.0136756, -0.0209106, -0.0102125,…\n  ⋮                         => ⋮"
     },
     "metadata": {},
     "execution_count": 2
    }
   ],
   "cell_type": "code",
   "source": [
    "s = flux_sample(\n",
    "    model,\n",
    "    optimizer = HiGHS.Optimizer,\n",
    "    objective_bound = relative_tolerance_bound(0.99),\n",
    "    n_chains = 2,\n",
    "    collect_iterations = [10],\n",
    ")"
   ],
   "metadata": {},
   "execution_count": 2
  },
  {
   "cell_type": "markdown",
   "source": [
    "The result is a tree of vectors of sampled states for each value; the order\n",
    "of the values in these vectors is fixed. You can thus e.g. create a good\n",
    "matrix for plotting the sample as 2D scatterplot:"
   ],
   "metadata": {}
  },
  {
   "outputs": [
    {
     "output_type": "execute_result",
     "data": {
      "text/plain": "380×2 Matrix{Float64}:\n 21.957   -22.9322\n 21.9333  -22.9129\n 21.883   -22.858\n 21.9724  -22.9559\n 21.97    -22.9455\n 21.9333  -22.944\n 21.879   -22.8562\n 21.9478  -22.9265\n 21.9761  -22.9475\n 21.9298  -22.9111\n  ⋮       \n 21.9592  -22.9362\n 21.9415  -22.921\n 21.9395  -22.9146\n 21.8988  -22.8755\n 21.9457  -22.9191\n 21.9808  -22.9534\n 21.9259  -22.8916\n 21.9539  -22.9359\n 21.8757  -22.8378"
     },
     "metadata": {},
     "execution_count": 3
    }
   ],
   "cell_type": "code",
   "source": [
    "[s.O2t s.CO2t]"
   ],
   "metadata": {},
   "execution_count": 3
  },
  {
   "cell_type": "markdown",
   "source": [
    "---\n",
    "\n",
    "*This notebook was generated using [Literate.jl](https://github.com/fredrikekre/Literate.jl).*"
   ],
   "metadata": {}
  }
 ],
 "nbformat_minor": 3,
 "metadata": {
  "language_info": {
   "file_extension": ".jl",
   "mimetype": "application/julia",
   "name": "julia",
   "version": "1.9.4"
  },
  "kernelspec": {
   "name": "julia-1.9",
   "display_name": "Julia 1.9.4",
   "language": "julia"
  }
 },
 "nbformat": 4
}
