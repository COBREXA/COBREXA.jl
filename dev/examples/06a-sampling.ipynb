{
 "cells": [
  {
   "cell_type": "markdown",
   "source": [
    "# Flux sampling\n",
    "\n",
    "Flux sampling gives an interesting statistical insight into the behavior of\n",
    "the model in the optimal feasible space, and the general \"shape\" of the\n",
    "optimal- or near-optimal set of feasible states of a given model."
   ],
   "metadata": {}
  },
  {
   "cell_type": "markdown",
   "source": [
    "For demonstration, we need the usual packages and models:"
   ],
   "metadata": {}
  },
  {
   "outputs": [
    {
     "name": "stdout",
     "output_type": "stream",
     "text": [
      "[ Info: using cached `e_coli_core.json'\n"
     ]
    },
    {
     "output_type": "execute_result",
     "data": {
      "text/plain": "JSONFBCModels.JSONFBCModel(#= 95 reactions, 72 metabolites =#)"
     },
     "metadata": {},
     "execution_count": 1
    }
   ],
   "cell_type": "code",
   "source": [
    "using COBREXA\n",
    "\n",
    "download_model(\n",
    "    \"http://bigg.ucsd.edu/static/models/e_coli_core.json\",\n",
    "    \"e_coli_core.json\",\n",
    "    \"7bedec10576cfe935b19218dc881f3fb14f890a1871448fc19a9b4ee15b448d8\",\n",
    ")\n",
    "\n",
    "import JSONFBCModels, HiGHS\n",
    "\n",
    "model = load_model(\"e_coli_core.json\")"
   ],
   "metadata": {},
   "execution_count": 1
  },
  {
   "cell_type": "markdown",
   "source": [
    "Function `flux_sample` uses linear optimization to generate a set of\n",
    "warm-up points (by default, the method to generate the warm-up is basically\n",
    "FVA), and then runs the hit-and-run flux sampling algorithm on the\n",
    "near-optimal feasible space of the model:"
   ],
   "metadata": {}
  },
  {
   "outputs": [
    {
     "output_type": "execute_result",
     "data": {
      "text/plain": "ConstraintTrees.Tree{Vector{Float64}} with 95 elements:\n  :ACALD                    => [-0.0216025, -0.0259915, -0.0243972, -0.0242411,…\n  :ACALDt                   => [-0.0130966, -0.0101118, -0.0118799, -0.00533392…\n  :ACKr                     => [-0.0102588, -0.0142706, -0.0127969, -0.00318257…\n  :ACONTa                   => [6.03827, 6.20755, 6.0503, 5.63304, 5.94398, 6.0…\n  :ACONTb                   => [6.03827, 6.20755, 6.0503, 5.63304, 5.94398, 6.0…\n  :ACt2r                    => [-0.0102588, -0.0142706, -0.0127969, -0.00318257…\n  :ADK1                     => [0.012159, 0.0256399, 0.0249916, 0.018119, 0.026…\n  :AKGDH                    => [4.47438, 5.12177, 4.56138, 3.71528, 4.42596, 4.…\n  :AKGt2r                   => [-0.000422955, -0.00127469, -0.00154302, -0.0017…\n  :ALCD2x                   => [-0.00850587, -0.0158797, -0.0125173, -0.0189071…\n  :ATPM                     => [8.4667, 8.46329, 8.43553, 8.44683, 8.43419, 8.4…\n  :ATPS4r                   => [45.354, 45.0249, 45.2622, 46.0919, 45.4149, 45.…\n  :BIOMASS_Ecoli_core_w_GAM => [0.865568, 0.865575, 0.865499, 0.86552, 0.8655, …\n  :CO2t                     => [-22.9041, -22.838, -22.9189, -22.9556, -22.9144…\n  :CS                       => [6.03827, 6.20755, 6.0503, 5.63304, 5.94398, 6.0…\n  :CYTBD                    => [43.8686, 43.7561, 43.8833, 43.9404, 43.8762, 43…\n  :D_LACt2                  => [-0.012291, -0.0147798, -0.0102925, -0.0117404, …\n  :ENO                      => [14.7241, 14.9054, 14.7378, 14.3134, 14.6425, 14…\n  :ETOHt2r                  => [-0.00850587, -0.0158797, -0.0125173, -0.0189071…\n  ⋮                         => ⋮"
     },
     "metadata": {},
     "execution_count": 2
    }
   ],
   "cell_type": "code",
   "source": [
    "s = flux_sample(\n",
    "    model,\n",
    "    optimizer = HiGHS.Optimizer,\n",
    "    objective_bound = relative_tolerance_bound(0.99),\n",
    "    n_chains = 2,\n",
    "    collect_iterations = [10],\n",
    ")"
   ],
   "metadata": {},
   "execution_count": 2
  },
  {
   "cell_type": "markdown",
   "source": [
    "The result is a tree of vectors of sampled states for each value; the order\n",
    "of the values in these vectors is fixed. You can thus e.g. create a good\n",
    "matrix for plotting the sample as 2D scatter plot:"
   ],
   "metadata": {}
  },
  {
   "outputs": [
    {
     "output_type": "execute_result",
     "data": {
      "text/plain": "380×2 Matrix{Float64}:\n 21.9343  -22.9041\n 21.8781  -22.838\n 21.9417  -22.9189\n 21.9702  -22.9556\n 21.9381  -22.9144\n 21.9281  -22.9018\n 21.9117  -22.8791\n 21.9514  -22.925\n 21.9634  -22.9381\n 21.9369  -22.9034\n  ⋮       \n 21.9308  -22.9222\n 22.0796  -23.0643\n 21.8992  -22.8816\n 21.932   -22.9156\n 21.9999  -22.977\n 21.953   -22.9339\n 21.9451  -22.9295\n 21.9717  -22.9501\n 21.9473  -22.9288"
     },
     "metadata": {},
     "execution_count": 3
    }
   ],
   "cell_type": "code",
   "source": [
    "[s.O2t s.CO2t]"
   ],
   "metadata": {},
   "execution_count": 3
  },
  {
   "cell_type": "markdown",
   "source": [
    "---\n",
    "\n",
    "*This notebook was generated using [Literate.jl](https://github.com/fredrikekre/Literate.jl).*"
   ],
   "metadata": {}
  }
 ],
 "nbformat_minor": 3,
 "metadata": {
  "language_info": {
   "file_extension": ".jl",
   "mimetype": "application/julia",
   "name": "julia",
   "version": "1.11.6"
  },
  "kernelspec": {
   "name": "julia-1.11",
   "display_name": "Julia 1.11.6",
   "language": "julia"
  }
 },
 "nbformat": 4
}
