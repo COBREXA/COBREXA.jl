{
 "cells": [
  {
   "cell_type": "markdown",
   "source": [
    "# Flux sampling\n",
    "\n",
    "Flux sampling gives an interesting statistical insight into the behavior of\n",
    "the model in the optimal feasible space, and the general \"shape\" of the\n",
    "optimal- or near-optimal set of feasible states of a given model."
   ],
   "metadata": {}
  },
  {
   "cell_type": "markdown",
   "source": [
    "For demonstration, we need the usual packages and models:"
   ],
   "metadata": {}
  },
  {
   "outputs": [
    {
     "name": "stdout",
     "output_type": "stream",
     "text": [
      "[ Info: using cached `e_coli_core.json'\n"
     ]
    },
    {
     "output_type": "execute_result",
     "data": {
      "text/plain": "JSONFBCModels.JSONFBCModel(#= 95 reactions, 72 metabolites =#)"
     },
     "metadata": {},
     "execution_count": 1
    }
   ],
   "cell_type": "code",
   "source": [
    "using COBREXA\n",
    "\n",
    "download_model(\n",
    "    \"http://bigg.ucsd.edu/static/models/e_coli_core.json\",\n",
    "    \"e_coli_core.json\",\n",
    "    \"7bedec10576cfe935b19218dc881f3fb14f890a1871448fc19a9b4ee15b448d8\",\n",
    ")\n",
    "\n",
    "import JSONFBCModels, HiGHS\n",
    "\n",
    "model = load_model(\"e_coli_core.json\")"
   ],
   "metadata": {},
   "execution_count": 1
  },
  {
   "cell_type": "markdown",
   "source": [
    "Function `flux_sample` uses linear optimization to generate a set of\n",
    "warm-up points (by default, the method to generate the warm-up is basically\n",
    "FVA), and then runs the hit-and-run flux sampling algorithm on the\n",
    "near-optimal feasible space of the model:"
   ],
   "metadata": {}
  },
  {
   "outputs": [
    {
     "output_type": "execute_result",
     "data": {
      "text/plain": "ConstraintTrees.Tree{Vector{Float64}} with 95 elements:\n  :ACALD                    => [-0.0123266, -0.0158196, -0.03415, -0.0110501, -…\n  :ACALDt                   => [-0.00294775, -0.0052584, -0.0248697, -0.0032122…\n  :ACKr                     => [-0.0224064, -0.0269574, -0.0204045, -0.0152488,…\n  :ACONTa                   => [6.09409, 6.08582, 6.04702, 6.12428, 6.04352, 5.…\n  :ACONTb                   => [6.09409, 6.08582, 6.04702, 6.12428, 6.04352, 5.…\n  :ACt2r                    => [-0.0224064, -0.0269574, -0.0204045, -0.0152488,…\n  :ADK1                     => [0.0437434, 0.0523231, 0.0666521, 0.0355584, 0.0…\n  :AKGDH                    => [4.67976, 4.73337, 4.63298, 4.55802, 4.54552, 4.…\n  :AKGt2r                   => [-0.00119484, -0.00164423, -0.00173894, -0.00116…\n  :ALCD2x                   => [-0.00937886, -0.0105612, -0.00928024, -0.007837…\n  :ATPM                     => [8.42991, 8.41404, 8.41787, 8.43399, 8.42598, 8.…\n  :ATPS4r                   => [45.2023, 45.2078, 45.252, 45.1217, 45.1454, 45.…\n  :BIOMASS_Ecoli_core_w_GAM => [0.865564, 0.865615, 0.865579, 0.865454, 0.86536…\n  :CO2t                     => [-22.9145, -22.9054, -22.907, -22.9373, -22.88, …\n  :CS                       => [6.09409, 6.08582, 6.04702, 6.12428, 6.04352, 5.…\n  :CYTBD                    => [43.8908, 43.863, 43.8349, 43.9464, 43.8195, 43.…\n  :D_LACt2                  => [-0.00746431, -0.00535258, -0.0040926, -0.008561…\n  :ENO                      => [14.782, 14.7813, 14.751, 14.7993, 14.7569, 14.6…\n  :ETOHt2r                  => [-0.00937886, -0.0105612, -0.00928024, -0.007837…\n  ⋮                         => ⋮"
     },
     "metadata": {},
     "execution_count": 2
    }
   ],
   "cell_type": "code",
   "source": [
    "s = flux_sample(\n",
    "    model,\n",
    "    optimizer = HiGHS.Optimizer,\n",
    "    objective_bound = relative_tolerance_bound(0.99),\n",
    "    n_chains = 2,\n",
    "    collect_iterations = [10],\n",
    ")"
   ],
   "metadata": {},
   "execution_count": 2
  },
  {
   "cell_type": "markdown",
   "source": [
    "The result is a tree of vectors of sampled states for each value; the order\n",
    "of the values in these vectors is fixed. You can thus e.g. create a good\n",
    "matrix for plotting the sample as 2D scatterplot:"
   ],
   "metadata": {}
  },
  {
   "outputs": [
    {
     "output_type": "execute_result",
     "data": {
      "text/plain": "380×2 Matrix{Float64}:\n 21.9454  -22.9145\n 21.9315  -22.9054\n 21.9175  -22.907\n 21.9732  -22.9373\n 21.9097  -22.88\n 21.9349  -22.9127\n 21.9501  -22.918\n 21.924   -22.8856\n 21.9409  -22.9149\n 21.9442  -22.9134\n  ⋮       \n 21.9616  -22.9407\n 21.9162  -22.8905\n 21.9758  -22.9588\n 21.9778  -22.9556\n 21.927   -22.8834\n 21.9356  -22.914\n 22.0504  -23.0323\n 21.9612  -22.9401\n 21.9773  -22.9576"
     },
     "metadata": {},
     "execution_count": 3
    }
   ],
   "cell_type": "code",
   "source": [
    "[s.O2t s.CO2t]"
   ],
   "metadata": {},
   "execution_count": 3
  },
  {
   "cell_type": "markdown",
   "source": [
    "---\n",
    "\n",
    "*This notebook was generated using [Literate.jl](https://github.com/fredrikekre/Literate.jl).*"
   ],
   "metadata": {}
  }
 ],
 "nbformat_minor": 3,
 "metadata": {
  "language_info": {
   "file_extension": ".jl",
   "mimetype": "application/julia",
   "name": "julia",
   "version": "1.9.4"
  },
  "kernelspec": {
   "name": "julia-1.9",
   "display_name": "Julia 1.9.4",
   "language": "julia"
  }
 },
 "nbformat": 4
}
