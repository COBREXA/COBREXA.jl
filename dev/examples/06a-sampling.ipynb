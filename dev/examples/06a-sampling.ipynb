{
 "cells": [
  {
   "cell_type": "markdown",
   "source": [
    "# Flux sampling\n",
    "\n",
    "Flux sampling gives an interesting statistical insight into the behavior of\n",
    "the model in the optimal feasible space, and the general \"shape\" of the\n",
    "optimal- or near-optimal set of feasible states of a given model."
   ],
   "metadata": {}
  },
  {
   "cell_type": "markdown",
   "source": [
    "For demonstration, we need the usual packages and models:"
   ],
   "metadata": {}
  },
  {
   "outputs": [
    {
     "name": "stdout",
     "output_type": "stream",
     "text": [
      "[ Info: using cached `e_coli_core.json'\n"
     ]
    },
    {
     "output_type": "execute_result",
     "data": {
      "text/plain": "JSONFBCModels.JSONFBCModel(#= 95 reactions, 72 metabolites =#)"
     },
     "metadata": {},
     "execution_count": 1
    }
   ],
   "cell_type": "code",
   "source": [
    "using COBREXA\n",
    "\n",
    "download_model(\n",
    "    \"http://bigg.ucsd.edu/static/models/e_coli_core.json\",\n",
    "    \"e_coli_core.json\",\n",
    "    \"7bedec10576cfe935b19218dc881f3fb14f890a1871448fc19a9b4ee15b448d8\",\n",
    ")\n",
    "\n",
    "import JSONFBCModels, HiGHS\n",
    "\n",
    "model = load_model(\"e_coli_core.json\")"
   ],
   "metadata": {},
   "execution_count": 1
  },
  {
   "cell_type": "markdown",
   "source": [
    "Function `flux_sample` uses linear optimization to generate a set of\n",
    "warm-up points (by default, the method to generate the warm-up is basically\n",
    "FVA), and then runs the hit-and-run flux sampling algorithm on the\n",
    "near-optimal feasible space of the model:"
   ],
   "metadata": {}
  },
  {
   "outputs": [
    {
     "output_type": "execute_result",
     "data": {
      "text/plain": "ConstraintTrees.Tree{Vector{Float64}} with 95 elements:\n  :ACALD                    => [-0.0387419, -0.0161545, -0.0535667, -0.0121229,…\n  :ACALDt                   => [-0.0299063, -0.00564386, -0.0441222, -0.0044472…\n  :ACKr                     => [-0.0214974, -0.0199585, -0.0237342, -0.020044, …\n  :ACONTa                   => [6.0618, 6.30764, 6.05175, 6.0711, 6.05899, 6.34…\n  :ACONTb                   => [6.0618, 6.30764, 6.05175, 6.0711, 6.05899, 6.34…\n  :ACt2r                    => [-0.0214974, -0.0199585, -0.0237342, -0.020044, …\n  :ADK1                     => [0.0283265, 0.0390212, 0.0239627, 0.032485, 0.03…\n  :AKGDH                    => [4.55802, 5.10047, 4.62709, 4.46671, 4.30964, 5.…\n  :AKGt2r                   => [-0.00129715, -0.00145558, -0.00125847, -0.00119…\n  :ALCD2x                   => [-0.00883562, -0.0105107, -0.00944449, -0.007675…\n  :ATPM                     => [8.4355, 8.45096, 8.42554, 8.44178, 8.42787, 8.4…\n  :ATPS4r                   => [45.123, 44.8066, 45.0806, 45.1881, 45.2247, 44.…\n  :BIOMASS_Ecoli_core_w_GAM => [0.865414, 0.865605, 0.865346, 0.86543, 0.865499…\n  :CO2t                     => [-22.92, -22.8978, -22.9118, -22.9534, -22.9736,…\n  :CS                       => [6.0618, 6.30764, 6.05175, 6.0711, 6.05899, 6.34…\n  :CYTBD                    => [43.8551, 43.8539, 43.82, 43.9508, 43.9978, 43.8…\n  :D_LACt2                  => [-0.00702767, -0.0114787, -0.00625388, -0.008360…\n  :ENO                      => [14.7642, 15.0001, 14.7646, 14.752, 14.7291, 15.…\n  :ETOHt2r                  => [-0.00883562, -0.0105107, -0.00944449, -0.007675…\n  ⋮                         => ⋮"
     },
     "metadata": {},
     "execution_count": 2
    }
   ],
   "cell_type": "code",
   "source": [
    "s = flux_sample(\n",
    "    model,\n",
    "    optimizer = HiGHS.Optimizer,\n",
    "    objective_bound = relative_tolerance_bound(0.99),\n",
    "    n_chains = 2,\n",
    "    collect_iterations = [10],\n",
    ")"
   ],
   "metadata": {},
   "execution_count": 2
  },
  {
   "cell_type": "markdown",
   "source": [
    "The result is a tree of vectors of sampled states for each value; the order\n",
    "of the values in these vectors is fixed. You can thus e.g. create a good\n",
    "matrix for plotting the sample as 2D scatterplot:"
   ],
   "metadata": {}
  },
  {
   "outputs": [
    {
     "output_type": "execute_result",
     "data": {
      "text/plain": "380×2 Matrix{Float64}:\n 21.9275  -22.92\n 21.9269  -22.8978\n 21.91    -22.9118\n 21.9754  -22.9534\n 21.9989  -22.9736\n 21.9179  -22.8825\n 22.0023  -22.9811\n 22.0014  -22.9819\n 21.9887  -22.9675\n 21.9675  -22.9452\n  ⋮       \n 21.9443  -22.9315\n 21.9616  -22.9458\n 21.8759  -22.848\n 21.9657  -22.9481\n 21.9628  -22.9474\n 21.9125  -22.9069\n 21.9693  -22.9526\n 21.9314  -22.9192\n 21.9744  -22.9473"
     },
     "metadata": {},
     "execution_count": 3
    }
   ],
   "cell_type": "code",
   "source": [
    "[s.O2t s.CO2t]"
   ],
   "metadata": {},
   "execution_count": 3
  },
  {
   "cell_type": "markdown",
   "source": [
    "---\n",
    "\n",
    "*This notebook was generated using [Literate.jl](https://github.com/fredrikekre/Literate.jl).*"
   ],
   "metadata": {}
  }
 ],
 "nbformat_minor": 3,
 "metadata": {
  "language_info": {
   "file_extension": ".jl",
   "mimetype": "application/julia",
   "name": "julia",
   "version": "1.9.4"
  },
  "kernelspec": {
   "name": "julia-1.9",
   "display_name": "Julia 1.9.4",
   "language": "julia"
  }
 },
 "nbformat": 4
}
