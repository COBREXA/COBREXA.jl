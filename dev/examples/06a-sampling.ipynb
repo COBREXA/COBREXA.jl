{
 "cells": [
  {
   "cell_type": "markdown",
   "source": [
    "# Flux sampling\n",
    "\n",
    "Flux sampling gives an interesting statistical insight into the behavior of\n",
    "the model in the optimal feasible space, and the general \"shape\" of the\n",
    "optimal- or near-optimal set of feasible states of a given model."
   ],
   "metadata": {}
  },
  {
   "cell_type": "markdown",
   "source": [
    "For demonstration, we need the usual packages and models:"
   ],
   "metadata": {}
  },
  {
   "outputs": [
    {
     "name": "stdout",
     "output_type": "stream",
     "text": [
      "[ Info: using cached `e_coli_core.json'\n"
     ]
    },
    {
     "output_type": "execute_result",
     "data": {
      "text/plain": "JSONFBCModels.JSONFBCModel(#= 95 reactions, 72 metabolites =#)"
     },
     "metadata": {},
     "execution_count": 1
    }
   ],
   "cell_type": "code",
   "source": [
    "using COBREXA\n",
    "\n",
    "download_model(\n",
    "    \"http://bigg.ucsd.edu/static/models/e_coli_core.json\",\n",
    "    \"e_coli_core.json\",\n",
    "    \"7bedec10576cfe935b19218dc881f3fb14f890a1871448fc19a9b4ee15b448d8\",\n",
    ")\n",
    "\n",
    "import JSONFBCModels, HiGHS\n",
    "\n",
    "model = load_model(\"e_coli_core.json\")"
   ],
   "metadata": {},
   "execution_count": 1
  },
  {
   "cell_type": "markdown",
   "source": [
    "Function `flux_sample` uses linear optimization to generate a set of\n",
    "warm-up points (by default, the method to generate the warm-up is basically\n",
    "FVA), and then runs the hit-and-run flux sampling algorithm on the\n",
    "near-optimal feasible space of the model:"
   ],
   "metadata": {}
  },
  {
   "outputs": [
    {
     "output_type": "execute_result",
     "data": {
      "text/plain": "ConstraintTrees.Tree{Vector{Float64}} with 95 elements:\n  :ACALD                    => [-0.0140522, -0.0117069, -0.0663877, -0.0120889,…\n  :ACALDt                   => [-0.00577372, -0.00439084, -0.0610236, -0.004432…\n  :ACKr                     => [-0.0198871, -0.019758, -0.0107564, -0.0225279, …\n  :ACONTa                   => [6.04704, 5.91736, 6.09299, 6.12305, 6.02128, 6.…\n  :ACONTb                   => [6.04704, 5.91736, 6.09299, 6.12305, 6.02128, 6.…\n  :ACt2r                    => [-0.0198871, -0.019758, -0.0107564, -0.0225279, …\n  :ADK1                     => [0.0291753, 0.0439375, 0.0210743, 0.0350353, 0.0…\n  :AKGDH                    => [4.45369, 4.23828, 4.67328, 4.6345, 4.48988, 4.4…\n  :AKGt2r                   => [-0.00147048, -0.00175472, -0.000812107, -0.0018…\n  :ALCD2x                   => [-0.00827848, -0.0073161, -0.00536413, -0.007656…\n  :ATPM                     => [8.45385, 8.46728, 8.42961, 8.44482, 8.44144, 8.…\n  :ATPS4r                   => [45.2722, 45.5669, 45.0121, 45.1305, 45.259, 45.…\n  :BIOMASS_Ecoli_core_w_GAM => [0.865404, 0.865378, 0.865432, 0.865432, 0.86537…\n  :CO2t                     => [-22.954, -22.9203, -22.8954, -22.9337, -22.9252…\n  :CS                       => [6.04704, 5.91736, 6.09299, 6.12305, 6.02128, 6.…\n  :CYTBD                    => [43.9536, 43.9033, 43.7828, 43.923, 43.8897, 43.…\n  :D_LACt2                  => [-0.00827968, -0.0123715, -0.00498437, -0.009234…\n  :ENO                      => [14.7265, 14.6003, 14.8096, 14.8066, 14.7188, 14…\n  :ETOHt2r                  => [-0.00827848, -0.0073161, -0.00536413, -0.007656…\n  ⋮                         => ⋮"
     },
     "metadata": {},
     "execution_count": 2
    }
   ],
   "cell_type": "code",
   "source": [
    "s = flux_sample(\n",
    "    model,\n",
    "    optimizer = HiGHS.Optimizer,\n",
    "    objective_bound = relative_tolerance_bound(0.99),\n",
    "    n_chains = 2,\n",
    "    collect_iterations = [10],\n",
    ")"
   ],
   "metadata": {},
   "execution_count": 2
  },
  {
   "cell_type": "markdown",
   "source": [
    "The result is a tree of vectors of sampled states for each value; the order\n",
    "of the values in these vectors is fixed. You can thus e.g. create a good\n",
    "matrix for plotting the sample as 2D scatterplot:"
   ],
   "metadata": {}
  },
  {
   "outputs": [
    {
     "output_type": "execute_result",
     "data": {
      "text/plain": "380×2 Matrix{Float64}:\n 21.9768  -22.954\n 21.9517  -22.9203\n 21.8914  -22.8954\n 21.9615  -22.9337\n 21.9449  -22.9252\n 21.9832  -22.9619\n 21.9836  -22.9603\n 21.9597  -22.9425\n 21.981   -22.9573\n 21.9895  -22.9797\n  ⋮       \n 21.9623  -22.9358\n 21.9475  -22.9109\n 21.9833  -22.955\n 21.9308  -22.894\n 21.9576  -22.9184\n 21.9499  -22.9162\n 21.9599  -22.9315\n 21.9509  -22.9192\n 21.9416  -22.907"
     },
     "metadata": {},
     "execution_count": 3
    }
   ],
   "cell_type": "code",
   "source": [
    "[s.O2t s.CO2t]"
   ],
   "metadata": {},
   "execution_count": 3
  },
  {
   "cell_type": "markdown",
   "source": [
    "---\n",
    "\n",
    "*This notebook was generated using [Literate.jl](https://github.com/fredrikekre/Literate.jl).*"
   ],
   "metadata": {}
  }
 ],
 "nbformat_minor": 3,
 "metadata": {
  "language_info": {
   "file_extension": ".jl",
   "mimetype": "application/julia",
   "name": "julia",
   "version": "1.11.2"
  },
  "kernelspec": {
   "name": "julia-1.11",
   "display_name": "Julia 1.11.2",
   "language": "julia"
  }
 },
 "nbformat": 4
}
