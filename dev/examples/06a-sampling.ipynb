{
 "cells": [
  {
   "cell_type": "markdown",
   "source": [
    "# Flux sampling\n",
    "\n",
    "Flux sampling gives an interesting statistical insight into the behavior of\n",
    "the model in the optimal feasible space, and the general \"shape\" of the\n",
    "optimal- or near-optimal set of feasible states of a given model."
   ],
   "metadata": {}
  },
  {
   "cell_type": "markdown",
   "source": [
    "For demonstration, we need the usual packages and models:"
   ],
   "metadata": {}
  },
  {
   "outputs": [
    {
     "name": "stdout",
     "output_type": "stream",
     "text": [
      "[ Info: using cached `e_coli_core.json'\n"
     ]
    },
    {
     "output_type": "execute_result",
     "data": {
      "text/plain": "JSONFBCModels.JSONFBCModel(#= 95 reactions, 72 metabolites =#)"
     },
     "metadata": {},
     "execution_count": 1
    }
   ],
   "cell_type": "code",
   "source": [
    "using COBREXA\n",
    "\n",
    "download_model(\n",
    "    \"http://bigg.ucsd.edu/static/models/e_coli_core.json\",\n",
    "    \"e_coli_core.json\",\n",
    "    \"7bedec10576cfe935b19218dc881f3fb14f890a1871448fc19a9b4ee15b448d8\",\n",
    ")\n",
    "\n",
    "import JSONFBCModels, GLPK\n",
    "\n",
    "model = load_model(\"e_coli_core.json\")"
   ],
   "metadata": {},
   "execution_count": 1
  },
  {
   "cell_type": "markdown",
   "source": [
    "Function `flux_sample` uses linear optimization to generate a set of\n",
    "warm-up points (by default, the method to generate the warm-up is basically\n",
    "FVA), and then runs the hit-and-run flux sampling algorithm on the\n",
    "near-optimal feasible space of the model:"
   ],
   "metadata": {}
  },
  {
   "outputs": [
    {
     "output_type": "execute_result",
     "data": {
      "text/plain": "ConstraintTrees.Tree{Vector{Float64}} with 95 elements:\n  :ACALD                    => [-0.0249086, -0.0107721, -0.0160284, -0.0142208,…\n  :ACALDt                   => [-0.0121942, -0.00350331, -0.00306025, -0.003317…\n  :ACKr                     => [-0.023162, -0.0166091, -0.0209856, -0.02251, -0…\n  :ACONTa                   => [6.14358, 6.10324, 6.05625, 6.07112, 6.06016, 5.…\n  :ACONTb                   => [6.14358, 6.10324, 6.05625, 6.07112, 6.06016, 5.…\n  :ACt2r                    => [-0.023162, -0.0166091, -0.0209856, -0.02251, -0…\n  :ADK1                     => [0.0559238, 0.0338424, 0.0319711, 0.0294184, 0.0…\n  :AKGDH                    => [4.81059, 4.68742, 4.67167, 4.68396, 4.68145, 4.…\n  :AKGt2r                   => [-0.00210063, -0.00204414, -0.00275112, -0.00256…\n  :ALCD2x                   => [-0.0127144, -0.00726876, -0.0129681, -0.0109038…\n  :ATPM                     => [8.40872, 8.39481, 8.39819, 8.3986, 8.39814, 8.3…\n  :ATPS4r                   => [45.1756, 45.125, 45.2412, 45.1957, 45.1449, 45.…\n  :BIOMASS_Ecoli_core_w_GAM => [0.865935, 0.865872, 0.866022, 0.865949, 0.86589…\n  :CO2t                     => [-22.9054, -22.9163, -22.8903, -22.8974, -22.876…\n  :CS                       => [6.14358, 6.10324, 6.05625, 6.07112, 6.06016, 5.…\n  :CYTBD                    => [43.8265, 43.9018, 43.8318, 43.8509, 43.8039, 44…\n  :D_LACt2                  => [-0.00880263, -0.00918615, -0.00775004, -0.00757…\n  :ENO                      => [14.8463, 14.7801, 14.7455, 14.7588, 14.7651, 14…\n  :ETOHt2r                  => [-0.0127144, -0.00726876, -0.0129681, -0.0109038…\n  ⋮                         => ⋮"
     },
     "metadata": {},
     "execution_count": 2
    }
   ],
   "cell_type": "code",
   "source": [
    "s = flux_sample(\n",
    "    model,\n",
    "    optimizer = GLPK.Optimizer,\n",
    "    objective_bound = relative_tolerance_bound(0.99),\n",
    "    n_chains = 2,\n",
    "    collect_iterations = [10],\n",
    ")"
   ],
   "metadata": {},
   "execution_count": 2
  },
  {
   "cell_type": "markdown",
   "source": [
    "The result is a tree of vectors of sampled states for each value; the order\n",
    "of the values in these vectors is fixed. You can thus e.g. create a good\n",
    "matrix for plotting the sample as 2D scatterplot:"
   ],
   "metadata": {}
  },
  {
   "outputs": [
    {
     "output_type": "execute_result",
     "data": {
      "text/plain": "380×2 Matrix{Float64}:\n 21.9133  -22.9054\n 21.9509  -22.9163\n 21.9159  -22.8903\n 21.9254  -22.8974\n 21.902   -22.8762\n 22.0118  -22.9801\n 21.9337  -22.9014\n 22.0028  -22.9797\n 21.9176  -22.8882\n 21.9288  -22.903\n  ⋮       \n 21.9057  -22.8966\n 21.9238  -22.9028\n 21.921   -22.8986\n 21.9306  -22.9088\n 21.9122  -22.8921\n 21.923   -22.9008\n 21.9195  -22.8989\n 21.9239  -22.9006\n 21.9318  -22.9165"
     },
     "metadata": {},
     "execution_count": 3
    }
   ],
   "cell_type": "code",
   "source": [
    "[s.O2t s.CO2t]"
   ],
   "metadata": {},
   "execution_count": 3
  },
  {
   "cell_type": "markdown",
   "source": [
    "---\n",
    "\n",
    "*This notebook was generated using [Literate.jl](https://github.com/fredrikekre/Literate.jl).*"
   ],
   "metadata": {}
  }
 ],
 "nbformat_minor": 3,
 "metadata": {
  "language_info": {
   "file_extension": ".jl",
   "mimetype": "application/julia",
   "name": "julia",
   "version": "1.9.4"
  },
  "kernelspec": {
   "name": "julia-1.9",
   "display_name": "Julia 1.9.4",
   "language": "julia"
  }
 },
 "nbformat": 4
}
