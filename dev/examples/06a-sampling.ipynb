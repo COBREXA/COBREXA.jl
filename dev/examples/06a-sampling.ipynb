{
 "cells": [
  {
   "cell_type": "markdown",
   "source": [
    "# Flux sampling\n",
    "\n",
    "Flux sampling gives an interesting statistical insight into the behavior of\n",
    "the model in the optimal feasible space, and the general \"shape\" of the\n",
    "optimal- or near-optimal set of feasible states of a given model."
   ],
   "metadata": {}
  },
  {
   "cell_type": "markdown",
   "source": [
    "For demonstration, we need the usual packages and models:"
   ],
   "metadata": {}
  },
  {
   "outputs": [
    {
     "name": "stdout",
     "output_type": "stream",
     "text": [
      "[ Info: using cached `e_coli_core.json'\n"
     ]
    },
    {
     "output_type": "execute_result",
     "data": {
      "text/plain": "JSONFBCModels.JSONFBCModel(#= 95 reactions, 72 metabolites =#)"
     },
     "metadata": {},
     "execution_count": 1
    }
   ],
   "cell_type": "code",
   "source": [
    "using COBREXA\n",
    "\n",
    "download_model(\n",
    "    \"http://bigg.ucsd.edu/static/models/e_coli_core.json\",\n",
    "    \"e_coli_core.json\",\n",
    "    \"7bedec10576cfe935b19218dc881f3fb14f890a1871448fc19a9b4ee15b448d8\",\n",
    ")\n",
    "\n",
    "import JSONFBCModels, GLPK\n",
    "\n",
    "model = load_model(\"e_coli_core.json\")"
   ],
   "metadata": {},
   "execution_count": 1
  },
  {
   "cell_type": "markdown",
   "source": [
    "Function `flux_sample` uses linear optimization to generate a set of\n",
    "warm-up points (by default, the method to generate the warm-up is basically\n",
    "FVA), and then runs the hit-and-run flux sampling algorithm on the\n",
    "near-optimal feasible space of the model:"
   ],
   "metadata": {}
  },
  {
   "outputs": [
    {
     "output_type": "execute_result",
     "data": {
      "text/plain": "ConstraintTrees.Tree{Vector{Float64}} with 95 elements:\n  :ACALD                    => [-0.0096154, -0.0156186, -0.0131488, -0.0154906,…\n  :ACALDt                   => [-0.00028257, -0.0057923, -0.00321973, -0.005659…\n  :ACKr                     => [-0.0183637, -0.0181895, -0.0192147, -0.0181969,…\n  :ACONTa                   => [6.11996, 6.12708, 6.1512, 6.09676, 6.13032, 6.0…\n  :ACONTb                   => [6.11996, 6.12708, 6.1512, 6.09676, 6.13032, 6.0…\n  :ACt2r                    => [-0.0183637, -0.0181895, -0.0192147, -0.0181969,…\n  :ADK1                     => [0.0268407, 0.0275748, 0.0271569, 0.0299718, 0.0…\n  :AKGDH                    => [4.73851, 4.77037, 4.81474, 4.71446, 4.76459, 4.…\n  :AKGt2r                   => [-0.0020062, -0.00180934, -0.00167355, -0.001665…\n  :ALCD2x                   => [-0.00933283, -0.00982628, -0.00992908, -0.00983…\n  :ATPM                     => [8.40127, 8.4004, 8.40183, 8.39796, 8.39959, 8.4…\n  :ATPS4r                   => [45.1179, 45.0902, 45.0429, 45.1385, 45.0495, 45…\n  :BIOMASS_Ecoli_core_w_GAM => [0.86612, 0.866072, 0.866066, 0.866086, 0.866014…\n  :CO2t                     => [-22.9116, -22.9042, -22.9016, -22.906, -22.9013…\n  :CS                       => [6.11996, 6.12708, 6.1512, 6.09676, 6.13032, 6.0…\n  :CYTBD                    => [43.8718, 43.8506, 43.8493, 43.8549, 43.8455, 43…\n  :D_LACt2                  => [-0.0106439, -0.0106921, -0.0110099, -0.0112131,…\n  :ENO                      => [14.8045, 14.8164, 14.8408, 14.7857, 14.8232, 14…\n  :ETOHt2r                  => [-0.00933283, -0.00982628, -0.00992908, -0.00983…\n  ⋮                         => ⋮"
     },
     "metadata": {},
     "execution_count": 2
    }
   ],
   "cell_type": "code",
   "source": [
    "s = flux_sample(\n",
    "    model,\n",
    "    optimizer = GLPK.Optimizer,\n",
    "    objective_bound = relative_tolerance_bound(0.99),\n",
    "    n_chains = 2,\n",
    "    collect_iterations = [10],\n",
    ")"
   ],
   "metadata": {},
   "execution_count": 2
  },
  {
   "cell_type": "markdown",
   "source": [
    "The result is a tree of vectors of sampled states for each value; the order\n",
    "of the values in these vectors is fixed. You can thus e.g. create a good\n",
    "matrix for plotting the sample as 2D scatterplot:"
   ],
   "metadata": {}
  },
  {
   "outputs": [
    {
     "output_type": "execute_result",
     "data": {
      "text/plain": "380×2 Matrix{Float64}:\n 21.9359  -22.9116\n 21.9253  -22.9042\n 21.9247  -22.9016\n 21.9274  -22.906\n 21.9228  -22.9013\n 21.9477  -22.9174\n 21.9369  -22.9129\n 21.9359  -22.917\n 21.9273  -22.9059\n 21.9146  -22.896\n  ⋮       \n 21.8803  -22.8199\n 21.9161  -22.8996\n 21.9166  -22.8757\n 21.9056  -22.8717\n 21.9147  -22.8755\n 21.9122  -22.8716\n 21.9169  -22.8766\n 21.9665  -22.9287\n 21.9174  -22.8773"
     },
     "metadata": {},
     "execution_count": 3
    }
   ],
   "cell_type": "code",
   "source": [
    "[s.O2t s.CO2t]"
   ],
   "metadata": {},
   "execution_count": 3
  },
  {
   "cell_type": "markdown",
   "source": [
    "---\n",
    "\n",
    "*This notebook was generated using [Literate.jl](https://github.com/fredrikekre/Literate.jl).*"
   ],
   "metadata": {}
  }
 ],
 "nbformat_minor": 3,
 "metadata": {
  "language_info": {
   "file_extension": ".jl",
   "mimetype": "application/julia",
   "name": "julia",
   "version": "1.9.4"
  },
  "kernelspec": {
   "name": "julia-1.9",
   "display_name": "Julia 1.9.4",
   "language": "julia"
  }
 },
 "nbformat": 4
}
