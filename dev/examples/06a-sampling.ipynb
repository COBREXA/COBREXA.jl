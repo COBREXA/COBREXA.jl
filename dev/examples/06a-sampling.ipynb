{
 "cells": [
  {
   "cell_type": "markdown",
   "source": [
    "# Flux sampling\n",
    "\n",
    "Flux sampling gives an interesting statistical insight into the behavior of\n",
    "the model in the optimal feasible space, and the general \"shape\" of the\n",
    "optimal- or near-optimal set of feasible states of a given model."
   ],
   "metadata": {}
  },
  {
   "cell_type": "markdown",
   "source": [
    "For demonstration, we need the usual packages and models:"
   ],
   "metadata": {}
  },
  {
   "outputs": [
    {
     "name": "stdout",
     "output_type": "stream",
     "text": [
      "[ Info: using cached `e_coli_core.json'\n"
     ]
    },
    {
     "output_type": "execute_result",
     "data": {
      "text/plain": "JSONFBCModels.JSONFBCModel(#= 95 reactions, 72 metabolites =#)"
     },
     "metadata": {},
     "execution_count": 1
    }
   ],
   "cell_type": "code",
   "source": [
    "using COBREXA\n",
    "\n",
    "download_model(\n",
    "    \"http://bigg.ucsd.edu/static/models/e_coli_core.json\",\n",
    "    \"e_coli_core.json\",\n",
    "    \"7bedec10576cfe935b19218dc881f3fb14f890a1871448fc19a9b4ee15b448d8\",\n",
    ")\n",
    "\n",
    "import JSONFBCModels, GLPK\n",
    "\n",
    "model = load_model(\"e_coli_core.json\")"
   ],
   "metadata": {},
   "execution_count": 1
  },
  {
   "cell_type": "markdown",
   "source": [
    "Function `flux_sample` uses linear optimization to generate a set of\n",
    "warm-up points (by default, the method to generate the warm-up is basically\n",
    "FVA), and then runs the hit-and-run flux sampling algorithm on the\n",
    "near-optimal feasible space of the model:"
   ],
   "metadata": {}
  },
  {
   "outputs": [
    {
     "output_type": "execute_result",
     "data": {
      "text/plain": "ConstraintTrees.Tree{Vector{Float64}} with 95 elements:\n  :ACALD                    => [-0.0547061, -0.0210165, -0.0980573, -0.0174427,…\n  :ACALDt                   => [-0.0454796, -0.00959279, -0.0913809, -0.0099388…\n  :ACKr                     => [-0.0214146, -0.0265327, -0.0164681, -0.0212369,…\n  :ACONTa                   => [6.15455, 6.32536, 6.10102, 6.02609, 6.06944, 6.…\n  :ACONTb                   => [6.15455, 6.32536, 6.10102, 6.02609, 6.06944, 6.…\n  :ACt2r                    => [-0.0214146, -0.0265327, -0.0164681, -0.0212369,…\n  :ADK1                     => [0.0226172, 0.0403671, 0.0216788, 0.0397791, 0.0…\n  :AKGDH                    => [4.84722, 5.27476, 4.8623, 4.57658, 4.58299, 4.7…\n  :AKGt2r                   => [-0.00083089, -0.00198125, -0.000758924, -0.0026…\n  :ALCD2x                   => [-0.00922647, -0.0114237, -0.00667643, -0.007503…\n  :ATPM                     => [8.39637, 8.39694, 8.39646, 8.39664, 8.39528, 8.…\n  :ATPS4r                   => [44.9025, 44.7056, 44.9263, 45.21, 45.26, 44.967…\n  :BIOMASS_Ecoli_core_w_GAM => [0.865982, 0.86597, 0.865688, 0.865863, 0.865949…\n  :CO2t                     => [-22.8836, -22.8119, -22.8338, -22.8347, -22.944…\n  :CS                       => [6.15455, 6.32536, 6.10102, 6.02609, 6.06944, 6.…\n  :CYTBD                    => [43.7611, 43.7083, 43.6143, 43.7534, 43.9251, 43…\n  :D_LACt2                  => [-0.0062785, -0.0134657, -0.00391531, -0.0167394…\n  :ENO                      => [14.8716, 15.0296, 14.8524, 14.7228, 14.7499, 14…\n  :ETOHt2r                  => [-0.00922647, -0.0114237, -0.00667643, -0.007503…\n  ⋮                         => ⋮"
     },
     "metadata": {},
     "execution_count": 2
    }
   ],
   "cell_type": "code",
   "source": [
    "s = flux_sample(\n",
    "    model,\n",
    "    optimizer = GLPK.Optimizer,\n",
    "    objective_bound = relative_tolerance_bound(0.99),\n",
    "    n_chains = 2,\n",
    "    collect_iterations = [10],\n",
    ")"
   ],
   "metadata": {},
   "execution_count": 2
  },
  {
   "cell_type": "markdown",
   "source": [
    "The result is a tree of vectors of sampled states for each value; the order\n",
    "of the values in these vectors is fixed. You can thus e.g. create a good\n",
    "matrix for plotting the sample as 2D scatterplot:"
   ],
   "metadata": {}
  },
  {
   "outputs": [
    {
     "output_type": "execute_result",
     "data": {
      "text/plain": "380×2 Matrix{Float64}:\n 21.8806  -22.8836\n 21.8541  -22.8119\n 21.8071  -22.8338\n 21.8767  -22.8347\n 21.9625  -22.944\n 21.9394  -22.9064\n 21.9033  -22.8674\n 21.9352  -22.9078\n 21.9194  -22.8902\n 21.9303  -22.8998\n  ⋮       \n 21.8777  -22.8414\n 21.9407  -22.912\n 21.9253  -22.897\n 21.9459  -22.9179\n 21.9424  -22.9137\n 21.9223  -22.8913\n 21.916   -22.8846\n 21.9242  -22.8893\n 21.9493  -22.9218"
     },
     "metadata": {},
     "execution_count": 3
    }
   ],
   "cell_type": "code",
   "source": [
    "[s.O2t s.CO2t]"
   ],
   "metadata": {},
   "execution_count": 3
  },
  {
   "cell_type": "markdown",
   "source": [
    "---\n",
    "\n",
    "*This notebook was generated using [Literate.jl](https://github.com/fredrikekre/Literate.jl).*"
   ],
   "metadata": {}
  }
 ],
 "nbformat_minor": 3,
 "metadata": {
  "language_info": {
   "file_extension": ".jl",
   "mimetype": "application/julia",
   "name": "julia",
   "version": "1.9.4"
  },
  "kernelspec": {
   "name": "julia-1.9",
   "display_name": "Julia 1.9.4",
   "language": "julia"
  }
 },
 "nbformat": 4
}
