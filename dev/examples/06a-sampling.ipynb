{
 "cells": [
  {
   "cell_type": "markdown",
   "source": [
    "# Flux sampling\n",
    "\n",
    "Flux sampling gives an interesting statistical insight into the behavior of\n",
    "the model in the optimal feasible space, and the general \"shape\" of the\n",
    "optimal- or near-optimal set of feasible states of a given model."
   ],
   "metadata": {}
  },
  {
   "cell_type": "markdown",
   "source": [
    "For demonstration, we need the usual packages and models:"
   ],
   "metadata": {}
  },
  {
   "outputs": [
    {
     "name": "stdout",
     "output_type": "stream",
     "text": [
      "[ Info: using cached `e_coli_core.json'\n"
     ]
    },
    {
     "output_type": "execute_result",
     "data": {
      "text/plain": "JSONFBCModels.JSONFBCModel(#= 95 reactions, 72 metabolites =#)"
     },
     "metadata": {},
     "execution_count": 1
    }
   ],
   "cell_type": "code",
   "source": [
    "using COBREXA\n",
    "\n",
    "download_model(\n",
    "    \"http://bigg.ucsd.edu/static/models/e_coli_core.json\",\n",
    "    \"e_coli_core.json\",\n",
    "    \"7bedec10576cfe935b19218dc881f3fb14f890a1871448fc19a9b4ee15b448d8\",\n",
    ")\n",
    "\n",
    "import JSONFBCModels, HiGHS\n",
    "\n",
    "model = load_model(\"e_coli_core.json\")"
   ],
   "metadata": {},
   "execution_count": 1
  },
  {
   "cell_type": "markdown",
   "source": [
    "Function `flux_sample` uses linear optimization to generate a set of\n",
    "warm-up points (by default, the method to generate the warm-up is basically\n",
    "FVA), and then runs the hit-and-run flux sampling algorithm on the\n",
    "near-optimal feasible space of the model:"
   ],
   "metadata": {}
  },
  {
   "outputs": [
    {
     "output_type": "execute_result",
     "data": {
      "text/plain": "ConstraintTrees.Tree{Vector{Float64}} with 95 elements:\n  :ACALD                    => [-0.00594548, -0.0119989, -0.0392826, -0.0144121…\n  :ACALDt                   => [-0.00049554, -0.00331169, -0.0302855, -0.004343…\n  :ACKr                     => [-0.0155439, -0.0174799, -0.0164925, -0.0181221,…\n  :ACONTa                   => [6.12076, 6.10049, 6.06183, 6.08767, 5.99358, 6.…\n  :ACONTb                   => [6.12076, 6.10049, 6.06183, 6.08767, 5.99358, 6.…\n  :ACt2r                    => [-0.0155439, -0.0174799, -0.0164925, -0.0181221,…\n  :ADK1                     => [0.0316325, 0.0275603, 0.0262546, 0.029582, 0.02…\n  :AKGDH                    => [4.58989, 4.58772, 4.55099, 4.53441, 4.44668, 4.…\n  :AKGt2r                   => [-0.00120292, -0.00133983, -0.00159662, -0.00134…\n  :ALCD2x                   => [-0.00544994, -0.00868718, -0.00899714, -0.01006…\n  :ATPM                     => [8.42785, 8.42863, 8.42184, 8.42876, 8.42196, 8.…\n  :ATPS4r                   => [45.1465, 45.1626, 45.147, 45.1852, 45.1557, 44.…\n  :BIOMASS_Ecoli_core_w_GAM => [0.865389, 0.86543, 0.865384, 0.865403, 0.86536,…\n  :CO2t                     => [-22.9535, -22.9402, -22.915, -22.9439, -22.8662…\n  :CS                       => [6.12076, 6.10049, 6.06183, 6.08767, 5.99358, 6.…\n  :CYTBD                    => [43.9903, 43.9526, 43.8542, 43.9509, 43.7561, 43…\n  :D_LACt2                  => [-0.0089023, -0.00752304, -0.00748767, -0.007431…\n  :ENO                      => [14.7875, 14.7753, 14.7613, 14.7648, 14.7311, 14…\n  :ETOHt2r                  => [-0.00544994, -0.00868718, -0.00899714, -0.01006…\n  ⋮                         => ⋮"
     },
     "metadata": {},
     "execution_count": 2
    }
   ],
   "cell_type": "code",
   "source": [
    "s = flux_sample(\n",
    "    model,\n",
    "    optimizer = HiGHS.Optimizer,\n",
    "    objective_bound = relative_tolerance_bound(0.99),\n",
    "    n_chains = 2,\n",
    "    collect_iterations = [10],\n",
    ")"
   ],
   "metadata": {},
   "execution_count": 2
  },
  {
   "cell_type": "markdown",
   "source": [
    "The result is a tree of vectors of sampled states for each value; the order\n",
    "of the values in these vectors is fixed. You can thus e.g. create a good\n",
    "matrix for plotting the sample as 2D scatterplot:"
   ],
   "metadata": {}
  },
  {
   "outputs": [
    {
     "output_type": "execute_result",
     "data": {
      "text/plain": "380×2 Matrix{Float64}:\n 21.9952  -22.9535\n 21.9763  -22.9402\n 21.9271  -22.915\n 21.9754  -22.9439\n 21.8781  -22.8662\n 21.9753  -22.9592\n 22.0256  -23.0034\n 21.9746  -22.9418\n 21.9719  -22.9385\n 21.9644  -22.9323\n  ⋮       \n 21.9453  -22.9206\n 22.0038  -22.9813\n 22.0064  -22.9882\n 21.9405  -22.9101\n 21.9301  -22.8999\n 21.9348  -22.8998\n 21.9109  -22.8801\n 21.9283  -22.8873\n 21.9726  -22.9433"
     },
     "metadata": {},
     "execution_count": 3
    }
   ],
   "cell_type": "code",
   "source": [
    "[s.O2t s.CO2t]"
   ],
   "metadata": {},
   "execution_count": 3
  },
  {
   "cell_type": "markdown",
   "source": [
    "---\n",
    "\n",
    "*This notebook was generated using [Literate.jl](https://github.com/fredrikekre/Literate.jl).*"
   ],
   "metadata": {}
  }
 ],
 "nbformat_minor": 3,
 "metadata": {
  "language_info": {
   "file_extension": ".jl",
   "mimetype": "application/julia",
   "name": "julia",
   "version": "1.9.4"
  },
  "kernelspec": {
   "name": "julia-1.9",
   "display_name": "Julia 1.9.4",
   "language": "julia"
  }
 },
 "nbformat": 4
}
