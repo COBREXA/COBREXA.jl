{
 "cells": [
  {
   "cell_type": "markdown",
   "source": [
    "# Flux sampling\n",
    "\n",
    "Flux sampling gives an interesting statistical insight into the behavior of\n",
    "the model in the optimal feasible space, and the general \"shape\" of the\n",
    "optimal- or near-optimal set of feasible states of a given model."
   ],
   "metadata": {}
  },
  {
   "cell_type": "markdown",
   "source": [
    "For demonstration, we need the usual packages and models:"
   ],
   "metadata": {}
  },
  {
   "outputs": [
    {
     "name": "stdout",
     "output_type": "stream",
     "text": [
      "[ Info: using cached `e_coli_core.json'\n"
     ]
    },
    {
     "output_type": "execute_result",
     "data": {
      "text/plain": "JSONFBCModels.JSONFBCModel(#= 95 reactions, 72 metabolites =#)"
     },
     "metadata": {},
     "execution_count": 1
    }
   ],
   "cell_type": "code",
   "source": [
    "using COBREXA\n",
    "\n",
    "download_model(\n",
    "    \"http://bigg.ucsd.edu/static/models/e_coli_core.json\",\n",
    "    \"e_coli_core.json\",\n",
    "    \"7bedec10576cfe935b19218dc881f3fb14f890a1871448fc19a9b4ee15b448d8\",\n",
    ")\n",
    "\n",
    "import JSONFBCModels, GLPK\n",
    "\n",
    "model = load_model(\"e_coli_core.json\")"
   ],
   "metadata": {},
   "execution_count": 1
  },
  {
   "cell_type": "markdown",
   "source": [
    "Function `flux_sample` uses linear optimization to generate a set of\n",
    "warm-up points (by default, the method to generate the warm-up is basically\n",
    "FVA), and then runs the hit-and-run flux sampling algorithm on the\n",
    "near-optimal feasible space of the model:"
   ],
   "metadata": {}
  },
  {
   "outputs": [
    {
     "output_type": "execute_result",
     "data": {
      "text/plain": "ConstraintTrees.Tree{Vector{Float64}} with 95 elements:\n  :ACALD                    => [-0.0334472, -0.0214587, -0.0129438, -0.00752298…\n  :ACALDt                   => [-0.0247384, -0.00725002, -0.0045986, -0.0031398…\n  :ACKr                     => [-0.015948, -0.0171003, -0.0201595, -0.0159817, …\n  :ACONTa                   => [6.08966, 6.1867, 6.04069, 5.63092, 6.17273, 6.0…\n  :ACONTb                   => [6.08966, 6.1867, 6.04069, 5.63092, 6.17273, 6.0…\n  :ACt2r                    => [-0.015948, -0.0171003, -0.0201595, -0.0159817, …\n  :ADK1                     => [0.046302, 0.0639923, 0.0480253, 0.0201132, 0.04…\n  :AKGDH                    => [4.71665, 5.02422, 4.70967, 3.47532, 4.84974, 4.…\n  :AKGt2r                   => [-0.00158593, -0.00199431, -0.00261744, -0.00286…\n  :ALCD2x                   => [-0.00870883, -0.0142087, -0.00834521, -0.004383…\n  :ATPM                     => [8.40524, 8.41448, 8.40327, 8.40724, 8.39318, 8.…\n  :ATPS4r                   => [45.1636, 45.1408, 45.3074, 45.9793, 44.9785, 45…\n  :BIOMASS_Ecoli_core_w_GAM => [0.865965, 0.866191, 0.865995, 0.865729, 0.86593…\n  :CO2t                     => [-22.916, -22.903, -22.9163, -23.0024, -22.9162,…\n  :CS                       => [6.08966, 6.1867, 6.04069, 5.63092, 6.17273, 6.0…\n  :CYTBD                    => [43.841, 43.8198, 43.8657, 44.036, 43.8682, 43.8…\n  :D_LACt2                  => [-0.0070524, -0.00775604, -0.011808, -0.00683731…\n  :ENO                      => [14.7855, 14.8783, 14.7271, 14.298, 14.8607, 14.…\n  :ETOHt2r                  => [-0.00870883, -0.0142087, -0.00834521, -0.004383…\n  ⋮                         => ⋮"
     },
     "metadata": {},
     "execution_count": 2
    }
   ],
   "cell_type": "code",
   "source": [
    "s = flux_sample(\n",
    "    model,\n",
    "    optimizer = GLPK.Optimizer,\n",
    "    objective_bound = relative_tolerance_bound(0.99),\n",
    "    n_chains = 2,\n",
    "    collect_iterations = [10],\n",
    ")"
   ],
   "metadata": {},
   "execution_count": 2
  },
  {
   "cell_type": "markdown",
   "source": [
    "The result is a tree of vectors of sampled states for each value; the order\n",
    "of the values in these vectors is fixed. You can thus e.g. create a good\n",
    "matrix for plotting the sample as 2D scatterplot:"
   ],
   "metadata": {}
  },
  {
   "outputs": [
    {
     "output_type": "execute_result",
     "data": {
      "text/plain": "380×2 Matrix{Float64}:\n 21.9205  -22.916\n 21.9099  -22.903\n 21.9328  -22.9163\n 22.018   -23.0024\n 21.9341  -22.9162\n 21.9149  -22.8956\n 21.9963  -22.9841\n 21.9148  -22.8931\n 21.9363  -22.9239\n 21.9498  -22.9312\n  ⋮       \n 21.9787  -22.9555\n 21.9158  -22.8826\n 21.9086  -22.8804\n 21.8836  -22.8761\n 21.9413  -22.9182\n 21.9217  -22.8947\n 21.9314  -22.8986\n 21.8526  -22.812\n 21.9226  -22.8956"
     },
     "metadata": {},
     "execution_count": 3
    }
   ],
   "cell_type": "code",
   "source": [
    "[s.O2t s.CO2t]"
   ],
   "metadata": {},
   "execution_count": 3
  },
  {
   "cell_type": "markdown",
   "source": [
    "---\n",
    "\n",
    "*This notebook was generated using [Literate.jl](https://github.com/fredrikekre/Literate.jl).*"
   ],
   "metadata": {}
  }
 ],
 "nbformat_minor": 3,
 "metadata": {
  "language_info": {
   "file_extension": ".jl",
   "mimetype": "application/julia",
   "name": "julia",
   "version": "1.9.4"
  },
  "kernelspec": {
   "name": "julia-1.9",
   "display_name": "Julia 1.9.4",
   "language": "julia"
  }
 },
 "nbformat": 4
}
