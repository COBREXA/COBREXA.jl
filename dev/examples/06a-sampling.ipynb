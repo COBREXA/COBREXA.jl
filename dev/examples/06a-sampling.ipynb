{
 "cells": [
  {
   "cell_type": "markdown",
   "source": [
    "# Flux sampling\n",
    "\n",
    "Flux sampling gives an interesting statistical insight into the behavior of\n",
    "the model in the optimal feasible space, and the general \"shape\" of the\n",
    "optimal- or near-optimal set of feasible states of a given model."
   ],
   "metadata": {}
  },
  {
   "cell_type": "markdown",
   "source": [
    "For demonstration, we need the usual packages and models:"
   ],
   "metadata": {}
  },
  {
   "outputs": [
    {
     "name": "stdout",
     "output_type": "stream",
     "text": [
      "[ Info: using cached `e_coli_core.json'\n"
     ]
    },
    {
     "output_type": "execute_result",
     "data": {
      "text/plain": "JSONFBCModels.JSONFBCModel(#= 95 reactions, 72 metabolites =#)"
     },
     "metadata": {},
     "execution_count": 1
    }
   ],
   "cell_type": "code",
   "source": [
    "using COBREXA\n",
    "\n",
    "download_model(\n",
    "    \"http://bigg.ucsd.edu/static/models/e_coli_core.json\",\n",
    "    \"e_coli_core.json\",\n",
    "    \"7bedec10576cfe935b19218dc881f3fb14f890a1871448fc19a9b4ee15b448d8\",\n",
    ")\n",
    "\n",
    "import JSONFBCModels, HiGHS\n",
    "\n",
    "model = load_model(\"e_coli_core.json\")"
   ],
   "metadata": {},
   "execution_count": 1
  },
  {
   "cell_type": "markdown",
   "source": [
    "Function `flux_sample` uses linear optimization to generate a set of\n",
    "warm-up points (by default, the method to generate the warm-up is basically\n",
    "FVA), and then runs the hit-and-run flux sampling algorithm on the\n",
    "near-optimal feasible space of the model:"
   ],
   "metadata": {}
  },
  {
   "outputs": [
    {
     "output_type": "execute_result",
     "data": {
      "text/plain": "ConstraintTrees.Tree{Vector{Float64}} with 95 elements:\n  :ACALD                    => [-0.0501456, -0.0158335, -0.0159666, -0.0161518,…\n  :ACALDt                   => [-0.0459249, -0.00378625, -0.00425241, -0.003386…\n  :ACKr                     => [-0.0112345, -0.0144735, -0.00393023, -0.0218478…\n  :ACONTa                   => [6.05641, 6.22993, 6.06858, 6.14108, 6.05527, 6.…\n  :ACONTb                   => [6.05641, 6.22993, 6.06858, 6.14108, 6.05527, 6.…\n  :ACt2r                    => [-0.0112345, -0.0144735, -0.00393023, -0.0218478…\n  :ADK1                     => [0.0238732, 0.0536571, 0.0308342, 0.0354903, 0.0…\n  :AKGDH                    => [4.5058, 4.86, 4.51394, 4.72431, 4.68824, 4.9414…\n  :AKGt2r                   => [-0.000281396, -0.0032711, -0.00064286, -0.00298…\n  :ALCD2x                   => [-0.0042207, -0.0120472, -0.0117141, -0.0127648,…\n  :ATPM                     => [8.4271, 8.40775, 8.42539, 8.43879, 8.46662, 8.4…\n  :ATPS4r                   => [45.1117, 44.8993, 45.2205, 45.0432, 45.1384, 44…\n  :BIOMASS_Ecoli_core_w_GAM => [0.865289, 0.865677, 0.865357, 0.865497, 0.86574…\n  :CO2t                     => [-22.925, -22.9774, -22.9923, -22.9138, -22.7815…\n  :CS                       => [6.05641, 6.22993, 6.06858, 6.14108, 6.05527, 6.…\n  :CYTBD                    => [43.8567, 43.981, 44.0301, 43.8853, 43.6173, 43.…\n  :D_LACt2                  => [-0.00810236, -0.010526, -0.00831355, -0.0100052…\n  :ENO                      => [14.7585, 14.9054, 14.731, 14.8284, 14.7937, 14.…\n  :ETOHt2r                  => [-0.0042207, -0.0120472, -0.0117141, -0.0127648,…\n  ⋮                         => ⋮"
     },
     "metadata": {},
     "execution_count": 2
    }
   ],
   "cell_type": "code",
   "source": [
    "s = flux_sample(\n",
    "    model,\n",
    "    optimizer = HiGHS.Optimizer,\n",
    "    objective_bound = relative_tolerance_bound(0.99),\n",
    "    n_chains = 2,\n",
    "    collect_iterations = [10],\n",
    ")"
   ],
   "metadata": {},
   "execution_count": 2
  },
  {
   "cell_type": "markdown",
   "source": [
    "The result is a tree of vectors of sampled states for each value; the order\n",
    "of the values in these vectors is fixed. You can thus e.g. create a good\n",
    "matrix for plotting the sample as 2D scatterplot:"
   ],
   "metadata": {}
  },
  {
   "outputs": [
    {
     "output_type": "execute_result",
     "data": {
      "text/plain": "380×2 Matrix{Float64}:\n 21.9284  -22.925\n 21.9905  -22.9774\n 22.015   -22.9923\n 21.9426  -22.9138\n 21.8087  -22.7815\n 21.921   -22.8881\n 21.946   -22.9173\n 21.9637  -22.936\n 21.9572  -22.9317\n 21.9366  -22.9056\n  ⋮       \n 21.9521  -22.9264\n 21.9806  -22.9534\n 21.9782  -22.9626\n 21.9347  -22.9077\n 21.964   -22.9342\n 22.0783  -23.0673\n 21.9781  -22.9583\n 21.9715  -22.9529\n 21.9023  -22.8657"
     },
     "metadata": {},
     "execution_count": 3
    }
   ],
   "cell_type": "code",
   "source": [
    "[s.O2t s.CO2t]"
   ],
   "metadata": {},
   "execution_count": 3
  },
  {
   "cell_type": "markdown",
   "source": [
    "---\n",
    "\n",
    "*This notebook was generated using [Literate.jl](https://github.com/fredrikekre/Literate.jl).*"
   ],
   "metadata": {}
  }
 ],
 "nbformat_minor": 3,
 "metadata": {
  "language_info": {
   "file_extension": ".jl",
   "mimetype": "application/julia",
   "name": "julia",
   "version": "1.11.3"
  },
  "kernelspec": {
   "name": "julia-1.11",
   "display_name": "Julia 1.11.3",
   "language": "julia"
  }
 },
 "nbformat": 4
}
