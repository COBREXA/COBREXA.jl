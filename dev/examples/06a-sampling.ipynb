{
 "cells": [
  {
   "cell_type": "markdown",
   "source": [
    "# Flux sampling\n",
    "\n",
    "Flux sampling gives an interesting statistical insight into the behavior of\n",
    "the model in the optimal feasible space, and the general \"shape\" of the\n",
    "optimal- or near-optimal set of feasible states of a given model."
   ],
   "metadata": {}
  },
  {
   "cell_type": "markdown",
   "source": [
    "For demonstration, we need the usual packages and models:"
   ],
   "metadata": {}
  },
  {
   "outputs": [
    {
     "name": "stdout",
     "output_type": "stream",
     "text": [
      "[ Info: using cached `e_coli_core.json'\n"
     ]
    },
    {
     "output_type": "execute_result",
     "data": {
      "text/plain": "JSONFBCModels.JSONFBCModel(#= 95 reactions, 72 metabolites =#)"
     },
     "metadata": {},
     "execution_count": 1
    }
   ],
   "cell_type": "code",
   "source": [
    "using COBREXA\n",
    "\n",
    "download_model(\n",
    "    \"http://bigg.ucsd.edu/static/models/e_coli_core.json\",\n",
    "    \"e_coli_core.json\",\n",
    "    \"7bedec10576cfe935b19218dc881f3fb14f890a1871448fc19a9b4ee15b448d8\",\n",
    ")\n",
    "\n",
    "import JSONFBCModels, HiGHS\n",
    "\n",
    "model = load_model(\"e_coli_core.json\")"
   ],
   "metadata": {},
   "execution_count": 1
  },
  {
   "cell_type": "markdown",
   "source": [
    "Function `flux_sample` uses linear optimization to generate a set of\n",
    "warm-up points (by default, the method to generate the warm-up is basically\n",
    "FVA), and then runs the hit-and-run flux sampling algorithm on the\n",
    "near-optimal feasible space of the model:"
   ],
   "metadata": {}
  },
  {
   "outputs": [
    {
     "output_type": "execute_result",
     "data": {
      "text/plain": "ConstraintTrees.Tree{Vector{Float64}} with 95 elements:\n  :ACALD                    => [-0.057386, -0.0136585, -0.0152153, -0.0179445, …\n  :ACALDt                   => [-0.0496365, -0.00620347, -0.00566494, -0.007944…\n  :ACKr                     => [-0.0187988, -0.0174723, -0.0234325, -0.0249506,…\n  :ACONTa                   => [6.04569, 5.87477, 6.07802, 6.1733, 6.11036, 5.5…\n  :ACONTb                   => [6.04569, 5.87477, 6.07802, 6.1733, 6.11036, 5.5…\n  :ACt2r                    => [-0.0187988, -0.0174723, -0.0234325, -0.0249506,…\n  :ADK1                     => [0.0378168, 0.0428649, 0.0497243, 0.0518226, 0.0…\n  :AKGDH                    => [4.54913, 4.00348, 4.47824, 4.71473, 4.68963, 3.…\n  :AKGt2r                   => [-0.000786621, -0.000768859, -0.000943973, -0.00…\n  :ALCD2x                   => [-0.00774951, -0.00745498, -0.00955033, -0.00999…\n  :ATPM                     => [8.42597, 8.42464, 8.43543, 8.4349, 8.41525, 8.4…\n  :ATPS4r                   => [45.1417, 45.5496, 45.1878, 45.02, 45.0514, 46.0…\n  :BIOMASS_Ecoli_core_w_GAM => [0.865382, 0.865359, 0.865399, 0.865435, 0.86537…\n  :CO2t                     => [-22.9003, -22.9834, -22.9449, -22.928, -22.8696…\n  :CS                       => [6.04569, 5.87477, 6.07802, 6.1733, 6.11036, 5.5…\n  :CYTBD                    => [43.7912, 44.0017, 43.9317, 43.8965, 43.7939, 43…\n  :D_LACt2                  => [-0.00837213, -0.00976501, -0.0115001, -0.012457…\n  :ENO                      => [14.7635, 14.55, 14.7642, 14.8656, 14.8293, 14.2…\n  :ETOHt2r                  => [-0.00774951, -0.00745498, -0.00955033, -0.00999…\n  ⋮                         => ⋮"
     },
     "metadata": {},
     "execution_count": 2
    }
   ],
   "cell_type": "code",
   "source": [
    "s = flux_sample(\n",
    "    model,\n",
    "    optimizer = HiGHS.Optimizer,\n",
    "    objective_bound = relative_tolerance_bound(0.99),\n",
    "    n_chains = 2,\n",
    "    collect_iterations = [10],\n",
    ")"
   ],
   "metadata": {},
   "execution_count": 2
  },
  {
   "cell_type": "markdown",
   "source": [
    "The result is a tree of vectors of sampled states for each value; the order\n",
    "of the values in these vectors is fixed. You can thus e.g. create a good\n",
    "matrix for plotting the sample as 2D scatterplot:"
   ],
   "metadata": {}
  },
  {
   "outputs": [
    {
     "output_type": "execute_result",
     "data": {
      "text/plain": "380×2 Matrix{Float64}:\n 21.8956  -22.9003\n 22.0008  -22.9834\n 21.9658  -22.9449\n 21.9483  -22.928\n 21.8969  -22.8696\n 21.9776  -22.9609\n 21.9764  -22.9637\n 21.8906  -22.8562\n 21.9352  -22.9075\n 21.8932  -22.8748\n  ⋮       \n 21.9406  -22.9075\n 21.9154  -22.8886\n 21.9484  -22.916\n 21.948   -22.9152\n 21.9944  -22.972\n 21.946   -22.9116\n 21.911   -22.8718\n 21.9873  -22.9583\n 21.9669  -22.94"
     },
     "metadata": {},
     "execution_count": 3
    }
   ],
   "cell_type": "code",
   "source": [
    "[s.O2t s.CO2t]"
   ],
   "metadata": {},
   "execution_count": 3
  },
  {
   "cell_type": "markdown",
   "source": [
    "---\n",
    "\n",
    "*This notebook was generated using [Literate.jl](https://github.com/fredrikekre/Literate.jl).*"
   ],
   "metadata": {}
  }
 ],
 "nbformat_minor": 3,
 "metadata": {
  "language_info": {
   "file_extension": ".jl",
   "mimetype": "application/julia",
   "name": "julia",
   "version": "1.11.2"
  },
  "kernelspec": {
   "name": "julia-1.11",
   "display_name": "Julia 1.11.2",
   "language": "julia"
  }
 },
 "nbformat": 4
}
