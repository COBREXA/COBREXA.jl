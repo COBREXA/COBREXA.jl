{
 "cells": [
  {
   "cell_type": "markdown",
   "source": [
    "# Flux sampling\n",
    "\n",
    "Flux sampling gives an interesting statistical insight into the behavior of\n",
    "the model in the optimal feasible space, and the general \"shape\" of the\n",
    "optimal- or near-optimal set of feasible states of a given model."
   ],
   "metadata": {}
  },
  {
   "cell_type": "markdown",
   "source": [
    "For demonstration, we need the usual packages and models:"
   ],
   "metadata": {}
  },
  {
   "outputs": [
    {
     "name": "stdout",
     "output_type": "stream",
     "text": [
      "[ Info: using cached `e_coli_core.json'\n"
     ]
    },
    {
     "output_type": "execute_result",
     "data": {
      "text/plain": "JSONFBCModels.JSONFBCModel(#= 95 reactions, 72 metabolites =#)"
     },
     "metadata": {},
     "execution_count": 1
    }
   ],
   "cell_type": "code",
   "source": [
    "using COBREXA\n",
    "\n",
    "download_model(\n",
    "    \"http://bigg.ucsd.edu/static/models/e_coli_core.json\",\n",
    "    \"e_coli_core.json\",\n",
    "    \"7bedec10576cfe935b19218dc881f3fb14f890a1871448fc19a9b4ee15b448d8\",\n",
    ")\n",
    "\n",
    "import JSONFBCModels, HiGHS\n",
    "\n",
    "model = load_model(\"e_coli_core.json\")"
   ],
   "metadata": {},
   "execution_count": 1
  },
  {
   "cell_type": "markdown",
   "source": [
    "Function `flux_sample` uses linear optimization to generate a set of\n",
    "warm-up points (by default, the method to generate the warm-up is basically\n",
    "FVA), and then runs the hit-and-run flux sampling algorithm on the\n",
    "near-optimal feasible space of the model:"
   ],
   "metadata": {}
  },
  {
   "outputs": [
    {
     "output_type": "execute_result",
     "data": {
      "text/plain": "ConstraintTrees.Tree{Vector{Float64}} with 95 elements:\n  :ACALD                    => [-0.0163883, -0.0164408, -0.0123903, -0.0176618,…\n  :ACALDt                   => [-0.00527678, -0.00538524, -0.000744539, -0.0041…\n  :ACKr                     => [-0.019355, -0.0274383, -0.018115, -0.0110171, -…\n  :ACONTa                   => [6.05056, 5.78704, 6.0388, 5.96789, 6.01847, 6.0…\n  :ACONTb                   => [6.05056, 5.78704, 6.0388, 5.96789, 6.01847, 6.0…\n  :ACt2r                    => [-0.019355, -0.0274383, -0.018115, -0.0110171, -…\n  :ADK1                     => [0.0289831, 0.0224887, 0.0300314, 0.0351591, 0.0…\n  :AKGDH                    => [4.51305, 3.94732, 4.47721, 4.33692, 4.45342, 4.…\n  :AKGt2r                   => [-0.00288262, -0.00408142, -0.0031302, -0.002867…\n  :ALCD2x                   => [-0.0111115, -0.0110555, -0.0116457, -0.01348, -…\n  :ATPM                     => [8.42875, 8.42803, 8.42856, 8.43007, 8.426, 8.41…\n  :ATPS4r                   => [45.2251, 45.6955, 45.2625, 45.417, 45.2984, 45.…\n  :BIOMASS_Ecoli_core_w_GAM => [0.865464, 0.865383, 0.865485, 0.865551, 0.86552…\n  :CO2t                     => [-22.9147, -22.9226, -22.9179, -22.9135, -22.914…\n  :CS                       => [6.05056, 5.78704, 6.0388, 5.96789, 6.01847, 6.0…\n  :CYTBD                    => [43.8891, 43.885, 43.8998, 43.8777, 43.8866, 43.…\n  :D_LACt2                  => [-0.00888982, -0.0062473, -0.00929806, -0.009569…\n  :ENO                      => [14.7374, 14.4778, 14.7222, 14.6533, 14.7033, 14…\n  :ETOHt2r                  => [-0.0111115, -0.0110555, -0.0116457, -0.01348, -…\n  ⋮                         => ⋮"
     },
     "metadata": {},
     "execution_count": 2
    }
   ],
   "cell_type": "code",
   "source": [
    "s = flux_sample(\n",
    "    model,\n",
    "    optimizer = HiGHS.Optimizer,\n",
    "    objective_bound = relative_tolerance_bound(0.99),\n",
    "    n_chains = 2,\n",
    "    collect_iterations = [10],\n",
    ")"
   ],
   "metadata": {},
   "execution_count": 2
  },
  {
   "cell_type": "markdown",
   "source": [
    "The result is a tree of vectors of sampled states for each value; the order\n",
    "of the values in these vectors is fixed. You can thus e.g. create a good\n",
    "matrix for plotting the sample as 2D scatterplot:"
   ],
   "metadata": {}
  },
  {
   "outputs": [
    {
     "output_type": "execute_result",
     "data": {
      "text/plain": "380×2 Matrix{Float64}:\n 21.9446  -22.9147\n 21.9425  -22.9226\n 21.9499  -22.9179\n 21.9389  -22.9135\n 21.9433  -22.9143\n 21.9483  -22.9372\n 21.9426  -22.9188\n 21.9577  -22.9231\n 21.8761  -22.8471\n 21.9052  -22.8715\n  ⋮       \n 21.9786  -22.9477\n 21.9329  -22.8968\n 21.9685  -22.9392\n 21.9581  -22.9274\n 21.959   -22.9201\n 21.9485  -22.9166\n 21.9595  -22.9296\n 21.9492  -22.9204\n 21.944   -22.9127"
     },
     "metadata": {},
     "execution_count": 3
    }
   ],
   "cell_type": "code",
   "source": [
    "[s.O2t s.CO2t]"
   ],
   "metadata": {},
   "execution_count": 3
  },
  {
   "cell_type": "markdown",
   "source": [
    "---\n",
    "\n",
    "*This notebook was generated using [Literate.jl](https://github.com/fredrikekre/Literate.jl).*"
   ],
   "metadata": {}
  }
 ],
 "nbformat_minor": 3,
 "metadata": {
  "language_info": {
   "file_extension": ".jl",
   "mimetype": "application/julia",
   "name": "julia",
   "version": "1.11.3"
  },
  "kernelspec": {
   "name": "julia-1.11",
   "display_name": "Julia 1.11.3",
   "language": "julia"
  }
 },
 "nbformat": 4
}
