{
 "cells": [
  {
   "cell_type": "markdown",
   "source": [
    "# Flux sampling\n",
    "\n",
    "Flux sampling gives an interesting statistical insight into the behavior of\n",
    "the model in the optimal feasible space, and the general \"shape\" of the\n",
    "optimal- or near-optimal set of feasible states of a given model."
   ],
   "metadata": {}
  },
  {
   "cell_type": "markdown",
   "source": [
    "For demonstration, we need the usual packages and models:"
   ],
   "metadata": {}
  },
  {
   "outputs": [
    {
     "name": "stdout",
     "output_type": "stream",
     "text": [
      "[ Info: using cached `e_coli_core.json'\n"
     ]
    },
    {
     "output_type": "execute_result",
     "data": {
      "text/plain": "JSONFBCModels.JSONFBCModel(#= 95 reactions, 72 metabolites =#)"
     },
     "metadata": {},
     "execution_count": 1
    }
   ],
   "cell_type": "code",
   "source": [
    "using COBREXA\n",
    "\n",
    "download_model(\n",
    "    \"http://bigg.ucsd.edu/static/models/e_coli_core.json\",\n",
    "    \"e_coli_core.json\",\n",
    "    \"7bedec10576cfe935b19218dc881f3fb14f890a1871448fc19a9b4ee15b448d8\",\n",
    ")\n",
    "\n",
    "import JSONFBCModels, HiGHS\n",
    "\n",
    "model = load_model(\"e_coli_core.json\")"
   ],
   "metadata": {},
   "execution_count": 1
  },
  {
   "cell_type": "markdown",
   "source": [
    "Function `flux_sample` uses linear optimization to generate a set of\n",
    "warm-up points (by default, the method to generate the warm-up is basically\n",
    "FVA), and then runs the hit-and-run flux sampling algorithm on the\n",
    "near-optimal feasible space of the model:"
   ],
   "metadata": {}
  },
  {
   "outputs": [
    {
     "output_type": "execute_result",
     "data": {
      "text/plain": "ConstraintTrees.Tree{Vector{Float64}} with 95 elements:\n  :ACALD                    => [-0.013845, -0.0201282, -0.0148061, -0.0140683, …\n  :ACALDt                   => [-0.0044649, -0.00557367, -0.00502966, -0.004618…\n  :ACKr                     => [-0.0175995, -0.0229862, -0.0175385, -0.0190459,…\n  :ACONTa                   => [6.04771, 6.21131, 6.06026, 6.34043, 5.99623, 6.…\n  :ACONTb                   => [6.04771, 6.21131, 6.06026, 6.34043, 5.99623, 6.…\n  :ACt2r                    => [-0.0175995, -0.0229862, -0.0175385, -0.0190459,…\n  :ADK1                     => [0.0326872, 0.0549079, 0.0324815, 0.0301667, 0.0…\n  :AKGDH                    => [4.44971, 4.90281, 4.43046, 4.97497, 4.34716, 4.…\n  :AKGt2r                   => [-0.00224174, -0.00347819, -0.0022994, -0.002313…\n  :ALCD2x                   => [-0.00938006, -0.0145545, -0.00977641, -0.009449…\n  :ATPM                     => [8.43277, 8.41821, 8.43424, 8.46422, 8.42423, 8.…\n  :ATPS4r                   => [45.2478, 44.9015, 45.223, 44.7916, 45.3877, 45.…\n  :BIOMASS_Ecoli_core_w_GAM => [0.865445, 0.865617, 0.865426, 0.865335, 0.86549…\n  :CO2t                     => [-22.9477, -22.8817, -22.9471, -22.9221, -22.961…\n  :CS                       => [6.04771, 6.21131, 6.06026, 6.34043, 5.99623, 6.…\n  :CYTBD                    => [43.946, 43.8182, 43.9427, 43.9068, 43.9732, 43.…\n  :D_LACt2                  => [-0.00924327, -0.0102943, -0.00943644, -0.011783…\n  :ENO                      => [14.7255, 14.9063, 14.7388, 15.0235, 14.6631, 14…\n  :ETOHt2r                  => [-0.00938006, -0.0145545, -0.00977641, -0.009449…\n  ⋮                         => ⋮"
     },
     "metadata": {},
     "execution_count": 2
    }
   ],
   "cell_type": "code",
   "source": [
    "s = flux_sample(\n",
    "    model,\n",
    "    optimizer = HiGHS.Optimizer,\n",
    "    objective_bound = relative_tolerance_bound(0.99),\n",
    "    n_chains = 2,\n",
    "    collect_iterations = [10],\n",
    ")"
   ],
   "metadata": {},
   "execution_count": 2
  },
  {
   "cell_type": "markdown",
   "source": [
    "The result is a tree of vectors of sampled states for each value; the order\n",
    "of the values in these vectors is fixed. You can thus e.g. create a good\n",
    "matrix for plotting the sample as 2D scatterplot:"
   ],
   "metadata": {}
  },
  {
   "outputs": [
    {
     "output_type": "execute_result",
     "data": {
      "text/plain": "380×2 Matrix{Float64}:\n 21.973   -22.9477\n 21.9091  -22.8817\n 21.9714  -22.9471\n 21.9534  -22.9221\n 21.9866  -22.9612\n 21.9798  -22.9502\n 21.9747  -22.9438\n 22.0277  -23.0108\n 21.9452  -22.9184\n 21.9587  -22.9247\n  ⋮       \n 21.9543  -22.9294\n 21.8831  -22.86\n 21.9516  -22.9309\n 21.9617  -22.9498\n 21.9138  -22.8993\n 21.9402  -22.9173\n 21.9452  -22.9267\n 21.9932  -22.9725\n 21.9111  -22.8977"
     },
     "metadata": {},
     "execution_count": 3
    }
   ],
   "cell_type": "code",
   "source": [
    "[s.O2t s.CO2t]"
   ],
   "metadata": {},
   "execution_count": 3
  },
  {
   "cell_type": "markdown",
   "source": [
    "---\n",
    "\n",
    "*This notebook was generated using [Literate.jl](https://github.com/fredrikekre/Literate.jl).*"
   ],
   "metadata": {}
  }
 ],
 "nbformat_minor": 3,
 "metadata": {
  "language_info": {
   "file_extension": ".jl",
   "mimetype": "application/julia",
   "name": "julia",
   "version": "1.11.3"
  },
  "kernelspec": {
   "name": "julia-1.11",
   "display_name": "Julia 1.11.3",
   "language": "julia"
  }
 },
 "nbformat": 4
}
