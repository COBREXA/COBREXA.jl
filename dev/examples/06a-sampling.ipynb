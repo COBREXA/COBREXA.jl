{
 "cells": [
  {
   "cell_type": "markdown",
   "source": [
    "# Flux sampling\n",
    "\n",
    "Flux sampling gives an interesting statistical insight into the behavior of\n",
    "the model in the optimal feasible space, and the general \"shape\" of the\n",
    "optimal- or near-optimal set of feasible states of a given model."
   ],
   "metadata": {}
  },
  {
   "cell_type": "markdown",
   "source": [
    "For demonstration, we need the usual packages and models:"
   ],
   "metadata": {}
  },
  {
   "outputs": [
    {
     "name": "stdout",
     "output_type": "stream",
     "text": [
      "[ Info: using cached `e_coli_core.json'\n"
     ]
    },
    {
     "output_type": "execute_result",
     "data": {
      "text/plain": "JSONFBCModels.JSONFBCModel(#= 95 reactions, 72 metabolites =#)"
     },
     "metadata": {},
     "execution_count": 1
    }
   ],
   "cell_type": "code",
   "source": [
    "using COBREXA\n",
    "\n",
    "download_model(\n",
    "    \"http://bigg.ucsd.edu/static/models/e_coli_core.json\",\n",
    "    \"e_coli_core.json\",\n",
    "    \"7bedec10576cfe935b19218dc881f3fb14f890a1871448fc19a9b4ee15b448d8\",\n",
    ")\n",
    "\n",
    "import JSONFBCModels, HiGHS\n",
    "\n",
    "model = load_model(\"e_coli_core.json\")"
   ],
   "metadata": {},
   "execution_count": 1
  },
  {
   "cell_type": "markdown",
   "source": [
    "Function `flux_sample` uses linear optimization to generate a set of\n",
    "warm-up points (by default, the method to generate the warm-up is basically\n",
    "FVA), and then runs the hit-and-run flux sampling algorithm on the\n",
    "near-optimal feasible space of the model:"
   ],
   "metadata": {}
  },
  {
   "outputs": [
    {
     "output_type": "execute_result",
     "data": {
      "text/plain": "ConstraintTrees.Tree{Vector{Float64}} with 95 elements:\n  :ACALD                    => [-0.0112127, -0.0146215, -0.00686217, -0.0105243…\n  :ACALDt                   => [-0.00311003, -0.00617465, -0.00424541, -0.00357…\n  :ACKr                     => [-0.0217624, -0.00828679, -0.0121603, -0.0075605…\n  :ACONTa                   => [6.03889, 5.75094, 5.98674, 6.04745, 6.02063, 6.…\n  :ACONTb                   => [6.03889, 5.75094, 5.98674, 6.04745, 6.02063, 6.…\n  :ACt2r                    => [-0.0217624, -0.00828679, -0.0121603, -0.0075605…\n  :ADK1                     => [0.0467844, 0.0398069, 0.0563822, 0.030157, 0.04…\n  :AKGDH                    => [4.4156, 3.82595, 4.21677, 4.53407, 4.48093, 4.5…\n  :AKGt2r                   => [-0.00170097, -0.00274329, -0.00145139, -0.00202…\n  :ALCD2x                   => [-0.00810264, -0.00844685, -0.00261676, -0.00694…\n  :ATPM                     => [8.43525, 8.42696, 8.43676, 8.41377, 8.43283, 8.…\n  :ATPS4r                   => [45.2515, 45.8351, 45.4165, 45.2839, 45.2905, 45…\n  :BIOMASS_Ecoli_core_w_GAM => [0.865429, 0.865359, 0.865286, 0.865279, 0.86540…\n  :CO2t                     => [-22.932, -22.9485, -22.9882, -22.9446, -22.9059…\n  :CS                       => [6.03889, 5.75094, 5.98674, 6.04745, 6.02063, 6.…\n  :CYTBD                    => [43.9262, 43.9601, 44.0154, 43.9587, 43.8763, 43…\n  :D_LACt2                  => [-0.0108018, -0.0113617, -0.0120542, -0.00760528…\n  :ENO                      => [14.7206, 14.4259, 14.6553, 14.7137, 14.7126, 14…\n  :ETOHt2r                  => [-0.00810264, -0.00844685, -0.00261676, -0.00694…\n  ⋮                         => ⋮"
     },
     "metadata": {},
     "execution_count": 2
    }
   ],
   "cell_type": "code",
   "source": [
    "s = flux_sample(\n",
    "    model,\n",
    "    optimizer = HiGHS.Optimizer,\n",
    "    objective_bound = relative_tolerance_bound(0.99),\n",
    "    n_chains = 2,\n",
    "    collect_iterations = [10],\n",
    ")"
   ],
   "metadata": {},
   "execution_count": 2
  },
  {
   "cell_type": "markdown",
   "source": [
    "The result is a tree of vectors of sampled states for each value; the order\n",
    "of the values in these vectors is fixed. You can thus e.g. create a good\n",
    "matrix for plotting the sample as 2D scatterplot:"
   ],
   "metadata": {}
  },
  {
   "outputs": [
    {
     "output_type": "execute_result",
     "data": {
      "text/plain": "380×2 Matrix{Float64}:\n 21.9631  -22.932\n 21.98    -22.9485\n 22.0077  -22.9882\n 21.9794  -22.9446\n 21.9382  -22.9059\n 21.9583  -22.9253\n 21.9518  -22.9176\n 21.9596  -22.9268\n 21.9141  -22.8754\n 21.9501  -22.9159\n  ⋮       \n 21.9315  -22.8905\n 21.948   -22.9243\n 21.9704  -22.947\n 21.9267  -22.8985\n 21.9381  -22.9073\n 21.9628  -22.9378\n 22.0034  -22.9802\n 21.9733  -22.9473\n 21.9422  -22.9144"
     },
     "metadata": {},
     "execution_count": 3
    }
   ],
   "cell_type": "code",
   "source": [
    "[s.O2t s.CO2t]"
   ],
   "metadata": {},
   "execution_count": 3
  },
  {
   "cell_type": "markdown",
   "source": [
    "---\n",
    "\n",
    "*This notebook was generated using [Literate.jl](https://github.com/fredrikekre/Literate.jl).*"
   ],
   "metadata": {}
  }
 ],
 "nbformat_minor": 3,
 "metadata": {
  "language_info": {
   "file_extension": ".jl",
   "mimetype": "application/julia",
   "name": "julia",
   "version": "1.9.4"
  },
  "kernelspec": {
   "name": "julia-1.9",
   "display_name": "Julia 1.9.4",
   "language": "julia"
  }
 },
 "nbformat": 4
}
