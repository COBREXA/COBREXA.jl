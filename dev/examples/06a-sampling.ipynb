{
 "cells": [
  {
   "cell_type": "markdown",
   "source": [
    "# Flux sampling\n",
    "\n",
    "Flux sampling gives an interesting statistical insight into the behavior of\n",
    "the model in the optimal feasible space, and the general \"shape\" of the\n",
    "optimal- or near-optimal set of feasible states of a given model."
   ],
   "metadata": {}
  },
  {
   "cell_type": "markdown",
   "source": [
    "For demonstration, we need the usual packages and models:"
   ],
   "metadata": {}
  },
  {
   "outputs": [
    {
     "name": "stdout",
     "output_type": "stream",
     "text": [
      "[ Info: using cached `e_coli_core.json'\n"
     ]
    },
    {
     "output_type": "execute_result",
     "data": {
      "text/plain": "JSONFBCModels.JSONFBCModel(#= 95 reactions, 72 metabolites =#)"
     },
     "metadata": {},
     "execution_count": 1
    }
   ],
   "cell_type": "code",
   "source": [
    "using COBREXA\n",
    "\n",
    "download_model(\n",
    "    \"http://bigg.ucsd.edu/static/models/e_coli_core.json\",\n",
    "    \"e_coli_core.json\",\n",
    "    \"7bedec10576cfe935b19218dc881f3fb14f890a1871448fc19a9b4ee15b448d8\",\n",
    ")\n",
    "\n",
    "import JSONFBCModels, GLPK\n",
    "\n",
    "model = load_model(\"e_coli_core.json\")"
   ],
   "metadata": {},
   "execution_count": 1
  },
  {
   "cell_type": "markdown",
   "source": [
    "Function `flux_sample` uses linear optimization to generate a set of\n",
    "warm-up points (by default, the method to generate the warm-up is basically\n",
    "FVA), and then runs the hit-and-run flux sampling algorithm on the\n",
    "near-optimal feasible space of the model:"
   ],
   "metadata": {}
  },
  {
   "outputs": [
    {
     "output_type": "execute_result",
     "data": {
      "text/plain": "ConstraintTrees.Tree{Vector{Float64}} with 95 elements:\n  :ACALD                    => [-0.0127403, -0.0159512, -0.0160363, -0.0144467,…\n  :ACALDt                   => [-0.00510057, -0.00519143, -0.00576301, -0.00665…\n  :ACKr                     => [-0.0220629, -0.0253101, -0.0224015, -0.0212156,…\n  :ACONTa                   => [6.04055, 6.16405, 6.07053, 6.01811, 6.05179, 6.…\n  :ACONTb                   => [6.04055, 6.16405, 6.07053, 6.01811, 6.05179, 6.…\n  :ACt2r                    => [-0.0220629, -0.0253101, -0.0224015, -0.0212156,…\n  :ADK1                     => [0.0329384, 0.0282713, 0.0240296, 0.0247835, 0.0…\n  :AKGDH                    => [4.64744, 4.88737, 4.61741, 4.93038, 4.67113, 4.…\n  :AKGt2r                   => [-0.00327158, -0.00325713, -0.00256902, -0.00631…\n  :ALCD2x                   => [-0.00763974, -0.0107598, -0.0102733, -0.0077944…\n  :ATPM                     => [8.4, 8.39992, 8.3997, 8.39208, 8.40199, 8.40239…\n  :ATPS4r                   => [45.2873, 45.0156, 45.1625, 45.3976, 45.1966, 45…\n  :BIOMASS_Ecoli_core_w_GAM => [0.866019, 0.866039, 0.865994, 0.866534, 0.86594…\n  :CO2t                     => [-22.8514, -22.8405, -22.879, -22.7386, -22.8486…\n  :CS                       => [6.04055, 6.16405, 6.07053, 6.01811, 6.05179, 6.…\n  :CYTBD                    => [43.8065, 43.7705, 43.8266, 43.6377, 43.7778, 43…\n  :D_LACt2                  => [-0.0112346, -0.0121223, -0.0109335, -0.0206827,…\n  :ENO                      => [14.7335, 14.8631, 14.7627, 14.7337, 14.7623, 14…\n  :ETOHt2r                  => [-0.00763974, -0.0107598, -0.0102733, -0.0077944…\n  ⋮                         => ⋮"
     },
     "metadata": {},
     "execution_count": 2
    }
   ],
   "cell_type": "code",
   "source": [
    "s = flux_sample(\n",
    "    model,\n",
    "    optimizer = GLPK.Optimizer,\n",
    "    objective_bound = relative_tolerance_bound(0.99),\n",
    "    n_chains = 2,\n",
    "    collect_iterations = [10],\n",
    ")"
   ],
   "metadata": {},
   "execution_count": 2
  },
  {
   "cell_type": "markdown",
   "source": [
    "The result is a tree of vectors of sampled states for each value; the order\n",
    "of the values in these vectors is fixed. You can thus e.g. create a good\n",
    "matrix for plotting the sample as 2D scatterplot:"
   ],
   "metadata": {}
  },
  {
   "outputs": [
    {
     "output_type": "execute_result",
     "data": {
      "text/plain": "380×2 Matrix{Float64}:\n 21.9033  -22.8514\n 21.8852  -22.8405\n 21.9133  -22.879\n 21.8189  -22.7386\n 21.8889  -22.8486\n 21.9183  -22.8771\n 21.8748  -22.826\n 21.8907  -22.8284\n 21.9148  -22.8732\n 21.9622  -22.9196\n  ⋮       \n 21.9756  -22.9464\n 21.9067  -22.8963\n 21.8833  -22.8438\n 21.8997  -22.855\n 22.0334  -23.0132\n 21.9731  -22.9553\n 21.9094  -22.8767\n 21.9472  -22.9219\n 21.8955  -22.8538"
     },
     "metadata": {},
     "execution_count": 3
    }
   ],
   "cell_type": "code",
   "source": [
    "[s.O2t s.CO2t]"
   ],
   "metadata": {},
   "execution_count": 3
  },
  {
   "cell_type": "markdown",
   "source": [
    "---\n",
    "\n",
    "*This notebook was generated using [Literate.jl](https://github.com/fredrikekre/Literate.jl).*"
   ],
   "metadata": {}
  }
 ],
 "nbformat_minor": 3,
 "metadata": {
  "language_info": {
   "file_extension": ".jl",
   "mimetype": "application/julia",
   "name": "julia",
   "version": "1.9.4"
  },
  "kernelspec": {
   "name": "julia-1.9",
   "display_name": "Julia 1.9.4",
   "language": "julia"
  }
 },
 "nbformat": 4
}
