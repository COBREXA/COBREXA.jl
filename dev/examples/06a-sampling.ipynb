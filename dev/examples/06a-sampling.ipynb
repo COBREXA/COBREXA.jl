{
 "cells": [
  {
   "cell_type": "markdown",
   "source": [
    "# Flux sampling\n",
    "\n",
    "Flux sampling gives an interesting statistical insight into the behavior of\n",
    "the model in the optimal feasible space, and the general \"shape\" of the\n",
    "optimal- or near-optimal set of feasible states of a given model."
   ],
   "metadata": {}
  },
  {
   "cell_type": "markdown",
   "source": [
    "For demonstration, we need the usual packages and models:"
   ],
   "metadata": {}
  },
  {
   "outputs": [
    {
     "name": "stdout",
     "output_type": "stream",
     "text": [
      "[ Info: using cached `e_coli_core.json'\n"
     ]
    },
    {
     "output_type": "execute_result",
     "data": {
      "text/plain": "JSONFBCModels.JSONFBCModel(#= 95 reactions, 72 metabolites =#)"
     },
     "metadata": {},
     "execution_count": 1
    }
   ],
   "cell_type": "code",
   "source": [
    "using COBREXA\n",
    "\n",
    "download_model(\n",
    "    \"http://bigg.ucsd.edu/static/models/e_coli_core.json\",\n",
    "    \"e_coli_core.json\",\n",
    "    \"7bedec10576cfe935b19218dc881f3fb14f890a1871448fc19a9b4ee15b448d8\",\n",
    ")\n",
    "\n",
    "import JSONFBCModels, GLPK\n",
    "\n",
    "model = load_model(\"e_coli_core.json\")"
   ],
   "metadata": {},
   "execution_count": 1
  },
  {
   "cell_type": "markdown",
   "source": [
    "Function `flux_sample` uses linear optimization to generate a set of\n",
    "warm-up points (by default, the method to generate the warm-up is basically\n",
    "FVA), and then runs the hit-and-run flux sampling algorithm on the\n",
    "near-optimal feasible space of the model:"
   ],
   "metadata": {}
  },
  {
   "outputs": [
    {
     "output_type": "execute_result",
     "data": {
      "text/plain": "ConstraintTrees.Tree{Vector{Float64}} with 95 elements:\n  :ACALD                    => [-0.035879, -0.0133587, -0.0196364, -0.015547, -…\n  :ACALDt                   => [-0.0269968, -0.0045412, -0.00990281, -0.0040711…\n  :ACKr                     => [-0.0283418, -0.0237877, -0.0217214, -0.0278869,…\n  :ACONTa                   => [6.14792, 6.15019, 6.09732, 6.18287, 6.08351, 6.…\n  :ACONTb                   => [6.14792, 6.15019, 6.09732, 6.18287, 6.08351, 6.…\n  :ACt2r                    => [-0.0283418, -0.0237877, -0.0217214, -0.0278869,…\n  :ADK1                     => [0.0358565, 0.0359524, 0.0354248, 0.0449006, 0.0…\n  :AKGDH                    => [4.84353, 4.71107, 4.70278, 4.92549, 4.67214, 5.…\n  :AKGt2r                   => [-0.00406575, -0.00340249, -0.00266484, -0.00375…\n  :ALCD2x                   => [-0.00888218, -0.00881754, -0.00973362, -0.01147…\n  :ATPM                     => [8.39577, 8.3974, 8.39624, 8.39514, 8.39619, 8.3…\n  :ATPS4r                   => [44.9785, 45.0018, 45.1087, 45.008, 45.1911, 44.…\n  :BIOMASS_Ecoli_core_w_GAM => [0.86582, 0.865844, 0.865931, 0.866021, 0.866029…\n  :CO2t                     => [-22.8327, -22.9023, -22.8814, -22.8541, -22.891…\n  :CS                       => [6.14792, 6.15019, 6.09732, 6.18287, 6.08351, 6.…\n  :CYTBD                    => [43.7176, 43.8772, 43.8237, 43.776, 43.8499, 43.…\n  :D_LACt2                  => [-0.00585087, -0.00591087, -0.00778838, -0.00846…\n  :ENO                      => [14.8598, 14.8336, 14.7877, 14.8803, 14.766, 14.…\n  :ETOHt2r                  => [-0.00888218, -0.00881754, -0.00973362, -0.01147…\n  ⋮                         => ⋮"
     },
     "metadata": {},
     "execution_count": 2
    }
   ],
   "cell_type": "code",
   "source": [
    "s = flux_sample(\n",
    "    model,\n",
    "    optimizer = GLPK.Optimizer,\n",
    "    objective_bound = relative_tolerance_bound(0.99),\n",
    "    n_chains = 2,\n",
    "    collect_iterations = [10],\n",
    ")"
   ],
   "metadata": {},
   "execution_count": 2
  },
  {
   "cell_type": "markdown",
   "source": [
    "The result is a tree of vectors of sampled states for each value; the order\n",
    "of the values in these vectors is fixed. You can thus e.g. create a good\n",
    "matrix for plotting the sample as 2D scatterplot:"
   ],
   "metadata": {}
  },
  {
   "outputs": [
    {
     "output_type": "execute_result",
     "data": {
      "text/plain": "380×2 Matrix{Float64}:\n 21.8588  -22.8327\n 21.9386  -22.9023\n 21.9119  -22.8814\n 21.888   -22.8541\n 21.9249  -22.8919\n 21.8786  -22.8512\n 22.0358  -23.0327\n 21.9117  -22.8692\n 21.8818  -22.8373\n 21.9286  -22.8984\n  ⋮       \n 21.95    -22.9168\n 21.926   -22.8965\n 21.938   -22.9084\n 22.0033  -22.9917\n 21.9375  -22.9078\n 21.9668  -22.9376\n 22.0072  -22.9722\n 21.9481  -22.9167\n 21.91    -22.8693"
     },
     "metadata": {},
     "execution_count": 3
    }
   ],
   "cell_type": "code",
   "source": [
    "[s.O2t s.CO2t]"
   ],
   "metadata": {},
   "execution_count": 3
  },
  {
   "cell_type": "markdown",
   "source": [
    "---\n",
    "\n",
    "*This notebook was generated using [Literate.jl](https://github.com/fredrikekre/Literate.jl).*"
   ],
   "metadata": {}
  }
 ],
 "nbformat_minor": 3,
 "metadata": {
  "language_info": {
   "file_extension": ".jl",
   "mimetype": "application/julia",
   "name": "julia",
   "version": "1.9.4"
  },
  "kernelspec": {
   "name": "julia-1.9",
   "display_name": "Julia 1.9.4",
   "language": "julia"
  }
 },
 "nbformat": 4
}
