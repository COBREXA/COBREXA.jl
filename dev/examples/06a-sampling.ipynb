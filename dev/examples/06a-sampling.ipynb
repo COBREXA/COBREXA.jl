{
 "cells": [
  {
   "cell_type": "markdown",
   "source": [
    "# Flux sampling\n",
    "\n",
    "Flux sampling gives an interesting statistical insight into the behavior of\n",
    "the model in the optimal feasible space, and the general \"shape\" of the\n",
    "optimal- or near-optimal set of feasible states of a given model."
   ],
   "metadata": {}
  },
  {
   "cell_type": "markdown",
   "source": [
    "For demonstration, we need the usual packages and models:"
   ],
   "metadata": {}
  },
  {
   "outputs": [
    {
     "name": "stdout",
     "output_type": "stream",
     "text": [
      "[ Info: using cached `e_coli_core.json'\n"
     ]
    },
    {
     "output_type": "execute_result",
     "data": {
      "text/plain": "JSONFBCModels.JSONFBCModel(#= 95 reactions, 72 metabolites =#)"
     },
     "metadata": {},
     "execution_count": 1
    }
   ],
   "cell_type": "code",
   "source": [
    "using COBREXA\n",
    "\n",
    "download_model(\n",
    "    \"http://bigg.ucsd.edu/static/models/e_coli_core.json\",\n",
    "    \"e_coli_core.json\",\n",
    "    \"7bedec10576cfe935b19218dc881f3fb14f890a1871448fc19a9b4ee15b448d8\",\n",
    ")\n",
    "\n",
    "import JSONFBCModels, HiGHS\n",
    "\n",
    "model = load_model(\"e_coli_core.json\")"
   ],
   "metadata": {},
   "execution_count": 1
  },
  {
   "cell_type": "markdown",
   "source": [
    "Function `flux_sample` uses linear optimization to generate a set of\n",
    "warm-up points (by default, the method to generate the warm-up is basically\n",
    "FVA), and then runs the hit-and-run flux sampling algorithm on the\n",
    "near-optimal feasible space of the model:"
   ],
   "metadata": {}
  },
  {
   "outputs": [
    {
     "output_type": "execute_result",
     "data": {
      "text/plain": "ConstraintTrees.Tree{Vector{Float64}} with 95 elements:\n  :ACALD                    => [-0.0163322, -0.0170277, -0.0676159, -0.0163263,…\n  :ACALDt                   => [-0.00600379, -0.00688784, -0.0663316, -0.005199…\n  :ACKr                     => [-0.0222884, -0.0245109, -0.0069303, -0.020092, …\n  :ACONTa                   => [6.13062, 6.14623, 6.01925, 6.13209, 6.2629, 5.9…\n  :ACONTb                   => [6.13062, 6.14623, 6.01925, 6.13209, 6.2629, 5.9…\n  :ACt2r                    => [-0.0222884, -0.0245109, -0.0069303, -0.020092, …\n  :ADK1                     => [0.0352695, 0.0287272, 0.0186573, 0.0391921, 0.0…\n  :AKGDH                    => [4.5951, 4.7024, 4.53576, 4.57871, 4.88273, 4.28…\n  :AKGt2r                   => [-0.00188908, -0.0018165, -0.00270613, -0.002317…\n  :ALCD2x                   => [-0.0103284, -0.0101399, -0.00128432, -0.0111266…\n  :ATPM                     => [8.43945, 8.45226, 8.40746, 8.4314, 8.45011, 8.4…\n  :ATPS4r                   => [45.0595, 45.0293, 45.1149, 45.047, 44.7417, 45.…\n  :BIOMASS_Ecoli_core_w_GAM => [0.865394, 0.865424, 0.865386, 0.865407, 0.86559…\n  :CO2t                     => [-22.9288, -22.9186, -22.9056, -22.9398, -22.958…\n  :CS                       => [6.13062, 6.14623, 6.01925, 6.13209, 6.2629, 5.9…\n  :CYTBD                    => [43.9064, 43.8861, 43.8025, 43.9261, 43.9609, 43…\n  :D_LACt2                  => [-0.00963437, -0.00935431, -0.00513935, -0.00871…\n  :ENO                      => [14.8189, 14.8378, 14.7334, 14.8166, 14.9398, 14…\n  :ETOHt2r                  => [-0.0103284, -0.0101399, -0.00128432, -0.0111266…\n  ⋮                         => ⋮"
     },
     "metadata": {},
     "execution_count": 2
    }
   ],
   "cell_type": "code",
   "source": [
    "s = flux_sample(\n",
    "    model,\n",
    "    optimizer = HiGHS.Optimizer,\n",
    "    objective_bound = relative_tolerance_bound(0.99),\n",
    "    n_chains = 2,\n",
    "    collect_iterations = [10],\n",
    ")"
   ],
   "metadata": {},
   "execution_count": 2
  },
  {
   "cell_type": "markdown",
   "source": [
    "The result is a tree of vectors of sampled states for each value; the order\n",
    "of the values in these vectors is fixed. You can thus e.g. create a good\n",
    "matrix for plotting the sample as 2D scatterplot:"
   ],
   "metadata": {}
  },
  {
   "outputs": [
    {
     "output_type": "execute_result",
     "data": {
      "text/plain": "380×2 Matrix{Float64}:\n 21.9532  -22.9288\n 21.9431  -22.9186\n 21.9012  -22.9056\n 21.9631  -22.9398\n 21.9805  -22.9581\n 21.9697  -22.9323\n 21.9568  -22.9345\n 22.0182  -23.0058\n 22.0524  -23.0221\n 21.9763  -22.9551\n  ⋮       \n 21.9227  -22.8897\n 21.9441  -22.9169\n 21.9076  -22.8924\n 21.9426  -22.9155\n 21.9485  -22.9101\n 22.0     -22.9837\n 21.9248  -22.8995\n 21.9815  -22.958\n 21.9552  -22.9326"
     },
     "metadata": {},
     "execution_count": 3
    }
   ],
   "cell_type": "code",
   "source": [
    "[s.O2t s.CO2t]"
   ],
   "metadata": {},
   "execution_count": 3
  },
  {
   "cell_type": "markdown",
   "source": [
    "---\n",
    "\n",
    "*This notebook was generated using [Literate.jl](https://github.com/fredrikekre/Literate.jl).*"
   ],
   "metadata": {}
  }
 ],
 "nbformat_minor": 3,
 "metadata": {
  "language_info": {
   "file_extension": ".jl",
   "mimetype": "application/julia",
   "name": "julia",
   "version": "1.9.4"
  },
  "kernelspec": {
   "name": "julia-1.9",
   "display_name": "Julia 1.9.4",
   "language": "julia"
  }
 },
 "nbformat": 4
}
