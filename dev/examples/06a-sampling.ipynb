{
 "cells": [
  {
   "cell_type": "markdown",
   "source": [
    "# Flux sampling\n",
    "\n",
    "Flux sampling gives an interesting statistical insight into the behavior of\n",
    "the model in the optimal feasible space, and the general \"shape\" of the\n",
    "optimal- or near-optimal set of feasible states of a given model."
   ],
   "metadata": {}
  },
  {
   "cell_type": "markdown",
   "source": [
    "For demonstration, we need the usual packages and models:"
   ],
   "metadata": {}
  },
  {
   "outputs": [
    {
     "name": "stdout",
     "output_type": "stream",
     "text": [
      "[ Info: using cached `e_coli_core.json'\n"
     ]
    },
    {
     "output_type": "execute_result",
     "data": {
      "text/plain": "JSONFBCModels.JSONFBCModel(#= 95 reactions, 72 metabolites =#)"
     },
     "metadata": {},
     "execution_count": 1
    }
   ],
   "cell_type": "code",
   "source": [
    "using COBREXA\n",
    "\n",
    "download_model(\n",
    "    \"http://bigg.ucsd.edu/static/models/e_coli_core.json\",\n",
    "    \"e_coli_core.json\",\n",
    "    \"7bedec10576cfe935b19218dc881f3fb14f890a1871448fc19a9b4ee15b448d8\",\n",
    ")\n",
    "\n",
    "import JSONFBCModels, HiGHS\n",
    "\n",
    "model = load_model(\"e_coli_core.json\")"
   ],
   "metadata": {},
   "execution_count": 1
  },
  {
   "cell_type": "markdown",
   "source": [
    "Function `flux_sample` uses linear optimization to generate a set of\n",
    "warm-up points (by default, the method to generate the warm-up is basically\n",
    "FVA), and then runs the hit-and-run flux sampling algorithm on the\n",
    "near-optimal feasible space of the model:"
   ],
   "metadata": {}
  },
  {
   "outputs": [
    {
     "output_type": "execute_result",
     "data": {
      "text/plain": "ConstraintTrees.Tree{Vector{Float64}} with 95 elements:\n  :ACALD                    => [-0.0320519, -0.0172313, -0.0429086, -0.0161873,…\n  :ACALDt                   => [-0.0252243, -0.00742645, -0.034321, -0.0052273,…\n  :ACKr                     => [-0.0144117, -0.0158532, -0.0145129, -0.0143742,…\n  :ACONTa                   => [6.08387, 6.13038, 6.02537, 5.99288, 6.01564, 6.…\n  :ACONTb                   => [6.08387, 6.13038, 6.02537, 5.99288, 6.01564, 6.…\n  :ACt2r                    => [-0.0144117, -0.0158532, -0.0145129, -0.0143742,…\n  :ADK1                     => [0.0190008, 0.0457788, 0.0307396, 0.0458726, 0.0…\n  :AKGDH                    => [4.54408, 4.65005, 4.51262, 4.3754, 4.43779, 4.3…\n  :AKGt2r                   => [-0.00124926, -0.00362922, -0.00174878, -0.00254…\n  :ALCD2x                   => [-0.00682764, -0.00980482, -0.00858759, -0.01096…\n  :ATPM                     => [8.42881, 8.41836, 8.42026, 8.41795, 8.42182, 8.…\n  :ATPS4r                   => [45.0986, 45.1214, 45.2079, 45.3293, 45.2517, 45…\n  :BIOMASS_Ecoli_core_w_GAM => [0.865359, 0.865391, 0.865422, 0.865529, 0.86545…\n  :CO2t                     => [-22.9351, -22.9591, -22.9062, -22.9237, -22.916…\n  :CS                       => [6.08387, 6.13038, 6.02537, 5.99288, 6.01564, 6.…\n  :CYTBD                    => [43.9058, 43.9572, 43.8359, 43.9063, 43.8894, 43…\n  :D_LACt2                  => [-0.0088249, -0.00271736, -0.00660554, -0.006547…\n  :ENO                      => [14.7719, 14.8056, 14.7257, 14.6727, 14.7046, 14…\n  :ETOHt2r                  => [-0.00682764, -0.00980482, -0.00858759, -0.01096…\n  ⋮                         => ⋮"
     },
     "metadata": {},
     "execution_count": 2
    }
   ],
   "cell_type": "code",
   "source": [
    "s = flux_sample(\n",
    "    model,\n",
    "    optimizer = HiGHS.Optimizer,\n",
    "    objective_bound = relative_tolerance_bound(0.99),\n",
    "    n_chains = 2,\n",
    "    collect_iterations = [10],\n",
    ")"
   ],
   "metadata": {},
   "execution_count": 2
  },
  {
   "cell_type": "markdown",
   "source": [
    "The result is a tree of vectors of sampled states for each value; the order\n",
    "of the values in these vectors is fixed. You can thus e.g. create a good\n",
    "matrix for plotting the sample as 2D scatterplot:"
   ],
   "metadata": {}
  },
  {
   "outputs": [
    {
     "output_type": "execute_result",
     "data": {
      "text/plain": "380×2 Matrix{Float64}:\n 21.9529  -22.9351\n 21.9786  -22.9591\n 21.9179  -22.9062\n 21.9531  -22.9237\n 21.9447  -22.9163\n 21.9657  -22.9357\n 21.934   -22.9005\n 21.9411  -22.9067\n 21.9035  -22.8676\n 21.9788  -22.951\n  ⋮       \n 21.9786  -22.9654\n 21.958   -22.9263\n 21.9823  -22.9464\n 22.0024  -22.9774\n 22.0394  -23.0335\n 21.9901  -22.9733\n 21.9553  -22.9256\n 22.067   -23.0579\n 21.9811  -22.9516"
     },
     "metadata": {},
     "execution_count": 3
    }
   ],
   "cell_type": "code",
   "source": [
    "[s.O2t s.CO2t]"
   ],
   "metadata": {},
   "execution_count": 3
  },
  {
   "cell_type": "markdown",
   "source": [
    "---\n",
    "\n",
    "*This notebook was generated using [Literate.jl](https://github.com/fredrikekre/Literate.jl).*"
   ],
   "metadata": {}
  }
 ],
 "nbformat_minor": 3,
 "metadata": {
  "language_info": {
   "file_extension": ".jl",
   "mimetype": "application/julia",
   "name": "julia",
   "version": "1.9.4"
  },
  "kernelspec": {
   "name": "julia-1.9",
   "display_name": "Julia 1.9.4",
   "language": "julia"
  }
 },
 "nbformat": 4
}
