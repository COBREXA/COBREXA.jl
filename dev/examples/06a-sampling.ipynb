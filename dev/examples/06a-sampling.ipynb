{
 "cells": [
  {
   "cell_type": "markdown",
   "source": [
    "# Flux sampling\n",
    "\n",
    "Flux sampling gives an interesting statistical insight into the behavior of\n",
    "the model in the optimal feasible space, and the general \"shape\" of the\n",
    "optimal- or near-optimal set of feasible states of a given model."
   ],
   "metadata": {}
  },
  {
   "cell_type": "markdown",
   "source": [
    "For demonstration, we need the usual packages and models:"
   ],
   "metadata": {}
  },
  {
   "outputs": [
    {
     "name": "stdout",
     "output_type": "stream",
     "text": [
      "[ Info: using cached `e_coli_core.json'\n"
     ]
    },
    {
     "output_type": "execute_result",
     "data": {
      "text/plain": "JSONFBCModels.JSONFBCModel(#= 95 reactions, 72 metabolites =#)"
     },
     "metadata": {},
     "execution_count": 1
    }
   ],
   "cell_type": "code",
   "source": [
    "using COBREXA\n",
    "\n",
    "download_model(\n",
    "    \"http://bigg.ucsd.edu/static/models/e_coli_core.json\",\n",
    "    \"e_coli_core.json\",\n",
    "    \"7bedec10576cfe935b19218dc881f3fb14f890a1871448fc19a9b4ee15b448d8\",\n",
    ")\n",
    "\n",
    "import JSONFBCModels, HiGHS\n",
    "\n",
    "model = load_model(\"e_coli_core.json\")"
   ],
   "metadata": {},
   "execution_count": 1
  },
  {
   "cell_type": "markdown",
   "source": [
    "Function `flux_sample` uses linear optimization to generate a set of\n",
    "warm-up points (by default, the method to generate the warm-up is basically\n",
    "FVA), and then runs the hit-and-run flux sampling algorithm on the\n",
    "near-optimal feasible space of the model:"
   ],
   "metadata": {}
  },
  {
   "outputs": [
    {
     "output_type": "execute_result",
     "data": {
      "text/plain": "ConstraintTrees.Tree{Vector{Float64}} with 95 elements:\n  :ACALD                    => [-0.0137775, -0.0194254, -0.0702198, -0.0160924,…\n  :ACALDt                   => [-0.00476717, -0.00781131, -0.0620945, -0.006179…\n  :ACKr                     => [-0.0219344, -0.0165836, -0.0138916, -0.0185979,…\n  :ACONTa                   => [6.10683, 5.95846, 6.01852, 6.03582, 6.16246, 6.…\n  :ACONTb                   => [6.10683, 5.95846, 6.01852, 6.03582, 6.16246, 6.…\n  :ACt2r                    => [-0.0219344, -0.0165836, -0.0138916, -0.0185979,…\n  :ADK1                     => [0.0258578, 0.0519455, 0.0277963, 0.0387435, 0.0…\n  :AKGDH                    => [4.5662, 4.41095, 4.60466, 4.48921, 4.52908, 4.4…\n  :AKGt2r                   => [-0.00138193, -0.00150101, -0.000988231, -0.0014…\n  :ALCD2x                   => [-0.00901031, -0.0116141, -0.00812528, -0.009912…\n  :ATPM                     => [8.42597, 8.43195, 8.42051, 8.43136, 8.40658, 8.…\n  :ATPS4r                   => [45.1197, 45.4205, 45.1546, 45.2562, 44.9752, 45…\n  :BIOMASS_Ecoli_core_w_GAM => [0.865572, 0.865403, 0.865392, 0.86547, 0.865615…\n  :CO2t                     => [-22.9404, -22.9235, -22.8718, -22.9306, -22.974…\n  :CS                       => [6.10683, 5.95846, 6.01852, 6.03582, 6.16246, 6.…\n  :CYTBD                    => [43.9309, 43.9067, 43.737, 43.9201, 43.9595, 43.…\n  :D_LACt2                  => [-0.00856674, -0.00913898, -0.00576396, -0.00882…\n  :ENO                      => [14.789, 14.6407, 14.7419, 14.7171, 14.8482, 14.…\n  :ETOHt2r                  => [-0.00901031, -0.0116141, -0.00812528, -0.009912…\n  ⋮                         => ⋮"
     },
     "metadata": {},
     "execution_count": 2
    }
   ],
   "cell_type": "code",
   "source": [
    "s = flux_sample(\n",
    "    model,\n",
    "    optimizer = HiGHS.Optimizer,\n",
    "    objective_bound = relative_tolerance_bound(0.99),\n",
    "    n_chains = 2,\n",
    "    collect_iterations = [10],\n",
    ")"
   ],
   "metadata": {},
   "execution_count": 2
  },
  {
   "cell_type": "markdown",
   "source": [
    "The result is a tree of vectors of sampled states for each value; the order\n",
    "of the values in these vectors is fixed. You can thus e.g. create a good\n",
    "matrix for plotting the sample as 2D scatterplot:"
   ],
   "metadata": {}
  },
  {
   "outputs": [
    {
     "output_type": "execute_result",
     "data": {
      "text/plain": "380×2 Matrix{Float64}:\n 21.9655  -22.9404\n 21.9534  -22.9235\n 21.8685  -22.8718\n 21.9601  -22.9306\n 21.9798  -22.9744\n 21.9688  -22.9459\n 21.9451  -22.8975\n 21.9922  -22.9563\n 21.9784  -22.9451\n 21.9675  -22.933\n  ⋮       \n 21.9483  -22.9315\n 21.9779  -22.9579\n 21.9718  -22.9383\n 21.9528  -22.933\n 21.9446  -22.933\n 21.9356  -22.9276\n 21.9466  -22.9278\n 21.9748  -22.9586\n 21.9468  -22.926"
     },
     "metadata": {},
     "execution_count": 3
    }
   ],
   "cell_type": "code",
   "source": [
    "[s.O2t s.CO2t]"
   ],
   "metadata": {},
   "execution_count": 3
  },
  {
   "cell_type": "markdown",
   "source": [
    "---\n",
    "\n",
    "*This notebook was generated using [Literate.jl](https://github.com/fredrikekre/Literate.jl).*"
   ],
   "metadata": {}
  }
 ],
 "nbformat_minor": 3,
 "metadata": {
  "language_info": {
   "file_extension": ".jl",
   "mimetype": "application/julia",
   "name": "julia",
   "version": "1.9.4"
  },
  "kernelspec": {
   "name": "julia-1.9",
   "display_name": "Julia 1.9.4",
   "language": "julia"
  }
 },
 "nbformat": 4
}
