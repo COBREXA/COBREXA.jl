{
 "cells": [
  {
   "cell_type": "markdown",
   "source": [
    "# Flux sampling\n",
    "\n",
    "Flux sampling gives an interesting statistical insight into the behavior of\n",
    "the model in the optimal feasible space, and the general \"shape\" of the\n",
    "optimal- or near-optimal set of feasible states of a given model."
   ],
   "metadata": {}
  },
  {
   "cell_type": "markdown",
   "source": [
    "For demonstration, we need the usual packages and models:"
   ],
   "metadata": {}
  },
  {
   "outputs": [
    {
     "name": "stdout",
     "output_type": "stream",
     "text": [
      "[ Info: using cached `e_coli_core.json'\n"
     ]
    },
    {
     "output_type": "execute_result",
     "data": {
      "text/plain": "JSONFBCModels.JSONFBCModel(#= 95 reactions, 72 metabolites =#)"
     },
     "metadata": {},
     "execution_count": 1
    }
   ],
   "cell_type": "code",
   "source": [
    "using COBREXA\n",
    "\n",
    "download_model(\n",
    "    \"http://bigg.ucsd.edu/static/models/e_coli_core.json\",\n",
    "    \"e_coli_core.json\",\n",
    "    \"7bedec10576cfe935b19218dc881f3fb14f890a1871448fc19a9b4ee15b448d8\",\n",
    ")\n",
    "\n",
    "import JSONFBCModels, HiGHS\n",
    "\n",
    "model = load_model(\"e_coli_core.json\")"
   ],
   "metadata": {},
   "execution_count": 1
  },
  {
   "cell_type": "markdown",
   "source": [
    "Function `flux_sample` uses linear optimization to generate a set of\n",
    "warm-up points (by default, the method to generate the warm-up is basically\n",
    "FVA), and then runs the hit-and-run flux sampling algorithm on the\n",
    "near-optimal feasible space of the model:"
   ],
   "metadata": {}
  },
  {
   "outputs": [
    {
     "output_type": "execute_result",
     "data": {
      "text/plain": "ConstraintTrees.Tree{Vector{Float64}} with 95 elements:\n  :ACALD                    => [-0.0219241, -0.0204572, -0.0151419, -0.0154171,…\n  :ACALDt                   => [-0.0184376, -0.00400183, -0.00356824, -0.003863…\n  :ACKr                     => [-0.0138369, -0.0205192, -0.0157815, -0.0160872,…\n  :ACONTa                   => [6.10585, 6.0968, 6.0697, 6.08589, 6.0375, 6.048…\n  :ACONTb                   => [6.10585, 6.0968, 6.0697, 6.08589, 6.0375, 6.048…\n  :ACt2r                    => [-0.0138369, -0.0205192, -0.0157815, -0.0160872,…\n  :ADK1                     => [0.0541733, 0.0161448, 0.0346032, 0.0300256, 0.0…\n  :AKGDH                    => [4.49174, 4.63932, 4.5247, 4.5308, 4.49215, 4.34…\n  :AKGt2r                   => [-0.00175042, -0.00262823, -0.00261401, -0.00239…\n  :ALCD2x                   => [-0.00348644, -0.0164554, -0.0115737, -0.0115536…\n  :ATPM                     => [8.41525, 8.44578, 8.42893, 8.4319, 8.45487, 8.4…\n  :ATPS4r                   => [45.0813, 45.2616, 45.2597, 45.2037, 45.3172, 45…\n  :BIOMASS_Ecoli_core_w_GAM => [0.865529, 0.86542, 0.865526, 0.865484, 0.865375…\n  :CO2t                     => [-22.9165, -22.9397, -22.9184, -22.9359, -22.893…\n  :CS                       => [6.10585, 6.0968, 6.0697, 6.08589, 6.0375, 6.048…\n  :CYTBD                    => [43.8934, 43.9027, 43.8961, 43.9239, 43.8774, 43…\n  :D_LACt2                  => [-0.0105081, -0.00769333, -0.00877048, -0.008338…\n  :ENO                      => [14.7891, 14.7891, 14.7538, 14.7677, 14.7298, 14…\n  :ETOHt2r                  => [-0.00348644, -0.0164554, -0.0115737, -0.0115536…\n  ⋮                         => ⋮"
     },
     "metadata": {},
     "execution_count": 2
    }
   ],
   "cell_type": "code",
   "source": [
    "s = flux_sample(\n",
    "    model,\n",
    "    optimizer = HiGHS.Optimizer,\n",
    "    objective_bound = relative_tolerance_bound(0.99),\n",
    "    n_chains = 2,\n",
    "    collect_iterations = [10],\n",
    ")"
   ],
   "metadata": {},
   "execution_count": 2
  },
  {
   "cell_type": "markdown",
   "source": [
    "The result is a tree of vectors of sampled states for each value; the order\n",
    "of the values in these vectors is fixed. You can thus e.g. create a good\n",
    "matrix for plotting the sample as 2D scatterplot:"
   ],
   "metadata": {}
  },
  {
   "outputs": [
    {
     "output_type": "execute_result",
     "data": {
      "text/plain": "380×2 Matrix{Float64}:\n 21.9467  -22.9165\n 21.9513  -22.9397\n 21.948   -22.9184\n 21.962   -22.9359\n 21.9387  -22.8932\n 21.9747  -22.944\n 21.9758  -22.951\n 21.9495  -22.9308\n 21.9524  -22.9251\n 21.9723  -22.9515\n  ⋮       \n 21.9597  -22.931\n 21.9945  -22.9677\n 21.9243  -22.8968\n 21.9956  -22.972\n 22.0166  -22.9923\n 21.9669  -22.9526\n 21.9759  -22.9477\n 22.0382  -23.0106\n 21.9746  -22.9497"
     },
     "metadata": {},
     "execution_count": 3
    }
   ],
   "cell_type": "code",
   "source": [
    "[s.O2t s.CO2t]"
   ],
   "metadata": {},
   "execution_count": 3
  },
  {
   "cell_type": "markdown",
   "source": [
    "---\n",
    "\n",
    "*This notebook was generated using [Literate.jl](https://github.com/fredrikekre/Literate.jl).*"
   ],
   "metadata": {}
  }
 ],
 "nbformat_minor": 3,
 "metadata": {
  "language_info": {
   "file_extension": ".jl",
   "mimetype": "application/julia",
   "name": "julia",
   "version": "1.9.4"
  },
  "kernelspec": {
   "name": "julia-1.9",
   "display_name": "Julia 1.9.4",
   "language": "julia"
  }
 },
 "nbformat": 4
}
