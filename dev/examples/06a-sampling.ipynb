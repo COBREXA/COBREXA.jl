{
 "cells": [
  {
   "cell_type": "markdown",
   "source": [
    "# Flux sampling\n",
    "\n",
    "Flux sampling gives an interesting statistical insight into the behavior of\n",
    "the model in the optimal feasible space, and the general \"shape\" of the\n",
    "optimal- or near-optimal set of feasible states of a given model."
   ],
   "metadata": {}
  },
  {
   "cell_type": "markdown",
   "source": [
    "For demonstration, we need the usual packages and models:"
   ],
   "metadata": {}
  },
  {
   "outputs": [
    {
     "name": "stdout",
     "output_type": "stream",
     "text": [
      "[ Info: using cached `e_coli_core.json'\n"
     ]
    },
    {
     "output_type": "execute_result",
     "data": {
      "text/plain": "JSONFBCModels.JSONFBCModel(#= 95 reactions, 72 metabolites =#)"
     },
     "metadata": {},
     "execution_count": 1
    }
   ],
   "cell_type": "code",
   "source": [
    "using COBREXA\n",
    "\n",
    "download_model(\n",
    "    \"http://bigg.ucsd.edu/static/models/e_coli_core.json\",\n",
    "    \"e_coli_core.json\",\n",
    "    \"7bedec10576cfe935b19218dc881f3fb14f890a1871448fc19a9b4ee15b448d8\",\n",
    ")\n",
    "\n",
    "import JSONFBCModels, HiGHS\n",
    "\n",
    "model = load_model(\"e_coli_core.json\")"
   ],
   "metadata": {},
   "execution_count": 1
  },
  {
   "cell_type": "markdown",
   "source": [
    "Function `flux_sample` uses linear optimization to generate a set of\n",
    "warm-up points (by default, the method to generate the warm-up is basically\n",
    "FVA), and then runs the hit-and-run flux sampling algorithm on the\n",
    "near-optimal feasible space of the model:"
   ],
   "metadata": {}
  },
  {
   "outputs": [
    {
     "output_type": "execute_result",
     "data": {
      "text/plain": "ConstraintTrees.Tree{Vector{Float64}} with 95 elements:\n  :ACALD                    => [-0.014341, -0.0129399, -0.0115794, -0.00964386,…\n  :ACALDt                   => [-0.00571556, -0.00462647, -0.00268799, -0.00279…\n  :ACKr                     => [-0.0189501, -0.0180579, -0.0183706, -0.0144946,…\n  :ACONTa                   => [6.05709, 6.04097, 6.03859, 5.93295, 6.0395, 5.9…\n  :ACONTb                   => [6.05709, 6.04097, 6.03859, 5.93295, 6.0395, 5.9…\n  :ACt2r                    => [-0.0189501, -0.0180579, -0.0183706, -0.0144946,…\n  :ADK1                     => [0.031732, 0.0265445, 0.0326489, 0.0133669, 0.02…\n  :AKGDH                    => [4.50943, 4.48114, 4.47671, 4.41478, 4.4551, 4.3…\n  :AKGt2r                   => [-0.00241154, -0.00242246, -0.00258709, -0.00330…\n  :ALCD2x                   => [-0.0086254, -0.00831341, -0.00889139, -0.006852…\n  :ATPM                     => [8.42099, 8.41924, 8.41996, 8.41143, 8.41855, 8.…\n  :ATPS4r                   => [45.2339, 45.2601, 45.2892, 45.6004, 45.2196, 45…\n  :BIOMASS_Ecoli_core_w_GAM => [0.865477, 0.865484, 0.865481, 0.865423, 0.86543…\n  :CO2t                     => [-22.939, -22.9416, -22.9419, -22.9229, -22.9392…\n  :CS                       => [6.05709, 6.04097, 6.03859, 5.93295, 6.0395, 5.9…\n  :CYTBD                    => [43.9336, 43.9417, 43.9425, 43.9191, 43.9298, 43…\n  :D_LACt2                  => [-0.00794234, -0.00781843, -0.0084561, -0.010743…\n  :ENO                      => [14.7356, 14.7175, 14.7144, 14.6075, 14.7228, 14…\n  :ETOHt2r                  => [-0.0086254, -0.00831341, -0.00889139, -0.006852…\n  ⋮                         => ⋮"
     },
     "metadata": {},
     "execution_count": 2
    }
   ],
   "cell_type": "code",
   "source": [
    "s = flux_sample(\n",
    "    model,\n",
    "    optimizer = HiGHS.Optimizer,\n",
    "    objective_bound = relative_tolerance_bound(0.99),\n",
    "    n_chains = 2,\n",
    "    collect_iterations = [10],\n",
    ")"
   ],
   "metadata": {},
   "execution_count": 2
  },
  {
   "cell_type": "markdown",
   "source": [
    "The result is a tree of vectors of sampled states for each value; the order\n",
    "of the values in these vectors is fixed. You can thus e.g. create a good\n",
    "matrix for plotting the sample as 2D scatterplot:"
   ],
   "metadata": {}
  },
  {
   "outputs": [
    {
     "output_type": "execute_result",
     "data": {
      "text/plain": "380×2 Matrix{Float64}:\n 21.9668  -22.939\n 21.9709  -22.9416\n 21.9712  -22.9419\n 21.9596  -22.9229\n 21.9649  -22.9392\n 21.981   -22.9534\n 21.9769  -22.9557\n 21.9702  -22.9425\n 21.9327  -22.8951\n 21.9769  -22.9508\n  ⋮       \n 22.0139  -22.9974\n 21.9182  -22.8942\n 22.0208  -23.0074\n 21.9519  -22.9286\n 22.017   -22.9948\n 21.9322  -22.9073\n 21.9338  -22.9123\n 21.9997  -22.9821\n 21.9506  -22.9265"
     },
     "metadata": {},
     "execution_count": 3
    }
   ],
   "cell_type": "code",
   "source": [
    "[s.O2t s.CO2t]"
   ],
   "metadata": {},
   "execution_count": 3
  },
  {
   "cell_type": "markdown",
   "source": [
    "---\n",
    "\n",
    "*This notebook was generated using [Literate.jl](https://github.com/fredrikekre/Literate.jl).*"
   ],
   "metadata": {}
  }
 ],
 "nbformat_minor": 3,
 "metadata": {
  "language_info": {
   "file_extension": ".jl",
   "mimetype": "application/julia",
   "name": "julia",
   "version": "1.9.4"
  },
  "kernelspec": {
   "name": "julia-1.9",
   "display_name": "Julia 1.9.4",
   "language": "julia"
  }
 },
 "nbformat": 4
}
