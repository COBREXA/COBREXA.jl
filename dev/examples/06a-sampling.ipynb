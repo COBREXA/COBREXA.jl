{
 "cells": [
  {
   "cell_type": "markdown",
   "source": [
    "# Flux sampling\n",
    "\n",
    "Flux sampling gives an interesting statistical insight into the behavior of\n",
    "the model in the optimal feasible space, and the general \"shape\" of the\n",
    "optimal- or near-optimal set of feasible states of a given model."
   ],
   "metadata": {}
  },
  {
   "cell_type": "markdown",
   "source": [
    "For demonstration, we need the usual packages and models:"
   ],
   "metadata": {}
  },
  {
   "outputs": [
    {
     "name": "stdout",
     "output_type": "stream",
     "text": [
      "[ Info: using cached `e_coli_core.json'\n"
     ]
    },
    {
     "output_type": "execute_result",
     "data": {
      "text/plain": "JSONFBCModels.JSONFBCModel(#= 95 reactions, 72 metabolites =#)"
     },
     "metadata": {},
     "execution_count": 1
    }
   ],
   "cell_type": "code",
   "source": [
    "using COBREXA\n",
    "\n",
    "download_model(\n",
    "    \"http://bigg.ucsd.edu/static/models/e_coli_core.json\",\n",
    "    \"e_coli_core.json\",\n",
    "    \"7bedec10576cfe935b19218dc881f3fb14f890a1871448fc19a9b4ee15b448d8\",\n",
    ")\n",
    "\n",
    "import JSONFBCModels, HiGHS\n",
    "\n",
    "model = load_model(\"e_coli_core.json\")"
   ],
   "metadata": {},
   "execution_count": 1
  },
  {
   "cell_type": "markdown",
   "source": [
    "Function `flux_sample` uses linear optimization to generate a set of\n",
    "warm-up points (by default, the method to generate the warm-up is basically\n",
    "FVA), and then runs the hit-and-run flux sampling algorithm on the\n",
    "near-optimal feasible space of the model:"
   ],
   "metadata": {}
  },
  {
   "outputs": [
    {
     "output_type": "execute_result",
     "data": {
      "text/plain": "ConstraintTrees.Tree{Vector{Float64}} with 95 elements:\n  :ACALD                    => [-0.00533173, -0.00795671, -0.0120504, -0.003569…\n  :ACALDt                   => [-0.00135467, -0.00405261, -9.67172e-5, -0.00271…\n  :ACKr                     => [-0.00999985, -0.0197317, -0.0190515, -0.0092042…\n  :ACONTa                   => [6.13405, 6.09083, 6.02416, 6.1164, 6.07907, 5.9…\n  :ACONTb                   => [6.13405, 6.09083, 6.02416, 6.1164, 6.07907, 5.9…\n  :ACt2r                    => [-0.00999985, -0.0197317, -0.0190515, -0.0092042…\n  :ADK1                     => [0.0166271, 0.0419315, 0.0262806, 0.0135199, 0.0…\n  :AKGDH                    => [4.63962, 4.29967, 4.33849, 4.55122, 4.66757, 4.…\n  :AKGt2r                   => [-0.000689135, -0.00147016, -0.00106574, -0.0005…\n  :ALCD2x                   => [-0.00397706, -0.00390411, -0.0119537, -0.000855…\n  :ATPM                     => [8.40712, 8.43081, 8.43026, 8.40366, 8.41494, 8.…\n  :ATPS4r                   => [45.2679, 45.1936, 45.2314, 45.3033, 45.2293, 45…\n  :BIOMASS_Ecoli_core_w_GAM => [0.865499, 0.865258, 0.8654, 0.865464, 0.865604,…\n  :CO2t                     => [-22.9341, -22.9985, -22.9628, -22.9521, -22.844…\n  :CS                       => [6.13405, 6.09083, 6.02416, 6.1164, 6.07907, 5.9…\n  :CYTBD                    => [43.9471, 44.0031, 43.9661, 43.9889, 43.7562, 43…\n  :D_LACt2                  => [-0.01254, -0.0195488, -0.0100338, -0.0115672, -…\n  :ENO                      => [14.8017, 14.7685, 14.7013, 14.7784, 14.7914, 14…\n  :ETOHt2r                  => [-0.00397706, -0.00390411, -0.0119537, -0.000855…\n  ⋮                         => ⋮"
     },
     "metadata": {},
     "execution_count": 2
    }
   ],
   "cell_type": "code",
   "source": [
    "s = flux_sample(\n",
    "    model,\n",
    "    optimizer = HiGHS.Optimizer,\n",
    "    objective_bound = relative_tolerance_bound(0.99),\n",
    "    n_chains = 2,\n",
    "    collect_iterations = [10],\n",
    ")"
   ],
   "metadata": {},
   "execution_count": 2
  },
  {
   "cell_type": "markdown",
   "source": [
    "The result is a tree of vectors of sampled states for each value; the order\n",
    "of the values in these vectors is fixed. You can thus e.g. create a good\n",
    "matrix for plotting the sample as 2D scatterplot:"
   ],
   "metadata": {}
  },
  {
   "outputs": [
    {
     "output_type": "execute_result",
     "data": {
      "text/plain": "380×2 Matrix{Float64}:\n 21.9735  -22.9341\n 22.0016  -22.9985\n 21.9831  -22.9628\n 21.9944  -22.9521\n 21.8781  -22.8447\n 21.9856  -22.9603\n 21.9678  -22.9441\n 21.9647  -22.9353\n 21.9396  -22.9108\n 22.0069  -22.9862\n  ⋮       \n 21.9258  -22.8941\n 21.9604  -22.9389\n 21.9569  -22.9355\n 22.0235  -23.0079\n 21.96    -22.9382\n 21.9753  -22.948\n 21.9537  -22.9348\n 21.9722  -22.9494\n 22.009   -22.9848"
     },
     "metadata": {},
     "execution_count": 3
    }
   ],
   "cell_type": "code",
   "source": [
    "[s.O2t s.CO2t]"
   ],
   "metadata": {},
   "execution_count": 3
  },
  {
   "cell_type": "markdown",
   "source": [
    "---\n",
    "\n",
    "*This notebook was generated using [Literate.jl](https://github.com/fredrikekre/Literate.jl).*"
   ],
   "metadata": {}
  }
 ],
 "nbformat_minor": 3,
 "metadata": {
  "language_info": {
   "file_extension": ".jl",
   "mimetype": "application/julia",
   "name": "julia",
   "version": "1.11.3"
  },
  "kernelspec": {
   "name": "julia-1.11",
   "display_name": "Julia 1.11.3",
   "language": "julia"
  }
 },
 "nbformat": 4
}
