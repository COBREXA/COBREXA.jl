{
 "cells": [
  {
   "cell_type": "markdown",
   "source": [
    "# Flux sampling\n",
    "\n",
    "Flux sampling gives an interesting statistical insight into the behavior of\n",
    "the model in the optimal feasible space, and the general \"shape\" of the\n",
    "optimal- or near-optimal set of feasible states of a given model."
   ],
   "metadata": {}
  },
  {
   "cell_type": "markdown",
   "source": [
    "For demonstration, we need the usual packages and models:"
   ],
   "metadata": {}
  },
  {
   "outputs": [
    {
     "name": "stdout",
     "output_type": "stream",
     "text": [
      "[ Info: using cached `e_coli_core.json'\n"
     ]
    },
    {
     "output_type": "execute_result",
     "data": {
      "text/plain": "JSONFBCModels.JSONFBCModel(#= 95 reactions, 72 metabolites =#)"
     },
     "metadata": {},
     "execution_count": 1
    }
   ],
   "cell_type": "code",
   "source": [
    "using COBREXA\n",
    "\n",
    "download_model(\n",
    "    \"http://bigg.ucsd.edu/static/models/e_coli_core.json\",\n",
    "    \"e_coli_core.json\",\n",
    "    \"7bedec10576cfe935b19218dc881f3fb14f890a1871448fc19a9b4ee15b448d8\",\n",
    ")\n",
    "\n",
    "import JSONFBCModels, GLPK\n",
    "\n",
    "model = load_model(\"e_coli_core.json\")"
   ],
   "metadata": {},
   "execution_count": 1
  },
  {
   "cell_type": "markdown",
   "source": [
    "Function `flux_sample` uses linear optimization to generate a set of\n",
    "warm-up points (by default, the method to generate the warm-up is basically\n",
    "FVA), and then runs the hit-and-run flux sampling algorithm on the\n",
    "near-optimal feasible space of the model:"
   ],
   "metadata": {}
  },
  {
   "outputs": [
    {
     "output_type": "execute_result",
     "data": {
      "text/plain": "ConstraintTrees.Tree{Vector{Float64}} with 95 elements:\n  :ACALD                    => [-0.0187855, -0.01553, -0.0237428, -0.0323634, -…\n  :ACALDt                   => [-0.00510092, -0.00410471, -0.00426676, -0.00621…\n  :ACKr                     => [-0.0207554, -0.0178971, -0.0250811, -0.0116161,…\n  :ACONTa                   => [6.09861, 5.95742, 6.14042, 6.27306, 6.15771, 6.…\n  :ACONTb                   => [6.09861, 5.95742, 6.14042, 6.27306, 6.15771, 6.…\n  :ACt2r                    => [-0.0207554, -0.0178971, -0.0250811, -0.0116161,…\n  :ADK1                     => [0.0243796, 0.0125641, 0.0163888, 0.0308252, 0.0…\n  :AKGDH                    => [4.73842, 4.34869, 4.96745, 5.31483, 4.74385, 4.…\n  :AKGt2r                   => [-0.0019588, -0.00155401, -0.000938801, -0.00385…\n  :ALCD2x                   => [-0.0136845, -0.0114253, -0.0194761, -0.0261525,…\n  :ATPM                     => [8.39808, 8.39394, 8.40085, 8.39939, 8.39414, 8.…\n  :ATPS4r                   => [45.1276, 45.348, 45.0669, 45.02, 45.0467, 45.18…\n  :BIOMASS_Ecoli_core_w_GAM => [0.865981, 0.865954, 0.865883, 0.866007, 0.86608…\n  :CO2t                     => [-22.8773, -22.9192, -22.8479, -22.875, -22.9284…\n  :CS                       => [6.09861, 5.95742, 6.14042, 6.27306, 6.15771, 6.…\n  :CYTBD                    => [43.8076, 43.8832, 43.7517, 43.7832, 43.8914, 43…\n  :D_LACt2                  => [-0.00620997, -0.00527816, -0.00330516, -0.00128…\n  :ENO                      => [14.7924, 14.6393, 14.8416, 14.9636, 14.8343, 14…\n  :ETOHt2r                  => [-0.0136845, -0.0114253, -0.0194761, -0.0261525,…\n  ⋮                         => ⋮"
     },
     "metadata": {},
     "execution_count": 2
    }
   ],
   "cell_type": "code",
   "source": [
    "s = flux_sample(\n",
    "    model,\n",
    "    optimizer = GLPK.Optimizer,\n",
    "    objective_bound = relative_tolerance_bound(0.99),\n",
    "    n_chains = 2,\n",
    "    collect_iterations = [10],\n",
    ")"
   ],
   "metadata": {},
   "execution_count": 2
  },
  {
   "cell_type": "markdown",
   "source": [
    "The result is a tree of vectors of sampled states for each value; the order\n",
    "of the values in these vectors is fixed. You can thus e.g. create a good\n",
    "matrix for plotting the sample as 2D scatterplot:"
   ],
   "metadata": {}
  },
  {
   "outputs": [
    {
     "output_type": "execute_result",
     "data": {
      "text/plain": "380×2 Matrix{Float64}:\n 21.9038  -22.8773\n 21.9416  -22.9192\n 21.8758  -22.8479\n 21.8916  -22.875\n 21.9457  -22.9284\n 21.93    -22.9088\n 21.8832  -22.8537\n 21.9247  -22.9012\n 21.914   -22.8887\n 22.0112  -22.9938\n  ⋮       \n 21.976   -22.9553\n 21.9429  -22.9057\n 21.9396  -22.9091\n 21.9476  -22.9214\n 21.9736  -22.9491\n 21.9051  -22.8672\n 21.9534  -22.9235\n 21.9501  -22.919\n 21.9253  -22.9091"
     },
     "metadata": {},
     "execution_count": 3
    }
   ],
   "cell_type": "code",
   "source": [
    "[s.O2t s.CO2t]"
   ],
   "metadata": {},
   "execution_count": 3
  },
  {
   "cell_type": "markdown",
   "source": [
    "---\n",
    "\n",
    "*This notebook was generated using [Literate.jl](https://github.com/fredrikekre/Literate.jl).*"
   ],
   "metadata": {}
  }
 ],
 "nbformat_minor": 3,
 "metadata": {
  "language_info": {
   "file_extension": ".jl",
   "mimetype": "application/julia",
   "name": "julia",
   "version": "1.9.4"
  },
  "kernelspec": {
   "name": "julia-1.9",
   "display_name": "Julia 1.9.4",
   "language": "julia"
  }
 },
 "nbformat": 4
}
