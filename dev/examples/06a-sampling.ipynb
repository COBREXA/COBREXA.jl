{
 "cells": [
  {
   "cell_type": "markdown",
   "source": [
    "# Flux sampling\n",
    "\n",
    "Flux sampling gives an interesting statistical insight into the behavior of\n",
    "the model in the optimal feasible space, and the general \"shape\" of the\n",
    "optimal- or near-optimal set of feasible states of a given model."
   ],
   "metadata": {}
  },
  {
   "cell_type": "markdown",
   "source": [
    "For demonstration, we need the usual packages and models:"
   ],
   "metadata": {}
  },
  {
   "outputs": [
    {
     "name": "stdout",
     "output_type": "stream",
     "text": [
      "[ Info: using cached `e_coli_core.json'\n"
     ]
    },
    {
     "output_type": "execute_result",
     "data": {
      "text/plain": "JSONFBCModels.JSONFBCModel(#= 95 reactions, 72 metabolites =#)"
     },
     "metadata": {},
     "execution_count": 1
    }
   ],
   "cell_type": "code",
   "source": [
    "using COBREXA\n",
    "\n",
    "download_model(\n",
    "    \"http://bigg.ucsd.edu/static/models/e_coli_core.json\",\n",
    "    \"e_coli_core.json\",\n",
    "    \"7bedec10576cfe935b19218dc881f3fb14f890a1871448fc19a9b4ee15b448d8\",\n",
    ")\n",
    "\n",
    "import JSONFBCModels, GLPK\n",
    "\n",
    "model = load_model(\"e_coli_core.json\")"
   ],
   "metadata": {},
   "execution_count": 1
  },
  {
   "cell_type": "markdown",
   "source": [
    "Function `flux_sample` uses linear optimization to generate a set of\n",
    "warm-up points (by default, the method to generate the warm-up is basically\n",
    "FVA), and then runs the hit-and-run flux sampling algorithm on the\n",
    "near-optimal feasible space of the model:"
   ],
   "metadata": {}
  },
  {
   "outputs": [
    {
     "output_type": "execute_result",
     "data": {
      "text/plain": "ConstraintTrees.Tree{Vector{Float64}} with 95 elements:\n  :ACALD                    => [-0.0111806, -0.0139779, -0.0159973, -0.0137911,…\n  :ACALDt                   => [-0.00200256, -0.0046901, -0.00669442, -0.006294…\n  :ACKr                     => [-0.0164986, -0.0159727, -0.0164768, -0.0148173,…\n  :ACONTa                   => [6.1297, 6.08304, 6.10204, 6.20556, 6.10976, 5.9…\n  :ACONTb                   => [6.1297, 6.08304, 6.10204, 6.20556, 6.10976, 5.9…\n  :ACt2r                    => [-0.0164986, -0.0159727, -0.0164768, -0.0148173,…\n  :ADK1                     => [0.0527903, 0.0495608, 0.0541983, 0.0520908, 0.0…\n  :AKGDH                    => [4.76932, 4.65602, 4.72568, 4.87226, 4.72239, 4.…\n  :AKGt2r                   => [-0.00348835, -0.00338649, -0.00440112, -0.00136…\n  :ALCD2x                   => [-0.00917806, -0.00928782, -0.00930288, -0.00749…\n  :ATPM                     => [8.41393, 8.41087, 8.41032, 8.42353, 8.4091, 8.4…\n  :ATPS4r                   => [45.1529, 45.2181, 45.2016, 45.0049, 45.1607, 45…\n  :BIOMASS_Ecoli_core_w_GAM => [0.865955, 0.865916, 0.865864, 0.866183, 0.86592…\n  :CO2t                     => [-22.9288, -22.9326, -22.9237, -22.9428, -22.924…\n  :CS                       => [6.1297, 6.08304, 6.10204, 6.20556, 6.10976, 5.9…\n  :CYTBD                    => [43.9067, 43.9084, 43.8913, 43.9244, 43.8938, 43…\n  :D_LACt2                  => [-0.00969266, -0.00937437, -0.00986709, -0.01067…\n  :ENO                      => [14.8095, 14.7638, 14.7865, 14.8858, 14.7923, 14…\n  :ETOHt2r                  => [-0.00917806, -0.00928782, -0.00930288, -0.00749…\n  ⋮                         => ⋮"
     },
     "metadata": {},
     "execution_count": 2
    }
   ],
   "cell_type": "code",
   "source": [
    "s = flux_sample(\n",
    "    model,\n",
    "    optimizer = GLPK.Optimizer,\n",
    "    objective_bound = relative_tolerance_bound(0.99),\n",
    "    n_chains = 2,\n",
    "    collect_iterations = [10],\n",
    ")"
   ],
   "metadata": {},
   "execution_count": 2
  },
  {
   "cell_type": "markdown",
   "source": [
    "The result is a tree of vectors of sampled states for each value; the order\n",
    "of the values in these vectors is fixed. You can thus e.g. create a good\n",
    "matrix for plotting the sample as 2D scatterplot:"
   ],
   "metadata": {}
  },
  {
   "outputs": [
    {
     "output_type": "execute_result",
     "data": {
      "text/plain": "380×2 Matrix{Float64}:\n 21.9534  -22.9288\n 21.9542  -22.9326\n 21.9457  -22.9237\n 21.9622  -22.9428\n 21.9469  -22.924\n 21.9552  -22.9345\n 21.9522  -22.9289\n 21.9973  -22.9735\n 21.9498  -22.9265\n 21.889   -22.8528\n  ⋮       \n 21.9067  -22.8659\n 21.9496  -22.9217\n 22.0257  -23.0018\n 21.9437  -22.9021\n 22.0406  -23.0157\n 21.9395  -22.9062\n 21.952   -22.9203\n 21.9498  -22.9354\n 21.918   -22.8816"
     },
     "metadata": {},
     "execution_count": 3
    }
   ],
   "cell_type": "code",
   "source": [
    "[s.O2t s.CO2t]"
   ],
   "metadata": {},
   "execution_count": 3
  },
  {
   "cell_type": "markdown",
   "source": [
    "---\n",
    "\n",
    "*This notebook was generated using [Literate.jl](https://github.com/fredrikekre/Literate.jl).*"
   ],
   "metadata": {}
  }
 ],
 "nbformat_minor": 3,
 "metadata": {
  "language_info": {
   "file_extension": ".jl",
   "mimetype": "application/julia",
   "name": "julia",
   "version": "1.9.4"
  },
  "kernelspec": {
   "name": "julia-1.9",
   "display_name": "Julia 1.9.4",
   "language": "julia"
  }
 },
 "nbformat": 4
}
