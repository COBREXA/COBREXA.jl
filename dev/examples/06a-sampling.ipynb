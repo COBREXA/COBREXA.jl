{
 "cells": [
  {
   "cell_type": "markdown",
   "source": [
    "# Flux sampling\n",
    "\n",
    "Flux sampling gives an interesting statistical insight into the behavior of\n",
    "the model in the optimal feasible space, and the general \"shape\" of the\n",
    "optimal- or near-optimal set of feasible states of a given model."
   ],
   "metadata": {}
  },
  {
   "cell_type": "markdown",
   "source": [
    "For demonstration, we need the usual packages and models:"
   ],
   "metadata": {}
  },
  {
   "outputs": [
    {
     "name": "stdout",
     "output_type": "stream",
     "text": [
      "[ Info: using cached `e_coli_core.json'\n"
     ]
    },
    {
     "output_type": "execute_result",
     "data": {
      "text/plain": "JSONFBCModels.JSONFBCModel(#= 95 reactions, 72 metabolites =#)"
     },
     "metadata": {},
     "execution_count": 1
    }
   ],
   "cell_type": "code",
   "source": [
    "using COBREXA\n",
    "\n",
    "download_model(\n",
    "    \"http://bigg.ucsd.edu/static/models/e_coli_core.json\",\n",
    "    \"e_coli_core.json\",\n",
    "    \"7bedec10576cfe935b19218dc881f3fb14f890a1871448fc19a9b4ee15b448d8\",\n",
    ")\n",
    "\n",
    "import JSONFBCModels, HiGHS\n",
    "\n",
    "model = load_model(\"e_coli_core.json\")"
   ],
   "metadata": {},
   "execution_count": 1
  },
  {
   "cell_type": "markdown",
   "source": [
    "Function `flux_sample` uses linear optimization to generate a set of\n",
    "warm-up points (by default, the method to generate the warm-up is basically\n",
    "FVA), and then runs the hit-and-run flux sampling algorithm on the\n",
    "near-optimal feasible space of the model:"
   ],
   "metadata": {}
  },
  {
   "outputs": [
    {
     "output_type": "execute_result",
     "data": {
      "text/plain": "ConstraintTrees.Tree{Vector{Float64}} with 95 elements:\n  :ACALD                    => [-0.0133398, -0.00913343, -0.0144071, -0.0137701…\n  :ACALDt                   => [-0.00582835, -0.0040913, -0.00673122, -0.006133…\n  :ACKr                     => [-0.0228014, -0.0176092, -0.0239361, -0.0245191,…\n  :ACONTa                   => [6.03644, 5.87013, 6.05777, 6.06388, 6.01581, 6.…\n  :ACONTb                   => [6.03644, 5.87013, 6.05777, 6.06388, 6.01581, 6.…\n  :ACt2r                    => [-0.0228014, -0.0176092, -0.0239361, -0.0245191,…\n  :ADK1                     => [0.0277344, 0.0405895, 0.0327967, 0.032987, 0.02…\n  :AKGDH                    => [4.46141, 4.01448, 4.4868, 4.50399, 4.50903, 4.4…\n  :AKGt2r                   => [-0.00176825, -0.00314814, -0.00305246, -0.00321…\n  :ALCD2x                   => [-0.00751149, -0.00504213, -0.00767591, -0.00763…\n  :ATPM                     => [8.41102, 8.4305, 8.44523, 8.44654, 8.4168, 8.49…\n  :ATPS4r                   => [45.1687, 45.5414, 45.2234, 45.2168, 45.0823, 45…\n  :BIOMASS_Ecoli_core_w_GAM => [0.865394, 0.865375, 0.865412, 0.865413, 0.86535…\n  :CO2t                     => [-22.922, -22.9817, -22.9302, -22.9275, -22.8543…\n  :CS                       => [6.03644, 5.87013, 6.05777, 6.06388, 6.01581, 6.…\n  :CYTBD                    => [43.8861, 44.0189, 43.9142, 43.9108, 43.7543, 43…\n  :D_LACt2                  => [-0.0133751, -0.00775253, -0.00949062, -0.009618…\n  :ENO                      => [14.7272, 14.5394, 14.7436, 14.7501, 14.7535, 14…\n  :ETOHt2r                  => [-0.00751149, -0.00504213, -0.00767591, -0.00763…\n  ⋮                         => ⋮"
     },
     "metadata": {},
     "execution_count": 2
    }
   ],
   "cell_type": "code",
   "source": [
    "s = flux_sample(\n",
    "    model,\n",
    "    optimizer = HiGHS.Optimizer,\n",
    "    objective_bound = relative_tolerance_bound(0.99),\n",
    "    n_chains = 2,\n",
    "    collect_iterations = [10],\n",
    ")"
   ],
   "metadata": {},
   "execution_count": 2
  },
  {
   "cell_type": "markdown",
   "source": [
    "The result is a tree of vectors of sampled states for each value; the order\n",
    "of the values in these vectors is fixed. You can thus e.g. create a good\n",
    "matrix for plotting the sample as 2D scatterplot:"
   ],
   "metadata": {}
  },
  {
   "outputs": [
    {
     "output_type": "execute_result",
     "data": {
      "text/plain": "380×2 Matrix{Float64}:\n 21.943   -22.922\n 22.0094  -22.9817\n 21.9571  -22.9302\n 21.9554  -22.9275\n 21.8772  -22.8543\n 21.9713  -22.9387\n 21.9934  -22.9714\n 22.0406  -23.0173\n 22.01    -22.9889\n 22.0482  -23.0297\n  ⋮       \n 21.9732  -22.9545\n 21.9306  -22.9038\n 21.9457  -22.9\n 21.9037  -22.8692\n 21.9572  -22.9321\n 21.9762  -22.955\n 22.0059  -22.9771\n 21.9999  -22.9788\n 22.0489  -23.0347"
     },
     "metadata": {},
     "execution_count": 3
    }
   ],
   "cell_type": "code",
   "source": [
    "[s.O2t s.CO2t]"
   ],
   "metadata": {},
   "execution_count": 3
  },
  {
   "cell_type": "markdown",
   "source": [
    "---\n",
    "\n",
    "*This notebook was generated using [Literate.jl](https://github.com/fredrikekre/Literate.jl).*"
   ],
   "metadata": {}
  }
 ],
 "nbformat_minor": 3,
 "metadata": {
  "language_info": {
   "file_extension": ".jl",
   "mimetype": "application/julia",
   "name": "julia",
   "version": "1.11.3"
  },
  "kernelspec": {
   "name": "julia-1.11",
   "display_name": "Julia 1.11.3",
   "language": "julia"
  }
 },
 "nbformat": 4
}
