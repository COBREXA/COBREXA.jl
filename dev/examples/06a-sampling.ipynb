{
 "cells": [
  {
   "cell_type": "markdown",
   "source": [
    "# Flux sampling\n",
    "\n",
    "Flux sampling gives an interesting statistical insight into the behavior of\n",
    "the model in the optimal feasible space, and the general \"shape\" of the\n",
    "optimal- or near-optimal set of feasible states of a given model."
   ],
   "metadata": {}
  },
  {
   "cell_type": "markdown",
   "source": [
    "For demonstration, we need the usual packages and models:"
   ],
   "metadata": {}
  },
  {
   "outputs": [
    {
     "name": "stdout",
     "output_type": "stream",
     "text": [
      "[ Info: using cached `e_coli_core.json'\n"
     ]
    },
    {
     "output_type": "execute_result",
     "data": {
      "text/plain": "JSONFBCModels.JSONFBCModel(#= 95 reactions, 72 metabolites =#)"
     },
     "metadata": {},
     "execution_count": 1
    }
   ],
   "cell_type": "code",
   "source": [
    "using COBREXA\n",
    "\n",
    "download_model(\n",
    "    \"http://bigg.ucsd.edu/static/models/e_coli_core.json\",\n",
    "    \"e_coli_core.json\",\n",
    "    \"7bedec10576cfe935b19218dc881f3fb14f890a1871448fc19a9b4ee15b448d8\",\n",
    ")\n",
    "\n",
    "import JSONFBCModels, HiGHS\n",
    "\n",
    "model = load_model(\"e_coli_core.json\")"
   ],
   "metadata": {},
   "execution_count": 1
  },
  {
   "cell_type": "markdown",
   "source": [
    "Function `flux_sample` uses linear optimization to generate a set of\n",
    "warm-up points (by default, the method to generate the warm-up is basically\n",
    "FVA), and then runs the hit-and-run flux sampling algorithm on the\n",
    "near-optimal feasible space of the model:"
   ],
   "metadata": {}
  },
  {
   "outputs": [
    {
     "output_type": "execute_result",
     "data": {
      "text/plain": "ConstraintTrees.Tree{Vector{Float64}} with 95 elements:\n  :ACALD                    => [-0.0258727, -0.0236744, -0.013493, -0.0136635, …\n  :ACALDt                   => [-0.0148994, -0.00441784, -0.00453303, -0.003124…\n  :ACKr                     => [-0.018618, -0.00402199, -0.0179461, -0.0103369,…\n  :ACONTa                   => [5.99042, 5.99741, 6.08665, 5.84614, 6.05893, 6.…\n  :ACONTb                   => [5.99042, 5.99741, 6.08665, 5.84614, 6.05893, 6.…\n  :ACt2r                    => [-0.018618, -0.00402199, -0.0179461, -0.0103369,…\n  :ADK1                     => [0.0239933, 0.0351743, 0.028668, 0.0225133, 0.02…\n  :AKGDH                    => [4.39392, 4.38906, 4.56408, 3.98109, 4.40762, 4.…\n  :AKGt2r                   => [-0.00317744, -0.00383071, -0.00173264, -0.00175…\n  :ALCD2x                   => [-0.0109733, -0.0192566, -0.00895999, -0.0105393…\n  :ATPM                     => [8.4206, 8.40839, 8.43575, 8.42696, 8.4096, 8.43…\n  :ATPS4r                   => [45.2314, 45.2918, 45.1409, 45.5806, 45.2395, 45…\n  :BIOMASS_Ecoli_core_w_GAM => [0.865465, 0.865598, 0.86546, 0.865492, 0.86549,…\n  :CO2t                     => [-22.8433, -22.9473, -22.9508, -22.98, -22.9273,…\n  :CS                       => [5.99042, 5.99741, 6.08665, 5.84614, 6.05893, 6.…\n  :CYTBD                    => [43.7737, 43.9083, 43.9509, 44.0008, 43.9354, 43…\n  :D_LACt2                  => [-0.00868344, -0.00646452, -0.00815536, -0.00787…\n  :ENO                      => [14.6882, 14.6739, 14.7642, 14.5149, 14.7249, 14…\n  :ETOHt2r                  => [-0.0109733, -0.0192566, -0.00895999, -0.0105393…\n  ⋮                         => ⋮"
     },
     "metadata": {},
     "execution_count": 2
    }
   ],
   "cell_type": "code",
   "source": [
    "s = flux_sample(\n",
    "    model,\n",
    "    optimizer = HiGHS.Optimizer,\n",
    "    objective_bound = relative_tolerance_bound(0.99),\n",
    "    n_chains = 2,\n",
    "    collect_iterations = [10],\n",
    ")"
   ],
   "metadata": {},
   "execution_count": 2
  },
  {
   "cell_type": "markdown",
   "source": [
    "The result is a tree of vectors of sampled states for each value; the order\n",
    "of the values in these vectors is fixed. You can thus e.g. create a good\n",
    "matrix for plotting the sample as 2D scatterplot:"
   ],
   "metadata": {}
  },
  {
   "outputs": [
    {
     "output_type": "execute_result",
     "data": {
      "text/plain": "380×2 Matrix{Float64}:\n 21.8869  -22.8433\n 21.9541  -22.9473\n 21.9754  -22.9508\n 22.0004  -22.98\n 21.9677  -22.9273\n 21.9657  -22.9389\n 21.9415  -22.8986\n 21.9383  -22.9106\n 21.9654  -22.9391\n 21.98    -22.9545\n  ⋮       \n 21.9718  -22.9489\n 21.9722  -22.9365\n 21.9824  -22.9602\n 21.9719  -22.9431\n 21.9276  -22.9028\n 21.9669  -22.9408\n 21.9684  -22.9456\n 21.9539  -22.9183\n 21.9717  -22.9469"
     },
     "metadata": {},
     "execution_count": 3
    }
   ],
   "cell_type": "code",
   "source": [
    "[s.O2t s.CO2t]"
   ],
   "metadata": {},
   "execution_count": 3
  },
  {
   "cell_type": "markdown",
   "source": [
    "---\n",
    "\n",
    "*This notebook was generated using [Literate.jl](https://github.com/fredrikekre/Literate.jl).*"
   ],
   "metadata": {}
  }
 ],
 "nbformat_minor": 3,
 "metadata": {
  "language_info": {
   "file_extension": ".jl",
   "mimetype": "application/julia",
   "name": "julia",
   "version": "1.11.5"
  },
  "kernelspec": {
   "name": "julia-1.11",
   "display_name": "Julia 1.11.5",
   "language": "julia"
  }
 },
 "nbformat": 4
}
