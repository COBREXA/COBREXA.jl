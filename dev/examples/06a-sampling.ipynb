{
 "cells": [
  {
   "cell_type": "markdown",
   "source": [
    "# Flux sampling\n",
    "\n",
    "Flux sampling gives an interesting statistical insight into the behavior of\n",
    "the model in the optimal feasible space, and the general \"shape\" of the\n",
    "optimal- or near-optimal set of feasible states of a given model."
   ],
   "metadata": {}
  },
  {
   "cell_type": "markdown",
   "source": [
    "For demonstration, we need the usual packages and models:"
   ],
   "metadata": {}
  },
  {
   "outputs": [
    {
     "name": "stdout",
     "output_type": "stream",
     "text": [
      "[ Info: using cached `e_coli_core.json'\n"
     ]
    },
    {
     "output_type": "execute_result",
     "data": {
      "text/plain": "JSONFBCModels.JSONFBCModel(#= 95 reactions, 72 metabolites =#)"
     },
     "metadata": {},
     "execution_count": 1
    }
   ],
   "cell_type": "code",
   "source": [
    "using COBREXA\n",
    "\n",
    "download_model(\n",
    "    \"http://bigg.ucsd.edu/static/models/e_coli_core.json\",\n",
    "    \"e_coli_core.json\",\n",
    "    \"7bedec10576cfe935b19218dc881f3fb14f890a1871448fc19a9b4ee15b448d8\",\n",
    ")\n",
    "\n",
    "import JSONFBCModels, HiGHS\n",
    "\n",
    "model = load_model(\"e_coli_core.json\")"
   ],
   "metadata": {},
   "execution_count": 1
  },
  {
   "cell_type": "markdown",
   "source": [
    "Function `flux_sample` uses linear optimization to generate a set of\n",
    "warm-up points (by default, the method to generate the warm-up is basically\n",
    "FVA), and then runs the hit-and-run flux sampling algorithm on the\n",
    "near-optimal feasible space of the model:"
   ],
   "metadata": {}
  },
  {
   "outputs": [
    {
     "output_type": "execute_result",
     "data": {
      "text/plain": "ConstraintTrees.Tree{Vector{Float64}} with 95 elements:\n  :ACALD                    => [-0.0221823, -0.0173634, -0.0295088, -0.0124981,…\n  :ACALDt                   => [-0.0163712, -0.00568102, -0.0175922, -0.0063471…\n  :ACKr                     => [-0.0110659, -0.0188456, -0.0195469, -0.0129796,…\n  :ACONTa                   => [6.22066, 6.14702, 6.01323, 5.97234, 5.8957, 6.0…\n  :ACONTb                   => [6.22066, 6.14702, 6.01323, 5.97234, 5.8957, 6.0…\n  :ACt2r                    => [-0.0110659, -0.0188456, -0.0195469, -0.0129796,…\n  :ADK1                     => [0.0386936, 0.0478424, 0.0335689, 0.0295356, 0.0…\n  :AKGDH                    => [4.83248, 4.69548, 4.42661, 4.20953, 4.3792, 4.4…\n  :AKGt2r                   => [-0.00324119, -0.00278075, -0.0011115, -0.001229…\n  :ALCD2x                   => [-0.00581112, -0.0116824, -0.0119166, -0.0061510…\n  :ATPM                     => [8.44224, 8.43792, 8.42529, 8.42621, 8.41204, 8.…\n  :ATPS4r                   => [44.8607, 45.0586, 45.2791, 45.3529, 45.2829, 45…\n  :BIOMASS_Ecoli_core_w_GAM => [0.86533, 0.865471, 0.865467, 0.865335, 0.865428…\n  :CO2t                     => [-22.9414, -22.9272, -22.9256, -22.9721, -22.815…\n  :CS                       => [6.22066, 6.14702, 6.01323, 5.97234, 5.8957, 6.0…\n  :CYTBD                    => [43.9332, 43.9062, 43.8789, 43.9931, 43.6623, 43…\n  :D_LACt2                  => [-0.00903683, -0.00825524, -0.00811606, -0.00863…\n  :ENO                      => [14.9011, 14.8314, 14.7058, 14.6412, 14.6552, 14…\n  :ETOHt2r                  => [-0.00581112, -0.0116824, -0.0119166, -0.0061510…\n  ⋮                         => ⋮"
     },
     "metadata": {},
     "execution_count": 2
    }
   ],
   "cell_type": "code",
   "source": [
    "s = flux_sample(\n",
    "    model,\n",
    "    optimizer = HiGHS.Optimizer,\n",
    "    objective_bound = relative_tolerance_bound(0.99),\n",
    "    n_chains = 2,\n",
    "    collect_iterations = [10],\n",
    ")"
   ],
   "metadata": {},
   "execution_count": 2
  },
  {
   "cell_type": "markdown",
   "source": [
    "The result is a tree of vectors of sampled states for each value; the order\n",
    "of the values in these vectors is fixed. You can thus e.g. create a good\n",
    "matrix for plotting the sample as 2D scatterplot:"
   ],
   "metadata": {}
  },
  {
   "outputs": [
    {
     "output_type": "execute_result",
     "data": {
      "text/plain": "380×2 Matrix{Float64}:\n 21.9666  -22.9414\n 21.9531  -22.9272\n 21.9394  -22.9256\n 21.9966  -22.9721\n 21.8312  -22.8156\n 21.9629  -22.9116\n 21.9636  -22.9349\n 21.9326  -22.8574\n 21.9841  -22.9632\n 21.9681  -22.93\n  ⋮       \n 21.9891  -22.945\n 21.9561  -22.9278\n 21.9429  -22.9335\n 21.9702  -22.9217\n 21.9565  -22.9594\n 21.9331  -22.8889\n 21.9347  -22.9117\n 22.0146  -22.9894\n 21.975   -22.9391"
     },
     "metadata": {},
     "execution_count": 3
    }
   ],
   "cell_type": "code",
   "source": [
    "[s.O2t s.CO2t]"
   ],
   "metadata": {},
   "execution_count": 3
  },
  {
   "cell_type": "markdown",
   "source": [
    "---\n",
    "\n",
    "*This notebook was generated using [Literate.jl](https://github.com/fredrikekre/Literate.jl).*"
   ],
   "metadata": {}
  }
 ],
 "nbformat_minor": 3,
 "metadata": {
  "language_info": {
   "file_extension": ".jl",
   "mimetype": "application/julia",
   "name": "julia",
   "version": "1.11.5"
  },
  "kernelspec": {
   "name": "julia-1.11",
   "display_name": "Julia 1.11.5",
   "language": "julia"
  }
 },
 "nbformat": 4
}
