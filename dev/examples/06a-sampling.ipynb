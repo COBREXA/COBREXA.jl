{
 "cells": [
  {
   "cell_type": "markdown",
   "source": [
    "# Flux sampling\n",
    "\n",
    "Flux sampling gives an interesting statistical insight into the behavior of\n",
    "the model in the optimal feasible space, and the general \"shape\" of the\n",
    "optimal- or near-optimal set of feasible states of a given model."
   ],
   "metadata": {}
  },
  {
   "cell_type": "markdown",
   "source": [
    "For demonstration, we need the usual packages and models:"
   ],
   "metadata": {}
  },
  {
   "outputs": [
    {
     "name": "stdout",
     "output_type": "stream",
     "text": [
      "[ Info: using cached `e_coli_core.json'\n"
     ]
    },
    {
     "output_type": "execute_result",
     "data": {
      "text/plain": "JSONFBCModels.JSONFBCModel(#= 95 reactions, 72 metabolites =#)"
     },
     "metadata": {},
     "execution_count": 1
    }
   ],
   "cell_type": "code",
   "source": [
    "using COBREXA\n",
    "\n",
    "download_model(\n",
    "    \"http://bigg.ucsd.edu/static/models/e_coli_core.json\",\n",
    "    \"e_coli_core.json\",\n",
    "    \"7bedec10576cfe935b19218dc881f3fb14f890a1871448fc19a9b4ee15b448d8\",\n",
    ")\n",
    "\n",
    "import JSONFBCModels, GLPK\n",
    "\n",
    "model = load_model(\"e_coli_core.json\")"
   ],
   "metadata": {},
   "execution_count": 1
  },
  {
   "cell_type": "markdown",
   "source": [
    "Function `flux_sample` uses linear optimization to generate a set of\n",
    "warm-up points (by default, the method to generate the warm-up is basically\n",
    "FVA), and then runs the hit-and-run flux sampling algorithm on the\n",
    "near-optimal feasible space of the model:"
   ],
   "metadata": {}
  },
  {
   "outputs": [
    {
     "output_type": "execute_result",
     "data": {
      "text/plain": "ConstraintTrees.Tree{Vector{Float64}} with 95 elements:\n  :ACALD                    => [-0.0199033, -0.0206432, -0.04565, -0.0109945, -…\n  :ACALDt                   => [-0.00856074, -0.006607, -0.0319534, -0.00554464…\n  :ACKr                     => [-0.0244061, -0.0205343, -0.0128996, -0.0267281,…\n  :ACONTa                   => [6.08457, 6.12593, 6.09757, 5.9574, 6.07614, 6.0…\n  :ACONTb                   => [6.08457, 6.12593, 6.09757, 5.9574, 6.07614, 6.0…\n  :ACt2r                    => [-0.0244061, -0.0205343, -0.0128996, -0.0267281,…\n  :ADK1                     => [0.0389198, 0.0340318, 0.0432594, 0.0228921, 0.0…\n  :AKGDH                    => [4.73747, 4.85156, 4.77851, 4.3535, 4.69001, 4.6…\n  :AKGt2r                   => [-0.00199601, -0.0018423, -0.00146112, -0.002070…\n  :ALCD2x                   => [-0.0113426, -0.0140362, -0.0136966, -0.00544983…\n  :ATPM                     => [8.40435, 8.40396, 8.40045, 8.40551, 8.40132, 8.…\n  :ATPS4r                   => [45.1803, 45.1221, 45.0729, 45.3981, 45.2193, 45…\n  :BIOMASS_Ecoli_core_w_GAM => [0.865844, 0.866062, 0.865747, 0.865758, 0.86590…\n  :CO2t                     => [-22.9016, -22.9034, -22.9008, -22.9282, -22.917…\n  :CS                       => [6.08457, 6.12593, 6.09757, 5.9574, 6.07614, 6.0…\n  :CYTBD                    => [43.8421, 43.8495, 43.7945, 43.9114, 43.8806, 43…\n  :D_LACt2                  => [-0.0107377, -0.00753438, -0.0105172, -0.0095519…\n  :ENO                      => [14.7801, 14.8158, 14.8053, 14.6424, 14.7604, 14…\n  :ETOHt2r                  => [-0.0113426, -0.0140362, -0.0136966, -0.00544983…\n  ⋮                         => ⋮"
     },
     "metadata": {},
     "execution_count": 2
    }
   ],
   "cell_type": "code",
   "source": [
    "s = flux_sample(\n",
    "    model,\n",
    "    optimizer = GLPK.Optimizer,\n",
    "    objective_bound = relative_tolerance_bound(0.99),\n",
    "    n_chains = 2,\n",
    "    collect_iterations = [10],\n",
    ")"
   ],
   "metadata": {},
   "execution_count": 2
  },
  {
   "cell_type": "markdown",
   "source": [
    "The result is a tree of vectors of sampled states for each value; the order\n",
    "of the values in these vectors is fixed. You can thus e.g. create a good\n",
    "matrix for plotting the sample as 2D scatterplot:"
   ],
   "metadata": {}
  },
  {
   "outputs": [
    {
     "output_type": "execute_result",
     "data": {
      "text/plain": "380×2 Matrix{Float64}:\n 21.9211  -22.9016\n 21.9247  -22.9034\n 21.8972  -22.9008\n 21.9557  -22.9282\n 21.9403  -22.9176\n 21.9159  -22.9032\n 21.907   -22.8882\n 21.8389  -22.8318\n 21.8933  -22.8687\n 21.8675  -22.8922\n  ⋮       \n 21.9077  -22.8823\n 21.9236  -22.8998\n 21.9395  -22.9136\n 21.9164  -22.8863\n 21.9532  -22.9271\n 21.8926  -22.8774\n 21.8857  -22.8446\n 21.9343  -22.9151\n 21.8905  -22.8622"
     },
     "metadata": {},
     "execution_count": 3
    }
   ],
   "cell_type": "code",
   "source": [
    "[s.O2t s.CO2t]"
   ],
   "metadata": {},
   "execution_count": 3
  },
  {
   "cell_type": "markdown",
   "source": [
    "---\n",
    "\n",
    "*This notebook was generated using [Literate.jl](https://github.com/fredrikekre/Literate.jl).*"
   ],
   "metadata": {}
  }
 ],
 "nbformat_minor": 3,
 "metadata": {
  "language_info": {
   "file_extension": ".jl",
   "mimetype": "application/julia",
   "name": "julia",
   "version": "1.9.4"
  },
  "kernelspec": {
   "name": "julia-1.9",
   "display_name": "Julia 1.9.4",
   "language": "julia"
  }
 },
 "nbformat": 4
}
