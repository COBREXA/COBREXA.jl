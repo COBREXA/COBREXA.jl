{
 "cells": [
  {
   "cell_type": "markdown",
   "source": [
    "# Flux sampling\n",
    "\n",
    "Flux sampling gives an interesting statistical insight into the behavior of\n",
    "the model in the optimal feasible space, and the general \"shape\" of the\n",
    "optimal- or near-optimal set of feasible states of a given model."
   ],
   "metadata": {}
  },
  {
   "cell_type": "markdown",
   "source": [
    "For demonstration, we need the usual packages and models:"
   ],
   "metadata": {}
  },
  {
   "outputs": [
    {
     "name": "stdout",
     "output_type": "stream",
     "text": [
      "[ Info: using cached `e_coli_core.json'\n"
     ]
    },
    {
     "output_type": "execute_result",
     "data": {
      "text/plain": "JSONFBCModels.JSONFBCModel(#= 95 reactions, 72 metabolites =#)"
     },
     "metadata": {},
     "execution_count": 1
    }
   ],
   "cell_type": "code",
   "source": [
    "using COBREXA\n",
    "\n",
    "download_model(\n",
    "    \"http://bigg.ucsd.edu/static/models/e_coli_core.json\",\n",
    "    \"e_coli_core.json\",\n",
    "    \"7bedec10576cfe935b19218dc881f3fb14f890a1871448fc19a9b4ee15b448d8\",\n",
    ")\n",
    "\n",
    "import JSONFBCModels, GLPK\n",
    "\n",
    "model = load_model(\"e_coli_core.json\")"
   ],
   "metadata": {},
   "execution_count": 1
  },
  {
   "cell_type": "markdown",
   "source": [
    "Function `flux_sample` uses linear optimization to generate a set of\n",
    "warm-up points (by default, the method to generate the warm-up is basically\n",
    "FVA), and then runs the hit-and-run flux sampling algorithm on the\n",
    "near-optimal feasible space of the model:"
   ],
   "metadata": {}
  },
  {
   "outputs": [
    {
     "output_type": "execute_result",
     "data": {
      "text/plain": "ConstraintTrees.Tree{Vector{Float64}} with 95 elements:\n  :ACALD                    => [-0.0108211, -0.00799979, -0.00760083, -0.007247…\n  :ACALDt                   => [-0.00452537, -0.00272158, -0.00224361, -0.00273…\n  :ACKr                     => [-0.0190523, -0.00686414, -0.0195082, -0.0235719…\n  :ACONTa                   => [6.15864, 6.11329, 6.10624, 6.00906, 5.98082, 6.…\n  :ACONTb                   => [6.15864, 6.11329, 6.10624, 6.00906, 5.98082, 6.…\n  :ACt2r                    => [-0.0190523, -0.00686414, -0.0195082, -0.0235719…\n  :ADK1                     => [0.0570239, 0.0470301, 0.0646115, 0.0709016, 0.0…\n  :AKGDH                    => [4.74528, 4.5688, 4.70484, 4.59175, 4.52159, 5.3…\n  :AKGt2r                   => [-0.00133955, -0.000885367, -0.00129418, -0.0015…\n  :ALCD2x                   => [-0.00629569, -0.00527821, -0.00535722, -0.00450…\n  :ATPM                     => [8.40067, 8.39355, 8.3973, 8.39809, 8.39612, 8.3…\n  :ATPS4r                   => [45.0516, 45.0716, 45.2023, 45.4623, 45.5226, 44…\n  :BIOMASS_Ecoli_core_w_GAM => [0.865923, 0.865927, 0.865936, 0.865899, 0.86594…\n  :CO2t                     => [-22.9056, -22.9591, -22.8986, -22.8749, -22.903…\n  :CS                       => [6.15864, 6.11329, 6.10624, 6.00906, 5.98082, 6.…\n  :CYTBD                    => [43.8969, 44.0027, 43.886, 43.8325, 43.876, 43.8…\n  :D_LACt2                  => [-0.00856283, -0.0043375, -0.00906915, -0.011625…\n  :ENO                      => [14.8348, 14.7702, 14.7824, 14.6931, 14.6601, 15…\n  :ETOHt2r                  => [-0.00629569, -0.00527821, -0.00535722, -0.00450…\n  ⋮                         => ⋮"
     },
     "metadata": {},
     "execution_count": 2
    }
   ],
   "cell_type": "code",
   "source": [
    "s = flux_sample(\n",
    "    model,\n",
    "    optimizer = GLPK.Optimizer,\n",
    "    objective_bound = relative_tolerance_bound(0.99),\n",
    "    n_chains = 2,\n",
    "    collect_iterations = [10],\n",
    ")"
   ],
   "metadata": {},
   "execution_count": 2
  },
  {
   "cell_type": "markdown",
   "source": [
    "The result is a tree of vectors of sampled states for each value; the order\n",
    "of the values in these vectors is fixed. You can thus e.g. create a good\n",
    "matrix for plotting the sample as 2D scatterplot:"
   ],
   "metadata": {}
  },
  {
   "outputs": [
    {
     "output_type": "execute_result",
     "data": {
      "text/plain": "380×2 Matrix{Float64}:\n 21.9484  -22.9056\n 22.0014  -22.9591\n 21.943   -22.8986\n 21.9162  -22.8749\n 21.938   -22.9032\n 21.931   -22.8963\n 21.9484  -22.9048\n 21.931   -22.8885\n 21.8852  -22.8339\n 21.879   -22.8379\n  ⋮       \n 21.9688  -22.953\n 21.8835  -22.8599\n 21.9244  -22.905\n 21.9011  -22.8895\n 21.9121  -22.8975\n 21.9811  -22.9593\n 21.8923  -22.8795\n 21.9079  -22.873\n 21.9051  -22.8902"
     },
     "metadata": {},
     "execution_count": 3
    }
   ],
   "cell_type": "code",
   "source": [
    "[s.O2t s.CO2t]"
   ],
   "metadata": {},
   "execution_count": 3
  },
  {
   "cell_type": "markdown",
   "source": [
    "---\n",
    "\n",
    "*This notebook was generated using [Literate.jl](https://github.com/fredrikekre/Literate.jl).*"
   ],
   "metadata": {}
  }
 ],
 "nbformat_minor": 3,
 "metadata": {
  "language_info": {
   "file_extension": ".jl",
   "mimetype": "application/julia",
   "name": "julia",
   "version": "1.9.4"
  },
  "kernelspec": {
   "name": "julia-1.9",
   "display_name": "Julia 1.9.4",
   "language": "julia"
  }
 },
 "nbformat": 4
}
