{
 "cells": [
  {
   "cell_type": "markdown",
   "source": [
    "# Flux sampling\n",
    "\n",
    "Flux sampling gives an interesting statistical insight into the behavior of\n",
    "the model in the optimal feasible space, and the general \"shape\" of the\n",
    "optimal- or near-optimal set of feasible states of a given model."
   ],
   "metadata": {}
  },
  {
   "cell_type": "markdown",
   "source": [
    "For demonstration, we need the usual packages and models:"
   ],
   "metadata": {}
  },
  {
   "outputs": [
    {
     "name": "stdout",
     "output_type": "stream",
     "text": [
      "[ Info: using cached `e_coli_core.json'\n"
     ]
    },
    {
     "output_type": "execute_result",
     "data": {
      "text/plain": "JSONFBCModels.JSONFBCModel(#= 95 reactions, 72 metabolites =#)"
     },
     "metadata": {},
     "execution_count": 1
    }
   ],
   "cell_type": "code",
   "source": [
    "using COBREXA\n",
    "\n",
    "download_model(\n",
    "    \"http://bigg.ucsd.edu/static/models/e_coli_core.json\",\n",
    "    \"e_coli_core.json\",\n",
    "    \"7bedec10576cfe935b19218dc881f3fb14f890a1871448fc19a9b4ee15b448d8\",\n",
    ")\n",
    "\n",
    "import JSONFBCModels, HiGHS\n",
    "\n",
    "model = load_model(\"e_coli_core.json\")"
   ],
   "metadata": {},
   "execution_count": 1
  },
  {
   "cell_type": "markdown",
   "source": [
    "Function `flux_sample` uses linear optimization to generate a set of\n",
    "warm-up points (by default, the method to generate the warm-up is basically\n",
    "FVA), and then runs the hit-and-run flux sampling algorithm on the\n",
    "near-optimal feasible space of the model:"
   ],
   "metadata": {}
  },
  {
   "outputs": [
    {
     "output_type": "execute_result",
     "data": {
      "text/plain": "ConstraintTrees.Tree{Vector{Float64}} with 95 elements:\n  :ACALD                    => [-0.0126139, -0.0191424, -0.0463597, -0.0134118,…\n  :ACALDt                   => [-0.00443223, -0.0130999, -0.0384877, -0.0049278…\n  :ACKr                     => [-0.0210252, -0.0368545, -0.0216913, -0.0199145,…\n  :ACONTa                   => [6.07192, 6.21207, 6.05374, 6.06461, 6.03815, 6.…\n  :ACONTb                   => [6.07192, 6.21207, 6.05374, 6.06461, 6.03815, 6.…\n  :ACt2r                    => [-0.0210252, -0.0368545, -0.0216913, -0.0199145,…\n  :ADK1                     => [0.0346436, 0.0668547, 0.0168046, 0.0347368, 0.0…\n  :AKGDH                    => [4.53468, 4.89602, 4.45661, 4.58185, 4.71329, 4.…\n  :AKGt2r                   => [-0.00167841, -7.93273e-5, -0.00127068, -0.00170…\n  :ALCD2x                   => [-0.00818169, -0.00604247, -0.00787195, -0.00848…\n  :ATPM                     => [8.43146, 8.41348, 8.42265, 8.43446, 8.44255, 8.…\n  :ATPS4r                   => [45.2518, 45.165, 45.1137, 45.2735, 45.1775, 45.…\n  :BIOMASS_Ecoli_core_w_GAM => [0.865426, 0.865271, 0.865359, 0.865444, 0.86554…\n  :CO2t                     => [-22.9377, -22.9066, -22.9103, -22.9277, -22.860…\n  :CS                       => [6.07192, 6.21207, 6.05374, 6.06461, 6.03815, 6.…\n  :CYTBD                    => [43.9422, 43.8789, 43.8331, 43.9271, 43.7946, 43…\n  :D_LACt2                  => [-0.0072135, -0.0123401, -0.0064216, -0.00809962…\n  :ENO                      => [14.7491, 14.9082, 14.7607, 14.7427, 14.7435, 14…\n  :ETOHt2r                  => [-0.00818169, -0.00604247, -0.00787195, -0.00848…\n  ⋮                         => ⋮"
     },
     "metadata": {},
     "execution_count": 2
    }
   ],
   "cell_type": "code",
   "source": [
    "s = flux_sample(\n",
    "    model,\n",
    "    optimizer = HiGHS.Optimizer,\n",
    "    objective_bound = relative_tolerance_bound(0.99),\n",
    "    n_chains = 2,\n",
    "    collect_iterations = [10],\n",
    ")"
   ],
   "metadata": {},
   "execution_count": 2
  },
  {
   "cell_type": "markdown",
   "source": [
    "The result is a tree of vectors of sampled states for each value; the order\n",
    "of the values in these vectors is fixed. You can thus e.g. create a good\n",
    "matrix for plotting the sample as 2D scatterplot:"
   ],
   "metadata": {}
  },
  {
   "outputs": [
    {
     "output_type": "execute_result",
     "data": {
      "text/plain": "380×2 Matrix{Float64}:\n 21.9711  -22.9377\n 21.9394  -22.9066\n 21.9166  -22.9103\n 21.9636  -22.9277\n 21.8973  -22.8607\n 21.9892  -22.96\n 21.9637  -22.9291\n 21.9735  -22.9405\n 21.981   -22.9502\n 21.9752  -22.9424\n  ⋮       \n 21.9603  -22.9291\n 22.019   -22.9991\n 21.9443  -22.9247\n 21.9602  -22.9392\n 21.9506  -22.9225\n 21.9489  -22.9237\n 21.928   -22.9189\n 21.9337  -22.9254\n 21.9309  -22.899"
     },
     "metadata": {},
     "execution_count": 3
    }
   ],
   "cell_type": "code",
   "source": [
    "[s.O2t s.CO2t]"
   ],
   "metadata": {},
   "execution_count": 3
  },
  {
   "cell_type": "markdown",
   "source": [
    "---\n",
    "\n",
    "*This notebook was generated using [Literate.jl](https://github.com/fredrikekre/Literate.jl).*"
   ],
   "metadata": {}
  }
 ],
 "nbformat_minor": 3,
 "metadata": {
  "language_info": {
   "file_extension": ".jl",
   "mimetype": "application/julia",
   "name": "julia",
   "version": "1.11.5"
  },
  "kernelspec": {
   "name": "julia-1.11",
   "display_name": "Julia 1.11.5",
   "language": "julia"
  }
 },
 "nbformat": 4
}
