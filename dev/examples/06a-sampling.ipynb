{
 "cells": [
  {
   "cell_type": "markdown",
   "source": [
    "# Flux sampling\n",
    "\n",
    "Flux sampling gives an interesting statistical insight into the behavior of\n",
    "the model in the optimal feasible space, and the general \"shape\" of the\n",
    "optimal- or near-optimal set of feasible states of a given model."
   ],
   "metadata": {}
  },
  {
   "cell_type": "markdown",
   "source": [
    "For demonstration, we need the usual packages and models:"
   ],
   "metadata": {}
  },
  {
   "outputs": [
    {
     "name": "stdout",
     "output_type": "stream",
     "text": [
      "[ Info: using cached `e_coli_core.json'\n"
     ]
    },
    {
     "output_type": "execute_result",
     "data": {
      "text/plain": "JSONFBCModels.JSONFBCModel(#= 95 reactions, 72 metabolites =#)"
     },
     "metadata": {},
     "execution_count": 1
    }
   ],
   "cell_type": "code",
   "source": [
    "using COBREXA\n",
    "\n",
    "download_model(\n",
    "    \"http://bigg.ucsd.edu/static/models/e_coli_core.json\",\n",
    "    \"e_coli_core.json\",\n",
    "    \"7bedec10576cfe935b19218dc881f3fb14f890a1871448fc19a9b4ee15b448d8\",\n",
    ")\n",
    "\n",
    "import JSONFBCModels, HiGHS\n",
    "\n",
    "model = load_model(\"e_coli_core.json\")"
   ],
   "metadata": {},
   "execution_count": 1
  },
  {
   "cell_type": "markdown",
   "source": [
    "Function `flux_sample` uses linear optimization to generate a set of\n",
    "warm-up points (by default, the method to generate the warm-up is basically\n",
    "FVA), and then runs the hit-and-run flux sampling algorithm on the\n",
    "near-optimal feasible space of the model:"
   ],
   "metadata": {}
  },
  {
   "outputs": [
    {
     "output_type": "execute_result",
     "data": {
      "text/plain": "ConstraintTrees.Tree{Vector{Float64}} with 95 elements:\n  :ACALD                    => [-0.0135216, -0.0107533, -0.0165282, -0.0181028,…\n  :ACALDt                   => [-0.00415211, -0.00550243, -0.00783537, -0.00538…\n  :ACKr                     => [-0.0187412, -0.0184366, -0.0193798, -0.0150967,…\n  :ACONTa                   => [6.11987, 6.08016, 6.11901, 6.24938, 6.06515, 6.…\n  :ACONTb                   => [6.11987, 6.08016, 6.11901, 6.24938, 6.06515, 6.…\n  :ACt2r                    => [-0.0187412, -0.0184366, -0.0193798, -0.0150967,…\n  :ADK1                     => [0.0450007, 0.0188952, 0.0530385, 0.062818, 0.03…\n  :AKGDH                    => [4.55506, 4.49848, 4.59445, 4.8326, 4.43934, 4.5…\n  :AKGt2r                   => [-0.00188512, -0.00325077, -0.00192708, -0.00130…\n  :ALCD2x                   => [-0.00936951, -0.00525089, -0.00869279, -0.01272…\n  :ATPM                     => [8.43887, 8.48305, 8.44845, 8.45496, 8.43444, 8.…\n  :ATPS4r                   => [45.1213, 45.282, 45.1678, 44.9446, 45.1765, 45.…\n  :BIOMASS_Ecoli_core_w_GAM => [0.86547, 0.865819, 0.865469, 0.865536, 0.865421…\n  :CO2t                     => [-22.95, -22.8998, -22.9527, -22.9366, -22.9503,…\n  :CS                       => [6.11987, 6.08016, 6.11901, 6.24938, 6.06515, 6.…\n  :CYTBD                    => [43.9479, 43.8639, 43.939, 43.9161, 43.944, 43.9…\n  :D_LACt2                  => [-0.0078807, -0.00704617, -0.00906426, -0.006318…\n  :ENO                      => [14.7988, 14.7695, 14.8014, 14.9327, 14.7482, 14…\n  :ETOHt2r                  => [-0.00936951, -0.00525089, -0.00869279, -0.01272…\n  ⋮                         => ⋮"
     },
     "metadata": {},
     "execution_count": 2
    }
   ],
   "cell_type": "code",
   "source": [
    "s = flux_sample(\n",
    "    model,\n",
    "    optimizer = HiGHS.Optimizer,\n",
    "    objective_bound = relative_tolerance_bound(0.99),\n",
    "    n_chains = 2,\n",
    "    collect_iterations = [10],\n",
    ")"
   ],
   "metadata": {},
   "execution_count": 2
  },
  {
   "cell_type": "markdown",
   "source": [
    "The result is a tree of vectors of sampled states for each value; the order\n",
    "of the values in these vectors is fixed. You can thus e.g. create a good\n",
    "matrix for plotting the sample as 2D scatterplot:"
   ],
   "metadata": {}
  },
  {
   "outputs": [
    {
     "output_type": "execute_result",
     "data": {
      "text/plain": "380×2 Matrix{Float64}:\n 21.9739  -22.95\n 21.9319  -22.8998\n 21.9695  -22.9527\n 21.958   -22.9366\n 21.972   -22.9503\n 21.971   -22.9416\n 21.9392  -22.9059\n 21.9337  -22.909\n 21.9336  -22.9069\n 22.0309  -23.012\n  ⋮       \n 21.967   -22.9371\n 21.9787  -22.9505\n 21.9937  -22.968\n 21.9656  -22.93\n 22.0354  -23.0155\n 22.0015  -22.9818\n 21.9849  -22.9589\n 21.9744  -22.946\n 21.9922  -22.9728"
     },
     "metadata": {},
     "execution_count": 3
    }
   ],
   "cell_type": "code",
   "source": [
    "[s.O2t s.CO2t]"
   ],
   "metadata": {},
   "execution_count": 3
  },
  {
   "cell_type": "markdown",
   "source": [
    "---\n",
    "\n",
    "*This notebook was generated using [Literate.jl](https://github.com/fredrikekre/Literate.jl).*"
   ],
   "metadata": {}
  }
 ],
 "nbformat_minor": 3,
 "metadata": {
  "language_info": {
   "file_extension": ".jl",
   "mimetype": "application/julia",
   "name": "julia",
   "version": "1.9.4"
  },
  "kernelspec": {
   "name": "julia-1.9",
   "display_name": "Julia 1.9.4",
   "language": "julia"
  }
 },
 "nbformat": 4
}
