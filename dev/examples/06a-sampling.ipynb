{
 "cells": [
  {
   "cell_type": "markdown",
   "source": [
    "# Flux sampling\n",
    "\n",
    "Flux sampling gives an interesting statistical insight into the behavior of\n",
    "the model in the optimal feasible space, and the general \"shape\" of the\n",
    "optimal- or near-optimal set of feasible states of a given model."
   ],
   "metadata": {}
  },
  {
   "cell_type": "markdown",
   "source": [
    "For demonstration, we need the usual packages and models:"
   ],
   "metadata": {}
  },
  {
   "outputs": [
    {
     "name": "stdout",
     "output_type": "stream",
     "text": [
      "[ Info: using cached `e_coli_core.json'\n"
     ]
    },
    {
     "output_type": "execute_result",
     "data": {
      "text/plain": "JSONFBCModels.JSONFBCModel(#= 95 reactions, 72 metabolites =#)"
     },
     "metadata": {},
     "execution_count": 1
    }
   ],
   "cell_type": "code",
   "source": [
    "using COBREXA\n",
    "\n",
    "download_model(\n",
    "    \"http://bigg.ucsd.edu/static/models/e_coli_core.json\",\n",
    "    \"e_coli_core.json\",\n",
    "    \"7bedec10576cfe935b19218dc881f3fb14f890a1871448fc19a9b4ee15b448d8\",\n",
    ")\n",
    "\n",
    "import JSONFBCModels, GLPK\n",
    "\n",
    "model = load_model(\"e_coli_core.json\")"
   ],
   "metadata": {},
   "execution_count": 1
  },
  {
   "cell_type": "markdown",
   "source": [
    "Function `flux_sample` uses linear optimization to generate a set of\n",
    "warm-up points (by default, the method to generate the warm-up is basically\n",
    "FVA), and then runs the hit-and-run flux sampling algorithm on the\n",
    "near-optimal feasible space of the model:"
   ],
   "metadata": {}
  },
  {
   "outputs": [
    {
     "output_type": "execute_result",
     "data": {
      "text/plain": "ConstraintTrees.Tree{Vector{Float64}} with 95 elements:\n  :ACALD                    => [-0.0400954, -0.0137894, -0.0156976, -0.0123051,…\n  :ACALDt                   => [-0.0326507, -0.00628739, -0.0088167, -0.0054746…\n  :ACKr                     => [-0.0167831, -0.0202394, -0.0210523, -0.0179615,…\n  :ACONTa                   => [6.12876, 6.03729, 6.09987, 6.14564, 6.12687, 5.…\n  :ACONTb                   => [6.12876, 6.03729, 6.09987, 6.14564, 6.12687, 5.…\n  :ACt2r                    => [-0.0167831, -0.0202394, -0.0210523, -0.0179615,…\n  :ADK1                     => [0.0199917, 0.0285503, 0.021334, 0.0344464, 0.03…\n  :AKGDH                    => [4.72835, 4.56135, 4.63625, 4.71825, 4.61462, 4.…\n  :AKGt2r                   => [-0.00165587, -0.00169748, -0.00189561, -0.00126…\n  :ALCD2x                   => [-0.00744466, -0.00750199, -0.00688087, -0.00683…\n  :ATPM                     => [8.39516, 8.42266, 8.41419, 8.41953, 8.39983, 8.…\n  :ATPS4r                   => [44.9611, 45.282, 45.0922, 45.0865, 45.0652, 45.…\n  :BIOMASS_Ecoli_core_w_GAM => [0.86575, 0.865802, 0.866046, 0.865894, 0.865783…\n  :CO2t                     => [-22.8876, -22.8946, -22.9277, -22.9033, -22.894…\n  :CS                       => [6.12876, 6.03729, 6.09987, 6.14564, 6.12687, 5.…\n  :CYTBD                    => [43.7927, 43.8489, 43.8862, 43.8701, 43.8408, 43…\n  :D_LACt2                  => [-0.0092715, -0.0143542, -0.00854674, -0.0133126…\n  :ENO                      => [14.8324, 14.7254, 14.785, 14.8284, 14.8217, 14.…\n  :ETOHt2r                  => [-0.00744466, -0.00750199, -0.00688087, -0.00683…\n  ⋮                         => ⋮"
     },
     "metadata": {},
     "execution_count": 2
    }
   ],
   "cell_type": "code",
   "source": [
    "s = flux_sample(\n",
    "    model,\n",
    "    optimizer = GLPK.Optimizer,\n",
    "    objective_bound = relative_tolerance_bound(0.99),\n",
    "    n_chains = 2,\n",
    "    collect_iterations = [10],\n",
    ")"
   ],
   "metadata": {},
   "execution_count": 2
  },
  {
   "cell_type": "markdown",
   "source": [
    "The result is a tree of vectors of sampled states for each value; the order\n",
    "of the values in these vectors is fixed. You can thus e.g. create a good\n",
    "matrix for plotting the sample as 2D scatterplot:"
   ],
   "metadata": {}
  },
  {
   "outputs": [
    {
     "output_type": "execute_result",
     "data": {
      "text/plain": "380×2 Matrix{Float64}:\n 21.8963  -22.8876\n 21.9245  -22.8946\n 21.9431  -22.9277\n 21.935   -22.9033\n 21.9204  -22.894\n 21.9812  -22.9508\n 21.9275  -22.8944\n 21.9325  -22.8959\n 21.8538  -22.8151\n 21.9397  -22.9139\n  ⋮       \n 22.0031  -22.9843\n 21.9871  -22.9637\n 21.9827  -22.9495\n 21.9714  -22.9583\n 21.928   -22.9084\n 21.9616  -22.9378\n 21.9217  -22.8922\n 21.969   -22.9464\n 21.9558  -22.9303"
     },
     "metadata": {},
     "execution_count": 3
    }
   ],
   "cell_type": "code",
   "source": [
    "[s.O2t s.CO2t]"
   ],
   "metadata": {},
   "execution_count": 3
  },
  {
   "cell_type": "markdown",
   "source": [
    "---\n",
    "\n",
    "*This notebook was generated using [Literate.jl](https://github.com/fredrikekre/Literate.jl).*"
   ],
   "metadata": {}
  }
 ],
 "nbformat_minor": 3,
 "metadata": {
  "language_info": {
   "file_extension": ".jl",
   "mimetype": "application/julia",
   "name": "julia",
   "version": "1.9.4"
  },
  "kernelspec": {
   "name": "julia-1.9",
   "display_name": "Julia 1.9.4",
   "language": "julia"
  }
 },
 "nbformat": 4
}
