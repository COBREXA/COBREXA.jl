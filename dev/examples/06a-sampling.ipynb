{
 "cells": [
  {
   "cell_type": "markdown",
   "source": [
    "# Flux sampling\n",
    "\n",
    "Flux sampling gives an interesting statistical insight into the behavior of\n",
    "the model in the optimal feasible space, and the general \"shape\" of the\n",
    "optimal- or near-optimal set of feasible states of a given model."
   ],
   "metadata": {}
  },
  {
   "cell_type": "markdown",
   "source": [
    "For demonstration, we need the usual packages and models:"
   ],
   "metadata": {}
  },
  {
   "outputs": [
    {
     "name": "stdout",
     "output_type": "stream",
     "text": [
      "[ Info: using cached `e_coli_core.json'\n"
     ]
    },
    {
     "output_type": "execute_result",
     "data": {
      "text/plain": "JSONFBCModels.JSONFBCModel(#= 95 reactions, 72 metabolites =#)"
     },
     "metadata": {},
     "execution_count": 1
    }
   ],
   "cell_type": "code",
   "source": [
    "using COBREXA\n",
    "\n",
    "download_model(\n",
    "    \"http://bigg.ucsd.edu/static/models/e_coli_core.json\",\n",
    "    \"e_coli_core.json\",\n",
    "    \"7bedec10576cfe935b19218dc881f3fb14f890a1871448fc19a9b4ee15b448d8\",\n",
    ")\n",
    "\n",
    "import JSONFBCModels, HiGHS\n",
    "\n",
    "model = load_model(\"e_coli_core.json\")"
   ],
   "metadata": {},
   "execution_count": 1
  },
  {
   "cell_type": "markdown",
   "source": [
    "Function `flux_sample` uses linear optimization to generate a set of\n",
    "warm-up points (by default, the method to generate the warm-up is basically\n",
    "FVA), and then runs the hit-and-run flux sampling algorithm on the\n",
    "near-optimal feasible space of the model:"
   ],
   "metadata": {}
  },
  {
   "outputs": [
    {
     "output_type": "execute_result",
     "data": {
      "text/plain": "ConstraintTrees.Tree{Vector{Float64}} with 95 elements:\n  :ACALD                    => [-0.0220873, -0.0165066, -0.035822, -0.0172831, …\n  :ACALDt                   => [-0.0113237, -0.00650915, -0.026799, -0.00731813…\n  :ACKr                     => [-0.0130726, -0.0174297, -0.0154313, -0.0166454,…\n  :ACONTa                   => [6.09165, 6.10764, 6.07789, 6.08882, 6.11855, 6.…\n  :ACONTb                   => [6.09165, 6.10764, 6.07789, 6.08882, 6.11855, 6.…\n  :ACt2r                    => [-0.0130726, -0.0174297, -0.0154313, -0.0166454,…\n  :ADK1                     => [0.0533997, 0.04836, 0.0392822, 0.042591, 0.0433…\n  :AKGDH                    => [4.70216, 4.59314, 4.6345, 4.59139, 4.70542, 4.1…\n  :AKGt2r                   => [-0.007973, -0.00500591, -0.00434713, -0.0045853…\n  :ALCD2x                   => [-0.0107636, -0.00999744, -0.00902296, -0.009964…\n  :ATPM                     => [8.41106, 8.41522, 8.41193, 8.41367, 8.40777, 8.…\n  :ATPS4r                   => [45.1792, 45.1229, 45.1477, 45.1683, 45.0988, 45…\n  :BIOMASS_Ecoli_core_w_GAM => [0.865461, 0.865461, 0.865443, 0.865465, 0.86529…\n  :CO2t                     => [-22.9134, -22.9399, -22.914, -22.9372, -22.8865…\n  :CS                       => [6.09165, 6.10764, 6.07789, 6.08882, 6.11855, 6.…\n  :CYTBD                    => [43.8732, 43.9244, 43.8498, 43.9179, 43.8333, 44…\n  :D_LACt2                  => [-0.00565059, -0.00658086, -0.00613109, -0.00668…\n  :ENO                      => [14.7773, 14.7896, 14.7751, 14.7706, 14.8135, 14…\n  :ETOHt2r                  => [-0.0107636, -0.00999744, -0.00902296, -0.009964…\n  ⋮                         => ⋮"
     },
     "metadata": {},
     "execution_count": 2
    }
   ],
   "cell_type": "code",
   "source": [
    "s = flux_sample(\n",
    "    model,\n",
    "    optimizer = HiGHS.Optimizer,\n",
    "    objective_bound = relative_tolerance_bound(0.99),\n",
    "    n_chains = 2,\n",
    "    collect_iterations = [10],\n",
    ")"
   ],
   "metadata": {},
   "execution_count": 2
  },
  {
   "cell_type": "markdown",
   "source": [
    "The result is a tree of vectors of sampled states for each value; the order\n",
    "of the values in these vectors is fixed. You can thus e.g. create a good\n",
    "matrix for plotting the sample as 2D scatterplot:"
   ],
   "metadata": {}
  },
  {
   "outputs": [
    {
     "output_type": "execute_result",
     "data": {
      "text/plain": "380×2 Matrix{Float64}:\n 21.9366  -22.9134\n 21.9622  -22.9399\n 21.9249  -22.914\n 21.959   -22.9372\n 21.9166  -22.8865\n 22.0165  -22.9925\n 21.9749  -22.964\n 21.9489  -22.9231\n 21.8959  -22.851\n 21.9483  -22.9252\n  ⋮       \n 21.9618  -22.9251\n 21.9579  -22.9144\n 21.9806  -22.949\n 21.9441  -22.8844\n 21.9229  -22.8623\n 21.9698  -22.9319\n 21.9628  -22.917\n 21.9275  -22.8422\n 21.9557  -22.9086"
     },
     "metadata": {},
     "execution_count": 3
    }
   ],
   "cell_type": "code",
   "source": [
    "[s.O2t s.CO2t]"
   ],
   "metadata": {},
   "execution_count": 3
  },
  {
   "cell_type": "markdown",
   "source": [
    "---\n",
    "\n",
    "*This notebook was generated using [Literate.jl](https://github.com/fredrikekre/Literate.jl).*"
   ],
   "metadata": {}
  }
 ],
 "nbformat_minor": 3,
 "metadata": {
  "language_info": {
   "file_extension": ".jl",
   "mimetype": "application/julia",
   "name": "julia",
   "version": "1.11.2"
  },
  "kernelspec": {
   "name": "julia-1.11",
   "display_name": "Julia 1.11.2",
   "language": "julia"
  }
 },
 "nbformat": 4
}
