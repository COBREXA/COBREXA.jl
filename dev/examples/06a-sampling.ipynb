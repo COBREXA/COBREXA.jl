{
 "cells": [
  {
   "cell_type": "markdown",
   "source": [
    "# Flux sampling\n",
    "\n",
    "Flux sampling gives an interesting statistical insight into the behavior of\n",
    "the model in the optimal feasible space, and the general \"shape\" of the\n",
    "optimal- or near-optimal set of feasible states of a given model."
   ],
   "metadata": {}
  },
  {
   "cell_type": "markdown",
   "source": [
    "For demonstration, we need the usual packages and models:"
   ],
   "metadata": {}
  },
  {
   "outputs": [
    {
     "name": "stdout",
     "output_type": "stream",
     "text": [
      "[ Info: using cached `e_coli_core.json'\n"
     ]
    },
    {
     "output_type": "execute_result",
     "data": {
      "text/plain": "JSONFBCModels.JSONFBCModel(#= 95 reactions, 72 metabolites =#)"
     },
     "metadata": {},
     "execution_count": 1
    }
   ],
   "cell_type": "code",
   "source": [
    "using COBREXA\n",
    "\n",
    "download_model(\n",
    "    \"http://bigg.ucsd.edu/static/models/e_coli_core.json\",\n",
    "    \"e_coli_core.json\",\n",
    "    \"7bedec10576cfe935b19218dc881f3fb14f890a1871448fc19a9b4ee15b448d8\",\n",
    ")\n",
    "\n",
    "import JSONFBCModels, HiGHS\n",
    "\n",
    "model = load_model(\"e_coli_core.json\")"
   ],
   "metadata": {},
   "execution_count": 1
  },
  {
   "cell_type": "markdown",
   "source": [
    "Function `flux_sample` uses linear optimization to generate a set of\n",
    "warm-up points (by default, the method to generate the warm-up is basically\n",
    "FVA), and then runs the hit-and-run flux sampling algorithm on the\n",
    "near-optimal feasible space of the model:"
   ],
   "metadata": {}
  },
  {
   "outputs": [
    {
     "output_type": "execute_result",
     "data": {
      "text/plain": "ConstraintTrees.Tree{Vector{Float64}} with 95 elements:\n  :ACALD                    => [-0.0111521, -0.0130518, -0.0206687, -0.0108118,…\n  :ACALDt                   => [-0.00479022, -0.00356544, -0.012345, -0.0016016…\n  :ACKr                     => [-0.0229663, -0.0228364, -0.0214006, -0.0152787,…\n  :ACONTa                   => [6.03781, 6.08088, 6.04981, 5.74911, 6.09063, 5.…\n  :ACONTb                   => [6.03781, 6.08088, 6.04981, 5.74911, 6.09063, 5.…\n  :ACt2r                    => [-0.0229663, -0.0228364, -0.0214006, -0.0152787,…\n  :ADK1                     => [0.0248708, 0.0298813, 0.0297454, 0.00855105, 0.…\n  :AKGDH                    => [4.4793, 4.679, 4.4976, 3.83913, 4.58789, 4.3401…\n  :AKGt2r                   => [-0.00120333, -0.00178468, -0.00160434, -0.00113…\n  :ALCD2x                   => [-0.00636184, -0.00948637, -0.00832366, -0.00921…\n  :ATPM                     => [8.44844, 8.4676, 8.43462, 8.46719, 8.45417, 8.4…\n  :ATPS4r                   => [45.2916, 45.2032, 45.2027, 45.9143, 45.2219, 45…\n  :BIOMASS_Ecoli_core_w_GAM => [0.865448, 0.86545, 0.86542, 0.865444, 0.865427,…\n  :CO2t                     => [-22.9354, -22.8979, -22.9233, -22.9862, -22.918…\n  :CS                       => [6.03781, 6.08088, 6.04981, 5.74911, 6.09063, 5.…\n  :CYTBD                    => [43.9414, 43.8763, 43.899, 44.0269, 43.9185, 43.…\n  :D_LACt2                  => [-0.0089281, -0.00996579, -0.00779158, -0.004598…\n  :ENO                      => [14.7179, 14.7657, 14.7369, 14.4158, 14.7711, 14…\n  :ETOHt2r                  => [-0.00636184, -0.00948637, -0.00832366, -0.00921…\n  ⋮                         => ⋮"
     },
     "metadata": {},
     "execution_count": 2
    }
   ],
   "cell_type": "code",
   "source": [
    "s = flux_sample(\n",
    "    model,\n",
    "    optimizer = HiGHS.Optimizer,\n",
    "    objective_bound = relative_tolerance_bound(0.99),\n",
    "    n_chains = 2,\n",
    "    collect_iterations = [10],\n",
    ")"
   ],
   "metadata": {},
   "execution_count": 2
  },
  {
   "cell_type": "markdown",
   "source": [
    "The result is a tree of vectors of sampled states for each value; the order\n",
    "of the values in these vectors is fixed. You can thus e.g. create a good\n",
    "matrix for plotting the sample as 2D scatterplot:"
   ],
   "metadata": {}
  },
  {
   "outputs": [
    {
     "output_type": "execute_result",
     "data": {
      "text/plain": "380×2 Matrix{Float64}:\n 21.9707  -22.9354\n 21.9381  -22.8979\n 21.9495  -22.9233\n 22.0135  -22.9862\n 21.9593  -22.9189\n 21.9631  -22.947\n 22.0256  -22.9934\n 21.9814  -22.9475\n 21.9551  -22.9256\n 21.95    -22.9235\n  ⋮       \n 21.9467  -22.9235\n 22.0325  -23.0143\n 21.9102  -22.8821\n 21.9633  -22.9318\n 22.0014  -22.9822\n 21.9839  -22.9438\n 22.0059  -22.9759\n 21.9675  -22.9269\n 21.9678  -22.9362"
     },
     "metadata": {},
     "execution_count": 3
    }
   ],
   "cell_type": "code",
   "source": [
    "[s.O2t s.CO2t]"
   ],
   "metadata": {},
   "execution_count": 3
  },
  {
   "cell_type": "markdown",
   "source": [
    "---\n",
    "\n",
    "*This notebook was generated using [Literate.jl](https://github.com/fredrikekre/Literate.jl).*"
   ],
   "metadata": {}
  }
 ],
 "nbformat_minor": 3,
 "metadata": {
  "language_info": {
   "file_extension": ".jl",
   "mimetype": "application/julia",
   "name": "julia",
   "version": "1.9.4"
  },
  "kernelspec": {
   "name": "julia-1.9",
   "display_name": "Julia 1.9.4",
   "language": "julia"
  }
 },
 "nbformat": 4
}
