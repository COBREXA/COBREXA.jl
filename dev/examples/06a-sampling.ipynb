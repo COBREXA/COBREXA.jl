{
 "cells": [
  {
   "cell_type": "markdown",
   "source": [
    "# Flux sampling\n",
    "\n",
    "Flux sampling gives an interesting statistical insight into the behavior of\n",
    "the model in the optimal feasible space, and the general \"shape\" of the\n",
    "optimal- or near-optimal set of feasible states of a given model."
   ],
   "metadata": {}
  },
  {
   "cell_type": "markdown",
   "source": [
    "For demonstration, we need the usual packages and models:"
   ],
   "metadata": {}
  },
  {
   "outputs": [
    {
     "name": "stdout",
     "output_type": "stream",
     "text": [
      "[ Info: using cached `e_coli_core.json'\n"
     ]
    },
    {
     "output_type": "execute_result",
     "data": {
      "text/plain": "JSONFBCModels.JSONFBCModel(#= 95 reactions, 72 metabolites =#)"
     },
     "metadata": {},
     "execution_count": 1
    }
   ],
   "cell_type": "code",
   "source": [
    "using COBREXA\n",
    "\n",
    "download_model(\n",
    "    \"http://bigg.ucsd.edu/static/models/e_coli_core.json\",\n",
    "    \"e_coli_core.json\",\n",
    "    \"7bedec10576cfe935b19218dc881f3fb14f890a1871448fc19a9b4ee15b448d8\",\n",
    ")\n",
    "\n",
    "import JSONFBCModels, GLPK\n",
    "\n",
    "model = load_model(\"e_coli_core.json\")"
   ],
   "metadata": {},
   "execution_count": 1
  },
  {
   "cell_type": "markdown",
   "source": [
    "Function `flux_sample` uses linear optimization to generate a set of\n",
    "warm-up points (by default, the method to generate the warm-up is basically\n",
    "FVA), and then runs the hit-and-run flux sampling algorithm on the\n",
    "near-optimal feasible space of the model:"
   ],
   "metadata": {}
  },
  {
   "outputs": [
    {
     "output_type": "execute_result",
     "data": {
      "text/plain": "ConstraintTrees.Tree{Vector{Float64}} with 95 elements:\n  :ACALD                    => [-0.0200654, -0.0153589, -0.0183869, -0.0162663,…\n  :ACALDt                   => [-0.00697919, -0.00593153, -0.00804816, -0.00617…\n  :ACKr                     => [-0.0204598, -0.0249701, -0.0244626, -0.023227, …\n  :ACONTa                   => [6.11786, 5.91934, 6.06459, 6.06631, 6.03643, 6.…\n  :ACONTb                   => [6.11786, 5.91934, 6.06459, 6.06631, 6.03643, 6.…\n  :ACt2r                    => [-0.0204598, -0.0249701, -0.0244626, -0.023227, …\n  :ADK1                     => [0.0363796, 0.0447524, 0.0361994, 0.0343473, 0.0…\n  :AKGDH                    => [4.6654, 4.16741, 4.59931, 4.56952, 4.64992, 5.0…\n  :AKGt2r                   => [-0.00173425, -0.00253246, -0.00166091, -0.00157…\n  :ALCD2x                   => [-0.0130862, -0.00942735, -0.0103388, -0.0100922…\n  :ATPM                     => [8.40008, 8.39501, 8.40099, 8.39961, 8.3986, 8.4…\n  :ATPS4r                   => [45.1052, 45.474, 45.2018, 45.1835, 45.0797, 44.…\n  :BIOMASS_Ecoli_core_w_GAM => [0.865993, 0.865873, 0.865937, 0.865948, 0.86585…\n  :CO2t                     => [-22.9204, -22.9271, -22.8995, -22.9163, -22.841…\n  :CS                       => [6.11786, 5.91934, 6.06459, 6.06631, 6.03643, 6.…\n  :CYTBD                    => [43.8759, 43.8876, 43.846, 43.8756, 43.7235, 43.…\n  :D_LACt2                  => [-0.00678542, -0.00724982, -0.00868576, -0.00837…\n  :ENO                      => [14.8031, 14.6076, 14.7572, 14.754, 14.771, 15.0…\n  :ETOHt2r                  => [-0.0130862, -0.00942735, -0.0103388, -0.0100922…\n  ⋮                         => ⋮"
     },
     "metadata": {},
     "execution_count": 2
    }
   ],
   "cell_type": "code",
   "source": [
    "s = flux_sample(\n",
    "    model,\n",
    "    optimizer = GLPK.Optimizer,\n",
    "    objective_bound = relative_tolerance_bound(0.99),\n",
    "    n_chains = 2,\n",
    "    collect_iterations = [10],\n",
    ")"
   ],
   "metadata": {},
   "execution_count": 2
  },
  {
   "cell_type": "markdown",
   "source": [
    "The result is a tree of vectors of sampled states for each value; the order\n",
    "of the values in these vectors is fixed. You can thus e.g. create a good\n",
    "matrix for plotting the sample as 2D scatterplot:"
   ],
   "metadata": {}
  },
  {
   "outputs": [
    {
     "output_type": "execute_result",
     "data": {
      "text/plain": "380×2 Matrix{Float64}:\n 21.938   -22.9204\n 21.9438  -22.9271\n 21.923   -22.8995\n 21.9378  -22.9163\n 21.8618  -22.8417\n 21.9209  -22.8847\n 21.9483  -22.9273\n 21.9355  -22.9138\n 21.942   -22.9177\n 21.9404  -22.9163\n  ⋮       \n 21.9099  -22.8742\n 21.8961  -22.8669\n 21.9066  -22.8739\n 21.9353  -22.9065\n 21.9545  -22.937\n 21.9697  -22.9439\n 21.8646  -22.8292\n 21.878   -22.8346\n 21.8914  -22.857"
     },
     "metadata": {},
     "execution_count": 3
    }
   ],
   "cell_type": "code",
   "source": [
    "[s.O2t s.CO2t]"
   ],
   "metadata": {},
   "execution_count": 3
  },
  {
   "cell_type": "markdown",
   "source": [
    "---\n",
    "\n",
    "*This notebook was generated using [Literate.jl](https://github.com/fredrikekre/Literate.jl).*"
   ],
   "metadata": {}
  }
 ],
 "nbformat_minor": 3,
 "metadata": {
  "language_info": {
   "file_extension": ".jl",
   "mimetype": "application/julia",
   "name": "julia",
   "version": "1.9.4"
  },
  "kernelspec": {
   "name": "julia-1.9",
   "display_name": "Julia 1.9.4",
   "language": "julia"
  }
 },
 "nbformat": 4
}
