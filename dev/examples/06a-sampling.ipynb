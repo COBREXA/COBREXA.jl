{
 "cells": [
  {
   "cell_type": "markdown",
   "source": [
    "# Flux sampling\n",
    "\n",
    "Flux sampling gives an interesting statistical insight into the behavior of\n",
    "the model in the optimal feasible space, and the general \"shape\" of the\n",
    "optimal- or near-optimal set of feasible states of a given model."
   ],
   "metadata": {}
  },
  {
   "cell_type": "markdown",
   "source": [
    "For demonstration, we need the usual packages and models:"
   ],
   "metadata": {}
  },
  {
   "outputs": [
    {
     "name": "stdout",
     "output_type": "stream",
     "text": [
      "[ Info: using cached `e_coli_core.json'\n"
     ]
    },
    {
     "output_type": "execute_result",
     "data": {
      "text/plain": "JSONFBCModels.JSONFBCModel(#= 95 reactions, 72 metabolites =#)"
     },
     "metadata": {},
     "execution_count": 1
    }
   ],
   "cell_type": "code",
   "source": [
    "using COBREXA\n",
    "\n",
    "download_model(\n",
    "    \"http://bigg.ucsd.edu/static/models/e_coli_core.json\",\n",
    "    \"e_coli_core.json\",\n",
    "    \"7bedec10576cfe935b19218dc881f3fb14f890a1871448fc19a9b4ee15b448d8\",\n",
    ")\n",
    "\n",
    "import JSONFBCModels, GLPK\n",
    "\n",
    "model = load_model(\"e_coli_core.json\")"
   ],
   "metadata": {},
   "execution_count": 1
  },
  {
   "cell_type": "markdown",
   "source": [
    "Function `flux_sample` uses linear optimization to generate a set of\n",
    "warm-up points (by default, the method to generate the warm-up is basically\n",
    "FVA), and then runs the hit-and-run flux sampling algorithm on the\n",
    "near-optimal feasible space of the model:"
   ],
   "metadata": {}
  },
  {
   "outputs": [
    {
     "output_type": "execute_result",
     "data": {
      "text/plain": "ConstraintTrees.Tree{Vector{Float64}} with 95 elements:\n  :ACALD                    => [-0.0316022, -0.00908958, -0.0440712, -0.018284,…\n  :ACALDt                   => [-0.0180624, -0.00236579, -0.0319815, -0.0057834…\n  :ACKr                     => [-0.028387, -0.0102243, -0.022834, -0.0229523, -…\n  :ACONTa                   => [6.08717, 5.73793, 6.08145, 5.99685, 6.13003, 6.…\n  :ACONTb                   => [6.08717, 5.73793, 6.08145, 5.99685, 6.13003, 6.…\n  :ACt2r                    => [-0.028387, -0.0102243, -0.022834, -0.0229523, -…\n  :ADK1                     => [0.000285737, 0.0209721, 0.0153125, 0.0164791, 0…\n  :AKGDH                    => [4.7888, 3.68156, 4.83386, 4.46959, 4.9145, 4.81…\n  :AKGt2r                   => [-0.000795902, -0.000610798, -0.00123554, -0.001…\n  :ALCD2x                   => [-0.0135398, -0.00672379, -0.0120897, -0.0125006…\n  :ATPM                     => [8.42112, 8.40131, 8.41131, 8.40816, 8.42326, 8.…\n  :ATPS4r                   => [45.0959, 45.7479, 45.0815, 45.2783, 45.1165, 45…\n  :BIOMASS_Ecoli_core_w_GAM => [0.865659, 0.865697, 0.865959, 0.865826, 0.86589…\n  :CO2t                     => [-22.8521, -23.0458, -22.8674, -22.9142, -22.878…\n  :CS                       => [6.08717, 5.73793, 6.08145, 5.99685, 6.13003, 6.…\n  :CYTBD                    => [43.725, 44.1086, 43.7375, 43.8603, 43.7802, 43.…\n  :D_LACt2                  => [-0.00932937, -0.00486677, -0.00734872, -0.00748…\n  :ENO                      => [14.8018, 14.3929, 14.7969, 14.6881, 14.8246, 14…\n  :ETOHt2r                  => [-0.0135398, -0.00672379, -0.0120897, -0.0125006…\n  ⋮                         => ⋮"
     },
     "metadata": {},
     "execution_count": 2
    }
   ],
   "cell_type": "code",
   "source": [
    "s = flux_sample(\n",
    "    model,\n",
    "    optimizer = GLPK.Optimizer,\n",
    "    objective_bound = relative_tolerance_bound(0.99),\n",
    "    n_chains = 2,\n",
    "    collect_iterations = [10],\n",
    ")"
   ],
   "metadata": {},
   "execution_count": 2
  },
  {
   "cell_type": "markdown",
   "source": [
    "The result is a tree of vectors of sampled states for each value; the order\n",
    "of the values in these vectors is fixed. You can thus e.g. create a good\n",
    "matrix for plotting the sample as 2D scatterplot:"
   ],
   "metadata": {}
  },
  {
   "outputs": [
    {
     "output_type": "execute_result",
     "data": {
      "text/plain": "380×2 Matrix{Float64}:\n 21.8625  -22.8521\n 22.0543  -23.0458\n 21.8687  -22.8674\n 21.9302  -22.9142\n 21.8901  -22.8789\n 21.9214  -22.8976\n 21.9099  -22.8882\n 21.9214  -22.9033\n 21.9559  -22.9372\n 21.9372  -22.9172\n  ⋮       \n 21.9367  -22.9154\n 21.941   -22.9198\n 21.9352  -22.9139\n 21.9434  -22.9232\n 21.9856  -22.9689\n 21.9436  -22.9247\n 21.9403  -22.9207\n 21.9379  -22.9201\n 21.8874  -22.8606"
     },
     "metadata": {},
     "execution_count": 3
    }
   ],
   "cell_type": "code",
   "source": [
    "[s.O2t s.CO2t]"
   ],
   "metadata": {},
   "execution_count": 3
  },
  {
   "cell_type": "markdown",
   "source": [
    "---\n",
    "\n",
    "*This notebook was generated using [Literate.jl](https://github.com/fredrikekre/Literate.jl).*"
   ],
   "metadata": {}
  }
 ],
 "nbformat_minor": 3,
 "metadata": {
  "language_info": {
   "file_extension": ".jl",
   "mimetype": "application/julia",
   "name": "julia",
   "version": "1.9.4"
  },
  "kernelspec": {
   "name": "julia-1.9",
   "display_name": "Julia 1.9.4",
   "language": "julia"
  }
 },
 "nbformat": 4
}
