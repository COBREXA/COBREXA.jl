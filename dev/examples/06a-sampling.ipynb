{
 "cells": [
  {
   "cell_type": "markdown",
   "source": [
    "# Flux sampling\n",
    "\n",
    "Flux sampling gives an interesting statistical insight into the behavior of\n",
    "the model in the optimal feasible space, and the general \"shape\" of the\n",
    "optimal- or near-optimal set of feasible states of a given model."
   ],
   "metadata": {}
  },
  {
   "cell_type": "markdown",
   "source": [
    "For demonstration, we need the usual packages and models:"
   ],
   "metadata": {}
  },
  {
   "outputs": [
    {
     "name": "stdout",
     "output_type": "stream",
     "text": [
      "[ Info: using cached `e_coli_core.json'\n"
     ]
    },
    {
     "output_type": "execute_result",
     "data": {
      "text/plain": "JSONFBCModels.JSONFBCModel(#= 95 reactions, 72 metabolites =#)"
     },
     "metadata": {},
     "execution_count": 1
    }
   ],
   "cell_type": "code",
   "source": [
    "using COBREXA\n",
    "\n",
    "download_model(\n",
    "    \"http://bigg.ucsd.edu/static/models/e_coli_core.json\",\n",
    "    \"e_coli_core.json\",\n",
    "    \"7bedec10576cfe935b19218dc881f3fb14f890a1871448fc19a9b4ee15b448d8\",\n",
    ")\n",
    "\n",
    "import JSONFBCModels, HiGHS\n",
    "\n",
    "model = load_model(\"e_coli_core.json\")"
   ],
   "metadata": {},
   "execution_count": 1
  },
  {
   "cell_type": "markdown",
   "source": [
    "Function `flux_sample` uses linear optimization to generate a set of\n",
    "warm-up points (by default, the method to generate the warm-up is basically\n",
    "FVA), and then runs the hit-and-run flux sampling algorithm on the\n",
    "near-optimal feasible space of the model:"
   ],
   "metadata": {}
  },
  {
   "outputs": [
    {
     "output_type": "execute_result",
     "data": {
      "text/plain": "ConstraintTrees.Tree{Vector{Float64}} with 95 elements:\n  :ACALD                    => [-0.0559409, -0.0180187, -0.0625076, -0.0165674,…\n  :ACALDt                   => [-0.0488114, -0.00510513, -0.055328, -0.00613728…\n  :ACKr                     => [-0.0169544, -0.0207811, -0.0150404, -0.0226919,…\n  :ACONTa                   => [5.98948, 6.08957, 5.98465, 5.98001, 6.03157, 5.…\n  :ACONTb                   => [5.98948, 6.08957, 5.98465, 5.98001, 6.03157, 5.…\n  :ACt2r                    => [-0.0169544, -0.0207811, -0.0150404, -0.0226919,…\n  :ADK1                     => [0.0358561, 0.0320068, 0.0335056, 0.0333905, 0.0…\n  :AKGDH                    => [4.51114, 4.61127, 4.49049, 4.36116, 4.47801, 4.…\n  :AKGt2r                   => [-0.00101437, -0.000881942, -0.000854968, -0.001…\n  :ALCD2x                   => [-0.00712956, -0.0129136, -0.00717955, -0.010430…\n  :ATPM                     => [8.41042, 8.44448, 8.40784, 8.42702, 8.42601, 8.…\n  :ATPS4r                   => [45.2245, 45.2863, 45.2127, 45.404, 45.2708, 45.…\n  :BIOMASS_Ecoli_core_w_GAM => [0.865313, 0.865639, 0.865289, 0.865485, 0.86547…\n  :CO2t                     => [-22.8787, -22.9033, -22.8856, -22.9018, -22.915…\n  :CS                       => [5.98948, 6.08957, 5.98465, 5.98001, 6.03157, 5.…\n  :CYTBD                    => [43.7771, 43.8778, 43.7731, 43.8675, 43.8899, 43…\n  :D_LACt2                  => [-0.0088167, -0.00611357, -0.00792264, -0.010553…\n  :ENO                      => [14.7043, 14.7718, 14.7028, 14.6681, 14.7212, 14…\n  :ETOHt2r                  => [-0.00712956, -0.0129136, -0.00717955, -0.010430…\n  ⋮                         => ⋮"
     },
     "metadata": {},
     "execution_count": 2
    }
   ],
   "cell_type": "code",
   "source": [
    "s = flux_sample(\n",
    "    model,\n",
    "    optimizer = HiGHS.Optimizer,\n",
    "    objective_bound = relative_tolerance_bound(0.99),\n",
    "    n_chains = 2,\n",
    "    collect_iterations = [10],\n",
    ")"
   ],
   "metadata": {},
   "execution_count": 2
  },
  {
   "cell_type": "markdown",
   "source": [
    "The result is a tree of vectors of sampled states for each value; the order\n",
    "of the values in these vectors is fixed. You can thus e.g. create a good\n",
    "matrix for plotting the sample as 2D scatter plot:"
   ],
   "metadata": {}
  },
  {
   "outputs": [
    {
     "output_type": "execute_result",
     "data": {
      "text/plain": "380×2 Matrix{Float64}:\n 21.8885  -22.8787\n 21.9389  -22.9033\n 21.8865  -22.8856\n 21.9338  -22.9018\n 21.9449  -22.9159\n 21.9872  -22.9677\n 21.9449  -22.9279\n 21.9754  -22.9516\n 21.9404  -22.9068\n 21.9282  -22.8945\n  ⋮       \n 21.9615  -22.9286\n 21.9339  -22.9032\n 21.9051  -22.8749\n 21.9017  -22.869\n 21.9388  -22.9077\n 22.0388  -23.0209\n 21.919   -22.8764\n 21.9511  -22.9244\n 21.9465  -22.9164"
     },
     "metadata": {},
     "execution_count": 3
    }
   ],
   "cell_type": "code",
   "source": [
    "[s.O2t s.CO2t]"
   ],
   "metadata": {},
   "execution_count": 3
  },
  {
   "cell_type": "markdown",
   "source": [
    "---\n",
    "\n",
    "*This notebook was generated using [Literate.jl](https://github.com/fredrikekre/Literate.jl).*"
   ],
   "metadata": {}
  }
 ],
 "nbformat_minor": 3,
 "metadata": {
  "language_info": {
   "file_extension": ".jl",
   "mimetype": "application/julia",
   "name": "julia",
   "version": "1.11.5"
  },
  "kernelspec": {
   "name": "julia-1.11",
   "display_name": "Julia 1.11.5",
   "language": "julia"
  }
 },
 "nbformat": 4
}
