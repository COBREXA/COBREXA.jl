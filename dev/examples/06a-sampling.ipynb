{
 "cells": [
  {
   "cell_type": "markdown",
   "source": [
    "# Flux sampling\n",
    "\n",
    "Flux sampling gives an interesting statistical insight into the behavior of\n",
    "the model in the optimal feasible space, and the general \"shape\" of the\n",
    "optimal- or near-optimal set of feasible states of a given model."
   ],
   "metadata": {}
  },
  {
   "cell_type": "markdown",
   "source": [
    "For demonstration, we need the usual packages and models:"
   ],
   "metadata": {}
  },
  {
   "outputs": [
    {
     "name": "stdout",
     "output_type": "stream",
     "text": [
      "[ Info: using cached `e_coli_core.json'\n"
     ]
    },
    {
     "output_type": "execute_result",
     "data": {
      "text/plain": "JSONFBCModels.JSONFBCModel(#= 95 reactions, 72 metabolites =#)"
     },
     "metadata": {},
     "execution_count": 1
    }
   ],
   "cell_type": "code",
   "source": [
    "using COBREXA\n",
    "\n",
    "download_model(\n",
    "    \"http://bigg.ucsd.edu/static/models/e_coli_core.json\",\n",
    "    \"e_coli_core.json\",\n",
    "    \"7bedec10576cfe935b19218dc881f3fb14f890a1871448fc19a9b4ee15b448d8\",\n",
    ")\n",
    "\n",
    "import JSONFBCModels, HiGHS\n",
    "\n",
    "model = load_model(\"e_coli_core.json\")"
   ],
   "metadata": {},
   "execution_count": 1
  },
  {
   "cell_type": "markdown",
   "source": [
    "Function `flux_sample` uses linear optimization to generate a set of\n",
    "warm-up points (by default, the method to generate the warm-up is basically\n",
    "FVA), and then runs the hit-and-run flux sampling algorithm on the\n",
    "near-optimal feasible space of the model:"
   ],
   "metadata": {}
  },
  {
   "outputs": [
    {
     "output_type": "execute_result",
     "data": {
      "text/plain": "ConstraintTrees.Tree{Vector{Float64}} with 95 elements:\n  :ACALD                    => [-0.0339393, -0.0183041, -0.0244384, -0.0171156,…\n  :ACALDt                   => [-0.0238711, -0.0089021, -0.0171858, -0.00481697…\n  :ACKr                     => [-0.0175626, -0.0183591, -0.0174642, -0.0161155,…\n  :ACONTa                   => [6.04839, 6.05919, 6.06307, 6.32011, 6.06423, 6.…\n  :ACONTb                   => [6.04839, 6.05919, 6.06307, 6.32011, 6.06423, 6.…\n  :ACt2r                    => [-0.0175626, -0.0183591, -0.0174642, -0.0161155,…\n  :ADK1                     => [0.0255307, 0.0236547, 0.0225911, 0.0407002, 0.0…\n  :AKGDH                    => [4.52188, 4.49318, 4.54835, 5.21185, 4.49936, 4.…\n  :AKGt2r                   => [-0.00203689, -0.00337451, -0.00235789, -0.00355…\n  :ALCD2x                   => [-0.0100682, -0.00940199, -0.00725264, -0.012298…\n  :ATPM                     => [8.43191, 8.44349, 8.43552, 8.48344, 8.43995, 8.…\n  :ATPS4r                   => [45.1864, 45.2007, 45.1518, 44.7883, 45.2077, 45…\n  :BIOMASS_Ecoli_core_w_GAM => [0.865418, 0.865393, 0.865401, 0.865439, 0.86545…\n  :CO2t                     => [-22.9085, -22.937, -22.9264, -22.8857, -22.9285…\n  :CS                       => [6.04839, 6.05919, 6.06307, 6.32011, 6.06423, 6.…\n  :CYTBD                    => [43.8423, 43.9028, 43.8974, 43.8438, 43.9033, 43…\n  :D_LACt2                  => [-0.0105959, -0.0128465, -0.00905381, -0.0111468…\n  :ENO                      => [14.7477, 14.7492, 14.7511, 15.005, 14.7476, 14.…\n  :ETOHt2r                  => [-0.0100682, -0.00940199, -0.00725264, -0.012298…\n  ⋮                         => ⋮"
     },
     "metadata": {},
     "execution_count": 2
    }
   ],
   "cell_type": "code",
   "source": [
    "s = flux_sample(\n",
    "    model,\n",
    "    optimizer = HiGHS.Optimizer,\n",
    "    objective_bound = relative_tolerance_bound(0.99),\n",
    "    n_chains = 2,\n",
    "    collect_iterations = [10],\n",
    ")"
   ],
   "metadata": {},
   "execution_count": 2
  },
  {
   "cell_type": "markdown",
   "source": [
    "The result is a tree of vectors of sampled states for each value; the order\n",
    "of the values in these vectors is fixed. You can thus e.g. create a good\n",
    "matrix for plotting the sample as 2D scatterplot:"
   ],
   "metadata": {}
  },
  {
   "outputs": [
    {
     "output_type": "execute_result",
     "data": {
      "text/plain": "380×2 Matrix{Float64}:\n 21.9212  -22.9085\n 21.9514  -22.937\n 21.9487  -22.9264\n 21.9219  -22.8857\n 21.9516  -22.9285\n 21.9564  -22.9158\n 21.981   -22.9703\n 21.9509  -22.9107\n 21.9446  -22.9208\n 22.0146  -22.9864\n  ⋮       \n 21.9645  -22.9424\n 21.9823  -22.9598\n 21.9726  -22.9707\n 21.9745  -22.9473\n 21.9857  -22.9637\n 21.988   -22.9794\n 21.9565  -22.9391\n 21.9748  -22.9534\n 22.0033  -22.9813"
     },
     "metadata": {},
     "execution_count": 3
    }
   ],
   "cell_type": "code",
   "source": [
    "[s.O2t s.CO2t]"
   ],
   "metadata": {},
   "execution_count": 3
  },
  {
   "cell_type": "markdown",
   "source": [
    "---\n",
    "\n",
    "*This notebook was generated using [Literate.jl](https://github.com/fredrikekre/Literate.jl).*"
   ],
   "metadata": {}
  }
 ],
 "nbformat_minor": 3,
 "metadata": {
  "language_info": {
   "file_extension": ".jl",
   "mimetype": "application/julia",
   "name": "julia",
   "version": "1.9.4"
  },
  "kernelspec": {
   "name": "julia-1.9",
   "display_name": "Julia 1.9.4",
   "language": "julia"
  }
 },
 "nbformat": 4
}
