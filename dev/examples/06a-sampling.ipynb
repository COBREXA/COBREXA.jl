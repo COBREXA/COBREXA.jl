{
 "cells": [
  {
   "cell_type": "markdown",
   "source": [
    "# Flux sampling\n",
    "\n",
    "Flux sampling gives an interesting statistical insight into the behavior of\n",
    "the model in the optimal feasible space, and the general \"shape\" of the\n",
    "optimal- or near-optimal set of feasible states of a given model."
   ],
   "metadata": {}
  },
  {
   "cell_type": "markdown",
   "source": [
    "For demonstration, we need the usual packages and models:"
   ],
   "metadata": {}
  },
  {
   "outputs": [
    {
     "name": "stdout",
     "output_type": "stream",
     "text": [
      "[ Info: using cached `e_coli_core.json'\n"
     ]
    },
    {
     "output_type": "execute_result",
     "data": {
      "text/plain": "JSONFBCModels.JSONFBCModel(#= 95 reactions, 72 metabolites =#)"
     },
     "metadata": {},
     "execution_count": 1
    }
   ],
   "cell_type": "code",
   "source": [
    "using COBREXA\n",
    "\n",
    "download_model(\n",
    "    \"http://bigg.ucsd.edu/static/models/e_coli_core.json\",\n",
    "    \"e_coli_core.json\",\n",
    "    \"7bedec10576cfe935b19218dc881f3fb14f890a1871448fc19a9b4ee15b448d8\",\n",
    ")\n",
    "\n",
    "import JSONFBCModels, HiGHS\n",
    "\n",
    "model = load_model(\"e_coli_core.json\")"
   ],
   "metadata": {},
   "execution_count": 1
  },
  {
   "cell_type": "markdown",
   "source": [
    "Function `flux_sample` uses linear optimization to generate a set of\n",
    "warm-up points (by default, the method to generate the warm-up is basically\n",
    "FVA), and then runs the hit-and-run flux sampling algorithm on the\n",
    "near-optimal feasible space of the model:"
   ],
   "metadata": {}
  },
  {
   "outputs": [
    {
     "output_type": "execute_result",
     "data": {
      "text/plain": "ConstraintTrees.Tree{Vector{Float64}} with 95 elements:\n  :ACALD                    => [-0.0135091, -0.0143252, -0.0186269, -0.0170498,…\n  :ACALDt                   => [-0.00320128, -0.00397692, -0.00770045, -0.00466…\n  :ACKr                     => [-0.0165951, -0.0178974, -0.0163248, -0.0209778,…\n  :ACONTa                   => [6.04542, 6.09598, 6.0417, 6.38333, 6.03394, 6.0…\n  :ACONTb                   => [6.04542, 6.09598, 6.0417, 6.38333, 6.03394, 6.0…\n  :ACt2r                    => [-0.0165951, -0.0178974, -0.0163248, -0.0209778,…\n  :ADK1                     => [0.0359661, 0.0345531, 0.0315739, 0.0367546, 0.0…\n  :AKGDH                    => [4.45562, 4.56462, 4.44601, 5.12645, 4.36177, 4.…\n  :AKGt2r                   => [-0.00388978, -0.00370056, -0.00361889, -0.00192…\n  :ALCD2x                   => [-0.0103078, -0.0103482, -0.0109264, -0.0123897,…\n  :ATPM                     => [8.42242, 8.42282, 8.42028, 8.42958, 8.4105, 8.4…\n  :ATPS4r                   => [45.2418, 45.1433, 45.2473, 44.588, 45.206, 45.2…\n  :BIOMASS_Ecoli_core_w_GAM => [0.865401, 0.865414, 0.865431, 0.865447, 0.86540…\n  :CO2t                     => [-22.9313, -22.9266, -22.9398, -22.9096, -22.951…\n  :CS                       => [6.04542, 6.09598, 6.0417, 6.38333, 6.03394, 6.0…\n  :CYTBD                    => [43.922, 43.914, 43.937, 43.8805, 43.9544, 43.91…\n  :D_LACt2                  => [-0.00879487, -0.00846305, -0.00548617, -0.00905…\n  :ENO                      => [14.7256, 14.7778, 14.7219, 15.0711, 14.7103, 14…\n  :ETOHt2r                  => [-0.0103078, -0.0103482, -0.0109264, -0.0123897,…\n  ⋮                         => ⋮"
     },
     "metadata": {},
     "execution_count": 2
    }
   ],
   "cell_type": "code",
   "source": [
    "s = flux_sample(\n",
    "    model,\n",
    "    optimizer = HiGHS.Optimizer,\n",
    "    objective_bound = relative_tolerance_bound(0.99),\n",
    "    n_chains = 2,\n",
    "    collect_iterations = [10],\n",
    ")"
   ],
   "metadata": {},
   "execution_count": 2
  },
  {
   "cell_type": "markdown",
   "source": [
    "The result is a tree of vectors of sampled states for each value; the order\n",
    "of the values in these vectors is fixed. You can thus e.g. create a good\n",
    "matrix for plotting the sample as 2D scatterplot:"
   ],
   "metadata": {}
  },
  {
   "outputs": [
    {
     "output_type": "execute_result",
     "data": {
      "text/plain": "380×2 Matrix{Float64}:\n 21.961   -22.9313\n 21.957   -22.9266\n 21.9685  -22.9398\n 21.9402  -22.9096\n 21.9772  -22.9518\n 21.9591  -22.9297\n 21.9642  -22.9366\n 21.9495  -22.9208\n 21.9747  -22.95\n 21.9574  -22.9266\n  ⋮       \n 22.069   -23.0524\n 21.9775  -22.9523\n 21.8727  -22.8572\n 21.9517  -22.9268\n 21.9511  -22.9253\n 21.9573  -22.9309\n 21.9403  -22.9137\n 21.8763  -22.8412\n 21.9532  -22.9283"
     },
     "metadata": {},
     "execution_count": 3
    }
   ],
   "cell_type": "code",
   "source": [
    "[s.O2t s.CO2t]"
   ],
   "metadata": {},
   "execution_count": 3
  },
  {
   "cell_type": "markdown",
   "source": [
    "---\n",
    "\n",
    "*This notebook was generated using [Literate.jl](https://github.com/fredrikekre/Literate.jl).*"
   ],
   "metadata": {}
  }
 ],
 "nbformat_minor": 3,
 "metadata": {
  "language_info": {
   "file_extension": ".jl",
   "mimetype": "application/julia",
   "name": "julia",
   "version": "1.9.4"
  },
  "kernelspec": {
   "name": "julia-1.9",
   "display_name": "Julia 1.9.4",
   "language": "julia"
  }
 },
 "nbformat": 4
}
