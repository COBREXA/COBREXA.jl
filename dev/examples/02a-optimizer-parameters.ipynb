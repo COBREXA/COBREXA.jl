{
 "cells": [
  {
   "cell_type": "markdown",
   "source": [
    "# Changing optimizer parameters\n",
    "\n",
    "Many optimizers require fine-tuning to produce best results. You can pass in\n",
    "additional optimizer settings via the `settings` parameter of\n",
    "`flux_balance_analysis`. These include e.g.\n",
    "\n",
    "- `set_optimizer_attribute` (typically allowing you to tune e.g.\n",
    "  iteration limits, tolerances, or floating-point precision)\n",
    "- `set_objective_sense` (allowing you to change and reverse the\n",
    "  optimization direction, if required)\n",
    "- `silence` to disable the debug output of the optimizer\n",
    "- and even `set_optimizer`, which changes the optimizer\n",
    "  implementation used (this is not quite useful in this case, but becomes\n",
    "  beneficial with more complex, multi-stage optimization problems)\n",
    "\n",
    "To demonstrate this, we'll use the usual toy model:"
   ],
   "metadata": {}
  },
  {
   "outputs": [
    {
     "name": "stdout",
     "output_type": "stream",
     "text": [
      "[ Info: using cached `e_coli_core.json'\n"
     ]
    },
    {
     "output_type": "execute_result",
     "data": {
      "text/plain": "JSONFBCModels.JSONFBCModel(#= 95 reactions, 72 metabolites =#)"
     },
     "metadata": {},
     "execution_count": 1
    }
   ],
   "cell_type": "code",
   "source": [
    "using COBREXA\n",
    "import JSONFBCModels, Tulip\n",
    "\n",
    "download_model(\n",
    "    \"http://bigg.ucsd.edu/static/models/e_coli_core.json\",\n",
    "    \"e_coli_core.json\",\n",
    "    \"7bedec10576cfe935b19218dc881f3fb14f890a1871448fc19a9b4ee15b448d8\",\n",
    ")\n",
    "\n",
    "model = load_model(\"e_coli_core.json\")"
   ],
   "metadata": {},
   "execution_count": 1
  },
  {
   "cell_type": "markdown",
   "source": [
    "Running a FBA with a silent optimizer that has slightly increased iteration\n",
    "limit for IPM algorithm may now look as follows:"
   ],
   "metadata": {}
  },
  {
   "outputs": [
    {
     "output_type": "execute_result",
     "data": {
      "text/plain": "ConstraintTrees.Tree{Float64} with 3 elements:\n  :flux_stoichiometry => ConstraintTrees.Tree{Float64}(#= 72 elements =#)\n  :fluxes             => ConstraintTrees.Tree{Float64}(#= 95 elements =#)\n  :objective          => 0.873922"
     },
     "metadata": {},
     "execution_count": 2
    }
   ],
   "cell_type": "code",
   "source": [
    "solution = flux_balance_analysis(\n",
    "    model,\n",
    "    Tulip.Optimizer;\n",
    "    settings = [silence, set_optimizer_attribute(\"IPM_IterationsLimit\", 1000)],\n",
    ")"
   ],
   "metadata": {},
   "execution_count": 2
  },
  {
   "cell_type": "markdown",
   "source": [
    "To see some of the effects of the configuration changes, you may e.g.\n",
    "deliberately cripple the optimizer's possibilities to a few iterations, which\n",
    "will cause it to fail, return no solution, and verbosely describe what\n",
    "happened:"
   ],
   "metadata": {}
  },
  {
   "outputs": [
    {
     "name": "stdout",
     "output_type": "stream",
     "text": [
      "nothing\n"
     ]
    }
   ],
   "cell_type": "code",
   "source": [
    "solution = flux_balance_analysis(\n",
    "    model,\n",
    "    Tulip.Optimizer;\n",
    "    settings = [set_optimizer_attribute(\"IPM_IterationsLimit\", 2)],\n",
    ")\n",
    "\n",
    "println(solution)"
   ],
   "metadata": {},
   "execution_count": 3
  },
  {
   "cell_type": "markdown",
   "source": [
    "Applicable optimizer attributes are documented in the documentations of the\n",
    "respective optimizers. To browse the possibilities, you may want to see the\n",
    "[JuMP documentation page that summarizes the references to the available\n",
    "optimizers](https://jump.dev/JuMP.jl/stable/installation/#Supported-solvers)."
   ],
   "metadata": {}
  },
  {
   "cell_type": "markdown",
   "source": [
    "---\n",
    "\n",
    "*This notebook was generated using [Literate.jl](https://github.com/fredrikekre/Literate.jl).*"
   ],
   "metadata": {}
  }
 ],
 "nbformat_minor": 3,
 "metadata": {
  "language_info": {
   "file_extension": ".jl",
   "mimetype": "application/julia",
   "name": "julia",
   "version": "1.9.4"
  },
  "kernelspec": {
   "name": "julia-1.9",
   "display_name": "Julia 1.9.4",
   "language": "julia"
  }
 },
 "nbformat": 4
}
