{
 "cells": [
  {
   "cell_type": "markdown",
   "source": [
    "# Making adjustments to the model\n",
    "\n",
    "Typically, we do not need to solve the models as they come from the authors\n",
    "(someone else already did that!), but we want to perform various\n",
    "perturbations in the model structure and conditions, and explore how the\n",
    "model behaves in the changed conditions.\n",
    "\n",
    "With COBREXA, there are 2 different approaches that one can take:\n",
    "1. We can change the model structure and use the changed metabolic model.\n",
    "   This is better for doing simple and small but systematic modifications,\n",
    "   such as removing metabolites, adding reactions, etc.\n",
    "2. We can intercept the pipeline that converts the metabolic model to\n",
    "   constraints and then to the optimizer representation, and make small\n",
    "   modifications along that way. This is better for various technical model\n",
    "   adjustments, such as using combined objectives or adding reaction-coupling\n",
    "   constraints.\n",
    "\n",
    "Here we demonstrate the first, \"modelling\" approach. The main advantage of\n",
    "that approach is that the modified model is still a FBC model, and you can\n",
    "export, save and share it via the AbstractFBCModels interace. The main\n",
    "disadvantage is that the \"common\" FBC model interface does not easily express\n",
    "various complicated constructions (communities, reaction coupling, enzyme\n",
    "constraints, etc.) -- see the [example about modifying the\n",
    "constraints](02c-constraint-modifications.md) for a closer look on how to\n",
    "modify even such complex constructions.\n",
    "\n",
    "## Getting the base model"
   ],
   "metadata": {}
  },
  {
   "outputs": [
    {
     "name": "stdout",
     "output_type": "stream",
     "text": [
      "[ Info: using cached `e_coli_core.json'\n"
     ]
    }
   ],
   "cell_type": "code",
   "source": [
    "using COBREXA\n",
    "\n",
    "download_model(\n",
    "    \"http://bigg.ucsd.edu/static/models/e_coli_core.json\",\n",
    "    \"e_coli_core.json\",\n",
    "    \"7bedec10576cfe935b19218dc881f3fb14f890a1871448fc19a9b4ee15b448d8\",\n",
    ")\n",
    "\n",
    "import JSONFBCModels"
   ],
   "metadata": {},
   "execution_count": 1
  },
  {
   "cell_type": "markdown",
   "source": [
    "For applying the modifications, we will use the canonical model as exported\n",
    "from package `AbstractFBCModels`. There are other possibilities, but the\n",
    "canonical one is easiest to use for common purposes."
   ],
   "metadata": {}
  },
  {
   "outputs": [],
   "cell_type": "code",
   "source": [
    "import AbstractFBCModels.CanonicalModel as CM"
   ],
   "metadata": {},
   "execution_count": 2
  },
  {
   "cell_type": "markdown",
   "source": [
    "We can now load the model:"
   ],
   "metadata": {}
  },
  {
   "outputs": [
    {
     "output_type": "execute_result",
     "data": {
      "text/plain": "AbstractFBCModels.CanonicalModel.Model(\n  reactions = Dict{String, AbstractFBCModels.CanonicalModel.Reaction}(\"ACALD\" =…\n  metabolites = Dict{String, AbstractFBCModels.CanonicalModel.Metabolite}(\"glu_…\n  genes = Dict{String, AbstractFBCModels.CanonicalModel.Gene}(\"b4301\" => Abstra…\n)\n"
     },
     "metadata": {},
     "execution_count": 3
    }
   ],
   "cell_type": "code",
   "source": [
    "model = convert(CM.Model, load_model(\"e_coli_core.json\"))"
   ],
   "metadata": {},
   "execution_count": 3
  },
  {
   "cell_type": "markdown",
   "source": [
    "The canonical model is quite easy to work with, made basically of the most\n",
    "accessible Julia structures possible. For example, you can observe a reaction\n",
    "as such:"
   ],
   "metadata": {}
  },
  {
   "outputs": [
    {
     "output_type": "execute_result",
     "data": {
      "text/plain": "AbstractFBCModels.CanonicalModel.Reaction(\n  name = \"Phosphofructokinase\",\n  lower_bound = 0.0,\n  upper_bound = 1000.0,\n  stoichiometry = Dict(\"adp_c\" => 1.0, \"atp_c\" => -1.0, \"f6p_c\" => -1.0, \"fdp_c…\n  objective_coefficient = 0.0,\n  gene_association_dnf = [[\"b1723\"], [\"b3916\"]],\n  annotations = Dict(\"bigg.reaction\" => [\"PFK\"], \"metanetx.reaction\" => [\"MNXR1…\n  notes = Dict(\"original_bigg_ids\" => [\"PFK\"]),\n)\n"
     },
     "metadata": {},
     "execution_count": 4
    }
   ],
   "cell_type": "code",
   "source": [
    "model.reactions[\"PFK\"]"
   ],
   "metadata": {},
   "execution_count": 4
  },
  {
   "outputs": [
    {
     "output_type": "execute_result",
     "data": {
      "text/plain": "Dict{String, Float64} with 6 entries:\n  \"coa_c\"   => 1.0\n  \"h2o_c\"   => -1.0\n  \"accoa_c\" => -1.0\n  \"cit_c\"   => 1.0\n  \"oaa_c\"   => -1.0\n  \"h_c\"     => 1.0"
     },
     "metadata": {},
     "execution_count": 5
    }
   ],
   "cell_type": "code",
   "source": [
    "model.reactions[\"CS\"].stoichiometry"
   ],
   "metadata": {},
   "execution_count": 5
  },
  {
   "cell_type": "markdown",
   "source": [
    "## Running FBA on modified models\n",
    "\n",
    "Since the canonical model is completely mutable, you can change it in any way you like and feed it directly into `flux_balance_analysis`. Let's first find a \"original\" solution, so that we have a base solution for comparing:"
   ],
   "metadata": {}
  },
  {
   "outputs": [
    {
     "output_type": "execute_result",
     "data": {
      "text/plain": "0.8739215069684118"
     },
     "metadata": {},
     "execution_count": 6
    }
   ],
   "cell_type": "code",
   "source": [
    "import GLPK\n",
    "\n",
    "base_solution = flux_balance_analysis(model, GLPK.Optimizer)\n",
    "base_solution.objective"
   ],
   "metadata": {},
   "execution_count": 6
  },
  {
   "cell_type": "markdown",
   "source": [
    "Now, for example, we can limit the intake of glucose by the model:"
   ],
   "metadata": {}
  },
  {
   "outputs": [
    {
     "output_type": "execute_result",
     "data": {
      "text/plain": "AbstractFBCModels.CanonicalModel.Reaction(\n  name = \"D-Glucose exchange\",\n  lower_bound = -10.0,\n  upper_bound = 1000.0,\n  stoichiometry = Dict(\"glc__D_e\" => -1.0),\n  objective_coefficient = 0.0,\n  gene_association_dnf = nothing,\n  annotations = Dict(\"sabiork\" => [\"7002\", \"601\"], \"metanetx.reaction\" => [\"MNX…\n  notes = Dict(\"original_bigg_ids\" => [\"EX_glc_e\"]),\n)\n"
     },
     "metadata": {},
     "execution_count": 7
    }
   ],
   "cell_type": "code",
   "source": [
    "model.reactions[\"EX_glc__D_e\"]"
   ],
   "metadata": {},
   "execution_count": 7
  },
  {
   "cell_type": "markdown",
   "source": [
    "Since the original intake limit is 10 units, let's try limiting that to 5:"
   ],
   "metadata": {}
  },
  {
   "outputs": [
    {
     "output_type": "execute_result",
     "data": {
      "text/plain": "-5.0"
     },
     "metadata": {},
     "execution_count": 8
    }
   ],
   "cell_type": "code",
   "source": [
    "model.reactions[\"EX_glc__D_e\"].lower_bound = -5.0"
   ],
   "metadata": {},
   "execution_count": 8
  },
  {
   "cell_type": "markdown",
   "source": [
    "...and solve the modified model:"
   ],
   "metadata": {}
  },
  {
   "outputs": [
    {
     "output_type": "execute_result",
     "data": {
      "text/plain": "0.4155977750928965"
     },
     "metadata": {},
     "execution_count": 9
    }
   ],
   "cell_type": "code",
   "source": [
    "low_glucose_solution = flux_balance_analysis(model, GLPK.Optimizer)\n",
    "low_glucose_solution.objective"
   ],
   "metadata": {},
   "execution_count": 9
  },
  {
   "cell_type": "markdown",
   "source": [
    "## Preventing reference-based sharing problems with `deepcopy`\n",
    "\n",
    "People often want to try different perturbations with a single base model. It\n",
    "would therefore look feasible to save retain the \"unmodified\" model in a\n",
    "single variable, and make copies of that with the modifications applied.\n",
    "Let's observe what happens:"
   ],
   "metadata": {}
  },
  {
   "outputs": [
    {
     "output_type": "execute_result",
     "data": {
      "text/plain": "-123.0"
     },
     "metadata": {},
     "execution_count": 10
    }
   ],
   "cell_type": "code",
   "source": [
    "base_model = convert(CM.Model, load_model(\"e_coli_core.json\")) # load the base\n",
    "\n",
    "modified_model = base_model # copy for modification\n",
    "\n",
    "modified_model.reactions[\"EX_glc__D_e\"].lower_bound = -123.0 # modify the glucose intake limit"
   ],
   "metadata": {},
   "execution_count": 10
  },
  {
   "cell_type": "markdown",
   "source": [
    "Surprisingly, the base model got modified too!"
   ],
   "metadata": {}
  },
  {
   "outputs": [
    {
     "output_type": "execute_result",
     "data": {
      "text/plain": "AbstractFBCModels.CanonicalModel.Reaction(\n  name = \"D-Glucose exchange\",\n  lower_bound = -123.0,\n  upper_bound = 1000.0,\n  stoichiometry = Dict(\"glc__D_e\" => -1.0),\n  objective_coefficient = 0.0,\n  gene_association_dnf = nothing,\n  annotations = Dict(\"sabiork\" => [\"7002\", \"601\"], \"metanetx.reaction\" => [\"MNX…\n  notes = Dict(\"original_bigg_ids\" => [\"EX_glc_e\"]),\n)\n"
     },
     "metadata": {},
     "execution_count": 11
    }
   ],
   "cell_type": "code",
   "source": [
    "base_model.reactions[\"EX_glc__D_e\"]"
   ],
   "metadata": {},
   "execution_count": 11
  },
  {
   "cell_type": "markdown",
   "source": [
    "This is because Julia uses reference-based sharing whenever anything mutable\n",
    "is copied using the `=` operator. While this is extremely useful in many\n",
    "scenarios for data processing efficiency and computational speed, it\n",
    "unfortunately breaks this simple use-case.\n",
    "\n",
    "To fix the situation, you should always ensure to make an actual copy of the\n",
    "model data by either carefully copying the changed parts with `copy()`, or\n",
    "simply by copying the whole model structure as is with `deepcopy()`. Let's\n",
    "try again:"
   ],
   "metadata": {}
  },
  {
   "outputs": [
    {
     "output_type": "execute_result",
     "data": {
      "text/plain": "-123.0"
     },
     "metadata": {},
     "execution_count": 12
    }
   ],
   "cell_type": "code",
   "source": [
    "base_model = convert(CM.Model, load_model(\"e_coli_core.json\"))\n",
    "modified_model = deepcopy(base_model) # this forces an actual copy of the data\n",
    "modified_model.reactions[\"EX_glc__D_e\"].lower_bound = -123.0"
   ],
   "metadata": {},
   "execution_count": 12
  },
  {
   "cell_type": "markdown",
   "source": [
    "With `deepcopy`, the result works as intended:"
   ],
   "metadata": {}
  },
  {
   "outputs": [
    {
     "output_type": "execute_result",
     "data": {
      "text/plain": "(-123.0, -10.0)"
     },
     "metadata": {},
     "execution_count": 13
    }
   ],
   "cell_type": "code",
   "source": [
    "(\n",
    "    modified_model.reactions[\"EX_glc__D_e\"].lower_bound,\n",
    "    base_model.reactions[\"EX_glc__D_e\"].lower_bound,\n",
    ")"
   ],
   "metadata": {},
   "execution_count": 13
  },
  {
   "cell_type": "markdown",
   "source": [
    "## Observing the differences\n",
    "\n",
    "We already have a `base_solution` and `low_glucose_solution` from above. What\n",
    "is the easiest way to see what has changed? We can quite easily compute\n",
    "squared distance between all dictionary entries using Julia function for\n",
    "merging dictionaries (called `mergewith`)."
   ],
   "metadata": {}
  },
  {
   "cell_type": "markdown",
   "source": [
    "With that, we can extract the plain difference in fluxes:"
   ],
   "metadata": {}
  },
  {
   "outputs": [
    {
     "output_type": "execute_result",
     "data": {
      "text/plain": "ConstraintTrees.Tree{Float64} with 95 elements:\n  :ACALD                    => -8.02663e-15\n  :ACALDt                   => 0.0\n  :ACKr                     => 1.9762e-14\n  :ACONTa                   => 2.56379\n  :ACONTb                   => 2.56379\n  :ACt2r                    => 1.9762e-14\n  :ADK1                     => 4.32987e-15\n  :AKGDH                    => 2.06931\n  :AKGt2r                   => 0.0\n  :ALCD2x                   => -8.02663e-15\n  :ATPM                     => 4.1922e-13\n  :ATPS4r                   => 20.6429\n  :BIOMASS_Ecoli_core_w_GAM => 0.458324\n  :CO2t                     => -10.4958\n  :CS                       => 2.56379\n  :CYTBD                    => 19.9319\n  :D_LACt2                  => -1.74927e-14\n  :ENO                      => 7.13113\n  :ETOHt2r                  => -8.02663e-15\n  ⋮                         => ⋮"
     },
     "metadata": {},
     "execution_count": 14
    }
   ],
   "cell_type": "code",
   "source": [
    "flux_differences = mergewith(-, base_solution.fluxes, low_glucose_solution.fluxes)"
   ],
   "metadata": {},
   "execution_count": 14
  },
  {
   "cell_type": "markdown",
   "source": [
    "...and see what were the biggest directional differences:"
   ],
   "metadata": {}
  },
  {
   "outputs": [
    {
     "output_type": "execute_result",
     "data": {
      "text/plain": "95-element Vector{Pair{Symbol, Union{Float64, ConstraintTrees.Tree{Float64}}}}:\n        :H2Ot => -13.834417820645099\n        :CO2t => -10.49580442817105\n     :EX_o2_e => -9.965936361749776\n         :PGK => -7.816778467951014\n         :PGM => -7.1311261650652495\n :EX_glc__D_e => -4.999999999999955\n    :EX_nh4_e => -2.4991476451708263\n       :GLUDy => -2.381954266930253\n      :SUCOAS => -2.069307205485625\n     :EX_pi_e => -1.686035512450455\n              ⋮\n         :ENO => 7.1311261650652495\n        :GAPD => 7.816778467951014\n      :EX_h_e => 9.1939740614229\n         :O2t => 9.965936361749776\n    :EX_co2_e => 10.49580442817105\n    :EX_h2o_e => 13.834417820645099\n      :NADH16 => 17.86256551801395\n       :CYTBD => 19.931872723499566\n      :ATPS4r => 20.642858106791913"
     },
     "metadata": {},
     "execution_count": 15
    }
   ],
   "cell_type": "code",
   "source": [
    "sort(collect(flux_differences), by = last)"
   ],
   "metadata": {},
   "execution_count": 15
  },
  {
   "cell_type": "markdown",
   "source": [
    "...or compute the squared distance, to see the \"absolute\" changes:"
   ],
   "metadata": {}
  },
  {
   "outputs": [
    {
     "output_type": "execute_result",
     "data": {
      "text/plain": "ConstraintTrees.Tree{Float64} with 95 elements:\n  :ACALD                    => 6.44269e-29\n  :ACALDt                   => 0.0\n  :ACKr                     => 3.90535e-28\n  :ACONTa                   => 6.57303\n  :ACONTb                   => 6.57303\n  :ACt2r                    => 3.90535e-28\n  :ADK1                     => 1.87478e-29\n  :AKGDH                    => 4.28203\n  :AKGt2r                   => 0.0\n  :ALCD2x                   => 6.44269e-29\n  :ATPM                     => 1.75746e-25\n  :ATPS4r                   => 426.128\n  :BIOMASS_Ecoli_core_w_GAM => 0.210061\n  :CO2t                     => 110.162\n  :CS                       => 6.57303\n  :CYTBD                    => 397.28\n  :D_LACt2                  => 3.05995e-28\n  :ENO                      => 50.853\n  :ETOHt2r                  => 6.44269e-29\n  ⋮                         => ⋮"
     },
     "metadata": {},
     "execution_count": 16
    }
   ],
   "cell_type": "code",
   "source": [
    "flux_changes =\n",
    "    mergewith((x, y) -> (x - y)^2, base_solution.fluxes, low_glucose_solution.fluxes)"
   ],
   "metadata": {},
   "execution_count": 16
  },
  {
   "cell_type": "markdown",
   "source": [
    "...and again see what changed most:"
   ],
   "metadata": {}
  },
  {
   "outputs": [
    {
     "output_type": "execute_result",
     "data": {
      "text/plain": "95-element Vector{Pair{Symbol, Union{Float64, ConstraintTrees.Tree{Float64}}}}:\n      :ACALDt => 0.0\n      :AKGt2r => 0.0\n  :EX_acald_e => 0.0\n    :EX_akg_e => 0.0\n    :EX_fru_e => 0.0\n    :EX_fum_e => 0.0\n :EX_gln__L_e => 0.0\n :EX_mal__L_e => 0.0\n    :EX_pyr_e => 0.0\n         :FBP => 0.0\n              ⋮\n     :EX_o2_e => 99.31988756644637\n         :O2t => 99.31988756644637\n        :CO2t => 110.16191059441503\n    :EX_co2_e => 110.16191059441503\n    :EX_h2o_e => 191.39111643618267\n        :H2Ot => 191.39111643618267\n      :NADH16 => 319.07124688534105\n       :CYTBD => 397.27955026578604\n      :ATPS4r => 426.1275908171446"
     },
     "metadata": {},
     "execution_count": 17
    }
   ],
   "cell_type": "code",
   "source": [
    "sort(collect(flux_changes), by = last)"
   ],
   "metadata": {},
   "execution_count": 17
  },
  {
   "cell_type": "markdown",
   "source": [
    "---\n",
    "\n",
    "*This notebook was generated using [Literate.jl](https://github.com/fredrikekre/Literate.jl).*"
   ],
   "metadata": {}
  }
 ],
 "nbformat_minor": 3,
 "metadata": {
  "language_info": {
   "file_extension": ".jl",
   "mimetype": "application/julia",
   "name": "julia",
   "version": "1.9.4"
  },
  "kernelspec": {
   "name": "julia-1.9",
   "display_name": "Julia 1.9.4",
   "language": "julia"
  }
 },
 "nbformat": 4
}
