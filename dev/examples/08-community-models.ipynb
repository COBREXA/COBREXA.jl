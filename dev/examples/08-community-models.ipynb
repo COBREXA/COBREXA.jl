{
 "cells": [
  {
   "cell_type": "markdown",
   "source": [
    "# Community FBA models"
   ],
   "metadata": {}
  },
  {
   "outputs": [],
   "cell_type": "code",
   "source": [
    "using COBREXA"
   ],
   "metadata": {},
   "execution_count": 1
  },
  {
   "cell_type": "markdown",
   "source": [
    "Here we will construct a community FBA model of two  *E. coli* \"core\" models\n",
    "that can interact by exchanging selected metabolites. To do this, we will need\n",
    "the model, which we can download if it is not already present."
   ],
   "metadata": {}
  },
  {
   "outputs": [
    {
     "name": "stdout",
     "output_type": "stream",
     "text": [
      "[ Info: using cached `e_coli_core.json'\n"
     ]
    },
    {
     "output_type": "execute_result",
     "data": {
      "text/plain": "\"e_coli_core.json\""
     },
     "metadata": {},
     "execution_count": 2
    }
   ],
   "cell_type": "code",
   "source": [
    "download_model(\n",
    "    \"http://bigg.ucsd.edu/static/models/e_coli_core.json\",\n",
    "    \"e_coli_core.json\",\n",
    "    \"7bedec10576cfe935b19218dc881f3fb14f890a1871448fc19a9b4ee15b448d8\",\n",
    ")"
   ],
   "metadata": {},
   "execution_count": 2
  },
  {
   "cell_type": "markdown",
   "source": [
    "Additionally to COBREXA and the model format package, we will need a solver\n",
    "-- let's use GLPK here:"
   ],
   "metadata": {}
  },
  {
   "outputs": [
    {
     "output_type": "execute_result",
     "data": {
      "text/plain": "AbstractFBCModels.CanonicalModel.Model(\n  reactions = Dict{String, AbstractFBCModels.CanonicalModel.Reaction}(\"ACALD\" =…\n  metabolites = Dict{String, AbstractFBCModels.CanonicalModel.Metabolite}(\"co2_…\n  genes = Dict{String, AbstractFBCModels.CanonicalModel.Gene}(\"b4301\" => Abstra…\n)\n"
     },
     "metadata": {},
     "execution_count": 3
    }
   ],
   "cell_type": "code",
   "source": [
    "import JSONFBCModels\n",
    "import GLPK\n",
    "import AbstractFBCModels.CanonicalModel as CM\n",
    "\n",
    "ecoli1 = load_model(\"e_coli_core.json\", CM.Model)\n",
    "ecoli1.reactions[\"EX_glc__D_e\"].lower_bound = -1000.0\n",
    "ecoli1.reactions[\"EX_glc__D_e\"].upper_bound = 1000.0\n",
    "ecoli2 = deepcopy(ecoli1)"
   ],
   "metadata": {},
   "execution_count": 3
  },
  {
   "cell_type": "markdown",
   "source": [
    "customize models a bit"
   ],
   "metadata": {}
  },
  {
   "outputs": [
    {
     "output_type": "execute_result",
     "data": {
      "text/plain": "0.0"
     },
     "metadata": {},
     "execution_count": 4
    }
   ],
   "cell_type": "code",
   "source": [
    "ecoli1.reactions[\"CYTBD\"].lower_bound = ecoli1.reactions[\"CYTBD\"].upper_bound = 0.0\n",
    "ecoli2.reactions[\"FBA\"].lower_bound = ecoli2.reactions[\"FBA\"].upper_bound = 0.0"
   ],
   "metadata": {},
   "execution_count": 4
  },
  {
   "cell_type": "markdown",
   "source": [
    "solve"
   ],
   "metadata": {}
  },
  {
   "outputs": [
    {
     "output_type": "execute_result",
     "data": {
      "text/plain": "ConstraintTrees.Tree{Float64} with 6 elements:\n  :bug1                => ConstraintTrees.Tree{Float64}(#= 4 elements =#)\n  :bug2                => ConstraintTrees.Tree{Float64}(#= 4 elements =#)\n  :community_balance   => ConstraintTrees.Tree{Float64}(#= 20 elements =#)\n  :community_biomass   => 0.523716\n  :community_exchanges => ConstraintTrees.Tree{Float64}(#= 20 elements =#)\n  :equal_growth        => ConstraintTrees.Tree{Float64}(#= 1 element =#)"
     },
     "metadata": {},
     "execution_count": 5
    }
   ],
   "cell_type": "code",
   "source": [
    "solution = community_flux_balance_analysis(\n",
    "    [\"bug1\" => (ecoli1, 0.2), \"bug2\" => (ecoli2, 0.8)],\n",
    "    [\"EX_glc__D_e\" => (-10.0, 0.0)],\n",
    "    optimizer = GLPK.Optimizer,\n",
    ")"
   ],
   "metadata": {},
   "execution_count": 5
  },
  {
   "cell_type": "markdown",
   "source": [
    "## Compare"
   ],
   "metadata": {}
  },
  {
   "cell_type": "markdown",
   "source": [
    "We can now e.g. observe the differences in individual pairs of exchanges:"
   ],
   "metadata": {}
  },
  {
   "outputs": [
    {
     "output_type": "execute_result",
     "data": {
      "text/plain": "ConstraintTrees.Tree{Tuple{Float64, Float64}} with 20 elements:\n  :EX_ac_e     => (16.5424, 0.0)\n  :EX_acald_e  => (0.0, 0.0)\n  :EX_akg_e    => (0.0, 0.0)\n  :EX_co2_e    => (-0.935723, 19.8177)\n  :EX_etoh_e   => (15.9879, 0.0)\n  :EX_for_e    => (35.0581, 2.52782)\n  :EX_fru_e    => (0.0, 0.0)\n  :EX_fum_e    => (0.0, 0.0)\n  :EX_glc__D_e => (-20.245, -7.43875)\n  :EX_gln__L_e => (0.0, 0.0)\n  :EX_glu__L_e => (8.88178e-16, 0.0)\n  :EX_h2o_e    => (-13.1086, 23.6327)\n  :EX_h_e      => (62.1062, 13.0336)\n  :EX_lac__D_e => (0.0, 0.0)\n  :EX_mal__L_e => (0.0, 0.0)\n  :EX_nh4_e    => (-2.85572, -2.85572)\n  :EX_o2_e     => (0.0, -20.4762)\n  :EX_pi_e     => (-1.92659, -1.92659)\n  :EX_pyr_e    => (0.0, 0.0)\n  :EX_succ_e   => (7.10543e-15, 0.0)"
     },
     "metadata": {},
     "execution_count": 6
    }
   ],
   "cell_type": "code",
   "source": [
    "import ConstraintTrees as C\n",
    "\n",
    "C.zip(\n",
    "    tuple,\n",
    "    solution.bug1.interface.exchanges,\n",
    "    solution.bug2.interface.exchanges,\n",
    "    Tuple{Float64,Float64},\n",
    ")"
   ],
   "metadata": {},
   "execution_count": 6
  },
  {
   "cell_type": "markdown",
   "source": [
    "## Which composition is best?"
   ],
   "metadata": {}
  },
  {
   "outputs": [
    {
     "output_type": "execute_result",
     "data": {
      "text/plain": "11-element Vector{Pair{Tuple{Float64, Float64}, Float64}}:\n                 (1.0, 0.0) => 0.21166294973531166\n                 (0.9, 0.1) => 0.23424604629802845\n                 (0.8, 0.2) => 0.25971971809640987\n                 (0.7, 0.3) => 0.2886768902449847\n                 (0.6, 0.4) => 0.32188455339556993\n                 (0.5, 0.5) => 0.36035269877962506\n                 (0.4, 0.6) => 0.4054388316161014\n (0.30000000000000004, 0.7) => 0.4590115020201965\n (0.19999999999999996, 0.8) => 0.5237157737585179\n (0.09999999999999998, 0.9) => 0.6034233598466001\n                 (0.0, 1.0) => 0.7040369478590228"
     },
     "metadata": {},
     "execution_count": 7
    }
   ],
   "cell_type": "code",
   "source": [
    "screen(0.0:0.1:1.0) do ratio2\n",
    "    ratio1 = 1 - ratio2\n",
    "    res = community_flux_balance_analysis(\n",
    "        [\"bug1\" => (ecoli1, ratio1), \"bug2\" => (ecoli2, ratio2)],\n",
    "        [\"EX_glc__D_e\" => (-10.0, 0.0)],\n",
    "        interface = :sbo, # usually more reproducible\n",
    "        optimizer = GLPK.Optimizer,\n",
    "    )\n",
    "    (ratio1, ratio2) => (isnothing(res) ? nothing : res.community_biomass)\n",
    "end"
   ],
   "metadata": {},
   "execution_count": 7
  },
  {
   "cell_type": "markdown",
   "source": [
    "...seems a lot like `bug1` will eventually disappear."
   ],
   "metadata": {}
  },
  {
   "cell_type": "markdown",
   "source": [
    "## Note about interfaces"
   ],
   "metadata": {}
  },
  {
   "cell_type": "markdown",
   "source": [
    "Some work:"
   ],
   "metadata": {}
  },
  {
   "outputs": [
    {
     "output_type": "execute_result",
     "data": {
      "text/plain": "ConstraintTrees.Tree{ConstraintTrees.Constraint} with 2 elements:\n  :biomass   => ConstraintTrees.Tree{ConstraintTrees.Constraint}(#= 1 element =…\n  :exchanges => ConstraintTrees.Tree{ConstraintTrees.Constraint}(#= 20 elements…"
     },
     "metadata": {},
     "execution_count": 8
    }
   ],
   "cell_type": "code",
   "source": [
    "flux_balance_constraints(ecoli1, interface = :sbo).interface"
   ],
   "metadata": {},
   "execution_count": 8
  },
  {
   "cell_type": "markdown",
   "source": [
    "Some generally don't do well:"
   ],
   "metadata": {}
  },
  {
   "outputs": [
    {
     "output_type": "execute_result",
     "data": {
      "text/plain": "ConstraintTrees.Tree{ConstraintTrees.Constraint} with 1 element:\n  :boundary => ConstraintTrees.Tree{ConstraintTrees.Constraint}(#= 20 elements …"
     },
     "metadata": {},
     "execution_count": 9
    }
   ],
   "cell_type": "code",
   "source": [
    "flux_balance_constraints(ecoli1, interface = :boundary).interface"
   ],
   "metadata": {},
   "execution_count": 9
  },
  {
   "cell_type": "markdown",
   "source": [
    "---\n",
    "\n",
    "*This notebook was generated using [Literate.jl](https://github.com/fredrikekre/Literate.jl).*"
   ],
   "metadata": {}
  }
 ],
 "nbformat_minor": 3,
 "metadata": {
  "language_info": {
   "file_extension": ".jl",
   "mimetype": "application/julia",
   "name": "julia",
   "version": "1.9.4"
  },
  "kernelspec": {
   "name": "julia-1.9",
   "display_name": "Julia 1.9.4",
   "language": "julia"
  }
 },
 "nbformat": 4
}
