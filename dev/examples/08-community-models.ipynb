{
 "cells": [
  {
   "cell_type": "markdown",
   "source": [
    "# Community FBA models"
   ],
   "metadata": {}
  },
  {
   "outputs": [],
   "cell_type": "code",
   "source": [
    "using COBREXA"
   ],
   "metadata": {},
   "execution_count": 1
  },
  {
   "cell_type": "markdown",
   "source": [
    "Here we will construct a community FBA model of two  *E. coli* \"core\" models\n",
    "that can interact by exchanging selected metabolites. To do this, we will need\n",
    "the model, which we can download if it is not already present."
   ],
   "metadata": {}
  },
  {
   "outputs": [
    {
     "output_type": "execute_result",
     "data": {
      "text/plain": "false"
     },
     "metadata": {},
     "execution_count": 2
    }
   ],
   "cell_type": "code",
   "source": [
    "import Downloads: download\n",
    "\n",
    "!isfile(\"e_coli_core.json\") &&\n",
    "    download(\"http://bigg.ucsd.edu/static/models/e_coli_core.json\", \"e_coli_core.json\")"
   ],
   "metadata": {},
   "execution_count": 2
  },
  {
   "cell_type": "markdown",
   "source": [
    "Additionally to COBREXA and the model format package, we will need a solver\n",
    "-- let's use GLPK here:"
   ],
   "metadata": {}
  },
  {
   "outputs": [
    {
     "output_type": "execute_result",
     "data": {
      "text/plain": "JSONFBCModels.JSONFBCModel(#= 95 reactions, 72 metabolites =#)"
     },
     "metadata": {},
     "execution_count": 3
    }
   ],
   "cell_type": "code",
   "source": [
    "import JSONFBCModels\n",
    "import GLPK\n",
    "import ConstraintTrees as C\n",
    "\n",
    "model = load_model(\"e_coli_core.json\")"
   ],
   "metadata": {},
   "execution_count": 3
  },
  {
   "cell_type": "markdown",
   "source": [
    "Community models work by joining its members together through their exchange\n",
    "reactions, weighted by the abundance of each microbe. These exchange reactions\n",
    "are then linked to an environmental exchange. For more theoretical details,\n",
    "see \"Gottstein, et al, 2016, Constraint-based stoichiometric modelling from\n",
    "single organisms to microbial communities, Journal of the Royal Society\n",
    "Interface\"."
   ],
   "metadata": {}
  },
  {
   "cell_type": "markdown",
   "source": [
    "## Building a community of two *E. coli*s"
   ],
   "metadata": {}
  },
  {
   "cell_type": "markdown",
   "source": [
    "Here we will construct a simple community of two interacting microbes. To do\n",
    "this, we need to import the models. We will represent the models only as\n",
    "constraint trees, because it is easier to build the model explicitly than\n",
    "rely on an opaque one-shot function."
   ],
   "metadata": {}
  },
  {
   "outputs": [
    {
     "output_type": "execute_result",
     "data": {
      "text/plain": "ConstraintTrees.Tree{ConstraintTrees.Constraint} with 4 elements:\n  :flux_stoichiometry => ConstraintTrees.Tree{ConstraintTrees.Constraint}(#= 72…\n  :fluxes             => ConstraintTrees.Tree{ConstraintTrees.Constraint}(#= 95…\n  :interface          => ConstraintTrees.Tree{ConstraintTrees.Constraint}(#= 2 …\n  :objective          => ConstraintTrees.Constraint(ConstraintTrees.LinearValue…"
     },
     "metadata": {},
     "execution_count": 4
    }
   ],
   "cell_type": "code",
   "source": [
    "ecoli1 = flux_balance_constraints(model, interface = :sbo)\n",
    "ecoli2 = flux_balance_constraints(model, interface = :sbo)"
   ],
   "metadata": {},
   "execution_count": 4
  },
  {
   "cell_type": "markdown",
   "source": [
    "Since the models are usually used in a mono-culture context, the glucose input\n",
    "for each individual member is limited. We need to undo this limitation, and\n",
    "rather rely on the constrained environmental exchange reaction (and the bounds\n",
    "we set for it earlier)."
   ],
   "metadata": {}
  },
  {
   "outputs": [
    {
     "output_type": "execute_result",
     "data": {
      "text/plain": "ConstraintTrees.Between(-1000.0, 1000.0)"
     },
     "metadata": {},
     "execution_count": 5
    }
   ],
   "cell_type": "code",
   "source": [
    "ecoli1.fluxes.EX_glc__D_e.bound = C.Between(-1000.0, 1000.0)\n",
    "ecoli2.fluxes.EX_glc__D_e.bound = C.Between(-1000.0, 1000.0)"
   ],
   "metadata": {},
   "execution_count": 5
  },
  {
   "cell_type": "markdown",
   "source": [
    "To make the community interesting, we can limit different reactions in both\n",
    "members to see how the  models cope together:"
   ],
   "metadata": {}
  },
  {
   "outputs": [
    {
     "output_type": "execute_result",
     "data": {
      "text/plain": "ConstraintTrees.Between(-5.0, 5.0)"
     },
     "metadata": {},
     "execution_count": 6
    }
   ],
   "cell_type": "code",
   "source": [
    "ecoli1.fluxes.CYTBD.bound = C.Between(-10.0, 10.0)\n",
    "ecoli2.fluxes.ACALD.bound = C.Between(-5.0, 5.0)"
   ],
   "metadata": {},
   "execution_count": 6
  },
  {
   "cell_type": "markdown",
   "source": [
    "Because we created the trees with interfaces, we can connect them easily to\n",
    "form a new model with the interface. For simplicity, we use the\n",
    "interface-scaling functionality of [`interface_constraints`](@ref\n",
    "ConstraintTrees.interface_constraints) to bring in cFBA-like community member\n",
    "abundances:"
   ],
   "metadata": {}
  },
  {
   "outputs": [
    {
     "output_type": "execute_result",
     "data": {
      "text/plain": "ConstraintTrees.Tree{ConstraintTrees.Constraint} with 4 elements:\n  :bug1              => ConstraintTrees.Tree{ConstraintTrees.Constraint}(#= 4 e…\n  :bug2              => ConstraintTrees.Tree{ConstraintTrees.Constraint}(#= 4 e…\n  :interface         => ConstraintTrees.Tree{ConstraintTrees.Constraint}(#= 2 e…\n  :interface_balance => ConstraintTrees.Tree{ConstraintTrees.Constraint}(#= 2 e…"
     },
     "metadata": {},
     "execution_count": 7
    }
   ],
   "cell_type": "code",
   "source": [
    "cc = interface_constraints(\n",
    "    :bug1 => (ecoli1, ecoli1.interface, 0.2),\n",
    "    :bug2 => (ecoli2, ecoli2.interface, 0.8),\n",
    ")"
   ],
   "metadata": {},
   "execution_count": 7
  },
  {
   "cell_type": "markdown",
   "source": [
    "To make the community behave as expected, we need to force equal (scaled)\n",
    "growth of all members:"
   ],
   "metadata": {}
  },
  {
   "outputs": [
    {
     "output_type": "execute_result",
     "data": {
      "text/plain": "ConstraintTrees.Tree{ConstraintTrees.Constraint} with 5 elements:\n  :bug1              => ConstraintTrees.Tree{ConstraintTrees.Constraint}(#= 4 e…\n  :bug2              => ConstraintTrees.Tree{ConstraintTrees.Constraint}(#= 4 e…\n  :equal_growth      => ConstraintTrees.Constraint(ConstraintTrees.LinearValue(…\n  :interface         => ConstraintTrees.Tree{ConstraintTrees.Constraint}(#= 2 e…\n  :interface_balance => ConstraintTrees.Tree{ConstraintTrees.Constraint}(#= 2 e…"
     },
     "metadata": {},
     "execution_count": 8
    }
   ],
   "cell_type": "code",
   "source": [
    "cc *=\n",
    "    :equal_growth^equal_value_constraint(\n",
    "        cc.bug1.fluxes.BIOMASS_Ecoli_core_w_GAM,\n",
    "        cc.bug2.fluxes.BIOMASS_Ecoli_core_w_GAM,\n",
    "    )"
   ],
   "metadata": {},
   "execution_count": 8
  },
  {
   "cell_type": "markdown",
   "source": [
    "Now we can simulate the community growth by optimizing the new \"interfaced\"\n",
    "biomass:"
   ],
   "metadata": {}
  },
  {
   "outputs": [
    {
     "output_type": "execute_result",
     "data": {
      "text/plain": "ConstraintTrees.Tree{Float64} with 5 elements:\n  :bug1              => ConstraintTrees.Tree{Float64}(#= 4 elements =#)\n  :bug2              => ConstraintTrees.Tree{Float64}(#= 4 elements =#)\n  :equal_growth      => 0.0\n  :interface         => ConstraintTrees.Tree{Float64}(#= 2 elements =#)\n  :interface_balance => ConstraintTrees.Tree{Float64}(#= 2 elements =#)"
     },
     "metadata": {},
     "execution_count": 9
    }
   ],
   "cell_type": "code",
   "source": [
    "optimized_cc = optimized_values(\n",
    "    cc,\n",
    "    objective = cc.interface.biomass.BIOMASS_Ecoli_core_w_GAM.value,\n",
    "    optimizer = GLPK.Optimizer,\n",
    ")"
   ],
   "metadata": {},
   "execution_count": 9
  },
  {
   "cell_type": "markdown",
   "source": [
    "We can now e.g. observe the differences in individual pairs of exchanges:"
   ],
   "metadata": {}
  },
  {
   "outputs": [
    {
     "output_type": "execute_result",
     "data": {
      "text/plain": "ConstraintTrees.Tree{Tuple{Float64, Float64}} with 20 elements:\n  :EX_ac_e     => (119.498, 340.912)\n  :EX_acald_e  => (0.0, 0.0)\n  :EX_akg_e    => (0.0, 0.0)\n  :EX_co2_e    => (423.72, 49.1276)\n  :EX_etoh_e   => (681.106, 0.0)\n  :EX_for_e    => (561.538, 340.123)\n  :EX_fru_e    => (0.0, 0.0)\n  :EX_fum_e    => (0.0, 2.13163e-14)\n  :EX_glc__D_e => (-543.854, -291.288)\n  :EX_gln__L_e => (0.0, 0.0)\n  :EX_glu__L_e => (-3.55271e-15, 0.0)\n  :EX_h2o_e    => (-141.56, 164.953)\n  :EX_h_e      => (1000.0, 1000.0)\n  :EX_lac__D_e => (0.0, 0.0)\n  :EX_mal__L_e => (0.0, 0.0)\n  :EX_nh4_e    => (-86.7025, -86.7025)\n  :EX_o2_e     => (-5.0, -200.806)\n  :EX_pi_e     => (-58.4933, -58.4933)\n  :EX_pyr_e    => (0.0, 0.0)\n  :EX_succ_e   => (0.0, 0.0)"
     },
     "metadata": {},
     "execution_count": 10
    }
   ],
   "cell_type": "code",
   "source": [
    "C.zip(\n",
    "    tuple,\n",
    "    optimized_cc.bug1.interface.exchanges,\n",
    "    optimized_cc.bug2.interface.exchanges,\n",
    "    Tuple{Float64,Float64},\n",
    ")"
   ],
   "metadata": {},
   "execution_count": 10
  },
  {
   "cell_type": "markdown",
   "source": [
    "---\n",
    "\n",
    "*This notebook was generated using [Literate.jl](https://github.com/fredrikekre/Literate.jl).*"
   ],
   "metadata": {}
  }
 ],
 "nbformat_minor": 3,
 "metadata": {
  "language_info": {
   "file_extension": ".jl",
   "mimetype": "application/julia",
   "name": "julia",
   "version": "1.9.4"
  },
  "kernelspec": {
   "name": "julia-1.9",
   "display_name": "Julia 1.9.4",
   "language": "julia"
  }
 },
 "nbformat": 4
}
