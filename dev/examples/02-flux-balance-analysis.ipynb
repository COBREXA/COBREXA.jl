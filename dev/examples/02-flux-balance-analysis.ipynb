{
 "cells": [
  {
   "cell_type": "markdown",
   "source": [
    "# Flux balance analysis (FBA)"
   ],
   "metadata": {}
  },
  {
   "cell_type": "markdown",
   "source": [
    "Here we use `flux_balance_analysis` and several related functions to\n",
    "find an optimal flux in the *E. coli* \"core\" model. We will need the model,\n",
    "which we can download using `download_model`:"
   ],
   "metadata": {}
  },
  {
   "outputs": [
    {
     "output_type": "execute_result",
     "data": {
      "text/plain": "\"e_coli_core.json\""
     },
     "metadata": {},
     "execution_count": 1
    }
   ],
   "cell_type": "code",
   "source": [
    "using COBREXA\n",
    "\n",
    "download_model(\n",
    "    \"http://bigg.ucsd.edu/static/models/e_coli_core.json\",\n",
    "    \"e_coli_core.json\",\n",
    "    \"7bedec10576cfe935b19218dc881f3fb14f890a1871448fc19a9b4ee15b448d8\",\n",
    ")"
   ],
   "metadata": {},
   "execution_count": 1
  },
  {
   "cell_type": "markdown",
   "source": [
    "Additionally to COBREXA and the model format package, we will need a solver\n",
    "-- let's use GLPK here:"
   ],
   "metadata": {}
  },
  {
   "outputs": [
    {
     "output_type": "execute_result",
     "data": {
      "text/plain": "JSONFBCModels.JSONFBCModel(#= 95 reactions, 72 metabolites =#)"
     },
     "metadata": {},
     "execution_count": 2
    }
   ],
   "cell_type": "code",
   "source": [
    "import JSONFBCModels\n",
    "import GLPK\n",
    "\n",
    "model = load_model(\"e_coli_core.json\")"
   ],
   "metadata": {},
   "execution_count": 2
  },
  {
   "cell_type": "markdown",
   "source": [
    "## Running a FBA\n",
    "\n",
    "There are many possibilities on how to arrange the metabolic model into the\n",
    "optimization framework and how to actually solve it. The \"usual\" assumed one\n",
    "is captured in the default behavior of function\n",
    "`flux_balance_analysis`:"
   ],
   "metadata": {}
  },
  {
   "outputs": [
    {
     "output_type": "execute_result",
     "data": {
      "text/plain": "ConstraintTrees.Tree{Float64} with 3 elements:\n  :flux_stoichiometry => ConstraintTrees.Tree{Float64}(#= 72 elements =#)\n  :fluxes             => ConstraintTrees.Tree{Float64}(#= 95 elements =#)\n  :objective          => 0.873922"
     },
     "metadata": {},
     "execution_count": 3
    }
   ],
   "cell_type": "code",
   "source": [
    "solution = flux_balance_analysis(model, GLPK.Optimizer)"
   ],
   "metadata": {},
   "execution_count": 3
  },
  {
   "cell_type": "markdown",
   "source": [
    "The result contains a tree of all optimized values in the model, including\n",
    "fluxes, the objective value, and possibly others (given by what the model\n",
    "contains).\n",
    "\n",
    "You can explore the dot notation to explore the solution, extracting e.g. the\n",
    "value of the objective:"
   ],
   "metadata": {}
  },
  {
   "outputs": [
    {
     "output_type": "execute_result",
     "data": {
      "text/plain": "0.8739215069684334"
     },
     "metadata": {},
     "execution_count": 4
    }
   ],
   "cell_type": "code",
   "source": [
    "solution.objective"
   ],
   "metadata": {},
   "execution_count": 4
  },
  {
   "cell_type": "markdown",
   "source": [
    "...or the value of the flux through the given reaction (note the solution is\n",
    "not unique in FBA):"
   ],
   "metadata": {}
  },
  {
   "outputs": [
    {
     "output_type": "execute_result",
     "data": {
      "text/plain": "7.477381962160268"
     },
     "metadata": {},
     "execution_count": 5
    }
   ],
   "cell_type": "code",
   "source": [
    "solution.fluxes.PFK"
   ],
   "metadata": {},
   "execution_count": 5
  },
  {
   "cell_type": "markdown",
   "source": [
    "...or make a \"table\" of all fluxes through all reactions:"
   ],
   "metadata": {}
  },
  {
   "outputs": [
    {
     "output_type": "execute_result",
     "data": {
      "text/plain": "95-element Vector{Pair{Symbol, Union{Float64, ConstraintTrees.Tree{Float64}}}}:\n    :ACALD => 1.0950945101384125e-14\n   :ACALDt => 0.0\n     :ACKr => -7.993605777301126e-15\n   :ACONTa => 6.007249575350299\n   :ACONTb => 6.007249575350299\n    :ACt2r => -7.993605777301126e-15\n     :ADK1 => -1.3322676295501878e-14\n    :AKGDH => 5.064375661482052\n   :AKGt2r => 0.0\n   :ALCD2x => 1.0950945101384125e-14\n           ⋮\n :SUCCt2_2 => 0.0\n   :SUCCt3 => 0.0\n    :SUCDi => 5.064375661482065\n   :SUCOAS => -5.064375661482061\n     :TALA => 1.4969837572615798\n     :THD2 => -7.993605777301127e-15\n     :TKT1 => 1.496983757261579\n     :TKT2 => 1.181498093245977\n      :TPI => 7.477381962160284"
     },
     "metadata": {},
     "execution_count": 6
    }
   ],
   "cell_type": "code",
   "source": [
    "collect(solution.fluxes)"
   ],
   "metadata": {},
   "execution_count": 6
  },
  {
   "cell_type": "markdown",
   "source": [
    "## Advanced: Finding flux balance via the low-level interface"
   ],
   "metadata": {}
  },
  {
   "cell_type": "markdown",
   "source": [
    "TODO ConstraintTrees (maybe put this into a separate example?)"
   ],
   "metadata": {}
  },
  {
   "cell_type": "markdown",
   "source": [
    "---\n",
    "\n",
    "*This notebook was generated using [Literate.jl](https://github.com/fredrikekre/Literate.jl).*"
   ],
   "metadata": {}
  }
 ],
 "nbformat_minor": 3,
 "metadata": {
  "language_info": {
   "file_extension": ".jl",
   "mimetype": "application/julia",
   "name": "julia",
   "version": "1.9.4"
  },
  "kernelspec": {
   "name": "julia-1.9",
   "display_name": "Julia 1.9.4",
   "language": "julia"
  }
 },
 "nbformat": 4
}
