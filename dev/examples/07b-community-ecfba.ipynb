{
 "cells": [
  {
   "cell_type": "markdown",
   "source": [
    "# Enzyme-constrained communities\n",
    "\n",
    "This example demonstrates a simple way to create enzyme-constrained community\n",
    "models. We use the genome-scale iML1515 E. coli model to simulate a community\n",
    "of 2 auxotrophic organisms (both of which exhibit no growth in isolation due\n",
    "to the lack of the amino acid), and observe how they can save each other by\n",
    "supplying themselves amino-acids. Such analysis easily extends to more\n",
    "auxotrophes and even communities of several different species.\n",
    "\n",
    "The simulations are, very roughly, replicating the logic of the experimental\n",
    "work by *Mee, Michael T., et al.  \"Syntrophic exchange in synthetic microbial\n",
    "communities.\" Proceedings of the National Academy of Sciences 111.20 (2014)*."
   ],
   "metadata": {}
  },
  {
   "cell_type": "markdown",
   "source": [
    "As usual, we start by loading packages and downloading models:"
   ],
   "metadata": {}
  },
  {
   "outputs": [
    {
     "name": "stdout",
     "output_type": "stream",
     "text": [
      "[ Info: using cached `iML1515.json'\n"
     ]
    },
    {
     "output_type": "execute_result",
     "data": {
      "text/plain": "\"iML1515.json\""
     },
     "metadata": {},
     "execution_count": 1
    }
   ],
   "cell_type": "code",
   "source": [
    "using COBREXA\n",
    "import AbstractFBCModels as A\n",
    "import JSONFBCModels\n",
    "import ConstraintTrees as C\n",
    "import HiGHS\n",
    "\n",
    "download_model(\n",
    "    \"http://bigg.ucsd.edu/static/models/iML1515.json\",\n",
    "    \"iML1515.json\",\n",
    "    \"b0f9199f048779bb08a14dfa6c09ec56d35b8750d2f99681980d0f098355fbf5\",\n",
    ")"
   ],
   "metadata": {},
   "execution_count": 1
  },
  {
   "cell_type": "markdown",
   "source": [
    "## Collecting data and parameters\n",
    "\n",
    "Enzyme-constrained models require parameters for protein molar masses and\n",
    "reaction turnover numbers (kcats). COBREXA supplies prepared example data for\n",
    "the iML1515 model; in this section we summarize the loading of the data into\n",
    "Julia structures from the used format. Other formats will work just as well.\n",
    "\n",
    "The loading is hidden by default for brevity:"
   ],
   "metadata": {}
  },
  {
   "outputs": [],
   "cell_type": "code",
   "source": [
    "import CSV\n",
    "\n",
    "data_dir = joinpath(dirname(pathof(COBREXA)), \"..\", \"docs\", \"src\", \"examples\", \"data\");\n",
    "\n",
    "e_coli_gp_mass = Dict{String,Float64}(\n",
    "    x.gene_product => x.mass for\n",
    "    x in CSV.File(joinpath(data_dir, \"e_coli_gp_mass.tsv\"), delim = '\\t')\n",
    ");\n",
    "\n",
    "kcat_scale = 3600 / 1e3;\n",
    "e_coli_rxn_kcat_isozyme = Dict{String,Isozyme}(\n",
    "    x.reaction => Isozyme(\n",
    "        kcat_forward = x.kcat * kcat_scale,\n",
    "        kcat_reverse = x.kcat * kcat_scale,\n",
    "        gene_product_stoichiometry = Dict(),\n",
    "    ) for x in CSV.File(joinpath(data_dir, \"e_coli_reaction_kcat.tsv\"), delim = '\\t')\n",
    ");\n",
    "\n",
    "e_coli_rxn_isozymes = Dict{String,Dict{String,Isozyme}}();\n",
    "for x in CSV.File(joinpath(data_dir, \"e_coli_isozyme_gp.tsv\"), delim = '\\t')\n",
    "    haskey(e_coli_rxn_kcat_isozyme, x.reaction) || continue\n",
    "    rxn = get!(e_coli_rxn_isozymes, x.reaction, Dict{String,Isozyme}())\n",
    "    iso = get!(rxn, x.isozyme, deepcopy(e_coli_rxn_kcat_isozyme[x.reaction]))\n",
    "    iso.gene_product_stoichiometry[x.gene_product] = x.stoichiometry\n",
    "end;"
   ],
   "metadata": {},
   "execution_count": 2
  },
  {
   "cell_type": "markdown",
   "source": [
    "In the end, we have gene product weight data (just like in the\n",
    "[enzyme-constrained model example](05b-enzyme-constrained-models.md)):"
   ],
   "metadata": {}
  },
  {
   "outputs": [
    {
     "output_type": "execute_result",
     "data": {
      "text/plain": "Dict{String, Float64} with 1517 entries:\n  \"b1329\" => 59.9\n  \"b3236\" => 32.337\n  \"b0688\" => 58.361\n  \"b2052\" => 36.141\n  \"b0832\" => 33.238\n  \"b0586\" => 141.991\n  \"b2245\" => 28.916\n  \"b1759\" => 15.046\n  \"b3772\" => 56.195\n  \"b1692\" => 54.58\n  \"b3850\" => 21.226\n  \"b1006\" => 45.557\n  \"b3428\" => 93.173\n  \"b0635\" => 70.857\n  \"b1387\" => 73.003\n  \"b1588\" => 89.987\n  \"b2541\" => 28.5\n  \"b4478\" => 42.523\n  \"b2143\" => 31.54\n  ⋮       => ⋮"
     },
     "metadata": {},
     "execution_count": 3
    }
   ],
   "cell_type": "code",
   "source": [
    "e_coli_gp_mass"
   ],
   "metadata": {},
   "execution_count": 3
  },
  {
   "cell_type": "markdown",
   "source": [
    "... as well as isozyme data with kcats:"
   ],
   "metadata": {}
  },
  {
   "outputs": [
    {
     "output_type": "execute_result",
     "data": {
      "text/plain": "Dict{String, Dict{String, Isozyme}} with 2266 entries:\n  \"PACOAT\"        => Dict(\"iso1\"=>Isozyme(Dict(\"b1396\"=>4.0), 33.9551, 33.9551))\n  \"Zn2tex\"        => Dict(\"iso3\"=>Isozyme(Dict(\"b1377\"=>3.0), 648.0, 648.0), \"i…\n  \"GUI1\"          => Dict(\"iso1\"=>Isozyme(Dict(\"b3092\"=>1.0), 21.4406, 21.4406))\n  \"DXYLK\"         => Dict(\"iso1\"=>Isozyme(Dict(\"b3564\"=>2.0), 28.7528, 28.7528))\n  \"CBL1tonex\"     => Dict(\"iso1\"=>Isozyme(Dict(\"b3005\"=>1.0, \"b3006\"=>4.0, \"b39…\n  \"FE3DCITtonex\"  => Dict(\"iso1\"=>Isozyme(Dict(\"b3005\"=>3.0, \"b3006\"=>6.0, \"b42…\n  \"FACOAL180t2pp\" => Dict(\"iso1\"=>Isozyme(Dict(\"b1701\"=>2.0), 28.4896, 28.4896)…\n  \"METSOXR1\"      => Dict(\"iso3\"=>Isozyme(Dict(\"b3781\"=>1.0, \"b3551\"=>1.0), 115…\n  \"LIPOtex\"       => Dict(\"iso3\"=>Isozyme(Dict(\"b1377\"=>3.0), 648.0, 648.0), \"i…\n  \"NTD11\"         => Dict(\"iso1\"=>Isozyme(Dict(\"b2744\"=>1.0), 24.6906, 24.6906)…\n  \"GLUNpp\"        => Dict(\"iso1\"=>Isozyme(Dict(\"b2957\"=>4.0), 18.2572, 18.2572))\n  \"ORNDC\"         => Dict(\"iso1\"=>Isozyme(Dict(\"b0693\"=>1.0), 130.25, 130.25), …\n  \"ALAGLUE\"       => Dict(\"iso1\"=>Isozyme(Dict(\"b1325\"=>1.0), 24.1219, 24.1219))\n  \"UAGCVT\"        => Dict(\"iso1\"=>Isozyme(Dict(\"b3189\"=>1.0), 11.88, 11.88))\n  \"I2FE2ST\"       => Dict(\"iso1\"=>Isozyme(Dict(\"b2529\"=>1.0, \"b2528\"=>1.0), 11.…\n  \"6D6SPA\"        => Dict(\"iso1\"=>Isozyme(Dict(\"b3881\"=>1.0), 149.289, 149.289))\n  \"BMOCOS\"        => Dict(\"iso1\"=>Isozyme(Dict(\"b0827\"=>2.0), 0.072, 0.072))\n  \"GLCURt2rpp\"    => Dict(\"iso1\"=>Isozyme(Dict(\"b3093\"=>1.0), 648.0, 648.0), \"i…\n  \"PGSA141\"       => Dict(\"iso1\"=>Isozyme(Dict(\"b1912\"=>1.0), 40.7639, 40.7639))\n  ⋮               => ⋮"
     },
     "metadata": {},
     "execution_count": 4
    }
   ],
   "cell_type": "code",
   "source": [
    "e_coli_rxn_isozymes"
   ],
   "metadata": {},
   "execution_count": 4
  },
  {
   "cell_type": "markdown",
   "source": [
    "## Model assembly\n",
    "\n",
    "For simplicity, we will work with the \"canonical\" Julia-structured view of\n",
    "the iML1515:"
   ],
   "metadata": {}
  },
  {
   "outputs": [
    {
     "output_type": "execute_result",
     "data": {
      "text/plain": "AbstractFBCModels.CanonicalModel.Model(\n  reactions = Dict{String, AbstractFBCModels.CanonicalModel.Reaction}(\"PACOAT\" …\n  metabolites = Dict{String, AbstractFBCModels.CanonicalModel.Metabolite}(\"hphh…\n  genes = Dict{String, AbstractFBCModels.CanonicalModel.Gene}(\"b1329\" => Abstra…\n  couplings = Dict{String, AbstractFBCModels.CanonicalModel.Coupling}(),\n)\n"
     },
     "metadata": {},
     "execution_count": 5
    }
   ],
   "cell_type": "code",
   "source": [
    "wt_model = load_model(\"iML1515.json\", A.CanonicalModel.Model)"
   ],
   "metadata": {},
   "execution_count": 5
  },
  {
   "cell_type": "markdown",
   "source": [
    "As the usual quirk, we loosen the lower bound on glucose intake that is\n",
    "required to keep plain FBA solutions realistic:"
   ],
   "metadata": {}
  },
  {
   "outputs": [],
   "cell_type": "code",
   "source": [
    "wt_model.reactions[\"EX_glc__D_e\"].lower_bound = -1000.0;"
   ],
   "metadata": {},
   "execution_count": 6
  },
  {
   "cell_type": "markdown",
   "source": [
    "Additionally we allow isoleucine and methionine uptake by the models:"
   ],
   "metadata": {}
  },
  {
   "outputs": [],
   "cell_type": "code",
   "source": [
    "wt_model.reactions[\"EX_ile__L_e\"].lower_bound = -1000.0;\n",
    "wt_model.reactions[\"EX_met__L_e\"].lower_bound = -1000.0;"
   ],
   "metadata": {},
   "execution_count": 7
  },
  {
   "cell_type": "markdown",
   "source": [
    "...and for good manners, we also remove the biomass annotation from the\n",
    "biomass reaction that we are not interested in:"
   ],
   "metadata": {}
  },
  {
   "outputs": [],
   "cell_type": "code",
   "source": [
    "wt_model.reactions[\"BIOMASS_Ec_iML1515_WT_75p37M\"].annotations[\"sbo\"] = [];"
   ],
   "metadata": {},
   "execution_count": 8
  },
  {
   "cell_type": "markdown",
   "source": [
    "Let's create two knockouts-- the first one incapable of producing isoleucine:"
   ],
   "metadata": {}
  },
  {
   "outputs": [],
   "cell_type": "code",
   "source": [
    "ile_model = deepcopy(wt_model)\n",
    "delete!(ile_model.reactions, \"THRD_L\");"
   ],
   "metadata": {},
   "execution_count": 9
  },
  {
   "cell_type": "markdown",
   "source": [
    "...and another one without a reaction that is required for producing\n",
    "methionine:"
   ],
   "metadata": {}
  },
  {
   "outputs": [],
   "cell_type": "code",
   "source": [
    "met_model = deepcopy(wt_model)\n",
    "delete!(met_model.reactions, \"HSST\");"
   ],
   "metadata": {},
   "execution_count": 10
  },
  {
   "cell_type": "markdown",
   "source": [
    "For brevity, let's make a shortcut that creates enzyme-constrained FBA system\n",
    "from the model together with a proper interface for community building:"
   ],
   "metadata": {}
  },
  {
   "outputs": [
    {
     "output_type": "execute_result",
     "data": {
      "text/plain": "ecfba_constraints (generic function with 1 method)"
     },
     "metadata": {},
     "execution_count": 11
    }
   ],
   "cell_type": "code",
   "source": [
    "ecfba_constraints(m, capacity) = enzyme_constrained_flux_balance_constraints(\n",
    "    m,\n",
    "    reaction_isozymes = e_coli_rxn_isozymes,\n",
    "    gene_product_molar_masses = e_coli_gp_mass,\n",
    "    interface = :sbo;\n",
    "    capacity,\n",
    ")"
   ],
   "metadata": {},
   "execution_count": 11
  },
  {
   "cell_type": "markdown",
   "source": [
    "We can now create the community by creating each model's constraint tree with\n",
    "an interface with `enzyme_constrained_flux_balance_constraints`, and\n",
    "connecting them via `community_flux_balance_constraints`. We have to\n",
    "pick the model abundances for cFBA, so we pick 1:1 abundance ratio. We also\n",
    "have to pick the capacities for the enzyme-constrained models (these will be\n",
    "properly diluted by the community FBA formulation), and specify that the\n",
    "community is not allowed to exchange either of our two selected amino acids\n",
    "externally (the individual models might cheat the auxotrophe community\n",
    "setting by consuming these)."
   ],
   "metadata": {}
  },
  {
   "outputs": [
    {
     "output_type": "execute_result",
     "data": {
      "text/plain": "ConstraintTrees.ConstraintTree with 6 elements:\n  :community_balance   => ConstraintTrees.ConstraintTree(#= 331 elements =#)\n  :community_biomass   => ConstraintTrees.Constraint(ConstraintTrees.LinearValu…\n  :community_exchanges => ConstraintTrees.ConstraintTree(#= 331 elements =#)\n  :equal_growth        => ConstraintTrees.ConstraintTree(#= 1 element =#)\n  :ile_ko              => ConstraintTrees.ConstraintTree(#= 13 elements =#)\n  :met_ko              => ConstraintTrees.ConstraintTree(#= 13 elements =#)"
     },
     "metadata": {},
     "execution_count": 12
    }
   ],
   "cell_type": "code",
   "source": [
    "community_constraints = community_flux_balance_constraints(\n",
    "    [\n",
    "        \"ile_ko\" => (ecfba_constraints(ile_model, 100.0), 0.5),\n",
    "        \"met_ko\" => (ecfba_constraints(met_model, 100.0), 0.5),\n",
    "    ],\n",
    "    [\"EX_ile__L_e\" => 0.0, \"EX_met__L_e\" => 0.0],\n",
    ")"
   ],
   "metadata": {},
   "execution_count": 12
  },
  {
   "cell_type": "markdown",
   "source": [
    "## Simulating the community\n",
    "\n",
    "Since the community constraints created above form a completely normal\n",
    "optimization problem, we can optimize them as usual via\n",
    "`optimized_values`; picking the `community_biomass` value as an\n",
    "objective:"
   ],
   "metadata": {}
  },
  {
   "outputs": [
    {
     "output_type": "execute_result",
     "data": {
      "text/plain": "ConstraintTrees.Tree{Float64} with 6 elements:\n  :community_balance   => ConstraintTrees.Tree{Float64}(#= 331 elements =#)\n  :community_biomass   => 0.230488\n  :community_exchanges => ConstraintTrees.Tree{Float64}(#= 331 elements =#)\n  :equal_growth        => ConstraintTrees.Tree{Float64}(#= 1 element =#)\n  :ile_ko              => ConstraintTrees.Tree{Float64}(#= 13 elements =#)\n  :met_ko              => ConstraintTrees.Tree{Float64}(#= 13 elements =#)"
     },
     "metadata": {},
     "execution_count": 13
    }
   ],
   "cell_type": "code",
   "source": [
    "res = optimized_values(\n",
    "    community_constraints,\n",
    "    objective = community_constraints.community_biomass.value,\n",
    "    optimizer = HiGHS.Optimizer,\n",
    ")"
   ],
   "metadata": {},
   "execution_count": 13
  },
  {
   "cell_type": "markdown",
   "source": [
    "We can observe that the community indeed grows, although not as quickly as\n",
    "the WT model normally would:"
   ],
   "metadata": {}
  },
  {
   "outputs": [
    {
     "output_type": "execute_result",
     "data": {
      "text/plain": "0.2304879809596633"
     },
     "metadata": {},
     "execution_count": 14
    }
   ],
   "cell_type": "code",
   "source": [
    "res.community_biomass"
   ],
   "metadata": {},
   "execution_count": 14
  },
  {
   "cell_type": "markdown",
   "source": [
    "One may also observe the \"global\" community exchanges:"
   ],
   "metadata": {}
  },
  {
   "outputs": [
    {
     "output_type": "execute_result",
     "data": {
      "text/plain": "331-element Vector{Pair{Symbol, Union{Float64, ConstraintTrees.Tree{Float64}}}}:\n  :EX_glc__D_e => -11.45938376478452\n      :EX_o2_e => -10.09733248430452\n     :EX_nh4_e => -2.4892506028859476\n      :EX_pi_e => -0.22233008936155146\n     :EX_so4_e => -0.05804148336526241\n       :EX_k_e => -0.04498964046745957\n     :EX_mg2_e => -0.0019994832348250793\n     :EX_fe2_e => -0.0019022173068601014\n     :EX_fe3_e => -0.001799650155333051\n     :EX_ca2_e => -0.0011996899408950475\n               ⋮\n :EX_xylu__L_e => 0.0\n    :EX_meoh_e => 4.6097596191932663e-7\n  :EX_dxylnt_e => 0.00010279763950800903\n     :EX_co2_e => 0.45749610377308664\n     :EX_for_e => 0.9776511883414105\n     :EX_pyr_e => 1.4998199654895021\n  :EX_5dglcn_e => 8.893365393706606\n       :EX_h_e => 13.490554529094084\n     :EX_h2o_e => 16.93633191576877"
     },
     "metadata": {},
     "execution_count": 15
    }
   ],
   "cell_type": "code",
   "source": [
    "sort(collect(res.community_exchanges), by = last)"
   ],
   "metadata": {},
   "execution_count": 15
  },
  {
   "cell_type": "markdown",
   "source": [
    "Appropriately, we can check that the individual community members exchange\n",
    "the expected amino acids (the individual values are scaled to the individual\n",
    "members' biomasses; in the community view these values would be halved by the\n",
    "0.5 abundances):"
   ],
   "metadata": {}
  },
  {
   "outputs": [
    {
     "output_type": "execute_result",
     "data": {
      "text/plain": "2×2 Matrix{Float64}:\n  0.0669634  -0.0354746\n -0.0669634   0.0354746"
     },
     "metadata": {},
     "execution_count": 16
    }
   ],
   "cell_type": "code",
   "source": [
    "[\n",
    "    res.met_ko.fluxes.EX_ile__L_e res.met_ko.fluxes.EX_met__L_e\n",
    "    res.ile_ko.fluxes.EX_ile__L_e res.ile_ko.fluxes.EX_met__L_e\n",
    "]"
   ],
   "metadata": {},
   "execution_count": 16
  },
  {
   "cell_type": "markdown",
   "source": [
    "We can see that isoleucine is indeed moving into the isoleucine knockout, and\n",
    "methionine into the methionine knockout. (The signs follow the usual exchange\n",
    "convention where negative values mean uptake and positive values mean\n",
    "secretion.)\n",
    "\n",
    "Finally, one might be interested in finding the optimal community composition\n",
    "for the auxotrophes. [The example on community\n",
    "building](04-community-models.md) describes a common way to find the optimal\n",
    "abundance ratios via screening."
   ],
   "metadata": {}
  },
  {
   "cell_type": "markdown",
   "source": [
    "---\n",
    "\n",
    "*This notebook was generated using [Literate.jl](https://github.com/fredrikekre/Literate.jl).*"
   ],
   "metadata": {}
  }
 ],
 "nbformat_minor": 3,
 "metadata": {
  "language_info": {
   "file_extension": ".jl",
   "mimetype": "application/julia",
   "name": "julia",
   "version": "1.11.3"
  },
  "kernelspec": {
   "name": "julia-1.11",
   "display_name": "Julia 1.11.3",
   "language": "julia"
  }
 },
 "nbformat": 4
}
