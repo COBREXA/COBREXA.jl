{
 "cells": [
  {
   "cell_type": "markdown",
   "source": [
    "# Growth medium optimization\n",
    "\n",
    "With mixed-integer linear programming, it is possible to find the \"simplest\"\n",
    "substrate medium that can support the growth of the model. This\n",
    "medium-optimization analysis minimizes the total amount of exchange reactions\n",
    "that are active (i.e., the flux is not zero). Medium optimization can be used\n",
    "to scan for diverse feeds that can support your model, and to identify\n",
    "metabolites that are crucial for growth.\n",
    "\n",
    "Here, we will use the toy *E. coli* toy model and see what are the diverse\n",
    "\"minimal\" nutrient combinations that can support its growth."
   ],
   "metadata": {}
  },
  {
   "outputs": [
    {
     "name": "stdout",
     "output_type": "stream",
     "text": [
      "[ Info: using cached `e_coli_core.json'\n"
     ]
    },
    {
     "output_type": "execute_result",
     "data": {
      "text/plain": "JSONFBCModels.JSONFBCModel(#= 95 reactions, 72 metabolites =#)"
     },
     "metadata": {},
     "execution_count": 1
    }
   ],
   "cell_type": "code",
   "source": [
    "using COBREXA\n",
    "\n",
    "download_model(\n",
    "    \"http://bigg.ucsd.edu/static/models/e_coli_core.json\",\n",
    "    \"e_coli_core.json\",\n",
    "    \"7bedec10576cfe935b19218dc881f3fb14f890a1871448fc19a9b4ee15b448d8\",\n",
    ")\n",
    "\n",
    "import JSONFBCModels, HiGHS\n",
    "model = load_model(\"e_coli_core.json\")"
   ],
   "metadata": {},
   "execution_count": 1
  },
  {
   "cell_type": "markdown",
   "source": [
    "To get a good guess on how much the model can grow on an arbitrary medium, we\n",
    "solve it using FBA:"
   ],
   "metadata": {}
  },
  {
   "outputs": [
    {
     "output_type": "execute_result",
     "data": {
      "text/plain": "0.8739215069684305"
     },
     "metadata": {},
     "execution_count": 2
    }
   ],
   "cell_type": "code",
   "source": [
    "fba_result = flux_balance_analysis(model; optimizer = HiGHS.Optimizer);\n",
    "fba_result.objective"
   ],
   "metadata": {},
   "execution_count": 2
  },
  {
   "cell_type": "markdown",
   "source": [
    "## Find a minimal set of exchanges"
   ],
   "metadata": {}
  },
  {
   "cell_type": "markdown",
   "source": [
    "Medium optimization is implemented in `medium_optimization_analysis`.\n",
    "\n",
    "The function assumes the **negative flux** through exchanges is the\n",
    "metabolite uptake direction (which is a common assumption in models). The\n",
    "optimization minimizes the total count of the exchange reactions that are\n",
    "running in the uptake direction.\n",
    "\n",
    "Accordingly, the function needs to know a way to identify the exchange\n",
    "reactions; by default it uses `flux_balance_constraints` with\n",
    "parameter `interface = :identifier_prefixes`, and finds the exchanges from\n",
    "the generated interface. If one aims to optimize a different set of\n",
    "exchanges, it is possible to specify these via argument `exchange_reactions`."
   ],
   "metadata": {}
  },
  {
   "outputs": [
    {
     "output_type": "execute_result",
     "data": {
      "text/plain": "ConstraintTrees.Tree{Float64} with 5 elements:\n  :exchange_flag_bounds => ConstraintTrees.Tree{Float64}(#= 20 elements =#)\n  :medium_cost          => 4.0\n  :medium_flags         => ConstraintTrees.Tree{Float64}(#= 20 elements =#)\n  :medium_size          => 4.0\n  :system               => ConstraintTrees.Tree{Float64}(#= 5 elements =#)"
     },
     "metadata": {},
     "execution_count": 3
    }
   ],
   "cell_type": "code",
   "source": [
    "x = medium_optimization_analysis(\n",
    "    model,\n",
    "    fba_result.objective * 0.9,\n",
    "    optimizer = HiGHS.Optimizer,\n",
    ")"
   ],
   "metadata": {},
   "execution_count": 3
  },
  {
   "cell_type": "markdown",
   "source": [
    "We can find the medium from the \"flag\" variables:"
   ],
   "metadata": {}
  },
  {
   "outputs": [
    {
     "output_type": "execute_result",
     "data": {
      "text/plain": "4-element Vector{Symbol}:\n :EX_glc__D_e\n :EX_nh4_e\n :EX_o2_e\n :EX_pi_e"
     },
     "metadata": {},
     "execution_count": 4
    }
   ],
   "cell_type": "code",
   "source": [
    "medium = [k for (k, v) in x.medium_flags if v != 0]"
   ],
   "metadata": {},
   "execution_count": 4
  },
  {
   "cell_type": "markdown",
   "source": [
    "If one wishes to find a different medium, it is possible to supply \"known\"\n",
    "flags; in turn, this combination will be avoided."
   ],
   "metadata": {}
  },
  {
   "outputs": [
    {
     "name": "stdout",
     "output_type": "stream",
     "text": [
      "nothing\n"
     ]
    }
   ],
   "cell_type": "code",
   "source": [
    "y = medium_optimization_analysis(\n",
    "    model,\n",
    "    fba_result.objective * 0.9,\n",
    "    optimizer = HiGHS.Optimizer,\n",
    "    known_flags = [x.medium_flags],\n",
    ");\n",
    "println(y)"
   ],
   "metadata": {},
   "execution_count": 5
  },
  {
   "cell_type": "markdown",
   "source": [
    "Turns out that for the toy model, there is no other feasible medium that\n",
    "could support the growth rate! To compensate, we may relax our requirements\n",
    "on the model a little and see if it can grow with a different configuration:"
   ],
   "metadata": {}
  },
  {
   "outputs": [
    {
     "output_type": "execute_result",
     "data": {
      "text/plain": "ConstraintTrees.Tree{Float64} with 6 elements:\n  :exchange_flag_bounds => ConstraintTrees.Tree{Float64}(#= 20 elements =#)\n  :known_medium_1       => 1.0\n  :medium_cost          => 3.0\n  :medium_flags         => ConstraintTrees.Tree{Float64}(#= 20 elements =#)\n  :medium_size          => 3.0\n  :system               => ConstraintTrees.Tree{Float64}(#= 5 elements =#)"
     },
     "metadata": {},
     "execution_count": 6
    }
   ],
   "cell_type": "code",
   "source": [
    "y = medium_optimization_analysis(\n",
    "    model,\n",
    "    fba_result.objective * 0.2,   # <-- uses a a lower constant here\n",
    "    optimizer = HiGHS.Optimizer,\n",
    "    known_flags = [x.medium_flags],\n",
    ")"
   ],
   "metadata": {},
   "execution_count": 6
  },
  {
   "cell_type": "markdown",
   "source": [
    "Indeed, we got another medium; showing that the model may exhibit some growth\n",
    "even without oxygen:"
   ],
   "metadata": {}
  },
  {
   "outputs": [
    {
     "output_type": "execute_result",
     "data": {
      "text/plain": "3-element Vector{Symbol}:\n :EX_glc__D_e\n :EX_nh4_e\n :EX_pi_e"
     },
     "metadata": {},
     "execution_count": 7
    }
   ],
   "cell_type": "code",
   "source": [
    "medium2 = [k for (k, v) in y.medium_flags if v != 0]"
   ],
   "metadata": {},
   "execution_count": 7
  },
  {
   "cell_type": "markdown",
   "source": [
    "---\n",
    "\n",
    "*This notebook was generated using [Literate.jl](https://github.com/fredrikekre/Literate.jl).*"
   ],
   "metadata": {}
  }
 ],
 "nbformat_minor": 3,
 "metadata": {
  "language_info": {
   "file_extension": ".jl",
   "mimetype": "application/julia",
   "name": "julia",
   "version": "1.11.6"
  },
  "kernelspec": {
   "name": "julia-1.11",
   "display_name": "Julia 1.11.6",
   "language": "julia"
  }
 },
 "nbformat": 4
}
