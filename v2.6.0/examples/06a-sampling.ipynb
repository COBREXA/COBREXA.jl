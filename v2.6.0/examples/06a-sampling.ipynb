{
 "cells": [
  {
   "cell_type": "markdown",
   "source": [
    "# Flux sampling\n",
    "\n",
    "Flux sampling gives an interesting statistical insight into the behavior of\n",
    "the model in the optimal feasible space, and the general \"shape\" of the\n",
    "optimal- or near-optimal set of feasible states of a given model."
   ],
   "metadata": {}
  },
  {
   "cell_type": "markdown",
   "source": [
    "For demonstration, we need the usual packages and models:"
   ],
   "metadata": {}
  },
  {
   "outputs": [
    {
     "name": "stdout",
     "output_type": "stream",
     "text": [
      "[ Info: using cached `e_coli_core.json'\n"
     ]
    },
    {
     "output_type": "execute_result",
     "data": {
      "text/plain": "JSONFBCModels.JSONFBCModel(#= 95 reactions, 72 metabolites =#)"
     },
     "metadata": {},
     "execution_count": 1
    }
   ],
   "cell_type": "code",
   "source": [
    "using COBREXA\n",
    "\n",
    "download_model(\n",
    "    \"http://bigg.ucsd.edu/static/models/e_coli_core.json\",\n",
    "    \"e_coli_core.json\",\n",
    "    \"7bedec10576cfe935b19218dc881f3fb14f890a1871448fc19a9b4ee15b448d8\",\n",
    ")\n",
    "\n",
    "import JSONFBCModels, HiGHS\n",
    "\n",
    "model = load_model(\"e_coli_core.json\")"
   ],
   "metadata": {},
   "execution_count": 1
  },
  {
   "cell_type": "markdown",
   "source": [
    "Function `flux_sample` uses linear optimization to generate a set of\n",
    "warm-up points (by default, the method to generate the warm-up is basically\n",
    "FVA), and then runs the hit-and-run flux sampling algorithm on the\n",
    "near-optimal feasible space of the model:"
   ],
   "metadata": {}
  },
  {
   "outputs": [
    {
     "output_type": "execute_result",
     "data": {
      "text/plain": "ConstraintTrees.Tree{Vector{Float64}} with 95 elements:\n  :ACALD                    => [-0.0383258, -0.0140685, -0.00782577, -0.0108864…\n  :ACALDt                   => [-0.0303119, -0.00748169, -0.00211454, -0.002433…\n  :ACKr                     => [-0.0200159, -0.0143888, -0.0137427, -0.00950893…\n  :ACONTa                   => [6.04061, 6.18553, 6.04403, 6.08014, 6.11182, 5.…\n  :ACONTb                   => [6.04061, 6.18553, 6.04403, 6.08014, 6.11182, 5.…\n  :ACt2r                    => [-0.0200159, -0.0143888, -0.0137427, -0.00950893…\n  :ADK1                     => [0.0250064, 0.0222273, 0.0216755, 0.031724, 0.02…\n  :AKGDH                    => [4.56325, 4.88352, 4.50277, 5.04056, 4.59517, 4.…\n  :AKGt2r                   => [-0.00142612, -0.00135569, -0.00126696, -0.00247…\n  :ALCD2x                   => [-0.00801391, -0.00658685, -0.00571123, -0.00845…\n  :ATPM                     => [8.4028, 8.45058, 8.44733, 8.48244, 8.45076, 8.4…\n  :ATPS4r                   => [45.0957, 45.1076, 45.3166, 45.4246, 45.1333, 45…\n  :BIOMASS_Ecoli_core_w_GAM => [0.865404, 0.865397, 0.865381, 0.86549, 0.865374…\n  :CO2t                     => [-22.9321, -22.9272, -22.9677, -22.8915, -22.962…\n  :CS                       => [6.04061, 6.18553, 6.04403, 6.08014, 6.11182, 5.…\n  :CYTBD                    => [43.8845, 43.9171, 43.9915, 43.8523, 43.9722, 43…\n  :D_LACt2                  => [-0.00516316, -0.0102496, -0.0101927, -0.0156004…\n  :ENO                      => [14.7386, 14.8635, 14.711, 14.7702, 14.7866, 14.…\n  :ETOHt2r                  => [-0.00801391, -0.00658685, -0.00571123, -0.00845…\n  ⋮                         => ⋮"
     },
     "metadata": {},
     "execution_count": 2
    }
   ],
   "cell_type": "code",
   "source": [
    "s = flux_sample(\n",
    "    model,\n",
    "    optimizer = HiGHS.Optimizer,\n",
    "    objective_bound = relative_tolerance_bound(0.99),\n",
    "    n_chains = 2,\n",
    "    collect_iterations = [10],\n",
    ")"
   ],
   "metadata": {},
   "execution_count": 2
  },
  {
   "cell_type": "markdown",
   "source": [
    "The result is a tree of vectors of sampled states for each value; the order\n",
    "of the values in these vectors is fixed. You can thus e.g. create a good\n",
    "matrix for plotting the sample as 2D scatterplot:"
   ],
   "metadata": {}
  },
  {
   "outputs": [
    {
     "output_type": "execute_result",
     "data": {
      "text/plain": "380×2 Matrix{Float64}:\n 21.9422  -22.9321\n 21.9586  -22.9272\n 21.9958  -22.9677\n 21.9262  -22.8915\n 21.9861  -22.962\n 21.9736  -22.9467\n 22.0027  -22.9845\n 21.9902  -22.9659\n 22.0208  -22.9999\n 22.0128  -22.9902\n  ⋮       \n 21.917   -22.878\n 21.9524  -22.922\n 21.9328  -22.9106\n 21.9545  -22.9001\n 21.9471  -22.9162\n 21.9588  -22.9268\n 21.9746  -22.9516\n 21.9937  -22.9622\n 21.956   -22.921"
     },
     "metadata": {},
     "execution_count": 3
    }
   ],
   "cell_type": "code",
   "source": [
    "[s.O2t s.CO2t]"
   ],
   "metadata": {},
   "execution_count": 3
  },
  {
   "cell_type": "markdown",
   "source": [
    "---\n",
    "\n",
    "*This notebook was generated using [Literate.jl](https://github.com/fredrikekre/Literate.jl).*"
   ],
   "metadata": {}
  }
 ],
 "nbformat_minor": 3,
 "metadata": {
  "language_info": {
   "file_extension": ".jl",
   "mimetype": "application/julia",
   "name": "julia",
   "version": "1.11.2"
  },
  "kernelspec": {
   "name": "julia-1.11",
   "display_name": "Julia 1.11.2",
   "language": "julia"
  }
 },
 "nbformat": 4
}
