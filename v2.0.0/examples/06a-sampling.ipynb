{
 "cells": [
  {
   "cell_type": "markdown",
   "source": [
    "# Flux sampling\n",
    "\n",
    "Flux sampling gives an interesting statistical insight into the behavior of\n",
    "the model in the optimal feasible space, and the general \"shape\" of the\n",
    "optimal- or near-optimal set of feasible states of a given model."
   ],
   "metadata": {}
  },
  {
   "cell_type": "markdown",
   "source": [
    "For demonstration, we need the usual packages and models:"
   ],
   "metadata": {}
  },
  {
   "outputs": [
    {
     "name": "stdout",
     "output_type": "stream",
     "text": [
      "[ Info: using cached `e_coli_core.json'\n"
     ]
    },
    {
     "output_type": "execute_result",
     "data": {
      "text/plain": "JSONFBCModels.JSONFBCModel(#= 95 reactions, 72 metabolites =#)"
     },
     "metadata": {},
     "execution_count": 1
    }
   ],
   "cell_type": "code",
   "source": [
    "using COBREXA\n",
    "\n",
    "download_model(\n",
    "    \"http://bigg.ucsd.edu/static/models/e_coli_core.json\",\n",
    "    \"e_coli_core.json\",\n",
    "    \"7bedec10576cfe935b19218dc881f3fb14f890a1871448fc19a9b4ee15b448d8\",\n",
    ")\n",
    "\n",
    "import JSONFBCModels, GLPK\n",
    "\n",
    "model = load_model(\"e_coli_core.json\")"
   ],
   "metadata": {},
   "execution_count": 1
  },
  {
   "cell_type": "markdown",
   "source": [
    "Function `flux_sample` uses linear optimization to generate a set of\n",
    "warm-up points (by default, the method to generate the warm-up is basically\n",
    "FVA), and then runs the hit-and-run flux sampling algorithm on the\n",
    "near-optimal feasible space of the model:"
   ],
   "metadata": {}
  },
  {
   "outputs": [
    {
     "output_type": "execute_result",
     "data": {
      "text/plain": "ConstraintTrees.Tree{Vector{Float64}} with 95 elements:\n  :ACALD                    => [-0.0175504, -0.0143268, -0.0176964, -0.0114186,…\n  :ACALDt                   => [-0.0115594, -0.00540153, -0.0091877, -0.0062317…\n  :ACKr                     => [-0.015032, -0.0144167, -0.0168815, -0.0148819, …\n  :ACONTa                   => [6.09532, 6.18907, 6.10788, 6.13711, 6.12996, 6.…\n  :ACONTb                   => [6.09532, 6.18907, 6.10788, 6.13711, 6.12996, 6.…\n  :ACt2r                    => [-0.015032, -0.0144167, -0.0168815, -0.0148819, …\n  :ADK1                     => [0.0449789, 0.0376177, 0.0324111, 0.0171667, 0.0…\n  :AKGDH                    => [4.71939, 4.89115, 4.72684, 4.77175, 4.70205, 4.…\n  :AKGt2r                   => [-0.00212793, -0.00186829, -0.00110948, -0.00235…\n  :ALCD2x                   => [-0.005991, -0.00892531, -0.00850867, -0.0051868…\n  :ATPM                     => [8.44136, 8.42247, 8.39654, 8.46336, 8.41754, 8.…\n  :ATPS4r                   => [45.2069, 44.9993, 45.0792, 45.1472, 45.0985, 45…\n  :BIOMASS_Ecoli_core_w_GAM => [0.866115, 0.866201, 0.866088, 0.866128, 0.86597…\n  :CO2t                     => [-22.916, -22.9132, -22.9159, -22.9219, -22.9252…\n  :CS                       => [6.09532, 6.18907, 6.10788, 6.13711, 6.12996, 6.…\n  :CYTBD                    => [43.8824, 43.8765, 43.8698, 43.9123, 43.9117, 43…\n  :D_LACt2                  => [-0.0123899, -0.0105622, -0.0107508, -0.0102167,…\n  :ENO                      => [14.7807, 14.872, 14.7948, 14.8152, 14.8055, 14.…\n  :ETOHt2r                  => [-0.005991, -0.00892531, -0.00850867, -0.0051868…\n  ⋮                         => ⋮"
     },
     "metadata": {},
     "execution_count": 2
    }
   ],
   "cell_type": "code",
   "source": [
    "s = flux_sample(\n",
    "    model,\n",
    "    optimizer = GLPK.Optimizer,\n",
    "    objective_bound = relative_tolerance_bound(0.99),\n",
    "    n_chains = 2,\n",
    "    collect_iterations = [10],\n",
    ")"
   ],
   "metadata": {},
   "execution_count": 2
  },
  {
   "cell_type": "markdown",
   "source": [
    "The result is a tree of vectors of sampled states for each value; the order\n",
    "of the values in these vectors is fixed. You can thus e.g. create a good\n",
    "matrix for plotting the sample as 2D scatterplot:"
   ],
   "metadata": {}
  },
  {
   "outputs": [
    {
     "output_type": "execute_result",
     "data": {
      "text/plain": "380×2 Matrix{Float64}:\n 21.9412  -22.916\n 21.9382  -22.9132\n 21.9349  -22.9159\n 21.9562  -22.9219\n 21.9558  -22.9252\n 21.9468  -22.9216\n 21.9355  -22.91\n 21.8973  -22.8692\n 21.921   -22.892\n 21.9259  -22.8983\n  ⋮       \n 21.98    -22.962\n 21.9373  -22.9218\n 21.9155  -22.9022\n 21.9181  -22.9077\n 21.8936  -22.8754\n 21.9405  -22.9159\n 21.9445  -22.9196\n 21.8856  -22.8645\n 21.939   -22.9186"
     },
     "metadata": {},
     "execution_count": 3
    }
   ],
   "cell_type": "code",
   "source": [
    "[s.O2t s.CO2t]"
   ],
   "metadata": {},
   "execution_count": 3
  },
  {
   "cell_type": "markdown",
   "source": [
    "---\n",
    "\n",
    "*This notebook was generated using [Literate.jl](https://github.com/fredrikekre/Literate.jl).*"
   ],
   "metadata": {}
  }
 ],
 "nbformat_minor": 3,
 "metadata": {
  "language_info": {
   "file_extension": ".jl",
   "mimetype": "application/julia",
   "name": "julia",
   "version": "1.9.4"
  },
  "kernelspec": {
   "name": "julia-1.9",
   "display_name": "Julia 1.9.4",
   "language": "julia"
  }
 },
 "nbformat": 4
}
