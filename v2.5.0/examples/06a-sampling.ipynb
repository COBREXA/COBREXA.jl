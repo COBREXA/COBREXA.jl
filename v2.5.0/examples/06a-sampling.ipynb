{
 "cells": [
  {
   "cell_type": "markdown",
   "source": [
    "# Flux sampling\n",
    "\n",
    "Flux sampling gives an interesting statistical insight into the behavior of\n",
    "the model in the optimal feasible space, and the general \"shape\" of the\n",
    "optimal- or near-optimal set of feasible states of a given model."
   ],
   "metadata": {}
  },
  {
   "cell_type": "markdown",
   "source": [
    "For demonstration, we need the usual packages and models:"
   ],
   "metadata": {}
  },
  {
   "outputs": [
    {
     "name": "stdout",
     "output_type": "stream",
     "text": [
      "[ Info: using cached `e_coli_core.json'\n"
     ]
    },
    {
     "output_type": "execute_result",
     "data": {
      "text/plain": "JSONFBCModels.JSONFBCModel(#= 95 reactions, 72 metabolites =#)"
     },
     "metadata": {},
     "execution_count": 1
    }
   ],
   "cell_type": "code",
   "source": [
    "using COBREXA\n",
    "\n",
    "download_model(\n",
    "    \"http://bigg.ucsd.edu/static/models/e_coli_core.json\",\n",
    "    \"e_coli_core.json\",\n",
    "    \"7bedec10576cfe935b19218dc881f3fb14f890a1871448fc19a9b4ee15b448d8\",\n",
    ")\n",
    "\n",
    "import JSONFBCModels, HiGHS\n",
    "\n",
    "model = load_model(\"e_coli_core.json\")"
   ],
   "metadata": {},
   "execution_count": 1
  },
  {
   "cell_type": "markdown",
   "source": [
    "Function `flux_sample` uses linear optimization to generate a set of\n",
    "warm-up points (by default, the method to generate the warm-up is basically\n",
    "FVA), and then runs the hit-and-run flux sampling algorithm on the\n",
    "near-optimal feasible space of the model:"
   ],
   "metadata": {}
  },
  {
   "outputs": [
    {
     "output_type": "execute_result",
     "data": {
      "text/plain": "ConstraintTrees.Tree{Vector{Float64}} with 95 elements:\n  :ACALD                    => [-0.0516216, -0.0151977, -0.0128879, -0.0159591,…\n  :ACALDt                   => [-0.043273, -0.00490244, -0.00237364, -0.0047374…\n  :ACKr                     => [-0.0122754, -0.0175393, -0.0180297, -0.0110306,…\n  :ACONTa                   => [6.04681, 6.05718, 6.06927, 6.08432, 6.05636, 5.…\n  :ACONTb                   => [6.04681, 6.05718, 6.06927, 6.08432, 6.05636, 5.…\n  :ACt2r                    => [-0.0122754, -0.0175393, -0.0180297, -0.0110306,…\n  :ADK1                     => [0.0291547, 0.0358264, 0.0393285, 0.0625241, 0.0…\n  :AKGDH                    => [4.6036, 4.48827, 4.5131, 4.40424, 4.42992, 4.28…\n  :AKGt2r                   => [-0.00162269, -0.00239381, -0.00251751, -0.00110…\n  :ALCD2x                   => [-0.00834863, -0.0102952, -0.0105143, -0.0112217…\n  :ATPM                     => [8.41212, 8.42757, 8.43011, 8.40918, 8.43031, 8.…\n  :ATPS4r                   => [45.1349, 45.1841, 45.1687, 45.1018, 45.1932, 45…\n  :BIOMASS_Ecoli_core_w_GAM => [0.86546, 0.865408, 0.865397, 0.865324, 0.865351…\n  :CO2t                     => [-22.9169, -22.9275, -22.9186, -22.9324, -22.929…\n  :CS                       => [6.04681, 6.05718, 6.06927, 6.08432, 6.05636, 5.…\n  :CYTBD                    => [43.841, 43.9188, 43.9118, 43.9285, 43.9277, 43.…\n  :D_LACt2                  => [-0.0058554, -0.00868872, -0.00897713, -0.010827…\n  :ENO                      => [14.7505, 14.7384, 14.7499, 14.7669, 14.7355, 14…\n  :ETOHt2r                  => [-0.00834863, -0.0102952, -0.0105143, -0.0112217…\n  ⋮                         => ⋮"
     },
     "metadata": {},
     "execution_count": 2
    }
   ],
   "cell_type": "code",
   "source": [
    "s = flux_sample(\n",
    "    model,\n",
    "    optimizer = HiGHS.Optimizer,\n",
    "    objective_bound = relative_tolerance_bound(0.99),\n",
    "    n_chains = 2,\n",
    "    collect_iterations = [10],\n",
    ")"
   ],
   "metadata": {},
   "execution_count": 2
  },
  {
   "cell_type": "markdown",
   "source": [
    "The result is a tree of vectors of sampled states for each value; the order\n",
    "of the values in these vectors is fixed. You can thus e.g. create a good\n",
    "matrix for plotting the sample as 2D scatterplot:"
   ],
   "metadata": {}
  },
  {
   "outputs": [
    {
     "output_type": "execute_result",
     "data": {
      "text/plain": "380×2 Matrix{Float64}:\n 21.9205  -22.9169\n 21.9594  -22.9275\n 21.9559  -22.9186\n 21.9643  -22.9324\n 21.9639  -22.9291\n 21.9663  -22.9268\n 21.9577  -22.9232\n 21.9448  -22.926\n 21.9656  -22.9297\n 21.954   -22.919\n  ⋮       \n 21.9702  -22.9526\n 21.97    -22.9522\n 21.9925  -22.987\n 21.9661  -22.9437\n 21.9701  -22.9527\n 21.9698  -22.952\n 21.9864  -22.9617\n 21.9741  -22.9567\n 21.9417  -22.917"
     },
     "metadata": {},
     "execution_count": 3
    }
   ],
   "cell_type": "code",
   "source": [
    "[s.O2t s.CO2t]"
   ],
   "metadata": {},
   "execution_count": 3
  },
  {
   "cell_type": "markdown",
   "source": [
    "---\n",
    "\n",
    "*This notebook was generated using [Literate.jl](https://github.com/fredrikekre/Literate.jl).*"
   ],
   "metadata": {}
  }
 ],
 "nbformat_minor": 3,
 "metadata": {
  "language_info": {
   "file_extension": ".jl",
   "mimetype": "application/julia",
   "name": "julia",
   "version": "1.11.2"
  },
  "kernelspec": {
   "name": "julia-1.11",
   "display_name": "Julia 1.11.2",
   "language": "julia"
  }
 },
 "nbformat": 4
}
