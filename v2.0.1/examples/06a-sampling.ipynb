{
 "cells": [
  {
   "cell_type": "markdown",
   "source": [
    "# Flux sampling\n",
    "\n",
    "Flux sampling gives an interesting statistical insight into the behavior of\n",
    "the model in the optimal feasible space, and the general \"shape\" of the\n",
    "optimal- or near-optimal set of feasible states of a given model."
   ],
   "metadata": {}
  },
  {
   "cell_type": "markdown",
   "source": [
    "For demonstration, we need the usual packages and models:"
   ],
   "metadata": {}
  },
  {
   "outputs": [
    {
     "name": "stdout",
     "output_type": "stream",
     "text": [
      "[ Info: using cached `e_coli_core.json'\n"
     ]
    },
    {
     "output_type": "execute_result",
     "data": {
      "text/plain": "JSONFBCModels.JSONFBCModel(#= 95 reactions, 72 metabolites =#)"
     },
     "metadata": {},
     "execution_count": 1
    }
   ],
   "cell_type": "code",
   "source": [
    "using COBREXA\n",
    "\n",
    "download_model(\n",
    "    \"http://bigg.ucsd.edu/static/models/e_coli_core.json\",\n",
    "    \"e_coli_core.json\",\n",
    "    \"7bedec10576cfe935b19218dc881f3fb14f890a1871448fc19a9b4ee15b448d8\",\n",
    ")\n",
    "\n",
    "import JSONFBCModels, GLPK\n",
    "\n",
    "model = load_model(\"e_coli_core.json\")"
   ],
   "metadata": {},
   "execution_count": 1
  },
  {
   "cell_type": "markdown",
   "source": [
    "Function `flux_sample` uses linear optimization to generate a set of\n",
    "warm-up points (by default, the method to generate the warm-up is basically\n",
    "FVA), and then runs the hit-and-run flux sampling algorithm on the\n",
    "near-optimal feasible space of the model:"
   ],
   "metadata": {}
  },
  {
   "outputs": [
    {
     "output_type": "execute_result",
     "data": {
      "text/plain": "ConstraintTrees.Tree{Vector{Float64}} with 95 elements:\n  :ACALD                    => [-0.0350097, -0.0136133, -0.012499, -0.0182032, …\n  :ACALDt                   => [-0.0294701, -0.00299026, -0.00159082, -0.002450…\n  :ACKr                     => [-0.0144751, -0.0162817, -0.0159273, -0.0303649,…\n  :ACONTa                   => [6.06587, 6.07472, 6.06532, 6.24197, 6.04315, 5.…\n  :ACONTb                   => [6.06587, 6.07472, 6.06532, 6.24197, 6.04315, 5.…\n  :ACt2r                    => [-0.0144751, -0.0162817, -0.0159273, -0.0303649,…\n  :ADK1                     => [0.0189977, 0.0365564, 0.0415218, 0.0254893, 0.0…\n  :AKGDH                    => [4.60486, 4.63761, 4.6861, 5.08099, 4.61196, 4.3…\n  :AKGt2r                   => [-0.00188528, -0.00186246, -0.00213134, -0.00096…\n  :ALCD2x                   => [-0.00553965, -0.0106231, -0.0109081, -0.0157524…\n  :ATPM                     => [8.39636, 8.39709, 8.39712, 8.4018, 8.39753, 8.3…\n  :ATPS4r                   => [45.1222, 45.1703, 45.2054, 44.7909, 45.1764, 45…\n  :BIOMASS_Ecoli_core_w_GAM => [0.865966, 0.865907, 0.865851, 0.866084, 0.86592…\n  :CO2t                     => [-22.9178, -22.9181, -22.9034, -22.8296, -22.885…\n  :CS                       => [6.06587, 6.07472, 6.06532, 6.24197, 6.04315, 5.…\n  :CYTBD                    => [43.8553, 43.889, 43.8725, 43.719, 43.814, 43.95…\n  :D_LACt2                  => [-0.00616302, -0.00971178, -0.0107908, -0.013296…\n  :ENO                      => [14.7609, 14.7546, 14.7451, 14.9472, 14.7424, 14…\n  :ETOHt2r                  => [-0.00553965, -0.0106231, -0.0109081, -0.0157524…\n  ⋮                         => ⋮"
     },
     "metadata": {},
     "execution_count": 2
    }
   ],
   "cell_type": "code",
   "source": [
    "s = flux_sample(\n",
    "    model,\n",
    "    optimizer = GLPK.Optimizer,\n",
    "    objective_bound = relative_tolerance_bound(0.99),\n",
    "    n_chains = 2,\n",
    "    collect_iterations = [10],\n",
    ")"
   ],
   "metadata": {},
   "execution_count": 2
  },
  {
   "cell_type": "markdown",
   "source": [
    "The result is a tree of vectors of sampled states for each value; the order\n",
    "of the values in these vectors is fixed. You can thus e.g. create a good\n",
    "matrix for plotting the sample as 2D scatterplot:"
   ],
   "metadata": {}
  },
  {
   "outputs": [
    {
     "output_type": "execute_result",
     "data": {
      "text/plain": "380×2 Matrix{Float64}:\n 21.9276  -22.9178\n 21.9445  -22.9181\n 21.9362  -22.9034\n 21.8595  -22.8296\n 21.907   -22.8854\n 21.9773  -22.9549\n 21.9458  -22.9162\n 21.9425  -22.9123\n 21.9379  -22.9064\n 21.9382  -22.9109\n  ⋮       \n 21.9298  -22.8975\n 21.9258  -22.9062\n 21.9211  -22.8904\n 21.8994  -22.8644\n 21.9302  -22.8997\n 21.9339  -22.9079\n 21.9282  -22.9007\n 21.9365  -22.9058\n 21.8719  -22.8227"
     },
     "metadata": {},
     "execution_count": 3
    }
   ],
   "cell_type": "code",
   "source": [
    "[s.O2t s.CO2t]"
   ],
   "metadata": {},
   "execution_count": 3
  },
  {
   "cell_type": "markdown",
   "source": [
    "---\n",
    "\n",
    "*This notebook was generated using [Literate.jl](https://github.com/fredrikekre/Literate.jl).*"
   ],
   "metadata": {}
  }
 ],
 "nbformat_minor": 3,
 "metadata": {
  "language_info": {
   "file_extension": ".jl",
   "mimetype": "application/julia",
   "name": "julia",
   "version": "1.9.4"
  },
  "kernelspec": {
   "name": "julia-1.9",
   "display_name": "Julia 1.9.4",
   "language": "julia"
  }
 },
 "nbformat": 4
}
